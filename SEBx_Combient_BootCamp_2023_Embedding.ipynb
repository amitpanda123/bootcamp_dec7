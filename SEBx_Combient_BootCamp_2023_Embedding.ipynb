{
 "cells": [
  {
   "cell_type": "markdown",
   "metadata": {
    "id": "FkZyvXSmxl3S"
   },
   "source": [
    "# Generative AI - SEBx & Combient Hackathon December 2023"
   ]
  },
  {
   "cell_type": "markdown",
   "metadata": {
    "id": "-FflnrWlYmoZ"
   },
   "source": [
    "> **`Run and execute each code cell block in the notebook in a consecutive manner. This is important since some code cell blocks relies on having properly executed some previous code cell block.`**\n",
    ">\n",
    ">\n",
    "> Notebook code blocks can be executed via either:\n",
    "> * **shift + enter**: executes current code block and moves to the cell below\n",
    "> * **control + enter**: executes current code block"
   ]
  },
  {
   "cell_type": "markdown",
   "metadata": {
    "id": "uczbePAtomja"
   },
   "source": [
    "## Environment setup\n",
    "\n",
    "Here we set up the environment and make sure we can access data via Google Drive. Run the below code blocks to install necessary packages."
   ]
  },
  {
   "cell_type": "markdown",
   "metadata": {
    "id": "PVAlM-i8pnK7"
   },
   "source": [
    "Run the code below to clone the GenAI_BootCamp2023 directory which contains files which we will be using during this course. The code clones a directory called GenAI_BootCamp2023 from our Github repository."
   ]
  },
  {
   "cell_type": "markdown",
   "metadata": {
    "id": "_a83ptAEpnK7"
   },
   "source": [
    "> **`During execution of this cell block you will be prompted to provide your GDrive access to download the course content. Use your Google account credentials to allow this action.`**"
   ]
  },
  {
   "cell_type": "markdown",
   "metadata": {},
   "source": [
    "## Packages and Imports"
   ]
  },
  {
   "cell_type": "code",
   "execution_count": null,
   "metadata": {},
   "outputs": [],
   "source": [
    "!pip install -q cohere \\\n",
    "    -q tiktoken \\\n",
    "    -q langchain \\\n",
    "    -q sentence_transformers \\\n",
    "    -q openai \\\n",
    "    -q faiss-cpu \\\n",
    "    -q colorama \\\n",
    "    -q pypdf \\\n",
    "    -q PyMuPDF \\\n",
    "    -q requests \\\n",
    "    -q beautifulsoup4 \\\n",
    "    -q umap-learn \\\n",
    "    -q mycolorpy \\\n",
    "    -q pandas \\\n",
    "    -q plotly \\\n",
    "    -q seaborn"
   ]
  },
  {
   "cell_type": "code",
   "execution_count": null,
   "metadata": {},
   "outputs": [],
   "source": [
    "# Some system and base modules\n",
    "import os\n",
    "import sys\n",
    "from timeit import default_timer as timer\n",
    "from typing import List, Optional, Type\n",
    "import getpass\n",
    "\n",
    "# NLP modules\n",
    "import openai\n",
    "from openai import OpenAI\n",
    "import langchain\n",
    "from langchain.embeddings import HuggingFaceEmbeddings\n",
    "from langchain.docstore.document import Document\n",
    "from langchain.text_splitter import RecursiveCharacterTextSplitter, CharacterTextSplitter\n",
    "from langchain.document_loaders import PyPDFLoader, JSONLoader\n",
    "import fitz\n",
    "from langchain.vectorstores import FAISS\n",
    "from langchain.chat_models import ChatOpenAI\n",
    "import requests\n",
    "from bs4 import BeautifulSoup\n",
    "\n",
    "# Other modules\n",
    "import numpy as np\n",
    "import pandas as pd\n",
    "import umap\n",
    "from colorama import Fore, Back, Style\n",
    "\n",
    "\n",
    "# modules for plotting\n",
    "import matplotlib.pyplot as plt\n",
    "import matplotlib.lines as mlines\n",
    "from mycolorpy import colorlist as mcp\n",
    "from mpl_toolkits.mplot3d import Axes3D\n",
    "import plotly.express as px\n",
    "import seaborn as sns\n",
    "%matplotlib inline"
   ]
  },
  {
   "cell_type": "markdown",
   "metadata": {
    "id": "dLtHvH5ZpnK-"
   },
   "source": [
    "## Setting the access key for OpenAI API"
   ]
  },
  {
   "cell_type": "markdown",
   "metadata": {
    "id": "DtTEx0QSpnK-"
   },
   "source": [
    "> **NB: Don't share the OpenAI access key in public spaces.**"
   ]
  },
  {
   "cell_type": "markdown",
   "metadata": {
    "id": "SHjg3TzspnK_"
   },
   "source": [
    "> **The OpenAI API key can be set manually in the notebook by running the code cell block below.**\n",
    ">\n",
    "> **`A query box will appear the first time you run the below code cell block. Paste the OpenAI API key which you have been provided into the query box and press Enter/Return (access key is on the form sk-...)`**"
   ]
  },
  {
   "cell_type": "code",
   "execution_count": null,
   "metadata": {
    "colab": {
     "base_uri": "https://localhost:8080/"
    },
    "id": "z5fmIpfSpnK_",
    "outputId": "d942846d-97a2-43d1-8300-c3c302e542e7"
   },
   "outputs": [],
   "source": [
    "# Here we can set the OpenAI API access key manually in case it fails to load from the environment.\n",
    "if not os.environ.get(\"OPENAI_API_KEY\"):\n",
    "  api_key = getpass.getpass(\"Enter OpenAI API Key here\")\n",
    "  os.environ[\"OPENAI_API_KEY\"] = api_key\n",
    "else:\n",
    "  print(f\"OPENAI_API_KEY fetched from environment!\")\n",
    "\n",
    "\n",
    "# sk-..."
   ]
  },
  {
   "cell_type": "code",
   "execution_count": null,
   "metadata": {
    "id": "JQJWnMDwtU5k"
   },
   "outputs": [],
   "source": [
    "# You can optionally manually insert the OpenAI API key below between the quotation marks.\n",
    "# Then uncomment the following two lines by removing the preceeding # and run the cell\n",
    "\n",
    "#os.environ[\"OPENAI_API_KEY\"] = \"sk-...\"\n",
    "#print(f\"The Open AI access key is given by: \\n\\n {os.environ['OPENAI_API_KEY']}\")"
   ]
  },
  {
   "cell_type": "code",
   "execution_count": null,
   "metadata": {
    "id": "d48MRBCTuDQI"
   },
   "outputs": [],
   "source": [
    "# The following helps to format print output to match the size of the browser window\n",
    "from IPython.display import HTML, display\n",
    "\n",
    "def set_css():\n",
    "  display(HTML('''\n",
    "  <style>\n",
    "    pre {\n",
    "        white-space: pre-wrap;\n",
    "    }\n",
    "  </style>\n",
    "  '''))\n",
    "get_ipython().events.register('pre_run_cell', set_css)"
   ]
  },
  {
   "cell_type": "markdown",
   "metadata": {
    "id": "Pbd3QTcvtAtT"
   },
   "source": [
    "# Hands-On 2: Introduction to Embeddings & Vector index storage"
   ]
  },
  {
   "cell_type": "markdown",
   "metadata": {
    "id": "2C-vlqsEmCkS"
   },
   "source": [
    "Some text here for introducing embeddings and vector stores ..."
   ]
  },
  {
   "cell_type": "markdown",
   "metadata": {
    "id": "tYFAQzJ-l5w6"
   },
   "source": [
    "## Getting arXiv data & illustrating basic embedding concepts"
   ]
  },
  {
   "cell_type": "markdown",
   "metadata": {
    "id": "m1CfwSPll5kE"
   },
   "source": [
    "We will start by collecting scientific abstracts from [arXiv](https://arxiv.org). We collevct these by fetching from their new releases section, which provides the daily deluge of preprint articles in various STEM subjects."
   ]
  },
  {
   "cell_type": "markdown",
   "metadata": {
    "id": "RWZ9zwyzEs-V"
   },
   "source": [
    "Below we try out the function to see the output from a single article."
   ]
  },
  {
   "cell_type": "code",
   "execution_count": null,
   "metadata": {},
   "outputs": [],
   "source": [
    "def fetch_arxiv_data(url, subject):\n",
    "    \"\"\"\n",
    "    Function for fetching articles from the arXiv. Expects a url pointing to the daily relese site of arXiv topics.\n",
    "    Returns a list of dictionaries containing 'title', 'abstract' and 'arxiv_topic'.\n",
    "    \"\"\"\n",
    "    response = requests.get(url)\n",
    "    if response.status_code != 200:\n",
    "        print('Failed to retrieve data from', url)\n",
    "        return []\n",
    "\n",
    "    soup = BeautifulSoup(response.content, 'html.parser')\n",
    "    papers = []\n",
    "\n",
    "    cnt_found=0\n",
    "    cnt_not_found=0\n",
    "    for item in soup.find_all('div', class_='meta'):\n",
    "      # We only extract info from articles with abstract in the listing. This includes cross-topic listings\n",
    "      try:\n",
    "        title = item.find('div', class_='list-title mathjax').text.replace('Title:', '').strip()\n",
    "        abstract = item.find('p', class_='mathjax').text.strip()\n",
    "        arxiv_topic = item.find('span', class_='primary-subject').text.strip()\n",
    "        papers.append({'title': title, 'abstract': abstract, 'arxiv_topic': arxiv_topic, 'subject': subject})\n",
    "        cnt_found+=1\n",
    "      # We do not try to get abstract from replacements\n",
    "      except:\n",
    "        #print(f\"NO ABSTRACT FOUND, DUE TO ARTICLE BEING A REPLACEMENT OF EARLIER SUBMISSION\")\n",
    "        cnt_not_found+=1\n",
    "\n",
    "    print(f\"Extracted abstract for {cnt_found} new articles from {subject}.\\nThis excludes {cnt_not_found} replacements.\")\n",
    "\n",
    "    return papers"
   ]
  },
  {
   "cell_type": "code",
   "execution_count": null,
   "metadata": {
    "colab": {
     "base_uri": "https://localhost:8080/",
     "height": 374
    },
    "id": "WIkFtDrbUnLx",
    "outputId": "1e9c3f31-c96b-4786-c970-15f97be48652"
   },
   "outputs": [],
   "source": [
    "# Example usage\n",
    "url = 'https://arxiv.org/list/gr-qc/new'  # URL for the General Relativity and Quantum Cosmology section\n",
    "papers = fetch_arxiv_data(url, subject=\"gr-qc\")\n",
    "\n",
    "# Print the first few papers\n",
    "for paper in papers[:1]:\n",
    "    print(\"\")\n",
    "    print(Style.BRIGHT + 'Title:' + Style.RESET_ALL, paper['title'])\n",
    "    print(Style.BRIGHT + 'Abstract:' + Style.RESET_ALL, paper['abstract'])\n",
    "    print(Style.BRIGHT + 'arXiv Topic:' + Style.RESET_ALL, paper['arxiv_topic'])\n",
    "    print(Style.BRIGHT + 'arXiv Subject:' + Style.RESET_ALL, paper['subject'])\n",
    "    print('---')"
   ]
  },
  {
   "cell_type": "code",
   "execution_count": null,
   "metadata": {
    "colab": {
     "base_uri": "https://localhost:8080/",
     "height": 624
    },
    "id": "nxrkRBb2UnOI",
    "outputId": "b6415adb-0139-451d-9073-774b2dd505d1"
   },
   "outputs": [],
   "source": [
    "# Let's do it for all arXiv subjects\n",
    "subjects = [\n",
    "    \"astro-ph\",\n",
    "    \"gr-qc\",\n",
    "    \"cond-mat\",\n",
    "    \"quant-ph\",\n",
    "    \"hep-th\",\n",
    "    \"hep-ph\",\n",
    "    \"hep-ex\",\n",
    "    \"hep-lat\",\n",
    "    \"nucl-ex\",\n",
    "    \"nucl-th\",\n",
    "    \"nlin\",\n",
    "    \"math-ph\",\n",
    "    \"math\",\n",
    "    \"cs\",\n",
    "    \"stat\",\n",
    "    \"eess\",\n",
    "    ]\n",
    "\n",
    "\n",
    "# We collect everything in a list of dictionaries\n",
    "papers_list = []\n",
    "for subject in subjects:\n",
    "  papers_subject = fetch_arxiv_data(f\"https://arxiv.org/list/{subject}/new\", subject=subject)\n",
    "  for paper in papers_subject:\n",
    "    papers_list.append(paper)\n",
    "\n",
    "print(\"\")\n",
    "print(f\"We extracted a total of {len(papers_list)} abstracts\")"
   ]
  },
  {
   "cell_type": "code",
   "execution_count": null,
   "metadata": {
    "colab": {
     "base_uri": "https://localhost:8080/",
     "height": 356
    },
    "id": "F9hgqNxqlUfb",
    "outputId": "aefeb6e9-a8e5-4200-97bc-951f3c17d785"
   },
   "outputs": [],
   "source": [
    "# Print the first few papers\n",
    "for paper in papers_list[:1]:\n",
    "    print(Style.BRIGHT + 'Title:' + Style.RESET_ALL, paper['title'])\n",
    "    print(Style.BRIGHT + 'Abstract:' + Style.RESET_ALL, paper['abstract'])\n",
    "    print(Style.BRIGHT + 'arXiv Topic:' + Style.RESET_ALL, paper['arxiv_topic'])\n",
    "    print(Style.BRIGHT + 'arXiv Subject:' + Style.RESET_ALL, paper['subject'])\n",
    "    print('---')"
   ]
  },
  {
   "cell_type": "markdown",
   "metadata": {
    "id": "jHFv3J7euWBk"
   },
   "source": [
    "### Checking lengths of retrieved abstracts"
   ]
  },
  {
   "cell_type": "code",
   "execution_count": null,
   "metadata": {
    "colab": {
     "base_uri": "https://localhost:8080/",
     "height": 53
    },
    "id": "LbXP7E5zfiLV",
    "outputId": "ffbc67af-9363-4488-8e25-6e622f80c858"
   },
   "outputs": [],
   "source": [
    "abstract_lengths = []\n",
    "for paper in papers_list:\n",
    "  abstract_lengths.append(len(paper[\"abstract\"]))\n",
    "\n",
    "abstract_lengths.sort(reverse=True)\n",
    "print(\"We print out the lengths of the 10 longest abstracts\")\n",
    "abstract_lengths[:10]"
   ]
  },
  {
   "cell_type": "markdown",
   "metadata": {
    "id": "LJclcVHPA-bp"
   },
   "source": [
    "### Embedding models"
   ]
  },
  {
   "cell_type": "code",
   "execution_count": null,
   "metadata": {
    "colab": {
     "base_uri": "https://localhost:8080/",
     "height": 17
    },
    "id": "J9X8hL-TA9An",
    "outputId": "32207676-cc46-4813-f11d-acc27385bfda"
   },
   "outputs": [],
   "source": [
    "# For embeddings we use models on the MTEB leaderboard at https://huggingface.co/spaces/mteb/leaderboard\n",
    "\n",
    "\n",
    "# Voyage, currently nr 1 (REQUIRES REGISTERING TO GET API KEY)\n",
    "#!pip install -q voyageai\n",
    "#import voyageai\n",
    "#from langchain.embeddings import VoyageEmbeddings\n",
    "#os.environ[\"VOYAGE_API_KEY\"] = \"...\"\n",
    "#voyageai.api_key = os.environ[\"VOYAGE_API_KEY\"]\n",
    "\n",
    "\n",
    "# Cohere, currently nr 2 (REQUIRES REGISTERING TO GET API KEY)\n",
    "#import cohere\n",
    "#Get your API key from www.cohere.com\n",
    "#os.environ[\"COHERE_API_KEY\"] = \"...\"\n",
    "\n",
    "\n",
    "# Open source HuggingFace embeddings, below is currently nr 3 & 12 (NO REGISTRATION REQUIRED)\n",
    "#embedding_models_HF = [\n",
    "#    \"BAAI/bge-large-en-v1.5\",\n",
    "#    \"BAAI/bge-small-en-v1.5\"\n",
    "#    ]"
   ]
  },
  {
   "cell_type": "markdown",
   "metadata": {
    "id": "ayOW8GxloKDV"
   },
   "source": [
    "We will collect our abstracts into a list of Langchain Document objects. This is not necessary for doing embeddings, but will facilitate working with vector stores later on. The Document object class has the methods `page_content`, which stores the text string, and `metadata`, where additional metadata can be stored as a dictionary with key-value pairs."
   ]
  },
  {
   "cell_type": "code",
   "execution_count": null,
   "metadata": {
    "colab": {
     "base_uri": "https://localhost:8080/",
     "height": 196
    },
    "id": "ehwJgI1yoJVP",
    "outputId": "ade90785-dc24-4ac5-b831-ccd4ad1db03c"
   },
   "outputs": [],
   "source": [
    "documents =  []\n",
    "\n",
    "for paper in papers_list:\n",
    "  doc  = Document(\n",
    "      page_content = paper[\"abstract\"],\n",
    "      metadata = {\"title\": paper[\"title\"], \"arxiv_topic\": paper[\"arxiv_topic\"], \"subject\": paper[\"subject\"]}\n",
    "  )\n",
    "  documents.append(doc)\n",
    "documents[0]"
   ]
  },
  {
   "cell_type": "markdown",
   "metadata": {
    "id": "6oisJAgFKR3W"
   },
   "source": [
    "Let's demonstrate how an embedding works by using open source embeddings for a single abstract. First let's see what the abstract looks like in plain text."
   ]
  },
  {
   "cell_type": "code",
   "execution_count": null,
   "metadata": {
    "colab": {
     "base_uri": "https://localhost:8080/",
     "height": 285
    },
    "id": "ZupVUDo1ufPU",
    "outputId": "fec5be6e-da14-47b0-cf79-259b8149dee8"
   },
   "outputs": [],
   "source": [
    "test_text = documents[0].page_content\n",
    "print(test_text)"
   ]
  },
  {
   "cell_type": "code",
   "execution_count": null,
   "metadata": {},
   "outputs": [],
   "source": [
    "def doc_embedding(\n",
    "    embedding_model: str,\n",
    "    model_kwargs: dict={'device': 'cpu'},\n",
    "    encode_kwargs: dict={'normalize_embeddings': True},\n",
    "    cache_folder: Optional[str]=None,\n",
    "    multi_process: bool=False,\n",
    "    ) -> HuggingFaceEmbeddings:\n",
    "  \"\"\"\n",
    "  TBW...\n",
    "  \"\"\"\n",
    "  embedder = HuggingFaceEmbeddings(\n",
    "      model_name = embedding_model,\n",
    "      model_kwargs = model_kwargs,\n",
    "      encode_kwargs = encode_kwargs,\n",
    "      cache_folder = cache_folder,\n",
    "      multi_process = multi_process\n",
    "  )\n",
    "  return embedder"
   ]
  },
  {
   "cell_type": "code",
   "execution_count": null,
   "metadata": {},
   "outputs": [],
   "source": [
    "def get_API_embedding(text, model=\"text-embedding-ada-002\"):\n",
    "  \"\"\"This function retrieves embedding vector from text string using various models\"\"\"\n",
    "  text = text.replace(\"\\n\", \" \")\n",
    "\n",
    "  # OpenAI embeddings\n",
    "  if model == \"text-embedding-ada-002\":\n",
    "    client = OpenAI()\n",
    "    embedding = client.embeddings.create(input = [text], model=model).data[0].embedding\n",
    "\n",
    "  # Voyage embeddings\n",
    "  elif model == 'voyage-01':\n",
    "    voyage = VoyageEmbeddings(model=model, voyage_api_key=os.environ[\"VOYAGE_API_KEY\"])\n",
    "    embedding = voyage.embed_query(text)\n",
    "\n",
    "  # Cohere embeddings\n",
    "  elif model == \"embed-english-v3.0\":\n",
    "    co = cohere.Client(os.environ[\"COHERE_API_KEY\"])\n",
    "    embedding = co.embed([text], input_type=\"search_document\", model=model).embeddings\n",
    "\n",
    "  elif model in embedding_models_HF:\n",
    "    embedder = doc_embedding(model)\n",
    "    embedding = embedder.embed_query(text)\n",
    "\n",
    "  else:\n",
    "    embedding = [None]\n",
    "\n",
    "  return embedding"
   ]
  },
  {
   "cell_type": "markdown",
   "metadata": {
    "id": "idqcaTndr6Ur"
   },
   "source": [
    "Now we call the open source embeddings from HuggingFace and check the first 10 entries of the resulting embedding vector."
   ]
  },
  {
   "cell_type": "code",
   "execution_count": null,
   "metadata": {
    "colab": {
     "base_uri": "https://localhost:8080/",
     "height": 196
    },
    "id": "ZjlOs1EqufM-",
    "outputId": "37969e16-fbab-44a4-96a5-a15d81024c72"
   },
   "outputs": [],
   "source": [
    "embedding = get_API_embedding(test_text, model=\"BAAI/bge-small-en-v1.5\")\n",
    "embedding[:10]"
   ]
  },
  {
   "cell_type": "markdown",
   "metadata": {
    "id": "obswLPAmW1la"
   },
   "source": [
    "We can now loop through all abstracts, embed them and add the embeddings to an embedding list. Later we will see how we can do this using a vector store to manage the retrieved embeddings along with additional metadata.\n",
    "\n",
    "**NB: This takes a couple of minutes to complete for all abstracts**"
   ]
  },
  {
   "cell_type": "code",
   "execution_count": null,
   "metadata": {
    "colab": {
     "base_uri": "https://localhost:8080/",
     "height": 17
    },
    "id": "tmX1GT8ZKESE",
    "outputId": "94d10e29-8f8d-4c66-b057-021c21b0de0d"
   },
   "outputs": [],
   "source": [
    "embeddings = []\n",
    "for document in documents:\n",
    "  embedding = get_API_embedding(document.page_content, model=\"BAAI/bge-small-en-v1.5\")\n",
    "  embeddings.append(embedding)\n"
   ]
  },
  {
   "cell_type": "markdown",
   "metadata": {
    "id": "4OLFee7uXE8M"
   },
   "source": [
    "Let's check the first few entries of the embedding of one article"
   ]
  },
  {
   "cell_type": "code",
   "execution_count": null,
   "metadata": {
    "colab": {
     "base_uri": "https://localhost:8080/",
     "height": 196
    },
    "id": "9WAkM4N4KEPh",
    "outputId": "9ae6a1d9-e446-4bb8-b979-0ddb943b9301"
   },
   "outputs": [],
   "source": [
    "embeddings[0][:10]"
   ]
  },
  {
   "cell_type": "markdown",
   "metadata": {
    "id": "bVaUwuSoz0A1"
   },
   "source": [
    "### Projecting embeddings using UMAP"
   ]
  },
  {
   "cell_type": "markdown",
   "metadata": {
    "id": "fYQwSdUpPetr"
   },
   "source": [
    "We will now use the [UMAP](https://umap-learn.readthedocs.io/en/latest/) library for performing projections of the embedding vectors down to 2D, preserving both local and global structure of the data."
   ]
  },
  {
   "cell_type": "markdown",
   "metadata": {
    "id": "_MMCem1JP8vW"
   },
   "source": [
    "Let's remind ourselves what the arXiv subjects are."
   ]
  },
  {
   "cell_type": "code",
   "execution_count": null,
   "metadata": {},
   "outputs": [],
   "source": [
    "import numpy as np\n",
    "# modules for plotting\n",
    "import matplotlib.pyplot as plt\n",
    "#import matplotlib.lines as mlines\n",
    "from mycolorpy import colorlist as mcp\n",
    "#from mpl_toolkits.mplot3d import Axes3D\n",
    "#import plotly.express as px\n",
    "import seaborn as sns\n",
    "%matplotlib inline"
   ]
  },
  {
   "cell_type": "code",
   "execution_count": null,
   "metadata": {
    "colab": {
     "base_uri": "https://localhost:8080/",
     "height": 303
    },
    "id": "W6W8jdcJ25zM",
    "outputId": "efe9fa62-3326-42ca-84c5-384ac117f86b"
   },
   "outputs": [],
   "source": [
    "subjects"
   ]
  },
  {
   "cell_type": "markdown",
   "metadata": {
    "id": "kkIuD8cWQFtR"
   },
   "source": [
    "We prepare the data for input to the UMAP algorithm"
   ]
  },
  {
   "cell_type": "code",
   "execution_count": null,
   "metadata": {
    "colab": {
     "base_uri": "https://localhost:8080/",
     "height": 35
    },
    "id": "114Kfrmxz-iW",
    "outputId": "81d085e8-88b2-4fc8-cd89-f6d4c644d20e"
   },
   "outputs": [],
   "source": [
    "colors = mcp.gen_color(cmap=\"Spectral\",n=len(subjects))\n",
    "color_dict_subjects =dict(zip(subjects, colors))\n",
    "    \n",
    "    \n",
    "embedding_data_array = np.array(embeddings)\n",
    "print(f\"We now have an array of embeddings with shape: {embedding_data_array.shape}\")"
   ]
  },
  {
   "cell_type": "code",
   "execution_count": null,
   "metadata": {
    "colab": {
     "base_uri": "https://localhost:8080/",
     "height": 338
    },
    "id": "F-3irvroz-fk",
    "outputId": "057e3d3f-360f-473f-f311-608da6ca54e2"
   },
   "outputs": [],
   "source": [
    "import umap\n",
    "# We do the projection for several values of the n_neighbours hyperparameter\n",
    "# This is the most important hyperparameter of the UMAP algorithm\n",
    "n_neighbors = [2, 5, 15, 25, 50, 100] # 15 is default\n",
    "\n",
    "umap_results = []\n",
    "for n in n_neighbors:\n",
    "    reducer = umap.UMAP(random_state=42,\n",
    "                        n_components=2,\n",
    "                        learning_rate=1.0,\n",
    "                        min_dist=0.1,\n",
    "                        n_neighbors=n,\n",
    "                        metric='euclidean',\n",
    "                        output_metric='euclidean',\n",
    "                        target_metric='categorical',\n",
    "                        target_n_neighbors=-1,\n",
    "                        target_weight=0.5,)\n",
    "    umap_embedding = reducer.fit_transform(embeddings)\n",
    "    umap_results.append(umap_embedding)"
   ]
  },
  {
   "cell_type": "markdown",
   "metadata": {
    "id": "MR5dQTR-RPjJ"
   },
   "source": [
    "Let's first display the result using matplotlib"
   ]
  },
  {
   "cell_type": "code",
   "execution_count": null,
   "metadata": {
    "colab": {
     "base_uri": "https://localhost:8080/",
     "height": 788
    },
    "id": "x4WsJBk81CdF",
    "outputId": "292f7805-f380-4e48-b131-0c5d6c1119f8"
   },
   "outputs": [],
   "source": [
    "import pandas as pd\n",
    "# Let's choose one of the UMAP results to display\n",
    "nr_index = 5\n",
    "\n",
    "df_arxiv_umap = pd.DataFrame(np.array([umap_results[nr_index][:,0], umap_results[nr_index][:,1]]).T, columns=[\"umap-2d-one\", \"umap-2d-two\"])\n",
    "\n",
    "subjects_list = []\n",
    "for paper in papers_list:\n",
    "  subjects_list.append(paper[\"subject\"])\n",
    "df_arxiv_umap[\"y\"] = subjects_list\n",
    "\n",
    "plt.figure(figsize=(16,10))\n",
    "sns.scatterplot(\n",
    "    x=\"umap-2d-one\", y=\"umap-2d-two\",\n",
    "    hue=\"y\",\n",
    "    palette=color_dict_subjects,\n",
    "    data=df_arxiv_umap,\n",
    "    legend=\"full\",\n",
    "    alpha=0.5\n",
    ")\n",
    "plt.title(f\"UMAP projection of arXiv abstracts with n_neighbors={n_neighbors[nr_index]}\", fontsize=25)"
   ]
  },
  {
   "cell_type": "markdown",
   "metadata": {
    "id": "QDTL3tXSOgc-"
   },
   "source": [
    "Let's make a more interactive plot using Plotly where we can hover over the points interactively and inspect the results in more detail."
   ]
  },
  {
   "cell_type": "code",
   "execution_count": null,
   "metadata": {
    "colab": {
     "base_uri": "https://localhost:8080/",
     "height": 542
    },
    "id": "wLTUN4eVMfAP",
    "outputId": "b3c8aeb1-e93a-471e-b380-51f01b13f481"
   },
   "outputs": [],
   "source": [
    "import plotly.express as px\n",
    "\n",
    "subjects_list = []\n",
    "for paper in papers_list:\n",
    "  subjects_list.append(paper[\"arxiv_topic\"])\n",
    "df_arxiv_umap[\"y_long\"] = subjects_list\n",
    "\n",
    "\n",
    "fig = px.scatter(df_arxiv_umap,\n",
    "                 x='umap-2d-one',\n",
    "                 y='umap-2d-two',\n",
    "                 color='y',\n",
    "                 color_discrete_map=color_dict_subjects, # Use your color dictionary\n",
    "                 hover_data=['y_long']) # This will show the category on hover\n",
    "\n",
    "fig.update_traces(marker=dict(size=5, opacity=0.5)) # Adjust size and opacity similar to your seaborn plot\n",
    "fig.update_layout(legend_title_text='arXiv subject') # Customize legend title\n",
    "fig.show()"
   ]
  },
  {
   "cell_type": "markdown",
   "metadata": {
    "id": "BgnRD9JEOpzw"
   },
   "source": [
    "Tracing over the points and examining the hover labels we can see a clear clustering of physics topics and computer science topics respectively. The math topics tend to lie between these and we can see that they are closer to those topics which deal with similar lines of research."
   ]
  },
  {
   "cell_type": "markdown",
   "metadata": {
    "id": "y73Kd98JmhHj"
   },
   "source": [
    "> ```We can use the above plot to remove some of the topic subjects if we wish, to reduce the amount of data to embed and make the separation even more visually clear. Also consider changing color scheme.```"
   ]
  },
  {
   "cell_type": "code",
   "execution_count": null,
   "metadata": {
    "id": "ZZQZ2rIGMe9g"
   },
   "outputs": [],
   "source": []
  },
  {
   "cell_type": "markdown",
   "metadata": {
    "id": "MabBTvs6R35K"
   },
   "source": [
    "### Vector index store & Semantic similarity search"
   ]
  },
  {
   "cell_type": "markdown",
   "metadata": {
    "id": "e_kIVHSJSCNA"
   },
   "source": [
    "Let's now examine how we can store embeddings in an indexed vector database. There are many different vector stores to choose from which all perform similarly. Here we will make use of [FAISS](https://ai.meta.com/tools/faiss/), which is an open source vector store library developed by Meta.\n",
    "\n",
    "We will then see how we can use this tool to perform a similarity search over the indexed embeddings and retrieve the most relevant article based on a query using semantic similarity."
   ]
  },
  {
   "cell_type": "markdown",
   "metadata": {
    "id": "HNsdUsgs4Pd7"
   },
   "source": [
    "We will make use of an open source model from HuggingFace for doing the embeddings here. There are many good options to choose from of varying sizes. As we will see even quite small models perform quite well with semantic search."
   ]
  },
  {
   "cell_type": "markdown",
   "metadata": {
    "id": "j96fHlbz4hBE"
   },
   "source": [
    "> ```The first time you run the below code snippet you will download the embedding model into memory and you will see the progress of this displayed.```"
   ]
  },
  {
   "cell_type": "code",
   "execution_count": null,
   "metadata": {
    "colab": {
     "base_uri": "https://localhost:8080/",
     "height": 401,
     "referenced_widgets": [
      "f18ce7f1420a4918b8968a66161c62fa",
      "e2da859383ad492094c791a483f1e440",
      "457b41834ed7403baddfb9870e4f2ed8",
      "ea315748107947ae979ba911fb7bb927",
      "caf9b50f9fd1435c9e2c61948e8cca21",
      "a4f9232d8b5b42a58f778acb453ace03",
      "9b4e6652f9284dc3b9ff3b3ed781f34a",
      "e618d718046146609f5485d9e49b76df",
      "fe05f8ac72b04958941efc4ad5f53004",
      "53e2d05489b14fd098e49652f3b7b902",
      "adad4372973a48e7b8c3291145edb16c",
      "f55249a5beef43f3afadf133ba98251e",
      "570e62e16618472d8a15b4c94c2cf301",
      "d28af11715c3442c99df6240405fbb48",
      "386fd64ea48c488bb2f04cf9668b9b3b",
      "8752e44c40544cec93eed9d55b68a117",
      "a1bb604cd1864429a31211155f68d794",
      "fbb08f93abc64c4eb365d18dfdf3b0c5",
      "18983e4945ca487297292bcd17398602",
      "5b7d629a5acb4ce893627f23ec053721",
      "37202e7eec054b7488c8b66955a258c1",
      "eea26831119f4e7b82646ae8223fabe3",
      "f449134fa6764299b4599a95ee5111f9",
      "34b3be76bd2b406999d2b77491247317",
      "ec50f0a29ef34bf2923c7fb3317425e8",
      "4f8e20eaef7147a1aa671505ab3fb9af",
      "4b8351603acf4d83bce5b542c689f1b5",
      "b5be1082cbaf43698e7845a71fbfafe3",
      "65a92a20bc184ef0bec97d03ffd8b491",
      "1554a9a8e32d4c088d54b1b977434a23",
      "f25728d8c9194ce192ea3f960cc7ade9",
      "4b52caea755347e0926c5cac82224c39",
      "8097fe130fcf465c98e9bf3c919d60d6",
      "61a697d1b2f54685a24f705b82dbbf20",
      "8ed2b64a3d6744478c209104c345b1fc",
      "540b2b1de7254e4095a32489f6cca38b",
      "9255588ffbb1475697f128638ac2df8e",
      "367972865e074aeaa5209b6e61aadd40",
      "76a01a42c9ca4804a945cadf16caa423",
      "4bdd727fc789431e93a2a6d2613226df",
      "af566c6200f2439dbd5f3d9ec9f3973b",
      "88c27c5b42594b10a3e99fab47a70a6f",
      "10888eb19c17421baee6d134a3c67e14",
      "31be60fc8af14c2da1465203620cccad",
      "cd00be33574145e990ee280223deeb8e",
      "a4a912733eb446219bf24f1e804eeed6",
      "88585c1194284814a39d04e33fc484f8",
      "052f4e258e4e4642a1a3d59ae9584fbb",
      "5577bebd04e24609b179f247e88b35e2",
      "f9419dbbf2624830b0b729c6ef765493",
      "62533a0836fd463faa1a69b5632dd14d",
      "da1f6a83c641464aa955793956c6b415",
      "13fff4c430c64c11bf03f9cc3f38e70b",
      "160b21c3d2d74844ad048f72e2bf9550",
      "c00f4a1dd827439493bef1c754d2f6ba",
      "6566220e029e4c18837b48d5863bcf1b",
      "3483b08f77e64d8693e8c00859358603",
      "8f3df5e0707b4af9acd69397699deaa5",
      "3efd36964cf9471e838621c038165a5c",
      "38a384d45142494bb7fc59bb66db5be4",
      "f467840feca8425cbda1acb831d7c886",
      "75ed7bf9bb4b421fb60eef54b24e4297",
      "47a7da6ca628413ca3bb0f3c53166c44",
      "c534801373024fafa5233adf23bacb16",
      "73fd7c75cf004a5f83c3274e6b07e97b",
      "95133297df1346edadf41213f7e47c5b",
      "a665d16a57814edba0ea3fbb94a86be2",
      "0e7915fce89b4d74887e3cd0bdd5d310",
      "6eaae6225bee496a8ec5313f530492ed",
      "43db30172d26484c950ced7b29ce38d5",
      "2fcba9d757364798855859944f69ed71",
      "3fbb40c9ea53401bab3a1e2cd6905bd0",
      "db1f81abb0964a9b9f967a978651fbc2",
      "a5d9313b20534864af2070d8ca0ae1ea",
      "91d40d7cf04a4c2b893f743b28328c0c",
      "83de9b15a64a4d058d0d8d6440c4f992",
      "9153ef974a4647d3b607baa6e09639d8",
      "fe59fd8500004d1b98b5c515bcce251e",
      "e12bc364659742cb8542343ee2490e90",
      "d06db54a5ea24b478e777337351f8876",
      "79a97b97dd784091b0edba0f21529889",
      "69b493fde5e243df9be04a2f53d1bc0f",
      "e776c22363424aad96dd5497a62d0c0d",
      "c194cc600a5c49f0bfcdb7893583d88b",
      "b6eb09c71e1a4664b7a7fb037a714412",
      "69df742093da485aaea560056fa0f175",
      "6c22f3684bfd4d5c98dbb355ae86b17f",
      "b3b183e2f8a842248359a9fb8eb784d1",
      "afb6e40811dc4c7c9b71d441458bbc4c",
      "014dbc5c36fc4756b0c4c9afa2944d9a",
      "7fdb903fd43e42ae8cd7c2412f437b7f",
      "7fe5ab171ad1453d9db4a5c52174d554",
      "04c7bb6f7eee4935941aec2c1dc8b473",
      "d8fe85d3ba1343368267b793980b211b",
      "6c34decc018343a29ff677bf8662a811",
      "3ce6d63b431c44ddbb437ec726cf03a2",
      "1cdd00b6bf714c778cc0a9709679ec7f",
      "d3be0cb2955848bfb1cfd0620b8d9b85",
      "e58e8ba1ba864af78591ba8a16c2907f",
      "c0f3cd574c9048cb968296db6249e296",
      "092a59ffa1794e958002ff50e7ab8c20",
      "0b37b1de85c14e7d8c7feed79dbb2f23",
      "1098fe27e0bd48cd8c0f3d485e07a6bd",
      "482923d1135a4994aba994be6368721b",
      "99c1f6c37eeb4e78b9c6176b3a7045eb",
      "45a5c37d668447458e6ad3e33b0edb15",
      "42fbe4e68879486295c7b49563f36c89",
      "0bb791ece8164d698ac57d160c5b15d9",
      "ce982126877d4966bd102cd2cb2ca6e3",
      "7414e9f9cdcf4fa680f147576a9eabd8",
      "c01eb68ab60a4f76b03edcbb4d121294",
      "fc743075900a43539a5c5fd69c54f4a0",
      "9482f8d62f30447a83ce3ea07d9c119f",
      "feaa4cfeedc546ee98cc5a2ad3af184d",
      "e9aa46f7fd024750a07e837160e79127",
      "8d08615eecf843008f7d0e31e40ecf68",
      "856c668f67e247928b439e6fd0dddacb",
      "9754a92157b942c1b774e826a9838502",
      "5b836ea678134855a72e5c958495b407",
      "2158788eae4946f7befdf668e134bb63",
      "e5e1dc8491614a689121fe7a92464fb4",
      "1ea3bf388f304783b44031b91169550b",
      "c8f67d4b7146479cacf63de247796ee0",
      "7bad59322d60454581583d923320f3f9",
      "1d5d043f09744818a7460e8370b5dee6",
      "21e65b25bb8742ce976c369064b37a3c",
      "4c8192e3c9664e0ba84d34ca6c8d87e5",
      "f0cd5cdbf1794e66b3a358a984ba5e7e",
      "f588896d52d64716ac4e2c535c9cfff6",
      "bdafce766d97423ca329cbe2cc09d9dd",
      "83b4cd008d4d4552bb60a27d8daf0e04",
      "d40ba815e666498d8f2470364abaf4b9"
     ]
    },
    "id": "f2dCB_lp26IX",
    "outputId": "77bf8c5a-b91b-49e5-febf-16ff49230f03"
   },
   "outputs": [],
   "source": [
    "from langchain.embeddings import HuggingFaceEmbeddings\n",
    "# For embeddings we use a top ranked open source model on the MTEB leaderboard at https://huggingface.co/spaces/mteb/leaderboard\n",
    "embedding_models_HF = [\n",
    "    \"BAAI/bge-large-en-v1.5\",\n",
    "    \"BAAI/bge-small-en-v1.5\"\n",
    "    ]\n",
    "embedding_model = embedding_models_HF[1]\n",
    "\n",
    "\n",
    "# We use the HuggingFaceEmbeddings wrapper to make an embedding object from our model\n",
    "embedder = HuggingFaceEmbeddings(\n",
    "      model_name = embedding_model,\n",
    "      model_kwargs = {'device': 'cpu'},\n",
    "      encode_kwargs = {'normalize_embeddings': True},\n",
    "      cache_folder = f\"{embedding_model}_cache\",\n",
    "      multi_process = False\n",
    "      )"
   ]
  },
  {
   "cell_type": "markdown",
   "metadata": {
    "id": "YnRjIc0w6O7d"
   },
   "source": [
    "It is then straightforward to create a FAISS vector index using our Document and HuggingFaceEmbeddings objects. With the small BGE model this will take slightly less than one minute to complete for 50 abstracts. We will therefore pick out a subset of roughly 50 abstracts here for demonstrative purposes."
   ]
  },
  {
   "cell_type": "code",
   "execution_count": null,
   "metadata": {
    "colab": {
     "base_uri": "https://localhost:8080/",
     "height": 35
    },
    "id": "2FsXJyHI7D37",
    "outputId": "576db480-d9b7-4284-855f-e63c97aa061b"
   },
   "outputs": [],
   "source": [
    "# We aim to pick out about 50 abstracts from across the documents list, irrespective of how many we originally retrieved\n",
    "nr_abstracts_in_short_list = 50\n",
    "\n",
    "\n",
    "# We pick out the baove nr of abstracts evenly spaced out over our list of retrieved abstracts\n",
    "documents_short = documents[::max(1, len(documents) // nr_abstracts_in_short_list)]\n",
    "#documents_short = documents[-nr_abstracts_in_short_list:]\n",
    "\n",
    "print(f\" The short list of documents contain {len(documents_short)} abstracts\")"
   ]
  },
  {
   "cell_type": "code",
   "execution_count": null,
   "metadata": {
    "colab": {
     "base_uri": "https://localhost:8080/",
     "height": 17
    },
    "id": "DLJkfQnH2lXx",
    "outputId": "acc47491-408d-49f1-e7f3-c9e6de44f0de"
   },
   "outputs": [],
   "source": [
    "from langchain.vectorstores import FAISS\n",
    "\n",
    "# We embed and store embeddings for the shortened list of abstracts\n",
    "faiss_index = FAISS.from_documents(\n",
    "      documents=documents_short,\n",
    "      embedding=embedder\n",
    "      )"
   ]
  },
  {
   "cell_type": "markdown",
   "metadata": {
    "id": "qRErJ7yq9WfC"
   },
   "source": [
    "Let's pick out an article and display its abstract. This will allow us to make a query which we know matches this particular abstract."
   ]
  },
  {
   "cell_type": "code",
   "execution_count": null,
   "metadata": {
    "colab": {
     "base_uri": "https://localhost:8080/",
     "height": 267
    },
    "id": "Ef_9-Mqn5Evh",
    "outputId": "7b4ec6e4-d760-4b45-9bca-9db33a56d1bb"
   },
   "outputs": [],
   "source": [
    "# choose a number between 0-20 to pick out one of the indexed abstracts\n",
    "abstract_nr = 25\n",
    "\n",
    "documents_short[abstract_nr]"
   ]
  },
  {
   "cell_type": "markdown",
   "metadata": {
    "id": "A9rw62VP9nQs"
   },
   "source": [
    "Now we can construct a search query which is related to the above abstract. We then use this query to retrieve a nr of close matches from the indexed vector stored. These are retrieved as a list in sorted order, with the closest match appearing first.\n",
    "\n",
    "Let's do this by having the LLM make a query for us from the above abstract."
   ]
  },
  {
   "cell_type": "code",
   "execution_count": null,
   "metadata": {
    "colab": {
     "base_uri": "https://localhost:8080/",
     "height": 17
    },
    "id": "V786LgwERZUj",
    "outputId": "a5637afd-6b55-4947-dab6-40b429bc72fc"
   },
   "outputs": [],
   "source": [
    "# The system prompt will be placed at the top of every message and should set overall system behaviour\n",
    "system_prompt = \"\"\"\n",
    "You are an expert in summarizing scientific literature.\n",
    "\"\"\"\n",
    "\n",
    "# We can try to set this quite low to make it hard for the retriever,\n",
    "# noting that if several abstracts are on a similar topic then a very short summary\n",
    "# should make it more difficult to retrieve the intended one\n",
    "max_words_for_summary = 3\n",
    "\n",
    "user_prompt = f\"\"\"\n",
    "Consider carefully the abstract supplied below and construct a very brief summary of its content.\n",
    "Try to use a maximum of {max_words_for_summary} words and do not include any mathematical formulas in your summary.\n",
    "\n",
    "abstract: {documents_short[abstract_nr].page_content}\n",
    "\"\"\"\n",
    "\n",
    "\n",
    "# These are collected into a messages list of\n",
    "#\n",
    "#   SystemMessage - the system prompt\n",
    "#   HumanMessage  - the user query\n",
    "#   AIMessage     - the bot response, in case you wish to continue on a conversation\n",
    "messages = [\n",
    "    SystemMessage(content=system_prompt),\n",
    "    HumanMessage(content=user_prompt),\n",
    "]"
   ]
  },
  {
   "cell_type": "code",
   "execution_count": null,
   "metadata": {
    "colab": {
     "base_uri": "https://localhost:8080/",
     "height": 35
    },
    "id": "R6m7HdrHMf8e",
    "outputId": "9afd60c5-e715-4768-cfa5-3ada26f050eb"
   },
   "outputs": [],
   "source": [
    "from langchain.chat_models import ChatOpenAI\n",
    "\n",
    "# This creates an instance of the model interface which we can subsequently call on\n",
    "chat_model = ChatOpenAI(\n",
    "    openai_api_key=os.environ['OPENAI_API_KEY'],\n",
    "    # The below parameters can be changed\n",
    "    model=\"gpt-3.5-turbo-1106\",\n",
    "    temperature=0.0\n",
    ")\n",
    "\n",
    "\n",
    "# Here we collect the output from the chat model in the variable response\n",
    "response = chat_model.invoke(messages)\n",
    "\n",
    "# We can print out the response by calling on its content using a .content\n",
    "print(response.content)"
   ]
  },
  {
   "cell_type": "markdown",
   "metadata": {
    "id": "2uDso4QrTAX3"
   },
   "source": [
    "Now we can use this short summary to try to find the correct article amongst all the ones we have embedded."
   ]
  },
  {
   "cell_type": "code",
   "execution_count": null,
   "metadata": {
    "colab": {
     "base_uri": "https://localhost:8080/",
     "height": 285
    },
    "id": "N-TJJRLg4Box",
    "outputId": "65c002e1-9706-4cc5-c510-75d3e21e6a1d"
   },
   "outputs": [],
   "source": [
    "# We define a generic query which incorporates the summary from the LLM\n",
    "search_query = f\"Find an article which discusses: {response.content}\"\n",
    "\n",
    "\n",
    "# Define how many similar documents you want to retrieve\n",
    "# These are returned in sorted order, with most similar placed first\n",
    "nr_hits = 5\n",
    "\n",
    "\n",
    "# Use FAISS to perform similarity search ...\n",
    "most_similar = faiss_index.similarity_search(query = search_query, k=nr_hits)\n",
    "\n",
    "\n",
    "# Lets check that the closest retrieved match is the same as abstract we used to construct the query\n",
    "if documents_short[abstract_nr].metadata[\"title\"] == most_similar[0].metadata[\"title\"]:\n",
    "  print(Style.BRIGHT + \"SUCESS! We found the correct abstract as the top ranked choice!\" + Style.RESET_ALL)\n",
    "  print(\"--\"*25)\n",
    "  print(most_similar[0])\n",
    "# In case it was not the top pick, we check if it was among the ones retrieved from the vector store\n",
    "elif documents_short[abstract_nr].metadata[\"title\"] in [most_similar[nr_hit].metadata[\"title\"] for nr_hit in range(1,nr_hits)]:\n",
    "  print(Style.BRIGHT + f\"PARTIAL SUCESS! We found the correct abstract among the top {nr_hits} ranked choices!\" + Style.RESET_ALL)\n",
    "  print(\"--\"*25)\n",
    "  print(most_similar[0])\n",
    "else:\n",
    "  print(Style.BRIGHT + \"FAILURE! We didn't retrieve the correct abstract as top choice!\" + Style.RESET_ALL)"
   ]
  },
  {
   "cell_type": "markdown",
   "metadata": {
    "id": "mSQU0jnvVW5T"
   },
   "source": [
    "We can inspect all the top ranked abstracts we retrieved and see how well they matched the summarization we used when searching."
   ]
  },
  {
   "cell_type": "code",
   "execution_count": null,
   "metadata": {
    "colab": {
     "base_uri": "https://localhost:8080/",
     "height": 1000
    },
    "id": "sPT7kQ622lU9",
    "outputId": "ef63b565-9488-4181-e620-d56bd382bdfd"
   },
   "outputs": [],
   "source": [
    "cnt=1\n",
    "for doc in most_similar:\n",
    "  print(Style.BRIGHT + f\"Hit nr {cnt}, Title: {doc.metadata['title']}\" + Style.RESET_ALL)\n",
    "  print(doc.page_content)\n",
    "  print(\"--\"*25)\n",
    "  cnt+=1"
   ]
  },
  {
   "cell_type": "markdown",
   "metadata": {
    "id": "qwc1UyORXcWK"
   },
   "source": [
    "If you try to play around with the above you will find that it is quite hard to get the retriever to fail based on a semantic similarity search even for a very condense summary of the abstracts."
   ]
  },
  {
   "cell_type": "markdown",
   "metadata": {
    "id": "eVWlf-Uan-0q"
   },
   "source": [
    "#### Breaking the retriever?\n",
    "\n",
    "\n",
    "In order to make things a bit harder we will try to collect a series of abstracts which are all related to the same topic, but which are not necessarily recent. To this end we fetch 100 article abstracts based on the query keyword `LLM`."
   ]
  },
  {
   "cell_type": "code",
   "execution_count": null,
   "metadata": {
    "colab": {
     "base_uri": "https://localhost:8080/",
     "height": 53
    },
    "id": "0BYGnEsD8_GZ",
    "outputId": "a6f40979-d0a4-4f26-dedf-12ad866c5d44"
   },
   "outputs": [],
   "source": [
    "import requests\n",
    "from bs4 import BeautifulSoup\n",
    "\n",
    "query_keyword = \"LLM\"\n",
    "url = f\"https://arxiv.org/search/?query={query_keyword}&searchtype=all&abstracts=show&order=-announced_date_first&size=100\"\n",
    "\n",
    "\n",
    "# We collect everything in a list of dictionaries\n",
    "response = requests.get(url)\n",
    "if response.status_code != 200:\n",
    "  print('Failed to retrieve data from', url)\n",
    "\n",
    "soup = BeautifulSoup(response.content, 'html.parser')\n",
    "\n",
    "\n",
    "papers = []\n",
    "for item in soup.find_all('li', class_='arxiv-result'):\n",
    "  title = item.find('p', class_='title is-5 mathjax').text.strip()\n",
    "  abstract = item.find('span', class_='abstract-full has-text-grey-dark mathjax').text.strip()\n",
    "  papers.append({\"title\": title, \"abstract\": abstract})\n",
    "\n",
    "print(\"\")\n",
    "print(f\"We extracted a total of {len(papers)} abstracts on the topic of {query_keyword}\")"
   ]
  },
  {
   "cell_type": "code",
   "execution_count": null,
   "metadata": {
    "colab": {
     "base_uri": "https://localhost:8080/",
     "height": 17
    },
    "id": "25XVd8gSg5_U",
    "outputId": "e30bd386-5a2e-4513-bbe0-9fcb1915571b"
   },
   "outputs": [],
   "source": [
    "documents_topic =  []\n",
    "\n",
    "for paper in papers:\n",
    "  doc  = Document(\n",
    "      page_content = paper[\"abstract\"],\n",
    "      metadata = {\"title\": paper[\"title\"]}\n",
    "  )\n",
    "  documents_topic.append(doc)"
   ]
  },
  {
   "cell_type": "markdown",
   "metadata": {
    "id": "gwVTxPs_h-eI"
   },
   "source": [
    "We embed these documents just as before"
   ]
  },
  {
   "cell_type": "code",
   "execution_count": null,
   "metadata": {
    "colab": {
     "base_uri": "https://localhost:8080/",
     "height": 17
    },
    "id": "zxUVHodGiClX",
    "outputId": "6dbc3738-8b1c-4292-c482-521aba82b345"
   },
   "outputs": [],
   "source": [
    "# We embed and store embeddings for the shortened list of abstracts\n",
    "faiss_index_topic = FAISS.from_documents(\n",
    "      documents=documents_topic,\n",
    "      embedding=embedder\n",
    "      )"
   ]
  },
  {
   "cell_type": "markdown",
   "metadata": {
    "id": "MQXkIOZziDz4"
   },
   "source": [
    "And then we pick out one of the abstracts to make a query we can try to use for search retrieval."
   ]
  },
  {
   "cell_type": "code",
   "execution_count": null,
   "metadata": {
    "colab": {
     "base_uri": "https://localhost:8080/",
     "height": 303
    },
    "id": "H3fqGqQNhkCn",
    "outputId": "bd0074c8-7eaa-42d2-e2d6-61a60ed10d17"
   },
   "outputs": [],
   "source": [
    "# choose a number between 0-99 to pick out one of the indexed abstracts\n",
    "abstract_nr = 10\n",
    "\n",
    "documents_topic[abstract_nr]"
   ]
  },
  {
   "cell_type": "code",
   "execution_count": null,
   "metadata": {
    "colab": {
     "base_uri": "https://localhost:8080/",
     "height": 17
    },
    "id": "HWo4_ExORy-M",
    "outputId": "b76de7ea-7d80-45bc-aa7e-e00b6b63edbd"
   },
   "outputs": [],
   "source": [
    "# The system prompt will be placed at the top of every message and should set overall system behaviour\n",
    "system_prompt = \"\"\"\n",
    "You are an expert in summarizing scientific literature.\n",
    "\"\"\"\n",
    "\n",
    "# We can try to set this quite low to make it hard for the retriever,\n",
    "# noting that if several abstracts are on a similar topic then a very short summary\n",
    "# should make it more difficult to retrieve the intended one\n",
    "max_words_for_summary = 3\n",
    "\n",
    "user_prompt = f\"\"\"\n",
    "Consider carefully the abstract supplied below and construct a very brief summary of its content.\n",
    "Try to use a maximum of {max_words_for_summary} words and do not include any mathematical formulas in your summary.\n",
    "\n",
    "abstract: {documents_topic[abstract_nr].page_content}\n",
    "\"\"\"\n",
    "\n",
    "\n",
    "# These are collected into a messages list of\n",
    "#\n",
    "#   SystemMessage - the system prompt\n",
    "#   HumanMessage  - the user query\n",
    "#   AIMessage     - the bot response, in case you wish to continue on a conversation\n",
    "messages = [\n",
    "    SystemMessage(content=system_prompt),\n",
    "    HumanMessage(content=user_prompt),\n",
    "]"
   ]
  },
  {
   "cell_type": "code",
   "execution_count": null,
   "metadata": {
    "colab": {
     "base_uri": "https://localhost:8080/",
     "height": 53
    },
    "id": "8njbcnBghdR7",
    "outputId": "3746d53c-8977-4275-b1ce-11cbcd7f9970"
   },
   "outputs": [],
   "source": [
    "# This creates an instance of the model interface which we can subsequently call on\n",
    "chat_model = ChatOpenAI(\n",
    "    openai_api_key=os.environ['OPENAI_API_KEY'],\n",
    "    # The below parameters can be changed\n",
    "    model=\"gpt-3.5-turbo-1106\",\n",
    "    temperature=0.0\n",
    ")\n",
    "\n",
    "\n",
    "# Here we collect the output from the chat model in the variable response\n",
    "response = chat_model.invoke(messages)\n",
    "\n",
    "# We can print out the response by calling on its content using a .content\n",
    "print(response.content)"
   ]
  },
  {
   "cell_type": "markdown",
   "metadata": {
    "id": "OfW7HsAVhw_h"
   },
   "source": [
    "Now let's see if we can find the needle in this proverbial haystack as easily as before."
   ]
  },
  {
   "cell_type": "code",
   "execution_count": null,
   "metadata": {
    "colab": {
     "base_uri": "https://localhost:8080/",
     "height": 35
    },
    "id": "z9PkPCZcRy6z",
    "outputId": "9d29ec92-9d2d-4d54-dd69-12c0828769b5"
   },
   "outputs": [],
   "source": [
    "# We define a generic query which incorporates the summary from the LLM\n",
    "search_query = f\"Find an article which discusses: {response.content}\"\n",
    "\n",
    "\n",
    "# Define how many similar documents you want to retrieve\n",
    "# These are returned in sorted order, with most similar placed first\n",
    "nr_hits = 5\n",
    "\n",
    "\n",
    "# Use FAISS to perform similarity search ...\n",
    "most_similar_topic = faiss_index_topic.similarity_search(query = search_query, k=nr_hits)\n",
    "\n",
    "\n",
    "# Lets check that the closest retrieved match is the same as abstract we used to construct the query\n",
    "if documents_topic[abstract_nr].metadata[\"title\"] == most_similar_topic[0].metadata[\"title\"]:\n",
    "  print(Style.BRIGHT + \"SUCESS! We found the correct abstract as the top ranked choice!\" + Style.RESET_ALL)\n",
    "  print(\"--\"*25)\n",
    "  print(most_similar_topic[0])\n",
    "# In case it was not the top pick, we check if it was among the ones retrieved from the vector store\n",
    "elif documents_topic[abstract_nr].metadata[\"title\"] in [most_similar_topic[nr_hit].metadata[\"title\"] for nr_hit in range(1,nr_hits)]:\n",
    "  print(Style.BRIGHT + f\"PARTIAL SUCESS! We found the correct abstract among the top {nr_hits} ranked choices!\" + Style.RESET_ALL)\n",
    "  print(\"--\"*25)\n",
    "  print(most_similar_topic[0])\n",
    "else:\n",
    "  print(Style.BRIGHT + \"FAILURE! We didn't retrieve the correct abstract as top choice!\" + Style.RESET_ALL)"
   ]
  },
  {
   "cell_type": "markdown",
   "metadata": {
    "id": "jGVEUsv7mmd1"
   },
   "source": [
    "# Fine-Tuning"
   ]
  },
  {
   "cell_type": "markdown",
   "metadata": {
    "id": "jfwNHtlCjMpo"
   },
   "source": [
    "We are going to work further on the sentence transformers and on the abstracts dataset. We are going to fine-tune e open source models on the dataset. Be aware that fine-tuning in this case is just a demonstration. In a real case scenario, you would use more data and more special data for fine-tuning."
   ]
  },
  {
   "cell_type": "markdown",
   "metadata": {
    "id": "h62I8muJjMmw"
   },
   "source": [
    "For finetuning, we need pairs of query - corresponding abstract pairs. In this example, we are going to use Chatgpt to generate queries for each abstract."
   ]
  },
  {
   "cell_type": "code",
   "execution_count": null,
   "metadata": {
    "id": "HQdpEZYGjMj4"
   },
   "outputs": [],
   "source": [
    "from langchain.schema import SystemMessage\n",
    "from langchain.schema import HumanMessage\n",
    "\n",
    "chat_model = ChatOpenAI(\n",
    "    openai_api_key=os.environ['OPENAI_API_KEY'],\n",
    "    # The below parameters can be changed\n",
    "    model=\"gpt-3.5-turbo-1106\",\n",
    "    temperature=0.0\n",
    ")\n",
    "\n",
    "def generate_questions(abstract):\n",
    "    system_prompt = \"\"\"\n",
    "    You are an expert in scientific papers.\n",
    "    \"\"\"\n",
    "    user_prompt = f\"\"\"\n",
    "    Consider carefully the following abstract of a scientific paper: {abstract}. \n",
    "    Please provide a question to this abstract. Output only the question.\n",
    "    \"\"\"\n",
    "    messages = [\n",
    "    SystemMessage(content=system_prompt),\n",
    "    HumanMessage(content=user_prompt),\n",
    "    ]\n",
    "    response = chat_model.invoke(messages)\n",
    "\n",
    "    return response.content"
   ]
  },
  {
   "cell_type": "markdown",
   "metadata": {},
   "source": [
    "After generating the queries, we save them in a json in order to be able to reuse it in case we don't want to rerun the query generation."
   ]
  },
  {
   "cell_type": "code",
   "execution_count": null,
   "metadata": {},
   "outputs": [],
   "source": [
    "import json\n",
    "\n",
    "queries = []\n",
    "\n",
    "for paper in papers:\n",
    "    queries.append(generate_questions(paper['abstract']))\n",
    "\n",
    "abstracts_with_queries = []\n",
    "\n",
    "for query, paper in zip(queries, papers):\n",
    "    abstracts_with_queries.append({\"query\": query, \"abstract\": paper[\"abstract\"], \"title\": paper[\"title\"]})\n",
    "\n",
    "with open(\"abstracts_with_queries.json\", \"w\") as json_file:\n",
    "    json.dump(abstracts_with_queries, json_file)"
   ]
  },
  {
   "cell_type": "code",
   "execution_count": null,
   "metadata": {},
   "outputs": [],
   "source": [
    "queries[0]"
   ]
  },
  {
   "cell_type": "markdown",
   "metadata": {},
   "source": [
    "Load your previously generated data from json."
   ]
  },
  {
   "cell_type": "code",
   "execution_count": null,
   "metadata": {},
   "outputs": [],
   "source": [
    "import json\n",
    "\n",
    "with open('abstracts_with_queries.json', 'r') as file:\n",
    "    abstracts_with_queries_json = json.load(file)\n",
    "\n",
    "queries = []\n",
    "abstracts = []\n",
    "for entry in abstracts_with_queries_json:\n",
    "    queries.append(entry[\"query\"])\n",
    "    abstracts.append(entry[\"abstract\"])"
   ]
  },
  {
   "cell_type": "markdown",
   "metadata": {},
   "source": [
    "# E5"
   ]
  },
  {
   "cell_type": "markdown",
   "metadata": {},
   "source": [
    "In this section, we are going to fine-tune an E5 model on our data. First, we need to organise the input data. Each row should have a query and a passage which is in our case, the abstract."
   ]
  },
  {
   "cell_type": "code",
   "execution_count": null,
   "metadata": {},
   "outputs": [],
   "source": [
    "from sentence_transformers import InputExample\n",
    "\n",
    "train_examples = []\n",
    "for query, abstract in zip(queries, abstracts):\n",
    "    train_examples.append(InputExample(texts=[query.strip(), abstract.strip()]))"
   ]
  },
  {
   "cell_type": "markdown",
   "metadata": {},
   "source": [
    "In utilizing the MultipleNegativesRankingLoss, it's crucial to avoid duplicate entries within the batch, specifically ensuring the absence of identical queries or paragraphs."
   ]
  },
  {
   "cell_type": "code",
   "execution_count": null,
   "metadata": {},
   "outputs": [],
   "source": [
    "from sentence_transformers import (\n",
    "    SentenceTransformer,\n",
    "    losses,\n",
    "    models,\n",
    "    datasets,\n",
    ")\n",
    "\n",
    "word_embbedding = models.Transformer(\"intfloat/e5-small-v2\")\n",
    "pooling = models.Pooling(word_embbedding.get_word_embedding_dimension())\n",
    "e5_model = SentenceTransformer(modules=[word_embbedding, pooling])\n",
    "\n",
    "train_dataloader = datasets.NoDuplicatesDataLoader(train_examples, batch_size=8)\n",
    "train_loss = losses.MultipleNegativesRankingLoss(e5_model)\n",
    "\n",
    "num_epochs = 1\n",
    "warmup_steps = int(len(train_dataloader) * num_epochs * 0.1)\n",
    "e5_model.fit(\n",
    "    train_objectives=[(train_dataloader, train_loss)],\n",
    "    epochs=num_epochs,\n",
    "    warmup_steps=warmup_steps,\n",
    "    show_progress_bar=True,\n",
    ")"
   ]
  },
  {
   "cell_type": "markdown",
   "metadata": {},
   "source": [
    "After training, we create corresponding embeddings for each abstract."
   ]
  },
  {
   "cell_type": "code",
   "execution_count": null,
   "metadata": {},
   "outputs": [],
   "source": [
    "e5_embeddings = e5_model.encode(abstracts)"
   ]
  },
  {
   "cell_type": "markdown",
   "metadata": {
    "id": "4xT4TtWyjMgs"
   },
   "source": [
    "Next, we encode our user query and get the closest abstract embedding to it based on cosine similarity."
   ]
  },
  {
   "cell_type": "code",
   "execution_count": null,
   "metadata": {
    "id": "r1JOodSJjMd0"
   },
   "outputs": [],
   "source": [
    "from sklearn.metrics.pairwise import cosine_similarity\n",
    "\n",
    "def get_closest_abstract(query, model, embeddings):\n",
    "    target_embedding = model.encode(query)\n",
    "    similarities = [cosine_similarity([target_embedding], [emb])[0][0] for emb in embeddings]\n",
    "    return abstracts[np.argmax(similarities)]"
   ]
  },
  {
   "cell_type": "code",
   "execution_count": null,
   "metadata": {
    "id": "wUsNibq-jMa1"
   },
   "outputs": [],
   "source": [
    "query = \"What are the implications of the observed decline in GPT-4's performance?\"\n",
    "get_closest_abstract(query, e5_model, e5_embeddings)"
   ]
  },
  {
   "cell_type": "markdown",
   "metadata": {},
   "source": [
    "# BGE"
   ]
  },
  {
   "cell_type": "markdown",
   "metadata": {},
   "source": [
    "BGE is currently the best performing open source sentence transformer."
   ]
  },
  {
   "cell_type": "code",
   "execution_count": null,
   "metadata": {},
   "outputs": [],
   "source": [
    "!pip install -U FlagEmbedding"
   ]
  },
  {
   "cell_type": "markdown",
   "metadata": {},
   "source": [
    "We can fine-tune this model with a custum fuction that comes with its pip library. In order to use it, we need to prepare our data in a jsonl format. Example: {\"query\": \"Five women walk along a beach wearing flip-flops.\", \"pos\": [\"Some women with flip-flops on, are walking along the beach\"], \"neg\": [\"The 4 women are sitting on the beach.\", \"There was a reform in 1996.\", \"She's not going to court to clear her record.\", \"The man is talking about hawaii.\", \"A woman is standing outside.\", \"The battle was over. \", \"A group of people plays volleyball.\"]}"
   ]
  },
  {
   "cell_type": "code",
   "execution_count": null,
   "metadata": {},
   "outputs": [],
   "source": [
    "import random\n",
    "\n",
    "def generate_random_except(start_range, end_range, count, exception):\n",
    "    if count > (end_range - start_range + 1):\n",
    "        return \"Count should be smaller than the range.\"\n",
    "    \n",
    "    result = []\n",
    "    while len(result) < count:\n",
    "        num = random.randint(start_range, end_range)\n",
    "        if num != exception and num not in result:\n",
    "            result.append(num)\n",
    "    \n",
    "    return result"
   ]
  },
  {
   "cell_type": "code",
   "execution_count": null,
   "metadata": {},
   "outputs": [],
   "source": [
    "queries_with_positives_and_negatives = []\n",
    "\n",
    "for counter, entry in enumerate(abstracts_with_queries_json):\n",
    "    random_indexes = generate_random_except(0, len(abstracts_with_queries_json)-1, 4, counter)\n",
    "    entries = [abstracts_with_queries_json[i] for i in random_indexes]\n",
    "    negative_list = [entry['abstract'] for entry in entries]\n",
    "    queries_with_positives_and_negatives.append({\"query\": entry[\"query\"], \"pos\": [entry[\"abstract\"]], \"neg\": negative_list})\n",
    "\n",
    "with open('queries_with_positives_and_negatives.jsonl', 'w') as jsonl_file:\n",
    "    for entry in queries_with_positives_and_negatives:\n",
    "        json.dump(entry, jsonl_file)\n",
    "        jsonl_file.write('\\n')"
   ]
  },
  {
   "cell_type": "code",
   "execution_count": null,
   "metadata": {},
   "outputs": [],
   "source": [
    "!mkdir bge_abstracts"
   ]
  },
  {
   "cell_type": "markdown",
   "metadata": {},
   "source": [
    "We run the fine-tuning script."
   ]
  },
  {
   "cell_type": "code",
   "execution_count": null,
   "metadata": {},
   "outputs": [],
   "source": [
    "!torchrun -m FlagEmbedding.baai_general_embedding.finetune.run \\\n",
    "    --output_dir bge_abstracts \\\n",
    "    --model_name_or_path BAAI/bge-small-en-v1.5 \\\n",
    "    --train_data ./queries_with_positives_and_negatives.jsonl \\\n",
    "    --learning_rate 1e-5 \\\n",
    "    --num_train_epochs 1 \\\n",
    "    --dataloader_drop_last True \\\n",
    "    --normlized True \\\n",
    "    --temperature 0.02 \\\n",
    "    --query_max_len 64 \\\n",
    "    --passage_max_len 256 \\\n",
    "    --train_group_size 2 \\\n",
    "    --logging_steps 10 \\\n",
    "    --query_instruction_for_retrieval \"\" "
   ]
  },
  {
   "cell_type": "markdown",
   "metadata": {
    "id": "CyugeAbjjMYD"
   },
   "source": [
    "We create corresponding embeddings for each abstract with our new fine-tuned model."
   ]
  },
  {
   "cell_type": "code",
   "execution_count": null,
   "metadata": {},
   "outputs": [],
   "source": [
    "from FlagEmbedding import FlagModel\n",
    "\n",
    "bge_model = FlagModel('./bge_abstracts/', use_fp16=True)\n",
    "bge_embeddings = bge_model.encode(abstracts)"
   ]
  },
  {
   "cell_type": "markdown",
   "metadata": {},
   "source": [
    "Next, we encode our user query and get the closest abstract embedding to it based on cosine similarity. "
   ]
  },
  {
   "cell_type": "code",
   "execution_count": null,
   "metadata": {},
   "outputs": [],
   "source": [
    "query = \"What are the implications of the observed decline in GPT-4's performance?\"\n",
    "get_closest_abstract(query, bge_model, bge_embeddings)"
   ]
  },
  {
   "cell_type": "markdown",
   "metadata": {},
   "source": [
    "# Mixed Models"
   ]
  },
  {
   "cell_type": "markdown",
   "metadata": {},
   "source": [
    "Fine-tuning the foundational bge model might boost its effectiveness for the specific task at hand, yet it could potentially cause significant decline in the model’s overall abilities outside that specific area. If we merge the fine-tuned model and the base model with LM-Cocktail, it can increase the perfomance in general tasks."
   ]
  },
  {
   "cell_type": "code",
   "execution_count": null,
   "metadata": {},
   "outputs": [],
   "source": [
    "!mkdir mixed_bge"
   ]
  },
  {
   "cell_type": "code",
   "execution_count": null,
   "metadata": {},
   "outputs": [],
   "source": [
    "pip install -U LM_Cocktail"
   ]
  },
  {
   "cell_type": "code",
   "execution_count": null,
   "metadata": {},
   "outputs": [],
   "source": [
    "from LM_Cocktail import mix_models, mix_models_with_data\n",
    "\n",
    "model = mix_models(\n",
    "    model_names_or_paths=[\"BAAI/bge-small-en-v1.5\", \"./bge_abstracts/\"],\n",
    "    model_type='encoder', \n",
    "    weights=[0.5, 0.5],\n",
    "    output_path=\"./mixed_bge\")"
   ]
  },
  {
   "cell_type": "code",
   "execution_count": null,
   "metadata": {},
   "outputs": [],
   "source": [
    "from FlagEmbedding import FlagModel\n",
    "\n",
    "mixed_model = FlagModel('./mixed_bge', use_fp16=True)\n",
    "mixed_embeddings = mixed_model.encode(abstracts)"
   ]
  },
  {
   "cell_type": "code",
   "execution_count": null,
   "metadata": {},
   "outputs": [],
   "source": [
    "query = \"What are the implications of the observed decline in GPT-4's performance?\"\n",
    "get_closest_abstract(query, mixed_model, mixed_embeddings)"
   ]
  },
  {
   "cell_type": "code",
   "execution_count": null,
   "metadata": {},
   "outputs": [],
   "source": []
  }
 ],
 "metadata": {
  "colab": {
   "collapsed_sections": [
    "sSdr-YPSpnLI"
   ],
   "provenance": []
  },
  "interpreter": {
   "hash": "cb01f1dbab416340528beb9003d373e701839649ec4e19c51caaaa46d79e9db4"
  },
  "kernelspec": {
   "display_name": "Python 3 (ipykernel)",
   "language": "python",
   "name": "python3"
  },
  "language_info": {
   "codemirror_mode": {
    "name": "ipython",
    "version": 3
   },
   "file_extension": ".py",
   "mimetype": "text/x-python",
   "name": "python",
   "nbconvert_exporter": "python",
   "pygments_lexer": "ipython3",
   "version": "3.10.13"
  },
  "widgets": {
   "application/vnd.jupyter.widget-state+json": {
    "014dbc5c36fc4756b0c4c9afa2944d9a": {
     "model_module": "@jupyter-widgets/controls",
     "model_module_version": "1.5.0",
     "model_name": "HTMLModel",
     "state": {
      "_dom_classes": [],
      "_model_module": "@jupyter-widgets/controls",
      "_model_module_version": "1.5.0",
      "_model_name": "HTMLModel",
      "_view_count": null,
      "_view_module": "@jupyter-widgets/controls",
      "_view_module_version": "1.5.0",
      "_view_name": "HTMLView",
      "description": "",
      "description_tooltip": null,
      "layout": "IPY_MODEL_d8fe85d3ba1343368267b793980b211b",
      "placeholder": "​",
      "style": "IPY_MODEL_6c34decc018343a29ff677bf8662a811",
      "value": "tokenizer.json: 100%"
     }
    },
    "04c7bb6f7eee4935941aec2c1dc8b473": {
     "model_module": "@jupyter-widgets/base",
     "model_module_version": "1.2.0",
     "model_name": "LayoutModel",
     "state": {
      "_model_module": "@jupyter-widgets/base",
      "_model_module_version": "1.2.0",
      "_model_name": "LayoutModel",
      "_view_count": null,
      "_view_module": "@jupyter-widgets/base",
      "_view_module_version": "1.2.0",
      "_view_name": "LayoutView",
      "align_content": null,
      "align_items": null,
      "align_self": null,
      "border": null,
      "bottom": null,
      "display": null,
      "flex": null,
      "flex_flow": null,
      "grid_area": null,
      "grid_auto_columns": null,
      "grid_auto_flow": null,
      "grid_auto_rows": null,
      "grid_column": null,
      "grid_gap": null,
      "grid_row": null,
      "grid_template_areas": null,
      "grid_template_columns": null,
      "grid_template_rows": null,
      "height": null,
      "justify_content": null,
      "justify_items": null,
      "left": null,
      "margin": null,
      "max_height": null,
      "max_width": null,
      "min_height": null,
      "min_width": null,
      "object_fit": null,
      "object_position": null,
      "order": null,
      "overflow": null,
      "overflow_x": null,
      "overflow_y": null,
      "padding": null,
      "right": null,
      "top": null,
      "visibility": null,
      "width": null
     }
    },
    "052f4e258e4e4642a1a3d59ae9584fbb": {
     "model_module": "@jupyter-widgets/controls",
     "model_module_version": "1.5.0",
     "model_name": "HTMLModel",
     "state": {
      "_dom_classes": [],
      "_model_module": "@jupyter-widgets/controls",
      "_model_module_version": "1.5.0",
      "_model_name": "HTMLModel",
      "_view_count": null,
      "_view_module": "@jupyter-widgets/controls",
      "_view_module_version": "1.5.0",
      "_view_name": "HTMLView",
      "description": "",
      "description_tooltip": null,
      "layout": "IPY_MODEL_160b21c3d2d74844ad048f72e2bf9550",
      "placeholder": "​",
      "style": "IPY_MODEL_c00f4a1dd827439493bef1c754d2f6ba",
      "value": " 124/124 [00:00&lt;00:00, 6.20kB/s]"
     }
    },
    "092a59ffa1794e958002ff50e7ab8c20": {
     "model_module": "@jupyter-widgets/controls",
     "model_module_version": "1.5.0",
     "model_name": "HTMLModel",
     "state": {
      "_dom_classes": [],
      "_model_module": "@jupyter-widgets/controls",
      "_model_module_version": "1.5.0",
      "_model_name": "HTMLModel",
      "_view_count": null,
      "_view_module": "@jupyter-widgets/controls",
      "_view_module_version": "1.5.0",
      "_view_name": "HTMLView",
      "description": "",
      "description_tooltip": null,
      "layout": "IPY_MODEL_99c1f6c37eeb4e78b9c6176b3a7045eb",
      "placeholder": "​",
      "style": "IPY_MODEL_45a5c37d668447458e6ad3e33b0edb15",
      "value": "tokenizer_config.json: 100%"
     }
    },
    "0b37b1de85c14e7d8c7feed79dbb2f23": {
     "model_module": "@jupyter-widgets/controls",
     "model_module_version": "1.5.0",
     "model_name": "FloatProgressModel",
     "state": {
      "_dom_classes": [],
      "_model_module": "@jupyter-widgets/controls",
      "_model_module_version": "1.5.0",
      "_model_name": "FloatProgressModel",
      "_view_count": null,
      "_view_module": "@jupyter-widgets/controls",
      "_view_module_version": "1.5.0",
      "_view_name": "ProgressView",
      "bar_style": "success",
      "description": "",
      "description_tooltip": null,
      "layout": "IPY_MODEL_42fbe4e68879486295c7b49563f36c89",
      "max": 366,
      "min": 0,
      "orientation": "horizontal",
      "style": "IPY_MODEL_0bb791ece8164d698ac57d160c5b15d9",
      "value": 366
     }
    },
    "0bb791ece8164d698ac57d160c5b15d9": {
     "model_module": "@jupyter-widgets/controls",
     "model_module_version": "1.5.0",
     "model_name": "ProgressStyleModel",
     "state": {
      "_model_module": "@jupyter-widgets/controls",
      "_model_module_version": "1.5.0",
      "_model_name": "ProgressStyleModel",
      "_view_count": null,
      "_view_module": "@jupyter-widgets/base",
      "_view_module_version": "1.2.0",
      "_view_name": "StyleView",
      "bar_color": null,
      "description_width": ""
     }
    },
    "0e7915fce89b4d74887e3cd0bdd5d310": {
     "model_module": "@jupyter-widgets/controls",
     "model_module_version": "1.5.0",
     "model_name": "HTMLModel",
     "state": {
      "_dom_classes": [],
      "_model_module": "@jupyter-widgets/controls",
      "_model_module_version": "1.5.0",
      "_model_name": "HTMLModel",
      "_view_count": null,
      "_view_module": "@jupyter-widgets/controls",
      "_view_module_version": "1.5.0",
      "_view_name": "HTMLView",
      "description": "",
      "description_tooltip": null,
      "layout": "IPY_MODEL_3fbb40c9ea53401bab3a1e2cd6905bd0",
      "placeholder": "​",
      "style": "IPY_MODEL_db1f81abb0964a9b9f967a978651fbc2",
      "value": "sentence_bert_config.json: 100%"
     }
    },
    "10888eb19c17421baee6d134a3c67e14": {
     "model_module": "@jupyter-widgets/base",
     "model_module_version": "1.2.0",
     "model_name": "LayoutModel",
     "state": {
      "_model_module": "@jupyter-widgets/base",
      "_model_module_version": "1.2.0",
      "_model_name": "LayoutModel",
      "_view_count": null,
      "_view_module": "@jupyter-widgets/base",
      "_view_module_version": "1.2.0",
      "_view_name": "LayoutView",
      "align_content": null,
      "align_items": null,
      "align_self": null,
      "border": null,
      "bottom": null,
      "display": null,
      "flex": null,
      "flex_flow": null,
      "grid_area": null,
      "grid_auto_columns": null,
      "grid_auto_flow": null,
      "grid_auto_rows": null,
      "grid_column": null,
      "grid_gap": null,
      "grid_row": null,
      "grid_template_areas": null,
      "grid_template_columns": null,
      "grid_template_rows": null,
      "height": null,
      "justify_content": null,
      "justify_items": null,
      "left": null,
      "margin": null,
      "max_height": null,
      "max_width": null,
      "min_height": null,
      "min_width": null,
      "object_fit": null,
      "object_position": null,
      "order": null,
      "overflow": null,
      "overflow_x": null,
      "overflow_y": null,
      "padding": null,
      "right": null,
      "top": null,
      "visibility": null,
      "width": null
     }
    },
    "1098fe27e0bd48cd8c0f3d485e07a6bd": {
     "model_module": "@jupyter-widgets/controls",
     "model_module_version": "1.5.0",
     "model_name": "HTMLModel",
     "state": {
      "_dom_classes": [],
      "_model_module": "@jupyter-widgets/controls",
      "_model_module_version": "1.5.0",
      "_model_name": "HTMLModel",
      "_view_count": null,
      "_view_module": "@jupyter-widgets/controls",
      "_view_module_version": "1.5.0",
      "_view_name": "HTMLView",
      "description": "",
      "description_tooltip": null,
      "layout": "IPY_MODEL_ce982126877d4966bd102cd2cb2ca6e3",
      "placeholder": "​",
      "style": "IPY_MODEL_7414e9f9cdcf4fa680f147576a9eabd8",
      "value": " 366/366 [00:00&lt;00:00, 15.2kB/s]"
     }
    },
    "13fff4c430c64c11bf03f9cc3f38e70b": {
     "model_module": "@jupyter-widgets/controls",
     "model_module_version": "1.5.0",
     "model_name": "ProgressStyleModel",
     "state": {
      "_model_module": "@jupyter-widgets/controls",
      "_model_module_version": "1.5.0",
      "_model_name": "ProgressStyleModel",
      "_view_count": null,
      "_view_module": "@jupyter-widgets/base",
      "_view_module_version": "1.2.0",
      "_view_name": "StyleView",
      "bar_color": null,
      "description_width": ""
     }
    },
    "1554a9a8e32d4c088d54b1b977434a23": {
     "model_module": "@jupyter-widgets/base",
     "model_module_version": "1.2.0",
     "model_name": "LayoutModel",
     "state": {
      "_model_module": "@jupyter-widgets/base",
      "_model_module_version": "1.2.0",
      "_model_name": "LayoutModel",
      "_view_count": null,
      "_view_module": "@jupyter-widgets/base",
      "_view_module_version": "1.2.0",
      "_view_name": "LayoutView",
      "align_content": null,
      "align_items": null,
      "align_self": null,
      "border": null,
      "bottom": null,
      "display": null,
      "flex": null,
      "flex_flow": null,
      "grid_area": null,
      "grid_auto_columns": null,
      "grid_auto_flow": null,
      "grid_auto_rows": null,
      "grid_column": null,
      "grid_gap": null,
      "grid_row": null,
      "grid_template_areas": null,
      "grid_template_columns": null,
      "grid_template_rows": null,
      "height": null,
      "justify_content": null,
      "justify_items": null,
      "left": null,
      "margin": null,
      "max_height": null,
      "max_width": null,
      "min_height": null,
      "min_width": null,
      "object_fit": null,
      "object_position": null,
      "order": null,
      "overflow": null,
      "overflow_x": null,
      "overflow_y": null,
      "padding": null,
      "right": null,
      "top": null,
      "visibility": null,
      "width": null
     }
    },
    "160b21c3d2d74844ad048f72e2bf9550": {
     "model_module": "@jupyter-widgets/base",
     "model_module_version": "1.2.0",
     "model_name": "LayoutModel",
     "state": {
      "_model_module": "@jupyter-widgets/base",
      "_model_module_version": "1.2.0",
      "_model_name": "LayoutModel",
      "_view_count": null,
      "_view_module": "@jupyter-widgets/base",
      "_view_module_version": "1.2.0",
      "_view_name": "LayoutView",
      "align_content": null,
      "align_items": null,
      "align_self": null,
      "border": null,
      "bottom": null,
      "display": null,
      "flex": null,
      "flex_flow": null,
      "grid_area": null,
      "grid_auto_columns": null,
      "grid_auto_flow": null,
      "grid_auto_rows": null,
      "grid_column": null,
      "grid_gap": null,
      "grid_row": null,
      "grid_template_areas": null,
      "grid_template_columns": null,
      "grid_template_rows": null,
      "height": null,
      "justify_content": null,
      "justify_items": null,
      "left": null,
      "margin": null,
      "max_height": null,
      "max_width": null,
      "min_height": null,
      "min_width": null,
      "object_fit": null,
      "object_position": null,
      "order": null,
      "overflow": null,
      "overflow_x": null,
      "overflow_y": null,
      "padding": null,
      "right": null,
      "top": null,
      "visibility": null,
      "width": null
     }
    },
    "18983e4945ca487297292bcd17398602": {
     "model_module": "@jupyter-widgets/base",
     "model_module_version": "1.2.0",
     "model_name": "LayoutModel",
     "state": {
      "_model_module": "@jupyter-widgets/base",
      "_model_module_version": "1.2.0",
      "_model_name": "LayoutModel",
      "_view_count": null,
      "_view_module": "@jupyter-widgets/base",
      "_view_module_version": "1.2.0",
      "_view_name": "LayoutView",
      "align_content": null,
      "align_items": null,
      "align_self": null,
      "border": null,
      "bottom": null,
      "display": null,
      "flex": null,
      "flex_flow": null,
      "grid_area": null,
      "grid_auto_columns": null,
      "grid_auto_flow": null,
      "grid_auto_rows": null,
      "grid_column": null,
      "grid_gap": null,
      "grid_row": null,
      "grid_template_areas": null,
      "grid_template_columns": null,
      "grid_template_rows": null,
      "height": null,
      "justify_content": null,
      "justify_items": null,
      "left": null,
      "margin": null,
      "max_height": null,
      "max_width": null,
      "min_height": null,
      "min_width": null,
      "object_fit": null,
      "object_position": null,
      "order": null,
      "overflow": null,
      "overflow_x": null,
      "overflow_y": null,
      "padding": null,
      "right": null,
      "top": null,
      "visibility": null,
      "width": null
     }
    },
    "1cdd00b6bf714c778cc0a9709679ec7f": {
     "model_module": "@jupyter-widgets/controls",
     "model_module_version": "1.5.0",
     "model_name": "ProgressStyleModel",
     "state": {
      "_model_module": "@jupyter-widgets/controls",
      "_model_module_version": "1.5.0",
      "_model_name": "ProgressStyleModel",
      "_view_count": null,
      "_view_module": "@jupyter-widgets/base",
      "_view_module_version": "1.2.0",
      "_view_name": "StyleView",
      "bar_color": null,
      "description_width": ""
     }
    },
    "1d5d043f09744818a7460e8370b5dee6": {
     "model_module": "@jupyter-widgets/controls",
     "model_module_version": "1.5.0",
     "model_name": "HTMLModel",
     "state": {
      "_dom_classes": [],
      "_model_module": "@jupyter-widgets/controls",
      "_model_module_version": "1.5.0",
      "_model_name": "HTMLModel",
      "_view_count": null,
      "_view_module": "@jupyter-widgets/controls",
      "_view_module_version": "1.5.0",
      "_view_name": "HTMLView",
      "description": "",
      "description_tooltip": null,
      "layout": "IPY_MODEL_83b4cd008d4d4552bb60a27d8daf0e04",
      "placeholder": "​",
      "style": "IPY_MODEL_d40ba815e666498d8f2470364abaf4b9",
      "value": " 349/349 [00:00&lt;00:00, 12.2kB/s]"
     }
    },
    "1ea3bf388f304783b44031b91169550b": {
     "model_module": "@jupyter-widgets/controls",
     "model_module_version": "1.5.0",
     "model_name": "HBoxModel",
     "state": {
      "_dom_classes": [],
      "_model_module": "@jupyter-widgets/controls",
      "_model_module_version": "1.5.0",
      "_model_name": "HBoxModel",
      "_view_count": null,
      "_view_module": "@jupyter-widgets/controls",
      "_view_module_version": "1.5.0",
      "_view_name": "HBoxView",
      "box_style": "",
      "children": [
       "IPY_MODEL_c8f67d4b7146479cacf63de247796ee0",
       "IPY_MODEL_7bad59322d60454581583d923320f3f9",
       "IPY_MODEL_1d5d043f09744818a7460e8370b5dee6"
      ],
      "layout": "IPY_MODEL_21e65b25bb8742ce976c369064b37a3c"
     }
    },
    "2158788eae4946f7befdf668e134bb63": {
     "model_module": "@jupyter-widgets/base",
     "model_module_version": "1.2.0",
     "model_name": "LayoutModel",
     "state": {
      "_model_module": "@jupyter-widgets/base",
      "_model_module_version": "1.2.0",
      "_model_name": "LayoutModel",
      "_view_count": null,
      "_view_module": "@jupyter-widgets/base",
      "_view_module_version": "1.2.0",
      "_view_name": "LayoutView",
      "align_content": null,
      "align_items": null,
      "align_self": null,
      "border": null,
      "bottom": null,
      "display": null,
      "flex": null,
      "flex_flow": null,
      "grid_area": null,
      "grid_auto_columns": null,
      "grid_auto_flow": null,
      "grid_auto_rows": null,
      "grid_column": null,
      "grid_gap": null,
      "grid_row": null,
      "grid_template_areas": null,
      "grid_template_columns": null,
      "grid_template_rows": null,
      "height": null,
      "justify_content": null,
      "justify_items": null,
      "left": null,
      "margin": null,
      "max_height": null,
      "max_width": null,
      "min_height": null,
      "min_width": null,
      "object_fit": null,
      "object_position": null,
      "order": null,
      "overflow": null,
      "overflow_x": null,
      "overflow_y": null,
      "padding": null,
      "right": null,
      "top": null,
      "visibility": null,
      "width": null
     }
    },
    "21e65b25bb8742ce976c369064b37a3c": {
     "model_module": "@jupyter-widgets/base",
     "model_module_version": "1.2.0",
     "model_name": "LayoutModel",
     "state": {
      "_model_module": "@jupyter-widgets/base",
      "_model_module_version": "1.2.0",
      "_model_name": "LayoutModel",
      "_view_count": null,
      "_view_module": "@jupyter-widgets/base",
      "_view_module_version": "1.2.0",
      "_view_name": "LayoutView",
      "align_content": null,
      "align_items": null,
      "align_self": null,
      "border": null,
      "bottom": null,
      "display": null,
      "flex": null,
      "flex_flow": null,
      "grid_area": null,
      "grid_auto_columns": null,
      "grid_auto_flow": null,
      "grid_auto_rows": null,
      "grid_column": null,
      "grid_gap": null,
      "grid_row": null,
      "grid_template_areas": null,
      "grid_template_columns": null,
      "grid_template_rows": null,
      "height": null,
      "justify_content": null,
      "justify_items": null,
      "left": null,
      "margin": null,
      "max_height": null,
      "max_width": null,
      "min_height": null,
      "min_width": null,
      "object_fit": null,
      "object_position": null,
      "order": null,
      "overflow": null,
      "overflow_x": null,
      "overflow_y": null,
      "padding": null,
      "right": null,
      "top": null,
      "visibility": null,
      "width": null
     }
    },
    "2fcba9d757364798855859944f69ed71": {
     "model_module": "@jupyter-widgets/base",
     "model_module_version": "1.2.0",
     "model_name": "LayoutModel",
     "state": {
      "_model_module": "@jupyter-widgets/base",
      "_model_module_version": "1.2.0",
      "_model_name": "LayoutModel",
      "_view_count": null,
      "_view_module": "@jupyter-widgets/base",
      "_view_module_version": "1.2.0",
      "_view_name": "LayoutView",
      "align_content": null,
      "align_items": null,
      "align_self": null,
      "border": null,
      "bottom": null,
      "display": null,
      "flex": null,
      "flex_flow": null,
      "grid_area": null,
      "grid_auto_columns": null,
      "grid_auto_flow": null,
      "grid_auto_rows": null,
      "grid_column": null,
      "grid_gap": null,
      "grid_row": null,
      "grid_template_areas": null,
      "grid_template_columns": null,
      "grid_template_rows": null,
      "height": null,
      "justify_content": null,
      "justify_items": null,
      "left": null,
      "margin": null,
      "max_height": null,
      "max_width": null,
      "min_height": null,
      "min_width": null,
      "object_fit": null,
      "object_position": null,
      "order": null,
      "overflow": null,
      "overflow_x": null,
      "overflow_y": null,
      "padding": null,
      "right": null,
      "top": null,
      "visibility": null,
      "width": null
     }
    },
    "31be60fc8af14c2da1465203620cccad": {
     "model_module": "@jupyter-widgets/controls",
     "model_module_version": "1.5.0",
     "model_name": "DescriptionStyleModel",
     "state": {
      "_model_module": "@jupyter-widgets/controls",
      "_model_module_version": "1.5.0",
      "_model_name": "DescriptionStyleModel",
      "_view_count": null,
      "_view_module": "@jupyter-widgets/base",
      "_view_module_version": "1.2.0",
      "_view_name": "StyleView",
      "description_width": ""
     }
    },
    "3483b08f77e64d8693e8c00859358603": {
     "model_module": "@jupyter-widgets/controls",
     "model_module_version": "1.5.0",
     "model_name": "HTMLModel",
     "state": {
      "_dom_classes": [],
      "_model_module": "@jupyter-widgets/controls",
      "_model_module_version": "1.5.0",
      "_model_name": "HTMLModel",
      "_view_count": null,
      "_view_module": "@jupyter-widgets/controls",
      "_view_module_version": "1.5.0",
      "_view_name": "HTMLView",
      "description": "",
      "description_tooltip": null,
      "layout": "IPY_MODEL_f467840feca8425cbda1acb831d7c886",
      "placeholder": "​",
      "style": "IPY_MODEL_75ed7bf9bb4b421fb60eef54b24e4297",
      "value": "pytorch_model.bin: 100%"
     }
    },
    "34b3be76bd2b406999d2b77491247317": {
     "model_module": "@jupyter-widgets/controls",
     "model_module_version": "1.5.0",
     "model_name": "HTMLModel",
     "state": {
      "_dom_classes": [],
      "_model_module": "@jupyter-widgets/controls",
      "_model_module_version": "1.5.0",
      "_model_name": "HTMLModel",
      "_view_count": null,
      "_view_module": "@jupyter-widgets/controls",
      "_view_module_version": "1.5.0",
      "_view_name": "HTMLView",
      "description": "",
      "description_tooltip": null,
      "layout": "IPY_MODEL_b5be1082cbaf43698e7845a71fbfafe3",
      "placeholder": "​",
      "style": "IPY_MODEL_65a92a20bc184ef0bec97d03ffd8b491",
      "value": "README.md: 100%"
     }
    },
    "367972865e074aeaa5209b6e61aadd40": {
     "model_module": "@jupyter-widgets/base",
     "model_module_version": "1.2.0",
     "model_name": "LayoutModel",
     "state": {
      "_model_module": "@jupyter-widgets/base",
      "_model_module_version": "1.2.0",
      "_model_name": "LayoutModel",
      "_view_count": null,
      "_view_module": "@jupyter-widgets/base",
      "_view_module_version": "1.2.0",
      "_view_name": "LayoutView",
      "align_content": null,
      "align_items": null,
      "align_self": null,
      "border": null,
      "bottom": null,
      "display": null,
      "flex": null,
      "flex_flow": null,
      "grid_area": null,
      "grid_auto_columns": null,
      "grid_auto_flow": null,
      "grid_auto_rows": null,
      "grid_column": null,
      "grid_gap": null,
      "grid_row": null,
      "grid_template_areas": null,
      "grid_template_columns": null,
      "grid_template_rows": null,
      "height": null,
      "justify_content": null,
      "justify_items": null,
      "left": null,
      "margin": null,
      "max_height": null,
      "max_width": null,
      "min_height": null,
      "min_width": null,
      "object_fit": null,
      "object_position": null,
      "order": null,
      "overflow": null,
      "overflow_x": null,
      "overflow_y": null,
      "padding": null,
      "right": null,
      "top": null,
      "visibility": null,
      "width": null
     }
    },
    "37202e7eec054b7488c8b66955a258c1": {
     "model_module": "@jupyter-widgets/base",
     "model_module_version": "1.2.0",
     "model_name": "LayoutModel",
     "state": {
      "_model_module": "@jupyter-widgets/base",
      "_model_module_version": "1.2.0",
      "_model_name": "LayoutModel",
      "_view_count": null,
      "_view_module": "@jupyter-widgets/base",
      "_view_module_version": "1.2.0",
      "_view_name": "LayoutView",
      "align_content": null,
      "align_items": null,
      "align_self": null,
      "border": null,
      "bottom": null,
      "display": null,
      "flex": null,
      "flex_flow": null,
      "grid_area": null,
      "grid_auto_columns": null,
      "grid_auto_flow": null,
      "grid_auto_rows": null,
      "grid_column": null,
      "grid_gap": null,
      "grid_row": null,
      "grid_template_areas": null,
      "grid_template_columns": null,
      "grid_template_rows": null,
      "height": null,
      "justify_content": null,
      "justify_items": null,
      "left": null,
      "margin": null,
      "max_height": null,
      "max_width": null,
      "min_height": null,
      "min_width": null,
      "object_fit": null,
      "object_position": null,
      "order": null,
      "overflow": null,
      "overflow_x": null,
      "overflow_y": null,
      "padding": null,
      "right": null,
      "top": null,
      "visibility": null,
      "width": null
     }
    },
    "386fd64ea48c488bb2f04cf9668b9b3b": {
     "model_module": "@jupyter-widgets/controls",
     "model_module_version": "1.5.0",
     "model_name": "HTMLModel",
     "state": {
      "_dom_classes": [],
      "_model_module": "@jupyter-widgets/controls",
      "_model_module_version": "1.5.0",
      "_model_name": "HTMLModel",
      "_view_count": null,
      "_view_module": "@jupyter-widgets/controls",
      "_view_module_version": "1.5.0",
      "_view_name": "HTMLView",
      "description": "",
      "description_tooltip": null,
      "layout": "IPY_MODEL_37202e7eec054b7488c8b66955a258c1",
      "placeholder": "​",
      "style": "IPY_MODEL_eea26831119f4e7b82646ae8223fabe3",
      "value": " 190/190 [00:00&lt;00:00, 9.57kB/s]"
     }
    },
    "38a384d45142494bb7fc59bb66db5be4": {
     "model_module": "@jupyter-widgets/base",
     "model_module_version": "1.2.0",
     "model_name": "LayoutModel",
     "state": {
      "_model_module": "@jupyter-widgets/base",
      "_model_module_version": "1.2.0",
      "_model_name": "LayoutModel",
      "_view_count": null,
      "_view_module": "@jupyter-widgets/base",
      "_view_module_version": "1.2.0",
      "_view_name": "LayoutView",
      "align_content": null,
      "align_items": null,
      "align_self": null,
      "border": null,
      "bottom": null,
      "display": null,
      "flex": null,
      "flex_flow": null,
      "grid_area": null,
      "grid_auto_columns": null,
      "grid_auto_flow": null,
      "grid_auto_rows": null,
      "grid_column": null,
      "grid_gap": null,
      "grid_row": null,
      "grid_template_areas": null,
      "grid_template_columns": null,
      "grid_template_rows": null,
      "height": null,
      "justify_content": null,
      "justify_items": null,
      "left": null,
      "margin": null,
      "max_height": null,
      "max_width": null,
      "min_height": null,
      "min_width": null,
      "object_fit": null,
      "object_position": null,
      "order": null,
      "overflow": null,
      "overflow_x": null,
      "overflow_y": null,
      "padding": null,
      "right": null,
      "top": null,
      "visibility": null,
      "width": null
     }
    },
    "3ce6d63b431c44ddbb437ec726cf03a2": {
     "model_module": "@jupyter-widgets/base",
     "model_module_version": "1.2.0",
     "model_name": "LayoutModel",
     "state": {
      "_model_module": "@jupyter-widgets/base",
      "_model_module_version": "1.2.0",
      "_model_name": "LayoutModel",
      "_view_count": null,
      "_view_module": "@jupyter-widgets/base",
      "_view_module_version": "1.2.0",
      "_view_name": "LayoutView",
      "align_content": null,
      "align_items": null,
      "align_self": null,
      "border": null,
      "bottom": null,
      "display": null,
      "flex": null,
      "flex_flow": null,
      "grid_area": null,
      "grid_auto_columns": null,
      "grid_auto_flow": null,
      "grid_auto_rows": null,
      "grid_column": null,
      "grid_gap": null,
      "grid_row": null,
      "grid_template_areas": null,
      "grid_template_columns": null,
      "grid_template_rows": null,
      "height": null,
      "justify_content": null,
      "justify_items": null,
      "left": null,
      "margin": null,
      "max_height": null,
      "max_width": null,
      "min_height": null,
      "min_width": null,
      "object_fit": null,
      "object_position": null,
      "order": null,
      "overflow": null,
      "overflow_x": null,
      "overflow_y": null,
      "padding": null,
      "right": null,
      "top": null,
      "visibility": null,
      "width": null
     }
    },
    "3efd36964cf9471e838621c038165a5c": {
     "model_module": "@jupyter-widgets/controls",
     "model_module_version": "1.5.0",
     "model_name": "HTMLModel",
     "state": {
      "_dom_classes": [],
      "_model_module": "@jupyter-widgets/controls",
      "_model_module_version": "1.5.0",
      "_model_name": "HTMLModel",
      "_view_count": null,
      "_view_module": "@jupyter-widgets/controls",
      "_view_module_version": "1.5.0",
      "_view_name": "HTMLView",
      "description": "",
      "description_tooltip": null,
      "layout": "IPY_MODEL_73fd7c75cf004a5f83c3274e6b07e97b",
      "placeholder": "​",
      "style": "IPY_MODEL_95133297df1346edadf41213f7e47c5b",
      "value": " 134M/134M [00:01&lt;00:00, 156MB/s]"
     }
    },
    "3fbb40c9ea53401bab3a1e2cd6905bd0": {
     "model_module": "@jupyter-widgets/base",
     "model_module_version": "1.2.0",
     "model_name": "LayoutModel",
     "state": {
      "_model_module": "@jupyter-widgets/base",
      "_model_module_version": "1.2.0",
      "_model_name": "LayoutModel",
      "_view_count": null,
      "_view_module": "@jupyter-widgets/base",
      "_view_module_version": "1.2.0",
      "_view_name": "LayoutView",
      "align_content": null,
      "align_items": null,
      "align_self": null,
      "border": null,
      "bottom": null,
      "display": null,
      "flex": null,
      "flex_flow": null,
      "grid_area": null,
      "grid_auto_columns": null,
      "grid_auto_flow": null,
      "grid_auto_rows": null,
      "grid_column": null,
      "grid_gap": null,
      "grid_row": null,
      "grid_template_areas": null,
      "grid_template_columns": null,
      "grid_template_rows": null,
      "height": null,
      "justify_content": null,
      "justify_items": null,
      "left": null,
      "margin": null,
      "max_height": null,
      "max_width": null,
      "min_height": null,
      "min_width": null,
      "object_fit": null,
      "object_position": null,
      "order": null,
      "overflow": null,
      "overflow_x": null,
      "overflow_y": null,
      "padding": null,
      "right": null,
      "top": null,
      "visibility": null,
      "width": null
     }
    },
    "42fbe4e68879486295c7b49563f36c89": {
     "model_module": "@jupyter-widgets/base",
     "model_module_version": "1.2.0",
     "model_name": "LayoutModel",
     "state": {
      "_model_module": "@jupyter-widgets/base",
      "_model_module_version": "1.2.0",
      "_model_name": "LayoutModel",
      "_view_count": null,
      "_view_module": "@jupyter-widgets/base",
      "_view_module_version": "1.2.0",
      "_view_name": "LayoutView",
      "align_content": null,
      "align_items": null,
      "align_self": null,
      "border": null,
      "bottom": null,
      "display": null,
      "flex": null,
      "flex_flow": null,
      "grid_area": null,
      "grid_auto_columns": null,
      "grid_auto_flow": null,
      "grid_auto_rows": null,
      "grid_column": null,
      "grid_gap": null,
      "grid_row": null,
      "grid_template_areas": null,
      "grid_template_columns": null,
      "grid_template_rows": null,
      "height": null,
      "justify_content": null,
      "justify_items": null,
      "left": null,
      "margin": null,
      "max_height": null,
      "max_width": null,
      "min_height": null,
      "min_width": null,
      "object_fit": null,
      "object_position": null,
      "order": null,
      "overflow": null,
      "overflow_x": null,
      "overflow_y": null,
      "padding": null,
      "right": null,
      "top": null,
      "visibility": null,
      "width": null
     }
    },
    "43db30172d26484c950ced7b29ce38d5": {
     "model_module": "@jupyter-widgets/controls",
     "model_module_version": "1.5.0",
     "model_name": "HTMLModel",
     "state": {
      "_dom_classes": [],
      "_model_module": "@jupyter-widgets/controls",
      "_model_module_version": "1.5.0",
      "_model_name": "HTMLModel",
      "_view_count": null,
      "_view_module": "@jupyter-widgets/controls",
      "_view_module_version": "1.5.0",
      "_view_name": "HTMLView",
      "description": "",
      "description_tooltip": null,
      "layout": "IPY_MODEL_83de9b15a64a4d058d0d8d6440c4f992",
      "placeholder": "​",
      "style": "IPY_MODEL_9153ef974a4647d3b607baa6e09639d8",
      "value": " 52.0/52.0 [00:00&lt;00:00, 1.98kB/s]"
     }
    },
    "457b41834ed7403baddfb9870e4f2ed8": {
     "model_module": "@jupyter-widgets/controls",
     "model_module_version": "1.5.0",
     "model_name": "FloatProgressModel",
     "state": {
      "_dom_classes": [],
      "_model_module": "@jupyter-widgets/controls",
      "_model_module_version": "1.5.0",
      "_model_name": "FloatProgressModel",
      "_view_count": null,
      "_view_module": "@jupyter-widgets/controls",
      "_view_module_version": "1.5.0",
      "_view_name": "ProgressView",
      "bar_style": "success",
      "description": "",
      "description_tooltip": null,
      "layout": "IPY_MODEL_e618d718046146609f5485d9e49b76df",
      "max": 1519,
      "min": 0,
      "orientation": "horizontal",
      "style": "IPY_MODEL_fe05f8ac72b04958941efc4ad5f53004",
      "value": 1519
     }
    },
    "45a5c37d668447458e6ad3e33b0edb15": {
     "model_module": "@jupyter-widgets/controls",
     "model_module_version": "1.5.0",
     "model_name": "DescriptionStyleModel",
     "state": {
      "_model_module": "@jupyter-widgets/controls",
      "_model_module_version": "1.5.0",
      "_model_name": "DescriptionStyleModel",
      "_view_count": null,
      "_view_module": "@jupyter-widgets/base",
      "_view_module_version": "1.2.0",
      "_view_name": "StyleView",
      "description_width": ""
     }
    },
    "47a7da6ca628413ca3bb0f3c53166c44": {
     "model_module": "@jupyter-widgets/base",
     "model_module_version": "1.2.0",
     "model_name": "LayoutModel",
     "state": {
      "_model_module": "@jupyter-widgets/base",
      "_model_module_version": "1.2.0",
      "_model_name": "LayoutModel",
      "_view_count": null,
      "_view_module": "@jupyter-widgets/base",
      "_view_module_version": "1.2.0",
      "_view_name": "LayoutView",
      "align_content": null,
      "align_items": null,
      "align_self": null,
      "border": null,
      "bottom": null,
      "display": null,
      "flex": null,
      "flex_flow": null,
      "grid_area": null,
      "grid_auto_columns": null,
      "grid_auto_flow": null,
      "grid_auto_rows": null,
      "grid_column": null,
      "grid_gap": null,
      "grid_row": null,
      "grid_template_areas": null,
      "grid_template_columns": null,
      "grid_template_rows": null,
      "height": null,
      "justify_content": null,
      "justify_items": null,
      "left": null,
      "margin": null,
      "max_height": null,
      "max_width": null,
      "min_height": null,
      "min_width": null,
      "object_fit": null,
      "object_position": null,
      "order": null,
      "overflow": null,
      "overflow_x": null,
      "overflow_y": null,
      "padding": null,
      "right": null,
      "top": null,
      "visibility": null,
      "width": null
     }
    },
    "482923d1135a4994aba994be6368721b": {
     "model_module": "@jupyter-widgets/base",
     "model_module_version": "1.2.0",
     "model_name": "LayoutModel",
     "state": {
      "_model_module": "@jupyter-widgets/base",
      "_model_module_version": "1.2.0",
      "_model_name": "LayoutModel",
      "_view_count": null,
      "_view_module": "@jupyter-widgets/base",
      "_view_module_version": "1.2.0",
      "_view_name": "LayoutView",
      "align_content": null,
      "align_items": null,
      "align_self": null,
      "border": null,
      "bottom": null,
      "display": null,
      "flex": null,
      "flex_flow": null,
      "grid_area": null,
      "grid_auto_columns": null,
      "grid_auto_flow": null,
      "grid_auto_rows": null,
      "grid_column": null,
      "grid_gap": null,
      "grid_row": null,
      "grid_template_areas": null,
      "grid_template_columns": null,
      "grid_template_rows": null,
      "height": null,
      "justify_content": null,
      "justify_items": null,
      "left": null,
      "margin": null,
      "max_height": null,
      "max_width": null,
      "min_height": null,
      "min_width": null,
      "object_fit": null,
      "object_position": null,
      "order": null,
      "overflow": null,
      "overflow_x": null,
      "overflow_y": null,
      "padding": null,
      "right": null,
      "top": null,
      "visibility": null,
      "width": null
     }
    },
    "4b52caea755347e0926c5cac82224c39": {
     "model_module": "@jupyter-widgets/base",
     "model_module_version": "1.2.0",
     "model_name": "LayoutModel",
     "state": {
      "_model_module": "@jupyter-widgets/base",
      "_model_module_version": "1.2.0",
      "_model_name": "LayoutModel",
      "_view_count": null,
      "_view_module": "@jupyter-widgets/base",
      "_view_module_version": "1.2.0",
      "_view_name": "LayoutView",
      "align_content": null,
      "align_items": null,
      "align_self": null,
      "border": null,
      "bottom": null,
      "display": null,
      "flex": null,
      "flex_flow": null,
      "grid_area": null,
      "grid_auto_columns": null,
      "grid_auto_flow": null,
      "grid_auto_rows": null,
      "grid_column": null,
      "grid_gap": null,
      "grid_row": null,
      "grid_template_areas": null,
      "grid_template_columns": null,
      "grid_template_rows": null,
      "height": null,
      "justify_content": null,
      "justify_items": null,
      "left": null,
      "margin": null,
      "max_height": null,
      "max_width": null,
      "min_height": null,
      "min_width": null,
      "object_fit": null,
      "object_position": null,
      "order": null,
      "overflow": null,
      "overflow_x": null,
      "overflow_y": null,
      "padding": null,
      "right": null,
      "top": null,
      "visibility": null,
      "width": null
     }
    },
    "4b8351603acf4d83bce5b542c689f1b5": {
     "model_module": "@jupyter-widgets/base",
     "model_module_version": "1.2.0",
     "model_name": "LayoutModel",
     "state": {
      "_model_module": "@jupyter-widgets/base",
      "_model_module_version": "1.2.0",
      "_model_name": "LayoutModel",
      "_view_count": null,
      "_view_module": "@jupyter-widgets/base",
      "_view_module_version": "1.2.0",
      "_view_name": "LayoutView",
      "align_content": null,
      "align_items": null,
      "align_self": null,
      "border": null,
      "bottom": null,
      "display": null,
      "flex": null,
      "flex_flow": null,
      "grid_area": null,
      "grid_auto_columns": null,
      "grid_auto_flow": null,
      "grid_auto_rows": null,
      "grid_column": null,
      "grid_gap": null,
      "grid_row": null,
      "grid_template_areas": null,
      "grid_template_columns": null,
      "grid_template_rows": null,
      "height": null,
      "justify_content": null,
      "justify_items": null,
      "left": null,
      "margin": null,
      "max_height": null,
      "max_width": null,
      "min_height": null,
      "min_width": null,
      "object_fit": null,
      "object_position": null,
      "order": null,
      "overflow": null,
      "overflow_x": null,
      "overflow_y": null,
      "padding": null,
      "right": null,
      "top": null,
      "visibility": null,
      "width": null
     }
    },
    "4bdd727fc789431e93a2a6d2613226df": {
     "model_module": "@jupyter-widgets/controls",
     "model_module_version": "1.5.0",
     "model_name": "DescriptionStyleModel",
     "state": {
      "_model_module": "@jupyter-widgets/controls",
      "_model_module_version": "1.5.0",
      "_model_name": "DescriptionStyleModel",
      "_view_count": null,
      "_view_module": "@jupyter-widgets/base",
      "_view_module_version": "1.2.0",
      "_view_name": "StyleView",
      "description_width": ""
     }
    },
    "4c8192e3c9664e0ba84d34ca6c8d87e5": {
     "model_module": "@jupyter-widgets/base",
     "model_module_version": "1.2.0",
     "model_name": "LayoutModel",
     "state": {
      "_model_module": "@jupyter-widgets/base",
      "_model_module_version": "1.2.0",
      "_model_name": "LayoutModel",
      "_view_count": null,
      "_view_module": "@jupyter-widgets/base",
      "_view_module_version": "1.2.0",
      "_view_name": "LayoutView",
      "align_content": null,
      "align_items": null,
      "align_self": null,
      "border": null,
      "bottom": null,
      "display": null,
      "flex": null,
      "flex_flow": null,
      "grid_area": null,
      "grid_auto_columns": null,
      "grid_auto_flow": null,
      "grid_auto_rows": null,
      "grid_column": null,
      "grid_gap": null,
      "grid_row": null,
      "grid_template_areas": null,
      "grid_template_columns": null,
      "grid_template_rows": null,
      "height": null,
      "justify_content": null,
      "justify_items": null,
      "left": null,
      "margin": null,
      "max_height": null,
      "max_width": null,
      "min_height": null,
      "min_width": null,
      "object_fit": null,
      "object_position": null,
      "order": null,
      "overflow": null,
      "overflow_x": null,
      "overflow_y": null,
      "padding": null,
      "right": null,
      "top": null,
      "visibility": null,
      "width": null
     }
    },
    "4f8e20eaef7147a1aa671505ab3fb9af": {
     "model_module": "@jupyter-widgets/controls",
     "model_module_version": "1.5.0",
     "model_name": "HTMLModel",
     "state": {
      "_dom_classes": [],
      "_model_module": "@jupyter-widgets/controls",
      "_model_module_version": "1.5.0",
      "_model_name": "HTMLModel",
      "_view_count": null,
      "_view_module": "@jupyter-widgets/controls",
      "_view_module_version": "1.5.0",
      "_view_name": "HTMLView",
      "description": "",
      "description_tooltip": null,
      "layout": "IPY_MODEL_4b52caea755347e0926c5cac82224c39",
      "placeholder": "​",
      "style": "IPY_MODEL_8097fe130fcf465c98e9bf3c919d60d6",
      "value": " 90.3k/90.3k [00:00&lt;00:00, 4.14MB/s]"
     }
    },
    "53e2d05489b14fd098e49652f3b7b902": {
     "model_module": "@jupyter-widgets/base",
     "model_module_version": "1.2.0",
     "model_name": "LayoutModel",
     "state": {
      "_model_module": "@jupyter-widgets/base",
      "_model_module_version": "1.2.0",
      "_model_name": "LayoutModel",
      "_view_count": null,
      "_view_module": "@jupyter-widgets/base",
      "_view_module_version": "1.2.0",
      "_view_name": "LayoutView",
      "align_content": null,
      "align_items": null,
      "align_self": null,
      "border": null,
      "bottom": null,
      "display": null,
      "flex": null,
      "flex_flow": null,
      "grid_area": null,
      "grid_auto_columns": null,
      "grid_auto_flow": null,
      "grid_auto_rows": null,
      "grid_column": null,
      "grid_gap": null,
      "grid_row": null,
      "grid_template_areas": null,
      "grid_template_columns": null,
      "grid_template_rows": null,
      "height": null,
      "justify_content": null,
      "justify_items": null,
      "left": null,
      "margin": null,
      "max_height": null,
      "max_width": null,
      "min_height": null,
      "min_width": null,
      "object_fit": null,
      "object_position": null,
      "order": null,
      "overflow": null,
      "overflow_x": null,
      "overflow_y": null,
      "padding": null,
      "right": null,
      "top": null,
      "visibility": null,
      "width": null
     }
    },
    "540b2b1de7254e4095a32489f6cca38b": {
     "model_module": "@jupyter-widgets/controls",
     "model_module_version": "1.5.0",
     "model_name": "FloatProgressModel",
     "state": {
      "_dom_classes": [],
      "_model_module": "@jupyter-widgets/controls",
      "_model_module_version": "1.5.0",
      "_model_name": "FloatProgressModel",
      "_view_count": null,
      "_view_module": "@jupyter-widgets/controls",
      "_view_module_version": "1.5.0",
      "_view_name": "ProgressView",
      "bar_style": "success",
      "description": "",
      "description_tooltip": null,
      "layout": "IPY_MODEL_af566c6200f2439dbd5f3d9ec9f3973b",
      "max": 743,
      "min": 0,
      "orientation": "horizontal",
      "style": "IPY_MODEL_88c27c5b42594b10a3e99fab47a70a6f",
      "value": 743
     }
    },
    "5577bebd04e24609b179f247e88b35e2": {
     "model_module": "@jupyter-widgets/base",
     "model_module_version": "1.2.0",
     "model_name": "LayoutModel",
     "state": {
      "_model_module": "@jupyter-widgets/base",
      "_model_module_version": "1.2.0",
      "_model_name": "LayoutModel",
      "_view_count": null,
      "_view_module": "@jupyter-widgets/base",
      "_view_module_version": "1.2.0",
      "_view_name": "LayoutView",
      "align_content": null,
      "align_items": null,
      "align_self": null,
      "border": null,
      "bottom": null,
      "display": null,
      "flex": null,
      "flex_flow": null,
      "grid_area": null,
      "grid_auto_columns": null,
      "grid_auto_flow": null,
      "grid_auto_rows": null,
      "grid_column": null,
      "grid_gap": null,
      "grid_row": null,
      "grid_template_areas": null,
      "grid_template_columns": null,
      "grid_template_rows": null,
      "height": null,
      "justify_content": null,
      "justify_items": null,
      "left": null,
      "margin": null,
      "max_height": null,
      "max_width": null,
      "min_height": null,
      "min_width": null,
      "object_fit": null,
      "object_position": null,
      "order": null,
      "overflow": null,
      "overflow_x": null,
      "overflow_y": null,
      "padding": null,
      "right": null,
      "top": null,
      "visibility": null,
      "width": null
     }
    },
    "570e62e16618472d8a15b4c94c2cf301": {
     "model_module": "@jupyter-widgets/controls",
     "model_module_version": "1.5.0",
     "model_name": "HTMLModel",
     "state": {
      "_dom_classes": [],
      "_model_module": "@jupyter-widgets/controls",
      "_model_module_version": "1.5.0",
      "_model_name": "HTMLModel",
      "_view_count": null,
      "_view_module": "@jupyter-widgets/controls",
      "_view_module_version": "1.5.0",
      "_view_name": "HTMLView",
      "description": "",
      "description_tooltip": null,
      "layout": "IPY_MODEL_a1bb604cd1864429a31211155f68d794",
      "placeholder": "​",
      "style": "IPY_MODEL_fbb08f93abc64c4eb365d18dfdf3b0c5",
      "value": "1_Pooling/config.json: 100%"
     }
    },
    "5b7d629a5acb4ce893627f23ec053721": {
     "model_module": "@jupyter-widgets/controls",
     "model_module_version": "1.5.0",
     "model_name": "ProgressStyleModel",
     "state": {
      "_model_module": "@jupyter-widgets/controls",
      "_model_module_version": "1.5.0",
      "_model_name": "ProgressStyleModel",
      "_view_count": null,
      "_view_module": "@jupyter-widgets/base",
      "_view_module_version": "1.2.0",
      "_view_name": "StyleView",
      "bar_color": null,
      "description_width": ""
     }
    },
    "5b836ea678134855a72e5c958495b407": {
     "model_module": "@jupyter-widgets/controls",
     "model_module_version": "1.5.0",
     "model_name": "ProgressStyleModel",
     "state": {
      "_model_module": "@jupyter-widgets/controls",
      "_model_module_version": "1.5.0",
      "_model_name": "ProgressStyleModel",
      "_view_count": null,
      "_view_module": "@jupyter-widgets/base",
      "_view_module_version": "1.2.0",
      "_view_name": "StyleView",
      "bar_color": null,
      "description_width": ""
     }
    },
    "61a697d1b2f54685a24f705b82dbbf20": {
     "model_module": "@jupyter-widgets/controls",
     "model_module_version": "1.5.0",
     "model_name": "HBoxModel",
     "state": {
      "_dom_classes": [],
      "_model_module": "@jupyter-widgets/controls",
      "_model_module_version": "1.5.0",
      "_model_name": "HBoxModel",
      "_view_count": null,
      "_view_module": "@jupyter-widgets/controls",
      "_view_module_version": "1.5.0",
      "_view_name": "HBoxView",
      "box_style": "",
      "children": [
       "IPY_MODEL_8ed2b64a3d6744478c209104c345b1fc",
       "IPY_MODEL_540b2b1de7254e4095a32489f6cca38b",
       "IPY_MODEL_9255588ffbb1475697f128638ac2df8e"
      ],
      "layout": "IPY_MODEL_367972865e074aeaa5209b6e61aadd40"
     }
    },
    "62533a0836fd463faa1a69b5632dd14d": {
     "model_module": "@jupyter-widgets/controls",
     "model_module_version": "1.5.0",
     "model_name": "DescriptionStyleModel",
     "state": {
      "_model_module": "@jupyter-widgets/controls",
      "_model_module_version": "1.5.0",
      "_model_name": "DescriptionStyleModel",
      "_view_count": null,
      "_view_module": "@jupyter-widgets/base",
      "_view_module_version": "1.2.0",
      "_view_name": "StyleView",
      "description_width": ""
     }
    },
    "6566220e029e4c18837b48d5863bcf1b": {
     "model_module": "@jupyter-widgets/controls",
     "model_module_version": "1.5.0",
     "model_name": "HBoxModel",
     "state": {
      "_dom_classes": [],
      "_model_module": "@jupyter-widgets/controls",
      "_model_module_version": "1.5.0",
      "_model_name": "HBoxModel",
      "_view_count": null,
      "_view_module": "@jupyter-widgets/controls",
      "_view_module_version": "1.5.0",
      "_view_name": "HBoxView",
      "box_style": "",
      "children": [
       "IPY_MODEL_3483b08f77e64d8693e8c00859358603",
       "IPY_MODEL_8f3df5e0707b4af9acd69397699deaa5",
       "IPY_MODEL_3efd36964cf9471e838621c038165a5c"
      ],
      "layout": "IPY_MODEL_38a384d45142494bb7fc59bb66db5be4"
     }
    },
    "65a92a20bc184ef0bec97d03ffd8b491": {
     "model_module": "@jupyter-widgets/controls",
     "model_module_version": "1.5.0",
     "model_name": "DescriptionStyleModel",
     "state": {
      "_model_module": "@jupyter-widgets/controls",
      "_model_module_version": "1.5.0",
      "_model_name": "DescriptionStyleModel",
      "_view_count": null,
      "_view_module": "@jupyter-widgets/base",
      "_view_module_version": "1.2.0",
      "_view_name": "StyleView",
      "description_width": ""
     }
    },
    "69b493fde5e243df9be04a2f53d1bc0f": {
     "model_module": "@jupyter-widgets/base",
     "model_module_version": "1.2.0",
     "model_name": "LayoutModel",
     "state": {
      "_model_module": "@jupyter-widgets/base",
      "_model_module_version": "1.2.0",
      "_model_name": "LayoutModel",
      "_view_count": null,
      "_view_module": "@jupyter-widgets/base",
      "_view_module_version": "1.2.0",
      "_view_name": "LayoutView",
      "align_content": null,
      "align_items": null,
      "align_self": null,
      "border": null,
      "bottom": null,
      "display": null,
      "flex": null,
      "flex_flow": null,
      "grid_area": null,
      "grid_auto_columns": null,
      "grid_auto_flow": null,
      "grid_auto_rows": null,
      "grid_column": null,
      "grid_gap": null,
      "grid_row": null,
      "grid_template_areas": null,
      "grid_template_columns": null,
      "grid_template_rows": null,
      "height": null,
      "justify_content": null,
      "justify_items": null,
      "left": null,
      "margin": null,
      "max_height": null,
      "max_width": null,
      "min_height": null,
      "min_width": null,
      "object_fit": null,
      "object_position": null,
      "order": null,
      "overflow": null,
      "overflow_x": null,
      "overflow_y": null,
      "padding": null,
      "right": null,
      "top": null,
      "visibility": null,
      "width": null
     }
    },
    "69df742093da485aaea560056fa0f175": {
     "model_module": "@jupyter-widgets/controls",
     "model_module_version": "1.5.0",
     "model_name": "ProgressStyleModel",
     "state": {
      "_model_module": "@jupyter-widgets/controls",
      "_model_module_version": "1.5.0",
      "_model_name": "ProgressStyleModel",
      "_view_count": null,
      "_view_module": "@jupyter-widgets/base",
      "_view_module_version": "1.2.0",
      "_view_name": "StyleView",
      "bar_color": null,
      "description_width": ""
     }
    },
    "6c22f3684bfd4d5c98dbb355ae86b17f": {
     "model_module": "@jupyter-widgets/base",
     "model_module_version": "1.2.0",
     "model_name": "LayoutModel",
     "state": {
      "_model_module": "@jupyter-widgets/base",
      "_model_module_version": "1.2.0",
      "_model_name": "LayoutModel",
      "_view_count": null,
      "_view_module": "@jupyter-widgets/base",
      "_view_module_version": "1.2.0",
      "_view_name": "LayoutView",
      "align_content": null,
      "align_items": null,
      "align_self": null,
      "border": null,
      "bottom": null,
      "display": null,
      "flex": null,
      "flex_flow": null,
      "grid_area": null,
      "grid_auto_columns": null,
      "grid_auto_flow": null,
      "grid_auto_rows": null,
      "grid_column": null,
      "grid_gap": null,
      "grid_row": null,
      "grid_template_areas": null,
      "grid_template_columns": null,
      "grid_template_rows": null,
      "height": null,
      "justify_content": null,
      "justify_items": null,
      "left": null,
      "margin": null,
      "max_height": null,
      "max_width": null,
      "min_height": null,
      "min_width": null,
      "object_fit": null,
      "object_position": null,
      "order": null,
      "overflow": null,
      "overflow_x": null,
      "overflow_y": null,
      "padding": null,
      "right": null,
      "top": null,
      "visibility": null,
      "width": null
     }
    },
    "6c34decc018343a29ff677bf8662a811": {
     "model_module": "@jupyter-widgets/controls",
     "model_module_version": "1.5.0",
     "model_name": "DescriptionStyleModel",
     "state": {
      "_model_module": "@jupyter-widgets/controls",
      "_model_module_version": "1.5.0",
      "_model_name": "DescriptionStyleModel",
      "_view_count": null,
      "_view_module": "@jupyter-widgets/base",
      "_view_module_version": "1.2.0",
      "_view_name": "StyleView",
      "description_width": ""
     }
    },
    "6eaae6225bee496a8ec5313f530492ed": {
     "model_module": "@jupyter-widgets/controls",
     "model_module_version": "1.5.0",
     "model_name": "FloatProgressModel",
     "state": {
      "_dom_classes": [],
      "_model_module": "@jupyter-widgets/controls",
      "_model_module_version": "1.5.0",
      "_model_name": "FloatProgressModel",
      "_view_count": null,
      "_view_module": "@jupyter-widgets/controls",
      "_view_module_version": "1.5.0",
      "_view_name": "ProgressView",
      "bar_style": "success",
      "description": "",
      "description_tooltip": null,
      "layout": "IPY_MODEL_a5d9313b20534864af2070d8ca0ae1ea",
      "max": 52,
      "min": 0,
      "orientation": "horizontal",
      "style": "IPY_MODEL_91d40d7cf04a4c2b893f743b28328c0c",
      "value": 52
     }
    },
    "73fd7c75cf004a5f83c3274e6b07e97b": {
     "model_module": "@jupyter-widgets/base",
     "model_module_version": "1.2.0",
     "model_name": "LayoutModel",
     "state": {
      "_model_module": "@jupyter-widgets/base",
      "_model_module_version": "1.2.0",
      "_model_name": "LayoutModel",
      "_view_count": null,
      "_view_module": "@jupyter-widgets/base",
      "_view_module_version": "1.2.0",
      "_view_name": "LayoutView",
      "align_content": null,
      "align_items": null,
      "align_self": null,
      "border": null,
      "bottom": null,
      "display": null,
      "flex": null,
      "flex_flow": null,
      "grid_area": null,
      "grid_auto_columns": null,
      "grid_auto_flow": null,
      "grid_auto_rows": null,
      "grid_column": null,
      "grid_gap": null,
      "grid_row": null,
      "grid_template_areas": null,
      "grid_template_columns": null,
      "grid_template_rows": null,
      "height": null,
      "justify_content": null,
      "justify_items": null,
      "left": null,
      "margin": null,
      "max_height": null,
      "max_width": null,
      "min_height": null,
      "min_width": null,
      "object_fit": null,
      "object_position": null,
      "order": null,
      "overflow": null,
      "overflow_x": null,
      "overflow_y": null,
      "padding": null,
      "right": null,
      "top": null,
      "visibility": null,
      "width": null
     }
    },
    "7414e9f9cdcf4fa680f147576a9eabd8": {
     "model_module": "@jupyter-widgets/controls",
     "model_module_version": "1.5.0",
     "model_name": "DescriptionStyleModel",
     "state": {
      "_model_module": "@jupyter-widgets/controls",
      "_model_module_version": "1.5.0",
      "_model_name": "DescriptionStyleModel",
      "_view_count": null,
      "_view_module": "@jupyter-widgets/base",
      "_view_module_version": "1.2.0",
      "_view_name": "StyleView",
      "description_width": ""
     }
    },
    "75ed7bf9bb4b421fb60eef54b24e4297": {
     "model_module": "@jupyter-widgets/controls",
     "model_module_version": "1.5.0",
     "model_name": "DescriptionStyleModel",
     "state": {
      "_model_module": "@jupyter-widgets/controls",
      "_model_module_version": "1.5.0",
      "_model_name": "DescriptionStyleModel",
      "_view_count": null,
      "_view_module": "@jupyter-widgets/base",
      "_view_module_version": "1.2.0",
      "_view_name": "StyleView",
      "description_width": ""
     }
    },
    "76a01a42c9ca4804a945cadf16caa423": {
     "model_module": "@jupyter-widgets/base",
     "model_module_version": "1.2.0",
     "model_name": "LayoutModel",
     "state": {
      "_model_module": "@jupyter-widgets/base",
      "_model_module_version": "1.2.0",
      "_model_name": "LayoutModel",
      "_view_count": null,
      "_view_module": "@jupyter-widgets/base",
      "_view_module_version": "1.2.0",
      "_view_name": "LayoutView",
      "align_content": null,
      "align_items": null,
      "align_self": null,
      "border": null,
      "bottom": null,
      "display": null,
      "flex": null,
      "flex_flow": null,
      "grid_area": null,
      "grid_auto_columns": null,
      "grid_auto_flow": null,
      "grid_auto_rows": null,
      "grid_column": null,
      "grid_gap": null,
      "grid_row": null,
      "grid_template_areas": null,
      "grid_template_columns": null,
      "grid_template_rows": null,
      "height": null,
      "justify_content": null,
      "justify_items": null,
      "left": null,
      "margin": null,
      "max_height": null,
      "max_width": null,
      "min_height": null,
      "min_width": null,
      "object_fit": null,
      "object_position": null,
      "order": null,
      "overflow": null,
      "overflow_x": null,
      "overflow_y": null,
      "padding": null,
      "right": null,
      "top": null,
      "visibility": null,
      "width": null
     }
    },
    "79a97b97dd784091b0edba0f21529889": {
     "model_module": "@jupyter-widgets/controls",
     "model_module_version": "1.5.0",
     "model_name": "HTMLModel",
     "state": {
      "_dom_classes": [],
      "_model_module": "@jupyter-widgets/controls",
      "_model_module_version": "1.5.0",
      "_model_name": "HTMLModel",
      "_view_count": null,
      "_view_module": "@jupyter-widgets/controls",
      "_view_module_version": "1.5.0",
      "_view_name": "HTMLView",
      "description": "",
      "description_tooltip": null,
      "layout": "IPY_MODEL_6c22f3684bfd4d5c98dbb355ae86b17f",
      "placeholder": "​",
      "style": "IPY_MODEL_b3b183e2f8a842248359a9fb8eb784d1",
      "value": " 125/125 [00:00&lt;00:00, 3.71kB/s]"
     }
    },
    "7bad59322d60454581583d923320f3f9": {
     "model_module": "@jupyter-widgets/controls",
     "model_module_version": "1.5.0",
     "model_name": "FloatProgressModel",
     "state": {
      "_dom_classes": [],
      "_model_module": "@jupyter-widgets/controls",
      "_model_module_version": "1.5.0",
      "_model_name": "FloatProgressModel",
      "_view_count": null,
      "_view_module": "@jupyter-widgets/controls",
      "_view_module_version": "1.5.0",
      "_view_name": "ProgressView",
      "bar_style": "success",
      "description": "",
      "description_tooltip": null,
      "layout": "IPY_MODEL_f588896d52d64716ac4e2c535c9cfff6",
      "max": 349,
      "min": 0,
      "orientation": "horizontal",
      "style": "IPY_MODEL_bdafce766d97423ca329cbe2cc09d9dd",
      "value": 349
     }
    },
    "7fdb903fd43e42ae8cd7c2412f437b7f": {
     "model_module": "@jupyter-widgets/controls",
     "model_module_version": "1.5.0",
     "model_name": "FloatProgressModel",
     "state": {
      "_dom_classes": [],
      "_model_module": "@jupyter-widgets/controls",
      "_model_module_version": "1.5.0",
      "_model_name": "FloatProgressModel",
      "_view_count": null,
      "_view_module": "@jupyter-widgets/controls",
      "_view_module_version": "1.5.0",
      "_view_name": "ProgressView",
      "bar_style": "success",
      "description": "",
      "description_tooltip": null,
      "layout": "IPY_MODEL_3ce6d63b431c44ddbb437ec726cf03a2",
      "max": 711396,
      "min": 0,
      "orientation": "horizontal",
      "style": "IPY_MODEL_1cdd00b6bf714c778cc0a9709679ec7f",
      "value": 711396
     }
    },
    "7fe5ab171ad1453d9db4a5c52174d554": {
     "model_module": "@jupyter-widgets/controls",
     "model_module_version": "1.5.0",
     "model_name": "HTMLModel",
     "state": {
      "_dom_classes": [],
      "_model_module": "@jupyter-widgets/controls",
      "_model_module_version": "1.5.0",
      "_model_name": "HTMLModel",
      "_view_count": null,
      "_view_module": "@jupyter-widgets/controls",
      "_view_module_version": "1.5.0",
      "_view_name": "HTMLView",
      "description": "",
      "description_tooltip": null,
      "layout": "IPY_MODEL_d3be0cb2955848bfb1cfd0620b8d9b85",
      "placeholder": "​",
      "style": "IPY_MODEL_e58e8ba1ba864af78591ba8a16c2907f",
      "value": " 711k/711k [00:00&lt;00:00, 18.7MB/s]"
     }
    },
    "8097fe130fcf465c98e9bf3c919d60d6": {
     "model_module": "@jupyter-widgets/controls",
     "model_module_version": "1.5.0",
     "model_name": "DescriptionStyleModel",
     "state": {
      "_model_module": "@jupyter-widgets/controls",
      "_model_module_version": "1.5.0",
      "_model_name": "DescriptionStyleModel",
      "_view_count": null,
      "_view_module": "@jupyter-widgets/base",
      "_view_module_version": "1.2.0",
      "_view_name": "StyleView",
      "description_width": ""
     }
    },
    "83b4cd008d4d4552bb60a27d8daf0e04": {
     "model_module": "@jupyter-widgets/base",
     "model_module_version": "1.2.0",
     "model_name": "LayoutModel",
     "state": {
      "_model_module": "@jupyter-widgets/base",
      "_model_module_version": "1.2.0",
      "_model_name": "LayoutModel",
      "_view_count": null,
      "_view_module": "@jupyter-widgets/base",
      "_view_module_version": "1.2.0",
      "_view_name": "LayoutView",
      "align_content": null,
      "align_items": null,
      "align_self": null,
      "border": null,
      "bottom": null,
      "display": null,
      "flex": null,
      "flex_flow": null,
      "grid_area": null,
      "grid_auto_columns": null,
      "grid_auto_flow": null,
      "grid_auto_rows": null,
      "grid_column": null,
      "grid_gap": null,
      "grid_row": null,
      "grid_template_areas": null,
      "grid_template_columns": null,
      "grid_template_rows": null,
      "height": null,
      "justify_content": null,
      "justify_items": null,
      "left": null,
      "margin": null,
      "max_height": null,
      "max_width": null,
      "min_height": null,
      "min_width": null,
      "object_fit": null,
      "object_position": null,
      "order": null,
      "overflow": null,
      "overflow_x": null,
      "overflow_y": null,
      "padding": null,
      "right": null,
      "top": null,
      "visibility": null,
      "width": null
     }
    },
    "83de9b15a64a4d058d0d8d6440c4f992": {
     "model_module": "@jupyter-widgets/base",
     "model_module_version": "1.2.0",
     "model_name": "LayoutModel",
     "state": {
      "_model_module": "@jupyter-widgets/base",
      "_model_module_version": "1.2.0",
      "_model_name": "LayoutModel",
      "_view_count": null,
      "_view_module": "@jupyter-widgets/base",
      "_view_module_version": "1.2.0",
      "_view_name": "LayoutView",
      "align_content": null,
      "align_items": null,
      "align_self": null,
      "border": null,
      "bottom": null,
      "display": null,
      "flex": null,
      "flex_flow": null,
      "grid_area": null,
      "grid_auto_columns": null,
      "grid_auto_flow": null,
      "grid_auto_rows": null,
      "grid_column": null,
      "grid_gap": null,
      "grid_row": null,
      "grid_template_areas": null,
      "grid_template_columns": null,
      "grid_template_rows": null,
      "height": null,
      "justify_content": null,
      "justify_items": null,
      "left": null,
      "margin": null,
      "max_height": null,
      "max_width": null,
      "min_height": null,
      "min_width": null,
      "object_fit": null,
      "object_position": null,
      "order": null,
      "overflow": null,
      "overflow_x": null,
      "overflow_y": null,
      "padding": null,
      "right": null,
      "top": null,
      "visibility": null,
      "width": null
     }
    },
    "856c668f67e247928b439e6fd0dddacb": {
     "model_module": "@jupyter-widgets/controls",
     "model_module_version": "1.5.0",
     "model_name": "DescriptionStyleModel",
     "state": {
      "_model_module": "@jupyter-widgets/controls",
      "_model_module_version": "1.5.0",
      "_model_name": "DescriptionStyleModel",
      "_view_count": null,
      "_view_module": "@jupyter-widgets/base",
      "_view_module_version": "1.2.0",
      "_view_name": "StyleView",
      "description_width": ""
     }
    },
    "8752e44c40544cec93eed9d55b68a117": {
     "model_module": "@jupyter-widgets/base",
     "model_module_version": "1.2.0",
     "model_name": "LayoutModel",
     "state": {
      "_model_module": "@jupyter-widgets/base",
      "_model_module_version": "1.2.0",
      "_model_name": "LayoutModel",
      "_view_count": null,
      "_view_module": "@jupyter-widgets/base",
      "_view_module_version": "1.2.0",
      "_view_name": "LayoutView",
      "align_content": null,
      "align_items": null,
      "align_self": null,
      "border": null,
      "bottom": null,
      "display": null,
      "flex": null,
      "flex_flow": null,
      "grid_area": null,
      "grid_auto_columns": null,
      "grid_auto_flow": null,
      "grid_auto_rows": null,
      "grid_column": null,
      "grid_gap": null,
      "grid_row": null,
      "grid_template_areas": null,
      "grid_template_columns": null,
      "grid_template_rows": null,
      "height": null,
      "justify_content": null,
      "justify_items": null,
      "left": null,
      "margin": null,
      "max_height": null,
      "max_width": null,
      "min_height": null,
      "min_width": null,
      "object_fit": null,
      "object_position": null,
      "order": null,
      "overflow": null,
      "overflow_x": null,
      "overflow_y": null,
      "padding": null,
      "right": null,
      "top": null,
      "visibility": null,
      "width": null
     }
    },
    "88585c1194284814a39d04e33fc484f8": {
     "model_module": "@jupyter-widgets/controls",
     "model_module_version": "1.5.0",
     "model_name": "FloatProgressModel",
     "state": {
      "_dom_classes": [],
      "_model_module": "@jupyter-widgets/controls",
      "_model_module_version": "1.5.0",
      "_model_name": "FloatProgressModel",
      "_view_count": null,
      "_view_module": "@jupyter-widgets/controls",
      "_view_module_version": "1.5.0",
      "_view_name": "ProgressView",
      "bar_style": "success",
      "description": "",
      "description_tooltip": null,
      "layout": "IPY_MODEL_da1f6a83c641464aa955793956c6b415",
      "max": 124,
      "min": 0,
      "orientation": "horizontal",
      "style": "IPY_MODEL_13fff4c430c64c11bf03f9cc3f38e70b",
      "value": 124
     }
    },
    "88c27c5b42594b10a3e99fab47a70a6f": {
     "model_module": "@jupyter-widgets/controls",
     "model_module_version": "1.5.0",
     "model_name": "ProgressStyleModel",
     "state": {
      "_model_module": "@jupyter-widgets/controls",
      "_model_module_version": "1.5.0",
      "_model_name": "ProgressStyleModel",
      "_view_count": null,
      "_view_module": "@jupyter-widgets/base",
      "_view_module_version": "1.2.0",
      "_view_name": "StyleView",
      "bar_color": null,
      "description_width": ""
     }
    },
    "8d08615eecf843008f7d0e31e40ecf68": {
     "model_module": "@jupyter-widgets/base",
     "model_module_version": "1.2.0",
     "model_name": "LayoutModel",
     "state": {
      "_model_module": "@jupyter-widgets/base",
      "_model_module_version": "1.2.0",
      "_model_name": "LayoutModel",
      "_view_count": null,
      "_view_module": "@jupyter-widgets/base",
      "_view_module_version": "1.2.0",
      "_view_name": "LayoutView",
      "align_content": null,
      "align_items": null,
      "align_self": null,
      "border": null,
      "bottom": null,
      "display": null,
      "flex": null,
      "flex_flow": null,
      "grid_area": null,
      "grid_auto_columns": null,
      "grid_auto_flow": null,
      "grid_auto_rows": null,
      "grid_column": null,
      "grid_gap": null,
      "grid_row": null,
      "grid_template_areas": null,
      "grid_template_columns": null,
      "grid_template_rows": null,
      "height": null,
      "justify_content": null,
      "justify_items": null,
      "left": null,
      "margin": null,
      "max_height": null,
      "max_width": null,
      "min_height": null,
      "min_width": null,
      "object_fit": null,
      "object_position": null,
      "order": null,
      "overflow": null,
      "overflow_x": null,
      "overflow_y": null,
      "padding": null,
      "right": null,
      "top": null,
      "visibility": null,
      "width": null
     }
    },
    "8ed2b64a3d6744478c209104c345b1fc": {
     "model_module": "@jupyter-widgets/controls",
     "model_module_version": "1.5.0",
     "model_name": "HTMLModel",
     "state": {
      "_dom_classes": [],
      "_model_module": "@jupyter-widgets/controls",
      "_model_module_version": "1.5.0",
      "_model_name": "HTMLModel",
      "_view_count": null,
      "_view_module": "@jupyter-widgets/controls",
      "_view_module_version": "1.5.0",
      "_view_name": "HTMLView",
      "description": "",
      "description_tooltip": null,
      "layout": "IPY_MODEL_76a01a42c9ca4804a945cadf16caa423",
      "placeholder": "​",
      "style": "IPY_MODEL_4bdd727fc789431e93a2a6d2613226df",
      "value": "config.json: 100%"
     }
    },
    "8f3df5e0707b4af9acd69397699deaa5": {
     "model_module": "@jupyter-widgets/controls",
     "model_module_version": "1.5.0",
     "model_name": "FloatProgressModel",
     "state": {
      "_dom_classes": [],
      "_model_module": "@jupyter-widgets/controls",
      "_model_module_version": "1.5.0",
      "_model_name": "FloatProgressModel",
      "_view_count": null,
      "_view_module": "@jupyter-widgets/controls",
      "_view_module_version": "1.5.0",
      "_view_name": "ProgressView",
      "bar_style": "success",
      "description": "",
      "description_tooltip": null,
      "layout": "IPY_MODEL_47a7da6ca628413ca3bb0f3c53166c44",
      "max": 133508397,
      "min": 0,
      "orientation": "horizontal",
      "style": "IPY_MODEL_c534801373024fafa5233adf23bacb16",
      "value": 133508397
     }
    },
    "9153ef974a4647d3b607baa6e09639d8": {
     "model_module": "@jupyter-widgets/controls",
     "model_module_version": "1.5.0",
     "model_name": "DescriptionStyleModel",
     "state": {
      "_model_module": "@jupyter-widgets/controls",
      "_model_module_version": "1.5.0",
      "_model_name": "DescriptionStyleModel",
      "_view_count": null,
      "_view_module": "@jupyter-widgets/base",
      "_view_module_version": "1.2.0",
      "_view_name": "StyleView",
      "description_width": ""
     }
    },
    "91d40d7cf04a4c2b893f743b28328c0c": {
     "model_module": "@jupyter-widgets/controls",
     "model_module_version": "1.5.0",
     "model_name": "ProgressStyleModel",
     "state": {
      "_model_module": "@jupyter-widgets/controls",
      "_model_module_version": "1.5.0",
      "_model_name": "ProgressStyleModel",
      "_view_count": null,
      "_view_module": "@jupyter-widgets/base",
      "_view_module_version": "1.2.0",
      "_view_name": "StyleView",
      "bar_color": null,
      "description_width": ""
     }
    },
    "9255588ffbb1475697f128638ac2df8e": {
     "model_module": "@jupyter-widgets/controls",
     "model_module_version": "1.5.0",
     "model_name": "HTMLModel",
     "state": {
      "_dom_classes": [],
      "_model_module": "@jupyter-widgets/controls",
      "_model_module_version": "1.5.0",
      "_model_name": "HTMLModel",
      "_view_count": null,
      "_view_module": "@jupyter-widgets/controls",
      "_view_module_version": "1.5.0",
      "_view_name": "HTMLView",
      "description": "",
      "description_tooltip": null,
      "layout": "IPY_MODEL_10888eb19c17421baee6d134a3c67e14",
      "placeholder": "​",
      "style": "IPY_MODEL_31be60fc8af14c2da1465203620cccad",
      "value": " 743/743 [00:00&lt;00:00, 37.1kB/s]"
     }
    },
    "9482f8d62f30447a83ce3ea07d9c119f": {
     "model_module": "@jupyter-widgets/controls",
     "model_module_version": "1.5.0",
     "model_name": "FloatProgressModel",
     "state": {
      "_dom_classes": [],
      "_model_module": "@jupyter-widgets/controls",
      "_model_module_version": "1.5.0",
      "_model_name": "FloatProgressModel",
      "_view_count": null,
      "_view_module": "@jupyter-widgets/controls",
      "_view_module_version": "1.5.0",
      "_view_name": "ProgressView",
      "bar_style": "success",
      "description": "",
      "description_tooltip": null,
      "layout": "IPY_MODEL_9754a92157b942c1b774e826a9838502",
      "max": 231508,
      "min": 0,
      "orientation": "horizontal",
      "style": "IPY_MODEL_5b836ea678134855a72e5c958495b407",
      "value": 231508
     }
    },
    "95133297df1346edadf41213f7e47c5b": {
     "model_module": "@jupyter-widgets/controls",
     "model_module_version": "1.5.0",
     "model_name": "DescriptionStyleModel",
     "state": {
      "_model_module": "@jupyter-widgets/controls",
      "_model_module_version": "1.5.0",
      "_model_name": "DescriptionStyleModel",
      "_view_count": null,
      "_view_module": "@jupyter-widgets/base",
      "_view_module_version": "1.2.0",
      "_view_name": "StyleView",
      "description_width": ""
     }
    },
    "9754a92157b942c1b774e826a9838502": {
     "model_module": "@jupyter-widgets/base",
     "model_module_version": "1.2.0",
     "model_name": "LayoutModel",
     "state": {
      "_model_module": "@jupyter-widgets/base",
      "_model_module_version": "1.2.0",
      "_model_name": "LayoutModel",
      "_view_count": null,
      "_view_module": "@jupyter-widgets/base",
      "_view_module_version": "1.2.0",
      "_view_name": "LayoutView",
      "align_content": null,
      "align_items": null,
      "align_self": null,
      "border": null,
      "bottom": null,
      "display": null,
      "flex": null,
      "flex_flow": null,
      "grid_area": null,
      "grid_auto_columns": null,
      "grid_auto_flow": null,
      "grid_auto_rows": null,
      "grid_column": null,
      "grid_gap": null,
      "grid_row": null,
      "grid_template_areas": null,
      "grid_template_columns": null,
      "grid_template_rows": null,
      "height": null,
      "justify_content": null,
      "justify_items": null,
      "left": null,
      "margin": null,
      "max_height": null,
      "max_width": null,
      "min_height": null,
      "min_width": null,
      "object_fit": null,
      "object_position": null,
      "order": null,
      "overflow": null,
      "overflow_x": null,
      "overflow_y": null,
      "padding": null,
      "right": null,
      "top": null,
      "visibility": null,
      "width": null
     }
    },
    "99c1f6c37eeb4e78b9c6176b3a7045eb": {
     "model_module": "@jupyter-widgets/base",
     "model_module_version": "1.2.0",
     "model_name": "LayoutModel",
     "state": {
      "_model_module": "@jupyter-widgets/base",
      "_model_module_version": "1.2.0",
      "_model_name": "LayoutModel",
      "_view_count": null,
      "_view_module": "@jupyter-widgets/base",
      "_view_module_version": "1.2.0",
      "_view_name": "LayoutView",
      "align_content": null,
      "align_items": null,
      "align_self": null,
      "border": null,
      "bottom": null,
      "display": null,
      "flex": null,
      "flex_flow": null,
      "grid_area": null,
      "grid_auto_columns": null,
      "grid_auto_flow": null,
      "grid_auto_rows": null,
      "grid_column": null,
      "grid_gap": null,
      "grid_row": null,
      "grid_template_areas": null,
      "grid_template_columns": null,
      "grid_template_rows": null,
      "height": null,
      "justify_content": null,
      "justify_items": null,
      "left": null,
      "margin": null,
      "max_height": null,
      "max_width": null,
      "min_height": null,
      "min_width": null,
      "object_fit": null,
      "object_position": null,
      "order": null,
      "overflow": null,
      "overflow_x": null,
      "overflow_y": null,
      "padding": null,
      "right": null,
      "top": null,
      "visibility": null,
      "width": null
     }
    },
    "9b4e6652f9284dc3b9ff3b3ed781f34a": {
     "model_module": "@jupyter-widgets/controls",
     "model_module_version": "1.5.0",
     "model_name": "DescriptionStyleModel",
     "state": {
      "_model_module": "@jupyter-widgets/controls",
      "_model_module_version": "1.5.0",
      "_model_name": "DescriptionStyleModel",
      "_view_count": null,
      "_view_module": "@jupyter-widgets/base",
      "_view_module_version": "1.2.0",
      "_view_name": "StyleView",
      "description_width": ""
     }
    },
    "a1bb604cd1864429a31211155f68d794": {
     "model_module": "@jupyter-widgets/base",
     "model_module_version": "1.2.0",
     "model_name": "LayoutModel",
     "state": {
      "_model_module": "@jupyter-widgets/base",
      "_model_module_version": "1.2.0",
      "_model_name": "LayoutModel",
      "_view_count": null,
      "_view_module": "@jupyter-widgets/base",
      "_view_module_version": "1.2.0",
      "_view_name": "LayoutView",
      "align_content": null,
      "align_items": null,
      "align_self": null,
      "border": null,
      "bottom": null,
      "display": null,
      "flex": null,
      "flex_flow": null,
      "grid_area": null,
      "grid_auto_columns": null,
      "grid_auto_flow": null,
      "grid_auto_rows": null,
      "grid_column": null,
      "grid_gap": null,
      "grid_row": null,
      "grid_template_areas": null,
      "grid_template_columns": null,
      "grid_template_rows": null,
      "height": null,
      "justify_content": null,
      "justify_items": null,
      "left": null,
      "margin": null,
      "max_height": null,
      "max_width": null,
      "min_height": null,
      "min_width": null,
      "object_fit": null,
      "object_position": null,
      "order": null,
      "overflow": null,
      "overflow_x": null,
      "overflow_y": null,
      "padding": null,
      "right": null,
      "top": null,
      "visibility": null,
      "width": null
     }
    },
    "a4a912733eb446219bf24f1e804eeed6": {
     "model_module": "@jupyter-widgets/controls",
     "model_module_version": "1.5.0",
     "model_name": "HTMLModel",
     "state": {
      "_dom_classes": [],
      "_model_module": "@jupyter-widgets/controls",
      "_model_module_version": "1.5.0",
      "_model_name": "HTMLModel",
      "_view_count": null,
      "_view_module": "@jupyter-widgets/controls",
      "_view_module_version": "1.5.0",
      "_view_name": "HTMLView",
      "description": "",
      "description_tooltip": null,
      "layout": "IPY_MODEL_f9419dbbf2624830b0b729c6ef765493",
      "placeholder": "​",
      "style": "IPY_MODEL_62533a0836fd463faa1a69b5632dd14d",
      "value": "config_sentence_transformers.json: 100%"
     }
    },
    "a4f9232d8b5b42a58f778acb453ace03": {
     "model_module": "@jupyter-widgets/base",
     "model_module_version": "1.2.0",
     "model_name": "LayoutModel",
     "state": {
      "_model_module": "@jupyter-widgets/base",
      "_model_module_version": "1.2.0",
      "_model_name": "LayoutModel",
      "_view_count": null,
      "_view_module": "@jupyter-widgets/base",
      "_view_module_version": "1.2.0",
      "_view_name": "LayoutView",
      "align_content": null,
      "align_items": null,
      "align_self": null,
      "border": null,
      "bottom": null,
      "display": null,
      "flex": null,
      "flex_flow": null,
      "grid_area": null,
      "grid_auto_columns": null,
      "grid_auto_flow": null,
      "grid_auto_rows": null,
      "grid_column": null,
      "grid_gap": null,
      "grid_row": null,
      "grid_template_areas": null,
      "grid_template_columns": null,
      "grid_template_rows": null,
      "height": null,
      "justify_content": null,
      "justify_items": null,
      "left": null,
      "margin": null,
      "max_height": null,
      "max_width": null,
      "min_height": null,
      "min_width": null,
      "object_fit": null,
      "object_position": null,
      "order": null,
      "overflow": null,
      "overflow_x": null,
      "overflow_y": null,
      "padding": null,
      "right": null,
      "top": null,
      "visibility": null,
      "width": null
     }
    },
    "a5d9313b20534864af2070d8ca0ae1ea": {
     "model_module": "@jupyter-widgets/base",
     "model_module_version": "1.2.0",
     "model_name": "LayoutModel",
     "state": {
      "_model_module": "@jupyter-widgets/base",
      "_model_module_version": "1.2.0",
      "_model_name": "LayoutModel",
      "_view_count": null,
      "_view_module": "@jupyter-widgets/base",
      "_view_module_version": "1.2.0",
      "_view_name": "LayoutView",
      "align_content": null,
      "align_items": null,
      "align_self": null,
      "border": null,
      "bottom": null,
      "display": null,
      "flex": null,
      "flex_flow": null,
      "grid_area": null,
      "grid_auto_columns": null,
      "grid_auto_flow": null,
      "grid_auto_rows": null,
      "grid_column": null,
      "grid_gap": null,
      "grid_row": null,
      "grid_template_areas": null,
      "grid_template_columns": null,
      "grid_template_rows": null,
      "height": null,
      "justify_content": null,
      "justify_items": null,
      "left": null,
      "margin": null,
      "max_height": null,
      "max_width": null,
      "min_height": null,
      "min_width": null,
      "object_fit": null,
      "object_position": null,
      "order": null,
      "overflow": null,
      "overflow_x": null,
      "overflow_y": null,
      "padding": null,
      "right": null,
      "top": null,
      "visibility": null,
      "width": null
     }
    },
    "a665d16a57814edba0ea3fbb94a86be2": {
     "model_module": "@jupyter-widgets/controls",
     "model_module_version": "1.5.0",
     "model_name": "HBoxModel",
     "state": {
      "_dom_classes": [],
      "_model_module": "@jupyter-widgets/controls",
      "_model_module_version": "1.5.0",
      "_model_name": "HBoxModel",
      "_view_count": null,
      "_view_module": "@jupyter-widgets/controls",
      "_view_module_version": "1.5.0",
      "_view_name": "HBoxView",
      "box_style": "",
      "children": [
       "IPY_MODEL_0e7915fce89b4d74887e3cd0bdd5d310",
       "IPY_MODEL_6eaae6225bee496a8ec5313f530492ed",
       "IPY_MODEL_43db30172d26484c950ced7b29ce38d5"
      ],
      "layout": "IPY_MODEL_2fcba9d757364798855859944f69ed71"
     }
    },
    "adad4372973a48e7b8c3291145edb16c": {
     "model_module": "@jupyter-widgets/controls",
     "model_module_version": "1.5.0",
     "model_name": "DescriptionStyleModel",
     "state": {
      "_model_module": "@jupyter-widgets/controls",
      "_model_module_version": "1.5.0",
      "_model_name": "DescriptionStyleModel",
      "_view_count": null,
      "_view_module": "@jupyter-widgets/base",
      "_view_module_version": "1.2.0",
      "_view_name": "StyleView",
      "description_width": ""
     }
    },
    "af566c6200f2439dbd5f3d9ec9f3973b": {
     "model_module": "@jupyter-widgets/base",
     "model_module_version": "1.2.0",
     "model_name": "LayoutModel",
     "state": {
      "_model_module": "@jupyter-widgets/base",
      "_model_module_version": "1.2.0",
      "_model_name": "LayoutModel",
      "_view_count": null,
      "_view_module": "@jupyter-widgets/base",
      "_view_module_version": "1.2.0",
      "_view_name": "LayoutView",
      "align_content": null,
      "align_items": null,
      "align_self": null,
      "border": null,
      "bottom": null,
      "display": null,
      "flex": null,
      "flex_flow": null,
      "grid_area": null,
      "grid_auto_columns": null,
      "grid_auto_flow": null,
      "grid_auto_rows": null,
      "grid_column": null,
      "grid_gap": null,
      "grid_row": null,
      "grid_template_areas": null,
      "grid_template_columns": null,
      "grid_template_rows": null,
      "height": null,
      "justify_content": null,
      "justify_items": null,
      "left": null,
      "margin": null,
      "max_height": null,
      "max_width": null,
      "min_height": null,
      "min_width": null,
      "object_fit": null,
      "object_position": null,
      "order": null,
      "overflow": null,
      "overflow_x": null,
      "overflow_y": null,
      "padding": null,
      "right": null,
      "top": null,
      "visibility": null,
      "width": null
     }
    },
    "afb6e40811dc4c7c9b71d441458bbc4c": {
     "model_module": "@jupyter-widgets/controls",
     "model_module_version": "1.5.0",
     "model_name": "HBoxModel",
     "state": {
      "_dom_classes": [],
      "_model_module": "@jupyter-widgets/controls",
      "_model_module_version": "1.5.0",
      "_model_name": "HBoxModel",
      "_view_count": null,
      "_view_module": "@jupyter-widgets/controls",
      "_view_module_version": "1.5.0",
      "_view_name": "HBoxView",
      "box_style": "",
      "children": [
       "IPY_MODEL_014dbc5c36fc4756b0c4c9afa2944d9a",
       "IPY_MODEL_7fdb903fd43e42ae8cd7c2412f437b7f",
       "IPY_MODEL_7fe5ab171ad1453d9db4a5c52174d554"
      ],
      "layout": "IPY_MODEL_04c7bb6f7eee4935941aec2c1dc8b473"
     }
    },
    "b3b183e2f8a842248359a9fb8eb784d1": {
     "model_module": "@jupyter-widgets/controls",
     "model_module_version": "1.5.0",
     "model_name": "DescriptionStyleModel",
     "state": {
      "_model_module": "@jupyter-widgets/controls",
      "_model_module_version": "1.5.0",
      "_model_name": "DescriptionStyleModel",
      "_view_count": null,
      "_view_module": "@jupyter-widgets/base",
      "_view_module_version": "1.2.0",
      "_view_name": "StyleView",
      "description_width": ""
     }
    },
    "b5be1082cbaf43698e7845a71fbfafe3": {
     "model_module": "@jupyter-widgets/base",
     "model_module_version": "1.2.0",
     "model_name": "LayoutModel",
     "state": {
      "_model_module": "@jupyter-widgets/base",
      "_model_module_version": "1.2.0",
      "_model_name": "LayoutModel",
      "_view_count": null,
      "_view_module": "@jupyter-widgets/base",
      "_view_module_version": "1.2.0",
      "_view_name": "LayoutView",
      "align_content": null,
      "align_items": null,
      "align_self": null,
      "border": null,
      "bottom": null,
      "display": null,
      "flex": null,
      "flex_flow": null,
      "grid_area": null,
      "grid_auto_columns": null,
      "grid_auto_flow": null,
      "grid_auto_rows": null,
      "grid_column": null,
      "grid_gap": null,
      "grid_row": null,
      "grid_template_areas": null,
      "grid_template_columns": null,
      "grid_template_rows": null,
      "height": null,
      "justify_content": null,
      "justify_items": null,
      "left": null,
      "margin": null,
      "max_height": null,
      "max_width": null,
      "min_height": null,
      "min_width": null,
      "object_fit": null,
      "object_position": null,
      "order": null,
      "overflow": null,
      "overflow_x": null,
      "overflow_y": null,
      "padding": null,
      "right": null,
      "top": null,
      "visibility": null,
      "width": null
     }
    },
    "b6eb09c71e1a4664b7a7fb037a714412": {
     "model_module": "@jupyter-widgets/base",
     "model_module_version": "1.2.0",
     "model_name": "LayoutModel",
     "state": {
      "_model_module": "@jupyter-widgets/base",
      "_model_module_version": "1.2.0",
      "_model_name": "LayoutModel",
      "_view_count": null,
      "_view_module": "@jupyter-widgets/base",
      "_view_module_version": "1.2.0",
      "_view_name": "LayoutView",
      "align_content": null,
      "align_items": null,
      "align_self": null,
      "border": null,
      "bottom": null,
      "display": null,
      "flex": null,
      "flex_flow": null,
      "grid_area": null,
      "grid_auto_columns": null,
      "grid_auto_flow": null,
      "grid_auto_rows": null,
      "grid_column": null,
      "grid_gap": null,
      "grid_row": null,
      "grid_template_areas": null,
      "grid_template_columns": null,
      "grid_template_rows": null,
      "height": null,
      "justify_content": null,
      "justify_items": null,
      "left": null,
      "margin": null,
      "max_height": null,
      "max_width": null,
      "min_height": null,
      "min_width": null,
      "object_fit": null,
      "object_position": null,
      "order": null,
      "overflow": null,
      "overflow_x": null,
      "overflow_y": null,
      "padding": null,
      "right": null,
      "top": null,
      "visibility": null,
      "width": null
     }
    },
    "bdafce766d97423ca329cbe2cc09d9dd": {
     "model_module": "@jupyter-widgets/controls",
     "model_module_version": "1.5.0",
     "model_name": "ProgressStyleModel",
     "state": {
      "_model_module": "@jupyter-widgets/controls",
      "_model_module_version": "1.5.0",
      "_model_name": "ProgressStyleModel",
      "_view_count": null,
      "_view_module": "@jupyter-widgets/base",
      "_view_module_version": "1.2.0",
      "_view_name": "StyleView",
      "bar_color": null,
      "description_width": ""
     }
    },
    "c00f4a1dd827439493bef1c754d2f6ba": {
     "model_module": "@jupyter-widgets/controls",
     "model_module_version": "1.5.0",
     "model_name": "DescriptionStyleModel",
     "state": {
      "_model_module": "@jupyter-widgets/controls",
      "_model_module_version": "1.5.0",
      "_model_name": "DescriptionStyleModel",
      "_view_count": null,
      "_view_module": "@jupyter-widgets/base",
      "_view_module_version": "1.2.0",
      "_view_name": "StyleView",
      "description_width": ""
     }
    },
    "c01eb68ab60a4f76b03edcbb4d121294": {
     "model_module": "@jupyter-widgets/controls",
     "model_module_version": "1.5.0",
     "model_name": "HBoxModel",
     "state": {
      "_dom_classes": [],
      "_model_module": "@jupyter-widgets/controls",
      "_model_module_version": "1.5.0",
      "_model_name": "HBoxModel",
      "_view_count": null,
      "_view_module": "@jupyter-widgets/controls",
      "_view_module_version": "1.5.0",
      "_view_name": "HBoxView",
      "box_style": "",
      "children": [
       "IPY_MODEL_fc743075900a43539a5c5fd69c54f4a0",
       "IPY_MODEL_9482f8d62f30447a83ce3ea07d9c119f",
       "IPY_MODEL_feaa4cfeedc546ee98cc5a2ad3af184d"
      ],
      "layout": "IPY_MODEL_e9aa46f7fd024750a07e837160e79127"
     }
    },
    "c0f3cd574c9048cb968296db6249e296": {
     "model_module": "@jupyter-widgets/controls",
     "model_module_version": "1.5.0",
     "model_name": "HBoxModel",
     "state": {
      "_dom_classes": [],
      "_model_module": "@jupyter-widgets/controls",
      "_model_module_version": "1.5.0",
      "_model_name": "HBoxModel",
      "_view_count": null,
      "_view_module": "@jupyter-widgets/controls",
      "_view_module_version": "1.5.0",
      "_view_name": "HBoxView",
      "box_style": "",
      "children": [
       "IPY_MODEL_092a59ffa1794e958002ff50e7ab8c20",
       "IPY_MODEL_0b37b1de85c14e7d8c7feed79dbb2f23",
       "IPY_MODEL_1098fe27e0bd48cd8c0f3d485e07a6bd"
      ],
      "layout": "IPY_MODEL_482923d1135a4994aba994be6368721b"
     }
    },
    "c194cc600a5c49f0bfcdb7893583d88b": {
     "model_module": "@jupyter-widgets/controls",
     "model_module_version": "1.5.0",
     "model_name": "DescriptionStyleModel",
     "state": {
      "_model_module": "@jupyter-widgets/controls",
      "_model_module_version": "1.5.0",
      "_model_name": "DescriptionStyleModel",
      "_view_count": null,
      "_view_module": "@jupyter-widgets/base",
      "_view_module_version": "1.2.0",
      "_view_name": "StyleView",
      "description_width": ""
     }
    },
    "c534801373024fafa5233adf23bacb16": {
     "model_module": "@jupyter-widgets/controls",
     "model_module_version": "1.5.0",
     "model_name": "ProgressStyleModel",
     "state": {
      "_model_module": "@jupyter-widgets/controls",
      "_model_module_version": "1.5.0",
      "_model_name": "ProgressStyleModel",
      "_view_count": null,
      "_view_module": "@jupyter-widgets/base",
      "_view_module_version": "1.2.0",
      "_view_name": "StyleView",
      "bar_color": null,
      "description_width": ""
     }
    },
    "c8f67d4b7146479cacf63de247796ee0": {
     "model_module": "@jupyter-widgets/controls",
     "model_module_version": "1.5.0",
     "model_name": "HTMLModel",
     "state": {
      "_dom_classes": [],
      "_model_module": "@jupyter-widgets/controls",
      "_model_module_version": "1.5.0",
      "_model_name": "HTMLModel",
      "_view_count": null,
      "_view_module": "@jupyter-widgets/controls",
      "_view_module_version": "1.5.0",
      "_view_name": "HTMLView",
      "description": "",
      "description_tooltip": null,
      "layout": "IPY_MODEL_4c8192e3c9664e0ba84d34ca6c8d87e5",
      "placeholder": "​",
      "style": "IPY_MODEL_f0cd5cdbf1794e66b3a358a984ba5e7e",
      "value": "modules.json: 100%"
     }
    },
    "caf9b50f9fd1435c9e2c61948e8cca21": {
     "model_module": "@jupyter-widgets/base",
     "model_module_version": "1.2.0",
     "model_name": "LayoutModel",
     "state": {
      "_model_module": "@jupyter-widgets/base",
      "_model_module_version": "1.2.0",
      "_model_name": "LayoutModel",
      "_view_count": null,
      "_view_module": "@jupyter-widgets/base",
      "_view_module_version": "1.2.0",
      "_view_name": "LayoutView",
      "align_content": null,
      "align_items": null,
      "align_self": null,
      "border": null,
      "bottom": null,
      "display": null,
      "flex": null,
      "flex_flow": null,
      "grid_area": null,
      "grid_auto_columns": null,
      "grid_auto_flow": null,
      "grid_auto_rows": null,
      "grid_column": null,
      "grid_gap": null,
      "grid_row": null,
      "grid_template_areas": null,
      "grid_template_columns": null,
      "grid_template_rows": null,
      "height": null,
      "justify_content": null,
      "justify_items": null,
      "left": null,
      "margin": null,
      "max_height": null,
      "max_width": null,
      "min_height": null,
      "min_width": null,
      "object_fit": null,
      "object_position": null,
      "order": null,
      "overflow": null,
      "overflow_x": null,
      "overflow_y": null,
      "padding": null,
      "right": null,
      "top": null,
      "visibility": null,
      "width": null
     }
    },
    "cd00be33574145e990ee280223deeb8e": {
     "model_module": "@jupyter-widgets/controls",
     "model_module_version": "1.5.0",
     "model_name": "HBoxModel",
     "state": {
      "_dom_classes": [],
      "_model_module": "@jupyter-widgets/controls",
      "_model_module_version": "1.5.0",
      "_model_name": "HBoxModel",
      "_view_count": null,
      "_view_module": "@jupyter-widgets/controls",
      "_view_module_version": "1.5.0",
      "_view_name": "HBoxView",
      "box_style": "",
      "children": [
       "IPY_MODEL_a4a912733eb446219bf24f1e804eeed6",
       "IPY_MODEL_88585c1194284814a39d04e33fc484f8",
       "IPY_MODEL_052f4e258e4e4642a1a3d59ae9584fbb"
      ],
      "layout": "IPY_MODEL_5577bebd04e24609b179f247e88b35e2"
     }
    },
    "ce982126877d4966bd102cd2cb2ca6e3": {
     "model_module": "@jupyter-widgets/base",
     "model_module_version": "1.2.0",
     "model_name": "LayoutModel",
     "state": {
      "_model_module": "@jupyter-widgets/base",
      "_model_module_version": "1.2.0",
      "_model_name": "LayoutModel",
      "_view_count": null,
      "_view_module": "@jupyter-widgets/base",
      "_view_module_version": "1.2.0",
      "_view_name": "LayoutView",
      "align_content": null,
      "align_items": null,
      "align_self": null,
      "border": null,
      "bottom": null,
      "display": null,
      "flex": null,
      "flex_flow": null,
      "grid_area": null,
      "grid_auto_columns": null,
      "grid_auto_flow": null,
      "grid_auto_rows": null,
      "grid_column": null,
      "grid_gap": null,
      "grid_row": null,
      "grid_template_areas": null,
      "grid_template_columns": null,
      "grid_template_rows": null,
      "height": null,
      "justify_content": null,
      "justify_items": null,
      "left": null,
      "margin": null,
      "max_height": null,
      "max_width": null,
      "min_height": null,
      "min_width": null,
      "object_fit": null,
      "object_position": null,
      "order": null,
      "overflow": null,
      "overflow_x": null,
      "overflow_y": null,
      "padding": null,
      "right": null,
      "top": null,
      "visibility": null,
      "width": null
     }
    },
    "d06db54a5ea24b478e777337351f8876": {
     "model_module": "@jupyter-widgets/controls",
     "model_module_version": "1.5.0",
     "model_name": "FloatProgressModel",
     "state": {
      "_dom_classes": [],
      "_model_module": "@jupyter-widgets/controls",
      "_model_module_version": "1.5.0",
      "_model_name": "FloatProgressModel",
      "_view_count": null,
      "_view_module": "@jupyter-widgets/controls",
      "_view_module_version": "1.5.0",
      "_view_name": "ProgressView",
      "bar_style": "success",
      "description": "",
      "description_tooltip": null,
      "layout": "IPY_MODEL_b6eb09c71e1a4664b7a7fb037a714412",
      "max": 125,
      "min": 0,
      "orientation": "horizontal",
      "style": "IPY_MODEL_69df742093da485aaea560056fa0f175",
      "value": 125
     }
    },
    "d28af11715c3442c99df6240405fbb48": {
     "model_module": "@jupyter-widgets/controls",
     "model_module_version": "1.5.0",
     "model_name": "FloatProgressModel",
     "state": {
      "_dom_classes": [],
      "_model_module": "@jupyter-widgets/controls",
      "_model_module_version": "1.5.0",
      "_model_name": "FloatProgressModel",
      "_view_count": null,
      "_view_module": "@jupyter-widgets/controls",
      "_view_module_version": "1.5.0",
      "_view_name": "ProgressView",
      "bar_style": "success",
      "description": "",
      "description_tooltip": null,
      "layout": "IPY_MODEL_18983e4945ca487297292bcd17398602",
      "max": 190,
      "min": 0,
      "orientation": "horizontal",
      "style": "IPY_MODEL_5b7d629a5acb4ce893627f23ec053721",
      "value": 190
     }
    },
    "d3be0cb2955848bfb1cfd0620b8d9b85": {
     "model_module": "@jupyter-widgets/base",
     "model_module_version": "1.2.0",
     "model_name": "LayoutModel",
     "state": {
      "_model_module": "@jupyter-widgets/base",
      "_model_module_version": "1.2.0",
      "_model_name": "LayoutModel",
      "_view_count": null,
      "_view_module": "@jupyter-widgets/base",
      "_view_module_version": "1.2.0",
      "_view_name": "LayoutView",
      "align_content": null,
      "align_items": null,
      "align_self": null,
      "border": null,
      "bottom": null,
      "display": null,
      "flex": null,
      "flex_flow": null,
      "grid_area": null,
      "grid_auto_columns": null,
      "grid_auto_flow": null,
      "grid_auto_rows": null,
      "grid_column": null,
      "grid_gap": null,
      "grid_row": null,
      "grid_template_areas": null,
      "grid_template_columns": null,
      "grid_template_rows": null,
      "height": null,
      "justify_content": null,
      "justify_items": null,
      "left": null,
      "margin": null,
      "max_height": null,
      "max_width": null,
      "min_height": null,
      "min_width": null,
      "object_fit": null,
      "object_position": null,
      "order": null,
      "overflow": null,
      "overflow_x": null,
      "overflow_y": null,
      "padding": null,
      "right": null,
      "top": null,
      "visibility": null,
      "width": null
     }
    },
    "d40ba815e666498d8f2470364abaf4b9": {
     "model_module": "@jupyter-widgets/controls",
     "model_module_version": "1.5.0",
     "model_name": "DescriptionStyleModel",
     "state": {
      "_model_module": "@jupyter-widgets/controls",
      "_model_module_version": "1.5.0",
      "_model_name": "DescriptionStyleModel",
      "_view_count": null,
      "_view_module": "@jupyter-widgets/base",
      "_view_module_version": "1.2.0",
      "_view_name": "StyleView",
      "description_width": ""
     }
    },
    "d8fe85d3ba1343368267b793980b211b": {
     "model_module": "@jupyter-widgets/base",
     "model_module_version": "1.2.0",
     "model_name": "LayoutModel",
     "state": {
      "_model_module": "@jupyter-widgets/base",
      "_model_module_version": "1.2.0",
      "_model_name": "LayoutModel",
      "_view_count": null,
      "_view_module": "@jupyter-widgets/base",
      "_view_module_version": "1.2.0",
      "_view_name": "LayoutView",
      "align_content": null,
      "align_items": null,
      "align_self": null,
      "border": null,
      "bottom": null,
      "display": null,
      "flex": null,
      "flex_flow": null,
      "grid_area": null,
      "grid_auto_columns": null,
      "grid_auto_flow": null,
      "grid_auto_rows": null,
      "grid_column": null,
      "grid_gap": null,
      "grid_row": null,
      "grid_template_areas": null,
      "grid_template_columns": null,
      "grid_template_rows": null,
      "height": null,
      "justify_content": null,
      "justify_items": null,
      "left": null,
      "margin": null,
      "max_height": null,
      "max_width": null,
      "min_height": null,
      "min_width": null,
      "object_fit": null,
      "object_position": null,
      "order": null,
      "overflow": null,
      "overflow_x": null,
      "overflow_y": null,
      "padding": null,
      "right": null,
      "top": null,
      "visibility": null,
      "width": null
     }
    },
    "da1f6a83c641464aa955793956c6b415": {
     "model_module": "@jupyter-widgets/base",
     "model_module_version": "1.2.0",
     "model_name": "LayoutModel",
     "state": {
      "_model_module": "@jupyter-widgets/base",
      "_model_module_version": "1.2.0",
      "_model_name": "LayoutModel",
      "_view_count": null,
      "_view_module": "@jupyter-widgets/base",
      "_view_module_version": "1.2.0",
      "_view_name": "LayoutView",
      "align_content": null,
      "align_items": null,
      "align_self": null,
      "border": null,
      "bottom": null,
      "display": null,
      "flex": null,
      "flex_flow": null,
      "grid_area": null,
      "grid_auto_columns": null,
      "grid_auto_flow": null,
      "grid_auto_rows": null,
      "grid_column": null,
      "grid_gap": null,
      "grid_row": null,
      "grid_template_areas": null,
      "grid_template_columns": null,
      "grid_template_rows": null,
      "height": null,
      "justify_content": null,
      "justify_items": null,
      "left": null,
      "margin": null,
      "max_height": null,
      "max_width": null,
      "min_height": null,
      "min_width": null,
      "object_fit": null,
      "object_position": null,
      "order": null,
      "overflow": null,
      "overflow_x": null,
      "overflow_y": null,
      "padding": null,
      "right": null,
      "top": null,
      "visibility": null,
      "width": null
     }
    },
    "db1f81abb0964a9b9f967a978651fbc2": {
     "model_module": "@jupyter-widgets/controls",
     "model_module_version": "1.5.0",
     "model_name": "DescriptionStyleModel",
     "state": {
      "_model_module": "@jupyter-widgets/controls",
      "_model_module_version": "1.5.0",
      "_model_name": "DescriptionStyleModel",
      "_view_count": null,
      "_view_module": "@jupyter-widgets/base",
      "_view_module_version": "1.2.0",
      "_view_name": "StyleView",
      "description_width": ""
     }
    },
    "e12bc364659742cb8542343ee2490e90": {
     "model_module": "@jupyter-widgets/controls",
     "model_module_version": "1.5.0",
     "model_name": "HTMLModel",
     "state": {
      "_dom_classes": [],
      "_model_module": "@jupyter-widgets/controls",
      "_model_module_version": "1.5.0",
      "_model_name": "HTMLModel",
      "_view_count": null,
      "_view_module": "@jupyter-widgets/controls",
      "_view_module_version": "1.5.0",
      "_view_name": "HTMLView",
      "description": "",
      "description_tooltip": null,
      "layout": "IPY_MODEL_e776c22363424aad96dd5497a62d0c0d",
      "placeholder": "​",
      "style": "IPY_MODEL_c194cc600a5c49f0bfcdb7893583d88b",
      "value": "special_tokens_map.json: 100%"
     }
    },
    "e2da859383ad492094c791a483f1e440": {
     "model_module": "@jupyter-widgets/controls",
     "model_module_version": "1.5.0",
     "model_name": "HTMLModel",
     "state": {
      "_dom_classes": [],
      "_model_module": "@jupyter-widgets/controls",
      "_model_module_version": "1.5.0",
      "_model_name": "HTMLModel",
      "_view_count": null,
      "_view_module": "@jupyter-widgets/controls",
      "_view_module_version": "1.5.0",
      "_view_name": "HTMLView",
      "description": "",
      "description_tooltip": null,
      "layout": "IPY_MODEL_a4f9232d8b5b42a58f778acb453ace03",
      "placeholder": "​",
      "style": "IPY_MODEL_9b4e6652f9284dc3b9ff3b3ed781f34a",
      "value": ".gitattributes: 100%"
     }
    },
    "e58e8ba1ba864af78591ba8a16c2907f": {
     "model_module": "@jupyter-widgets/controls",
     "model_module_version": "1.5.0",
     "model_name": "DescriptionStyleModel",
     "state": {
      "_model_module": "@jupyter-widgets/controls",
      "_model_module_version": "1.5.0",
      "_model_name": "DescriptionStyleModel",
      "_view_count": null,
      "_view_module": "@jupyter-widgets/base",
      "_view_module_version": "1.2.0",
      "_view_name": "StyleView",
      "description_width": ""
     }
    },
    "e5e1dc8491614a689121fe7a92464fb4": {
     "model_module": "@jupyter-widgets/controls",
     "model_module_version": "1.5.0",
     "model_name": "DescriptionStyleModel",
     "state": {
      "_model_module": "@jupyter-widgets/controls",
      "_model_module_version": "1.5.0",
      "_model_name": "DescriptionStyleModel",
      "_view_count": null,
      "_view_module": "@jupyter-widgets/base",
      "_view_module_version": "1.2.0",
      "_view_name": "StyleView",
      "description_width": ""
     }
    },
    "e618d718046146609f5485d9e49b76df": {
     "model_module": "@jupyter-widgets/base",
     "model_module_version": "1.2.0",
     "model_name": "LayoutModel",
     "state": {
      "_model_module": "@jupyter-widgets/base",
      "_model_module_version": "1.2.0",
      "_model_name": "LayoutModel",
      "_view_count": null,
      "_view_module": "@jupyter-widgets/base",
      "_view_module_version": "1.2.0",
      "_view_name": "LayoutView",
      "align_content": null,
      "align_items": null,
      "align_self": null,
      "border": null,
      "bottom": null,
      "display": null,
      "flex": null,
      "flex_flow": null,
      "grid_area": null,
      "grid_auto_columns": null,
      "grid_auto_flow": null,
      "grid_auto_rows": null,
      "grid_column": null,
      "grid_gap": null,
      "grid_row": null,
      "grid_template_areas": null,
      "grid_template_columns": null,
      "grid_template_rows": null,
      "height": null,
      "justify_content": null,
      "justify_items": null,
      "left": null,
      "margin": null,
      "max_height": null,
      "max_width": null,
      "min_height": null,
      "min_width": null,
      "object_fit": null,
      "object_position": null,
      "order": null,
      "overflow": null,
      "overflow_x": null,
      "overflow_y": null,
      "padding": null,
      "right": null,
      "top": null,
      "visibility": null,
      "width": null
     }
    },
    "e776c22363424aad96dd5497a62d0c0d": {
     "model_module": "@jupyter-widgets/base",
     "model_module_version": "1.2.0",
     "model_name": "LayoutModel",
     "state": {
      "_model_module": "@jupyter-widgets/base",
      "_model_module_version": "1.2.0",
      "_model_name": "LayoutModel",
      "_view_count": null,
      "_view_module": "@jupyter-widgets/base",
      "_view_module_version": "1.2.0",
      "_view_name": "LayoutView",
      "align_content": null,
      "align_items": null,
      "align_self": null,
      "border": null,
      "bottom": null,
      "display": null,
      "flex": null,
      "flex_flow": null,
      "grid_area": null,
      "grid_auto_columns": null,
      "grid_auto_flow": null,
      "grid_auto_rows": null,
      "grid_column": null,
      "grid_gap": null,
      "grid_row": null,
      "grid_template_areas": null,
      "grid_template_columns": null,
      "grid_template_rows": null,
      "height": null,
      "justify_content": null,
      "justify_items": null,
      "left": null,
      "margin": null,
      "max_height": null,
      "max_width": null,
      "min_height": null,
      "min_width": null,
      "object_fit": null,
      "object_position": null,
      "order": null,
      "overflow": null,
      "overflow_x": null,
      "overflow_y": null,
      "padding": null,
      "right": null,
      "top": null,
      "visibility": null,
      "width": null
     }
    },
    "e9aa46f7fd024750a07e837160e79127": {
     "model_module": "@jupyter-widgets/base",
     "model_module_version": "1.2.0",
     "model_name": "LayoutModel",
     "state": {
      "_model_module": "@jupyter-widgets/base",
      "_model_module_version": "1.2.0",
      "_model_name": "LayoutModel",
      "_view_count": null,
      "_view_module": "@jupyter-widgets/base",
      "_view_module_version": "1.2.0",
      "_view_name": "LayoutView",
      "align_content": null,
      "align_items": null,
      "align_self": null,
      "border": null,
      "bottom": null,
      "display": null,
      "flex": null,
      "flex_flow": null,
      "grid_area": null,
      "grid_auto_columns": null,
      "grid_auto_flow": null,
      "grid_auto_rows": null,
      "grid_column": null,
      "grid_gap": null,
      "grid_row": null,
      "grid_template_areas": null,
      "grid_template_columns": null,
      "grid_template_rows": null,
      "height": null,
      "justify_content": null,
      "justify_items": null,
      "left": null,
      "margin": null,
      "max_height": null,
      "max_width": null,
      "min_height": null,
      "min_width": null,
      "object_fit": null,
      "object_position": null,
      "order": null,
      "overflow": null,
      "overflow_x": null,
      "overflow_y": null,
      "padding": null,
      "right": null,
      "top": null,
      "visibility": null,
      "width": null
     }
    },
    "ea315748107947ae979ba911fb7bb927": {
     "model_module": "@jupyter-widgets/controls",
     "model_module_version": "1.5.0",
     "model_name": "HTMLModel",
     "state": {
      "_dom_classes": [],
      "_model_module": "@jupyter-widgets/controls",
      "_model_module_version": "1.5.0",
      "_model_name": "HTMLModel",
      "_view_count": null,
      "_view_module": "@jupyter-widgets/controls",
      "_view_module_version": "1.5.0",
      "_view_name": "HTMLView",
      "description": "",
      "description_tooltip": null,
      "layout": "IPY_MODEL_53e2d05489b14fd098e49652f3b7b902",
      "placeholder": "​",
      "style": "IPY_MODEL_adad4372973a48e7b8c3291145edb16c",
      "value": " 1.52k/1.52k [00:00&lt;00:00, 42.9kB/s]"
     }
    },
    "ec50f0a29ef34bf2923c7fb3317425e8": {
     "model_module": "@jupyter-widgets/controls",
     "model_module_version": "1.5.0",
     "model_name": "FloatProgressModel",
     "state": {
      "_dom_classes": [],
      "_model_module": "@jupyter-widgets/controls",
      "_model_module_version": "1.5.0",
      "_model_name": "FloatProgressModel",
      "_view_count": null,
      "_view_module": "@jupyter-widgets/controls",
      "_view_module_version": "1.5.0",
      "_view_name": "ProgressView",
      "bar_style": "success",
      "description": "",
      "description_tooltip": null,
      "layout": "IPY_MODEL_1554a9a8e32d4c088d54b1b977434a23",
      "max": 90346,
      "min": 0,
      "orientation": "horizontal",
      "style": "IPY_MODEL_f25728d8c9194ce192ea3f960cc7ade9",
      "value": 90346
     }
    },
    "eea26831119f4e7b82646ae8223fabe3": {
     "model_module": "@jupyter-widgets/controls",
     "model_module_version": "1.5.0",
     "model_name": "DescriptionStyleModel",
     "state": {
      "_model_module": "@jupyter-widgets/controls",
      "_model_module_version": "1.5.0",
      "_model_name": "DescriptionStyleModel",
      "_view_count": null,
      "_view_module": "@jupyter-widgets/base",
      "_view_module_version": "1.2.0",
      "_view_name": "StyleView",
      "description_width": ""
     }
    },
    "f0cd5cdbf1794e66b3a358a984ba5e7e": {
     "model_module": "@jupyter-widgets/controls",
     "model_module_version": "1.5.0",
     "model_name": "DescriptionStyleModel",
     "state": {
      "_model_module": "@jupyter-widgets/controls",
      "_model_module_version": "1.5.0",
      "_model_name": "DescriptionStyleModel",
      "_view_count": null,
      "_view_module": "@jupyter-widgets/base",
      "_view_module_version": "1.2.0",
      "_view_name": "StyleView",
      "description_width": ""
     }
    },
    "f18ce7f1420a4918b8968a66161c62fa": {
     "model_module": "@jupyter-widgets/controls",
     "model_module_version": "1.5.0",
     "model_name": "HBoxModel",
     "state": {
      "_dom_classes": [],
      "_model_module": "@jupyter-widgets/controls",
      "_model_module_version": "1.5.0",
      "_model_name": "HBoxModel",
      "_view_count": null,
      "_view_module": "@jupyter-widgets/controls",
      "_view_module_version": "1.5.0",
      "_view_name": "HBoxView",
      "box_style": "",
      "children": [
       "IPY_MODEL_e2da859383ad492094c791a483f1e440",
       "IPY_MODEL_457b41834ed7403baddfb9870e4f2ed8",
       "IPY_MODEL_ea315748107947ae979ba911fb7bb927"
      ],
      "layout": "IPY_MODEL_caf9b50f9fd1435c9e2c61948e8cca21"
     }
    },
    "f25728d8c9194ce192ea3f960cc7ade9": {
     "model_module": "@jupyter-widgets/controls",
     "model_module_version": "1.5.0",
     "model_name": "ProgressStyleModel",
     "state": {
      "_model_module": "@jupyter-widgets/controls",
      "_model_module_version": "1.5.0",
      "_model_name": "ProgressStyleModel",
      "_view_count": null,
      "_view_module": "@jupyter-widgets/base",
      "_view_module_version": "1.2.0",
      "_view_name": "StyleView",
      "bar_color": null,
      "description_width": ""
     }
    },
    "f449134fa6764299b4599a95ee5111f9": {
     "model_module": "@jupyter-widgets/controls",
     "model_module_version": "1.5.0",
     "model_name": "HBoxModel",
     "state": {
      "_dom_classes": [],
      "_model_module": "@jupyter-widgets/controls",
      "_model_module_version": "1.5.0",
      "_model_name": "HBoxModel",
      "_view_count": null,
      "_view_module": "@jupyter-widgets/controls",
      "_view_module_version": "1.5.0",
      "_view_name": "HBoxView",
      "box_style": "",
      "children": [
       "IPY_MODEL_34b3be76bd2b406999d2b77491247317",
       "IPY_MODEL_ec50f0a29ef34bf2923c7fb3317425e8",
       "IPY_MODEL_4f8e20eaef7147a1aa671505ab3fb9af"
      ],
      "layout": "IPY_MODEL_4b8351603acf4d83bce5b542c689f1b5"
     }
    },
    "f467840feca8425cbda1acb831d7c886": {
     "model_module": "@jupyter-widgets/base",
     "model_module_version": "1.2.0",
     "model_name": "LayoutModel",
     "state": {
      "_model_module": "@jupyter-widgets/base",
      "_model_module_version": "1.2.0",
      "_model_name": "LayoutModel",
      "_view_count": null,
      "_view_module": "@jupyter-widgets/base",
      "_view_module_version": "1.2.0",
      "_view_name": "LayoutView",
      "align_content": null,
      "align_items": null,
      "align_self": null,
      "border": null,
      "bottom": null,
      "display": null,
      "flex": null,
      "flex_flow": null,
      "grid_area": null,
      "grid_auto_columns": null,
      "grid_auto_flow": null,
      "grid_auto_rows": null,
      "grid_column": null,
      "grid_gap": null,
      "grid_row": null,
      "grid_template_areas": null,
      "grid_template_columns": null,
      "grid_template_rows": null,
      "height": null,
      "justify_content": null,
      "justify_items": null,
      "left": null,
      "margin": null,
      "max_height": null,
      "max_width": null,
      "min_height": null,
      "min_width": null,
      "object_fit": null,
      "object_position": null,
      "order": null,
      "overflow": null,
      "overflow_x": null,
      "overflow_y": null,
      "padding": null,
      "right": null,
      "top": null,
      "visibility": null,
      "width": null
     }
    },
    "f55249a5beef43f3afadf133ba98251e": {
     "model_module": "@jupyter-widgets/controls",
     "model_module_version": "1.5.0",
     "model_name": "HBoxModel",
     "state": {
      "_dom_classes": [],
      "_model_module": "@jupyter-widgets/controls",
      "_model_module_version": "1.5.0",
      "_model_name": "HBoxModel",
      "_view_count": null,
      "_view_module": "@jupyter-widgets/controls",
      "_view_module_version": "1.5.0",
      "_view_name": "HBoxView",
      "box_style": "",
      "children": [
       "IPY_MODEL_570e62e16618472d8a15b4c94c2cf301",
       "IPY_MODEL_d28af11715c3442c99df6240405fbb48",
       "IPY_MODEL_386fd64ea48c488bb2f04cf9668b9b3b"
      ],
      "layout": "IPY_MODEL_8752e44c40544cec93eed9d55b68a117"
     }
    },
    "f588896d52d64716ac4e2c535c9cfff6": {
     "model_module": "@jupyter-widgets/base",
     "model_module_version": "1.2.0",
     "model_name": "LayoutModel",
     "state": {
      "_model_module": "@jupyter-widgets/base",
      "_model_module_version": "1.2.0",
      "_model_name": "LayoutModel",
      "_view_count": null,
      "_view_module": "@jupyter-widgets/base",
      "_view_module_version": "1.2.0",
      "_view_name": "LayoutView",
      "align_content": null,
      "align_items": null,
      "align_self": null,
      "border": null,
      "bottom": null,
      "display": null,
      "flex": null,
      "flex_flow": null,
      "grid_area": null,
      "grid_auto_columns": null,
      "grid_auto_flow": null,
      "grid_auto_rows": null,
      "grid_column": null,
      "grid_gap": null,
      "grid_row": null,
      "grid_template_areas": null,
      "grid_template_columns": null,
      "grid_template_rows": null,
      "height": null,
      "justify_content": null,
      "justify_items": null,
      "left": null,
      "margin": null,
      "max_height": null,
      "max_width": null,
      "min_height": null,
      "min_width": null,
      "object_fit": null,
      "object_position": null,
      "order": null,
      "overflow": null,
      "overflow_x": null,
      "overflow_y": null,
      "padding": null,
      "right": null,
      "top": null,
      "visibility": null,
      "width": null
     }
    },
    "f9419dbbf2624830b0b729c6ef765493": {
     "model_module": "@jupyter-widgets/base",
     "model_module_version": "1.2.0",
     "model_name": "LayoutModel",
     "state": {
      "_model_module": "@jupyter-widgets/base",
      "_model_module_version": "1.2.0",
      "_model_name": "LayoutModel",
      "_view_count": null,
      "_view_module": "@jupyter-widgets/base",
      "_view_module_version": "1.2.0",
      "_view_name": "LayoutView",
      "align_content": null,
      "align_items": null,
      "align_self": null,
      "border": null,
      "bottom": null,
      "display": null,
      "flex": null,
      "flex_flow": null,
      "grid_area": null,
      "grid_auto_columns": null,
      "grid_auto_flow": null,
      "grid_auto_rows": null,
      "grid_column": null,
      "grid_gap": null,
      "grid_row": null,
      "grid_template_areas": null,
      "grid_template_columns": null,
      "grid_template_rows": null,
      "height": null,
      "justify_content": null,
      "justify_items": null,
      "left": null,
      "margin": null,
      "max_height": null,
      "max_width": null,
      "min_height": null,
      "min_width": null,
      "object_fit": null,
      "object_position": null,
      "order": null,
      "overflow": null,
      "overflow_x": null,
      "overflow_y": null,
      "padding": null,
      "right": null,
      "top": null,
      "visibility": null,
      "width": null
     }
    },
    "fbb08f93abc64c4eb365d18dfdf3b0c5": {
     "model_module": "@jupyter-widgets/controls",
     "model_module_version": "1.5.0",
     "model_name": "DescriptionStyleModel",
     "state": {
      "_model_module": "@jupyter-widgets/controls",
      "_model_module_version": "1.5.0",
      "_model_name": "DescriptionStyleModel",
      "_view_count": null,
      "_view_module": "@jupyter-widgets/base",
      "_view_module_version": "1.2.0",
      "_view_name": "StyleView",
      "description_width": ""
     }
    },
    "fc743075900a43539a5c5fd69c54f4a0": {
     "model_module": "@jupyter-widgets/controls",
     "model_module_version": "1.5.0",
     "model_name": "HTMLModel",
     "state": {
      "_dom_classes": [],
      "_model_module": "@jupyter-widgets/controls",
      "_model_module_version": "1.5.0",
      "_model_name": "HTMLModel",
      "_view_count": null,
      "_view_module": "@jupyter-widgets/controls",
      "_view_module_version": "1.5.0",
      "_view_name": "HTMLView",
      "description": "",
      "description_tooltip": null,
      "layout": "IPY_MODEL_8d08615eecf843008f7d0e31e40ecf68",
      "placeholder": "​",
      "style": "IPY_MODEL_856c668f67e247928b439e6fd0dddacb",
      "value": "vocab.txt: 100%"
     }
    },
    "fe05f8ac72b04958941efc4ad5f53004": {
     "model_module": "@jupyter-widgets/controls",
     "model_module_version": "1.5.0",
     "model_name": "ProgressStyleModel",
     "state": {
      "_model_module": "@jupyter-widgets/controls",
      "_model_module_version": "1.5.0",
      "_model_name": "ProgressStyleModel",
      "_view_count": null,
      "_view_module": "@jupyter-widgets/base",
      "_view_module_version": "1.2.0",
      "_view_name": "StyleView",
      "bar_color": null,
      "description_width": ""
     }
    },
    "fe59fd8500004d1b98b5c515bcce251e": {
     "model_module": "@jupyter-widgets/controls",
     "model_module_version": "1.5.0",
     "model_name": "HBoxModel",
     "state": {
      "_dom_classes": [],
      "_model_module": "@jupyter-widgets/controls",
      "_model_module_version": "1.5.0",
      "_model_name": "HBoxModel",
      "_view_count": null,
      "_view_module": "@jupyter-widgets/controls",
      "_view_module_version": "1.5.0",
      "_view_name": "HBoxView",
      "box_style": "",
      "children": [
       "IPY_MODEL_e12bc364659742cb8542343ee2490e90",
       "IPY_MODEL_d06db54a5ea24b478e777337351f8876",
       "IPY_MODEL_79a97b97dd784091b0edba0f21529889"
      ],
      "layout": "IPY_MODEL_69b493fde5e243df9be04a2f53d1bc0f"
     }
    },
    "feaa4cfeedc546ee98cc5a2ad3af184d": {
     "model_module": "@jupyter-widgets/controls",
     "model_module_version": "1.5.0",
     "model_name": "HTMLModel",
     "state": {
      "_dom_classes": [],
      "_model_module": "@jupyter-widgets/controls",
      "_model_module_version": "1.5.0",
      "_model_name": "HTMLModel",
      "_view_count": null,
      "_view_module": "@jupyter-widgets/controls",
      "_view_module_version": "1.5.0",
      "_view_name": "HTMLView",
      "description": "",
      "description_tooltip": null,
      "layout": "IPY_MODEL_2158788eae4946f7befdf668e134bb63",
      "placeholder": "​",
      "style": "IPY_MODEL_e5e1dc8491614a689121fe7a92464fb4",
      "value": " 232k/232k [00:00&lt;00:00, 6.13MB/s]"
     }
    }
   }
  }
 },
 "nbformat": 4,
 "nbformat_minor": 4
}
