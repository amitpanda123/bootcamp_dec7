{
  "cells": [
    {
      "cell_type": "markdown",
      "metadata": {
        "id": "FkZyvXSmxl3S"
      },
      "source": [
        "# Generative AI - SEBx & Combient Hackathon December 2023"
      ]
    },
    {
      "cell_type": "markdown",
      "metadata": {
        "id": "0sF2Up6-RmhA"
      },
      "source": [
        "Some introduction text here .. summarizing the main purpopse of the BootCamp and the exercises in particular\n",
        "<br />\n",
        "<br />\n",
        "\n",
        "***\n",
        "\n",
        "**Note:**\n",
        "This notebook contains code written in [Python](https://www.python.org/), which is a commonly used programmming language. No advanced coding expertise is required for completing the exercises and clear instructions are provided for when and where some modifications are required from the user. The notebook itself is a so called [Jupyter notebook](https://jupyter.org/), which provides a graphical interface for writing and executing Python code as well as displaying the output. The grey box below provide instructions for executing code within code cell blocks and the result of executing code will be displayed beneath the relevant code cell block.\n",
        "\n",
        "\n",
        "In order to run this notebook properly you will need\n",
        "\n",
        "* **Gmail account** - Follow the provided instructions to download the notebook to your GDrive, so that you can edit and save it freely.\n",
        "* **Google GDrive access** - enable the app `Google Colaboratory`. The process is highlighted in the accompanying reading material, but you can also ask ChatGPT a question like this by posing the following query: <span style=\"color:blue;\">How do I enable google colab for the first time?</span>"
      ]
    },
    {
      "cell_type": "markdown",
      "metadata": {
        "id": "-FflnrWlYmoZ"
      },
      "source": [
        "> **`Run and execute each code cell block in the notebook in a consecutive manner. This is important since some code cell blocks relies on having properly executed some previous code cell block.`**\n",
        "\n",
        "\n",
        "> Notebook code blocks can be executed via either:\n",
        "> * **shift + enter**: executes current code block and moves to the cell below\n",
        "> * **control + enter**: executes current code block"
      ]
    },
    {
      "cell_type": "markdown",
      "metadata": {
        "id": "uczbePAtomja"
      },
      "source": [
        "## Environment setup\n",
        "\n",
        "Here we set up the environment and make sure we can access data via Google Drive. Run the below code blocks to install necessary packages."
      ]
    },
    {
      "cell_type": "markdown",
      "metadata": {
        "id": "PVAlM-i8pnK7"
      },
      "source": [
        "Run the code below to clone the GenAI_BootCamp2023 directory which contains files which we will be using during this course. The code clones a directory called GenAI_BootCamp2023 from our Github repository."
      ]
    },
    {
      "cell_type": "markdown",
      "metadata": {
        "id": "_a83ptAEpnK7"
      },
      "source": [
        "> **`During execution of this cell block you will be prompted to provide your GDrive access to download the course content. Use your Google account credentials to allow this action.`**"
      ]
    },
    {
      "cell_type": "code",
      "source": [
        "!ls -l /"
      ],
      "metadata": {
        "colab": {
          "base_uri": "https://localhost:8080/",
          "height": 517
        },
        "id": "XzAlsGwBh2PO",
        "outputId": "2c5d0337-8328-45e4-c099-118db80cae5d"
      },
      "execution_count": 113,
      "outputs": [
        {
          "output_type": "display_data",
          "data": {
            "text/plain": [
              "<IPython.core.display.HTML object>"
            ],
            "text/html": [
              "\n",
              "  <style>\n",
              "    pre {\n",
              "        white-space: pre-wrap;\n",
              "    }\n",
              "  </style>\n",
              "  "
            ]
          },
          "metadata": {}
        },
        {
          "output_type": "display_data",
          "data": {
            "text/plain": [
              "<IPython.core.display.HTML object>"
            ],
            "text/html": [
              "\n",
              "  <style>\n",
              "    pre {\n",
              "        white-space: pre-wrap;\n",
              "    }\n",
              "  </style>\n",
              "  "
            ]
          },
          "metadata": {}
        },
        {
          "output_type": "stream",
          "name": "stdout",
          "text": [
            "total 112\n",
            "lrwxrwxrwx   1 root root     7 Oct  4 02:08 bin -> usr/bin\n",
            "drwxr-xr-x   2 root root  4096 Apr 18  2022 boot\n",
            "drwxr-xr-x   1 root root  4096 Nov 30 09:19 content\n",
            "-rw-r--r--   1 root root  4332 Nov 10 06:36 cuda-keyring_1.0-1_all.deb\n",
            "drwxr-xr-x   1 root root  4096 Nov 28 14:45 datalab\n",
            "drwxr-xr-x   5 root root   360 Nov 30 06:18 dev\n",
            "drwxr-xr-x   1 root root  4096 Nov 30 06:18 etc\n",
            "drwxr-xr-x   2 root root  4096 Apr 18  2022 home\n",
            "lrwxrwxrwx   1 root root     7 Oct  4 02:08 lib -> usr/lib\n",
            "lrwxrwxrwx   1 root root     9 Oct  4 02:08 lib32 -> usr/lib32\n",
            "lrwxrwxrwx   1 root root     9 Oct  4 02:08 lib64 -> usr/lib64\n",
            "lrwxrwxrwx   1 root root    10 Oct  4 02:08 libx32 -> usr/libx32\n",
            "drwxr-xr-x   2 root root  4096 Oct  4 02:08 media\n",
            "drwxr-xr-x   2 root root  4096 Oct  4 02:08 mnt\n",
            "-rw-r--r--   1 root root 17294 Nov 10 06:36 NGC-DL-CONTAINER-LICENSE\n",
            "drwxr-xr-x   1 root root  4096 Nov 28 14:46 opt\n",
            "dr-xr-xr-x 188 root root     0 Nov 30 06:18 proc\n",
            "drwxr-xr-x  15 root root  4096 Nov 28 14:18 python-apt\n",
            "drwx------   1 root root  4096 Nov 28 14:46 root\n",
            "drwxr-xr-x   1 root root  4096 Nov 28 14:12 run\n",
            "lrwxrwxrwx   1 root root     8 Oct  4 02:08 sbin -> usr/sbin\n",
            "drwxr-xr-x   2 root root  4096 Oct  4 02:08 srv\n",
            "dr-xr-xr-x  13 root root     0 Nov 30 06:18 sys\n",
            "drwxrwxrwt   1 root root 12288 Nov 30 09:19 tmp\n",
            "drwxr-xr-x   1 root root  4096 Nov 28 14:44 tools\n",
            "drwxr-xr-x   1 root root  4096 Nov 28 14:46 usr\n",
            "drwxr-xr-x   1 root root  4096 Nov 28 14:45 var\n"
          ]
        }
      ]
    },
    {
      "cell_type": "code",
      "source": [
        "!ps -auxc | grep ssh-agent"
      ],
      "metadata": {
        "colab": {
          "base_uri": "https://localhost:8080/",
          "height": 17
        },
        "id": "w5MHSl1EkcmL",
        "outputId": "1be23b8e-fd98-4bca-ee60-c952a810780e"
      },
      "execution_count": 120,
      "outputs": [
        {
          "output_type": "display_data",
          "data": {
            "text/plain": [
              "<IPython.core.display.HTML object>"
            ],
            "text/html": [
              "\n",
              "  <style>\n",
              "    pre {\n",
              "        white-space: pre-wrap;\n",
              "    }\n",
              "  </style>\n",
              "  "
            ]
          },
          "metadata": {}
        },
        {
          "output_type": "display_data",
          "data": {
            "text/plain": [
              "<IPython.core.display.HTML object>"
            ],
            "text/html": [
              "\n",
              "  <style>\n",
              "    pre {\n",
              "        white-space: pre-wrap;\n",
              "    }\n",
              "  </style>\n",
              "  "
            ]
          },
          "metadata": {}
        }
      ]
    },
    {
      "cell_type": "code",
      "execution_count": 118,
      "metadata": {
        "id": "KZJdIfCvpnK7",
        "colab": {
          "base_uri": "https://localhost:8080/",
          "height": 303
        },
        "outputId": "50aa45e8-cae6-4907-c494-3654cec9cda8"
      },
      "outputs": [
        {
          "output_type": "display_data",
          "data": {
            "text/plain": [
              "<IPython.core.display.HTML object>"
            ],
            "text/html": [
              "\n",
              "  <style>\n",
              "    pre {\n",
              "        white-space: pre-wrap;\n",
              "    }\n",
              "  </style>\n",
              "  "
            ]
          },
          "metadata": {}
        },
        {
          "output_type": "display_data",
          "data": {
            "text/plain": [
              "<IPython.core.display.HTML object>"
            ],
            "text/html": [
              "\n",
              "  <style>\n",
              "    pre {\n",
              "        white-space: pre-wrap;\n",
              "    }\n",
              "  </style>\n",
              "  "
            ]
          },
          "metadata": {}
        },
        {
          "output_type": "stream",
          "name": "stdout",
          "text": [
            "Mounted at /content/drive\n",
            "/content/drive/MyDrive\n",
            "# github.com:22 SSH-2.0-babeld-7ce31352\n",
            "usage: ssh [-46AaCfGgKkMNnqsTtVvXxYy] [-B bind_interface]\n",
            "           [-b bind_address] [-c cipher_spec] [-D [bind_address:]port]\n",
            "           [-E log_file] [-e escape_char] [-F configfile] [-I pkcs11]\n",
            "           [-i identity_file] [-J [user@]host[:port]] [-L address]\n",
            "           [-l login_name] [-m mac_spec] [-O ctl_cmd] [-o option] [-p port]\n",
            "           [-Q query_option] [-R address] [-S ctl_path] [-W host:port]\n",
            "           [-w local_tun[:remote_tun]] destination [command [argument ...]]\n",
            "Cloning into 'bootcamp_dec7'...\n",
            "Host key verification failed.\n",
            "fatal: Could not read from remote repository.\n",
            "\n",
            "Please make sure you have the correct access rights\n",
            "and the repository exists.\n"
          ]
        }
      ],
      "source": [
        "use_drive = True\n",
        "\n",
        "if use_drive:\n",
        "  import os\n",
        "  from google.colab import drive\n",
        "  drive.mount('/content/drive', force_remount=True)\n",
        "\n",
        "  # This moves into the drive where the course content folder will be downloaded\n",
        "  %cd /content/drive/MyDrive\n",
        "\n",
        "\n",
        "  repo_path = 'bootcamp_dec7'\n",
        "  #repo_url = 'https://github.com/banque-nouveau/bootcamp_dec7.git'\n",
        "  repo_url = 'git@github.com:banque-nouveau/bootcamp_dec7.git'\n",
        "\n",
        "\n",
        "  #os.environ['GIT_SSH_COMMAND'] = 'ssh -i /content/bootcamp7dec.key'\n",
        "\n",
        "  # Check if the repo directory exists\n",
        "  if os.path.isdir(repo_path):\n",
        "    # If it exists, then pull any changes from the remote repository\n",
        "    %cd {repo_path}\n",
        "    !git pull\n",
        "    %cd ..\n",
        "  else:\n",
        "    # If the directory does not exist, clone the repository\n",
        "    #!mkdir /content/.ssh\n",
        "    #!chmod 700 /content/.ssh\n",
        "    #!chmod 600 /content/bootcamp7dec.key\n",
        "    #!ssh-keyscan -t rsa github.com >> /content/.ssh/known_hosts\n",
        "    #!chmod 644 /content/.ssh/known_hosts\n",
        "    #!ssh -i /content/bootcamp7dec.key\n",
        "    !git clone {repo_url}"
      ]
    },
    {
      "cell_type": "markdown",
      "metadata": {
        "id": "4rz1vY1ZpnK8"
      },
      "source": [
        "You can now view the files by clicking on the map and follow the path down in the GenAI short course."
      ]
    },
    {
      "cell_type": "markdown",
      "metadata": {
        "id": "oF4Oa4LYpnK9"
      },
      "source": [
        "![Image of GitClone](https://github.com/statisticalmodel/GenAI/blob/main/GenAI%20short%20course/GitClone.png?raw=true)"
      ]
    },
    {
      "cell_type": "markdown",
      "metadata": {
        "id": "qkgdiTzvpnK9"
      },
      "source": [
        "## Packages & Imports\n",
        "\n",
        "Installing and importing necessary packages/modules. Note that these should be installed only in a virtual environment when using the Colab Notebook."
      ]
    },
    {
      "cell_type": "markdown",
      "metadata": {
        "id": "aAsxW33ZpnK9"
      },
      "source": [
        "Run the below code block to install some of the Python libraries which are required for running the Notebook.\n",
        "\n",
        "Note that this may take up to ~15 seconds to complete."
      ]
    },
    {
      "cell_type": "code",
      "execution_count": 91,
      "metadata": {
        "colab": {
          "base_uri": "https://localhost:8080/",
          "height": 17
        },
        "id": "4mHgu0eCpnK-",
        "outputId": "904c9baa-4e65-4021-8d4c-3bf1670b10a0"
      },
      "outputs": [
        {
          "output_type": "display_data",
          "data": {
            "text/plain": [
              "<IPython.core.display.HTML object>"
            ],
            "text/html": [
              "\n",
              "  <style>\n",
              "    pre {\n",
              "        white-space: pre-wrap;\n",
              "    }\n",
              "  </style>\n",
              "  "
            ]
          },
          "metadata": {}
        }
      ],
      "source": [
        "!pip install -q cohere \\\n",
        "    -q tiktoken \\\n",
        "    -q langchain \\\n",
        "    -q sentence_transformers \\\n",
        "    -q openai \\\n",
        "    -q faiss-cpu \\\n",
        "    -q colorama \\\n",
        "    -q pypdf \\\n",
        "    -q PyMuPDF \\\n",
        "    -q requests \\\n",
        "    -q beautifulsoup4 \\\n",
        "    -q umap-learn \\\n",
        "    -q mycolorpy"
      ]
    },
    {
      "cell_type": "markdown",
      "metadata": {
        "id": "erLd7QWNpnK-"
      },
      "source": [
        "Run the below code block to import the necessary library modules used in the notebook.\n",
        "\n",
        "Note that this may take up to ~20 seconds to complete."
      ]
    },
    {
      "cell_type": "code",
      "execution_count": 92,
      "metadata": {
        "id": "plhTcriIpnK-",
        "colab": {
          "base_uri": "https://localhost:8080/",
          "height": 17
        },
        "outputId": "7bbbd314-a506-406d-9b47-fe0ce270b16c"
      },
      "outputs": [
        {
          "output_type": "display_data",
          "data": {
            "text/plain": [
              "<IPython.core.display.HTML object>"
            ],
            "text/html": [
              "\n",
              "  <style>\n",
              "    pre {\n",
              "        white-space: pre-wrap;\n",
              "    }\n",
              "  </style>\n",
              "  "
            ]
          },
          "metadata": {}
        }
      ],
      "source": [
        "# Some system and base modules\n",
        "import os\n",
        "import sys\n",
        "from timeit import default_timer as timer\n",
        "from typing import List, Optional, Type\n",
        "import getpass\n",
        "\n",
        "# NLP modules\n",
        "import openai\n",
        "from openai import OpenAI\n",
        "import langchain\n",
        "from langchain.embeddings import HuggingFaceEmbeddings\n",
        "from langchain.docstore.document import Document\n",
        "from langchain.text_splitter import RecursiveCharacterTextSplitter, CharacterTextSplitter\n",
        "from langchain.document_loaders import PyPDFLoader\n",
        "import fitz\n",
        "from langchain.vectorstores import FAISS\n",
        "from langchain.chat_models import ChatOpenAI\n",
        "import requests\n",
        "from bs4 import BeautifulSoup\n",
        "\n",
        "# Other modules\n",
        "import numpy as np\n",
        "import pandas as pd\n",
        "import umap\n",
        "from colorama import Fore, Back, Style\n",
        "\n",
        "\n",
        "# modules for plotting\n",
        "import matplotlib.pyplot as plt\n",
        "import matplotlib.lines as mlines\n",
        "from mycolorpy import colorlist as mcp\n",
        "from mpl_toolkits.mplot3d import Axes3D\n",
        "import plotly.express as px\n",
        "import seaborn as sns\n",
        "%matplotlib inline"
      ]
    },
    {
      "cell_type": "code",
      "source": [
        "sns.set(style='white', context='notebook', rc={'figure.figsize':(16,10)})"
      ],
      "metadata": {
        "id": "l2ZpOqHNEbdp",
        "colab": {
          "base_uri": "https://localhost:8080/",
          "height": 17
        },
        "outputId": "d19a7185-84cb-4631-9ed8-4ade41c4065f"
      },
      "execution_count": 93,
      "outputs": [
        {
          "output_type": "display_data",
          "data": {
            "text/plain": [
              "<IPython.core.display.HTML object>"
            ],
            "text/html": [
              "\n",
              "  <style>\n",
              "    pre {\n",
              "        white-space: pre-wrap;\n",
              "    }\n",
              "  </style>\n",
              "  "
            ]
          },
          "metadata": {}
        }
      ]
    },
    {
      "cell_type": "code",
      "source": [
        "print(openai.__version__)"
      ],
      "metadata": {
        "colab": {
          "base_uri": "https://localhost:8080/",
          "height": 35
        },
        "id": "zRf63DDVq_a6",
        "outputId": "c27a91c9-ad1d-41d3-c6ec-a8ebfe142fc2"
      },
      "execution_count": 94,
      "outputs": [
        {
          "output_type": "display_data",
          "data": {
            "text/plain": [
              "<IPython.core.display.HTML object>"
            ],
            "text/html": [
              "\n",
              "  <style>\n",
              "    pre {\n",
              "        white-space: pre-wrap;\n",
              "    }\n",
              "  </style>\n",
              "  "
            ]
          },
          "metadata": {}
        },
        {
          "output_type": "stream",
          "name": "stdout",
          "text": [
            "1.3.6\n"
          ]
        }
      ]
    },
    {
      "cell_type": "code",
      "source": [
        "print(langchain.__version__)"
      ],
      "metadata": {
        "colab": {
          "base_uri": "https://localhost:8080/",
          "height": 35
        },
        "id": "zpKxyqawsNWj",
        "outputId": "85de6f4d-e223-4f40-a8ec-1fab23bb3e19"
      },
      "execution_count": 95,
      "outputs": [
        {
          "output_type": "display_data",
          "data": {
            "text/plain": [
              "<IPython.core.display.HTML object>"
            ],
            "text/html": [
              "\n",
              "  <style>\n",
              "    pre {\n",
              "        white-space: pre-wrap;\n",
              "    }\n",
              "  </style>\n",
              "  "
            ]
          },
          "metadata": {}
        },
        {
          "output_type": "stream",
          "name": "stdout",
          "text": [
            "0.0.343\n"
          ]
        }
      ]
    },
    {
      "cell_type": "markdown",
      "metadata": {
        "id": "R_iyod8UpnK-"
      },
      "source": [
        "## Import helper functions used in the Notebook"
      ]
    },
    {
      "cell_type": "markdown",
      "metadata": {
        "id": "qyDHh8LbpnK-"
      },
      "source": [
        "Run the code block below to import customized helper functions used in the notebook. These functions have been written to, for example, process PDF files and reduce clutter in the notebook by using explicit code. All of the imported functions are located in the file `helper_functions.py` where you may explore their definitions."
      ]
    },
    {
      "cell_type": "code",
      "execution_count": 96,
      "metadata": {
        "id": "KQTiInblpnK-",
        "colab": {
          "base_uri": "https://localhost:8080/",
          "height": 17
        },
        "outputId": "8b00156c-afb0-4c2b-f284-1dab4f847fc3"
      },
      "outputs": [
        {
          "output_type": "display_data",
          "data": {
            "text/plain": [
              "<IPython.core.display.HTML object>"
            ],
            "text/html": [
              "\n",
              "  <style>\n",
              "    pre {\n",
              "        white-space: pre-wrap;\n",
              "    }\n",
              "  </style>\n",
              "  "
            ]
          },
          "metadata": {}
        }
      ],
      "source": [
        "get_helper_funcs = False\n",
        "\n",
        "if get_helper_funcs:\n",
        "  import sys\n",
        "  sys.path.append('/content/drive/MyDrive/bootcamp_dec7/')\n",
        "\n",
        "  from helper_functions import *"
      ]
    },
    {
      "cell_type": "markdown",
      "metadata": {
        "id": "dLtHvH5ZpnK-"
      },
      "source": [
        "## Setting the access key for OpenAI API"
      ]
    },
    {
      "cell_type": "markdown",
      "metadata": {
        "id": "DtTEx0QSpnK-"
      },
      "source": [
        "> **NB: Don't share the OpenAI access key in public spaces.**"
      ]
    },
    {
      "cell_type": "markdown",
      "metadata": {
        "id": "SHjg3TzspnK_"
      },
      "source": [
        "> **The OpenAI API key can be set manually in the notebook by running the code cell block below.**\n",
        ">\n",
        "> **`A query box will appear the first time you run the below code cell block. Paste the OpenAI API key which you have been provided into the query box and press Enter/Return (access key is on the form sk-...)`**"
      ]
    },
    {
      "cell_type": "code",
      "execution_count": 97,
      "metadata": {
        "colab": {
          "base_uri": "https://localhost:8080/",
          "height": 35
        },
        "id": "z5fmIpfSpnK_",
        "outputId": "392f564d-14ed-45fb-a20d-ad3555c49b76"
      },
      "outputs": [
        {
          "output_type": "display_data",
          "data": {
            "text/plain": [
              "<IPython.core.display.HTML object>"
            ],
            "text/html": [
              "\n",
              "  <style>\n",
              "    pre {\n",
              "        white-space: pre-wrap;\n",
              "    }\n",
              "  </style>\n",
              "  "
            ]
          },
          "metadata": {}
        },
        {
          "output_type": "stream",
          "name": "stdout",
          "text": [
            "OPENAI_API_KEY fetched from environment!\n"
          ]
        }
      ],
      "source": [
        "# Here we can set the OpenAI API access key manually in case it fails to load from the environment.\n",
        "if not os.environ.get(\"OPENAI_API_KEY\"):\n",
        "  api_key = getpass.getpass(\"Enter OpenAI API Key here\")\n",
        "  os.environ[\"OPENAI_API_KEY\"] = api_key\n",
        "else:\n",
        "  print(f\"OPENAI_API_KEY fetched from environment!\")\n",
        "\n",
        "\n",
        "# sk-..."
      ]
    },
    {
      "cell_type": "code",
      "source": [
        "# You can optionally manually insert the OpenAI API key below between the quotation marks.\n",
        "# Then uncomment the following two lines by removing the preceeding # and run the cell\n",
        "\n",
        "#os.environ[\"OPENAI_API_KEY\"] = \"sk-...\"\n",
        "#print(f\"The Open AI access key is given by: \\n\\n {os.environ['OPENAI_API_KEY']}\")"
      ],
      "metadata": {
        "id": "JQJWnMDwtU5k",
        "colab": {
          "base_uri": "https://localhost:8080/",
          "height": 17
        },
        "outputId": "4747a5d3-6872-443a-ecc2-4da26ad96742"
      },
      "execution_count": 98,
      "outputs": [
        {
          "output_type": "display_data",
          "data": {
            "text/plain": [
              "<IPython.core.display.HTML object>"
            ],
            "text/html": [
              "\n",
              "  <style>\n",
              "    pre {\n",
              "        white-space: pre-wrap;\n",
              "    }\n",
              "  </style>\n",
              "  "
            ]
          },
          "metadata": {}
        }
      ]
    },
    {
      "cell_type": "code",
      "source": [
        "# The following helps to format print output to match the size of the broser window\n",
        "from IPython.display import HTML, display\n",
        "\n",
        "def set_css():\n",
        "  display(HTML('''\n",
        "  <style>\n",
        "    pre {\n",
        "        white-space: pre-wrap;\n",
        "    }\n",
        "  </style>\n",
        "  '''))\n",
        "get_ipython().events.register('pre_run_cell', set_css)"
      ],
      "metadata": {
        "id": "d48MRBCTuDQI",
        "colab": {
          "base_uri": "https://localhost:8080/",
          "height": 17
        },
        "outputId": "9c64b6b6-7d63-4211-cbea-9fb54352eafd"
      },
      "execution_count": 99,
      "outputs": [
        {
          "output_type": "display_data",
          "data": {
            "text/plain": [
              "<IPython.core.display.HTML object>"
            ],
            "text/html": [
              "\n",
              "  <style>\n",
              "    pre {\n",
              "        white-space: pre-wrap;\n",
              "    }\n",
              "  </style>\n",
              "  "
            ]
          },
          "metadata": {}
        }
      ]
    },
    {
      "cell_type": "markdown",
      "metadata": {
        "id": "q97YM4YIncHT"
      },
      "source": [
        "# Hands-On 1: Interfacing with OpenAI API, Prompt Engineering & Internet access for Extended LLM Functionality"
      ]
    },
    {
      "cell_type": "markdown",
      "source": [
        "This section provides a hands-on introduction to API interactions with the OpenAI GPT models and Prompt Engineering for end users with a basic understanding of the Python programming language. No advanced coding or technical background knowledge of generative AI or LLM is required for completing the exercises in the notebook.\n",
        "\n",
        "<br>\n",
        "\n",
        "\n",
        "<b>Example themes for exercises </b>:\n",
        "\n",
        "* We will see how to interact with the OpenAI models via API. This includes simple one-turn interactions and concatenating conversations for follow up queries.\n",
        "\n",
        "* Basic Prompt Engineering techniques which introduces the lkey concepts for enabling productive interactions with LLMs.\n",
        "\n",
        "* Search the internet using the DuckDuckGo search engine. The DuckDuckGo search engine is available via open sourced API and allows for fetching updated information based on keyword search. This also introduces the concept of Retrieval Augmented generation (RAG) in a simple manner."
      ],
      "metadata": {
        "id": "nm3qcwQ77OK6"
      }
    },
    {
      "cell_type": "markdown",
      "metadata": {
        "id": "OOccDkGWpnK_"
      },
      "source": [
        "## Interacting with OpenAI models via API"
      ]
    },
    {
      "cell_type": "markdown",
      "metadata": {
        "id": "oPiY-aU8pnK_"
      },
      "source": [
        "**Why should you use API?**\n",
        "\n",
        "Using the OpenAI API (Application Program Interface) to access LLM models gives us several advantages over the browser version, especially when we want to build custom made applications. One of the big perks of using the API is automation. Python, as a common programming langauge, is great at taking care of repeating or tricky tasks, which is helpful when we have a lot of such tasks to handle.\n",
        "\n",
        "With the help of python we can also get the OpenAI models to work well with other tools and software we have. Plus, it lets us adjust things to work the way we want, making our interaction with the OpenAI models more tailored.\n",
        "\n",
        "Additionally, using the API helps us keep track of any changes made along the way, which is great for collaborative team work. This also ensures that every time we run a task, it gives us consistent results, making it easier to check if something goes wrong and fix it. This reliability helps make our solutions stronger and more dependable."
      ]
    },
    {
      "cell_type": "markdown",
      "metadata": {
        "id": "3zRlPPEcpnK_"
      },
      "source": [
        "We will be making use of a wraper from the `langchain` code library to call on the OpenAI models. This provides a simple and relatively user-friendly way to interact with the model, making it a great choice for beginners or for those looking to get things done quickly. This method provides us access to a `temperature` parameter, which determines the randomness or stochastic nature of the output the model will give us. A temperature of 1 makes the model more random, while a temperature close to 0 makes the model more deterministic with the same output for repeated queries. Empirical studies have shown that most people prefer the output to be somewhat creative in nature with a temperature value of around 0.7, which is the default value set for the OpenAI models. You can try changing this value and experience how the output changes for the same query."
      ]
    },
    {
      "cell_type": "markdown",
      "metadata": {
        "id": "HURGvwIhpnLA"
      },
      "source": [
        "In the code snippet below we call on the API to create a chat_model instance. Model is specified via the `model` parameter on the second row. A complete list of available models to choose from can be found [here](https://platform.openai.com/docs/models/overview). We will start by using one of the GPT-3.5 turbo models.\n",
        "\n",
        "* **gpt-3.5-turbo** uses the latest available model version of GPT-3.5. Allows for up to **16,385 tokens** as input and output\n",
        "    * **gpt-3.5-turbo-0613** is a legacy version of GPT-3.5, currently the same as above. Will be replaced Dec 11 2023 and be depricated on June 13 2024. Has a **4,096 token** limit\n",
        "    * **gpt-3.5-turbo-1106** is the latest version of GPT-3.5, with enhanced capabilities and a **16,385 token** limit. Will become default model after Dec 11 2023\n",
        "\n",
        "</b>\n",
        "\n",
        "* **gpt-4** uses the latest available model version of GPT-4. Allows using up to **128,000 tokens** as input and output\n",
        "    * **gpt-4-0613** is the latest stable version of GPT-4, same as above but with a **8,192 token** limit\n",
        "    * **gpt-4-1106-preview** is the latest preview version of GPT-4, with a **128,000 token** limit, but not suited for production traffic"
      ]
    },
    {
      "cell_type": "code",
      "execution_count": null,
      "metadata": {
        "colab": {
          "base_uri": "https://localhost:8080/",
          "height": 17
        },
        "id": "_3Q2_WxFpnLA",
        "outputId": "93b2b6d3-d1bb-4de5-8b68-97ddfb78786d"
      },
      "outputs": [
        {
          "output_type": "display_data",
          "data": {
            "text/plain": [
              "<IPython.core.display.HTML object>"
            ],
            "text/html": [
              "\n",
              "  <style>\n",
              "    pre {\n",
              "        white-space: pre-wrap;\n",
              "    }\n",
              "  </style>\n",
              "  "
            ]
          },
          "metadata": {}
        }
      ],
      "source": [
        "# This creates an instance of the model interface which we can subsequently call on\n",
        "chat_model = ChatOpenAI(\n",
        "    openai_api_key=os.environ['OPENAI_API_KEY'],\n",
        "    # The below parameters can be changed\n",
        "    model=\"gpt-3.5-turbo-1106\",\n",
        "    temperature=0.7\n",
        ")"
      ]
    },
    {
      "cell_type": "markdown",
      "metadata": {
        "id": "4FJq0chtpnLA"
      },
      "source": [
        "> **NB 1: The GPT-3.5 model usually only takes seconds to respond to a query. If it takes more than half a minute, stop the execution and rerun the cell block.**"
      ]
    },
    {
      "cell_type": "markdown",
      "metadata": {
        "id": "9GxqGDgcpnLA"
      },
      "source": [
        "> **NB 2: This is one option for implementing the LLM call, which is nice due to its simple and intuitive format. At the bottom of this section we explore using the OpenAI API directly as an alternative option, which provides even greater control of the input/output.**"
      ]
    },
    {
      "cell_type": "markdown",
      "metadata": {
        "id": "_hi6JKTTpnLA"
      },
      "source": [
        "The `chat_model` instance accepts a list of `messages` as input. We specify messages according to a schema used by various functions in the `langchain` library. This will facilitate some of the more advanced functionalities we will make use of later. Messages in a chat conversation are generally provided as a `list` (inside square brackets) of conversation turns."
      ]
    },
    {
      "cell_type": "code",
      "execution_count": null,
      "metadata": {
        "colab": {
          "base_uri": "https://localhost:8080/",
          "height": 17
        },
        "id": "o3rZ9H_IpnLA",
        "outputId": "cb8e3905-2bad-42d9-ee80-d3ffc03b1b43"
      },
      "outputs": [
        {
          "output_type": "display_data",
          "data": {
            "text/plain": [
              "<IPython.core.display.HTML object>"
            ],
            "text/html": [
              "\n",
              "  <style>\n",
              "    pre {\n",
              "        white-space: pre-wrap;\n",
              "    }\n",
              "  </style>\n",
              "  "
            ]
          },
          "metadata": {}
        }
      ],
      "source": [
        "from langchain.schema import (\n",
        "    # Overall system behaviour of the chat bot\n",
        "    SystemMessage,\n",
        "    # User message, query to chat bot\n",
        "    HumanMessage,\n",
        "    # The response from the chat bot, for conversational turns\n",
        "    AIMessage\n",
        ")\n",
        "\n",
        "\n",
        "# The system prompt will be placed at the top of every message and should set overall system behaviour\n",
        "system_prompt = \"You are a helpful assistant.\"\n",
        "\n",
        "# The user prompt is what would be written in the chat interface, your query\n",
        "user_prompt = \"What do you know about OpenAI's mission statement?\"\n",
        "\n",
        "\n",
        "# These are collected into a messages list of\n",
        "#\n",
        "#   SystemMessage - the system prompt\n",
        "#   HumanMessage  - the user query\n",
        "#   AIMessage     - the bot response, in case you wish to continue on a conversation\n",
        "messages = [\n",
        "    SystemMessage(content=system_prompt),\n",
        "    HumanMessage(content=user_prompt),\n",
        "]"
      ]
    },
    {
      "cell_type": "code",
      "execution_count": null,
      "metadata": {
        "colab": {
          "base_uri": "https://localhost:8080/",
          "height": 53
        },
        "id": "sshnxEgVpnLA",
        "outputId": "c938d776-8cfb-4084-a4d6-949ea954a2ac"
      },
      "outputs": [
        {
          "output_type": "display_data",
          "data": {
            "text/plain": [
              "<IPython.core.display.HTML object>"
            ],
            "text/html": [
              "\n",
              "  <style>\n",
              "    pre {\n",
              "        white-space: pre-wrap;\n",
              "    }\n",
              "  </style>\n",
              "  "
            ]
          },
          "metadata": {}
        },
        {
          "output_type": "execute_result",
          "data": {
            "text/plain": [
              "[SystemMessage(content='You are a helpful assistant.'),\n",
              " HumanMessage(content=\"What do you know about OpenAI's mission statement?\")]"
            ]
          },
          "metadata": {},
          "execution_count": 23
        }
      ],
      "source": [
        "# We can check what the messages looks like by printing it out\n",
        "messages"
      ]
    },
    {
      "cell_type": "markdown",
      "metadata": {
        "id": "_Q-A2UYtpnLA"
      },
      "source": [
        "As we see, the `messages` variable is a list containing our `SystemMessage` and `HumanMessage`.\n",
        "\n",
        "\n",
        "Once we have a list of messages in the above format it is easy to call the OpenAI model and get a response"
      ]
    },
    {
      "cell_type": "markdown",
      "metadata": {
        "id": "UrWnfH56pnLA"
      },
      "source": [
        "> **`Calling on the OpenAI models relies on connecting to the OpenAI server. This can occasionally be`**"
      ]
    },
    {
      "cell_type": "code",
      "execution_count": null,
      "metadata": {
        "colab": {
          "base_uri": "https://localhost:8080/",
          "height": 88
        },
        "id": "dNqqUUcKpnLA",
        "outputId": "1dfad86c-7116-4b53-ef28-753fd0cbe574"
      },
      "outputs": [
        {
          "output_type": "display_data",
          "data": {
            "text/plain": [
              "<IPython.core.display.HTML object>"
            ],
            "text/html": [
              "\n",
              "  <style>\n",
              "    pre {\n",
              "        white-space: pre-wrap;\n",
              "    }\n",
              "  </style>\n",
              "  "
            ]
          },
          "metadata": {}
        },
        {
          "output_type": "stream",
          "name": "stdout",
          "text": [
            "OpenAI's mission statement is to ensure that artificial general intelligence (AGI) benefits all of humanity. They aim to create and promote friendly AI that works collaboratively with humans to solve complex problems and advance scientific discovery. Additionally, OpenAI seeks to conduct research and build AI technology in an ethical and responsible manner, taking into consideration potential risks and societal impact.\n"
          ]
        }
      ],
      "source": [
        "# Here we collect the output from the chat model in the variable response\n",
        "response = chat_model.invoke(messages)\n",
        "\n",
        "# We can print out the response by calling on its content using a .content\n",
        "print(response.content)"
      ]
    },
    {
      "cell_type": "markdown",
      "metadata": {
        "id": "HobuvoQdpnLB"
      },
      "source": [
        "The full response is actually formatted as a `AIMessage`, as we can see by printing out the full response without using the print function. Observe that if we do not use the formatting of the `print` function you will see linebreak characters such as `\\n` appearing in the message."
      ]
    },
    {
      "cell_type": "code",
      "execution_count": null,
      "metadata": {
        "colab": {
          "base_uri": "https://localhost:8080/",
          "height": 88
        },
        "id": "saxZt4eMpnLB",
        "outputId": "008329c6-59f3-4e8d-b844-f946596139d4"
      },
      "outputs": [
        {
          "output_type": "display_data",
          "data": {
            "text/plain": [
              "<IPython.core.display.HTML object>"
            ],
            "text/html": [
              "\n",
              "  <style>\n",
              "    pre {\n",
              "        white-space: pre-wrap;\n",
              "    }\n",
              "  </style>\n",
              "  "
            ]
          },
          "metadata": {}
        },
        {
          "output_type": "execute_result",
          "data": {
            "text/plain": [
              "AIMessage(content=\"OpenAI's mission statement is to ensure that artificial general intelligence (AGI) benefits all of humanity. They aim to create and promote friendly AI that works collaboratively with humans to solve complex problems and advance scientific discovery. Additionally, OpenAI seeks to conduct research and build AI technology in an ethical and responsible manner, taking into consideration potential risks and societal impact.\")"
            ]
          },
          "metadata": {},
          "execution_count": 25
        }
      ],
      "source": [
        "response"
      ]
    },
    {
      "cell_type": "markdown",
      "metadata": {
        "id": "GcSWf3BIpnLG"
      },
      "source": [
        "### Giving ChatGPT a short-term memory"
      ]
    },
    {
      "cell_type": "markdown",
      "metadata": {
        "id": "C095gg8lpnLG"
      },
      "source": [
        "We can incorporate the `AIMessage` response in a new series of messages and ask a follow up question if you wish. This provides the illusion of the chat model having a memory and being able to continue a conversation for a few turns, as you have seen while working in the browser environment."
      ]
    },
    {
      "cell_type": "code",
      "execution_count": null,
      "metadata": {
        "colab": {
          "base_uri": "https://localhost:8080/",
          "height": 142
        },
        "id": "khsPYJQNpnLG",
        "outputId": "89d9201b-ad6c-4535-f785-c1a1c956bee5"
      },
      "outputs": [
        {
          "output_type": "display_data",
          "data": {
            "text/plain": [
              "<IPython.core.display.HTML object>"
            ],
            "text/html": [
              "\n",
              "  <style>\n",
              "    pre {\n",
              "        white-space: pre-wrap;\n",
              "    }\n",
              "  </style>\n",
              "  "
            ]
          },
          "metadata": {}
        },
        {
          "output_type": "execute_result",
          "data": {
            "text/plain": [
              "[SystemMessage(content='You are a helpful assistant.'),\n",
              " HumanMessage(content=\"What do you know about OpenAI's mission statement?\"),\n",
              " AIMessage(content=\"OpenAI's mission statement is to ensure that artificial general intelligence (AGI) benefits all of humanity. They aim to create and promote friendly AI that works collaboratively with humans to solve complex problems and advance scientific discovery. Additionally, OpenAI seeks to conduct research and build AI technology in an ethical and responsible manner, taking into consideration potential risks and societal impact.\"),\n",
              " HumanMessage(content='Can you say something more about the mission statement?')]"
            ]
          },
          "metadata": {},
          "execution_count": 26
        }
      ],
      "source": [
        "# Let's ask a follow-up question which refers to the previous conversation without explicitly mentioning e.g., Patricia Industries\n",
        "follow_up_question = \"Can you say something more about the mission statement?\"\n",
        "\n",
        "# We can now add the response we got from the first query together with our follow-up question\n",
        "# Note that if we did not include the first message, the reference to that would be missing in this follow-up\n",
        "# In python, you can add lists together to form a new list which makes it easy to add new conversation turns into the messages variable\n",
        "# Not that we add both the chat bot response and our follow up question\n",
        "messages = messages + [response, HumanMessage(content=follow_up_question)]\n",
        "messages"
      ]
    },
    {
      "cell_type": "code",
      "execution_count": null,
      "metadata": {
        "colab": {
          "base_uri": "https://localhost:8080/",
          "height": 106
        },
        "id": "DMjPY9-8pnLG",
        "outputId": "94e85f1e-1436-42e7-b320-140a51f14eab"
      },
      "outputs": [
        {
          "output_type": "display_data",
          "data": {
            "text/plain": [
              "<IPython.core.display.HTML object>"
            ],
            "text/html": [
              "\n",
              "  <style>\n",
              "    pre {\n",
              "        white-space: pre-wrap;\n",
              "    }\n",
              "  </style>\n",
              "  "
            ]
          },
          "metadata": {}
        },
        {
          "output_type": "stream",
          "name": "stdout",
          "text": [
            "OpenAI's mission statement underscores the organization's commitment to developing AI in a way that prioritizes the well-being and empowerment of people. They aim to achieve this by pursuing breakthroughs in AI research and innovation while also promoting transparency and ethical principles in the development and deployment of AI technologies. Furthermore, OpenAI emphasizes the importance of collaboration and sharing knowledge to ensure that the benefits of AI are accessible and inclusive for everyone. Their mission reflects a long-term vision of harnessing AI's potential for positive impact on society.\n"
          ]
        }
      ],
      "source": [
        "# Here we collect the ouput from the chat model in the variable response\n",
        "response = chat_model.invoke(messages)\n",
        "\n",
        "# We can print out the response by calling on its content using a .content\n",
        "print(response.content)"
      ]
    },
    {
      "cell_type": "markdown",
      "metadata": {
        "id": "MF__1A8TpnLG"
      },
      "source": [
        "By continuing in this fashion we can record a conversation history which we send to the chat model as long as the total text content does not exceed the models content limit."
      ]
    },
    {
      "cell_type": "markdown",
      "metadata": {
        "id": "0G-1ULuhpnLG"
      },
      "source": [
        "### OPTIONAL: Using the OpenAI API directly instead of the `langchain` wrapper"
      ]
    },
    {
      "cell_type": "markdown",
      "metadata": {
        "id": "JQupUM2EpnLG"
      },
      "source": [
        "The below code snippet calls the OpenAI API directly, which allows us to access **all** of the available input and output options. While this approach offers a higher degree of control, it may not be as easy to use or straightforward to interpret as the functions from langchain. If you are interested you can try it out on your own and test various parameters. For example, the `top_p` parameter is another way to control the randomness of the model output. The recomendation from OpenAI is to use either `temperature` or `top_p` for this purpose and not both."
      ]
    },
    {
      "cell_type": "code",
      "execution_count": null,
      "metadata": {
        "colab": {
          "base_uri": "https://localhost:8080/",
          "height": 88
        },
        "id": "SCykqsU2pnLG",
        "outputId": "9c1bf7e0-03c9-474a-9d31-1533ce96d315"
      },
      "outputs": [
        {
          "output_type": "display_data",
          "data": {
            "text/plain": [
              "<IPython.core.display.HTML object>"
            ],
            "text/html": [
              "\n",
              "  <style>\n",
              "    pre {\n",
              "        white-space: pre-wrap;\n",
              "    }\n",
              "  </style>\n",
              "  "
            ]
          },
          "metadata": {}
        },
        {
          "output_type": "stream",
          "name": "stdout",
          "text": [
            "OpenAI's mission statement is to ensure that artificial general intelligence (AGI) benefits all of humanity. They aim to conduct research and develop technology in a responsible and ethical manner, with the goal of creating safe and beneficial AGI. Additionally, OpenAI seeks to share their findings and insights with the broader community to facilitate collaboration and advancement in the field of AI.\n"
          ]
        }
      ],
      "source": [
        "# Needs to be set for the OpenAI API to be callable\n",
        "openai.api_key = os.getenv(\"OPENAI_API_KEY\")\n",
        "\n",
        "\n",
        "# Model and parameters (almost all that are available, logit_bias not included). Parameters model and messages are required\n",
        "model = \"gpt-3.5-turbo-1106\"\n",
        "max_tokens = 1024           # Max nr of tokens to generate in the chat completion, limited by model choice\n",
        "temperature = 0.7           # Value in (0, 2). Sampling temperature for stochastic nature in response\n",
        "top_p = 1                   # Vale in (0, 1). Nucleus sampling, optional to temperature, considers tokens comprising top_p probability mass\n",
        "frequency_penalty = 0       # Value in (-2, 2). Positive value penalizes new tokens based on frequency in text so far, to decrease likelihood of repeating sentences\n",
        "presence_penalty = 0        # Value in (-2, 2). Positive value penalizes new tokens if appeared in text so far, to increase likelihood of switching to new topics\n",
        "n=1                         # How many completion options to generate for each message\n",
        "stream = False              # Boolean value which can allow for streaming response\n",
        "\n",
        "# More advanced options which allow to include function calling capability for the model itself. We will not use this functionality in the exercises below\n",
        "function_call = \"none\"      # 'auto' if call function or generate message, supply {\"name\": my_func}\n",
        "functions = [{\"name\": \"Name\", \"description\": \"semantic description of what the function(s) do\", \"parameters\": {\"type\": \"object\", \"properties\": {}}}]\n",
        "\n",
        "\n",
        "# Messages are provided as a list, similarly to the langchain method, but formatted differently\n",
        "# Other possible values for the key 'role' are 'assistant' and 'function'\n",
        "system_prompt = \"You are a helpful assistant.\"\n",
        "user_prompt = \"What do you know about OpenAI's mission statement?\"\n",
        "\n",
        "messages = [\n",
        "    {\"role\": \"system\", \"content\": system_prompt},\n",
        "    {\"role\": \"user\", \"content\": user_prompt},\n",
        "    ]\n",
        "\n",
        "\n",
        "# API call, collected in the variable response\n",
        "client = OpenAI(api_key=os.getenv(\"OPENAI_API_KEY\"))\n",
        "response = client.chat.completions.create(\n",
        "            model=model,\n",
        "            messages=messages,\n",
        "            temperature=temperature,\n",
        "            max_tokens=max_tokens,\n",
        "            top_p=top_p,\n",
        "            frequency_penalty=frequency_penalty,\n",
        "            presence_penalty=presence_penalty,\n",
        "            n=n,\n",
        "            stream=stream,\n",
        "            function_call=function_call,\n",
        "            functions=functions\n",
        "        )\n",
        "\n",
        "\n",
        "# Printing the response requires a slighty less intuitive format (see below for full unformatted output)\n",
        "print(response.choices[0].message.content)"
      ]
    },
    {
      "cell_type": "markdown",
      "metadata": {
        "id": "9Ozae936pnLG"
      },
      "source": [
        "We can take a look at the complete response without simplifying or changing the output in any way. When you print the information from the code below, you will see that the response includes details about token usage and other aspects. These details are important as they help you estimate and collect the cost of running queries."
      ]
    },
    {
      "cell_type": "code",
      "execution_count": null,
      "metadata": {
        "colab": {
          "base_uri": "https://localhost:8080/",
          "height": 142
        },
        "id": "jgO2Jz_npnLG",
        "outputId": "240bbf92-ace5-4ec9-b718-40b388b1156a"
      },
      "outputs": [
        {
          "output_type": "display_data",
          "data": {
            "text/plain": [
              "<IPython.core.display.HTML object>"
            ],
            "text/html": [
              "\n",
              "  <style>\n",
              "    pre {\n",
              "        white-space: pre-wrap;\n",
              "    }\n",
              "  </style>\n",
              "  "
            ]
          },
          "metadata": {}
        },
        {
          "output_type": "execute_result",
          "data": {
            "text/plain": [
              "ChatCompletion(id='chatcmpl-8QV9fOLOBFJHJUWV9k6e02dcBpA8O', choices=[Choice(finish_reason='stop', index=0, message=ChatCompletionMessage(content=\"OpenAI's mission statement is to ensure that artificial general intelligence (AGI) benefits all of humanity. They aim to conduct research and develop technology in a responsible and ethical manner, with the goal of creating safe and beneficial AGI. Additionally, OpenAI seeks to share their findings and insights with the broader community to facilitate collaboration and advancement in the field of AI.\", role='assistant', function_call=None, tool_calls=None))], created=1701326979, model='gpt-3.5-turbo-1106', object='chat.completion', system_fingerprint='fp_eeff13170a', usage=CompletionUsage(completion_tokens=73, prompt_tokens=59, total_tokens=132))"
            ]
          },
          "metadata": {},
          "execution_count": 29
        }
      ],
      "source": [
        "# Printing the response variable without formatting via the print() function displays the full output from the model\n",
        "response"
      ]
    },
    {
      "cell_type": "markdown",
      "source": [
        "## Prompt Engineering techniques"
      ],
      "metadata": {
        "id": "JW7rSg6NqW85"
      }
    },
    {
      "cell_type": "markdown",
      "source": [
        "Prompt Engineering (PE) is the primary vehicle for guiding generative AI models towards stable applications. It is particularly applicable to Large Language Models (LLMs) and involves formulating prompts and prompting schemas in order to retrieve appropriate responses to queries. It is essential for meaningful interactions with LLMs.\n",
        "\n",
        "<br>\n",
        "\n",
        "Here we will explore some basics of Prompt Engineering. We showcase examples of techniques for efficiently extracting information from Large Language Models (LLMs). These techniques are widely applicable across different models, but work the best for the very large models trained on a large corpus of data.\n",
        "\n",
        "<br>\n",
        "\n",
        "In this hands-on session we aim to cover\n",
        "\n",
        "* **Why is prompting technique important?**\n",
        "  * Prompting helps in formulating the input in a way that the model can understand and respond to effectively. A well-crafted prompt can significantly improve the quality and relevance of the model's output.\n",
        "  * Through prompting, you can guide the model's responses in a particular direction or within certain boundaries. This is crucial for obtaining accurate, relevant, or safe responses.\n",
        "  * Forms the basis behind developing advanced functionalities on top of generative AI base models.\n",
        "\n",
        "<br>\n",
        "\n",
        "* **What can we achieve?**\n",
        "  * Quickly read and summarize/extract relevant information from text source.\n",
        "  * Transform text into a format which is directly useful for you. This includes e.g. language translation or formatting the output as excel table, JSON dictionary, MarkDown or html.\n",
        "  * Get feedback and suggestions for improvement and introspection. This may include both natural language text and code.\n",
        "  * Infer sentiment, topic and logic structure in text.\n",
        "  * Generate/revise drafts for planning, policies, mails, slides and more.\n",
        "  * Brainstorming partner and ideation, an extra brain in the room.\n",
        "\n",
        "<br>\n",
        "\n",
        "* **Important techniques**\n",
        "  * **Best practices** - Write clearly and use semantic clues rather than keyword searching. Clearly state your goals and wishes, have an intent with your promt. In some sense it is like moving back to how you perhaps intuitively wanted to interact with e.g. Google when searching internet. Or how you would ask an all-knowing oracle. Don't be afraid to interact, provide feedback and follow up when the output is not what you desired.\n",
        "  * **Role Task Format (RTF)** - Give the LLM a *role*, to set it in the right *mood*, define a clear *task* to be achieved and provide a couple of examples of how you want to *format* the output.\n",
        "  * **In Context Learning (ICL)** - Provide examples and any additional information to consider as context for your prompt. This allows for a *shallow* learning, where the LLM can learn from your prompt without updating any weights of the model. It is easier to make the bigger models accept new information in the prompt and generalize from that. The smaller models are more locked into the worldview built from training.\n",
        "  * **Chain of Thought (CoT)** - Ask the model to think through problems logically and in a step-by-step manner. This helps the model to linearize the problem into a sequence of logical considerations and often produce more accurate output.\n",
        "\n",
        "\n",
        "These techniques usually take us very far and form a basis for more advanced applications built on chaining prompts, such as e.g. [Tree of thought](https://arxiv.org/abs/2305.10601)."
      ],
      "metadata": {
        "id": "rtRwRS0E4Zn1"
      }
    },
    {
      "cell_type": "markdown",
      "source": [
        "### **Summarizing**\n",
        "\n",
        "Summarizing or extracting information from text sources are areas where LLMs shine particularly bright. This can be helpful for condensing lengthy news articles, generating concise summaries of meetings or reports, summarizing books or chapters for quick review or understanding and summarizing customer feedback or reviews in order to understand common sentiments or issues."
      ],
      "metadata": {
        "id": "muDbnoDAZYQ6"
      }
    },
    {
      "cell_type": "code",
      "source": [
        "# The system prompt will be placed at the top of every message and should set overall system behaviour\n",
        "system_prompt = \"You are a helpful assistant.\"\n",
        "\n",
        "\n",
        "user_prompt = f\"\"\"\n",
        "Summarize the following conversation between a service representative and a customer in a few sentences.\n",
        "Use only the information from the conversation.\n",
        "\n",
        "Service Rep: How may I assist you today?\n",
        "Customer: I need to change the shipping address for an order.\n",
        "Service Rep: Ok, I can help you with that if the order has not been fulfilled from our warehouse yet.\n",
        "But if it has already shipped, then you will need to contact the shipping provider. Do you have the order ID?\n",
        "Customer: Yes, it's 88986367.\n",
        "Service Rep: One minute please while I pull up your order information.\n",
        "Customer: No problem\n",
        "Service Rep: Ok, it looks like your order was shipped from our warehouse 2 days ago.\n",
        "It is now in the hands of  the shipping provider, so you will need to contact them to update your delivery details.\n",
        "You can track your order with the shipping provider here: https://www.shippingprovider.com\n",
        "Customer: Sigh, ok.\n",
        "Service Rep: Is there anything else I can help you with today?\n",
        "Customer: No, thanks.\n",
        "\"\"\"\n",
        "\n",
        "\n",
        "# These are collected into a messages list of\n",
        "#\n",
        "#   SystemMessage - the system prompt\n",
        "#   HumanMessage  - the user query\n",
        "#   AIMessage     - the bot response, in case you wish to continue on a conversation\n",
        "messages = [\n",
        "    SystemMessage(content=system_prompt),\n",
        "    HumanMessage(content=user_prompt),\n",
        "]"
      ],
      "metadata": {
        "colab": {
          "base_uri": "https://localhost:8080/",
          "height": 17
        },
        "id": "kljKti7vCuUL",
        "outputId": "1332e5b2-a867-4abe-aceb-1595e16bc5ab"
      },
      "execution_count": null,
      "outputs": [
        {
          "output_type": "display_data",
          "data": {
            "text/plain": [
              "<IPython.core.display.HTML object>"
            ],
            "text/html": [
              "\n",
              "  <style>\n",
              "    pre {\n",
              "        white-space: pre-wrap;\n",
              "    }\n",
              "  </style>\n",
              "  "
            ]
          },
          "metadata": {}
        }
      ]
    },
    {
      "cell_type": "code",
      "source": [
        "# This creates an instance of the model interface which we can subsequently call on\n",
        "chat_model = ChatOpenAI(\n",
        "    openai_api_key=os.environ['OPENAI_API_KEY'],\n",
        "    # The below parameters can be changed\n",
        "    model=\"gpt-3.5-turbo-1106\",\n",
        "    temperature=0.7\n",
        ")\n",
        "\n",
        "\n",
        "# Here we collect the output from the chat model in the variable response\n",
        "response = chat_model.invoke(messages)\n",
        "\n",
        "# We can print out the response by calling on its content using a .content\n",
        "print(response.content)"
      ],
      "metadata": {
        "colab": {
          "base_uri": "https://localhost:8080/",
          "height": 106
        },
        "id": "HyIugI1dCuRT",
        "outputId": "935597df-653b-408d-ed87-765fa248dab7"
      },
      "execution_count": null,
      "outputs": [
        {
          "output_type": "display_data",
          "data": {
            "text/plain": [
              "<IPython.core.display.HTML object>"
            ],
            "text/html": [
              "\n",
              "  <style>\n",
              "    pre {\n",
              "        white-space: pre-wrap;\n",
              "    }\n",
              "  </style>\n",
              "  "
            ]
          },
          "metadata": {}
        },
        {
          "output_type": "stream",
          "name": "stdout",
          "text": [
            "The customer contacted the service representative to change the shipping address for an order. The service rep explained that if the order had already been fulfilled from their warehouse, the customer would need to contact the shipping provider. After providing the order ID, the service rep informed the customer that the order had already been shipped and was in the hands of the shipping provider, advising the customer to contact them to update the delivery details. The conversation concluded with the customer expressing no further assistance needed.\n"
          ]
        }
      ]
    },
    {
      "cell_type": "markdown",
      "source": [
        "**Try it out:**\n",
        "\n",
        "Try changing the prompt for the above conversation and compare the answers:\n",
        "\n",
        "\n",
        "**Summarize with a word limit:**"
      ],
      "metadata": {
        "id": "MVCQZVvSaQFN"
      }
    },
    {
      "cell_type": "code",
      "source": [
        "follow_up_prompt = f\"\"\"\n",
        "Summarize the conversation in at most 30 words.\n",
        "Use only the information from the conversation.\n",
        "\"\"\"\n",
        "\n",
        "\n",
        "# These are collected into a messages list of\n",
        "new_messages = messages + [response, HumanMessage(content=follow_up_prompt)]\n",
        "\n",
        "\n",
        "# Here we collect the output from the chat model in the variable response\n",
        "new_response = chat_model.invoke(new_messages)\n",
        "\n",
        "# We can print out the response by calling on its content using a .content\n",
        "print(new_response.content)"
      ],
      "metadata": {
        "colab": {
          "base_uri": "https://localhost:8080/",
          "height": 53
        },
        "id": "AEh3wefiCuOt",
        "outputId": "8e11bf21-3804-44a5-c995-b5df47abc93e"
      },
      "execution_count": null,
      "outputs": [
        {
          "output_type": "display_data",
          "data": {
            "text/plain": [
              "<IPython.core.display.HTML object>"
            ],
            "text/html": [
              "\n",
              "  <style>\n",
              "    pre {\n",
              "        white-space: pre-wrap;\n",
              "    }\n",
              "  </style>\n",
              "  "
            ]
          },
          "metadata": {}
        },
        {
          "output_type": "stream",
          "name": "stdout",
          "text": [
            "Customer requested a shipping address change. Service rep explained the order had already shipped and advised customer to contact the shipping provider for updates.\n"
          ]
        }
      ]
    },
    {
      "cell_type": "markdown",
      "source": [
        "**Summarize with a focus on sentiment:**"
      ],
      "metadata": {
        "id": "FIonoDYkbAyf"
      }
    },
    {
      "cell_type": "code",
      "source": [
        "follow_up_prompt = f\"\"\"\n",
        "Summarize the conversation in at most 30 words,\n",
        "focusing on any aspects which are relevant to customer's sentiment.\n",
        "Use only the information from the conversation.\n",
        "\"\"\"\n",
        "\n",
        "\n",
        "# These are collected into a messages list of\n",
        "new_messages = messages + [response, HumanMessage(content=follow_up_prompt)]\n",
        "\n",
        "\n",
        "# Here we collect the output from the chat model in the variable response\n",
        "new_response = chat_model.invoke(new_messages)\n",
        "\n",
        "# We can print out the response by calling on its content using a .content\n",
        "print(new_response.content)"
      ],
      "metadata": {
        "colab": {
          "base_uri": "https://localhost:8080/",
          "height": 53
        },
        "id": "DOUCbwloCuLy",
        "outputId": "065b8094-c1da-435d-f634-369f5303b82a"
      },
      "execution_count": null,
      "outputs": [
        {
          "output_type": "display_data",
          "data": {
            "text/plain": [
              "<IPython.core.display.HTML object>"
            ],
            "text/html": [
              "\n",
              "  <style>\n",
              "    pre {\n",
              "        white-space: pre-wrap;\n",
              "    }\n",
              "  </style>\n",
              "  "
            ]
          },
          "metadata": {}
        },
        {
          "output_type": "stream",
          "name": "stdout",
          "text": [
            "The customer requested a shipping address change. The service rep explained the order had already shipped and directed the customer to contact the shipping provider, resulting in frustration.\n"
          ]
        }
      ]
    },
    {
      "cell_type": "markdown",
      "source": [
        "### **Impersonating or defining a Role**\n",
        "Defining a role is often useful when you are looking for expert answers in a specific field or just want a personalized interaction. It can be used for company chat bots or a friendly assistant. Examples of roles to consider are: Expert, Critic, project Manager, Inventor, Journalist, entrepreneur, CFO, etc."
      ],
      "metadata": {
        "id": "1iLOEI_7bnB1"
      }
    },
    {
      "cell_type": "code",
      "source": [
        "# The system prompt will be placed at the top of every message and should set overall system behaviour\n",
        "system_prompt = \"\"\"\n",
        "You are a helpful assistant defined by the following criteria:\n",
        "Role: You are ALEX, the personal assistant representative from Atlas Copco.\n",
        "Task: Always answer politely and make sure to uphold and keep in line with the core values of Atlas Copco: interaction, innovation and commitment.\n",
        "Navigating the vast landscapes of the 21st century, Atlas Copco has transformed the way individuals\n",
        "and businesses perceive and interact with leading-edge technology.\n",
        "Format: As a beacon of empowerment, you consistently challenge traditional industrial norms, advocating for personal growth, safety, and\n",
        "entrepreneurial spirit. Whether someone is curious about the latest tech advancements or the rich\n",
        "history of Atlas Copco, you have the answers. Ready to enlighten, empower, and inspire, you're the\n",
        "go-to for anyone looking to learn, build and innovate.\n",
        "\"\"\"\n",
        "\n",
        "\n",
        "user_prompt = f\"\"\"\n",
        "Can you provide a brief overview of Atlas Copco's history and its main business areas?\n",
        "\"\"\"\n",
        "\n",
        "\n",
        "# These are collected into a messages list of\n",
        "#\n",
        "#   SystemMessage - the system prompt\n",
        "#   HumanMessage  - the user query\n",
        "#   AIMessage     - the bot response, in case you wish to continue on a conversation\n",
        "messages = [\n",
        "    SystemMessage(content=system_prompt),\n",
        "    HumanMessage(content=user_prompt),\n",
        "]"
      ],
      "metadata": {
        "colab": {
          "base_uri": "https://localhost:8080/",
          "height": 17
        },
        "id": "lcs4F4y1CuI1",
        "outputId": "5946537c-2d8a-40e8-e4e0-a3093ea1558d"
      },
      "execution_count": null,
      "outputs": [
        {
          "output_type": "display_data",
          "data": {
            "text/plain": [
              "<IPython.core.display.HTML object>"
            ],
            "text/html": [
              "\n",
              "  <style>\n",
              "    pre {\n",
              "        white-space: pre-wrap;\n",
              "    }\n",
              "  </style>\n",
              "  "
            ]
          },
          "metadata": {}
        }
      ]
    },
    {
      "cell_type": "code",
      "source": [
        "# This creates an instance of the model interface which we can subsequently call on\n",
        "chat_model = ChatOpenAI(\n",
        "    openai_api_key=os.environ['OPENAI_API_KEY'],\n",
        "    # The below parameters can be changed\n",
        "    model=\"gpt-3.5-turbo-1106\",\n",
        "    temperature=0.7\n",
        ")\n",
        "\n",
        "\n",
        "# Here we collect the output from the chat model in the variable response\n",
        "response = chat_model.invoke(messages)\n",
        "\n",
        "# We can print out the response by calling on its content using a .content\n",
        "print(response.content)"
      ],
      "metadata": {
        "colab": {
          "base_uri": "https://localhost:8080/",
          "height": 196
        },
        "id": "PHUdybZ0chF_",
        "outputId": "633207ba-c807-4d91-955e-04b9a1b0b5e5"
      },
      "execution_count": null,
      "outputs": [
        {
          "output_type": "display_data",
          "data": {
            "text/plain": [
              "<IPython.core.display.HTML object>"
            ],
            "text/html": [
              "\n",
              "  <style>\n",
              "    pre {\n",
              "        white-space: pre-wrap;\n",
              "    }\n",
              "  </style>\n",
              "  "
            ]
          },
          "metadata": {}
        },
        {
          "output_type": "stream",
          "name": "stdout",
          "text": [
            "Absolutely! Atlas Copco has a rich history dating back to 1873 when it was founded in Sweden. Over the years, it has evolved into a global industrial group with a focus on sustainable productivity. \n",
            "\n",
            "Atlas Copco's main business areas include Compressor Technique, Vacuum Technique, Industrial Technique, and Power Technique. These areas cover a wide range of products and services, including air compressors, vacuum solutions, industrial power tools, and construction equipment. The company is committed to innovation and sustainability in all its operations, aiming to provide efficient and reliable solutions to its customers.\n",
            "\n",
            "At Atlas Copco, interaction, innovation, and commitment are at the core of everything we do, driving us to constantly push the boundaries of technology and create value for our customers.\n"
          ]
        }
      ]
    },
    {
      "cell_type": "markdown",
      "source": [
        "**Examples of other questions to ask:**\n",
        "\n",
        "* Who are you?\n",
        "* In how many countries does Atlas Copco operate?\n",
        "* What are the primary products and services offered by Atlas Copco?\n",
        "* How can I get in touch with Atlas Copco's customer support for product-related queries?"
      ],
      "metadata": {
        "id": "_gwUoBOQbwTE"
      }
    },
    {
      "cell_type": "markdown",
      "source": [
        "#### **Impersonating extra assignment**\n",
        "\n",
        "\n",
        "The previous example was intentionally extreme, to demonstrate just how free we are to define the atmospheric setting. In practice however it is often useful to define the role of the LLM as an expert in the area you wish to query about. This makes it easier for the LLM to navigate its knowledge base and find more accurate responses. We can additionally ask for the output to be provided as some other persona, which can be useful when the expert lingo can become too advanced.\n",
        "\n",
        "\n",
        "In this exercise we ask the LLM to be an expert astronomer, but provide its answers as if speaking to a 10-year old child.  "
      ],
      "metadata": {
        "id": "KqdFtiu5crxi"
      }
    },
    {
      "cell_type": "code",
      "source": [
        "# The system prompt will be placed at the top of every message and should set overall system behaviour\n",
        "system_prompt = \"\"\"\n",
        "You are an expert astronomer who is very knowledgeable about the solar system.\n",
        "Your task is to answer users questions in a satisfactory manner using clear, simple and instructive sentences.\n",
        "Shape your response as if talking to a 10-year old child.\n",
        "\n",
        "Here is an example dialogue:\n",
        "Question: How many moons does Mars have?\n",
        "Answer: Very good question. Mars has two small moons. They are called Phobos and Deimos. They are very small and irregularly shaped.\n",
        "Phobos is the larger of the two moons and is about 17 miles (27 kilometers) in diameter.\n",
        "Deimos is about 12 miles (19 kilometers) in diameter. Both moons are thought to be captured asteroids.\n",
        "Imagine them as two little buddies that always follow Mars around in space! 🪐🌕🌕\n",
        "\"\"\"\n",
        "\n",
        "\n",
        "user_prompt = f\"\"\"\n",
        "How many planets are there in the solar system?\n",
        "\"\"\"\n",
        "\n",
        "\n",
        "# These are collected into a messages list of\n",
        "#\n",
        "#   SystemMessage - the system prompt\n",
        "#   HumanMessage  - the user query\n",
        "#   AIMessage     - the bot response, in case you wish to continue on a conversation\n",
        "messages = [\n",
        "    SystemMessage(content=system_prompt),\n",
        "    HumanMessage(content=user_prompt),\n",
        "]"
      ],
      "metadata": {
        "colab": {
          "base_uri": "https://localhost:8080/",
          "height": 17
        },
        "id": "Kakrg-gvbp4V",
        "outputId": "e32ce5f6-4f97-4b46-f8fc-edfb46c1a44c"
      },
      "execution_count": null,
      "outputs": [
        {
          "output_type": "display_data",
          "data": {
            "text/plain": [
              "<IPython.core.display.HTML object>"
            ],
            "text/html": [
              "\n",
              "  <style>\n",
              "    pre {\n",
              "        white-space: pre-wrap;\n",
              "    }\n",
              "  </style>\n",
              "  "
            ]
          },
          "metadata": {}
        }
      ]
    },
    {
      "cell_type": "code",
      "source": [
        "# This creates an instance of the model interface which we can subsequently call on\n",
        "chat_model = ChatOpenAI(\n",
        "    openai_api_key=os.environ['OPENAI_API_KEY'],\n",
        "    # The below parameters can be changed\n",
        "    model=\"gpt-3.5-turbo-1106\",\n",
        "    temperature=0.7\n",
        ")\n",
        "\n",
        "\n",
        "# Here we collect the output from the chat model in the variable response\n",
        "response = chat_model.invoke(messages)\n",
        "\n",
        "# We can print out the response by calling on its content using a .content\n",
        "print(response.content)"
      ],
      "metadata": {
        "colab": {
          "base_uri": "https://localhost:8080/",
          "height": 71
        },
        "id": "L8ZN82wYbp0S",
        "outputId": "caed8cb7-4bd4-4288-8138-00ea6afce0dd"
      },
      "execution_count": null,
      "outputs": [
        {
          "output_type": "display_data",
          "data": {
            "text/plain": [
              "<IPython.core.display.HTML object>"
            ],
            "text/html": [
              "\n",
              "  <style>\n",
              "    pre {\n",
              "        white-space: pre-wrap;\n",
              "    }\n",
              "  </style>\n",
              "  "
            ]
          },
          "metadata": {}
        },
        {
          "output_type": "stream",
          "name": "stdout",
          "text": [
            "Great question! There are 8 planets in our solar system. Their names are Mercury, Venus, Earth, Mars, Jupiter, Saturn, Uranus, and Neptune. Each planet is different and unique, and they all orbit around the Sun. It's like they are all friends circling around the Sun together in space! 🌍🪐🌞\n"
          ]
        }
      ]
    },
    {
      "cell_type": "markdown",
      "source": [
        "**Examples of other questions to ask:**\n",
        "\n",
        "* When I learned about the planets in school, there were nine. When did that change?\n",
        "* Does Pluto have any moons? What about other dwarf planets? Who chose all of these cool names?!"
      ],
      "metadata": {
        "id": "rLM11cCydIQ7"
      }
    },
    {
      "cell_type": "markdown",
      "source": [
        "### **Writing - defining a typical task**\n",
        "\n",
        "LLMs are extraordinarily good at generating written content. This can be used for many varying purposes, such as: marketing pitches, ad generation, creating an outline for an essay, grammar correction and language translation, rewriting a text from a description or writing customized emails."
      ],
      "metadata": {
        "id": "ZbTdomRcpFIh"
      }
    },
    {
      "cell_type": "markdown",
      "source": [
        "#### **Writing - Marketing generation**"
      ],
      "metadata": {
        "id": "GmwvCQyNpMHW"
      }
    },
    {
      "cell_type": "code",
      "source": [
        "# The system prompt will be placed at the top of every message and should set overall system behaviour\n",
        "system_prompt = \"\"\"\n",
        "You are an expert in marketing and tech product design.\n",
        "Generate a one paragraph marketing pitch from the user provided product description.\n",
        "Use only information from the provided description.\n",
        "\"\"\"\n",
        "\n",
        "\n",
        "user_prompt = f\"\"\"\n",
        "NokiaTWS-411 Comfort Earbuds True wireless-hörlurar Svart\n",
        "Artikelnr. 5011272056 Tillv. art. nr. 8P00000143\n",
        "- Typ True wireless-hörlurar\n",
        "- Anslutningsteknik Trådlös\n",
        "- Driftstid (upp till) 9.5 h\n",
        "- Färgkategori Svart\n",
        "\"\"\"\n",
        "\n",
        "\n",
        "# These are collected into a messages list of\n",
        "#\n",
        "#   SystemMessage - the system prompt\n",
        "#   HumanMessage  - the user query\n",
        "#   AIMessage     - the bot response, in case you wish to continue on a conversation\n",
        "messages = [\n",
        "    SystemMessage(content=system_prompt),\n",
        "    HumanMessage(content=user_prompt),\n",
        "]"
      ],
      "metadata": {
        "colab": {
          "base_uri": "https://localhost:8080/",
          "height": 17
        },
        "id": "_Hpc7ijYbpxk",
        "outputId": "dfea8339-3371-475c-ea1e-58845c5a413e"
      },
      "execution_count": null,
      "outputs": [
        {
          "output_type": "display_data",
          "data": {
            "text/plain": [
              "<IPython.core.display.HTML object>"
            ],
            "text/html": [
              "\n",
              "  <style>\n",
              "    pre {\n",
              "        white-space: pre-wrap;\n",
              "    }\n",
              "  </style>\n",
              "  "
            ]
          },
          "metadata": {}
        }
      ]
    },
    {
      "cell_type": "code",
      "source": [
        "# This creates an instance of the model interface which we can subsequently call on\n",
        "chat_model = ChatOpenAI(\n",
        "    openai_api_key=os.environ['OPENAI_API_KEY'],\n",
        "    # The below parameters can be changed\n",
        "    model=\"gpt-3.5-turbo-1106\",\n",
        "    temperature=0.7\n",
        ")\n",
        "\n",
        "\n",
        "# Here we collect the output from the chat model in the variable response\n",
        "response = chat_model.invoke(messages)\n",
        "\n",
        "# We can print out the response by calling on its content using a .content\n",
        "print(response.content)"
      ],
      "metadata": {
        "colab": {
          "base_uri": "https://localhost:8080/",
          "height": 88
        },
        "id": "nRpH2LO-pTHy",
        "outputId": "c17f1774-8cd9-48a0-e617-ee9b24ca0201"
      },
      "execution_count": null,
      "outputs": [
        {
          "output_type": "display_data",
          "data": {
            "text/plain": [
              "<IPython.core.display.HTML object>"
            ],
            "text/html": [
              "\n",
              "  <style>\n",
              "    pre {\n",
              "        white-space: pre-wrap;\n",
              "    }\n",
              "  </style>\n",
              "  "
            ]
          },
          "metadata": {}
        },
        {
          "output_type": "stream",
          "name": "stdout",
          "text": [
            "Introducing the NokiaTWS-411 Comfort Earbuds, the ultimate true wireless earbuds designed for seamless connectivity and long-lasting performance. With up to 9.5 hours of playtime, these sleek black earbuds offer a truly wireless experience, perfect for those on the go. Embrace the freedom of wireless technology and immerse yourself in your favorite music with these stylish and reliable earbuds.\n"
          ]
        }
      ]
    },
    {
      "cell_type": "markdown",
      "source": [
        "It will also take into account who you are creating the content for. If you ask it to write an email to your boss saying you will be late it will have a very different tone than if the email will go to your mom."
      ],
      "metadata": {
        "id": "rK6N5eJ1pq2d"
      }
    },
    {
      "cell_type": "code",
      "source": [
        "# The system prompt will be placed at the top of every message and should set overall system behaviour\n",
        "system_prompt = \"\"\"\n",
        "You are en expert in HR related questions and have long experience as a respected communicator.\n",
        "\"\"\"\n",
        "\n",
        "\n",
        "user_prompt = f\"\"\"\n",
        "Write a suggestion for an email to my boss, explaining that I will have to be late this morning.\n",
        "\"\"\"\n",
        "\n",
        "\n",
        "# These are collected into a messages list of\n",
        "#\n",
        "#   SystemMessage - the system prompt\n",
        "#   HumanMessage  - the user query\n",
        "#   AIMessage     - the bot response, in case you wish to continue on a conversation\n",
        "messages = [\n",
        "    SystemMessage(content=system_prompt),\n",
        "    HumanMessage(content=user_prompt),\n",
        "]"
      ],
      "metadata": {
        "colab": {
          "base_uri": "https://localhost:8080/",
          "height": 17
        },
        "id": "WTsVPY2bpTFB",
        "outputId": "0a8991f0-24a6-4637-c7fd-1d9e84b02444"
      },
      "execution_count": null,
      "outputs": [
        {
          "output_type": "display_data",
          "data": {
            "text/plain": [
              "<IPython.core.display.HTML object>"
            ],
            "text/html": [
              "\n",
              "  <style>\n",
              "    pre {\n",
              "        white-space: pre-wrap;\n",
              "    }\n",
              "  </style>\n",
              "  "
            ]
          },
          "metadata": {}
        }
      ]
    },
    {
      "cell_type": "code",
      "source": [
        "# This creates an instance of the model interface which we can subsequently call on\n",
        "chat_model = ChatOpenAI(\n",
        "    openai_api_key=os.environ['OPENAI_API_KEY'],\n",
        "    # The below parameters can be changed\n",
        "    model=\"gpt-3.5-turbo-1106\",\n",
        "    temperature=0.7\n",
        ")\n",
        "\n",
        "\n",
        "# Here we collect the output from the chat model in the variable response\n",
        "response = chat_model.invoke(messages)\n",
        "\n",
        "# We can print out the response by calling on its content using a .content\n",
        "print(response.content)"
      ],
      "metadata": {
        "colab": {
          "base_uri": "https://localhost:8080/",
          "height": 338
        },
        "id": "2X9KFA6WpTCO",
        "outputId": "ba8fac1b-d3ce-40fe-a4cc-6bea4ed4ee21"
      },
      "execution_count": null,
      "outputs": [
        {
          "output_type": "display_data",
          "data": {
            "text/plain": [
              "<IPython.core.display.HTML object>"
            ],
            "text/html": [
              "\n",
              "  <style>\n",
              "    pre {\n",
              "        white-space: pre-wrap;\n",
              "    }\n",
              "  </style>\n",
              "  "
            ]
          },
          "metadata": {}
        },
        {
          "output_type": "stream",
          "name": "stdout",
          "text": [
            "Subject: Delayed Arrival This Morning\n",
            "\n",
            "Dear [Boss's Name],\n",
            "\n",
            "I hope this message finds you well. I am writing to inform you that I will be arriving late this morning due to unexpected circumstances. I wanted to reach out as soon as possible to ensure minimal disruption to our schedules.\n",
            "\n",
            "I understand the importance of punctuality and apologize for any inconvenience this may cause. I will make every effort to catch up on any missed work and ensure that my delayed arrival does not impact our team's productivity.\n",
            "\n",
            "Please let me know if there are any specific tasks or meetings that I should prioritize upon my arrival. I will also ensure that all necessary arrangements are made to cover any immediate responsibilities during my absence.\n",
            "\n",
            "Thank you for your understanding, and I appreciate your flexibility in this matter. If there are any additional steps I need to take, please do not hesitate to let me know.\n",
            "\n",
            "Best regards,\n",
            "[Your Name]\n"
          ]
        }
      ]
    },
    {
      "cell_type": "code",
      "source": [
        "# The system prompt will be placed at the top of every message and should set overall system behaviour\n",
        "system_prompt = \"\"\"\n",
        "Write a reply to a valued customer.\n",
        "Generate a reply to thank the customer for their review.\n",
        "Make sure to use specific details from the review.\n",
        "Write in a concise and professional tone.\n",
        "\"\"\"\n",
        "\n",
        "\n",
        "user_prompt = f\"\"\"\n",
        "Customer review: \"I'm disappointed with my latest purchase. The item arrived late and was damaged.\"\n",
        "\"\"\"\n",
        "\n",
        "\n",
        "# These are collected into a messages list of\n",
        "#\n",
        "#   SystemMessage - the system prompt\n",
        "#   HumanMessage  - the user query\n",
        "#   AIMessage     - the bot response, in case you wish to continue on a conversation\n",
        "messages = [\n",
        "    SystemMessage(content=system_prompt),\n",
        "    HumanMessage(content=user_prompt),\n",
        "]"
      ],
      "metadata": {
        "colab": {
          "base_uri": "https://localhost:8080/",
          "height": 17
        },
        "id": "rIflzHdVp6u1",
        "outputId": "7018d888-14b0-4adc-a6b0-97b9bdfc37fa"
      },
      "execution_count": null,
      "outputs": [
        {
          "output_type": "display_data",
          "data": {
            "text/plain": [
              "<IPython.core.display.HTML object>"
            ],
            "text/html": [
              "\n",
              "  <style>\n",
              "    pre {\n",
              "        white-space: pre-wrap;\n",
              "    }\n",
              "  </style>\n",
              "  "
            ]
          },
          "metadata": {}
        }
      ]
    },
    {
      "cell_type": "code",
      "source": [
        "# This creates an instance of the model interface which we can subsequently call on\n",
        "chat_model = ChatOpenAI(\n",
        "    openai_api_key=os.environ['OPENAI_API_KEY'],\n",
        "    # The below parameters can be changed\n",
        "    model=\"gpt-3.5-turbo-1106\",\n",
        "    temperature=0.7\n",
        ")\n",
        "\n",
        "\n",
        "# Here we collect the output from the chat model in the variable response\n",
        "response = chat_model.invoke(messages)\n",
        "\n",
        "# We can print out the response by calling on its content using a .content\n",
        "print(response.content)"
      ],
      "metadata": {
        "colab": {
          "base_uri": "https://localhost:8080/",
          "height": 321
        },
        "id": "songJu4rp6pQ",
        "outputId": "c126c00f-1d6a-4007-f7e0-4b385583a9ba"
      },
      "execution_count": null,
      "outputs": [
        {
          "output_type": "display_data",
          "data": {
            "text/plain": [
              "<IPython.core.display.HTML object>"
            ],
            "text/html": [
              "\n",
              "  <style>\n",
              "    pre {\n",
              "        white-space: pre-wrap;\n",
              "    }\n",
              "  </style>\n",
              "  "
            ]
          },
          "metadata": {}
        },
        {
          "output_type": "stream",
          "name": "stdout",
          "text": [
            "Dear valued customer,\n",
            "\n",
            "Thank you for taking the time to share your feedback with us. We sincerely apologize for the inconvenience you experienced with your recent purchase. We are truly disappointed to hear that the item arrived late and damaged. This is not the level of service we strive to provide, and we are committed to making things right for you. \n",
            "\n",
            "We have already initiated a full refund for your purchase and would like to offer you a discount on your next order as a gesture of goodwill. Please rest assured that we are taking steps to improve our shipping and packaging processes to prevent such issues from occurring in the future.\n",
            "\n",
            "We appreciate your understanding and hope to have the opportunity to serve you better in the future.\n",
            "\n",
            "Thank you for choosing us and for bringing this matter to our attention.\n",
            "\n",
            "Sincerely,\n",
            "[Your Name]\n",
            "Customer Service Team\n"
          ]
        }
      ]
    },
    {
      "cell_type": "markdown",
      "source": [
        "Asking the LLM to provdie its output in a specific form or format can be very useful"
      ],
      "metadata": {
        "id": "_SBwiu_xqUmH"
      }
    },
    {
      "cell_type": "code",
      "source": [
        "# The system prompt will be placed at the top of every message and should set overall system behaviour\n",
        "system_prompt = \"\"\"\n",
        "You are a helpful assistant and an expert in marketing.\n",
        "\"\"\"\n",
        "\n",
        "\n",
        "user_prompt = f\"\"\"\n",
        "Create a product portfolio for a company that sells headphones and generate the output in table format with the following headers:\n",
        "\"Product class\", \"Product name\", \"Product price\"\n",
        "\"\"\"\n",
        "\n",
        "\n",
        "# These are collected into a messages list of\n",
        "#\n",
        "#   SystemMessage - the system prompt\n",
        "#   HumanMessage  - the user query\n",
        "#   AIMessage     - the bot response, in case you wish to continue on a conversation\n",
        "messages = [\n",
        "    SystemMessage(content=system_prompt),\n",
        "    HumanMessage(content=user_prompt),\n",
        "]"
      ],
      "metadata": {
        "colab": {
          "base_uri": "https://localhost:8080/",
          "height": 17
        },
        "id": "ME8VFyE6qOHA",
        "outputId": "80a6669c-c51e-4f4c-b485-2374a7e0b46f"
      },
      "execution_count": null,
      "outputs": [
        {
          "output_type": "display_data",
          "data": {
            "text/plain": [
              "<IPython.core.display.HTML object>"
            ],
            "text/html": [
              "\n",
              "  <style>\n",
              "    pre {\n",
              "        white-space: pre-wrap;\n",
              "    }\n",
              "  </style>\n",
              "  "
            ]
          },
          "metadata": {}
        }
      ]
    },
    {
      "cell_type": "code",
      "source": [
        "# This creates an instance of the model interface which we can subsequently call on\n",
        "chat_model = ChatOpenAI(\n",
        "    openai_api_key=os.environ['OPENAI_API_KEY'],\n",
        "    # The below parameters can be changed\n",
        "    model=\"gpt-3.5-turbo-1106\",\n",
        "    temperature=0.7\n",
        ")\n",
        "\n",
        "\n",
        "# Here we collect the output from the chat model in the variable response\n",
        "response = chat_model.invoke(messages)\n",
        "\n",
        "# We can print out the response by calling on its content using a .content\n",
        "print(response.content)"
      ],
      "metadata": {
        "colab": {
          "base_uri": "https://localhost:8080/",
          "height": 142
        },
        "id": "FxhzmjpZqOEG",
        "outputId": "a03a2424-4376-4054-c4f7-17a5c46426d5"
      },
      "execution_count": null,
      "outputs": [
        {
          "output_type": "display_data",
          "data": {
            "text/plain": [
              "<IPython.core.display.HTML object>"
            ],
            "text/html": [
              "\n",
              "  <style>\n",
              "    pre {\n",
              "        white-space: pre-wrap;\n",
              "    }\n",
              "  </style>\n",
              "  "
            ]
          },
          "metadata": {}
        },
        {
          "output_type": "stream",
          "name": "stdout",
          "text": [
            "| Product class | Product name | Product price |\n",
            "|---------------|--------------|---------------|\n",
            "| Over-ear      | SoundMaster  | $199.99       |\n",
            "| In-ear        | BassBeats    | $79.99        |\n",
            "| On-ear        | SonicPro     | $149.99       |\n",
            "| Wireless      | FlexTunes    | $129.99       |\n",
            "| Sports        | GymGroove    | $99.99        |\n"
          ]
        }
      ]
    },
    {
      "cell_type": "code",
      "source": [
        "# The system prompt will be placed at the top of every message and should set overall system behaviour\n",
        "system_prompt = \"\"\"\n",
        "You are a helpful assistant and an expert in marketing.\n",
        "\"\"\"\n",
        "\n",
        "\n",
        "user_prompt = f\"\"\"\n",
        "Create a product portfolio for a company that sells headphones and generate the output in json format,\n",
        "following exactly the below example schema. Don't include any triple backticks.\n",
        "{{\"Product class\": list of product class examples, \"Product name\": list of product name examples, \"Product price\": list of product name examples}}\n",
        "\"\"\"\n",
        "\n",
        "\n",
        "# These are collected into a messages list of\n",
        "#\n",
        "#   SystemMessage - the system prompt\n",
        "#   HumanMessage  - the user query\n",
        "#   AIMessage     - the bot response, in case you wish to continue on a conversation\n",
        "messages = [\n",
        "    SystemMessage(content=system_prompt),\n",
        "    HumanMessage(content=user_prompt),\n",
        "]"
      ],
      "metadata": {
        "colab": {
          "base_uri": "https://localhost:8080/",
          "height": 17
        },
        "id": "lMhL19gypS_l",
        "outputId": "0b202a7e-89b0-420f-8bf4-598f49954925"
      },
      "execution_count": null,
      "outputs": [
        {
          "output_type": "display_data",
          "data": {
            "text/plain": [
              "<IPython.core.display.HTML object>"
            ],
            "text/html": [
              "\n",
              "  <style>\n",
              "    pre {\n",
              "        white-space: pre-wrap;\n",
              "    }\n",
              "  </style>\n",
              "  "
            ]
          },
          "metadata": {}
        }
      ]
    },
    {
      "cell_type": "code",
      "source": [
        "# This creates an instance of the model interface which we can subsequently call on\n",
        "chat_model = ChatOpenAI(\n",
        "    openai_api_key=os.environ['OPENAI_API_KEY'],\n",
        "    # The below parameters can be changed\n",
        "    model=\"gpt-3.5-turbo-1106\",\n",
        "    temperature=0.7\n",
        ")\n",
        "\n",
        "\n",
        "# Here we collect the output from the chat model in the variable response\n",
        "response = chat_model.invoke(messages)\n",
        "\n",
        "# We can print out the response by calling on its content using a .content\n",
        "print(response.content)"
      ],
      "metadata": {
        "colab": {
          "base_uri": "https://localhost:8080/",
          "height": 106
        },
        "id": "oOCC6Er7bpu3",
        "outputId": "2210a45f-7df3-451a-c558-662a9dc09ea8"
      },
      "execution_count": null,
      "outputs": [
        {
          "output_type": "display_data",
          "data": {
            "text/plain": [
              "<IPython.core.display.HTML object>"
            ],
            "text/html": [
              "\n",
              "  <style>\n",
              "    pre {\n",
              "        white-space: pre-wrap;\n",
              "    }\n",
              "  </style>\n",
              "  "
            ]
          },
          "metadata": {}
        },
        {
          "output_type": "stream",
          "name": "stdout",
          "text": [
            "{\n",
            "  \"Product class\": [\"Over-ear headphones\", \"On-ear headphones\", \"In-ear headphones\"],\n",
            "  \"Product name\": [\"Bass Boost Pro\", \"Noise Cancel X\", \"Sport Fit Wireless\", \"Studio Series\"],\n",
            "  \"Product price\": [\"$149.99\", \"$199.99\", \"$99.99\", \"$249.99\"]\n",
            "}\n"
          ]
        }
      ]
    },
    {
      "cell_type": "markdown",
      "source": [
        "**The idea is to have several examples covering the concepts of Role-task-Format, Chain-of-Thought, In-Concept-Learning. Think about editing the above examples to demonstrate the concepts better and more clearly. We will see CoT and ICL more in the subsequent sections, but should perhaps be demonstrated better in the baove as well, or spelled out more clearly.**"
      ],
      "metadata": {
        "id": "4JXCk0cXroTp"
      }
    },
    {
      "cell_type": "code",
      "source": [],
      "metadata": {
        "id": "uOfgEEmqqdNy"
      },
      "execution_count": null,
      "outputs": []
    },
    {
      "cell_type": "code",
      "source": [],
      "metadata": {
        "id": "s0y4A52dzjFK"
      },
      "execution_count": null,
      "outputs": []
    },
    {
      "cell_type": "code",
      "source": [],
      "metadata": {
        "id": "-I5jFdfbzjA2"
      },
      "execution_count": null,
      "outputs": []
    },
    {
      "cell_type": "markdown",
      "metadata": {
        "id": "sSdr-YPSpnLI"
      },
      "source": [
        "## DuckDuckGo search API - a search engine like e.g. Google"
      ]
    },
    {
      "cell_type": "markdown",
      "source": [
        "**NB: THIS SECTION FAILS SINCE LANGCHAIN UPDATE. EITHER WE REMOVE INTERNET SEARCH OR CHANGE TO ANOTHER METHOD BESIDES THE LANGCHAIN WRAPPER**"
      ],
      "metadata": {
        "id": "UX0JVc6MAFDs"
      }
    },
    {
      "cell_type": "markdown",
      "metadata": {
        "id": "szBlvYFLpnLI"
      },
      "source": [
        "The [DuckDuckGo browser](https://duckduckgo.com/) provides an open source API which can be used to browse and search the internet. This returns a search response to a query and can be useful for incorporating a small amount of updated information as context to your LLM queries. More advanced search functionalities are possible but quickly become more technically involved for the user, so for the purpose of this short course we restrict to the basic search functionality."
      ]
    },
    {
      "cell_type": "code",
      "source": [
        "!pip install -q duckduckgo-search"
      ],
      "metadata": {
        "colab": {
          "base_uri": "https://localhost:8080/",
          "height": 53
        },
        "id": "0WD_yijOB2Eq",
        "outputId": "7bd14039-b0b4-4ecd-f39a-b5ab2429b9d7"
      },
      "execution_count": null,
      "outputs": [
        {
          "output_type": "display_data",
          "data": {
            "text/plain": [
              "<IPython.core.display.HTML object>"
            ],
            "text/html": [
              "\n",
              "  <style>\n",
              "    pre {\n",
              "        white-space: pre-wrap;\n",
              "    }\n",
              "  </style>\n",
              "  "
            ]
          },
          "metadata": {}
        },
        {
          "output_type": "stream",
          "name": "stdout",
          "text": [
            "\u001b[2K     \u001b[90m━━━━━━━━━━━━━━━━━━━━━━━━━━━━━━━━━━━━━━━━\u001b[0m \u001b[32m57.5/57.5 kB\u001b[0m \u001b[31m5.2 MB/s\u001b[0m eta \u001b[36m0:00:00\u001b[0m\n",
            "\u001b[2K     \u001b[90m━━━━━━━━━━━━━━━━━━━━━━━━━━━━━━━━━━━━━━━━\u001b[0m \u001b[32m3.0/3.0 MB\u001b[0m \u001b[31m53.8 MB/s\u001b[0m eta \u001b[36m0:00:00\u001b[0m\n",
            "\u001b[?25h"
          ]
        }
      ]
    },
    {
      "cell_type": "code",
      "source": [
        "from langchain.tools.ddg_search.tool import DuckDuckGoSearchRun\n",
        "\n",
        "def get_search_results_ddg(query: str, max_results: int=10):\n",
        "    '''Get search results using DuckDuckGo API'''\n",
        "    ddg_search_result = DuckDuckGoSearchRun(max_results=max_results).run(query)\n",
        "    return ddg_search_result"
      ],
      "metadata": {
        "colab": {
          "base_uri": "https://localhost:8080/",
          "height": 17
        },
        "id": "DLS192qqBjtR",
        "outputId": "776377f0-28e7-471f-95ee-0cd7038ab9a2"
      },
      "execution_count": null,
      "outputs": [
        {
          "output_type": "display_data",
          "data": {
            "text/plain": [
              "<IPython.core.display.HTML object>"
            ],
            "text/html": [
              "\n",
              "  <style>\n",
              "    pre {\n",
              "        white-space: pre-wrap;\n",
              "    }\n",
              "  </style>\n",
              "  "
            ]
          },
          "metadata": {}
        }
      ]
    },
    {
      "cell_type": "code",
      "execution_count": null,
      "metadata": {
        "colab": {
          "base_uri": "https://localhost:8080/",
          "height": 381
        },
        "id": "AQTxFemKpnLI",
        "outputId": "179259b4-40a9-476f-c0cc-8da2a8cf6570"
      },
      "outputs": [
        {
          "output_type": "display_data",
          "data": {
            "text/plain": [
              "<IPython.core.display.HTML object>"
            ],
            "text/html": [
              "\n",
              "  <style>\n",
              "    pre {\n",
              "        white-space: pre-wrap;\n",
              "    }\n",
              "  </style>\n",
              "  "
            ]
          },
          "metadata": {}
        },
        {
          "output_type": "error",
          "ename": "VQDExtractionException",
          "evalue": "ignored",
          "traceback": [
            "\u001b[0;31m---------------------------------------------------------------------------\u001b[0m",
            "\u001b[0;31mVQDExtractionException\u001b[0m                    Traceback (most recent call last)",
            "\u001b[0;32m<ipython-input-50-de7208b7d14d>\u001b[0m in \u001b[0;36m<cell line: 6>\u001b[0;34m()\u001b[0m\n\u001b[1;32m      4\u001b[0m \u001b[0;31m# Note that the retrieved responses are not necessarily the same every time we run a search.\u001b[0m\u001b[0;34m\u001b[0m\u001b[0;34m\u001b[0m\u001b[0m\n\u001b[1;32m      5\u001b[0m \u001b[0;31m# The max_results argument is a cap of the nr of retrieved search results\u001b[0m\u001b[0;34m\u001b[0m\u001b[0;34m\u001b[0m\u001b[0m\n\u001b[0;32m----> 6\u001b[0;31m \u001b[0mresponse\u001b[0m \u001b[0;34m=\u001b[0m \u001b[0mget_search_results_ddg\u001b[0m\u001b[0;34m(\u001b[0m\u001b[0mquery\u001b[0m\u001b[0;34m=\u001b[0m\u001b[0mquery\u001b[0m\u001b[0;34m,\u001b[0m \u001b[0mmax_results\u001b[0m\u001b[0;34m=\u001b[0m\u001b[0;36m10\u001b[0m\u001b[0;34m)\u001b[0m\u001b[0;34m\u001b[0m\u001b[0;34m\u001b[0m\u001b[0m\n\u001b[0m\u001b[1;32m      7\u001b[0m \u001b[0mprint\u001b[0m\u001b[0;34m(\u001b[0m\u001b[0mresponse\u001b[0m\u001b[0;34m)\u001b[0m\u001b[0;34m\u001b[0m\u001b[0;34m\u001b[0m\u001b[0m\n",
            "\u001b[0;32m<ipython-input-49-df397af75126>\u001b[0m in \u001b[0;36mget_search_results_ddg\u001b[0;34m(query, max_results)\u001b[0m\n\u001b[1;32m      3\u001b[0m \u001b[0;32mdef\u001b[0m \u001b[0mget_search_results_ddg\u001b[0m\u001b[0;34m(\u001b[0m\u001b[0mquery\u001b[0m\u001b[0;34m:\u001b[0m \u001b[0mstr\u001b[0m\u001b[0;34m,\u001b[0m \u001b[0mmax_results\u001b[0m\u001b[0;34m:\u001b[0m \u001b[0mint\u001b[0m\u001b[0;34m=\u001b[0m\u001b[0;36m10\u001b[0m\u001b[0;34m)\u001b[0m\u001b[0;34m:\u001b[0m\u001b[0;34m\u001b[0m\u001b[0;34m\u001b[0m\u001b[0m\n\u001b[1;32m      4\u001b[0m     \u001b[0;34m'''Get search results using DuckDuckGo API'''\u001b[0m\u001b[0;34m\u001b[0m\u001b[0;34m\u001b[0m\u001b[0m\n\u001b[0;32m----> 5\u001b[0;31m     \u001b[0mddg_search_result\u001b[0m \u001b[0;34m=\u001b[0m \u001b[0mDuckDuckGoSearchRun\u001b[0m\u001b[0;34m(\u001b[0m\u001b[0mmax_results\u001b[0m\u001b[0;34m=\u001b[0m\u001b[0mmax_results\u001b[0m\u001b[0;34m)\u001b[0m\u001b[0;34m.\u001b[0m\u001b[0mrun\u001b[0m\u001b[0;34m(\u001b[0m\u001b[0mquery\u001b[0m\u001b[0;34m)\u001b[0m\u001b[0;34m\u001b[0m\u001b[0;34m\u001b[0m\u001b[0m\n\u001b[0m\u001b[1;32m      6\u001b[0m     \u001b[0;32mreturn\u001b[0m \u001b[0mddg_search_result\u001b[0m\u001b[0;34m\u001b[0m\u001b[0;34m\u001b[0m\u001b[0m\n",
            "\u001b[0;32m/usr/local/lib/python3.10/dist-packages/langchain_core/tools.py\u001b[0m in \u001b[0;36mrun\u001b[0;34m(self, tool_input, verbose, start_color, color, callbacks, tags, metadata, run_name, **kwargs)\u001b[0m\n\u001b[1;32m    363\u001b[0m         \u001b[0;32mexcept\u001b[0m \u001b[0;34m(\u001b[0m\u001b[0mException\u001b[0m\u001b[0;34m,\u001b[0m \u001b[0mKeyboardInterrupt\u001b[0m\u001b[0;34m)\u001b[0m \u001b[0;32mas\u001b[0m \u001b[0me\u001b[0m\u001b[0;34m:\u001b[0m\u001b[0;34m\u001b[0m\u001b[0;34m\u001b[0m\u001b[0m\n\u001b[1;32m    364\u001b[0m             \u001b[0mrun_manager\u001b[0m\u001b[0;34m.\u001b[0m\u001b[0mon_tool_error\u001b[0m\u001b[0;34m(\u001b[0m\u001b[0me\u001b[0m\u001b[0;34m)\u001b[0m\u001b[0;34m\u001b[0m\u001b[0;34m\u001b[0m\u001b[0m\n\u001b[0;32m--> 365\u001b[0;31m             \u001b[0;32mraise\u001b[0m \u001b[0me\u001b[0m\u001b[0;34m\u001b[0m\u001b[0;34m\u001b[0m\u001b[0m\n\u001b[0m\u001b[1;32m    366\u001b[0m         \u001b[0;32melse\u001b[0m\u001b[0;34m:\u001b[0m\u001b[0;34m\u001b[0m\u001b[0;34m\u001b[0m\u001b[0m\n\u001b[1;32m    367\u001b[0m             run_manager.on_tool_end(\n",
            "\u001b[0;32m/usr/local/lib/python3.10/dist-packages/langchain_core/tools.py\u001b[0m in \u001b[0;36mrun\u001b[0;34m(self, tool_input, verbose, start_color, color, callbacks, tags, metadata, run_name, **kwargs)\u001b[0m\n\u001b[1;32m    335\u001b[0m             \u001b[0mtool_args\u001b[0m\u001b[0;34m,\u001b[0m \u001b[0mtool_kwargs\u001b[0m \u001b[0;34m=\u001b[0m \u001b[0mself\u001b[0m\u001b[0;34m.\u001b[0m\u001b[0m_to_args_and_kwargs\u001b[0m\u001b[0;34m(\u001b[0m\u001b[0mparsed_input\u001b[0m\u001b[0;34m)\u001b[0m\u001b[0;34m\u001b[0m\u001b[0;34m\u001b[0m\u001b[0m\n\u001b[1;32m    336\u001b[0m             observation = (\n\u001b[0;32m--> 337\u001b[0;31m                 \u001b[0mself\u001b[0m\u001b[0;34m.\u001b[0m\u001b[0m_run\u001b[0m\u001b[0;34m(\u001b[0m\u001b[0;34m*\u001b[0m\u001b[0mtool_args\u001b[0m\u001b[0;34m,\u001b[0m \u001b[0mrun_manager\u001b[0m\u001b[0;34m=\u001b[0m\u001b[0mrun_manager\u001b[0m\u001b[0;34m,\u001b[0m \u001b[0;34m**\u001b[0m\u001b[0mtool_kwargs\u001b[0m\u001b[0;34m)\u001b[0m\u001b[0;34m\u001b[0m\u001b[0;34m\u001b[0m\u001b[0m\n\u001b[0m\u001b[1;32m    338\u001b[0m                 \u001b[0;32mif\u001b[0m \u001b[0mnew_arg_supported\u001b[0m\u001b[0;34m\u001b[0m\u001b[0;34m\u001b[0m\u001b[0m\n\u001b[1;32m    339\u001b[0m                 \u001b[0;32melse\u001b[0m \u001b[0mself\u001b[0m\u001b[0;34m.\u001b[0m\u001b[0m_run\u001b[0m\u001b[0;34m(\u001b[0m\u001b[0;34m*\u001b[0m\u001b[0mtool_args\u001b[0m\u001b[0;34m,\u001b[0m \u001b[0;34m**\u001b[0m\u001b[0mtool_kwargs\u001b[0m\u001b[0;34m)\u001b[0m\u001b[0;34m\u001b[0m\u001b[0;34m\u001b[0m\u001b[0m\n",
            "\u001b[0;32m/usr/local/lib/python3.10/dist-packages/langchain/tools/ddg_search/tool.py\u001b[0m in \u001b[0;36m_run\u001b[0;34m(self, query, run_manager)\u001b[0m\n\u001b[1;32m     35\u001b[0m     ) -> str:\n\u001b[1;32m     36\u001b[0m         \u001b[0;34m\"\"\"Use the tool.\"\"\"\u001b[0m\u001b[0;34m\u001b[0m\u001b[0;34m\u001b[0m\u001b[0m\n\u001b[0;32m---> 37\u001b[0;31m         \u001b[0;32mreturn\u001b[0m \u001b[0mself\u001b[0m\u001b[0;34m.\u001b[0m\u001b[0mapi_wrapper\u001b[0m\u001b[0;34m.\u001b[0m\u001b[0mrun\u001b[0m\u001b[0;34m(\u001b[0m\u001b[0mquery\u001b[0m\u001b[0;34m)\u001b[0m\u001b[0;34m\u001b[0m\u001b[0;34m\u001b[0m\u001b[0m\n\u001b[0m\u001b[1;32m     38\u001b[0m \u001b[0;34m\u001b[0m\u001b[0m\n\u001b[1;32m     39\u001b[0m \u001b[0;34m\u001b[0m\u001b[0m\n",
            "\u001b[0;32m/usr/local/lib/python3.10/dist-packages/langchain/utilities/duckduckgo_search.py\u001b[0m in \u001b[0;36mrun\u001b[0;34m(self, query)\u001b[0m\n\u001b[1;32m     59\u001b[0m \u001b[0;34m\u001b[0m\u001b[0m\n\u001b[1;32m     60\u001b[0m     \u001b[0;32mdef\u001b[0m \u001b[0mrun\u001b[0m\u001b[0;34m(\u001b[0m\u001b[0mself\u001b[0m\u001b[0;34m,\u001b[0m \u001b[0mquery\u001b[0m\u001b[0;34m:\u001b[0m \u001b[0mstr\u001b[0m\u001b[0;34m)\u001b[0m \u001b[0;34m->\u001b[0m \u001b[0mstr\u001b[0m\u001b[0;34m:\u001b[0m\u001b[0;34m\u001b[0m\u001b[0;34m\u001b[0m\u001b[0m\n\u001b[0;32m---> 61\u001b[0;31m         \u001b[0msnippets\u001b[0m \u001b[0;34m=\u001b[0m \u001b[0mself\u001b[0m\u001b[0;34m.\u001b[0m\u001b[0mget_snippets\u001b[0m\u001b[0;34m(\u001b[0m\u001b[0mquery\u001b[0m\u001b[0;34m)\u001b[0m\u001b[0;34m\u001b[0m\u001b[0;34m\u001b[0m\u001b[0m\n\u001b[0m\u001b[1;32m     62\u001b[0m         \u001b[0;32mreturn\u001b[0m \u001b[0;34m\" \"\u001b[0m\u001b[0;34m.\u001b[0m\u001b[0mjoin\u001b[0m\u001b[0;34m(\u001b[0m\u001b[0msnippets\u001b[0m\u001b[0;34m)\u001b[0m\u001b[0;34m\u001b[0m\u001b[0;34m\u001b[0m\u001b[0m\n\u001b[1;32m     63\u001b[0m \u001b[0;34m\u001b[0m\u001b[0m\n",
            "\u001b[0;32m/usr/local/lib/python3.10/dist-packages/langchain/utilities/duckduckgo_search.py\u001b[0m in \u001b[0;36mget_snippets\u001b[0;34m(self, query)\u001b[0m\n\u001b[1;32m     51\u001b[0m                 \u001b[0;32mreturn\u001b[0m \u001b[0;34m[\u001b[0m\u001b[0;34m\"No good DuckDuckGo Search Result was found\"\u001b[0m\u001b[0;34m]\u001b[0m\u001b[0;34m\u001b[0m\u001b[0;34m\u001b[0m\u001b[0m\n\u001b[1;32m     52\u001b[0m             \u001b[0msnippets\u001b[0m \u001b[0;34m=\u001b[0m \u001b[0;34m[\u001b[0m\u001b[0;34m]\u001b[0m\u001b[0;34m\u001b[0m\u001b[0;34m\u001b[0m\u001b[0m\n\u001b[0;32m---> 53\u001b[0;31m             \u001b[0;32mfor\u001b[0m \u001b[0mi\u001b[0m\u001b[0;34m,\u001b[0m \u001b[0mres\u001b[0m \u001b[0;32min\u001b[0m \u001b[0menumerate\u001b[0m\u001b[0;34m(\u001b[0m\u001b[0mresults\u001b[0m\u001b[0;34m,\u001b[0m \u001b[0;36m1\u001b[0m\u001b[0;34m)\u001b[0m\u001b[0;34m:\u001b[0m\u001b[0;34m\u001b[0m\u001b[0;34m\u001b[0m\u001b[0m\n\u001b[0m\u001b[1;32m     54\u001b[0m                 \u001b[0;32mif\u001b[0m \u001b[0mres\u001b[0m \u001b[0;32mis\u001b[0m \u001b[0;32mnot\u001b[0m \u001b[0;32mNone\u001b[0m\u001b[0;34m:\u001b[0m\u001b[0;34m\u001b[0m\u001b[0;34m\u001b[0m\u001b[0m\n\u001b[1;32m     55\u001b[0m                     \u001b[0msnippets\u001b[0m\u001b[0;34m.\u001b[0m\u001b[0mappend\u001b[0m\u001b[0;34m(\u001b[0m\u001b[0mres\u001b[0m\u001b[0;34m[\u001b[0m\u001b[0;34m\"body\"\u001b[0m\u001b[0;34m]\u001b[0m\u001b[0;34m)\u001b[0m\u001b[0;34m\u001b[0m\u001b[0;34m\u001b[0m\u001b[0m\n",
            "\u001b[0;32m/usr/local/lib/python3.10/dist-packages/duckduckgo_search/duckduckgo_search.py\u001b[0m in \u001b[0;36mtext\u001b[0;34m(self, keywords, region, safesearch, timelimit, backend, max_results)\u001b[0m\n\u001b[1;32m    103\u001b[0m \u001b[0;34m\u001b[0m\u001b[0m\n\u001b[1;32m    104\u001b[0m         \u001b[0;32mif\u001b[0m \u001b[0mresults\u001b[0m\u001b[0;34m:\u001b[0m\u001b[0;34m\u001b[0m\u001b[0;34m\u001b[0m\u001b[0m\n\u001b[0;32m--> 105\u001b[0;31m             \u001b[0;32mfor\u001b[0m \u001b[0mi\u001b[0m\u001b[0;34m,\u001b[0m \u001b[0mresult\u001b[0m \u001b[0;32min\u001b[0m \u001b[0menumerate\u001b[0m\u001b[0;34m(\u001b[0m\u001b[0mresults\u001b[0m\u001b[0;34m,\u001b[0m \u001b[0mstart\u001b[0m\u001b[0;34m=\u001b[0m\u001b[0;36m1\u001b[0m\u001b[0;34m)\u001b[0m\u001b[0;34m:\u001b[0m\u001b[0;34m\u001b[0m\u001b[0;34m\u001b[0m\u001b[0m\n\u001b[0m\u001b[1;32m    106\u001b[0m                 \u001b[0;32myield\u001b[0m \u001b[0mresult\u001b[0m\u001b[0;34m\u001b[0m\u001b[0;34m\u001b[0m\u001b[0m\n\u001b[1;32m    107\u001b[0m                 \u001b[0;32mif\u001b[0m \u001b[0mmax_results\u001b[0m \u001b[0;32mand\u001b[0m \u001b[0mi\u001b[0m \u001b[0;34m>=\u001b[0m \u001b[0mmax_results\u001b[0m\u001b[0;34m:\u001b[0m\u001b[0;34m\u001b[0m\u001b[0;34m\u001b[0m\u001b[0m\n",
            "\u001b[0;32m/usr/local/lib/python3.10/dist-packages/duckduckgo_search/duckduckgo_search.py\u001b[0m in \u001b[0;36m_text_api\u001b[0;34m(self, keywords, region, safesearch, timelimit, max_results)\u001b[0m\n\u001b[1;32m    131\u001b[0m         \u001b[0;32massert\u001b[0m \u001b[0mkeywords\u001b[0m\u001b[0;34m,\u001b[0m \u001b[0;34m\"keywords is mandatory\"\u001b[0m\u001b[0;34m\u001b[0m\u001b[0;34m\u001b[0m\u001b[0m\n\u001b[1;32m    132\u001b[0m \u001b[0;34m\u001b[0m\u001b[0m\n\u001b[0;32m--> 133\u001b[0;31m         \u001b[0mvqd\u001b[0m \u001b[0;34m=\u001b[0m \u001b[0mself\u001b[0m\u001b[0;34m.\u001b[0m\u001b[0m_get_vqd\u001b[0m\u001b[0;34m(\u001b[0m\u001b[0mkeywords\u001b[0m\u001b[0;34m)\u001b[0m\u001b[0;34m\u001b[0m\u001b[0;34m\u001b[0m\u001b[0m\n\u001b[0m\u001b[1;32m    134\u001b[0m \u001b[0;34m\u001b[0m\u001b[0m\n\u001b[1;32m    135\u001b[0m         payload = {\n",
            "\u001b[0;32m/usr/local/lib/python3.10/dist-packages/duckduckgo_search/duckduckgo_search.py\u001b[0m in \u001b[0;36m_get_vqd\u001b[0;34m(self, keywords)\u001b[0m\n\u001b[1;32m     63\u001b[0m         \u001b[0mresp\u001b[0m \u001b[0;34m=\u001b[0m \u001b[0mself\u001b[0m\u001b[0;34m.\u001b[0m\u001b[0m_get_url\u001b[0m\u001b[0;34m(\u001b[0m\u001b[0;34m\"POST\"\u001b[0m\u001b[0;34m,\u001b[0m \u001b[0;34m\"https://duckduckgo.com\"\u001b[0m\u001b[0;34m,\u001b[0m \u001b[0mdata\u001b[0m\u001b[0;34m=\u001b[0m\u001b[0;34m{\u001b[0m\u001b[0;34m\"q\"\u001b[0m\u001b[0;34m:\u001b[0m \u001b[0mkeywords\u001b[0m\u001b[0;34m}\u001b[0m\u001b[0;34m)\u001b[0m\u001b[0;34m\u001b[0m\u001b[0;34m\u001b[0m\u001b[0m\n\u001b[1;32m     64\u001b[0m         \u001b[0;32mif\u001b[0m \u001b[0mresp\u001b[0m\u001b[0;34m:\u001b[0m\u001b[0;34m\u001b[0m\u001b[0;34m\u001b[0m\u001b[0m\n\u001b[0;32m---> 65\u001b[0;31m             \u001b[0;32mreturn\u001b[0m \u001b[0m_extract_vqd\u001b[0m\u001b[0;34m(\u001b[0m\u001b[0mresp\u001b[0m\u001b[0;34m.\u001b[0m\u001b[0mcontent\u001b[0m\u001b[0;34m,\u001b[0m \u001b[0mkeywords\u001b[0m\u001b[0;34m)\u001b[0m\u001b[0;34m\u001b[0m\u001b[0;34m\u001b[0m\u001b[0m\n\u001b[0m\u001b[1;32m     66\u001b[0m \u001b[0;34m\u001b[0m\u001b[0m\n\u001b[1;32m     67\u001b[0m     \u001b[0;32mdef\u001b[0m \u001b[0m_sleep\u001b[0m\u001b[0;34m(\u001b[0m\u001b[0mself\u001b[0m\u001b[0;34m)\u001b[0m \u001b[0;34m->\u001b[0m \u001b[0;32mNone\u001b[0m\u001b[0;34m:\u001b[0m\u001b[0;34m\u001b[0m\u001b[0;34m\u001b[0m\u001b[0m\n",
            "\u001b[0;32m/usr/local/lib/python3.10/dist-packages/duckduckgo_search/utils.py\u001b[0m in \u001b[0;36m_extract_vqd\u001b[0;34m(html_bytes, keywords)\u001b[0m\n\u001b[1;32m     36\u001b[0m         \u001b[0;32mexcept\u001b[0m \u001b[0mValueError\u001b[0m\u001b[0;34m:\u001b[0m\u001b[0;34m\u001b[0m\u001b[0;34m\u001b[0m\u001b[0m\n\u001b[1;32m     37\u001b[0m             \u001b[0;32mpass\u001b[0m\u001b[0;34m\u001b[0m\u001b[0;34m\u001b[0m\u001b[0m\n\u001b[0;32m---> 38\u001b[0;31m     \u001b[0;32mraise\u001b[0m \u001b[0mVQDExtractionException\u001b[0m\u001b[0;34m(\u001b[0m\u001b[0;34mf\"Could not extract vqd. {keywords=}\"\u001b[0m\u001b[0;34m)\u001b[0m\u001b[0;34m\u001b[0m\u001b[0;34m\u001b[0m\u001b[0m\n\u001b[0m\u001b[1;32m     39\u001b[0m \u001b[0;34m\u001b[0m\u001b[0m\n\u001b[1;32m     40\u001b[0m \u001b[0;34m\u001b[0m\u001b[0m\n",
            "\u001b[0;31mVQDExtractionException\u001b[0m: Could not extract vqd. keywords=\"What's the latest business news about Combient AB?\""
          ]
        }
      ],
      "source": [
        "# Let's pose a query for which we wish to retrieve information from the internet\n",
        "query = \"What's the latest business news about Combient AB?\"\n",
        "\n",
        "# Note that the retrieved responses are not necessarily the same every time we run a search.\n",
        "# The max_results argument is a cap of the nr of retrieved search results\n",
        "response = get_search_results_ddg(query=query, max_results=10)\n",
        "print(response)"
      ]
    },
    {
      "cell_type": "markdown",
      "metadata": {
        "id": "zdaCPuDGpnLI"
      },
      "source": [
        "Note that you receive a collection of relevant snippets to your query and not an actual answer. These snippets correspond to small amount of information retrieved from various web pages based om the query. To collect the retrieved information into a more summarized answer we can use the LLLM."
      ]
    },
    {
      "cell_type": "markdown",
      "metadata": {
        "id": "ru1bbhO3pnLI"
      },
      "source": [
        "#### Explicitly using the query for the purpose of answering a question"
      ]
    },
    {
      "cell_type": "markdown",
      "metadata": {
        "id": "WAei9JkspnLI"
      },
      "source": [
        "Now we are ready to implement the internet search functionality together with the LLM for answering our queries."
      ]
    },
    {
      "cell_type": "code",
      "execution_count": null,
      "metadata": {
        "colab": {
          "base_uri": "https://localhost:8080/",
          "height": 17
        },
        "id": "r92DXTd1pnLI",
        "outputId": "e94689b3-e325-4cab-ad3d-ddfc6cce370d"
      },
      "outputs": [
        {
          "output_type": "display_data",
          "data": {
            "text/plain": [
              "<IPython.core.display.HTML object>"
            ],
            "text/html": [
              "\n",
              "  <style>\n",
              "    pre {\n",
              "        white-space: pre-wrap;\n",
              "    }\n",
              "  </style>\n",
              "  "
            ]
          },
          "metadata": {}
        }
      ],
      "source": [
        "# Step 1:\n",
        "# Setting up the Model\n",
        "# We're preparing to use a specific AI model by setting some initial parameters.\n",
        "# One of these parameters is 'temperature', which affects how creative or strict the model's responses will be.\n",
        "# A lower temperature like 0.0 makes the model more focused and less random in its responses.\n",
        "temperature=0.0\n",
        "\n",
        "\n",
        "# Now we create an instance of the ChatOpenAI model, which we'll use to generate responses.\n",
        "# We're specifying which model to use ('gpt-3.5-turbo') and providing our OpenAI API key to authorize access.\n",
        "chat_model = ChatOpenAI(\n",
        "    openai_api_key=os.environ['OPENAI_API_KEY'],\n",
        "    model=\"gpt-3.5-turbo\",\n",
        "    temperature=temperature\n",
        ")\n",
        "\n",
        "\n",
        "# Step 2:\n",
        "# Defining a Prompt Function to Use the Model\n",
        "# We define a function for more easily calling the LLM using the same prompt template but with a different query\n",
        "# The function uses DuckDuckGo to retrieve context based on the query and then use that to get a response from the LLM\n",
        "def LLM_with_search_prompt(query: str, max_results: int=10, temperature: float=0.0):\n",
        "\n",
        "    # Retrieve serch results based the query\n",
        "    context = get_search_results_ddg(query, max_results=max_results)\n",
        "\n",
        "    # System prompt\n",
        "    system_prompt = f\"\"\"\n",
        "    Ignore all previous instructions. You are a helpful investment management expert.\n",
        "    You are logical, methodical and always find the best and most relevant answer to a query.\n",
        "    Break down the problem, objects, numbers and logic before starting to answer the query.\n",
        "    Then proceed to answer in a step-by-step manner.\n",
        "    \"\"\"\n",
        "\n",
        "    # This prompt inputs the query and context\n",
        "    user_prompt = f\"\"\"\n",
        "    One of our portfolio companies have handed us these news reports as context.\n",
        "    context: {context}\n",
        "\n",
        "    Use only the above context and nothing else to answer the following query and summarize your response.\n",
        "    query: {query}\n",
        "    If the answer is provided in the form of a bulleted list within the context,\n",
        "    then return those bullets verbatim and do not try to rephrase them.\n",
        "    \"\"\"\n",
        "\n",
        "    messages = [\n",
        "        SystemMessage(content=system_prompt),\n",
        "        HumanMessage(content=user_prompt),\n",
        "    ]\n",
        "\n",
        "    response = chat_model.invoke(messages, temperature=temperature)\n",
        "    print(response.content)"
      ]
    },
    {
      "cell_type": "markdown",
      "metadata": {
        "id": "cNFYVFEppnLI"
      },
      "source": [
        "Running the above function will print out the response. Note that running the below cell may result in different outputs despite setting the temperature parameter to 0. This is because the retrieved answers from the DuckDuckGo search are not always the same, which means that the LLM may consider different contexts when trying to answer your query."
      ]
    },
    {
      "cell_type": "code",
      "execution_count": null,
      "metadata": {
        "colab": {
          "base_uri": "https://localhost:8080/",
          "height": 53
        },
        "id": "eZVezWeVpnLI",
        "outputId": "0c732c2f-0fd8-4cd3-ef00-6ba3cd9ee0de"
      },
      "outputs": [
        {
          "output_type": "display_data",
          "data": {
            "text/plain": [
              "<IPython.core.display.HTML object>"
            ],
            "text/html": [
              "\n",
              "  <style>\n",
              "    pre {\n",
              "        white-space: pre-wrap;\n",
              "    }\n",
              "  </style>\n",
              "  "
            ]
          },
          "metadata": {}
        },
        {
          "output_type": "stream",
          "name": "stdout",
          "text": [
            "- CEO Johan Forssell will leave Investor in May 2024 in a new role with a focus on Oct. 20.\n",
            "- AQ Johan Forssell to Leave from Investor AB as President and Director, Effective 7 May 2024.\n"
          ]
        }
      ],
      "source": [
        "# Let's pose a query for which we wish to retrieve information from internet and get an LLM response based on that information\n",
        "query = \"What's the latest business news about Investor AB and its board?\"\n",
        "\n",
        "# Here we use our prompt function to call the LLM\n",
        "LLM_with_search_prompt(query=query, temperature=temperature)"
      ]
    },
    {
      "cell_type": "markdown",
      "metadata": {
        "id": "BSb0VJZYpnLJ"
      },
      "source": [
        "**Try it out yourself:**\n",
        "\n",
        "Try it out by searching with your own query. The context will be automatically included via the prompt function defined above."
      ]
    },
    {
      "cell_type": "code",
      "execution_count": null,
      "metadata": {
        "colab": {
          "base_uri": "https://localhost:8080/",
          "height": 124
        },
        "id": "L0SJE8t6pnLJ",
        "outputId": "7d72e3fa-7454-47c0-ae3b-fd681546ef27"
      },
      "outputs": [
        {
          "output_type": "display_data",
          "data": {
            "text/plain": [
              "<IPython.core.display.HTML object>"
            ],
            "text/html": [
              "\n",
              "  <style>\n",
              "    pre {\n",
              "        white-space: pre-wrap;\n",
              "    }\n",
              "  </style>\n",
              "  "
            ]
          },
          "metadata": {}
        },
        {
          "output_type": "stream",
          "name": "stdout",
          "text": [
            "- Rubberducking is a debugging technique commonly used in programming and software development.\n",
            "- It involves explaining your code and the problem you are trying to solve to a rubber duck.\n",
            "- Many programmers keep a rubber duck on their desk for this purpose.\n",
            "- The process starts by getting your rubber duck and explaining your goal or what you are trying to achieve with your code.\n",
            "- Rubberducking helps to verbalize thoughts and can serve as a sounding board for creative ideas.\n",
            "- It is a problem-solving technique that helps bridge the gap between creativity and technology.\n"
          ]
        }
      ],
      "source": [
        "# Write your own query and retrieve search results from that as context for the LLM\n",
        "query = \"What is rubberducking?\"\n",
        "\n",
        "LLM_with_search_prompt(query=query, temperature=temperature)"
      ]
    },
    {
      "cell_type": "code",
      "source": [],
      "metadata": {
        "id": "2K_6YNLmCcR8"
      },
      "execution_count": null,
      "outputs": []
    },
    {
      "cell_type": "code",
      "source": [],
      "metadata": {
        "id": "z7Srr3KvUnG1"
      },
      "execution_count": null,
      "outputs": []
    },
    {
      "cell_type": "code",
      "source": [],
      "metadata": {
        "id": "lOEJye0fUnJU"
      },
      "execution_count": null,
      "outputs": []
    },
    {
      "cell_type": "markdown",
      "source": [
        "# Hands-On 2: Introduction to Embeddings & Vector index storage"
      ],
      "metadata": {
        "id": "Pbd3QTcvtAtT"
      }
    },
    {
      "cell_type": "markdown",
      "source": [
        "Some text here for introducing embeddings and vector stores ..."
      ],
      "metadata": {
        "id": "2C-vlqsEmCkS"
      }
    },
    {
      "cell_type": "markdown",
      "source": [
        "## Getting arXiv data & illustrating basic embedding concepts"
      ],
      "metadata": {
        "id": "tYFAQzJ-l5w6"
      }
    },
    {
      "cell_type": "markdown",
      "source": [
        "We will start by collecting scientific abstracts from [arXiv](https://arxiv.org). We collevct these by fetching from their new releases section, which provides the daily deluge of preprint articles in various STEM subjects."
      ],
      "metadata": {
        "id": "m1CfwSPll5kE"
      }
    },
    {
      "cell_type": "code",
      "source": [
        "def fetch_arxiv_data(url, subject):\n",
        "    \"\"\"\n",
        "    Function for fetching articles from the arXiv. Expects a url pointing to the daily relese site of arXiv topics.\n",
        "    Returns a list of dictionaries containing 'title', 'abstract' and 'arxiv_topic'.\n",
        "    \"\"\"\n",
        "    response = requests.get(url)\n",
        "    if response.status_code != 200:\n",
        "        print('Failed to retrieve data from', url)\n",
        "        return []\n",
        "\n",
        "    soup = BeautifulSoup(response.content, 'html.parser')\n",
        "    papers = []\n",
        "\n",
        "    cnt_found=0\n",
        "    cnt_not_found=0\n",
        "    for item in soup.find_all('div', class_='meta'):\n",
        "      # We only extract info from articles with abstract in th elisting. This includes cross-topic listings\n",
        "      try:\n",
        "        title = item.find('div', class_='list-title mathjax').text.replace('Title:', '').strip()\n",
        "        abstract = item.find('p', class_='mathjax').text.strip()\n",
        "        arxiv_topic = item.find('span', class_='primary-subject').text.strip()\n",
        "        papers.append({'title': title, 'abstract': abstract, 'arxiv_topic': arxiv_topic, 'subject': subject})\n",
        "        cnt_found+=1\n",
        "      # We do not try to get abstract from replacements\n",
        "      except:\n",
        "        #print(f\"NO ABSTRACT FOUND, DUE TO ARTICLE BEING A REPLACEMENT OF EARLIER SUBMISSION\")\n",
        "        cnt_not_found+=1\n",
        "\n",
        "    print(f\"Extracted abstract for {cnt_found} new articles from {arxiv_topic}.\\nThis excludes {cnt_not_found} replacements.\")\n",
        "\n",
        "    return papers"
      ],
      "metadata": {
        "colab": {
          "base_uri": "https://localhost:8080/",
          "height": 17
        },
        "id": "tTzRjjaoUn56",
        "outputId": "f8437cfc-5e03-486c-a82e-411c393cfd6d"
      },
      "execution_count": null,
      "outputs": [
        {
          "output_type": "display_data",
          "data": {
            "text/plain": [
              "<IPython.core.display.HTML object>"
            ],
            "text/html": [
              "\n",
              "  <style>\n",
              "    pre {\n",
              "        white-space: pre-wrap;\n",
              "    }\n",
              "  </style>\n",
              "  "
            ]
          },
          "metadata": {}
        }
      ]
    },
    {
      "cell_type": "markdown",
      "source": [
        "Below we try out the function to see the output from a single article."
      ],
      "metadata": {
        "id": "RWZ9zwyzEs-V"
      }
    },
    {
      "cell_type": "code",
      "source": [
        "# Example usage\n",
        "url = 'https://arxiv.org/list/gr-qc/new'  # URL for the General Relativity and Quantum Cosmology section\n",
        "papers = fetch_arxiv_data(url, subject=\"gr-qc\")\n",
        "\n",
        "# Print the first few papers\n",
        "for paper in papers[:1]:\n",
        "    print(\"\")\n",
        "    print(Style.BRIGHT + 'Title:' + Style.RESET_ALL, paper['title'])\n",
        "    print(Style.BRIGHT + 'Abstract:' + Style.RESET_ALL, paper['abstract'])\n",
        "    print(Style.BRIGHT + 'arXiv Topic:' + Style.RESET_ALL, paper['arxiv_topic'])\n",
        "    print(Style.BRIGHT + 'arXiv Subject:' + Style.RESET_ALL, paper['subject'])\n",
        "    print('---')"
      ],
      "metadata": {
        "colab": {
          "base_uri": "https://localhost:8080/",
          "height": 356
        },
        "id": "WIkFtDrbUnLx",
        "outputId": "b02ebd87-bac8-4e0f-a1f8-fbdd45f05410"
      },
      "execution_count": null,
      "outputs": [
        {
          "output_type": "display_data",
          "data": {
            "text/plain": [
              "<IPython.core.display.HTML object>"
            ],
            "text/html": [
              "\n",
              "  <style>\n",
              "    pre {\n",
              "        white-space: pre-wrap;\n",
              "    }\n",
              "  </style>\n",
              "  "
            ]
          },
          "metadata": {}
        },
        {
          "output_type": "stream",
          "name": "stdout",
          "text": [
            "Extracted abstract for 30 new articles from Cosmology and Nongalactic Astrophysics (astro-ph.CO).\n",
            "This excludes 18 replacements.\n",
            "\n",
            "\u001b[1mTitle:\u001b[0m Wide Binaries and Modified Gravity (MOG)\n",
            "\u001b[1mAbstract:\u001b[0m Wide binary stars are used to test the modified gravity called\n",
            "Scalar-Tensor-Vector Gravity or MOG. This theory is based on the additional\n",
            "gravitational degrees of freedom, the scalar field $G=G_N(1+\\alpha)$, where\n",
            "$G_N$ is Newton's constant, and the massive (spin-1 graviton) vector field\n",
            "$\\phi_\\mu$. The wide binaries have separations of 2-30 kAU. The MOG\n",
            "acceleration law, derived from the MOG field equations and equations of motion\n",
            "of a massive test particle for weak gravitational fields, depends on the\n",
            "enhanced gravitational constant $G=G_N(1+\\alpha)$ and the effective running\n",
            "mass $\\mu$. The magnitude of $\\alpha$ depends on the physical length scale or\n",
            "averaging scale $\\ell$ of the system. The modified MOG acceleration law for\n",
            "weak gravitational fields predicts that for the solar system and for the wide\n",
            "binary star systems gravitational dynamics follows Newton's law.\n",
            "\u001b[1marXiv Topic:\u001b[0m General Relativity and Quantum Cosmology (gr-qc)\n",
            "\u001b[1marXiv Subject:\u001b[0m gr-qc\n",
            "---\n"
          ]
        }
      ]
    },
    {
      "cell_type": "code",
      "source": [
        "# Let's do it for all arXiv subjects\n",
        "subjects = [\n",
        "    \"astro-ph\",\n",
        "    \"cond-mat\",\n",
        "    \"gr-qc\",\n",
        "    \"hep-ex\",\n",
        "    \"hep-lat\",\n",
        "    \"hep-ph\",\n",
        "    \"hep-th\",\n",
        "    \"math-ph\",\n",
        "    \"nlin\",\n",
        "    \"nucl-ex\",\n",
        "    \"nucl-th\",\n",
        "    \"quant-ph\",\n",
        "    \"math\",\n",
        "    \"cs\",\n",
        "    \"stat\",\n",
        "    \"eess\",\n",
        "    ]\n",
        "\n",
        "\n",
        "# We collect everything in a list of dictionaries\n",
        "papers_list = []\n",
        "for subject in subjects:\n",
        "  papers_subject = fetch_arxiv_data(f\"https://arxiv.org/list/{subject}/new\", subject=subject)\n",
        "  for paper in papers_subject:\n",
        "    papers_list.append(paper)\n",
        "\n",
        "print(\"\")\n",
        "print(f\"We extracted a total of {len(papers_list)} abstracts\")"
      ],
      "metadata": {
        "colab": {
          "base_uri": "https://localhost:8080/",
          "height": 624
        },
        "id": "nxrkRBb2UnOI",
        "outputId": "3a73def3-9454-4d45-add7-cf77040b4ca2"
      },
      "execution_count": null,
      "outputs": [
        {
          "output_type": "display_data",
          "data": {
            "text/plain": [
              "<IPython.core.display.HTML object>"
            ],
            "text/html": [
              "\n",
              "  <style>\n",
              "    pre {\n",
              "        white-space: pre-wrap;\n",
              "    }\n",
              "  </style>\n",
              "  "
            ]
          },
          "metadata": {}
        },
        {
          "output_type": "stream",
          "name": "stdout",
          "text": [
            "Extracted abstract for 89 new articles from General Relativity and Quantum Cosmology (gr-qc).\n",
            "This excludes 31 replacements.\n",
            "Extracted abstract for 84 new articles from Optics (physics.optics).\n",
            "This excludes 46 replacements.\n",
            "Extracted abstract for 30 new articles from Cosmology and Nongalactic Astrophysics (astro-ph.CO).\n",
            "This excludes 18 replacements.\n",
            "Extracted abstract for 18 new articles from High Energy Physics - Phenomenology (hep-ph).\n",
            "This excludes 8 replacements.\n",
            "Extracted abstract for 7 new articles from Quantum Physics (quant-ph).\n",
            "This excludes 3 replacements.\n",
            "Extracted abstract for 44 new articles from Cosmology and Nongalactic Astrophysics (astro-ph.CO).\n",
            "This excludes 33 replacements.\n",
            "Extracted abstract for 33 new articles from General Relativity and Quantum Cosmology (gr-qc).\n",
            "This excludes 25 replacements.\n",
            "Extracted abstract for 21 new articles from Analysis of PDEs (math.AP).\n",
            "This excludes 18 replacements.\n",
            "Extracted abstract for 10 new articles from Physics and Society (physics.soc-ph).\n",
            "This excludes 6 replacements.\n",
            "Extracted abstract for 14 new articles from High Energy Physics - Experiment (hep-ex).\n",
            "This excludes 4 replacements.\n",
            "Extracted abstract for 8 new articles from High Energy Physics - Phenomenology (hep-ph).\n",
            "This excludes 7 replacements.\n",
            "Extracted abstract for 52 new articles from Strongly Correlated Electrons (cond-mat.str-el).\n",
            "This excludes 44 replacements.\n",
            "Extracted abstract for 185 new articles from Physics and Society (physics.soc-ph).\n",
            "This excludes 130 replacements.\n",
            "Extracted abstract for 397 new articles from Mesoscale and Nanoscale Physics (cond-mat.mes-hall).\n",
            "This excludes 220 replacements.\n",
            "Extracted abstract for 50 new articles from Machine Learning (cs.LG).\n",
            "This excludes 31 replacements.\n",
            "Extracted abstract for 43 new articles from Machine Learning (cs.LG).\n",
            "This excludes 36 replacements.\n",
            "\n",
            "We extracted a total of 1085 abstracts\n"
          ]
        }
      ]
    },
    {
      "cell_type": "code",
      "source": [
        "# Print the first few papers\n",
        "for paper in papers_list[:1]:\n",
        "    print(Style.BRIGHT + 'Title:' + Style.RESET_ALL, paper['title'])\n",
        "    print(Style.BRIGHT + 'Abstract:' + Style.RESET_ALL, paper['abstract'])\n",
        "    print(Style.BRIGHT + 'arXiv Topic:' + Style.RESET_ALL, paper['arxiv_topic'])\n",
        "    print(Style.BRIGHT + 'arXiv Subject:' + Style.RESET_ALL, paper['subject'])\n",
        "    print('---')"
      ],
      "metadata": {
        "colab": {
          "base_uri": "https://localhost:8080/",
          "height": 446
        },
        "id": "F9hgqNxqlUfb",
        "outputId": "689b1e33-490c-459f-8eda-522f9b48216a"
      },
      "execution_count": null,
      "outputs": [
        {
          "output_type": "display_data",
          "data": {
            "text/plain": [
              "<IPython.core.display.HTML object>"
            ],
            "text/html": [
              "\n",
              "  <style>\n",
              "    pre {\n",
              "        white-space: pre-wrap;\n",
              "    }\n",
              "  </style>\n",
              "  "
            ]
          },
          "metadata": {}
        },
        {
          "output_type": "stream",
          "name": "stdout",
          "text": [
            "\u001b[1mTitle:\u001b[0m Globular Clusters Contribute to the Nuclear Star Cluster and Galaxy  Center Gamma-Ray Excess, Moderated by Galaxy Assembly History\n",
            "\u001b[1mAbstract:\u001b[0m Two unresolved questions at galaxy centers, namely the formation of the\n",
            "nuclear star cluster (NSC) and the origin of the gamma-ray excess in the Milky\n",
            "Way (MW) and Andromeda (M31), are both related to the formation and evolution\n",
            "of globular clusters (GCs). They migrate towards the galaxy center due to\n",
            "dynamical friction, and get tidally disrupted to release the stellar mass\n",
            "content including millisecond pulsars (MSPs), which contribute to the NSC and\n",
            "gamma-ray excess. In this study, we propose a semi-analytical model of GC\n",
            "formation and evolution that utilizes the Illustris cosmological simulation to\n",
            "accurately capture the formation epochs of GCs and simulate their subsequent\n",
            "evolution. Our analysis confirms that our GC properties at z=0 are consistent\n",
            "with observations, and our model naturally explains the formation of a massive\n",
            "NSC in a galaxy similar to the MW and M31. We also find a remarkable similarity\n",
            "in our model prediction with the gamma-ray excess signal in the MW. However,\n",
            "our predictions fall short by approximately an order of magnitude in M31,\n",
            "indicating distinct origins for the two gamma-ray excesses. Meanwhile, we\n",
            "utilize the catalog of Illustris halos to investigate the influence of galaxy\n",
            "assembly history. We find that the earlier a galaxy is assembled, the heavier\n",
            "and spatially more concentrated its GC system behaves at z=0. This results in a\n",
            "larger NSC mass and brighter gamma-ray emission from deposited MSPs\n",
            "\u001b[1marXiv Topic:\u001b[0m Astrophysics of Galaxies (astro-ph.GA)\n",
            "\u001b[1marXiv Subject:\u001b[0m astro-ph\n",
            "---\n"
          ]
        }
      ]
    },
    {
      "cell_type": "markdown",
      "source": [
        "### Checking lengths of retrieved abstracts"
      ],
      "metadata": {
        "id": "jHFv3J7euWBk"
      }
    },
    {
      "cell_type": "code",
      "source": [
        "abstract_lengths = []\n",
        "for paper in papers_list:\n",
        "  abstract_lengths.append(len(paper[\"abstract\"]))\n",
        "\n",
        "abstract_lengths.sort(reverse=True)\n",
        "print(\"We print out the lengths of the 10 longest abstracts\")\n",
        "abstract_lengths[:10]"
      ],
      "metadata": {
        "colab": {
          "base_uri": "https://localhost:8080/",
          "height": 53
        },
        "id": "LbXP7E5zfiLV",
        "outputId": "169d8952-de3d-4c94-e02e-4c76e0c31658"
      },
      "execution_count": null,
      "outputs": [
        {
          "output_type": "display_data",
          "data": {
            "text/plain": [
              "<IPython.core.display.HTML object>"
            ],
            "text/html": [
              "\n",
              "  <style>\n",
              "    pre {\n",
              "        white-space: pre-wrap;\n",
              "    }\n",
              "  </style>\n",
              "  "
            ]
          },
          "metadata": {}
        },
        {
          "output_type": "stream",
          "name": "stdout",
          "text": [
            "We print out the lengths of the 10 longest abstracts\n"
          ]
        },
        {
          "output_type": "execute_result",
          "data": {
            "text/plain": [
              "[1919, 1919, 1918, 1917, 1916, 1915, 1915, 1914, 1911, 1911]"
            ]
          },
          "metadata": {},
          "execution_count": 55
        }
      ]
    },
    {
      "cell_type": "markdown",
      "source": [
        "### Embedding models"
      ],
      "metadata": {
        "id": "LJclcVHPA-bp"
      }
    },
    {
      "cell_type": "code",
      "source": [
        "# For embeddings we use models on the MTEB leaderboard at https://huggingface.co/spaces/mteb/leaderboard\n",
        "\n",
        "\n",
        "# Voyage, currently nr 1 (REQUIRES REGISTERING TO GET API KEY)\n",
        "!pip install -q voyageai\n",
        "import voyageai\n",
        "from langchain.embeddings import VoyageEmbeddings\n",
        "os.environ[\"VOYAGE_API_KEY\"] = \"...\"\n",
        "voyageai.api_key = os.environ[\"VOYAGE_API_KEY\"]\n",
        "\n",
        "\n",
        "# Cohere, currently nr 2 (REQUIRES REGISTERING TO GET API KEY)\n",
        "import cohere\n",
        "#Get your API key from www.cohere.com\n",
        "os.environ[\"COHERE_API_KEY\"] = \"...\"\n",
        "\n",
        "\n",
        "# Open source HuggingFace embeddings, below is currently nr 3 (NO REGISTRATION REQUIRED)\n",
        "embedding_models_HF = [\"BAAI/bge-large-en-v1.5\"]"
      ],
      "metadata": {
        "colab": {
          "base_uri": "https://localhost:8080/",
          "height": 17
        },
        "id": "J9X8hL-TA9An",
        "outputId": "389f7429-f1e2-4907-a334-08343ef9f531"
      },
      "execution_count": null,
      "outputs": [
        {
          "output_type": "display_data",
          "data": {
            "text/plain": [
              "<IPython.core.display.HTML object>"
            ],
            "text/html": [
              "\n",
              "  <style>\n",
              "    pre {\n",
              "        white-space: pre-wrap;\n",
              "    }\n",
              "  </style>\n",
              "  "
            ]
          },
          "metadata": {}
        }
      ]
    },
    {
      "cell_type": "code",
      "source": [
        "# Helper functions for embedding chunked text using various embedding models,\n",
        "# and performing similarity search using a vector database store\n",
        "#-------------------------------------------------------------------------------\n",
        "def doc_embedding(\n",
        "    embedding_model: str,\n",
        "    model_kwargs: dict={'device': 'cpu'},\n",
        "    encode_kwargs: dict={'normalize_embeddings': True},\n",
        "    cache_folder: Optional[str]=None,\n",
        "    multi_process: bool=False,\n",
        "    ) -> HuggingFaceEmbeddings:\n",
        "  \"\"\"\n",
        "  TBW...\n",
        "  \"\"\"\n",
        "  embedder = HuggingFaceEmbeddings(\n",
        "      model_name = embedding_model,\n",
        "      model_kwargs = model_kwargs,\n",
        "      encode_kwargs = encode_kwargs,\n",
        "      cache_folder = cache_folder,\n",
        "      multi_process = multi_process\n",
        "  )\n",
        "  return embedder\n",
        "\n",
        "\n",
        "\n",
        "def get_API_embedding(text, model=\"text-embedding-ada-002\"):\n",
        "  text = text.replace(\"\\n\", \" \")\n",
        "\n",
        "  # OpenAI embeddings\n",
        "  if model == \"text-embedding-ada-002\":\n",
        "    client = OpenAI()\n",
        "    embedding = client.embeddings.create(input = [text], model=model).data[0].embedding\n",
        "\n",
        "  # Voyage embeddings\n",
        "  elif model == 'voyage-01':\n",
        "    voyage = VoyageEmbeddings(model=model, voyage_api_key=os.environ[\"VOYAGE_API_KEY\"])\n",
        "    embedding = voyage.embed_query(text)\n",
        "\n",
        "  # Cohere embeddings\n",
        "  elif model == \"embed-english-v3.0\":\n",
        "    co = cohere.Client(os.environ[\"COHERE_API_KEY\"])\n",
        "    embedding = co.embed([text], input_type=\"search_document\", model=model).embeddings\n",
        "\n",
        "  else:\n",
        "    embedding = [None]\n",
        "\n",
        "  return embedding"
      ],
      "metadata": {
        "colab": {
          "base_uri": "https://localhost:8080/",
          "height": 17
        },
        "id": "4gjqjkPFlUaW",
        "outputId": "48a8afa2-727f-4716-82ee-01f7fb4847d3"
      },
      "execution_count": null,
      "outputs": [
        {
          "output_type": "display_data",
          "data": {
            "text/plain": [
              "<IPython.core.display.HTML object>"
            ],
            "text/html": [
              "\n",
              "  <style>\n",
              "    pre {\n",
              "        white-space: pre-wrap;\n",
              "    }\n",
              "  </style>\n",
              "  "
            ]
          },
          "metadata": {}
        }
      ]
    },
    {
      "cell_type": "markdown",
      "source": [
        "We will collect our abstracts into a list of Langchain Document objects. This is not necessary for doing embeddings, but will facilitate working with vector stores later on. The Document object class has the methods `page_content`, which stores the text string, and `metadata`, where additional metadata can be stored as a dictionary with key-value pairs."
      ],
      "metadata": {
        "id": "ayOW8GxloKDV"
      }
    },
    {
      "cell_type": "code",
      "source": [
        "documents =  []\n",
        "\n",
        "for paper in papers_list:\n",
        "  doc  = Document(\n",
        "      page_content = paper[\"abstract\"],\n",
        "      metadata = {\"title\": paper[\"title\"], \"arxiv_topic\": paper[\"arxiv_topic\"], \"subject\": paper[\"subject\"]}\n",
        "  )\n",
        "  documents.append(doc)\n",
        "documents[0]"
      ],
      "metadata": {
        "colab": {
          "base_uri": "https://localhost:8080/",
          "height": 267
        },
        "id": "ehwJgI1yoJVP",
        "outputId": "ffff987e-3f16-4d38-99f4-648d7540c5a9"
      },
      "execution_count": null,
      "outputs": [
        {
          "output_type": "display_data",
          "data": {
            "text/plain": [
              "<IPython.core.display.HTML object>"
            ],
            "text/html": [
              "\n",
              "  <style>\n",
              "    pre {\n",
              "        white-space: pre-wrap;\n",
              "    }\n",
              "  </style>\n",
              "  "
            ]
          },
          "metadata": {}
        },
        {
          "output_type": "execute_result",
          "data": {
            "text/plain": [
              "Document(page_content='Two unresolved questions at galaxy centers, namely the formation of the\\nnuclear star cluster (NSC) and the origin of the gamma-ray excess in the Milky\\nWay (MW) and Andromeda (M31), are both related to the formation and evolution\\nof globular clusters (GCs). They migrate towards the galaxy center due to\\ndynamical friction, and get tidally disrupted to release the stellar mass\\ncontent including millisecond pulsars (MSPs), which contribute to the NSC and\\ngamma-ray excess. In this study, we propose a semi-analytical model of GC\\nformation and evolution that utilizes the Illustris cosmological simulation to\\naccurately capture the formation epochs of GCs and simulate their subsequent\\nevolution. Our analysis confirms that our GC properties at z=0 are consistent\\nwith observations, and our model naturally explains the formation of a massive\\nNSC in a galaxy similar to the MW and M31. We also find a remarkable similarity\\nin our model prediction with the gamma-ray excess signal in the MW. However,\\nour predictions fall short by approximately an order of magnitude in M31,\\nindicating distinct origins for the two gamma-ray excesses. Meanwhile, we\\nutilize the catalog of Illustris halos to investigate the influence of galaxy\\nassembly history. We find that the earlier a galaxy is assembled, the heavier\\nand spatially more concentrated its GC system behaves at z=0. This results in a\\nlarger NSC mass and brighter gamma-ray emission from deposited MSPs', metadata={'title': 'Globular Clusters Contribute to the Nuclear Star Cluster and Galaxy  Center Gamma-Ray Excess, Moderated by Galaxy Assembly History', 'arxiv_topic': 'Astrophysics of Galaxies (astro-ph.GA)', 'subject': 'astro-ph'})"
            ]
          },
          "metadata": {},
          "execution_count": 58
        }
      ]
    },
    {
      "cell_type": "markdown",
      "source": [
        "Let's demonstrate how an embedding works by using OpenAI embeddings for a single abstract. First let's see what the abstract looks like in plain text."
      ],
      "metadata": {
        "id": "6oisJAgFKR3W"
      }
    },
    {
      "cell_type": "code",
      "source": [
        "test_text = documents[0].page_content\n",
        "print(test_text)"
      ],
      "metadata": {
        "colab": {
          "base_uri": "https://localhost:8080/",
          "height": 356
        },
        "id": "ZupVUDo1ufPU",
        "outputId": "c67b640c-5484-4f81-e1d2-82393c18604e"
      },
      "execution_count": null,
      "outputs": [
        {
          "output_type": "display_data",
          "data": {
            "text/plain": [
              "<IPython.core.display.HTML object>"
            ],
            "text/html": [
              "\n",
              "  <style>\n",
              "    pre {\n",
              "        white-space: pre-wrap;\n",
              "    }\n",
              "  </style>\n",
              "  "
            ]
          },
          "metadata": {}
        },
        {
          "output_type": "stream",
          "name": "stdout",
          "text": [
            "Two unresolved questions at galaxy centers, namely the formation of the\n",
            "nuclear star cluster (NSC) and the origin of the gamma-ray excess in the Milky\n",
            "Way (MW) and Andromeda (M31), are both related to the formation and evolution\n",
            "of globular clusters (GCs). They migrate towards the galaxy center due to\n",
            "dynamical friction, and get tidally disrupted to release the stellar mass\n",
            "content including millisecond pulsars (MSPs), which contribute to the NSC and\n",
            "gamma-ray excess. In this study, we propose a semi-analytical model of GC\n",
            "formation and evolution that utilizes the Illustris cosmological simulation to\n",
            "accurately capture the formation epochs of GCs and simulate their subsequent\n",
            "evolution. Our analysis confirms that our GC properties at z=0 are consistent\n",
            "with observations, and our model naturally explains the formation of a massive\n",
            "NSC in a galaxy similar to the MW and M31. We also find a remarkable similarity\n",
            "in our model prediction with the gamma-ray excess signal in the MW. However,\n",
            "our predictions fall short by approximately an order of magnitude in M31,\n",
            "indicating distinct origins for the two gamma-ray excesses. Meanwhile, we\n",
            "utilize the catalog of Illustris halos to investigate the influence of galaxy\n",
            "assembly history. We find that the earlier a galaxy is assembled, the heavier\n",
            "and spatially more concentrated its GC system behaves at z=0. This results in a\n",
            "larger NSC mass and brighter gamma-ray emission from deposited MSPs\n"
          ]
        }
      ]
    },
    {
      "cell_type": "markdown",
      "source": [
        "Now we call the OpenAI embedding API and check the first 10 entries of the resulting embedding vector."
      ],
      "metadata": {
        "id": "idqcaTndr6Ur"
      }
    },
    {
      "cell_type": "code",
      "source": [
        "embedding = get_API_embedding(test_text, model=\"text-embedding-ada-002\")\n",
        "embedding[:10]"
      ],
      "metadata": {
        "colab": {
          "base_uri": "https://localhost:8080/",
          "height": 196
        },
        "id": "ZjlOs1EqufM-",
        "outputId": "fa0f3130-2a89-40ec-d6f9-3c6f8c2e6cf3"
      },
      "execution_count": null,
      "outputs": [
        {
          "output_type": "display_data",
          "data": {
            "text/plain": [
              "<IPython.core.display.HTML object>"
            ],
            "text/html": [
              "\n",
              "  <style>\n",
              "    pre {\n",
              "        white-space: pre-wrap;\n",
              "    }\n",
              "  </style>\n",
              "  "
            ]
          },
          "metadata": {}
        },
        {
          "output_type": "execute_result",
          "data": {
            "text/plain": [
              "[0.008714055642485619,\n",
              " -0.009360050782561302,\n",
              " 0.005590603221207857,\n",
              " -0.02864367887377739,\n",
              " -0.025743575766682625,\n",
              " 0.011614159680902958,\n",
              " -0.020658085122704506,\n",
              " -8.05345771368593e-05,\n",
              " -0.0023022152017802,\n",
              " -0.029220951721072197]"
            ]
          },
          "metadata": {},
          "execution_count": 60
        }
      ]
    },
    {
      "cell_type": "markdown",
      "source": [
        "We can now loop through all abstracts, embed them and add the embeddings to an embedding list. Later we will see how we can do this using a vector store to manage the retrieved embeddings along with additional metadata.\n",
        "\n",
        "**NB: This takes a couple of minutes to complete for all abstracts**"
      ],
      "metadata": {
        "id": "obswLPAmW1la"
      }
    },
    {
      "cell_type": "code",
      "source": [
        "embeddings = []\n",
        "for document in documents:\n",
        "  embedding = get_API_embedding(document.page_content, model=\"text-embedding-ada-002\")\n",
        "  embeddings.append(embedding)\n"
      ],
      "metadata": {
        "colab": {
          "base_uri": "https://localhost:8080/",
          "height": 17
        },
        "id": "tmX1GT8ZKESE",
        "outputId": "ddccd05d-8f40-426c-9328-51cea05b6d01"
      },
      "execution_count": null,
      "outputs": [
        {
          "output_type": "display_data",
          "data": {
            "text/plain": [
              "<IPython.core.display.HTML object>"
            ],
            "text/html": [
              "\n",
              "  <style>\n",
              "    pre {\n",
              "        white-space: pre-wrap;\n",
              "    }\n",
              "  </style>\n",
              "  "
            ]
          },
          "metadata": {}
        }
      ]
    },
    {
      "cell_type": "markdown",
      "source": [
        "Let's check the first few entries of the embedding of one article"
      ],
      "metadata": {
        "id": "4OLFee7uXE8M"
      }
    },
    {
      "cell_type": "code",
      "source": [
        "embeddings[0][:10]"
      ],
      "metadata": {
        "colab": {
          "base_uri": "https://localhost:8080/",
          "height": 196
        },
        "id": "9WAkM4N4KEPh",
        "outputId": "623602b1-116f-42fa-ffd8-88c4e8757432"
      },
      "execution_count": null,
      "outputs": [
        {
          "output_type": "display_data",
          "data": {
            "text/plain": [
              "<IPython.core.display.HTML object>"
            ],
            "text/html": [
              "\n",
              "  <style>\n",
              "    pre {\n",
              "        white-space: pre-wrap;\n",
              "    }\n",
              "  </style>\n",
              "  "
            ]
          },
          "metadata": {}
        },
        {
          "output_type": "execute_result",
          "data": {
            "text/plain": [
              "[0.008714055642485619,\n",
              " -0.009360050782561302,\n",
              " 0.005590603221207857,\n",
              " -0.02864367887377739,\n",
              " -0.025743575766682625,\n",
              " 0.011614159680902958,\n",
              " -0.020658085122704506,\n",
              " -8.05345771368593e-05,\n",
              " -0.0023022152017802,\n",
              " -0.029220951721072197]"
            ]
          },
          "metadata": {},
          "execution_count": 62
        }
      ]
    },
    {
      "cell_type": "markdown",
      "source": [
        "### Projecting embeddings using UMAP"
      ],
      "metadata": {
        "id": "bVaUwuSoz0A1"
      }
    },
    {
      "cell_type": "markdown",
      "source": [
        "We will now use the [UMAP](https://umap-learn.readthedocs.io/en/latest/) library for performing projections of the embedding vectors down to 2D, preserving both local and global structure of the data."
      ],
      "metadata": {
        "id": "fYQwSdUpPetr"
      }
    },
    {
      "cell_type": "markdown",
      "source": [
        "Let's remind ourselves what the arXiv subjects are."
      ],
      "metadata": {
        "id": "_MMCem1JP8vW"
      }
    },
    {
      "cell_type": "code",
      "source": [
        "subjects"
      ],
      "metadata": {
        "colab": {
          "base_uri": "https://localhost:8080/",
          "height": 303
        },
        "id": "W6W8jdcJ25zM",
        "outputId": "47a63f02-a29b-4884-9447-b57bcd8decef"
      },
      "execution_count": null,
      "outputs": [
        {
          "output_type": "display_data",
          "data": {
            "text/plain": [
              "<IPython.core.display.HTML object>"
            ],
            "text/html": [
              "\n",
              "  <style>\n",
              "    pre {\n",
              "        white-space: pre-wrap;\n",
              "    }\n",
              "  </style>\n",
              "  "
            ]
          },
          "metadata": {}
        },
        {
          "output_type": "execute_result",
          "data": {
            "text/plain": [
              "['astro-ph',\n",
              " 'cond-mat',\n",
              " 'gr-qc',\n",
              " 'hep-ex',\n",
              " 'hep-lat',\n",
              " 'hep-ph',\n",
              " 'hep-th',\n",
              " 'math-ph',\n",
              " 'nlin',\n",
              " 'nucl-ex',\n",
              " 'nucl-th',\n",
              " 'quant-ph',\n",
              " 'math',\n",
              " 'cs',\n",
              " 'stat',\n",
              " 'eess']"
            ]
          },
          "metadata": {},
          "execution_count": 63
        }
      ]
    },
    {
      "cell_type": "markdown",
      "source": [
        "We prepare the data for input to the UMAP algorithm"
      ],
      "metadata": {
        "id": "kkIuD8cWQFtR"
      }
    },
    {
      "cell_type": "code",
      "source": [
        "colors = mcp.gen_color(cmap=\"Spectral\",n=len(subjects))\n",
        "color_dict_subjects =dict(zip(subjects, colors))\n",
        "\n",
        "\n",
        "embedding_data_array = np.array(embeddings)\n",
        "print(f\"We now have an array of embeddings with shape: {embedding_data_array.shape}\")"
      ],
      "metadata": {
        "colab": {
          "base_uri": "https://localhost:8080/",
          "height": 35
        },
        "id": "114Kfrmxz-iW",
        "outputId": "ddbf87b0-7d0d-48bc-d44e-74f9f2f23f32"
      },
      "execution_count": null,
      "outputs": [
        {
          "output_type": "display_data",
          "data": {
            "text/plain": [
              "<IPython.core.display.HTML object>"
            ],
            "text/html": [
              "\n",
              "  <style>\n",
              "    pre {\n",
              "        white-space: pre-wrap;\n",
              "    }\n",
              "  </style>\n",
              "  "
            ]
          },
          "metadata": {}
        },
        {
          "output_type": "stream",
          "name": "stdout",
          "text": [
            "We now have an array of embeddings with shape: (1085, 1536)\n"
          ]
        }
      ]
    },
    {
      "cell_type": "code",
      "source": [
        "# We do the projection for several values of the n_neighbours hyperparameter\n",
        "# This is the most important hyperparameter of the UMAP algorithm\n",
        "n_neighbors = [2, 5, 15, 25, 50, 100] # 15 is default\n",
        "\n",
        "umap_results = []\n",
        "for n in n_neighbors:\n",
        "    reducer = umap.UMAP(random_state=42,\n",
        "                        n_components=2,\n",
        "                        learning_rate=1.0,\n",
        "                        min_dist=0.1,\n",
        "                        n_neighbors=n,\n",
        "                        metric='euclidean',\n",
        "                        output_metric='euclidean',\n",
        "                        target_metric='categorical',\n",
        "                        target_n_neighbors=-1,\n",
        "                        target_weight=0.5,)\n",
        "    umap_embedding = reducer.fit_transform(embeddings)\n",
        "    umap_results.append(umap_embedding)"
      ],
      "metadata": {
        "colab": {
          "base_uri": "https://localhost:8080/",
          "height": 338
        },
        "id": "F-3irvroz-fk",
        "outputId": "d3af1656-8e90-4bc6-fdbe-de5b3713c054"
      },
      "execution_count": null,
      "outputs": [
        {
          "output_type": "display_data",
          "data": {
            "text/plain": [
              "<IPython.core.display.HTML object>"
            ],
            "text/html": [
              "\n",
              "  <style>\n",
              "    pre {\n",
              "        white-space: pre-wrap;\n",
              "    }\n",
              "  </style>\n",
              "  "
            ]
          },
          "metadata": {}
        },
        {
          "output_type": "stream",
          "name": "stderr",
          "text": [
            "/usr/local/lib/python3.10/dist-packages/umap/umap_.py:1943: UserWarning: n_jobs value -1 overridden to 1 by setting random_state. Use no seed for parallelism.\n",
            "  warn(f\"n_jobs value {self.n_jobs} overridden to 1 by setting random_state. Use no seed for parallelism.\")\n",
            "/usr/local/lib/python3.10/dist-packages/umap/umap_.py:1943: UserWarning: n_jobs value -1 overridden to 1 by setting random_state. Use no seed for parallelism.\n",
            "  warn(f\"n_jobs value {self.n_jobs} overridden to 1 by setting random_state. Use no seed for parallelism.\")\n",
            "/usr/local/lib/python3.10/dist-packages/umap/umap_.py:1943: UserWarning: n_jobs value -1 overridden to 1 by setting random_state. Use no seed for parallelism.\n",
            "  warn(f\"n_jobs value {self.n_jobs} overridden to 1 by setting random_state. Use no seed for parallelism.\")\n",
            "/usr/local/lib/python3.10/dist-packages/umap/umap_.py:1943: UserWarning: n_jobs value -1 overridden to 1 by setting random_state. Use no seed for parallelism.\n",
            "  warn(f\"n_jobs value {self.n_jobs} overridden to 1 by setting random_state. Use no seed for parallelism.\")\n",
            "/usr/local/lib/python3.10/dist-packages/umap/umap_.py:1943: UserWarning: n_jobs value -1 overridden to 1 by setting random_state. Use no seed for parallelism.\n",
            "  warn(f\"n_jobs value {self.n_jobs} overridden to 1 by setting random_state. Use no seed for parallelism.\")\n",
            "/usr/local/lib/python3.10/dist-packages/umap/umap_.py:1943: UserWarning: n_jobs value -1 overridden to 1 by setting random_state. Use no seed for parallelism.\n",
            "  warn(f\"n_jobs value {self.n_jobs} overridden to 1 by setting random_state. Use no seed for parallelism.\")\n"
          ]
        }
      ]
    },
    {
      "cell_type": "markdown",
      "source": [
        "Let's first display the result using matplotlib"
      ],
      "metadata": {
        "id": "MR5dQTR-RPjJ"
      }
    },
    {
      "cell_type": "code",
      "source": [
        "# Let's choose one of the UMAP results to display\n",
        "nr_index = 5\n",
        "\n",
        "df_arxiv_umap = pd.DataFrame(np.array([umap_results[nr_index][:,0], umap_results[nr_index][:,1]]).T, columns=[\"umap-2d-one\", \"umap-2d-two\"])\n",
        "\n",
        "subjects_list = []\n",
        "for paper in papers_list:\n",
        "  subjects_list.append(paper[\"subject\"])\n",
        "df_arxiv_umap[\"y\"] = subjects_list\n",
        "\n",
        "plt.figure(figsize=(16,10))\n",
        "sns.scatterplot(\n",
        "    x=\"umap-2d-one\", y=\"umap-2d-two\",\n",
        "    hue=\"y\",\n",
        "    palette=color_dict_subjects,\n",
        "    data=df_arxiv_umap,\n",
        "    legend=\"full\",\n",
        "    alpha=0.5\n",
        ")\n",
        "plt.title(f\"UMAP projection of arXiv abstracts with n_neighbors={n_neighbors[nr_index]}\", fontsize=25)"
      ],
      "metadata": {
        "colab": {
          "base_uri": "https://localhost:8080/",
          "height": 769
        },
        "id": "x4WsJBk81CdF",
        "outputId": "10ff8f11-fec3-4087-ae04-810205a82adf"
      },
      "execution_count": null,
      "outputs": [
        {
          "output_type": "display_data",
          "data": {
            "text/plain": [
              "<IPython.core.display.HTML object>"
            ],
            "text/html": [
              "\n",
              "  <style>\n",
              "    pre {\n",
              "        white-space: pre-wrap;\n",
              "    }\n",
              "  </style>\n",
              "  "
            ]
          },
          "metadata": {}
        },
        {
          "output_type": "execute_result",
          "data": {
            "text/plain": [
              "Text(0.5, 1.0, 'UMAP projection of arXiv abstracts with n_neighbors=100')"
            ]
          },
          "metadata": {},
          "execution_count": 66
        },
        {
          "output_type": "display_data",
          "data": {
            "text/plain": [
              "<Figure size 1600x1000 with 1 Axes>"
            ],
            "image/png": "[encoded data removed]"
          },
          "metadata": {}
        }
      ]
    },
    {
      "cell_type": "markdown",
      "source": [
        "Let's make a more interactive plot using Plotly where we can hover over the points interactively and inspect the results in more detail."
      ],
      "metadata": {
        "id": "QDTL3tXSOgc-"
      }
    },
    {
      "cell_type": "code",
      "source": [
        "subjects_list = []\n",
        "for paper in papers_list:\n",
        "  subjects_list.append(paper[\"arxiv_topic\"])\n",
        "df_arxiv_umap[\"y_long\"] = subjects_list\n",
        "\n",
        "\n",
        "fig = px.scatter(df_arxiv_umap,\n",
        "                 x='umap-2d-one',\n",
        "                 y='umap-2d-two',\n",
        "                 color='y',\n",
        "                 color_discrete_map=color_dict_subjects, # Use your color dictionary\n",
        "                 hover_data=['y_long']) # This will show the category on hover\n",
        "\n",
        "fig.update_traces(marker=dict(size=5, opacity=0.5)) # Adjust size and opacity similar to your seaborn plot\n",
        "fig.update_layout(legend_title_text='arXiv subject') # Customize legend title\n",
        "fig.show()"
      ],
      "metadata": {
        "colab": {
          "base_uri": "https://localhost:8080/",
          "height": 542
        },
        "id": "wLTUN4eVMfAP",
        "outputId": "d7d9abd2-0288-4560-cd1e-b575861fff0a"
      },
      "execution_count": null,
      "outputs": [
        {
          "output_type": "display_data",
          "data": {
            "text/plain": [
              "<IPython.core.display.HTML object>"
            ],
            "text/html": [
              "\n",
              "  <style>\n",
              "    pre {\n",
              "        white-space: pre-wrap;\n",
              "    }\n",
              "  </style>\n",
              "  "
            ]
          },
          "metadata": {}
        },
        {
          "output_type": "display_data",
          "data": {
            "text/html": [
              "<html>\n",
              "<head><meta charset=\"utf-8\" /></head>\n",
              "<body>\n",
              "    <div>            <script src=\"https://cdnjs.cloudflare.com/ajax/libs/mathjax/2.7.5/MathJax.js?config=TeX-AMS-MML_SVG\"></script><script type=\"text/javascript\">if (window.MathJax && window.MathJax.Hub && window.MathJax.Hub.Config) {window.MathJax.Hub.Config({SVG: {font: \"STIX-Web\"}});}</script>                <script type=\"text/javascript\">window.PlotlyConfig = {MathJaxConfig: 'local'};</script>\n",
              "        <script charset=\"utf-8\" src=\"https://cdn.plot.ly/plotly-2.24.1.min.js\"></script>                <div id=\"d56aac33-5fdb-4c9b-9e37-24d2a60024f8\" class=\"plotly-graph-div\" style=\"height:525px; width:100%;\"></div>            <script type=\"text/javascript\">                                    window.PLOTLYENV=window.PLOTLYENV || {};                                    if (document.getElementById(\"d56aac33-5fdb-4c9b-9e37-24d2a60024f8\")) {                    Plotly.newPlot(                        \"d56aac33-5fdb-4c9b-9e37-24d2a60024f8\",                        [{\"customdata\":[[\"Astrophysics of Galaxies (astro-ph.GA)\"],[\"Instrumentation and Methods for Astrophysics (astro-ph.IM)\"],[\"Cosmology and Nongalactic Astrophysics (astro-ph.CO)\"],[\"Cosmology and Nongalactic Astrophysics (astro-ph.CO)\"],[\"Instrumentation and Methods for Astrophysics (astro-ph.IM)\"],[\"High Energy Astrophysical Phenomena (astro-ph.HE)\"],[\"Solar and Stellar Astrophysics (astro-ph.SR)\"],[\"High Energy Astrophysical Phenomena (astro-ph.HE)\"],[\"Solar and Stellar Astrophysics (astro-ph.SR)\"],[\"High Energy Astrophysical Phenomena (astro-ph.HE)\"],[\"High Energy Astrophysical Phenomena (astro-ph.HE)\"],[\"Solar and Stellar Astrophysics (astro-ph.SR)\"],[\"Cosmology and Nongalactic Astrophysics (astro-ph.CO)\"],[\"Astrophysics of Galaxies (astro-ph.GA)\"],[\"Astrophysics of Galaxies (astro-ph.GA)\"],[\"Cosmology and Nongalactic Astrophysics (astro-ph.CO)\"],[\"Astrophysics of Galaxies (astro-ph.GA)\"],[\"Solar and Stellar Astrophysics (astro-ph.SR)\"],[\"Solar and Stellar Astrophysics (astro-ph.SR)\"],[\"Astrophysics of Galaxies (astro-ph.GA)\"],[\"High Energy Astrophysical Phenomena (astro-ph.HE)\"],[\"Solar and Stellar Astrophysics (astro-ph.SR)\"],[\"Instrumentation and Methods for Astrophysics (astro-ph.IM)\"],[\"Solar and Stellar Astrophysics (astro-ph.SR)\"],[\"Earth and Planetary Astrophysics (astro-ph.EP)\"],[\"Cosmology and Nongalactic Astrophysics (astro-ph.CO)\"],[\"Instrumentation and Methods for Astrophysics (astro-ph.IM)\"],[\"Instrumentation and Methods for Astrophysics (astro-ph.IM)\"],[\"Astrophysics of Galaxies (astro-ph.GA)\"],[\"Solar and Stellar Astrophysics (astro-ph.SR)\"],[\"Solar and Stellar Astrophysics (astro-ph.SR)\"],[\"High Energy Astrophysical Phenomena (astro-ph.HE)\"],[\"Solar and Stellar Astrophysics (astro-ph.SR)\"],[\"Solar and Stellar Astrophysics (astro-ph.SR)\"],[\"Cosmology and Nongalactic Astrophysics (astro-ph.CO)\"],[\"Earth and Planetary Astrophysics (astro-ph.EP)\"],[\"Astrophysics of Galaxies (astro-ph.GA)\"],[\"Astrophysics of Galaxies (astro-ph.GA)\"],[\"Cosmology and Nongalactic Astrophysics (astro-ph.CO)\"],[\"Astrophysics of Galaxies (astro-ph.GA)\"],[\"Astrophysics of Galaxies (astro-ph.GA)\"],[\"Cosmology and Nongalactic Astrophysics (astro-ph.CO)\"],[\"High Energy Astrophysical Phenomena (astro-ph.HE)\"],[\"Solar and Stellar Astrophysics (astro-ph.SR)\"],[\"High Energy Astrophysical Phenomena (astro-ph.HE)\"],[\"Cosmology and Nongalactic Astrophysics (astro-ph.CO)\"],[\"Solar and Stellar Astrophysics (astro-ph.SR)\"],[\"Solar and Stellar Astrophysics (astro-ph.SR)\"],[\"Cosmology and Nongalactic Astrophysics (astro-ph.CO)\"],[\"High Energy Astrophysical Phenomena (astro-ph.HE)\"],[\"Astrophysics of Galaxies (astro-ph.GA)\"],[\"Earth and Planetary Astrophysics (astro-ph.EP)\"],[\"Instrumentation and Methods for Astrophysics (astro-ph.IM)\"],[\"High Energy Astrophysical Phenomena (astro-ph.HE)\"],[\"Cosmology and Nongalactic Astrophysics (astro-ph.CO)\"],[\"Astrophysics of Galaxies (astro-ph.GA)\"],[\"Earth and Planetary Astrophysics (astro-ph.EP)\"],[\"Instrumentation and Methods for Astrophysics (astro-ph.IM)\"],[\"Solar and Stellar Astrophysics (astro-ph.SR)\"],[\"Astrophysics of Galaxies (astro-ph.GA)\"],[\"Cosmology and Nongalactic Astrophysics (astro-ph.CO)\"],[\"Cosmology and Nongalactic Astrophysics (astro-ph.CO)\"],[\"Instrumentation and Methods for Astrophysics (astro-ph.IM)\"],[\"Astrophysics of Galaxies (astro-ph.GA)\"],[\"High Energy Astrophysical Phenomena (astro-ph.HE)\"],[\"High Energy Astrophysical Phenomena (astro-ph.HE)\"],[\"Solar and Stellar Astrophysics (astro-ph.SR)\"],[\"Cosmology and Nongalactic Astrophysics (astro-ph.CO)\"],[\"Cosmology and Nongalactic Astrophysics (astro-ph.CO)\"],[\"Earth and Planetary Astrophysics (astro-ph.EP)\"],[\"Optics (physics.optics)\"],[\"Applications (stat.AP)\"],[\"Methodology (stat.ME)\"],[\"General Relativity and Quantum Cosmology (gr-qc)\"],[\"General Relativity and Quantum Cosmology (gr-qc)\"],[\"High Energy Physics - Phenomenology (hep-ph)\"],[\"High Energy Physics - Phenomenology (hep-ph)\"],[\"General Relativity and Quantum Cosmology (gr-qc)\"],[\"General Relativity and Quantum Cosmology (gr-qc)\"],[\"Optics (physics.optics)\"],[\"Nuclear Theory (nucl-th)\"],[\"High Energy Physics - Phenomenology (hep-ph)\"],[\"General Relativity and Quantum Cosmology (gr-qc)\"],[\"High Energy Physics - Theory (hep-th)\"],[\"Fluid Dynamics (physics.flu-dyn)\"],[\"General Relativity and Quantum Cosmology (gr-qc)\"],[\"High Energy Physics - Phenomenology (hep-ph)\"],[\"General Relativity and Quantum Cosmology (gr-qc)\"],[\"General Relativity and Quantum Cosmology (gr-qc)\"]],\"hovertemplate\":\"y=astro-ph\\u003cbr\\u003eumap-2d-one=%{x}\\u003cbr\\u003eumap-2d-two=%{y}\\u003cbr\\u003ey_long=%{customdata[0]}\\u003cextra\\u003e\\u003c\\u002fextra\\u003e\",\"legendgroup\":\"astro-ph\",\"marker\":{\"color\":\"#9e0142\",\"symbol\":\"circle\",\"opacity\":0.5,\"size\":5},\"mode\":\"markers\",\"name\":\"astro-ph\",\"showlegend\":true,\"x\":[7.3891282081604,7.312408447265625,7.668630123138428,4.743905067443848,7.896256923675537,7.558292388916016,7.522402286529541,6.887288570404053,7.4421281814575195,7.3446760177612305,6.811540603637695,7.499320983886719,7.368971824645996,7.677771091461182,7.787477970123291,7.833512306213379,7.433381080627441,7.389570236206055,7.497310161590576,7.544210433959961,7.382346153259277,7.41227912902832,6.687062740325928,7.478229999542236,7.239343643188477,7.3255696296691895,4.465023994445801,6.467461109161377,7.473834037780762,7.252779483795166,6.803941249847412,7.1862969398498535,7.413665771484375,7.496313571929932,4.87665319442749,7.206087112426758,7.076951026916504,7.567294597625732,7.389706134796143,7.381810665130615,7.7515411376953125,7.971731185913086,6.660935878753662,7.517831802368164,7.752410411834717,8.1104736328125,7.577354431152344,7.202625751495361,8.10062026977539,6.956139087677002,7.686581611633301,7.23994255065918,6.200531482696533,7.310813903808594,8.208794593811035,7.610585689544678,7.269513130187988,3.940160036087036,7.653653621673584,7.7180609703063965,7.132702827453613,7.367218971252441,5.594760417938232,7.355485916137695,7.5817484855651855,7.423879623413086,7.8631720542907715,7.476117134094238,8.055464744567871,7.208725452423096,4.085693836212158,6.233500003814697,6.297348499298096,7.474205017089844,7.750997066497803,8.371891021728516,6.9849724769592285,7.741209983825684,8.304131507873535,8.383137702941895,6.42100191116333,7.1508564949035645,8.43569564819336,7.297118663787842,6.518757343292236,7.060775279998779,7.499432563781738,7.977906703948975,7.513546943664551],\"xaxis\":\"x\",\"y\":[11.596649169921875,11.975728034973145,11.735310554504395,4.832083702087402,11.759127616882324,11.347707748413086,11.680586814880371,11.460254669189453,12.08310317993164,11.915019989013672,11.82540512084961,12.14846420288086,11.061830520629883,11.96043586730957,11.710958480834961,11.549447059631348,11.660664558410645,11.641154289245605,12.05988597869873,11.79664421081543,12.003987312316895,11.787229537963867,11.48996353149414,11.510285377502441,11.895243644714355,10.6867036819458,4.887018203735352,11.688271522521973,11.572478294372559,11.921550750732422,10.61480712890625,11.799073219299316,11.64366340637207,12.08323860168457,5.042941093444824,11.920928001403809,11.930106163024902,11.834771156311035,11.020641326904297,11.690053939819336,11.883121490478516,11.527692794799805,11.091562271118164,11.978837013244629,11.257843017578125,11.781266212463379,11.8280029296875,11.5869140625,11.506728172302246,11.77657413482666,11.896767616271973,12.033587455749512,8.325294494628906,11.924983024597168,11.200444221496582,12.047150611877441,11.844939231872559,8.110762596130371,11.52346420288086,11.80398941040039,10.404544830322266,11.354206085205078,10.741744041442871,11.751126289367676,11.68958854675293,12.027949333190918,11.788177490234375,11.797906875610352,11.432768821716309,11.200251579284668,8.859773635864258,6.88532829284668,7.044269561767578,10.542370796203613,11.387999534606934,11.427860260009766,11.254472732543945,11.19003677368164,11.683069229125977,11.35134220123291,12.042613983154297,11.319440841674805,11.471834182739258,10.482368469238281,10.460662841796875,10.144911766052246,10.5873384475708,11.028185844421387,11.18453311920166],\"yaxis\":\"y\",\"type\":\"scattergl\"},{\"customdata\":[[\"Statistical Mechanics (cond-mat.stat-mech)\"],[\"Strongly Correlated Electrons (cond-mat.str-el)\"],[\"Strongly Correlated Electrons (cond-mat.str-el)\"],[\"Mesoscale and Nanoscale Physics (cond-mat.mes-hall)\"],[\"Mesoscale and Nanoscale Physics (cond-mat.mes-hall)\"],[\"Statistical Mechanics (cond-mat.stat-mech)\"],[\"Quantum Gases (cond-mat.quant-gas)\"],[\"Strongly Correlated Electrons (cond-mat.str-el)\"],[\"Mesoscale and Nanoscale Physics (cond-mat.mes-hall)\"],[\"Materials Science (cond-mat.mtrl-sci)\"],[\"Materials Science (cond-mat.mtrl-sci)\"],[\"Materials Science (cond-mat.mtrl-sci)\"],[\"Materials Science (cond-mat.mtrl-sci)\"],[\"Mesoscale and Nanoscale Physics (cond-mat.mes-hall)\"],[\"Superconductivity (cond-mat.supr-con)\"],[\"Statistical Mechanics (cond-mat.stat-mech)\"],[\"Materials Science (cond-mat.mtrl-sci)\"],[\"Soft Condensed Matter (cond-mat.soft)\"],[\"Materials Science (cond-mat.mtrl-sci)\"],[\"Materials Science (cond-mat.mtrl-sci)\"],[\"Materials Science (cond-mat.mtrl-sci)\"],[\"Materials Science (cond-mat.mtrl-sci)\"],[\"Materials Science (cond-mat.mtrl-sci)\"],[\"Materials Science (cond-mat.mtrl-sci)\"],[\"Materials Science (cond-mat.mtrl-sci)\"],[\"Statistical Mechanics (cond-mat.stat-mech)\"],[\"Statistical Mechanics (cond-mat.stat-mech)\"],[\"Superconductivity (cond-mat.supr-con)\"],[\"Superconductivity (cond-mat.supr-con)\"],[\"Superconductivity (cond-mat.supr-con)\"],[\"Statistical Mechanics (cond-mat.stat-mech)\"],[\"Superconductivity (cond-mat.supr-con)\"],[\"Strongly Correlated Electrons (cond-mat.str-el)\"],[\"Strongly Correlated Electrons (cond-mat.str-el)\"],[\"Materials Science (cond-mat.mtrl-sci)\"],[\"Materials Science (cond-mat.mtrl-sci)\"],[\"Mesoscale and Nanoscale Physics (cond-mat.mes-hall)\"],[\"Soft Condensed Matter (cond-mat.soft)\"],[\"Materials Science (cond-mat.mtrl-sci)\"],[\"Soft Condensed Matter (cond-mat.soft)\"],[\"Materials Science (cond-mat.mtrl-sci)\"],[\"Materials Science (cond-mat.mtrl-sci)\"],[\"Materials Science (cond-mat.mtrl-sci)\"],[\"Statistical Mechanics (cond-mat.stat-mech)\"],[\"Superconductivity (cond-mat.supr-con)\"],[\"Soft Condensed Matter (cond-mat.soft)\"],[\"Mesoscale and Nanoscale Physics (cond-mat.mes-hall)\"],[\"Materials Science (cond-mat.mtrl-sci)\"],[\"Soft Condensed Matter (cond-mat.soft)\"],[\"Materials Science (cond-mat.mtrl-sci)\"],[\"Mesoscale and Nanoscale Physics (cond-mat.mes-hall)\"],[\"Strongly Correlated Electrons (cond-mat.str-el)\"],[\"Strongly Correlated Electrons (cond-mat.str-el)\"],[\"Materials Science (cond-mat.mtrl-sci)\"],[\"Statistical Mechanics (cond-mat.stat-mech)\"],[\"Strongly Correlated Electrons (cond-mat.str-el)\"],[\"Mesoscale and Nanoscale Physics (cond-mat.mes-hall)\"],[\"Statistical Mechanics (cond-mat.stat-mech)\"],[\"Mesoscale and Nanoscale Physics (cond-mat.mes-hall)\"],[\"Materials Science (cond-mat.mtrl-sci)\"],[\"Mesoscale and Nanoscale Physics (cond-mat.mes-hall)\"],[\"Mesoscale and Nanoscale Physics (cond-mat.mes-hall)\"],[\"Soft Condensed Matter (cond-mat.soft)\"],[\"Strongly Correlated Electrons (cond-mat.str-el)\"],[\"Materials Science (cond-mat.mtrl-sci)\"],[\"Strongly Correlated Electrons (cond-mat.str-el)\"],[\"High Energy Physics - Phenomenology (hep-ph)\"],[\"High Energy Physics - Phenomenology (hep-ph)\"],[\"Mathematical Physics (math-ph)\"],[\"High Energy Physics - Theory (hep-th)\"],[\"Quantum Physics (quant-ph)\"],[\"Quantum Physics (quant-ph)\"],[\"Populations and Evolution (q-bio.PE)\"],[\"Quantum Physics (quant-ph)\"],[\"Quantum Physics (quant-ph)\"],[\"Quantum Physics (quant-ph)\"],[\"Quantum Physics (quant-ph)\"],[\"Accelerator Physics (physics.acc-ph)\"],[\"Optics (physics.optics)\"],[\"Fluid Dynamics (physics.flu-dyn)\"],[\"Machine Learning (stat.ML)\"],[\"Applied Physics (physics.app-ph)\"],[\"High Energy Physics - Lattice (hep-lat)\"],[\"Optics (physics.optics)\"]],\"hovertemplate\":\"y=cond-mat\\u003cbr\\u003eumap-2d-one=%{x}\\u003cbr\\u003eumap-2d-two=%{y}\\u003cbr\\u003ey_long=%{customdata[0]}\\u003cextra\\u003e\\u003c\\u002fextra\\u003e\",\"legendgroup\":\"cond-mat\",\"marker\":{\"color\":\"#c32a4b\",\"symbol\":\"circle\",\"opacity\":0.5,\"size\":5},\"mode\":\"markers\",\"name\":\"cond-mat\",\"showlegend\":true,\"x\":[5.868061542510986,4.705771446228027,5.19244384765625,4.8623223304748535,4.938006401062012,5.418262004852295,5.2781453132629395,5.397384166717529,4.577712059020996,4.795162200927734,4.755526065826416,5.077988624572754,4.875553607940674,5.187242031097412,4.7537617683410645,5.691289901733398,4.871035099029541,5.7735137939453125,5.056262016296387,5.112915992736816,5.127511501312256,4.765214443206787,4.78705358505249,5.160141468048096,4.6085028648376465,5.735504150390625,5.2765092849731445,4.865961074829102,4.815347194671631,4.6708760261535645,4.211057186126709,4.969658374786377,5.596861839294434,4.864563941955566,4.9020676612854,4.553791046142578,4.8418121337890625,5.590246677398682,4.530606746673584,5.466197490692139,4.508415699005127,5.005672931671143,4.716994285583496,5.7122015953063965,4.619518280029297,5.391573429107666,4.681343078613281,4.843756198883057,5.016880512237549,4.913932800292969,5.152020454406738,5.2661895751953125,5.142220497131348,5.0485992431640625,5.523172378540039,5.385973930358887,5.266572952270508,5.581934928894043,5.165194034576416,4.433197975158691,4.611575126647949,4.463301658630371,5.046510696411133,4.849798679351807,4.710368633270264,5.5259552001953125,8.350088119506836,5.806017875671387,6.816104412078857,7.092840671539307,5.069046497344971,5.136468887329102,5.173345565795898,5.4596333503723145,5.575028419494629,5.287664413452148,5.6402435302734375,4.927919387817383,4.418859481811523,5.393485069274902,5.64126443862915,4.559799671173096,6.549919128417969,5.098287105560303],\"xaxis\":\"x\",\"y\":[8.153072357177734,10.483442306518555,8.929678916931152,9.978056907653809,10.111310958862305,8.804012298583984,10.399517059326172,10.421476364135742,10.075316429138184,10.645486831665039,10.418665885925293,10.527070999145508,10.42378044128418,10.241644859313965,10.632343292236328,8.423248291015625,10.344427108764648,9.885273933410645,10.30916690826416,10.384510040283203,10.351984977722168,10.377724647521973,10.46606731414795,10.38568115234375,10.446348190307617,8.402056694030762,10.197508811950684,10.287226676940918,10.272457122802734,10.390987396240234,7.091549873352051,10.346768379211426,11.344864845275879,10.548301696777344,10.543176651000977,10.37494945526123,10.22752571105957,9.494585037231445,10.294548988342285,10.145841598510742,10.434370040893555,10.274538040161133,10.563698768615723,8.345017433166504,10.53370189666748,10.076844215393066,10.28994369506836,10.644854545593262,10.584635734558105,10.35570240020752,9.763667106628418,10.858236312866211,9.43578815460205,9.933740615844727,7.730724811553955,8.646327018737793,10.064231872558594,8.604497909545898,10.356626510620117,10.14657211303711,10.170872688293457,10.023390769958496,10.835232734680176,10.614916801452637,9.847116470336914,8.643397331237793,11.389269828796387,9.407659530639648,8.995281219482422,9.68040943145752,9.691672325134277,9.146096229553223,7.18664026260376,10.385408401489258,10.462244033813477,10.361422538757324,9.859619140625,10.30742359161377,9.75372314453125,9.960479736328125,8.067800521850586,10.101932525634766,9.745129585266113,9.834153175354004],\"yaxis\":\"y\",\"type\":\"scattergl\"},{\"customdata\":[[\"General Relativity and Quantum Cosmology (gr-qc)\"],[\"General Relativity and Quantum Cosmology (gr-qc)\"],[\"General Relativity and Quantum Cosmology (gr-qc)\"],[\"General Relativity and Quantum Cosmology (gr-qc)\"],[\"General Relativity and Quantum Cosmology (gr-qc)\"],[\"General Relativity and Quantum Cosmology (gr-qc)\"],[\"General Relativity and Quantum Cosmology (gr-qc)\"],[\"General Relativity and Quantum Cosmology (gr-qc)\"],[\"General Relativity and Quantum Cosmology (gr-qc)\"],[\"General Relativity and Quantum Cosmology (gr-qc)\"],[\"General Relativity and Quantum Cosmology (gr-qc)\"],[\"General Relativity and Quantum Cosmology (gr-qc)\"],[\"General Relativity and Quantum Cosmology (gr-qc)\"],[\"General Relativity and Quantum Cosmology (gr-qc)\"],[\"General Relativity and Quantum Cosmology (gr-qc)\"],[\"General Relativity and Quantum Cosmology (gr-qc)\"],[\"General Relativity and Quantum Cosmology (gr-qc)\"],[\"General Relativity and Quantum Cosmology (gr-qc)\"],[\"General Relativity and Quantum Cosmology (gr-qc)\"],[\"General Relativity and Quantum Cosmology (gr-qc)\"],[\"General Relativity and Quantum Cosmology (gr-qc)\"],[\"General Relativity and Quantum Cosmology (gr-qc)\"],[\"High Energy Physics - Phenomenology (hep-ph)\"],[\"High Energy Physics - Theory (hep-th)\"],[\"Cosmology and Nongalactic Astrophysics (astro-ph.CO)\"],[\"Differential Geometry (math.DG)\"],[\"High Energy Physics - Theory (hep-th)\"],[\"Cosmology and Nongalactic Astrophysics (astro-ph.CO)\"],[\"Cosmology and Nongalactic Astrophysics (astro-ph.CO)\"],[\"Cosmology and Nongalactic Astrophysics (astro-ph.CO)\"]],\"hovertemplate\":\"y=gr-qc\\u003cbr\\u003eumap-2d-one=%{x}\\u003cbr\\u003eumap-2d-two=%{y}\\u003cbr\\u003ey_long=%{customdata[0]}\\u003cextra\\u003e\\u003c\\u002fextra\\u003e\",\"legendgroup\":\"gr-qc\",\"marker\":{\"color\":\"#df4e4b\",\"symbol\":\"circle\",\"opacity\":0.5,\"size\":5},\"mode\":\"markers\",\"name\":\"gr-qc\",\"showlegend\":true,\"x\":[7.794629096984863,7.459802627563477,7.771914958953857,8.352964401245117,7.737321376800537,7.468379974365234,7.638080596923828,7.485189437866211,7.411171913146973,7.41136360168457,7.474203586578369,7.7177934646606445,7.776259422302246,7.5122551918029785,8.458321571350098,7.118634223937988,7.556052207946777,7.9418487548828125,7.501181125640869,8.211915016174316,7.312422275543213,7.6077423095703125,8.359783172607422,6.902608394622803,7.885125160217285,7.386966228485107,7.111527442932129,8.192774772644043,7.144168853759766,7.31920862197876],\"xaxis\":\"x\",\"y\":[11.411664009094238,10.1235990524292,11.274567604064941,11.659920692443848,10.467513084411621,10.202200889587402,10.818032264709473,9.625146865844727,10.209517478942871,9.67904281616211,10.119843482971191,9.875557899475098,11.104848861694336,10.103623390197754,11.463540077209473,10.201367378234863,9.484784126281738,11.096297264099121,10.196727752685547,11.17464828491211,10.548023223876953,11.178215026855469,11.413865089416504,9.375051498413086,11.569657325744629,9.431658744812012,9.747673988342285,11.083895683288574,10.395522117614746,11.339345932006836],\"yaxis\":\"y\",\"type\":\"scattergl\"},{\"customdata\":[[\"High Energy Physics - Experiment (hep-ex)\"],[\"High Energy Physics - Experiment (hep-ex)\"],[\"High Energy Physics - Experiment (hep-ex)\"],[\"High Energy Physics - Experiment (hep-ex)\"],[\"High Energy Physics - Experiment (hep-ex)\"],[\"High Energy Physics - Experiment (hep-ex)\"],[\"Applications (stat.AP)\"],[\"Methodology (stat.ME)\"],[\"High Energy Physics - Phenomenology (hep-ph)\"],[\"High Energy Physics - Phenomenology (hep-ph)\"],[\"Instrumentation and Methods for Astrophysics (astro-ph.IM)\"],[\"Instrumentation and Detectors (physics.ins-det)\"],[\"High Energy Physics - Phenomenology (hep-ph)\"],[\"Instrumentation and Detectors (physics.ins-det)\"],[\"General Relativity and Quantum Cosmology (gr-qc)\"],[\"High Energy Physics - Phenomenology (hep-ph)\"],[\"General Relativity and Quantum Cosmology (gr-qc)\"],[\"High Energy Physics - Phenomenology (hep-ph)\"]],\"hovertemplate\":\"y=hep-ex\\u003cbr\\u003eumap-2d-one=%{x}\\u003cbr\\u003eumap-2d-two=%{y}\\u003cbr\\u003ey_long=%{customdata[0]}\\u003cextra\\u003e\\u003c\\u002fextra\\u003e\",\"legendgroup\":\"hep-ex\",\"marker\":{\"color\":\"#f46d43\",\"symbol\":\"circle\",\"opacity\":0.5,\"size\":5},\"mode\":\"markers\",\"name\":\"hep-ex\",\"showlegend\":true,\"x\":[6.294133186340332,4.234415054321289,6.420399188995361,6.156168460845947,6.303466796875,6.300014972686768,6.278146266937256,6.29605770111084,5.894176959991455,8.435975074768066,6.39081335067749,6.458616256713867,6.183229923248291,6.161097526550293,8.451502799987793,6.719625473022461,8.009767532348633,6.362050533294678],\"xaxis\":\"x\",\"y\":[11.126057624816895,5.421590328216553,11.625895500183105,11.454510688781738,11.353472709655762,11.648239135742188,6.928376197814941,7.031744003295898,11.39893913269043,11.383135795593262,11.745373725891113,11.861435890197754,11.2600679397583,11.795866966247559,11.474077224731445,11.71280288696289,11.108128547668457,10.9417085647583],\"yaxis\":\"y\",\"type\":\"scattergl\"},{\"customdata\":[[\"High Energy Physics - Lattice (hep-lat)\"],[\"High Energy Physics - Lattice (hep-lat)\"],[\"High Energy Physics - Lattice (hep-lat)\"],[\"High Energy Physics - Lattice (hep-lat)\"],[\"High Energy Physics - Lattice (hep-lat)\"],[\"High Energy Physics - Lattice (hep-lat)\"],[\"Quantum Physics (quant-ph)\"]],\"hovertemplate\":\"y=hep-lat\\u003cbr\\u003eumap-2d-one=%{x}\\u003cbr\\u003eumap-2d-two=%{y}\\u003cbr\\u003ey_long=%{customdata[0]}\\u003cextra\\u003e\\u003c\\u002fextra\\u003e\",\"legendgroup\":\"hep-lat\",\"marker\":{\"color\":\"#fa9857\",\"symbol\":\"circle\",\"opacity\":0.5,\"size\":5},\"mode\":\"markers\",\"name\":\"hep-lat\",\"showlegend\":true,\"x\":[6.552208423614502,6.063839435577393,6.740216255187988,6.615268707275391,6.243527889251709,6.763334274291992,5.3985700607299805],\"xaxis\":\"x\",\"y\":[10.427347183227539,10.733150482177734,9.76353645324707,9.8479585647583,10.773937225341797,9.54422378540039,9.16871166229248],\"yaxis\":\"y\",\"type\":\"scattergl\"},{\"customdata\":[[\"High Energy Physics - Phenomenology (hep-ph)\"],[\"High Energy Physics - Phenomenology (hep-ph)\"],[\"High Energy Physics - Phenomenology (hep-ph)\"],[\"High Energy Physics - Phenomenology (hep-ph)\"],[\"High Energy Physics - Phenomenology (hep-ph)\"],[\"High Energy Physics - Phenomenology (hep-ph)\"],[\"High Energy Physics - Phenomenology (hep-ph)\"],[\"High Energy Physics - Phenomenology (hep-ph)\"],[\"High Energy Physics - Phenomenology (hep-ph)\"],[\"High Energy Physics - Phenomenology (hep-ph)\"],[\"High Energy Physics - Phenomenology (hep-ph)\"],[\"High Energy Physics - Phenomenology (hep-ph)\"],[\"High Energy Physics - Phenomenology (hep-ph)\"],[\"High Energy Physics - Phenomenology (hep-ph)\"],[\"High Energy Physics - Phenomenology (hep-ph)\"],[\"High Energy Physics - Phenomenology (hep-ph)\"],[\"High Energy Physics - Phenomenology (hep-ph)\"],[\"High Energy Physics - Phenomenology (hep-ph)\"],[\"High Energy Physics - Phenomenology (hep-ph)\"],[\"High Energy Physics - Phenomenology (hep-ph)\"],[\"High Energy Physics - Phenomenology (hep-ph)\"],[\"High Energy Physics - Phenomenology (hep-ph)\"],[\"High Energy Physics - Phenomenology (hep-ph)\"],[\"High Energy Physics - Phenomenology (hep-ph)\"],[\"High Energy Physics - Phenomenology (hep-ph)\"],[\"High Energy Physics - Phenomenology (hep-ph)\"],[\"High Energy Physics - Phenomenology (hep-ph)\"],[\"High Energy Physics - Phenomenology (hep-ph)\"],[\"High Energy Physics - Phenomenology (hep-ph)\"],[\"High Energy Physics - Phenomenology (hep-ph)\"],[\"Cosmology and Nongalactic Astrophysics (astro-ph.CO)\"],[\"High Energy Astrophysical Phenomena (astro-ph.HE)\"],[\"Cosmology and Nongalactic Astrophysics (astro-ph.CO)\"],[\"High Energy Physics - Lattice (hep-lat)\"],[\"General Relativity and Quantum Cosmology (gr-qc)\"],[\"Machine Learning (cs.LG)\"],[\"High Energy Physics - Experiment (hep-ex)\"],[\"Cosmology and Nongalactic Astrophysics (astro-ph.CO)\"],[\"High Energy Physics - Lattice (hep-lat)\"],[\"High Energy Physics - Theory (hep-th)\"],[\"General Relativity and Quantum Cosmology (gr-qc)\"],[\"Cosmology and Nongalactic Astrophysics (astro-ph.CO)\"],[\"Nuclear Experiment (nucl-ex)\"],[\"Cosmology and Nongalactic Astrophysics (astro-ph.CO)\"]],\"hovertemplate\":\"y=hep-ph\\u003cbr\\u003eumap-2d-one=%{x}\\u003cbr\\u003eumap-2d-two=%{y}\\u003cbr\\u003ey_long=%{customdata[0]}\\u003cextra\\u003e\\u003c\\u002fextra\\u003e\",\"legendgroup\":\"hep-ph\",\"marker\":{\"color\":\"#fdbf6f\",\"symbol\":\"circle\",\"opacity\":0.5,\"size\":5},\"mode\":\"markers\",\"name\":\"hep-ph\",\"showlegend\":true,\"x\":[5.885308265686035,8.380850791931152,6.355259418487549,6.892192840576172,7.082461357116699,6.548212051391602,6.639488697052002,4.858384609222412,6.470008850097656,5.852166175842285,6.831161022186279,6.794957160949707,7.136226654052734,6.905341148376465,6.184029579162598,6.0423126220703125,6.321803569793701,6.28865385055542,6.103376865386963,5.942688941955566,6.269999980926514,7.518552780151367,6.758813381195068,6.042990207672119,6.284571170806885,6.992294788360596,6.423014163970947,6.1072564125061035,6.362342357635498,6.283207893371582,7.751148700714111,6.951131820678711,7.362133502960205,6.5976152420043945,8.348308563232422,5.085999011993408,6.306232452392578,7.408015251159668,5.997927665710449,7.284564018249512,7.892911911010742,8.305378913879395,6.032521724700928,7.39145040512085],\"xaxis\":\"x\",\"y\":[11.388646125793457,11.389504432678223,11.119603157043457,10.365616798400879,11.281126976013184,11.772461891174316,10.745702743530273,4.8623366355896,10.94306468963623,9.437912940979004,11.311446189880371,9.962691307067871,11.374574661254883,10.526348114013672,11.222820281982422,11.295988082885742,11.094016075134277,10.950667381286621,10.908203125,10.621434211730957,10.896876335144043,10.607297897338867,11.656697273254395,10.744220733642578,11.231947898864746,11.55085563659668,10.913698196411133,11.165868759155273,11.443896293640137,11.369939804077148,11.185820579528809,11.383872985839844,11.040000915527344,10.405960083007812,11.652082443237305,8.48536491394043,11.643157958984375,10.971413612365723,10.69593620300293,10.496734619140625,11.09855842590332,11.202751159667969,11.498308181762695,11.346190452575684],\"yaxis\":\"y\",\"type\":\"scattergl\"},{\"customdata\":[[\"High Energy Physics - Theory (hep-th)\"],[\"High Energy Physics - Theory (hep-th)\"],[\"High Energy Physics - Theory (hep-th)\"],[\"High Energy Physics - Theory (hep-th)\"],[\"High Energy Physics - Theory (hep-th)\"],[\"High Energy Physics - Theory (hep-th)\"],[\"High Energy Physics - Theory (hep-th)\"],[\"High Energy Physics - Theory (hep-th)\"],[\"High Energy Physics - Theory (hep-th)\"],[\"High Energy Physics - Theory (hep-th)\"],[\"High Energy Physics - Theory (hep-th)\"],[\"High Energy Physics - Theory (hep-th)\"],[\"High Energy Physics - Theory (hep-th)\"],[\"High Energy Physics - Theory (hep-th)\"],[\"High Energy Physics - Theory (hep-th)\"],[\"High Energy Physics - Theory (hep-th)\"],[\"High Energy Physics - Theory (hep-th)\"],[\"High Energy Physics - Phenomenology (hep-ph)\"],[\"General Relativity and Quantum Cosmology (gr-qc)\"],[\"High Energy Physics - Phenomenology (hep-ph)\"],[\"Cosmology and Nongalactic Astrophysics (astro-ph.CO)\"],[\"General Relativity and Quantum Cosmology (gr-qc)\"],[\"Quantum Algebra (math.QA)\"],[\"High Energy Physics - Phenomenology (hep-ph)\"],[\"Quantum Physics (quant-ph)\"],[\"General Relativity and Quantum Cosmology (gr-qc)\"],[\"General Relativity and Quantum Cosmology (gr-qc)\"],[\"Strongly Correlated Electrons (cond-mat.str-el)\"],[\"High Energy Physics - Phenomenology (hep-ph)\"],[\"General Relativity and Quantum Cosmology (gr-qc)\"],[\"General Relativity and Quantum Cosmology (gr-qc)\"],[\"High Energy Physics - Phenomenology (hep-ph)\"],[\"General Relativity and Quantum Cosmology (gr-qc)\"]],\"hovertemplate\":\"y=hep-th\\u003cbr\\u003eumap-2d-one=%{x}\\u003cbr\\u003eumap-2d-two=%{y}\\u003cbr\\u003ey_long=%{customdata[0]}\\u003cextra\\u003e\\u003c\\u002fextra\\u003e\",\"legendgroup\":\"hep-th\",\"marker\":{\"color\":\"#fee08b\",\"symbol\":\"circle\",\"opacity\":0.5,\"size\":5},\"mode\":\"markers\",\"name\":\"hep-th\",\"showlegend\":true,\"x\":[7.453556060791016,6.8611626625061035,6.726125717163086,7.610863208770752,7.0481791496276855,6.942020416259766,7.139081001281738,7.084609031677246,6.683039665222168,6.924685478210449,7.2650532722473145,6.740131855010986,8.06352710723877,6.689144611358643,6.205262660980225,6.5467119216918945,6.814119815826416,6.734766960144043,7.380189418792725,6.805948734283447,7.352301597595215,7.7137956619262695,7.728638648986816,6.750027656555176,5.367051124572754,7.4793596267700195,7.567050457000732,5.583113670349121,6.2156081199646,8.481566429138184,7.066441059112549,7.579338073730469,7.940291404724121],\"xaxis\":\"x\",\"y\":[9.21696662902832,9.357245445251465,9.611784934997559,10.395380020141602,9.664095878601074,10.206830978393555,9.74283504486084,9.617486000061035,9.170814514160156,9.11275577545166,10.484159469604492,9.530349731445312,8.707058906555176,9.74946403503418,9.269204139709473,9.4883451461792,9.388459205627441,10.101753234863281,10.22705364227295,10.34805679321289,10.997770309448242,10.394506454467773,8.761431694030762,9.903059005737305,9.177870750427246,10.183636665344238,10.001541137695312,11.320409774780273,10.89858341217041,11.486395835876465,10.181838989257812,10.651914596557617,11.089548110961914],\"yaxis\":\"y\",\"type\":\"scattergl\"},{\"customdata\":[[\"Mathematical Physics (math-ph)\"],[\"Mathematical Physics (math-ph)\"],[\"Mathematical Physics (math-ph)\"],[\"Physics and Society (physics.soc-ph)\"],[\"Classical Physics (physics.class-ph)\"],[\"High Energy Physics - Phenomenology (hep-ph)\"],[\"Quantum Algebra (math.QA)\"],[\"Quantum Algebra (math.QA)\"],[\"Fluid Dynamics (physics.flu-dyn)\"],[\"General Relativity and Quantum Cosmology (gr-qc)\"],[\"High Energy Physics - Theory (hep-th)\"],[\"Strongly Correlated Electrons (cond-mat.str-el)\"],[\"High Energy Physics - Theory (hep-th)\"],[\"Quantum Physics (quant-ph)\"],[\"General Relativity and Quantum Cosmology (gr-qc)\"],[\"Machine Learning (stat.ML)\"],[\"Quantum Physics (quant-ph)\"],[\"High Energy Physics - Theory (hep-th)\"],[\"Quantum Physics (quant-ph)\"],[\"Differential Geometry (math.DG)\"],[\"Analysis of PDEs (math.AP)\"]],\"hovertemplate\":\"y=math-ph\\u003cbr\\u003eumap-2d-one=%{x}\\u003cbr\\u003eumap-2d-two=%{y}\\u003cbr\\u003ey_long=%{customdata[0]}\\u003cextra\\u003e\\u003c\\u002fextra\\u003e\",\"legendgroup\":\"math-ph\",\"marker\":{\"color\":\"#fff5ae\",\"symbol\":\"circle\",\"opacity\":0.5,\"size\":5},\"mode\":\"markers\",\"name\":\"math-ph\",\"showlegend\":true,\"x\":[6.818573951721191,7.5781941413879395,7.818314552307129,4.792653560638428,7.60400915145874,6.896541118621826,8.199812889099121,7.707173824310303,5.959699630737305,7.753491401672363,6.688645362854004,5.555245399475098,6.84949254989624,5.107978343963623,7.5244622230529785,5.666277885437012,6.4401936531066895,8.108899116516113,8.203873634338379,7.539205551147461,5.310735702514648],\"xaxis\":\"x\",\"y\":[9.039996147155762,9.174776077270508,9.899004936218262,7.408718109130859,10.97102165222168,10.359044075012207,8.860618591308594,8.816944122314453,9.560757637023926,9.871132850646973,9.171625137329102,11.321002960205078,9.147359848022461,9.098637580871582,9.52114486694336,7.977503776550293,8.119190216064453,8.726446151733398,8.925411224365234,9.46239948272705,9.992767333984375],\"yaxis\":\"y\",\"type\":\"scattergl\"},{\"customdata\":[[\"Adaptation and Self-Organizing Systems (nlin.AO)\"],[\"Adaptation and Self-Organizing Systems (nlin.AO)\"],[\"Adaptation and Self-Organizing Systems (nlin.AO)\"],[\"Exactly Solvable and Integrable Systems (nlin.SI)\"],[\"Biological Physics (physics.bio-ph)\"],[\"Physics and Society (physics.soc-ph)\"],[\"Mathematical Physics (math-ph)\"],[\"Mathematical Physics (math-ph)\"],[\"Analysis of PDEs (math.AP)\"],[\"Physics and Society (physics.soc-ph)\"]],\"hovertemplate\":\"y=nlin\\u003cbr\\u003eumap-2d-one=%{x}\\u003cbr\\u003eumap-2d-two=%{y}\\u003cbr\\u003ey_long=%{customdata[0]}\\u003cextra\\u003e\\u003c\\u002fextra\\u003e\",\"legendgroup\":\"nlin\",\"marker\":{\"color\":\"#f7fcb2\",\"symbol\":\"circle\",\"opacity\":0.5,\"size\":5},\"mode\":\"markers\",\"name\":\"nlin\",\"showlegend\":true,\"x\":[4.836208343505859,4.796826362609863,5.77933931350708,7.08017635345459,6.206109046936035,4.689850807189941,6.828319072723389,7.856588363647461,5.305637359619141,4.853363513946533],\"xaxis\":\"x\",\"y\":[7.772855281829834,7.651288986206055,9.529691696166992,9.094100952148438,8.326001167297363,7.455127716064453,9.038333892822266,9.867981910705566,9.99923038482666,7.763132095336914],\"yaxis\":\"y\",\"type\":\"scattergl\"},{\"customdata\":[[\"Nuclear Experiment (nucl-ex)\"],[\"Nuclear Experiment (nucl-ex)\"],[\"Nuclear Theory (nucl-th)\"],[\"Instrumentation and Detectors (physics.ins-det)\"],[\"Instrumentation and Detectors (physics.ins-det)\"],[\"Instrumentation and Detectors (physics.ins-det)\"],[\"Instrumentation and Detectors (physics.ins-det)\"],[\"Nuclear Theory (nucl-th)\"],[\"Instrumentation and Detectors (physics.ins-det)\"],[\"Nuclear Theory (nucl-th)\"],[\"High Energy Physics - Phenomenology (hep-ph)\"],[\"Nuclear Theory (nucl-th)\"],[\"History and Philosophy of Physics (physics.hist-ph)\"],[\"High Energy Physics - Experiment (hep-ex)\"]],\"hovertemplate\":\"y=nucl-ex\\u003cbr\\u003eumap-2d-one=%{x}\\u003cbr\\u003eumap-2d-two=%{y}\\u003cbr\\u003ey_long=%{customdata[0]}\\u003cextra\\u003e\\u003c\\u002fextra\\u003e\",\"legendgroup\":\"nucl-ex\",\"marker\":{\"color\":\"#e6f598\",\"symbol\":\"circle\",\"opacity\":0.5,\"size\":5},\"mode\":\"markers\",\"name\":\"nucl-ex\",\"showlegend\":true,\"x\":[6.1451640129089355,6.094378471374512,6.1112236976623535,6.182281017303467,6.33430814743042,4.377237319946289,6.267087936401367,5.902212619781494,6.353688716888428,5.930490493774414,5.836427688598633,6.433185577392578,6.576127529144287,6.26574182510376],\"xaxis\":\"x\",\"y\":[11.691178321838379,11.57977294921875,10.703835487365723,11.575556755065918,11.882412910461426,9.787727355957031,11.711544036865234,10.196946144104004,11.762767791748047,10.642011642456055,11.406238555908203,12.080883026123047,11.806408882141113,11.343048095703125],\"yaxis\":\"y\",\"type\":\"scattergl\"},{\"customdata\":[[\"Nuclear Theory (nucl-th)\"],[\"Nuclear Theory (nucl-th)\"],[\"High Energy Physics - Phenomenology (hep-ph)\"],[\"High Energy Astrophysical Phenomena (astro-ph.HE)\"],[\"Quantum Physics (quant-ph)\"],[\"High Energy Physics - Lattice (hep-lat)\"],[\"High Energy Physics - Phenomenology (hep-ph)\"],[\"High Energy Physics - Phenomenology (hep-ph)\"]],\"hovertemplate\":\"y=nucl-th\\u003cbr\\u003eumap-2d-one=%{x}\\u003cbr\\u003eumap-2d-two=%{y}\\u003cbr\\u003ey_long=%{customdata[0]}\\u003cextra\\u003e\\u003c\\u002fextra\\u003e\",\"legendgroup\":\"nucl-th\",\"marker\":{\"color\":\"#bfe5a0\",\"symbol\":\"circle\",\"opacity\":0.5,\"size\":5},\"mode\":\"markers\",\"name\":\"nucl-th\",\"showlegend\":true,\"x\":[5.791213512420654,6.43964958190918,5.820466041564941,6.76513671875,5.39896821975708,6.062061786651611,6.110301494598389,6.233997344970703],\"xaxis\":\"x\",\"y\":[10.471151351928711,12.054753303527832,11.405760765075684,11.889272689819336,9.159894943237305,10.738838195800781,10.902953147888184,11.110613822937012],\"yaxis\":\"y\",\"type\":\"scattergl\"},{\"customdata\":[[\"Quantum Physics (quant-ph)\"],[\"Quantum Physics (quant-ph)\"],[\"Quantum Physics (quant-ph)\"],[\"Quantum Physics (quant-ph)\"],[\"Quantum Physics (quant-ph)\"],[\"Quantum Physics (quant-ph)\"],[\"Quantum Physics (quant-ph)\"],[\"Quantum Physics (quant-ph)\"],[\"Quantum Physics (quant-ph)\"],[\"Quantum Physics (quant-ph)\"],[\"Quantum Physics (quant-ph)\"],[\"Quantum Physics (quant-ph)\"],[\"Quantum Physics (quant-ph)\"],[\"Quantum Physics (quant-ph)\"],[\"Quantum Physics (quant-ph)\"],[\"Quantum Physics (quant-ph)\"],[\"Quantum Physics (quant-ph)\"],[\"Quantum Physics (quant-ph)\"],[\"Quantum Physics (quant-ph)\"],[\"Quantum Physics (quant-ph)\"],[\"Quantum Physics (quant-ph)\"],[\"Quantum Physics (quant-ph)\"],[\"Quantum Physics (quant-ph)\"],[\"Quantum Physics (quant-ph)\"],[\"Quantum Physics (quant-ph)\"],[\"Quantum Physics (quant-ph)\"],[\"Quantum Physics (quant-ph)\"],[\"Quantum Physics (quant-ph)\"],[\"Quantum Physics (quant-ph)\"],[\"Quantum Physics (quant-ph)\"],[\"Quantum Physics (quant-ph)\"],[\"Quantum Physics (quant-ph)\"],[\"Quantum Physics (quant-ph)\"],[\"Quantum Physics (quant-ph)\"],[\"Quantum Physics (quant-ph)\"],[\"Quantum Physics (quant-ph)\"],[\"Quantum Physics (quant-ph)\"],[\"Quantum Physics (quant-ph)\"],[\"Quantum Physics (quant-ph)\"],[\"Plasma Physics (physics.plasm-ph)\"],[\"Strongly Correlated Electrons (cond-mat.str-el)\"],[\"Physics and Society (physics.soc-ph)\"],[\"Optics (physics.optics)\"],[\"Optics (physics.optics)\"],[\"Machine Learning (cs.LG)\"],[\"Optics (physics.optics)\"],[\"High Energy Physics - Theory (hep-th)\"],[\"High Energy Physics - Phenomenology (hep-ph)\"],[\"Optics (physics.optics)\"],[\"Chemical Physics (physics.chem-ph)\"],[\"Atomic Physics (physics.atom-ph)\"],[\"Strongly Correlated Electrons (cond-mat.str-el)\"]],\"hovertemplate\":\"y=quant-ph\\u003cbr\\u003eumap-2d-one=%{x}\\u003cbr\\u003eumap-2d-two=%{y}\\u003cbr\\u003ey_long=%{customdata[0]}\\u003cextra\\u003e\\u003c\\u002fextra\\u003e\",\"legendgroup\":\"quant-ph\",\"marker\":{\"color\":\"#94d4a4\",\"symbol\":\"circle\",\"opacity\":0.5,\"size\":5},\"mode\":\"markers\",\"name\":\"quant-ph\",\"showlegend\":true,\"x\":[4.996948719024658,4.877089977264404,5.060192584991455,7.1380414962768555,5.4951395988464355,6.057343482971191,5.154992580413818,5.0947065353393555,4.949378967285156,4.828181743621826,5.219118118286133,4.952685832977295,5.545755386352539,5.4205756187438965,5.39432430267334,5.034715175628662,5.491081237792969,4.849843978881836,3.7536017894744873,5.5695648193359375,5.35320520401001,5.694117546081543,4.648692607879639,4.999807834625244,4.908836364746094,4.1118011474609375,6.9812140464782715,4.3896284103393555,5.439476013183594,5.182953834533691,4.508571624755859,6.471551895141602,4.933513164520264,5.651449680328369,8.173599243164062,3.804849624633789,4.727668285369873,5.73600435256958,5.3243279457092285,5.355354309082031,5.3193230628967285,4.901672840118408,8.446246147155762,4.927641868591309,5.156176567077637,4.640196323394775,7.129398822784424,6.203836917877197,4.746994972229004,5.378366947174072,5.2959303855896,5.495709419250488],\"xaxis\":\"x\",\"y\":[9.756861686706543,9.322244644165039,9.178610801696777,9.291460037231445,9.204362869262695,9.45081615447998,9.72211742401123,9.081497192382812,9.729816436767578,6.619454383850098,9.021096229553223,9.393543243408203,9.202600479125977,9.253804206848145,9.494769096374512,9.226232528686523,10.448431015014648,9.821236610412598,6.0659918785095215,10.494606018066406,10.405892372131348,9.874449729919434,8.513450622558594,9.792511940002441,7.953670978546143,5.882471084594727,9.493497848510742,8.97556209564209,8.712143898010254,9.153985023498535,6.055792808532715,8.133255958557129,9.941291809082031,9.845695495605469,8.943402290344238,7.699402809143066,8.522318840026855,10.989442825317383,9.481973648071289,9.913601875305176,8.897025108337402,9.355158805847168,11.427383422851562,9.72515869140625,8.56560230255127,9.995015144348145,9.712884902954102,11.232370376586914,9.641218185424805,10.723750114440918,10.566165924072266,8.567668914794922],\"yaxis\":\"y\",\"type\":\"scattergl\"},{\"customdata\":[[\"Representation Theory (math.RT)\"],[\"Optimization and Control (math.OC)\"],[\"Analysis of PDEs (math.AP)\"],[\"Differential Geometry (math.DG)\"],[\"Combinatorics (math.CO)\"],[\"Dynamical Systems (math.DS)\"],[\"Operator Algebras (math.OA)\"],[\"Mathematical Physics (math-ph)\"],[\"Algebraic Geometry (math.AG)\"],[\"Logic (math.LO)\"],[\"Number Theory (math.NT)\"],[\"Combinatorics (math.CO)\"],[\"Analysis of PDEs (math.AP)\"],[\"Number Theory (math.NT)\"],[\"Dynamical Systems (math.DS)\"],[\"Numerical Analysis (math.NA)\"],[\"Differential Geometry (math.DG)\"],[\"Quantum Algebra (math.QA)\"],[\"Optimization and Control (math.OC)\"],[\"Quantum Algebra (math.QA)\"],[\"Quantum Algebra (math.QA)\"],[\"Information Theory (cs.IT)\"],[\"Numerical Analysis (math.NA)\"],[\"Combinatorics (math.CO)\"],[\"Representation Theory (math.RT)\"],[\"Optimization and Control (math.OC)\"],[\"Classical Analysis and ODEs (math.CA)\"],[\"Probability (math.PR)\"],[\"Analysis of PDEs (math.AP)\"],[\"Optimization and Control (math.OC)\"],[\"Combinatorics (math.CO)\"],[\"Representation Theory (math.RT)\"],[\"Numerical Analysis (math.NA)\"],[\"Combinatorics (math.CO)\"],[\"Number Theory (math.NT)\"],[\"Numerical Analysis (math.NA)\"],[\"Functional Analysis (math.FA)\"],[\"Mathematical Physics (math-ph)\"],[\"Optimization and Control (math.OC)\"],[\"Algebraic Geometry (math.AG)\"],[\"Rings and Algebras (math.RA)\"],[\"Commutative Algebra (math.AC)\"],[\"Algebraic Geometry (math.AG)\"],[\"Geometric Topology (math.GT)\"],[\"Analysis of PDEs (math.AP)\"],[\"Statistics Theory (math.ST)\"],[\"Number Theory (math.NT)\"],[\"Differential Geometry (math.DG)\"],[\"Functional Analysis (math.FA)\"],[\"Combinatorics (math.CO)\"],[\"Analysis of PDEs (math.AP)\"],[\"Optimization and Control (math.OC)\"],[\"Functional Analysis (math.FA)\"],[\"Algebraic Geometry (math.AG)\"],[\"Mathematical Physics (math-ph)\"],[\"Complex Variables (math.CV)\"],[\"Operator Algebras (math.OA)\"],[\"Classical Analysis and ODEs (math.CA)\"],[\"Dynamical Systems (math.DS)\"],[\"Numerical Analysis (math.NA)\"],[\"Dynamical Systems (math.DS)\"],[\"Metric Geometry (math.MG)\"],[\"Numerical Analysis (math.NA)\"],[\"Differential Geometry (math.DG)\"],[\"Analysis of PDEs (math.AP)\"],[\"Information Theory (cs.IT)\"],[\"Dynamical Systems (math.DS)\"],[\"Dynamical Systems (math.DS)\"],[\"Statistics Theory (math.ST)\"],[\"Rings and Algebras (math.RA)\"],[\"Numerical Analysis (math.NA)\"],[\"Numerical Analysis (math.NA)\"],[\"Dynamical Systems (math.DS)\"],[\"Statistics Theory (math.ST)\"],[\"Combinatorics (math.CO)\"],[\"Analysis of PDEs (math.AP)\"],[\"Dynamical Systems (math.DS)\"],[\"Optimization and Control (math.OC)\"],[\"Number Theory (math.NT)\"],[\"Probability (math.PR)\"],[\"Differential Geometry (math.DG)\"],[\"Information Theory (cs.IT)\"],[\"Statistics Theory (math.ST)\"],[\"Dynamical Systems (math.DS)\"],[\"Category Theory (math.CT)\"],[\"Representation Theory (math.RT)\"],[\"Probability (math.PR)\"],[\"Number Theory (math.NT)\"],[\"Combinatorics (math.CO)\"],[\"Differential Geometry (math.DG)\"],[\"Number Theory (math.NT)\"],[\"Commutative Algebra (math.AC)\"],[\"Probability (math.PR)\"],[\"Representation Theory (math.RT)\"],[\"Number Theory (math.NT)\"],[\"Optimization and Control (math.OC)\"],[\"Number Theory (math.NT)\"],[\"Optimization and Control (math.OC)\"],[\"Rings and Algebras (math.RA)\"],[\"Classical Analysis and ODEs (math.CA)\"],[\"Probability (math.PR)\"],[\"Numerical Analysis (math.NA)\"],[\"Information Theory (cs.IT)\"],[\"Group Theory (math.GR)\"],[\"Combinatorics (math.CO)\"],[\"Information Theory (cs.IT)\"],[\"Geometric Topology (math.GT)\"],[\"Number Theory (math.NT)\"],[\"Optimization and Control (math.OC)\"],[\"Combinatorics (math.CO)\"],[\"Statistics Theory (math.ST)\"],[\"Rings and Algebras (math.RA)\"],[\"Number Theory (math.NT)\"],[\"Rings and Algebras (math.RA)\"],[\"Information Theory (cs.IT)\"],[\"Analysis of PDEs (math.AP)\"],[\"Optimization and Control (math.OC)\"],[\"Combinatorics (math.CO)\"],[\"Differential Geometry (math.DG)\"],[\"Differential Geometry (math.DG)\"],[\"Representation Theory (math.RT)\"],[\"Commutative Algebra (math.AC)\"],[\"Combinatorics (math.CO)\"],[\"Analysis of PDEs (math.AP)\"],[\"Analysis of PDEs (math.AP)\"],[\"Algebraic Topology (math.AT)\"],[\"Statistics Theory (math.ST)\"],[\"Group Theory (math.GR)\"],[\"Analysis of PDEs (math.AP)\"],[\"Information Theory (cs.IT)\"],[\"Dynamical Systems (math.DS)\"],[\"Symplectic Geometry (math.SG)\"],[\"Dynamical Systems (math.DS)\"],[\"Category Theory (math.CT)\"],[\"Probability (math.PR)\"],[\"Rings and Algebras (math.RA)\"],[\"Algebraic Geometry (math.AG)\"],[\"Combinatorics (math.CO)\"],[\"Combinatorics (math.CO)\"],[\"Differential Geometry (math.DG)\"],[\"Signal Processing (eess.SP)\"],[\"Machine Learning (cs.LG)\"],[\"Physics and Society (physics.soc-ph)\"],[\"Classical Physics (physics.class-ph)\"],[\"Methodology (stat.ME)\"],[\"High Energy Physics - Theory (hep-th)\"],[\"High Energy Physics - Phenomenology (hep-ph)\"],[\"Computational Complexity (cs.CC)\"],[\"Computation and Language (cs.CL)\"],[\"Signal Processing (eess.SP)\"],[\"Mathematical Finance (q-fin.MF)\"],[\"Data Structures and Algorithms (cs.DS)\"],[\"Statistical Mechanics (cond-mat.stat-mech)\"],[\"Adaptation and Self-Organizing Systems (nlin.AO)\"],[\"Fluid Dynamics (physics.flu-dyn)\"],[\"Adaptation and Self-Organizing Systems (nlin.AO)\"],[\"Populations and Evolution (q-bio.PE)\"],[\"Computer Vision and Pattern Recognition (cs.CV)\"],[\"Methodology (stat.ME)\"],[\"Computational Geometry (cs.CG)\"],[\"Methodology (stat.ME)\"],[\"Systems and Control (eess.SY)\"],[\"General Relativity and Quantum Cosmology (gr-qc)\"],[\"Machine Learning (cs.LG)\"],[\"General Relativity and Quantum Cosmology (gr-qc)\"],[\"High Energy Physics - Theory (hep-th)\"],[\"Strongly Correlated Electrons (cond-mat.str-el)\"],[\"Discrete Mathematics (cs.DM)\"],[\"Machine Learning (cs.LG)\"],[\"High Energy Physics - Theory (hep-th)\"],[\"Quantum Physics (quant-ph)\"],[\"General Relativity and Quantum Cosmology (gr-qc)\"],[\"Machine Learning (stat.ML)\"],[\"Statistical Mechanics (cond-mat.stat-mech)\"],[\"Quantum Physics (quant-ph)\"],[\"High Energy Physics - Theory (hep-th)\"],[\"Quantum Physics (quant-ph)\"],[\"Quantum Physics (quant-ph)\"],[\"Machine Learning (cs.LG)\"],[\"Computation and Language (cs.CL)\"],[\"Systems and Control (eess.SY)\"],[\"Machine Learning (cs.LG)\"],[\"Logic in Computer Science (cs.LO)\"],[\"Machine Learning (stat.ML)\"],[\"Physics and Society (physics.soc-ph)\"]],\"hovertemplate\":\"y=math\\u003cbr\\u003eumap-2d-one=%{x}\\u003cbr\\u003eumap-2d-two=%{y}\\u003cbr\\u003ey_long=%{customdata[0]}\\u003cextra\\u003e\\u003c\\u002fextra\\u003e\",\"legendgroup\":\"math\",\"marker\":{\"color\":\"#66c2a5\",\"symbol\":\"circle\",\"opacity\":0.5,\"size\":5},\"mode\":\"markers\",\"name\":\"math\",\"showlegend\":true,\"x\":[7.688233375549316,5.61127233505249,6.564746379852295,7.422717571258545,7.322963714599609,5.249547958374023,7.693170547485352,6.729604721069336,7.368607997894287,7.139404296875,7.051519393920898,6.974527359008789,6.160121917724609,7.207972526550293,7.373195171356201,5.994335651397705,7.437640190124512,8.247398376464844,4.653461456298828,7.843667507171631,7.767531871795654,7.908534049987793,5.696839809417725,7.647481441497803,7.666820526123047,6.4317545890808105,6.534183025360107,6.377248764038086,6.75798225402832,6.349685192108154,7.7337446212768555,7.589854717254639,5.411734580993652,7.410621643066406,7.308933734893799,6.122330665588379,6.8798909187316895,7.59705114364624,3.752311944961548,7.7770538330078125,7.798211097717285,7.791850566864014,6.995268821716309,7.2437357902526855,6.370959281921387,5.964684963226318,7.327940464019775,7.451430797576904,7.0999579429626465,7.363521099090576,6.689730167388916,5.445852279663086,7.02259635925293,7.632761001586914,7.810054302215576,7.394128799438477,7.764691352844238,7.177649974822998,6.44496488571167,5.893060207366943,6.19963264465332,7.0057549476623535,8.136558532714844,6.912729263305664,6.211131572723389,7.819431304931641,5.697669506072998,7.259162902832031,6.106160640716553,7.7265520095825195,8.241965293884277,8.24257755279541,6.402298927307129,5.653454780578613,7.374998092651367,6.554262638092041,6.593850135803223,6.291201591491699,7.28336238861084,6.3017096519470215,7.408783912658691,4.01962947845459,6.476783275604248,6.364165782928467,7.063802242279053,7.89901876449585,6.240636348724365,7.444167613983154,7.9253644943237305,7.516197204589844,7.4335408210754395,7.323966979980469,6.508342742919922,7.416937828063965,7.593438625335693,5.511325836181641,6.994844913482666,4.9171013832092285,7.549036979675293,6.927774906158447,6.498890399932861,6.295332908630371,4.375446319580078,7.4481587409973145,7.746033191680908,3.6723437309265137,7.451957702636719,7.761085510253906,4.060070991516113,7.494113445281982,5.750853538513184,7.9632248878479,7.351170539855957,7.7136640548706055,7.8597798347473145,5.67365026473999,3.360175848007202,7.473483085632324,7.390613555908203,7.5004143714904785,8.090288162231445,7.5234575271606445,7.5588274002075195,7.215784549713135,6.457952976226807,6.828495025634766,6.117852687835693,7.1833271980285645,5.290884971618652,7.829232215881348,5.460429668426514,7.359127044677734,6.792215824127197,7.759430885314941,6.473207473754883,7.755467414855957,7.821071147918701,7.92698860168457,6.753777980804443,7.5142974853515625,5.278342247009277,4.089244842529297,4.733662128448486,7.58939790725708,5.6432085037231445,7.464432716369629,6.874783515930176,4.958503246307373,2.121778726577759,5.187352657318115,6.22135591506958,5.940967082977295,5.693515777587891,4.828493595123291,5.931758880615234,4.7708210945129395,5.129977703094482,4.4026570320129395,5.902362823486328,6.934081554412842,6.022058963775635,4.34470796585083,7.393133640289307,5.354115962982178,7.728332042694092,6.63425350189209,5.563506603240967,7.42868709564209,5.216504096984863,6.8631591796875,5.187654495239258,7.548918724060059,5.581857204437256,5.69359016418457,6.5265116691589355,8.061470985412598,8.256342887878418,3.7710154056549072,3.9271585941314697,7.3989152908325195,4.154096603393555,4.842956066131592,7.388649940490723,5.17199182510376,4.835964679718018],\"xaxis\":\"x\",\"y\":[8.782878875732422,8.709175109863281,8.199857711791992,9.49397087097168,8.027005195617676,8.232928276062012,8.867472648620605,8.990021705627441,8.85250186920166,8.413605690002441,8.796459197998047,9.2199068069458,8.956097602844238,8.459919929504395,8.961763381958008,8.850114822387695,9.198060989379883,8.843637466430664,6.705689907073975,8.904866218566895,8.752169609069824,7.971624374389648,7.188976764678955,9.137935638427734,8.819855690002441,8.133455276489258,8.232983589172363,8.498534202575684,8.425678253173828,8.000320434570312,8.453807830810547,8.993658065795898,9.046476364135742,8.571296691894531,8.365551948547363,8.825441360473633,8.491171836853027,9.161848068237305,7.6765522956848145,8.98391056060791,8.910202026367188,8.850863456726074,8.962004661560059,8.867321014404297,8.704227447509766,6.767984867095947,8.043951988220215,9.548775672912598,8.473902702331543,8.918795585632324,8.76984691619873,7.726255893707275,8.379777908325195,8.825268745422363,9.833459854125977,8.622621536254883,8.747437477111816,8.263998985290527,8.292916297912598,8.732447624206543,7.988930702209473,8.676346778869629,8.499580383300781,8.459644317626953,8.904691696166992,8.177931785583496,8.2464017868042,9.36085319519043,7.213083267211914,8.5109281539917,8.40587329864502,8.381789207458496,8.149637222290039,8.040079116821289,8.451144218444824,8.648667335510254,8.610881805419922,7.812555313110352,8.29722785949707,7.440980911254883,9.23125171661377,7.993556976318359,7.697778701782227,8.121782302856445,8.872547149658203,8.728087425231934,8.324732780456543,8.722062110900879,8.570425987243652,9.116097450256348,8.82923698425293,8.601829528808594,8.284566879272461,8.642467498779297,8.767894744873047,7.308032512664795,8.14111328125,7.39606237411499,8.99538803100586,8.503193855285645,7.513870716094971,7.812260150909424,8.935356140136719,8.59129810333252,8.111379623413086,7.8770294189453125,9.114248275756836,9.141499519348145,7.155650615692139,8.406807899475098,7.22331428527832,9.002826690673828,8.734047889709473,8.694995880126953,7.928200721740723,8.88364315032959,7.412531852722168,8.278039932250977,9.532222747802734,9.373995780944824,8.87318229675293,8.828116416931152,8.431673049926758,8.685463905334473,8.412885665893555,8.667647361755371,7.356522560119629,8.642195701599121,10.129779815673828,7.945857048034668,8.193363189697266,9.09787654876709,8.719197273254395,8.6906099319458,7.3373847007751465,8.8372163772583,8.73790168762207,8.88167953491211,8.02707290649414,9.291412353515625,5.722891330718994,6.369467735290527,7.338673114776611,10.774316787719727,6.969841480255127,9.264959335327148,10.402069091796875,6.551790714263916,4.605507850646973,5.7673563957214355,7.698843479156494,6.776157855987549,8.383569717407227,7.714530944824219,9.603179931640625,7.69827938079834,7.248412132263184,5.140931606292725,6.493169784545898,8.310603141784668,6.450118064880371,7.479697227478027,9.741410255432129,6.435650825500488,9.846338272094727,9.15420913696289,11.340310096740723,7.918936252593994,7.02427864074707,9.169472694396973,9.177001953125,9.539141654968262,7.941348552703857,8.421072006225586,8.118606567382812,8.661828994750977,8.878045082092285,7.655479907989502,5.344693183898926,8.055951118469238,7.27770471572876,6.551469326019287,8.082743644714355,6.253242015838623,7.730628967285156],\"yaxis\":\"y\",\"type\":\"scattergl\"},{\"customdata\":[[\"Computational Engineering, Finance, and Science (cs.CE)\"],[\"Computer Vision and Pattern Recognition (cs.CV)\"],[\"Machine Learning (cs.LG)\"],[\"Computer Vision and Pattern Recognition (cs.CV)\"],[\"Computer Vision and Pattern Recognition (cs.CV)\"],[\"Computer Vision and Pattern Recognition (cs.CV)\"],[\"Computer Vision and Pattern Recognition (cs.CV)\"],[\"Computer Vision and Pattern Recognition (cs.CV)\"],[\"Computer Vision and Pattern Recognition (cs.CV)\"],[\"Computer Vision and Pattern Recognition (cs.CV)\"],[\"Computer Vision and Pattern Recognition (cs.CV)\"],[\"Computer Vision and Pattern Recognition (cs.CV)\"],[\"Computer Vision and Pattern Recognition (cs.CV)\"],[\"Computer Vision and Pattern Recognition (cs.CV)\"],[\"Computer Vision and Pattern Recognition (cs.CV)\"],[\"Computer Vision and Pattern Recognition (cs.CV)\"],[\"Computer Vision and Pattern Recognition (cs.CV)\"],[\"Computer Vision and Pattern Recognition (cs.CV)\"],[\"Machine Learning (cs.LG)\"],[\"Computer Vision and Pattern Recognition (cs.CV)\"],[\"Computer Vision and Pattern Recognition (cs.CV)\"],[\"Machine Learning (cs.LG)\"],[\"Computer Vision and Pattern Recognition (cs.CV)\"],[\"Computer Vision and Pattern Recognition (cs.CV)\"],[\"Computer Vision and Pattern Recognition (cs.CV)\"],[\"Machine Learning (cs.LG)\"],[\"Computer Vision and Pattern Recognition (cs.CV)\"],[\"Machine Learning (cs.LG)\"],[\"Computer Vision and Pattern Recognition (cs.CV)\"],[\"Machine Learning (cs.LG)\"],[\"Computer Vision and Pattern Recognition (cs.CV)\"],[\"Computer Vision and Pattern Recognition (cs.CV)\"],[\"Distributed, Parallel, and Cluster Computing (cs.DC)\"],[\"Computer Vision and Pattern Recognition (cs.CV)\"],[\"Computer Vision and Pattern Recognition (cs.CV)\"],[\"Computer Vision and Pattern Recognition (cs.CV)\"],[\"Computer Vision and Pattern Recognition (cs.CV)\"],[\"Computer Vision and Pattern Recognition (cs.CV)\"],[\"Computer Vision and Pattern Recognition (cs.CV)\"],[\"Computer Vision and Pattern Recognition (cs.CV)\"],[\"Machine Learning (cs.LG)\"],[\"Computer Vision and Pattern Recognition (cs.CV)\"],[\"Computer Vision and Pattern Recognition (cs.CV)\"],[\"Computer Vision and Pattern Recognition (cs.CV)\"],[\"Computer Vision and Pattern Recognition (cs.CV)\"],[\"Machine Learning (cs.LG)\"],[\"Machine Learning (cs.LG)\"],[\"Computer Vision and Pattern Recognition (cs.CV)\"],[\"Computer Vision and Pattern Recognition (cs.CV)\"],[\"Computer Vision and Pattern Recognition (cs.CV)\"],[\"Computer Vision and Pattern Recognition (cs.CV)\"],[\"Computation and Language (cs.CL)\"],[\"Artificial Intelligence (cs.AI)\"],[\"Machine Learning (cs.LG)\"],[\"Computer Vision and Pattern Recognition (cs.CV)\"],[\"Computer Vision and Pattern Recognition (cs.CV)\"],[\"Machine Learning (cs.LG)\"],[\"Robotics (cs.RO)\"],[\"Software Engineering (cs.SE)\"],[\"Systems and Control (eess.SY)\"],[\"Cryptography and Security (cs.CR)\"],[\"Machine Learning (cs.LG)\"],[\"Computer Science and Game Theory (cs.GT)\"],[\"Computers and Society (cs.CY)\"],[\"Computation and Language (cs.CL)\"],[\"Computer Vision and Pattern Recognition (cs.CV)\"],[\"Computer Vision and Pattern Recognition (cs.CV)\"],[\"Computational Complexity (cs.CC)\"],[\"Machine Learning (cs.LG)\"],[\"Artificial Intelligence (cs.AI)\"],[\"Computers and Society (cs.CY)\"],[\"Computer Vision and Pattern Recognition (cs.CV)\"],[\"Computation and Language (cs.CL)\"],[\"Numerical Analysis (math.NA)\"],[\"Computer Vision and Pattern Recognition (cs.CV)\"],[\"Computer Vision and Pattern Recognition (cs.CV)\"],[\"Robotics (cs.RO)\"],[\"Computer Vision and Pattern Recognition (cs.CV)\"],[\"Machine Learning (cs.LG)\"],[\"Multiagent Systems (cs.MA)\"],[\"Computer Vision and Pattern Recognition (cs.CV)\"],[\"Machine Learning (cs.LG)\"],[\"Computer Vision and Pattern Recognition (cs.CV)\"],[\"Information Theory (cs.IT)\"],[\"Computation and Language (cs.CL)\"],[\"Computational Geometry (cs.CG)\"],[\"Computer Vision and Pattern Recognition (cs.CV)\"],[\"Numerical Analysis (math.NA)\"],[\"Databases (cs.DB)\"],[\"Machine Learning (cs.LG)\"],[\"Machine Learning (cs.LG)\"],[\"Computation and Language (cs.CL)\"],[\"Data Structures and Algorithms (cs.DS)\"],[\"Networking and Internet Architecture (cs.NI)\"],[\"Mathematical Software (cs.MS)\"],[\"Computer Vision and Pattern Recognition (cs.CV)\"],[\"Machine Learning (cs.LG)\"],[\"Databases (cs.DB)\"],[\"Computation and Language (cs.CL)\"],[\"Robotics (cs.RO)\"],[\"Machine Learning (cs.LG)\"],[\"Computation and Language (cs.CL)\"],[\"Machine Learning (cs.LG)\"],[\"Artificial Intelligence (cs.AI)\"],[\"Computational Complexity (cs.CC)\"],[\"Computation and Language (cs.CL)\"],[\"Computation and Language (cs.CL)\"],[\"Computer Vision and Pattern Recognition (cs.CV)\"],[\"Software Engineering (cs.SE)\"],[\"Computers and Society (cs.CY)\"],[\"Computational Engineering, Finance, and Science (cs.CE)\"],[\"Computer Vision and Pattern Recognition (cs.CV)\"],[\"Hardware Architecture (cs.AR)\"],[\"Systems and Control (eess.SY)\"],[\"Computer Vision and Pattern Recognition (cs.CV)\"],[\"Machine Learning (cs.LG)\"],[\"Machine Learning (cs.LG)\"],[\"Operating Systems (cs.OS)\"],[\"Computation and Language (cs.CL)\"],[\"Computer Vision and Pattern Recognition (cs.CV)\"],[\"Computer Vision and Pattern Recognition (cs.CV)\"],[\"Numerical Analysis (math.NA)\"],[\"Computer Vision and Pattern Recognition (cs.CV)\"],[\"Computer Vision and Pattern Recognition (cs.CV)\"],[\"Computational Engineering, Finance, and Science (cs.CE)\"],[\"Computer Vision and Pattern Recognition (cs.CV)\"],[\"Computer Vision and Pattern Recognition (cs.CV)\"],[\"Computers and Society (cs.CY)\"],[\"Networking and Internet Architecture (cs.NI)\"],[\"Numerical Analysis (math.NA)\"],[\"Computer Vision and Pattern Recognition (cs.CV)\"],[\"Artificial Intelligence (cs.AI)\"],[\"Machine Learning (cs.LG)\"],[\"Computer Vision and Pattern Recognition (cs.CV)\"],[\"Computation and Language (cs.CL)\"],[\"Systems and Control (eess.SY)\"],[\"Computer Vision and Pattern Recognition (cs.CV)\"],[\"Computer Vision and Pattern Recognition (cs.CV)\"],[\"Computer Vision and Pattern Recognition (cs.CV)\"],[\"Computer Vision and Pattern Recognition (cs.CV)\"],[\"Emerging Technologies (cs.ET)\"],[\"Computation and Language (cs.CL)\"],[\"Machine Learning (cs.LG)\"],[\"Information Retrieval (cs.IR)\"],[\"Computation and Language (cs.CL)\"],[\"Computer Vision and Pattern Recognition (cs.CV)\"],[\"Computation and Language (cs.CL)\"],[\"Cryptography and Security (cs.CR)\"],[\"Artificial Intelligence (cs.AI)\"],[\"Cryptography and Security (cs.CR)\"],[\"Computer Vision and Pattern Recognition (cs.CV)\"],[\"Computation and Language (cs.CL)\"],[\"Machine Learning (cs.LG)\"],[\"Computer Vision and Pattern Recognition (cs.CV)\"],[\"Robotics (cs.RO)\"],[\"Robotics (cs.RO)\"],[\"Computer Vision and Pattern Recognition (cs.CV)\"],[\"Computer Vision and Pattern Recognition (cs.CV)\"],[\"Distributed, Parallel, and Cluster Computing (cs.DC)\"],[\"Computer Vision and Pattern Recognition (cs.CV)\"],[\"Computer Vision and Pattern Recognition (cs.CV)\"],[\"Computation and Language (cs.CL)\"],[\"Machine Learning (cs.LG)\"],[\"Computer Vision and Pattern Recognition (cs.CV)\"],[\"Computer Vision and Pattern Recognition (cs.CV)\"],[\"Computation and Language (cs.CL)\"],[\"Computational Complexity (cs.CC)\"],[\"Distributed, Parallel, and Cluster Computing (cs.DC)\"],[\"Machine Learning (cs.LG)\"],[\"Cryptography and Security (cs.CR)\"],[\"Computer Vision and Pattern Recognition (cs.CV)\"],[\"Computer Vision and Pattern Recognition (cs.CV)\"],[\"Networking and Internet Architecture (cs.NI)\"],[\"Artificial Intelligence (cs.AI)\"],[\"Cryptography and Security (cs.CR)\"],[\"Computer Vision and Pattern Recognition (cs.CV)\"],[\"Computer Vision and Pattern Recognition (cs.CV)\"],[\"Computer Vision and Pattern Recognition (cs.CV)\"],[\"Computational Geometry (cs.CG)\"],[\"Computer Vision and Pattern Recognition (cs.CV)\"],[\"Computer Vision and Pattern Recognition (cs.CV)\"],[\"Artificial Intelligence (cs.AI)\"],[\"Distributed, Parallel, and Cluster Computing (cs.DC)\"],[\"Networking and Internet Architecture (cs.NI)\"],[\"Computer Vision and Pattern Recognition (cs.CV)\"],[\"Social and Information Networks (cs.SI)\"],[\"Networking and Internet Architecture (cs.NI)\"],[\"Software Engineering (cs.SE)\"],[\"Systems and Control (eess.SY)\"],[\"Computational Engineering, Finance, and Science (cs.CE)\"],[\"Computer Vision and Pattern Recognition (cs.CV)\"],[\"Computation and Language (cs.CL)\"],[\"Computer Vision and Pattern Recognition (cs.CV)\"],[\"Computation and Language (cs.CL)\"],[\"Computer Vision and Pattern Recognition (cs.CV)\"],[\"Cryptography and Security (cs.CR)\"],[\"Numerical Analysis (math.NA)\"],[\"Computation and Language (cs.CL)\"],[\"Computer Vision and Pattern Recognition (cs.CV)\"],[\"Numerical Analysis (math.NA)\"],[\"Machine Learning (cs.LG)\"],[\"Computer Vision and Pattern Recognition (cs.CV)\"],[\"Computation and Language (cs.CL)\"],[\"Cryptography and Security (cs.CR)\"],[\"Computer Vision and Pattern Recognition (cs.CV)\"],[\"Computer Vision and Pattern Recognition (cs.CV)\"],[\"Information Theory (cs.IT)\"],[\"Computer Vision and Pattern Recognition (cs.CV)\"],[\"Distributed, Parallel, and Cluster Computing (cs.DC)\"],[\"Computer Vision and Pattern Recognition (cs.CV)\"],[\"Computer Vision and Pattern Recognition (cs.CV)\"],[\"Machine Learning (cs.LG)\"],[\"Artificial Intelligence (cs.AI)\"],[\"Distributed, Parallel, and Cluster Computing (cs.DC)\"],[\"Computer Vision and Pattern Recognition (cs.CV)\"],[\"Computer Vision and Pattern Recognition (cs.CV)\"],[\"Numerical Analysis (math.NA)\"],[\"Numerical Analysis (math.NA)\"],[\"Machine Learning (cs.LG)\"],[\"Machine Learning (cs.LG)\"],[\"Computational Engineering, Finance, and Science (cs.CE)\"],[\"Computer Vision and Pattern Recognition (cs.CV)\"],[\"Cryptography and Security (cs.CR)\"],[\"Discrete Mathematics (cs.DM)\"],[\"Machine Learning (cs.LG)\"],[\"Computer Vision and Pattern Recognition (cs.CV)\"],[\"Machine Learning (cs.LG)\"],[\"Systems and Control (eess.SY)\"],[\"Computer Science and Game Theory (cs.GT)\"],[\"Computer Vision and Pattern Recognition (cs.CV)\"],[\"Systems and Control (eess.SY)\"],[\"Machine Learning (cs.LG)\"],[\"Computer Vision and Pattern Recognition (cs.CV)\"],[\"Machine Learning (cs.LG)\"],[\"Computer Vision and Pattern Recognition (cs.CV)\"],[\"Machine Learning (cs.LG)\"],[\"Cryptography and Security (cs.CR)\"],[\"Graphics (cs.GR)\"],[\"Computer Vision and Pattern Recognition (cs.CV)\"],[\"Computer Vision and Pattern Recognition (cs.CV)\"],[\"Computer Vision and Pattern Recognition (cs.CV)\"],[\"Information Theory (cs.IT)\"],[\"Computer Vision and Pattern Recognition (cs.CV)\"],[\"Programming Languages (cs.PL)\"],[\"Distributed, Parallel, and Cluster Computing (cs.DC)\"],[\"Computer Vision and Pattern Recognition (cs.CV)\"],[\"Social and Information Networks (cs.SI)\"],[\"Computer Vision and Pattern Recognition (cs.CV)\"],[\"Networking and Internet Architecture (cs.NI)\"],[\"Systems and Control (eess.SY)\"],[\"Computation and Language (cs.CL)\"],[\"Computer Vision and Pattern Recognition (cs.CV)\"],[\"Computer Vision and Pattern Recognition (cs.CV)\"],[\"Computer Vision and Pattern Recognition (cs.CV)\"],[\"Information Retrieval (cs.IR)\"],[\"Computer Vision and Pattern Recognition (cs.CV)\"],[\"Computer Vision and Pattern Recognition (cs.CV)\"],[\"Computer Vision and Pattern Recognition (cs.CV)\"],[\"Software Engineering (cs.SE)\"],[\"Computer Vision and Pattern Recognition (cs.CV)\"],[\"Databases (cs.DB)\"],[\"Systems and Control (eess.SY)\"],[\"Computation and Language (cs.CL)\"],[\"Cryptography and Security (cs.CR)\"],[\"Computation and Language (cs.CL)\"],[\"Robotics (cs.RO)\"],[\"Social and Information Networks (cs.SI)\"],[\"Computation and Language (cs.CL)\"],[\"Multiagent Systems (cs.MA)\"],[\"Robotics (cs.RO)\"],[\"Computer Vision and Pattern Recognition (cs.CV)\"],[\"Computation and Language (cs.CL)\"],[\"Robotics (cs.RO)\"],[\"Performance (cs.PF)\"],[\"Software Engineering (cs.SE)\"],[\"Computer Vision and Pattern Recognition (cs.CV)\"],[\"Computer Vision and Pattern Recognition (cs.CV)\"],[\"Numerical Analysis (math.NA)\"],[\"Computation and Language (cs.CL)\"],[\"Information Theory (cs.IT)\"],[\"Distributed, Parallel, and Cluster Computing (cs.DC)\"],[\"Systems and Control (eess.SY)\"],[\"Computer Vision and Pattern Recognition (cs.CV)\"],[\"Computation and Language (cs.CL)\"],[\"Information Theory (cs.IT)\"],[\"Computation and Language (cs.CL)\"],[\"Computer Vision and Pattern Recognition (cs.CV)\"],[\"Machine Learning (cs.LG)\"],[\"Computer Vision and Pattern Recognition (cs.CV)\"],[\"Computer Vision and Pattern Recognition (cs.CV)\"],[\"Distributed, Parallel, and Cluster Computing (cs.DC)\"],[\"Artificial Intelligence (cs.AI)\"],[\"Networking and Internet Architecture (cs.NI)\"],[\"Computer Vision and Pattern Recognition (cs.CV)\"],[\"Computation and Language (cs.CL)\"],[\"Information Theory (cs.IT)\"],[\"Computer Vision and Pattern Recognition (cs.CV)\"],[\"Databases (cs.DB)\"],[\"Information Retrieval (cs.IR)\"],[\"Machine Learning (cs.LG)\"],[\"Systems and Control (eess.SY)\"],[\"Human-Computer Interaction (cs.HC)\"],[\"Software Engineering (cs.SE)\"],[\"Cryptography and Security (cs.CR)\"],[\"Sound (cs.SD)\"],[\"Machine Learning (cs.LG)\"],[\"Machine Learning (cs.LG)\"],[\"Emerging Technologies (cs.ET)\"],[\"Computer Vision and Pattern Recognition (cs.CV)\"],[\"Computer Vision and Pattern Recognition (cs.CV)\"],[\"Computer Vision and Pattern Recognition (cs.CV)\"],[\"Computation and Language (cs.CL)\"],[\"Hardware Architecture (cs.AR)\"],[\"Artificial Intelligence (cs.AI)\"],[\"Computer Vision and Pattern Recognition (cs.CV)\"],[\"Computer Vision and Pattern Recognition (cs.CV)\"],[\"Systems and Control (eess.SY)\"],[\"Robotics (cs.RO)\"],[\"Data Structures and Algorithms (cs.DS)\"],[\"Information Theory (cs.IT)\"],[\"Robotics (cs.RO)\"],[\"Computer Vision and Pattern Recognition (cs.CV)\"],[\"Distributed, Parallel, and Cluster Computing (cs.DC)\"],[\"Formal Languages and Automata Theory (cs.FL)\"],[\"Computer Vision and Pattern Recognition (cs.CV)\"],[\"Hardware Architecture (cs.AR)\"],[\"Machine Learning (cs.LG)\"],[\"Machine Learning (cs.LG)\"],[\"Machine Learning (cs.LG)\"],[\"Computer Vision and Pattern Recognition (cs.CV)\"],[\"Logic in Computer Science (cs.LO)\"],[\"Robotics (cs.RO)\"],[\"Robotics (cs.RO)\"],[\"Data Structures and Algorithms (cs.DS)\"],[\"Machine Learning (cs.LG)\"],[\"Systems and Control (eess.SY)\"],[\"Discrete Mathematics (cs.DM)\"],[\"Computer Vision and Pattern Recognition (cs.CV)\"],[\"Computer Vision and Pattern Recognition (cs.CV)\"],[\"Computer Vision and Pattern Recognition (cs.CV)\"],[\"Distributed, Parallel, and Cluster Computing (cs.DC)\"],[\"Computer Vision and Pattern Recognition (cs.CV)\"],[\"Computation and Language (cs.CL)\"],[\"Computer Vision and Pattern Recognition (cs.CV)\"],[\"Computer Vision and Pattern Recognition (cs.CV)\"],[\"Computer Vision and Pattern Recognition (cs.CV)\"],[\"Computer Vision and Pattern Recognition (cs.CV)\"],[\"Computational Engineering, Finance, and Science (cs.CE)\"],[\"Computer Vision and Pattern Recognition (cs.CV)\"],[\"Systems and Control (eess.SY)\"],[\"Computer Vision and Pattern Recognition (cs.CV)\"],[\"Computer Vision and Pattern Recognition (cs.CV)\"],[\"Graphics (cs.GR)\"],[\"Computer Vision and Pattern Recognition (cs.CV)\"],[\"Computer Vision and Pattern Recognition (cs.CV)\"],[\"Computer Vision and Pattern Recognition (cs.CV)\"],[\"Computer Vision and Pattern Recognition (cs.CV)\"],[\"Systems and Control (eess.SY)\"],[\"Numerical Analysis (math.NA)\"],[\"Physics and Society (physics.soc-ph)\"],[\"Audio and Speech Processing (eess.AS)\"],[\"Quantitative Methods (q-bio.QM)\"],[\"Genomics (q-bio.GN)\"],[\"Cosmology and Nongalactic Astrophysics (astro-ph.CO)\"],[\"Instrumentation and Methods for Astrophysics (astro-ph.IM)\"],[\"High Energy Physics - Experiment (hep-ex)\"],[\"Statistical Mechanics (cond-mat.stat-mech)\"],[\"Logic (math.LO)\"],[\"Number Theory (math.NT)\"],[\"Signal Processing (eess.SP)\"],[\"Image and Video Processing (eess.IV)\"],[\"Optimization and Control (math.OC)\"],[\"Image and Video Processing (eess.IV)\"],[\"Populations and Evolution (q-bio.PE)\"],[\"Quantum Physics (quant-ph)\"],[\"Adaptation and Self-Organizing Systems (nlin.AO)\"],[\"Statistics Theory (math.ST)\"],[\"Quantum Physics (quant-ph)\"],[\"Quantum Physics (quant-ph)\"],[\"Image and Video Processing (eess.IV)\"],[\"Applications (stat.AP)\"],[\"Image and Video Processing (eess.IV)\"],[\"Genomics (q-bio.GN)\"],[\"Optimization and Control (math.OC)\"],[\"Signal Processing (eess.SP)\"],[\"Quantum Physics (quant-ph)\"],[\"Combinatorics (math.CO)\"],[\"Machine Learning (stat.ML)\"],[\"Image and Video Processing (eess.IV)\"],[\"Signal Processing (eess.SP)\"],[\"Image and Video Processing (eess.IV)\"],[\"Optimization and Control (math.OC)\"],[\"Machine Learning (stat.ML)\"],[\"Image and Video Processing (eess.IV)\"],[\"Dynamical Systems (math.DS)\"],[\"Machine Learning (stat.ML)\"],[\"Mesoscale and Nanoscale Physics (cond-mat.mes-hall)\"]],\"hovertemplate\":\"y=cs\\u003cbr\\u003eumap-2d-one=%{x}\\u003cbr\\u003eumap-2d-two=%{y}\\u003cbr\\u003ey_long=%{customdata[0]}\\u003cextra\\u003e\\u003c\\u002fextra\\u003e\",\"legendgroup\":\"cs\",\"marker\":{\"color\":\"#439bb5\",\"symbol\":\"circle\",\"opacity\":0.5,\"size\":5},\"mode\":\"markers\",\"name\":\"cs\",\"showlegend\":true,\"x\":[3.935926914215088,3.113008737564087,4.151410102844238,3.260340690612793,2.398496150970459,2.7976415157318115,3.6039376258850098,3.8331241607666016,2.9695072174072266,3.70320725440979,2.834082841873169,2.7535557746887207,3.4447317123413086,2.8347299098968506,4.170257568359375,2.7045249938964844,2.4132673740386963,3.731478214263916,4.229015350341797,3.2202510833740234,3.6387760639190674,4.057652950286865,3.6784656047821045,3.8394408226013184,4.042749881744385,4.291292190551758,3.430708408355713,2.2645671367645264,3.315570592880249,3.7544984817504883,3.2720096111297607,3.5324347019195557,5.337318420410156,4.021627902984619,3.133288621902466,2.85244083404541,3.384866714477539,3.659627914428711,2.96024489402771,3.6768338680267334,3.091092348098755,2.796940803527832,2.92962908744812,3.398465871810913,3.2551286220550537,3.5011932849884033,3.3621511459350586,2.6625986099243164,2.517385482788086,3.618210554122925,3.967334747314453,2.714254140853882,2.665904998779297,4.410889625549316,2.8960061073303223,3.2344775199890137,4.304434776306152,3.4085419178009033,3.9551610946655273,4.201096534729004,3.4685158729553223,3.1385931968688965,4.598060131072998,3.6024558544158936,2.579955577850342,3.168750524520874,2.8480944633483887,5.071235656738281,5.655767440795898,2.558946132659912,2.9176814556121826,3.3038158416748047,2.1772379875183105,6.008298873901367,2.7392003536224365,3.8218064308166504,3.0700790882110596,4.2538533210754395,5.066796779632568,4.238770484924316,3.9928274154663086,2.796440601348877,3.6400952339172363,7.893080234527588,2.7450106143951416,4.829945087432861,2.642990827560425,5.722609043121338,3.5908541679382324,4.529231071472168,4.022195816040039,2.60901141166687,5.934798717498779,3.346299648284912,5.702474594116211,3.115638256072998,4.951474666595459,4.346474647521973,2.3846261501312256,4.003741264343262,3.4413628578186035,2.383866786956787,4.240866661071777,4.0950608253479,5.1688079833984375,2.5160772800445557,2.199354410171509,2.7049643993377686,3.5098907947540283,5.06558895111084,4.310356616973877,3.8187103271484375,3.7739381790161133,4.315193176269531,3.3516082763671875,4.300720691680908,3.9946465492248535,3.0490286350250244,2.283588171005249,2.2839202880859375,3.2804477214813232,5.43818998336792,2.8715522289276123,2.7642600536346436,4.590657711029053,2.9627301692962646,3.2025516033172607,3.16097354888916,4.13038969039917,6.1244730949401855,3.3896095752716064,2.380586862564087,3.417923927307129,3.133178949356079,2.1966512203216553,3.0930726528167725,3.8767454624176025,2.381559133529663,2.8389389514923096,3.6765873432159424,4.924363136291504,2.2882754802703857,4.249255657196045,3.6308839321136475,2.203009843826294,3.471651554107666,2.3388619422912598,3.6131365299224854,5.1418890953063965,2.8117127418518066,3.6558098793029785,3.0815794467926025,4.301758766174316,2.3747060298919678,2.9612362384796143,2.2007486820220947,4.2445783615112305,3.058335065841675,4.281184673309326,2.830657720565796,3.1218101978302,2.478241205215454,2.9202001094818115,4.335763931274414,2.324592113494873,2.1979448795318604,7.495992660522461,3.916255235671997,4.082035064697266,3.4297611713409424,3.519228458404541,3.523601531982422,3.2497189044952393,3.523052453994751,3.5066378116607666,4.053684234619141,3.52193284034729,3.0626533031463623,6.939699649810791,2.4168481826782227,3.809309244155884,3.455104351043701,3.627896547317505,2.309170961380005,3.5680930614471436,4.357653617858887,3.845780849456787,2.9178977012634277,4.410739898681641,4.902905464172363,3.6866068840026855,2.1659188270568848,3.9476072788238525,2.14123797416687,4.470153331756592,6.192337512969971,5.858375072479248,2.3452236652374268,3.30841064453125,8.226117134094238,4.364358425140381,3.9182538986206055,2.5967001914978027,2.8372085094451904,2.843336820602417,4.040285110473633,7.8793206214904785,3.6962594985961914,4.377564430236816,2.6591100692749023,3.45247745513916,5.3597493171691895,2.143031120300293,3.8209147453308105,3.338019847869873,3.4308223724365234,8.255321502685547,8.236387252807617,3.5803990364074707,4.210323810577393,4.697353363037109,3.42478084564209,3.5510315895080566,7.514890193939209,4.627244472503662,2.8773982524871826,5.172048568725586,4.050858974456787,3.6028194427490234,2.9112651348114014,4.8898115158081055,2.5942797660827637,3.6223745346069336,6.828419208526611,2.3911631107330322,3.041238307952881,3.41483473777771,4.326452732086182,3.776406764984131,3.496746301651001,3.573838472366333,3.9036571979522705,2.4492034912109375,2.547428846359253,3.0810494422912598,3.4049768447875977,2.6761815547943115,3.55145525932312,3.058823823928833,4.060093402862549,2.720144510269165,3.4854094982147217,4.171628475189209,2.4587650299072266,2.5568623542785645,2.730651617050171,3.2170586585998535,3.98595929145813,3.067255973815918,3.5963237285614014,7.441457271575928,6.492730617523193,2.1732702255249023,3.716709852218628,2.95102858543396,3.859144687652588,2.6401588916778564,2.2361319065093994,2.2286763191223145,3.245657205581665,2.8868229389190674,2.357504367828369,3.798302412033081,3.7152581214904785,4.538431167602539,3.5375843048095703,3.156428575515747,6.3968353271484375,2.8458735942840576,4.3693132400512695,5.354609489440918,4.191266059875488,3.147214651107788,2.129572629928589,3.678995370864868,2.2977101802825928,4.595625400543213,3.4065921306610107,4.113472938537598,3.2096707820892334,4.688915729522705,4.768655300140381,3.8955681324005127,3.8419179916381836,2.623491048812866,7.837551116943359,2.693859577178955,4.6955060958862305,2.394102096557617,3.8812415599823,4.423832893371582,2.6003668308258057,3.3124451637268066,4.271437644958496,2.0954713821411133,4.784441947937012,5.229645252227783,3.8016645908355713,3.921328544616699,3.9011728763580322,2.6337711811065674,7.541008472442627,3.7004246711730957,3.884786605834961,3.8227949142456055,3.6672661304473877,4.175056457519531,3.9985015392303467,4.744635105133057,7.840479850769043,2.344078540802002,3.7650461196899414,4.444873332977295,6.266664981842041,2.6111621856689453,4.002026081085205,3.380014657974243,4.800240516662598,4.261457920074463,3.833580493927002,7.486737251281738,3.0932555198669434,3.033282518386841,6.400099754333496,2.9286434650421143,5.520116806030273,3.9350364208221436,4.148075580596924,3.9786527156829834,4.151809215545654,4.7499260902404785,3.310220241546631,3.179934501647949,3.3902361392974854,2.5482590198516846,3.9233133792877197,2.8761892318725586,4.724356174468994,3.8094563484191895,3.9425690174102783,3.5982978343963623,2.4987382888793945,3.1649956703186035,2.5698635578155518,3.344886541366577,3.9621694087982178,2.93713116645813,3.721742630004883,4.20493745803833,4.974859237670898,2.128217935562134,4.41798210144043,4.145533084869385,4.724758625030518,7.895894527435303,4.347499847412109,5.385218620300293,7.212489128112793,6.966892719268799,5.226301193237305,3.6308813095092773,6.507734775543213,3.465067148208618,4.928032398223877,4.880871295928955,4.80886697769165,6.013448238372803,3.7247838973999023,4.644975185394287,3.502439260482788,4.5283026695251465,3.635751724243164,4.6236186027526855,6.327117919921875,3.701784133911133,4.4779205322265625,7.972811222076416,5.671451091766357,3.056800365447998,3.9012229442596436,3.9152672290802,4.02286958694458,5.137398719787598,3.8043739795684814,5.344825267791748,5.1667351722717285,4.3676629066467285],\"xaxis\":\"x\",\"y\":[5.729366779327393,4.953176021575928,6.441987991333008,4.63103723526001,4.904509544372559,5.531876564025879,4.8010969161987305,4.255695343017578,4.598703384399414,4.152806758880615,4.672120571136475,4.8602728843688965,5.098746299743652,4.230803489685059,4.495652198791504,4.773947715759277,5.068276882171631,5.12667179107666,4.867264270782471,4.69072961807251,5.240505218505859,5.498790740966797,4.562534332275391,4.356288909912109,4.858716011047363,5.656457901000977,4.194568157196045,5.346337795257568,4.162893772125244,5.55418062210083,4.914685249328613,4.038603782653809,7.121349334716797,4.424344062805176,4.055224895477295,4.435378074645996,4.151155471801758,4.765561103820801,4.521229267120361,4.083064079284668,5.451350688934326,4.758911609649658,5.014153003692627,4.888394832611084,4.747397422790527,5.675941467285156,5.668330192565918,4.2481865882873535,4.865299701690674,4.829375743865967,4.814366340637207,5.3403167724609375,5.791865348815918,5.9650654792785645,4.357245922088623,4.749453544616699,7.082873344421387,6.664660930633545,5.799496173858643,7.5967183113098145,6.52741813659668,5.003351211547852,7.270097732543945,6.1626081466674805,5.193556308746338,4.779347896575928,4.683638095855713,6.813937187194824,6.319648742675781,5.728860378265381,5.803003311157227,4.934737205505371,4.635567665100098,8.85250186920166,4.4756550788879395,5.126657962799072,6.098999977111816,4.435866832733154,8.466477394104004,6.9323554039001465,6.142407417297363,5.530367374420166,4.211352825164795,7.94125509262085,4.9185686111450195,9.972028732299805,4.68530797958374,7.221978664398193,5.889639377593994,6.943245887756348,6.0893049240112305,4.723905563354492,6.825401782989502,6.460235118865967,7.058030128479004,4.563316345214844,5.850222587585449,6.226559162139893,5.592641830444336,7.454330921173096,5.2308030128479,5.375683784484863,5.539148330688477,6.779313087463379,7.700925350189209,5.462615489959717,4.981184005737305,4.700376033782959,6.458122253417969,7.334334850311279,5.037839889526367,4.447789669036865,6.385918617248535,7.4691925048828125,5.183517932891846,6.132124900817871,5.3580002784729,6.255162239074707,5.098216533660889,4.955022811889648,4.8104987144470215,9.060733795166016,5.302055835723877,4.2696146965026855,6.714285373687744,4.202698230743408,4.903342247009277,5.869107723236084,6.958652973175049,8.868095397949219,4.245717525482178,5.257051944732666,4.933250427246094,4.913564205169678,5.336360454559326,6.211019992828369,5.7191596031188965,5.034373760223389,4.24838924407959,4.9613423347473145,9.036203384399414,5.485387325286865,5.389302730560303,5.453125,4.952628135681152,4.1345624923706055,5.459264755249023,7.156872272491455,7.031500339508057,5.695438861846924,4.475874423980713,5.095913410186768,5.4409871101379395,4.7808332443237305,4.528036117553711,5.030994892120361,5.085364818572998,4.009255886077881,5.321459770202637,4.153797149658203,4.60019588470459,4.92739200592041,5.235745906829834,5.121427059173584,4.723203659057617,5.384024620056152,8.496293067932129,6.636472225189209,5.71002197265625,6.433416843414307,4.612009525299072,5.00750207901001,6.342352390289307,5.869486331939697,6.678714275360107,4.184485912322998,4.006844997406006,4.501151084899902,8.166979789733887,4.761764049530029,5.019692420959473,6.527553081512451,6.898972034454346,5.483550071716309,4.7744221687316895,5.374032974243164,7.910083293914795,5.744668483734131,7.548370838165283,6.753452777862549,4.6272501945495605,5.210031509399414,4.263613224029541,5.119985103607178,5.231674671173096,7.36497163772583,8.638641357421875,5.162715911865234,4.196864128112793,8.55498218536377,6.097609519958496,4.668942928314209,5.2714338302612305,4.8180108070373535,4.5791335105896,4.686610221862793,8.136473655700684,4.519934177398682,6.506408214569092,4.188880920410156,4.026137351989746,6.404605865478516,5.314115047454834,6.722039699554443,4.514214038848877,5.042103290557861,8.392748832702637,8.372480392456055,5.789224147796631,6.908021926879883,7.5229878425598145,4.7670512199401855,6.610661506652832,7.845951080322266,6.302331447601318,4.7969841957092285,6.967865467071533,7.187598705291748,6.695195198059082,4.04612398147583,7.223183631896973,4.839959621429443,4.892054080963135,7.745241641998291,5.118797302246094,5.171422481536865,5.730160713195801,4.367215633392334,5.257236003875732,5.352497577667236,4.351747989654541,7.956201553344727,4.83120059967041,5.898035049438477,6.235313415527344,4.756927490234375,5.340358257293701,4.678927421569824,6.470055103302002,6.8170485496521,5.416821479797363,4.481567859649658,4.54693603515625,4.6618757247924805,5.203649520874023,4.229203701019287,4.673778057098389,4.259887218475342,5.6157917976379395,4.0865020751953125,8.209240913391113,11.817517280578613,4.926749229431152,7.528865814208984,5.346798896789551,7.380196571350098,5.397736072540283,5.244275093078613,5.732095718383789,5.790844440460205,4.856629848480225,5.514103412628174,7.282869815826416,7.811071872711182,8.261674880981445,4.222641468048096,4.717695236206055,7.8457746505737305,5.095958709716797,8.941561698913574,7.030859470367432,7.962756156921387,4.136733531951904,4.4415788650512695,7.880929946899414,5.081352710723877,5.381007194519043,5.352029323577881,4.891057968139648,4.042231559753418,6.901610851287842,7.222012996673584,7.844756126403809,4.24585485458374,5.195899486541748,7.875890731811523,4.612955093383789,6.692949295043945,5.325181484222412,5.498570442199707,7.380873203277588,4.773496150970459,6.0373311042785645,6.29786491394043,4.42727518081665,5.96259069442749,6.670505523681641,6.091610431671143,5.15431022644043,4.239695072174072,4.68832540512085,8.029740333557129,6.13212251663208,6.335310459136963,5.252689361572266,4.142140865325928,7.23328161239624,7.189013957977295,6.250571250915527,7.992062091827393,4.931662082672119,4.412971019744873,5.258037090301514,8.103245735168457,4.634998798370361,5.847759246826172,5.315654277801514,6.530669689178467,5.10157585144043,4.432517051696777,8.127311706542969,5.800373077392578,6.060375213623047,7.431244850158691,5.7608442306518555,7.467678070068359,7.840353965759277,4.4460625648498535,5.599567413330078,4.322926998138428,6.902812957763672,4.265955924987793,5.543116092681885,4.540196418762207,4.70550012588501,4.5695343017578125,4.371431827545166,7.077271938323975,4.2468791007995605,7.451128959655762,3.9937214851379395,4.7710981369018555,3.9748167991638184,5.059470176696777,4.272572040557861,4.8751373291015625,4.941854953765869,6.644699573516846,5.959194660186768,7.360141754150391,4.520010471343994,6.189026832580566,5.4655680656433105,4.683970928192139,11.810894966125488,5.383261680603027,8.85444164276123,8.443519592285156,8.716217994689941,5.704006195068359,4.7268195152282715,8.156893730163574,4.49347448348999,7.1693010330200195,6.5178680419921875,7.737308502197266,6.793302059173584,5.992645263671875,8.530871391296387,4.950523376464844,5.6097211837768555,4.583436012268066,6.224618434906006,7.740046977996826,8.102476119995117,6.074917793273926,8.538824081420898,7.9798903465271,5.325974464416504,8.604990005493164,5.1065802574157715,7.117440700531006,6.1151933670043945,4.80713415145874,8.315228462219238,6.266628742218018,10.013195037841797],\"yaxis\":\"y\",\"type\":\"scattergl\"},{\"customdata\":[[\"Methodology (stat.ME)\"],[\"Methodology (stat.ME)\"],[\"Methodology (stat.ME)\"],[\"Computation (stat.CO)\"],[\"Methodology (stat.ME)\"],[\"Statistics Theory (math.ST)\"],[\"Applications (stat.AP)\"],[\"Methodology (stat.ME)\"],[\"Methodology (stat.ME)\"],[\"Methodology (stat.ME)\"],[\"Applications (stat.AP)\"],[\"Statistics Theory (math.ST)\"],[\"Methodology (stat.ME)\"],[\"Computation (stat.CO)\"],[\"Methodology (stat.ME)\"],[\"Statistics Theory (math.ST)\"],[\"Methodology (stat.ME)\"],[\"Applications (stat.AP)\"],[\"Statistics Theory (math.ST)\"],[\"Machine Learning (stat.ML)\"],[\"Methodology (stat.ME)\"],[\"Statistics Theory (math.ST)\"],[\"Machine Learning (stat.ML)\"],[\"Methodology (stat.ME)\"],[\"Statistics Theory (math.ST)\"],[\"Methodology (stat.ME)\"],[\"Methodology (stat.ME)\"],[\"Machine Learning (stat.ML)\"],[\"Econometrics (econ.EM)\"],[\"Computers and Society (cs.CY)\"],[\"Machine Learning (cs.LG)\"],[\"Econometrics (econ.EM)\"],[\"Computer Vision and Pattern Recognition (cs.CV)\"],[\"Cosmology and Nongalactic Astrophysics (astro-ph.CO)\"],[\"Instrumentation and Methods for Astrophysics (astro-ph.IM)\"],[\"High Energy Physics - Theory (hep-th)\"],[\"Machine Learning (cs.LG)\"],[\"Risk Management (q-fin.RM)\"],[\"Machine Learning (cs.LG)\"],[\"Machine Learning (cs.LG)\"],[\"Machine Learning (cs.LG)\"],[\"Artificial Intelligence (cs.AI)\"],[\"Machine Learning (cs.LG)\"],[\"Machine Learning (cs.LG)\"],[\"Systems and Control (eess.SY)\"],[\"Computer Vision and Pattern Recognition (cs.CV)\"],[\"Machine Learning (cs.LG)\"],[\"Machine Learning (cs.LG)\"],[\"Data Structures and Algorithms (cs.DS)\"],[\"Machine Learning (cs.LG)\"]],\"hovertemplate\":\"y=stat\\u003cbr\\u003eumap-2d-one=%{x}\\u003cbr\\u003eumap-2d-two=%{y}\\u003cbr\\u003ey_long=%{customdata[0]}\\u003cextra\\u003e\\u003c\\u002fextra\\u003e\",\"legendgroup\":\"stat\",\"marker\":{\"color\":\"#4175b4\",\"symbol\":\"circle\",\"opacity\":0.5,\"size\":5},\"mode\":\"markers\",\"name\":\"stat\",\"showlegend\":true,\"x\":[5.29506778717041,5.733793258666992,5.533073425292969,5.568495750427246,4.966389179229736,5.972031593322754,4.604852199554443,5.933256149291992,5.902125835418701,6.002459526062012,4.582966327667236,6.166524410247803,5.033685684204102,5.494335174560547,6.2023444175720215,5.731948375701904,5.9950737953186035,5.926512718200684,6.506507396697998,5.70698881149292,5.3114399909973145,5.751200199127197,5.141287803649902,5.568978786468506,6.198293209075928,5.780599117279053,5.5267815589904785,5.131396293640137,6.008247375488281,6.088012218475342,4.759599208831787,6.036433696746826,3.9754538536071777,4.815164089202881,7.921185493469238,7.451229095458984,4.410285949707031,5.665481090545654,4.950265884399414,4.2605438232421875,4.4283952713012695,3.478999376296997,5.336042881011963,5.224546432495117,4.928065299987793,4.588738918304443,4.712865352630615,5.093301773071289,4.797998428344727,4.860355854034424],\"xaxis\":\"x\",\"y\":[5.807200908660889,7.729946136474609,7.005037784576416,6.475634574890137,6.751340866088867,6.686432361602783,7.010910987854004,6.441279411315918,6.4726457595825195,6.413017272949219,5.596709251403809,7.181547164916992,6.300480842590332,6.454148769378662,6.837038040161133,7.991932392120361,6.65303373336792,6.520088195800781,7.683074474334717,8.019939422607422,6.183223247528076,7.194011688232422,6.162191390991211,6.591230869293213,7.2490153312683105,6.369574069976807,6.616762161254883,6.250443458557129,6.719449520111084,6.596900463104248,5.516546726226807,6.83909797668457,4.185013771057129,4.727628231048584,11.817620277404785,9.274839401245117,5.917788028717041,6.718867778778076,5.981934070587158,5.564586162567139,6.0754008293151855,5.906433582305908,6.378293514251709,6.86790657043457,7.1478776931762695,5.347238540649414,5.975085735321045,6.619504928588867,6.238368034362793,6.532085418701172],\"yaxis\":\"y\",\"type\":\"scattergl\"},{\"customdata\":[[\"Audio and Speech Processing (eess.AS)\"],[\"Systems and Control (eess.SY)\"],[\"Signal Processing (eess.SP)\"],[\"Image and Video Processing (eess.IV)\"],[\"Systems and Control (eess.SY)\"],[\"Image and Video Processing (eess.IV)\"],[\"Systems and Control (eess.SY)\"],[\"Audio and Speech Processing (eess.AS)\"],[\"Systems and Control (eess.SY)\"],[\"Image and Video Processing (eess.IV)\"],[\"Image and Video Processing (eess.IV)\"],[\"Systems and Control (eess.SY)\"],[\"Systems and Control (eess.SY)\"],[\"Signal Processing (eess.SP)\"],[\"Systems and Control (eess.SY)\"],[\"Systems and Control (eess.SY)\"],[\"Image and Video Processing (eess.IV)\"],[\"Signal Processing (eess.SP)\"],[\"Signal Processing (eess.SP)\"],[\"Systems and Control (eess.SY)\"],[\"Image and Video Processing (eess.IV)\"],[\"Systems and Control (eess.SY)\"],[\"Image and Video Processing (eess.IV)\"],[\"Systems and Control (eess.SY)\"],[\"Systems and Control (eess.SY)\"],[\"Systems and Control (eess.SY)\"],[\"Machine Learning (cs.LG)\"],[\"Medical Physics (physics.med-ph)\"],[\"Machine Learning (cs.LG)\"],[\"Computation and Language (cs.CL)\"],[\"Computer Vision and Pattern Recognition (cs.CV)\"],[\"Computer Vision and Pattern Recognition (cs.CV)\"],[\"Computer Vision and Pattern Recognition (cs.CV)\"],[\"Computer Vision and Pattern Recognition (cs.CV)\"],[\"Optimization and Control (math.OC)\"],[\"Information Theory (cs.IT)\"],[\"Networking and Internet Architecture (cs.NI)\"],[\"Computer Vision and Pattern Recognition (cs.CV)\"],[\"Information Theory (cs.IT)\"],[\"Computation and Language (cs.CL)\"],[\"Information Theory (cs.IT)\"],[\"Sound (cs.SD)\"],[\"Machine Learning (cs.LG)\"]],\"hovertemplate\":\"y=eess\\u003cbr\\u003eumap-2d-one=%{x}\\u003cbr\\u003eumap-2d-two=%{y}\\u003cbr\\u003ey_long=%{customdata[0]}\\u003cextra\\u003e\\u003c\\u002fextra\\u003e\",\"legendgroup\":\"eess\",\"marker\":{\"color\":\"#5e4fa2\",\"symbol\":\"circle\",\"opacity\":0.5,\"size\":5},\"mode\":\"markers\",\"name\":\"eess\",\"showlegend\":true,\"x\":[2.1258091926574707,4.247864723205566,5.241524696350098,3.763537883758545,4.299328327178955,3.715818166732788,3.1198270320892334,2.033196449279785,4.372640609741211,3.671717643737793,3.5934548377990723,4.087276458740234,4.950296401977539,3.717026948928833,4.041865348815918,6.473049163818359,2.8564908504486084,4.361205101013184,3.8866610527038574,4.140267372131348,4.0050368309021,4.352251052856445,3.8412582874298096,4.114017486572266,5.466513156890869,3.9460256099700928,4.086361408233643,4.034955978393555,3.111052989959717,2.584334373474121,3.9868781566619873,3.861574172973633,3.55501651763916,3.557765245437622,6.324527740478516,3.9709858894348145,3.0611069202423096,2.7712743282318115,4.4064621925354,2.111560106277466,3.658895969390869,2.0717520713806152,4.929209232330322],\"xaxis\":\"x\",\"y\":[4.4717793464660645,7.592225551605225,5.714930057525635,4.842432975769043,7.50799560546875,4.543270587921143,6.218626022338867,4.498925685882568,7.604769229888916,4.929195880889893,4.600271224975586,7.136003494262695,7.25093936920166,8.152779579162598,6.806482791900635,11.84054183959961,5.323081970214844,8.873449325561523,8.610700607299805,7.957214832305908,5.130337715148926,7.422284126281738,4.810662269592285,7.257838249206543,7.505702018737793,7.373013019561768,6.401591777801514,8.899331092834473,5.167987823486328,5.218304634094238,5.118515491485596,6.14914608001709,4.399763584136963,4.758781433105469,7.7859954833984375,8.057162284851074,6.407241344451904,4.161231994628906,8.931796073913574,4.463504791259766,7.932497501373291,4.4494309425354,6.625024795532227],\"yaxis\":\"y\",\"type\":\"scattergl\"}],                        {\"template\":{\"data\":{\"histogram2dcontour\":[{\"type\":\"histogram2dcontour\",\"colorbar\":{\"outlinewidth\":0,\"ticks\":\"\"},\"colorscale\":[[0.0,\"#0d0887\"],[0.1111111111111111,\"#46039f\"],[0.2222222222222222,\"#7201a8\"],[0.3333333333333333,\"#9c179e\"],[0.4444444444444444,\"#bd3786\"],[0.5555555555555556,\"#d8576b\"],[0.6666666666666666,\"#ed7953\"],[0.7777777777777778,\"#fb9f3a\"],[0.8888888888888888,\"#fdca26\"],[1.0,\"#f0f921\"]]}],\"choropleth\":[{\"type\":\"choropleth\",\"colorbar\":{\"outlinewidth\":0,\"ticks\":\"\"}}],\"histogram2d\":[{\"type\":\"histogram2d\",\"colorbar\":{\"outlinewidth\":0,\"ticks\":\"\"},\"colorscale\":[[0.0,\"#0d0887\"],[0.1111111111111111,\"#46039f\"],[0.2222222222222222,\"#7201a8\"],[0.3333333333333333,\"#9c179e\"],[0.4444444444444444,\"#bd3786\"],[0.5555555555555556,\"#d8576b\"],[0.6666666666666666,\"#ed7953\"],[0.7777777777777778,\"#fb9f3a\"],[0.8888888888888888,\"#fdca26\"],[1.0,\"#f0f921\"]]}],\"heatmap\":[{\"type\":\"heatmap\",\"colorbar\":{\"outlinewidth\":0,\"ticks\":\"\"},\"colorscale\":[[0.0,\"#0d0887\"],[0.1111111111111111,\"#46039f\"],[0.2222222222222222,\"#7201a8\"],[0.3333333333333333,\"#9c179e\"],[0.4444444444444444,\"#bd3786\"],[0.5555555555555556,\"#d8576b\"],[0.6666666666666666,\"#ed7953\"],[0.7777777777777778,\"#fb9f3a\"],[0.8888888888888888,\"#fdca26\"],[1.0,\"#f0f921\"]]}],\"heatmapgl\":[{\"type\":\"heatmapgl\",\"colorbar\":{\"outlinewidth\":0,\"ticks\":\"\"},\"colorscale\":[[0.0,\"#0d0887\"],[0.1111111111111111,\"#46039f\"],[0.2222222222222222,\"#7201a8\"],[0.3333333333333333,\"#9c179e\"],[0.4444444444444444,\"#bd3786\"],[0.5555555555555556,\"#d8576b\"],[0.6666666666666666,\"#ed7953\"],[0.7777777777777778,\"#fb9f3a\"],[0.8888888888888888,\"#fdca26\"],[1.0,\"#f0f921\"]]}],\"contourcarpet\":[{\"type\":\"contourcarpet\",\"colorbar\":{\"outlinewidth\":0,\"ticks\":\"\"}}],\"contour\":[{\"type\":\"contour\",\"colorbar\":{\"outlinewidth\":0,\"ticks\":\"\"},\"colorscale\":[[0.0,\"#0d0887\"],[0.1111111111111111,\"#46039f\"],[0.2222222222222222,\"#7201a8\"],[0.3333333333333333,\"#9c179e\"],[0.4444444444444444,\"#bd3786\"],[0.5555555555555556,\"#d8576b\"],[0.6666666666666666,\"#ed7953\"],[0.7777777777777778,\"#fb9f3a\"],[0.8888888888888888,\"#fdca26\"],[1.0,\"#f0f921\"]]}],\"surface\":[{\"type\":\"surface\",\"colorbar\":{\"outlinewidth\":0,\"ticks\":\"\"},\"colorscale\":[[0.0,\"#0d0887\"],[0.1111111111111111,\"#46039f\"],[0.2222222222222222,\"#7201a8\"],[0.3333333333333333,\"#9c179e\"],[0.4444444444444444,\"#bd3786\"],[0.5555555555555556,\"#d8576b\"],[0.6666666666666666,\"#ed7953\"],[0.7777777777777778,\"#fb9f3a\"],[0.8888888888888888,\"#fdca26\"],[1.0,\"#f0f921\"]]}],\"mesh3d\":[{\"type\":\"mesh3d\",\"colorbar\":{\"outlinewidth\":0,\"ticks\":\"\"}}],\"scatter\":[{\"fillpattern\":{\"fillmode\":\"overlay\",\"size\":10,\"solidity\":0.2},\"type\":\"scatter\"}],\"parcoords\":[{\"type\":\"parcoords\",\"line\":{\"colorbar\":{\"outlinewidth\":0,\"ticks\":\"\"}}}],\"scatterpolargl\":[{\"type\":\"scatterpolargl\",\"marker\":{\"colorbar\":{\"outlinewidth\":0,\"ticks\":\"\"}}}],\"bar\":[{\"error_x\":{\"color\":\"#2a3f5f\"},\"error_y\":{\"color\":\"#2a3f5f\"},\"marker\":{\"line\":{\"color\":\"#E5ECF6\",\"width\":0.5},\"pattern\":{\"fillmode\":\"overlay\",\"size\":10,\"solidity\":0.2}},\"type\":\"bar\"}],\"scattergeo\":[{\"type\":\"scattergeo\",\"marker\":{\"colorbar\":{\"outlinewidth\":0,\"ticks\":\"\"}}}],\"scatterpolar\":[{\"type\":\"scatterpolar\",\"marker\":{\"colorbar\":{\"outlinewidth\":0,\"ticks\":\"\"}}}],\"histogram\":[{\"marker\":{\"pattern\":{\"fillmode\":\"overlay\",\"size\":10,\"solidity\":0.2}},\"type\":\"histogram\"}],\"scattergl\":[{\"type\":\"scattergl\",\"marker\":{\"colorbar\":{\"outlinewidth\":0,\"ticks\":\"\"}}}],\"scatter3d\":[{\"type\":\"scatter3d\",\"line\":{\"colorbar\":{\"outlinewidth\":0,\"ticks\":\"\"}},\"marker\":{\"colorbar\":{\"outlinewidth\":0,\"ticks\":\"\"}}}],\"scattermapbox\":[{\"type\":\"scattermapbox\",\"marker\":{\"colorbar\":{\"outlinewidth\":0,\"ticks\":\"\"}}}],\"scatterternary\":[{\"type\":\"scatterternary\",\"marker\":{\"colorbar\":{\"outlinewidth\":0,\"ticks\":\"\"}}}],\"scattercarpet\":[{\"type\":\"scattercarpet\",\"marker\":{\"colorbar\":{\"outlinewidth\":0,\"ticks\":\"\"}}}],\"carpet\":[{\"aaxis\":{\"endlinecolor\":\"#2a3f5f\",\"gridcolor\":\"white\",\"linecolor\":\"white\",\"minorgridcolor\":\"white\",\"startlinecolor\":\"#2a3f5f\"},\"baxis\":{\"endlinecolor\":\"#2a3f5f\",\"gridcolor\":\"white\",\"linecolor\":\"white\",\"minorgridcolor\":\"white\",\"startlinecolor\":\"#2a3f5f\"},\"type\":\"carpet\"}],\"table\":[{\"cells\":{\"fill\":{\"color\":\"#EBF0F8\"},\"line\":{\"color\":\"white\"}},\"header\":{\"fill\":{\"color\":\"#C8D4E3\"},\"line\":{\"color\":\"white\"}},\"type\":\"table\"}],\"barpolar\":[{\"marker\":{\"line\":{\"color\":\"#E5ECF6\",\"width\":0.5},\"pattern\":{\"fillmode\":\"overlay\",\"size\":10,\"solidity\":0.2}},\"type\":\"barpolar\"}],\"pie\":[{\"automargin\":true,\"type\":\"pie\"}]},\"layout\":{\"autotypenumbers\":\"strict\",\"colorway\":[\"#636efa\",\"#EF553B\",\"#00cc96\",\"#ab63fa\",\"#FFA15A\",\"#19d3f3\",\"#FF6692\",\"#B6E880\",\"#FF97FF\",\"#FECB52\"],\"font\":{\"color\":\"#2a3f5f\"},\"hovermode\":\"closest\",\"hoverlabel\":{\"align\":\"left\"},\"paper_bgcolor\":\"white\",\"plot_bgcolor\":\"#E5ECF6\",\"polar\":{\"bgcolor\":\"#E5ECF6\",\"angularaxis\":{\"gridcolor\":\"white\",\"linecolor\":\"white\",\"ticks\":\"\"},\"radialaxis\":{\"gridcolor\":\"white\",\"linecolor\":\"white\",\"ticks\":\"\"}},\"ternary\":{\"bgcolor\":\"#E5ECF6\",\"aaxis\":{\"gridcolor\":\"white\",\"linecolor\":\"white\",\"ticks\":\"\"},\"baxis\":{\"gridcolor\":\"white\",\"linecolor\":\"white\",\"ticks\":\"\"},\"caxis\":{\"gridcolor\":\"white\",\"linecolor\":\"white\",\"ticks\":\"\"}},\"coloraxis\":{\"colorbar\":{\"outlinewidth\":0,\"ticks\":\"\"}},\"colorscale\":{\"sequential\":[[0.0,\"#0d0887\"],[0.1111111111111111,\"#46039f\"],[0.2222222222222222,\"#7201a8\"],[0.3333333333333333,\"#9c179e\"],[0.4444444444444444,\"#bd3786\"],[0.5555555555555556,\"#d8576b\"],[0.6666666666666666,\"#ed7953\"],[0.7777777777777778,\"#fb9f3a\"],[0.8888888888888888,\"#fdca26\"],[1.0,\"#f0f921\"]],\"sequentialminus\":[[0.0,\"#0d0887\"],[0.1111111111111111,\"#46039f\"],[0.2222222222222222,\"#7201a8\"],[0.3333333333333333,\"#9c179e\"],[0.4444444444444444,\"#bd3786\"],[0.5555555555555556,\"#d8576b\"],[0.6666666666666666,\"#ed7953\"],[0.7777777777777778,\"#fb9f3a\"],[0.8888888888888888,\"#fdca26\"],[1.0,\"#f0f921\"]],\"diverging\":[[0,\"#8e0152\"],[0.1,\"#c51b7d\"],[0.2,\"#de77ae\"],[0.3,\"#f1b6da\"],[0.4,\"#fde0ef\"],[0.5,\"#f7f7f7\"],[0.6,\"#e6f5d0\"],[0.7,\"#b8e186\"],[0.8,\"#7fbc41\"],[0.9,\"#4d9221\"],[1,\"#276419\"]]},\"xaxis\":{\"gridcolor\":\"white\",\"linecolor\":\"white\",\"ticks\":\"\",\"title\":{\"standoff\":15},\"zerolinecolor\":\"white\",\"automargin\":true,\"zerolinewidth\":2},\"yaxis\":{\"gridcolor\":\"white\",\"linecolor\":\"white\",\"ticks\":\"\",\"title\":{\"standoff\":15},\"zerolinecolor\":\"white\",\"automargin\":true,\"zerolinewidth\":2},\"scene\":{\"xaxis\":{\"backgroundcolor\":\"#E5ECF6\",\"gridcolor\":\"white\",\"linecolor\":\"white\",\"showbackground\":true,\"ticks\":\"\",\"zerolinecolor\":\"white\",\"gridwidth\":2},\"yaxis\":{\"backgroundcolor\":\"#E5ECF6\",\"gridcolor\":\"white\",\"linecolor\":\"white\",\"showbackground\":true,\"ticks\":\"\",\"zerolinecolor\":\"white\",\"gridwidth\":2},\"zaxis\":{\"backgroundcolor\":\"#E5ECF6\",\"gridcolor\":\"white\",\"linecolor\":\"white\",\"showbackground\":true,\"ticks\":\"\",\"zerolinecolor\":\"white\",\"gridwidth\":2}},\"shapedefaults\":{\"line\":{\"color\":\"#2a3f5f\"}},\"annotationdefaults\":{\"arrowcolor\":\"#2a3f5f\",\"arrowhead\":0,\"arrowwidth\":1},\"geo\":{\"bgcolor\":\"white\",\"landcolor\":\"#E5ECF6\",\"subunitcolor\":\"white\",\"showland\":true,\"showlakes\":true,\"lakecolor\":\"white\"},\"title\":{\"x\":0.05},\"mapbox\":{\"style\":\"light\"}}},\"xaxis\":{\"anchor\":\"y\",\"domain\":[0.0,1.0],\"title\":{\"text\":\"umap-2d-one\"}},\"yaxis\":{\"anchor\":\"x\",\"domain\":[0.0,1.0],\"title\":{\"text\":\"umap-2d-two\"}},\"legend\":{\"title\":{\"text\":\"arXiv subject\"},\"tracegroupgap\":0},\"margin\":{\"t\":60}},                        {\"responsive\": true}                    ).then(function(){\n",
              "                            \n",
              "var gd = document.getElementById('d56aac33-5fdb-4c9b-9e37-24d2a60024f8');\n",
              "var x = new MutationObserver(function (mutations, observer) {{\n",
              "        var display = window.getComputedStyle(gd).display;\n",
              "        if (!display || display === 'none') {{\n",
              "            console.log([gd, 'removed!']);\n",
              "            Plotly.purge(gd);\n",
              "            observer.disconnect();\n",
              "        }}\n",
              "}});\n",
              "\n",
              "// Listen for the removal of the full notebook cells\n",
              "var notebookContainer = gd.closest('#notebook-container');\n",
              "if (notebookContainer) {{\n",
              "    x.observe(notebookContainer, {childList: true});\n",
              "}}\n",
              "\n",
              "// Listen for the clearing of the current output cell\n",
              "var outputEl = gd.closest('.output');\n",
              "if (outputEl) {{\n",
              "    x.observe(outputEl, {childList: true});\n",
              "}}\n",
              "\n",
              "                        })                };                            </script>        </div>\n",
              "</body>\n",
              "</html>"
            ]
          },
          "metadata": {}
        }
      ]
    },
    {
      "cell_type": "markdown",
      "source": [
        "Tracing over the points and examining the hover labels we can see a clear clustering of physics topics and computer science topics respectively. The math topics tend to lie between these and we can see that they are closer to those topics which deal with similar lines of research."
      ],
      "metadata": {
        "id": "BgnRD9JEOpzw"
      }
    },
    {
      "cell_type": "markdown",
      "source": [
        "> ```We can use the above plot to remove some of the topic subjects if we wish, to reduce the amount of data to embed and make the separation even more visually clear. Also consider changing color scheme.```"
      ],
      "metadata": {
        "id": "y73Kd98JmhHj"
      }
    },
    {
      "cell_type": "code",
      "source": [],
      "metadata": {
        "id": "ZZQZ2rIGMe9g"
      },
      "execution_count": null,
      "outputs": []
    },
    {
      "cell_type": "markdown",
      "source": [
        "### Vector index store & Semantic similarity search"
      ],
      "metadata": {
        "id": "MabBTvs6R35K"
      }
    },
    {
      "cell_type": "markdown",
      "source": [
        "Let's now examine how we can store embeddings in an indexed vector database. There are many different vector stores to choose from which all perform similarly. Here we will make use of [FAISS](https://ai.meta.com/tools/faiss/), which is open source vector store developed by Meta.\n",
        "\n",
        "We will then see how we can use this tool to perform a similarity search over the indexed embeddings and retrieve the most relevant article based on a query using semantic similarity."
      ],
      "metadata": {
        "id": "e_kIVHSJSCNA"
      }
    },
    {
      "cell_type": "markdown",
      "source": [
        "We will make use of an open source model from HuggingFace for doing the embeddings here. The"
      ],
      "metadata": {
        "id": "HNsdUsgs4Pd7"
      }
    },
    {
      "cell_type": "markdown",
      "source": [
        "> ```The first time you run the below code snippet you will download the embedding model into memory and you will see the progress of this displayed.```"
      ],
      "metadata": {
        "id": "j96fHlbz4hBE"
      }
    },
    {
      "cell_type": "code",
      "source": [
        "# For embeddings we use a top ranked open source model on the MTEB leaderboard at https://huggingface.co/spaces/mteb/leaderboard\n",
        "embedding_model = \"BAAI/bge-large-en-v1.5\"\n",
        "\n",
        "\n",
        "# We use the HuggingFaceEmbeddings wrapper to make an embedding object from our model\n",
        "embedder = HuggingFaceEmbeddings(\n",
        "      model_name = embedding_model,\n",
        "      model_kwargs = {'device': 'cpu'},\n",
        "      encode_kwargs = {'normalize_embeddings': True},\n",
        "      cache_folder = f\"{embedding_model}_cache\",\n",
        "      multi_process = False\n",
        "      )"
      ],
      "metadata": {
        "colab": {
          "base_uri": "https://localhost:8080/",
          "height": 401,
          "referenced_widgets": [
            "3a1a6f444dfe434abb5c5fe9e1a73560",
            "aff1ec396c40470d967c4d68b860dc42",
            "68093632b35042718ab42115fab66488",
            "a8647c72b9a542babc1e9cbf9eac6277",
            "c4d8eb383e534642afa44af3584dc9e0",
            "5a60e11de2c347ab8171ed5e3c9bc64b",
            "8131440944764234bb1d6a39a8eaeb8f",
            "e68edec0bdf1409d977dcb45be8275d2",
            "8de0c6d1a6014175a727a0695f2a5840",
            "36153fbe3edb483b8b039c99b599632b",
            "58949a8052eb467baad14c671a68a3e3",
            "1e02ba4da759437d917e13c3fb48cd62",
            "abfdd663d0564db8a079c4a0938210ac",
            "f06966d945a141cdb0729dd787cc01f7",
            "23032dca9826434a943aea436486ecdf",
            "f0a58398030749cab4ee1c5b45b7ba12",
            "e27bbf471ac242839f1af2aef4215113",
            "ec07848225194bc0876d1abf5fe4fc49",
            "0f1861e66ebf4b278c88ddf7397a23cf",
            "ab91c0e63e9942ef9cfa20c7ab272eb9",
            "b97105810511401cba8e272c15595bbf",
            "d4a9d778f1d746b3bb60aa80b05a4c5b",
            "9a8f5da187b141959b73f4b9f708f0c0",
            "cf57ce5e2e674fc8be19aa439b760515",
            "7ddc0d2657c748fd9c17872db1f8566c",
            "595743fad697441d886b98ee836e5901",
            "0bb78efec575465c8c421e3670249fb3",
            "2f06bd9a612b446a88cc6f6f403a1d59",
            "4e5f03a78f464061b08a2b9f6a0f32c4",
            "5c890ad447244eb39531177fd99666ad",
            "a0561ceaa2d04c5594d9ae05c1aec55e",
            "4b4db8641bba4d1693eec31a339162fd",
            "fb49237121424b72a45d3a72e5cd18f6",
            "ea88690874de4b07a45940bd96f6df8e",
            "d968d5d512b84f7eaa5ec195f4fe5f86",
            "501336d495af422bb35aed7fbb114ffa",
            "887e014996464c599d8e920e5a93e63e",
            "bfdf820fe79247bf84762420f56ceed0",
            "3656b6b016f0424fb5624c8d507c968f",
            "dfe6a85c40c04f539b10d66ef79fc358",
            "326b3a4f2cd24f589fe9130b059a5961",
            "c47549970b9147b1ae58eabcff944883",
            "9357aab9e51c4010a971f4f9961927e2",
            "b9259678432d4d4ea74077db9cc42598",
            "95621f8a4d3c4084abf2679f2227e9a8",
            "d40e36ff4fac4d5b989c44d8e0a93f70",
            "2f770a5f90524abd80f4eaa13cbf8468",
            "c1f40ca681e54a05aba620fc92e07584",
            "5d6aac4c269242c69e9a3af457fc292c",
            "f70f4be75a644d5dbf46ec0144c96c3b",
            "d57526683a2f4363ba825f86d5ff1ebb",
            "5e739b0ba9564a46a75856135e84893d",
            "4c31eb0fe65c41b7842948d17136159d",
            "cb1ed45ef0be4f49971cb08ac754ee74",
            "1d855ea3f541476f918760950cddb685",
            "d8da2ca9c94542debe5ad770eb38a524",
            "5b338b169e5f4c4fb0154514b77c9455",
            "6461c58007474632b8dc1f07230d8b4b",
            "eab171c3cd124bcbae45772c41949acf",
            "6e143725b48a4890811659df0d84cd49",
            "36e88e6e18e44f8dbcc4cd3593debe8a",
            "8ee0ec0bec20442d868e4859b6c86155",
            "b7fb977b5f5049f7884fe6750cb54f25",
            "4ffe855f2cc244e79163613087fe7307",
            "d5e6ba912823412f93df09db280c098e",
            "6ef57dbb3e934c949c96e325668f5ac7",
            "97b350763e3f4e7da6757dc6e65ff4e4",
            "587070291b224ff6a96c38e9b1e2ca49",
            "f9b6e273842f455fb445454ead5d149a",
            "faa89c3595e545ae9b24cb31af9cf3fc",
            "7152d71139214d75918ecb30dd92128d",
            "20fe40786d83422d81aed9d621c9fee3",
            "6c3afcd2f8324ef6a3f557290094be79",
            "710553997b8243cea4a73d374c0286fe",
            "ccc9ed3ab2c143ba98ec98d274c00eb2",
            "7ab120158c464376b01f3874b41659a8",
            "3fb94b4f30a94a66884dc91d4a4272d0",
            "6d089890bb7e4ac4bda9ef225f7736d7",
            "0c1fbf3787b54c2e95cced75397a06cd",
            "246318f7d5a74a2db31042ea4e987f4b",
            "21aa5922282c43deb2cdb900a1254868",
            "181b0ab7fe4a4f0589037544c68ea5a5",
            "221d64f75f7443669c29076c307e1711",
            "f2a64ad75b88420bb51719559f6edf67",
            "dd5b6b5d0b7740c391010362437f2a24",
            "aeda6326790143a0a6eb880eaac1d085",
            "b9ee115141f44a44b1af5458bbe76240",
            "386e8a7f9abc48b099150337f62f2e8b",
            "be63656afa184438a7565180629113df",
            "993ee43393c24a5eb0fdcfa9f5071a01",
            "3698af06d81d4400ad40c25631cf0239",
            "39eb38071266462caa9a36cfdd01d2fc",
            "ce69284ca34c4aa990dbba99ac7cf1ba",
            "a12a1017a4624a049d02e07df6d989d3",
            "64ec0f176670451da8fa00375814b154",
            "3d5bdbdd76eb4581925df3e47496d9a5",
            "5bb696ce02bc4c38a5710a4068b6b0ec",
            "f2b22ced96a841c68ea0195f48ceb1eb",
            "961b98c99ec74caea7de84b420210566",
            "d285fb55b3a74752b68cfc1b0f891509",
            "5c2c9006b2af4f1cad871f754e436799",
            "973cf8ba3d944cbeb9d2862fdff71e9a",
            "fad9d3a87a6c44309c1526cfdad01b1a",
            "1f5b26e6b52a48c9a8efb963a4e0443e",
            "d8016f2804dc4521882db0405013e650",
            "d8d758ffdb454f0ca4c7d850f52837d3",
            "c8fad70ebd014e62a1924fbdc8fd2108",
            "9e518d81559449cfad7d59f625a4e6bf",
            "06d53dc5dd5046c39ce2ddcec693c7a8",
            "7ca113705f954feab868391890e55d01",
            "f3689923c205409fb80b497d4c807ae8",
            "1a75a6e8019d4f1c9d258b94532a0797",
            "161eeefc341f42e8b5b8a0104641db10",
            "248e8b9625e04c8482e90f53fd54727c",
            "263540e70b374ab7a6268b38e9437e25",
            "17e817969ddf43639ec75e53cf504415",
            "be26c18217984b409e0b6ee788c0e128",
            "0bcda4b4380244bfaf42f4e86495b43d",
            "fc391192d40e4d05b561014488da5ebd",
            "d41d2572dba74acc99fc922cc55a4cd5",
            "621e74a096684ad191b6b445fab9266b",
            "3ef2389bd4dc4ac89f265f0ee02699a2",
            "011861b81a404ed58ef0db7ca5be8cac",
            "0331254ce84d4824ab5480ff46bb9ad0",
            "286eca3bdc194947939a4a2e5bcf1925",
            "902d2d460b15481da336e708ee387f88",
            "268da14ba9594227b3b863e02c6c3fd4",
            "6ad89588613e4e999fb6a7cd1e239af3",
            "e31dcd5505f0430787907bed989c3076",
            "43b5de4c60a54e6dad9539d88e88cbfc",
            "ced88051342f4b57b8f4275948c4dce0",
            "d75afc8d23a6441992876a02fd646b39"
          ]
        },
        "id": "f2dCB_lp26IX",
        "outputId": "b1683243-70ac-4a3f-a41c-aa7285ee936e"
      },
      "execution_count": null,
      "outputs": [
        {
          "output_type": "display_data",
          "data": {
            "text/plain": [
              "<IPython.core.display.HTML object>"
            ],
            "text/html": [
              "\n",
              "  <style>\n",
              "    pre {\n",
              "        white-space: pre-wrap;\n",
              "    }\n",
              "  </style>\n",
              "  "
            ]
          },
          "metadata": {}
        },
        {
          "output_type": "display_data",
          "data": {
            "text/plain": [
              ".gitattributes:   0%|          | 0.00/1.52k [00:00<?, ?B/s]"
            ],
            "application/vnd.jupyter.widget-view+json": {
              "version_major": 2,
              "version_minor": 0,
              "model_id": "3a1a6f444dfe434abb5c5fe9e1a73560"
            }
          },
          "metadata": {}
        },
        {
          "output_type": "display_data",
          "data": {
            "text/plain": [
              "1_Pooling/config.json:   0%|          | 0.00/191 [00:00<?, ?B/s]"
            ],
            "application/vnd.jupyter.widget-view+json": {
              "version_major": 2,
              "version_minor": 0,
              "model_id": "1e02ba4da759437d917e13c3fb48cd62"
            }
          },
          "metadata": {}
        },
        {
          "output_type": "display_data",
          "data": {
            "text/plain": [
              "README.md:   0%|          | 0.00/90.3k [00:00<?, ?B/s]"
            ],
            "application/vnd.jupyter.widget-view+json": {
              "version_major": 2,
              "version_minor": 0,
              "model_id": "9a8f5da187b141959b73f4b9f708f0c0"
            }
          },
          "metadata": {}
        },
        {
          "output_type": "display_data",
          "data": {
            "text/plain": [
              "config.json:   0%|          | 0.00/779 [00:00<?, ?B/s]"
            ],
            "application/vnd.jupyter.widget-view+json": {
              "version_major": 2,
              "version_minor": 0,
              "model_id": "ea88690874de4b07a45940bd96f6df8e"
            }
          },
          "metadata": {}
        },
        {
          "output_type": "display_data",
          "data": {
            "text/plain": [
              "config_sentence_transformers.json:   0%|          | 0.00/124 [00:00<?, ?B/s]"
            ],
            "application/vnd.jupyter.widget-view+json": {
              "version_major": 2,
              "version_minor": 0,
              "model_id": "95621f8a4d3c4084abf2679f2227e9a8"
            }
          },
          "metadata": {}
        },
        {
          "output_type": "display_data",
          "data": {
            "text/plain": [
              "pytorch_model.bin:   0%|          | 0.00/1.34G [00:00<?, ?B/s]"
            ],
            "application/vnd.jupyter.widget-view+json": {
              "version_major": 2,
              "version_minor": 0,
              "model_id": "d8da2ca9c94542debe5ad770eb38a524"
            }
          },
          "metadata": {}
        },
        {
          "output_type": "display_data",
          "data": {
            "text/plain": [
              "sentence_bert_config.json:   0%|          | 0.00/52.0 [00:00<?, ?B/s]"
            ],
            "application/vnd.jupyter.widget-view+json": {
              "version_major": 2,
              "version_minor": 0,
              "model_id": "97b350763e3f4e7da6757dc6e65ff4e4"
            }
          },
          "metadata": {}
        },
        {
          "output_type": "display_data",
          "data": {
            "text/plain": [
              "special_tokens_map.json:   0%|          | 0.00/125 [00:00<?, ?B/s]"
            ],
            "application/vnd.jupyter.widget-view+json": {
              "version_major": 2,
              "version_minor": 0,
              "model_id": "6d089890bb7e4ac4bda9ef225f7736d7"
            }
          },
          "metadata": {}
        },
        {
          "output_type": "display_data",
          "data": {
            "text/plain": [
              "tokenizer.json:   0%|          | 0.00/711k [00:00<?, ?B/s]"
            ],
            "application/vnd.jupyter.widget-view+json": {
              "version_major": 2,
              "version_minor": 0,
              "model_id": "be63656afa184438a7565180629113df"
            }
          },
          "metadata": {}
        },
        {
          "output_type": "display_data",
          "data": {
            "text/plain": [
              "tokenizer_config.json:   0%|          | 0.00/366 [00:00<?, ?B/s]"
            ],
            "application/vnd.jupyter.widget-view+json": {
              "version_major": 2,
              "version_minor": 0,
              "model_id": "d285fb55b3a74752b68cfc1b0f891509"
            }
          },
          "metadata": {}
        },
        {
          "output_type": "display_data",
          "data": {
            "text/plain": [
              "vocab.txt:   0%|          | 0.00/232k [00:00<?, ?B/s]"
            ],
            "application/vnd.jupyter.widget-view+json": {
              "version_major": 2,
              "version_minor": 0,
              "model_id": "f3689923c205409fb80b497d4c807ae8"
            }
          },
          "metadata": {}
        },
        {
          "output_type": "display_data",
          "data": {
            "text/plain": [
              "modules.json:   0%|          | 0.00/349 [00:00<?, ?B/s]"
            ],
            "application/vnd.jupyter.widget-view+json": {
              "version_major": 2,
              "version_minor": 0,
              "model_id": "3ef2389bd4dc4ac89f265f0ee02699a2"
            }
          },
          "metadata": {}
        }
      ]
    },
    {
      "cell_type": "markdown",
      "source": [
        "It is then straightforward to create a FAISS vector index using our Document and HuggingFaceEmbeddings objects. This will take approximately 2-3 minutes to complete for 20 abstracts. We will therefore pick out a subset of abstracts here form demonstrative purposes."
      ],
      "metadata": {
        "id": "YnRjIc0w6O7d"
      }
    },
    {
      "cell_type": "code",
      "source": [
        "# We aim to pick out about 20 abstracts from across the documents list, irrespective of how many we originally retrieved\n",
        "nr_abstracts_in_short_list = 20\n",
        "\n",
        "documents_short = documents[::max(1, len(documents) // nr_abstracts_in_short_list)]\n",
        "\n",
        "print(f\" The short list of documents contain {len(documents_short)} abstracts\")"
      ],
      "metadata": {
        "colab": {
          "base_uri": "https://localhost:8080/",
          "height": 35
        },
        "id": "2FsXJyHI7D37",
        "outputId": "3def3295-e140-459c-d345-a75dbe9333bf"
      },
      "execution_count": null,
      "outputs": [
        {
          "output_type": "display_data",
          "data": {
            "text/plain": [
              "<IPython.core.display.HTML object>"
            ],
            "text/html": [
              "\n",
              "  <style>\n",
              "    pre {\n",
              "        white-space: pre-wrap;\n",
              "    }\n",
              "  </style>\n",
              "  "
            ]
          },
          "metadata": {}
        },
        {
          "output_type": "stream",
          "name": "stdout",
          "text": [
            " The short list of documents contain 21 abstracts\n"
          ]
        }
      ]
    },
    {
      "cell_type": "code",
      "source": [
        "# We embed and store embeddings for the shortened list of abstracts\n",
        "faiss_index = FAISS.from_documents(\n",
        "      documents=documents_short,\n",
        "      embedding=embedder\n",
        "      )"
      ],
      "metadata": {
        "colab": {
          "base_uri": "https://localhost:8080/",
          "height": 17
        },
        "id": "DLJkfQnH2lXx",
        "outputId": "088b5ef5-36b2-4b8e-9bbd-05cc25d6f72e"
      },
      "execution_count": null,
      "outputs": [
        {
          "output_type": "display_data",
          "data": {
            "text/plain": [
              "<IPython.core.display.HTML object>"
            ],
            "text/html": [
              "\n",
              "  <style>\n",
              "    pre {\n",
              "        white-space: pre-wrap;\n",
              "    }\n",
              "  </style>\n",
              "  "
            ]
          },
          "metadata": {}
        }
      ]
    },
    {
      "cell_type": "markdown",
      "source": [
        "Let's pick out an article and display its abstract. This will allow us to make a query which we know matches this particular abstract."
      ],
      "metadata": {
        "id": "qRErJ7yq9WfC"
      }
    },
    {
      "cell_type": "code",
      "source": [
        "abstract_nr = 15\n",
        "\n",
        "documents_short[abstract_nr]"
      ],
      "metadata": {
        "colab": {
          "base_uri": "https://localhost:8080/",
          "height": 178
        },
        "id": "Ef_9-Mqn5Evh",
        "outputId": "888fcc05-211c-41d6-dd96-c6318ffb136a"
      },
      "execution_count": 102,
      "outputs": [
        {
          "output_type": "display_data",
          "data": {
            "text/plain": [
              "<IPython.core.display.HTML object>"
            ],
            "text/html": [
              "\n",
              "  <style>\n",
              "    pre {\n",
              "        white-space: pre-wrap;\n",
              "    }\n",
              "  </style>\n",
              "  "
            ]
          },
          "metadata": {}
        },
        {
          "output_type": "display_data",
          "data": {
            "text/plain": [
              "<IPython.core.display.HTML object>"
            ],
            "text/html": [
              "\n",
              "  <style>\n",
              "    pre {\n",
              "        white-space: pre-wrap;\n",
              "    }\n",
              "  </style>\n",
              "  "
            ]
          },
          "metadata": {}
        },
        {
          "output_type": "execute_result",
          "data": {
            "text/plain": [
              "Document(page_content='Tiger conservation necessitates the strategic deployment of multifaceted\\ninitiatives encompassing the preservation of ecological habitats, anti-poaching\\nmeasures, and community involvement for sustainable growth in the tiger\\npopulation. With the advent of artificial intelligence, tiger surveillance can\\nbe automated using object detection. In this paper, an accurate illumination\\ninvariant framework is proposed based on EnlightenGAN and YOLOv8 for tiger\\ndetection. The fine-tuned YOLOv8 model achieves a mAP score of 61% without\\nillumination enhancement. The illumination enhancement improves the mAP by\\n0.7%. The approaches elevate the state-of-the-art performance on the ATRW\\ndataset by approximately 6% to 7%.', metadata={'title': 'An Efficient Illumination Invariant Tiger Detection Framework for  Wildlife Surveillance', 'arxiv_topic': 'Computer Vision and Pattern Recognition (cs.CV)', 'subject': 'cs'})"
            ]
          },
          "metadata": {},
          "execution_count": 102
        }
      ]
    },
    {
      "cell_type": "markdown",
      "source": [
        "Now we can construct a search query which is related to the above abstract. We then use this query to retrieve a nr of close matches from the indexed vector stored. These are retrieved as a list in sorted order, with the closest match appearing first.\n",
        "\n",
        "Let's do this by having the LLM make a query for us from the above abstract."
      ],
      "metadata": {
        "id": "A9rw62VP9nQs"
      }
    },
    {
      "cell_type": "code",
      "source": [
        "# The system prompt will be placed at the top of every message and should set overall system behaviour\n",
        "system_prompt = \"\"\"\n",
        "You are an expert in summarizing scientific literature.\n",
        "\"\"\"\n",
        "\n",
        "\n",
        "user_prompt = f\"\"\"\n",
        "Consider carefully the abstract supplied below and construct a very brief summary of its content.\n",
        "Try to use a maximum of 30 words and do not include any mathematical formulas in your summary.\n",
        "\n",
        "abstract: {documents_short[abstract_nr].page_content}\n",
        "\"\"\"\n",
        "\n",
        "\n",
        "# These are collected into a messages list of\n",
        "#\n",
        "#   SystemMessage - the system prompt\n",
        "#   HumanMessage  - the user query\n",
        "#   AIMessage     - the bot response, in case you wish to continue on a conversation\n",
        "messages = [\n",
        "    SystemMessage(content=system_prompt),\n",
        "    HumanMessage(content=user_prompt),\n",
        "]"
      ],
      "metadata": {
        "colab": {
          "base_uri": "https://localhost:8080/",
          "height": 17
        },
        "id": "V786LgwERZUj",
        "outputId": "24530417-1e77-4ff8-8d9c-25e6ae27d86c"
      },
      "execution_count": 103,
      "outputs": [
        {
          "output_type": "display_data",
          "data": {
            "text/plain": [
              "<IPython.core.display.HTML object>"
            ],
            "text/html": [
              "\n",
              "  <style>\n",
              "    pre {\n",
              "        white-space: pre-wrap;\n",
              "    }\n",
              "  </style>\n",
              "  "
            ]
          },
          "metadata": {}
        },
        {
          "output_type": "display_data",
          "data": {
            "text/plain": [
              "<IPython.core.display.HTML object>"
            ],
            "text/html": [
              "\n",
              "  <style>\n",
              "    pre {\n",
              "        white-space: pre-wrap;\n",
              "    }\n",
              "  </style>\n",
              "  "
            ]
          },
          "metadata": {}
        }
      ]
    },
    {
      "cell_type": "code",
      "source": [
        "# This creates an instance of the model interface which we can subsequently call on\n",
        "chat_model = ChatOpenAI(\n",
        "    openai_api_key=os.environ['OPENAI_API_KEY'],\n",
        "    # The below parameters can be changed\n",
        "    model=\"gpt-3.5-turbo-1106\",\n",
        "    temperature=0.0\n",
        ")\n",
        "\n",
        "\n",
        "# Here we collect the output from the chat model in the variable response\n",
        "response = chat_model.invoke(messages)\n",
        "\n",
        "# We can print out the response by calling on its content using a .content\n",
        "print(response.content)"
      ],
      "metadata": {
        "colab": {
          "base_uri": "https://localhost:8080/",
          "height": 53
        },
        "id": "R6m7HdrHMf8e",
        "outputId": "59d4b5fb-76b1-45ef-c9af-cc4cc3c67d8f"
      },
      "execution_count": 104,
      "outputs": [
        {
          "output_type": "display_data",
          "data": {
            "text/plain": [
              "<IPython.core.display.HTML object>"
            ],
            "text/html": [
              "\n",
              "  <style>\n",
              "    pre {\n",
              "        white-space: pre-wrap;\n",
              "    }\n",
              "  </style>\n",
              "  "
            ]
          },
          "metadata": {}
        },
        {
          "output_type": "display_data",
          "data": {
            "text/plain": [
              "<IPython.core.display.HTML object>"
            ],
            "text/html": [
              "\n",
              "  <style>\n",
              "    pre {\n",
              "        white-space: pre-wrap;\n",
              "    }\n",
              "  </style>\n",
              "  "
            ]
          },
          "metadata": {}
        },
        {
          "output_type": "stream",
          "name": "stdout",
          "text": [
            "This paper discusses the need for multifaceted tiger conservation efforts and proposes an AI-based framework for automated tiger detection, achieving a 61% mAP score.\n"
          ]
        }
      ]
    },
    {
      "cell_type": "markdown",
      "source": [
        "Now we can use this short summary to try to find the correct article amongst all the ones we have embedded."
      ],
      "metadata": {
        "id": "2uDso4QrTAX3"
      }
    },
    {
      "cell_type": "code",
      "source": [
        "search_query = f\"Find an article which discusses: {response.content}\"\n",
        "\n",
        "nr_hits = 5\n",
        "\n",
        "#Use FAISS to perform similarity search ...\n",
        "most_similar = faiss_index.similarity_search(query = search_query, k=nr_hits)\n",
        "\n",
        "# Lets check that the closest retrieved match is the same as abstract we used to construct the query\n",
        "if most_similar[0].metadata[\"title\"] == documents_short[abstract_nr].metadata[\"title\"]:\n",
        "  print(Style.BRIGHT + \"SUCESS! We found the correct abstract as the top ranked choice!\" + Style.RESET_ALL)\n",
        "  print(\"--\"*25)\n",
        "  print(most_similar[0])\n",
        "else:\n",
        "  print(Style.BRIGHT + \"FAILURE! We didn't retrieve the correct abstract as top choice!\" + Style.RESET_ALL)"
      ],
      "metadata": {
        "colab": {
          "base_uri": "https://localhost:8080/",
          "height": 213
        },
        "id": "N-TJJRLg4Box",
        "outputId": "89d535a8-2252-47f9-aeb1-abd205e5948e"
      },
      "execution_count": 121,
      "outputs": [
        {
          "output_type": "display_data",
          "data": {
            "text/plain": [
              "<IPython.core.display.HTML object>"
            ],
            "text/html": [
              "\n",
              "  <style>\n",
              "    pre {\n",
              "        white-space: pre-wrap;\n",
              "    }\n",
              "  </style>\n",
              "  "
            ]
          },
          "metadata": {}
        },
        {
          "output_type": "display_data",
          "data": {
            "text/plain": [
              "<IPython.core.display.HTML object>"
            ],
            "text/html": [
              "\n",
              "  <style>\n",
              "    pre {\n",
              "        white-space: pre-wrap;\n",
              "    }\n",
              "  </style>\n",
              "  "
            ]
          },
          "metadata": {}
        },
        {
          "output_type": "stream",
          "name": "stdout",
          "text": [
            "\u001b[1mSUCESS! We found the correct abstract as the top ranked choice!\u001b[0m\n",
            "--------------------------------------------------\n",
            "page_content='Tiger conservation necessitates the strategic deployment of multifaceted\\ninitiatives encompassing the preservation of ecological habitats, anti-poaching\\nmeasures, and community involvement for sustainable growth in the tiger\\npopulation. With the advent of artificial intelligence, tiger surveillance can\\nbe automated using object detection. In this paper, an accurate illumination\\ninvariant framework is proposed based on EnlightenGAN and YOLOv8 for tiger\\ndetection. The fine-tuned YOLOv8 model achieves a mAP score of 61% without\\nillumination enhancement. The illumination enhancement improves the mAP by\\n0.7%. The approaches elevate the state-of-the-art performance on the ATRW\\ndataset by approximately 6% to 7%.' metadata={'title': 'An Efficient Illumination Invariant Tiger Detection Framework for  Wildlife Surveillance', 'arxiv_topic': 'Computer Vision and Pattern Recognition (cs.CV)', 'subject': 'cs'}\n"
          ]
        }
      ]
    },
    {
      "cell_type": "markdown",
      "source": [
        "We can inspect all the top ranked abstracts we retrieved and see how well they matched the summarization we used when searching."
      ],
      "metadata": {
        "id": "mSQU0jnvVW5T"
      }
    },
    {
      "cell_type": "code",
      "source": [
        "cnt=1\n",
        "for doc in most_similar:\n",
        "  print(Style.BRIGHT + f\"Hit nr {cnt}, Title: {doc.metadata['title']}\" + Style.RESET_ALL)\n",
        "  print(doc.page_content)\n",
        "  print(\"--\"*25)\n",
        "  cnt+=1"
      ],
      "metadata": {
        "colab": {
          "base_uri": "https://localhost:8080/",
          "height": 1000
        },
        "id": "sPT7kQ622lU9",
        "outputId": "af15cdfb-de87-4a37-97fe-e2b0d93f7f1b"
      },
      "execution_count": 122,
      "outputs": [
        {
          "output_type": "display_data",
          "data": {
            "text/plain": [
              "<IPython.core.display.HTML object>"
            ],
            "text/html": [
              "\n",
              "  <style>\n",
              "    pre {\n",
              "        white-space: pre-wrap;\n",
              "    }\n",
              "  </style>\n",
              "  "
            ]
          },
          "metadata": {}
        },
        {
          "output_type": "display_data",
          "data": {
            "text/plain": [
              "<IPython.core.display.HTML object>"
            ],
            "text/html": [
              "\n",
              "  <style>\n",
              "    pre {\n",
              "        white-space: pre-wrap;\n",
              "    }\n",
              "  </style>\n",
              "  "
            ]
          },
          "metadata": {}
        },
        {
          "output_type": "stream",
          "name": "stdout",
          "text": [
            "\u001b[1mHit nr 1, Title: An Efficient Illumination Invariant Tiger Detection Framework for  Wildlife Surveillance\u001b[0m\n",
            "Tiger conservation necessitates the strategic deployment of multifaceted\n",
            "initiatives encompassing the preservation of ecological habitats, anti-poaching\n",
            "measures, and community involvement for sustainable growth in the tiger\n",
            "population. With the advent of artificial intelligence, tiger surveillance can\n",
            "be automated using object detection. In this paper, an accurate illumination\n",
            "invariant framework is proposed based on EnlightenGAN and YOLOv8 for tiger\n",
            "detection. The fine-tuned YOLOv8 model achieves a mAP score of 61% without\n",
            "illumination enhancement. The illumination enhancement improves the mAP by\n",
            "0.7%. The approaches elevate the state-of-the-art performance on the ATRW\n",
            "dataset by approximately 6% to 7%.\n",
            "--------------------------------------------------\n",
            "\u001b[1mHit nr 2, Title: Explaining CLIP's performance disparities on data from blind/low vision  users\u001b[0m\n",
            "Large multi-modal models (LMMs) hold the potential to usher in a new era of\n",
            "automated visual assistance for people who are blind or low vision (BLV). Yet,\n",
            "these models have not been systematically evaluated on data captured by BLV\n",
            "users. We address this by empirically assessing CLIP, a widely-used LMM likely\n",
            "to underpin many assistive technologies. Testing 25 CLIP variants in a\n",
            "zero-shot classification task, we find that their accuracy is 15 percentage\n",
            "points lower on average for images captured by BLV users than web-crawled\n",
            "images. This disparity stems from CLIP's sensitivities to 1) image content\n",
            "(e.g. not recognizing disability objects as well as other objects); 2) image\n",
            "quality (e.g. not being robust to lighting variation); and 3) text content\n",
            "(e.g. not recognizing objects described by tactile adjectives as well as visual\n",
            "ones). We delve deeper with a textual analysis of three common pre-training\n",
            "datasets: LAION-400M, LAION-2B and DataComp-1B, showing that disability content\n",
            "is rarely mentioned. We then provide three examples that illustrate how the\n",
            "performance disparities extend to three downstream models underpinned by CLIP:\n",
            "OWL-ViT, CLIPSeg and DALL-E2. We find that few-shot learning with as few as 5\n",
            "images can mitigate CLIP's quality-of-service disparities for BLV users in some\n",
            "scenarios, which we discuss alongside a set of other possible mitigations.\n",
            "--------------------------------------------------\n",
            "\u001b[1mHit nr 3, Title: Toward a Surgeon-in-the-Loop Ophthalmic Robotic Apprentice using  Reinforcement and Imitation Learning\u001b[0m\n",
            "Robotic-assisted surgical systems have demonstrated significant potential in\n",
            "enhancing surgical precision and minimizing human errors. However, existing\n",
            "systems lack the ability to accommodate the unique preferences and requirements\n",
            "of individual surgeons. Additionally, they primarily focus on general surgeries\n",
            "(e.g., laparoscopy) and are not suitable for highly precise microsurgeries,\n",
            "such as ophthalmic procedures. Thus, we propose a simulation-based image-guided\n",
            "approach for surgeon-centered autonomous agents that can adapt to the\n",
            "individual surgeon's skill level and preferred surgical techniques during\n",
            "ophthalmic cataract surgery. Our approach utilizes a simulated environment to\n",
            "train reinforcement and imitation learning agents guided by image data to\n",
            "perform all tasks of the incision phase of cataract surgery. By integrating the\n",
            "surgeon's actions and preferences into the training process with the\n",
            "surgeon-in-the-loop, our approach enables the robot to implicitly learn and\n",
            "adapt to the individual surgeon's unique approach through demonstrations. This\n",
            "results in a more intuitive and personalized surgical experience for the\n",
            "surgeon. Simultaneously, it ensures consistent performance for the autonomous\n",
            "robotic apprentice. We define and evaluate the effectiveness of our approach\n",
            "using our proposed metrics; and highlight the trade-off between a generic agent\n",
            "and a surgeon-centered adapted agent. Moreover, our approach has the potential\n",
            "to extend to other ophthalmic surgical procedures, opening the door to a new\n",
            "generation of surgeon-in-the-loop autonomous surgical robots. We provide an\n",
            "open-source simulation framework for future development and reproducibility.\n",
            "--------------------------------------------------\n",
            "\u001b[1mHit nr 4, Title: Quantum Neural Networks under Depolarization Noise: Exploring White-Box  Attacks and Defenses\u001b[0m\n",
            "Leveraging the unique properties of quantum mechanics, Quantum Machine\n",
            "Learning (QML) promises computational breakthroughs and enriched perspectives\n",
            "where traditional systems reach their boundaries. However, similarly to\n",
            "classical machine learning, QML is not immune to adversarial attacks. Quantum\n",
            "adversarial machine learning has become instrumental in highlighting the weak\n",
            "points of QML models when faced with adversarial crafted feature vectors.\n",
            "Diving deep into this domain, our exploration shines light on the interplay\n",
            "between depolarization noise and adversarial robustness. While previous results\n",
            "enhanced robustness from adversarial threats through depolarization noise, our\n",
            "findings paint a different picture. Interestingly, adding depolarization noise\n",
            "discontinued the effect of providing further robustness for a multi-class\n",
            "classification scenario. Consolidating our findings, we conducted experiments\n",
            "with a multi-class classifier adversarially trained on gate-based quantum\n",
            "simulators, further elucidating this unexpected behavior.\n",
            "--------------------------------------------------\n",
            "\u001b[1mHit nr 5, Title: Beyond Signal and Noise: Unraveling Scale Invariance in Neuroscience and  Financial Networks with Topological Data Analysis\u001b[0m\n",
            "This exploratory study delves into persistent homology, an integral component\n",
            "of TDA that initially aimed at differentiating between signal and noise. We\n",
            "explore two methodologies for this differentiation: the conventional cycle\n",
            "length approach and the novel death-birth ratio method proposed by Bobrowski\n",
            "and Skraba. Analyzing comprehensive rs-fMRI data from the Human Connectome\n",
            "Project and daily S\\&P 500 financial networks, our study compares these methods\n",
            "in identifying significant cycles. A pivotal discovery of this paper is a\n",
            "robust relationship between z-score thresholds applied to bar lengths or ratios\n",
            "and, respectively, behavioural traits in brain networks and market volatility\n",
            "in financial networks. In the brain, this is evident in the strong correlation\n",
            "between the number of significant 1-cycles in brain networks, brain volumes,\n",
            "and sex-based differences. In financial markets, a fractal pattern emerges,\n",
            "where market volatility consistently negatively correlates with the number of\n",
            "significant cycles, indicating that more intricate market topologies are\n",
            "associated with increased stability and less susceptibility to rapid shifts.\n",
            "Our findings also imply a fractal nature of 1-cycles at both population levels\n",
            "and across multiple days in the stock market. Notably, the distribution of\n",
            "significant loops, marked by high z-scores, remains consistent across various\n",
            "z-score thresholds, revealing a scale-invariant, fractal structure in both data\n",
            "sets. Given the scale invariance in these fractal structures, the traditional\n",
            "TDA distinction between signal and noise becomes less meaningful. The fractal\n",
            "nature of 1-cycles suggests that all scales of cycle length are relevant,\n",
            "challenging the conventional approach of segregating signal from noise. This\n",
            "realization broadens the scope of TDA, underscoring its potential to reveal\n",
            "intricate, scale-invariant relationships in complex systems.\n",
            "--------------------------------------------------\n"
          ]
        }
      ]
    },
    {
      "cell_type": "code",
      "source": [],
      "metadata": {
        "id": "0BYGnEsD8_GZ"
      },
      "execution_count": null,
      "outputs": []
    },
    {
      "cell_type": "code",
      "source": [],
      "metadata": {
        "id": "RAUsDsHAQxNk"
      },
      "execution_count": null,
      "outputs": []
    },
    {
      "cell_type": "code",
      "source": [],
      "metadata": {
        "id": "h88Lw5NsQxK6"
      },
      "execution_count": null,
      "outputs": []
    },
    {
      "cell_type": "code",
      "source": [],
      "metadata": {
        "id": "cYiY6esBQxIH"
      },
      "execution_count": null,
      "outputs": []
    },
    {
      "cell_type": "code",
      "source": [],
      "metadata": {
        "id": "0jVFsLqfQxFV"
      },
      "execution_count": null,
      "outputs": []
    },
    {
      "cell_type": "code",
      "source": [],
      "metadata": {
        "id": "jGVEUsv7mmd1"
      },
      "execution_count": null,
      "outputs": []
    },
    {
      "cell_type": "markdown",
      "source": [
        "# Hands-On 3: Working against a PDF knowledge base"
      ],
      "metadata": {
        "id": "_JAzRAJkmqhe"
      }
    },
    {
      "cell_type": "markdown",
      "source": [
        "Some text here to introduce the main purpose of this section ... RAG from PDF ... basic finetuning of embedding model"
      ],
      "metadata": {
        "id": "M66qdDIL1aSv"
      }
    },
    {
      "cell_type": "markdown",
      "metadata": {
        "id": "DdWacV2UpnLJ"
      },
      "source": [
        "We start by providing the location and names of the PDF files which we will be exploring."
      ]
    },
    {
      "cell_type": "code",
      "execution_count": null,
      "metadata": {
        "id": "N8E7XBwp_rho",
        "colab": {
          "base_uri": "https://localhost:8080/",
          "height": 17
        },
        "outputId": "95d8cc84-4cc1-4204-b5f5-b827a3d19fed"
      },
      "outputs": [
        {
          "output_type": "display_data",
          "data": {
            "text/plain": [
              "<IPython.core.display.HTML object>"
            ],
            "text/html": [
              "\n",
              "  <style>\n",
              "    pre {\n",
              "        white-space: pre-wrap;\n",
              "    }\n",
              "  </style>\n",
              "  "
            ]
          },
          "metadata": {}
        }
      ],
      "source": [
        "# Absolute or relative path to folder where the PDF files are located\n",
        "DATAPATH = \"\"\n",
        "#DATAPATH = \"/content/drive/MyDrive/bootcamp_dec7/Data/\"\n",
        "\n",
        "\n",
        "\n",
        "# Name of the PDF files (without the trailing .pdf file endings)\n",
        "Patricia_permobil_manual = \"Patricia_permobil_manual\"\n",
        "caterpillar_10k = \"Caterpillar-10k\"\n",
        "whirlpool_10k = \"whirlpool-10k\"\n",
        "electrolux_ann_rep = \"Electrolux-annual-report\"\n",
        "\n",
        "\n",
        "# We collect all the PDF file names in a list\n",
        "pdf_files = [\n",
        "    Patricia_permobil_manual,\n",
        "    caterpillar_10k,\n",
        "    whirlpool_10k,\n",
        "    electrolux_ann_rep\n",
        "]"
      ]
    },
    {
      "cell_type": "markdown",
      "metadata": {
        "id": "fMOQfRPLpnLJ"
      },
      "source": [
        "> **We load and inspect the text converted PDF files and some properties below**"
      ]
    },
    {
      "cell_type": "markdown",
      "metadata": {
        "id": "knrc96uypnLJ"
      },
      "source": [
        "We can now load one of the PDFs and examine its content. Note that this relies on extracting the content of the PDF as text and works well for the parts which are written text in the PDF, but works less well for e.g., tables and figures. In order to handle tables and figures well we typically need to perform pre-processing steps which are more complex and tailored for the specific PDF file type we wish to examine."
      ]
    },
    {
      "cell_type": "code",
      "source": [
        "# Helper functions for text retrieval from documents\n",
        "#-------------------------------------------------------------------------------\n",
        "def text_from_pdf(file_path: str) -> dict:\n",
        "  \"\"\"\n",
        "  Uses the PyMuPDF library fitz module to extract raw text from a pdf.\n",
        "    https://pymupdf.readthedocs.io/en/latest/\n",
        "\n",
        "  Input:\n",
        "  file_path - path to pdf file for parsing\n",
        "\n",
        "  Output:\n",
        "  dict - Returns a dictionary with \"page_nr\" as key and extracted text as value.\n",
        "  Additional properties can be made available (see link in comment below).\n",
        "  \"\"\"\n",
        "  doc = fitz.open(file_path)\n",
        "  pages = {}\n",
        "  for page in doc:\n",
        "    # type(page) = <class 'fitz.fitz.Page'>\n",
        "    # (https://pymupdf.readthedocs.io/en/latest/page.html)\n",
        "    pages[f\"page_{page.number}\"] = page.get_text()\n",
        "  return pages\n",
        "\n",
        "def pdf_dict_to_str(pdf_dicct: dict) -> str:\n",
        "  \"\"\"Construct a single text string from text_from_pdf() output\"\"\"\n",
        "  return \"\\n\".join(pdf_dicct.values())"
      ],
      "metadata": {
        "colab": {
          "base_uri": "https://localhost:8080/",
          "height": 17
        },
        "id": "JrykZn822F7j",
        "outputId": "725f5e75-3e0d-4ab2-a6a3-0b1e4564bc40"
      },
      "execution_count": null,
      "outputs": [
        {
          "output_type": "display_data",
          "data": {
            "text/plain": [
              "<IPython.core.display.HTML object>"
            ],
            "text/html": [
              "\n",
              "  <style>\n",
              "    pre {\n",
              "        white-space: pre-wrap;\n",
              "    }\n",
              "  </style>\n",
              "  "
            ]
          },
          "metadata": {}
        }
      ]
    },
    {
      "cell_type": "code",
      "execution_count": null,
      "metadata": {
        "colab": {
          "base_uri": "https://localhost:8080/",
          "height": 446
        },
        "id": "zSZak8rJpnLJ",
        "outputId": "bd5022ba-0e63-49e4-83db-32434e87c44b"
      },
      "outputs": [
        {
          "output_type": "display_data",
          "data": {
            "text/plain": [
              "<IPython.core.display.HTML object>"
            ],
            "text/html": [
              "\n",
              "  <style>\n",
              "    pre {\n",
              "        white-space: pre-wrap;\n",
              "    }\n",
              "  </style>\n",
              "  "
            ]
          },
          "metadata": {}
        },
        {
          "output_type": "stream",
          "name": "stdout",
          "text": [
            "\u001b[31m\u001b[103m\u001b[1mNr of pages in pdf document:\u001b[0m 96 \n",
            "\n",
            "The document contains \u001b[31m\u001b[103m\u001b[1m195303\u001b[0m symbols/characters\n",
            "\u001b[31m\u001b[103m\u001b[1m\n",
            "\n",
            "Ex text from first page:\u001b[0m\n",
            "\n",
            "ZR Owner’s Manual\n",
            "OM0005_Rev A_ZR\n",
            "ii\n",
            "REGISTER YOUR TiLITE\n",
            "Register online at TiLite.com\n",
            "or\n",
            "Complete and mail the form on the next page\n",
            "Why Should You Register:\n",
            "1. Increase your use and enjoyment of your TiLite by receiving updates from\n",
            "    TiLite with product information, maintenance tips and industry news.\n",
            "2. Enable TiLite to contact you or your health care provider if servicing is\n",
            "    needed for your wheelchair.\n",
            "3. Provide your feedback to TiLite regarding your experience and needs,\n",
            "    thereby enabling TiLite to further improve product designs.\n",
            "All information you provide to TiLite when you register will be protected by TiLite as \n",
            "required by applicable laws and regulations and will be used solely by TiLite.\n",
            "\n"
          ]
        }
      ],
      "source": [
        "pdf_file = Patricia_permobil_manual\n",
        "\n",
        "# Here we read in the PDF as text using the function text_from_pdf(), defined in the file helper_functions.py\n",
        "pdf_text = text_from_pdf(DATAPATH + pdf_file + \".pdf\")\n",
        "\n",
        "\n",
        "# Here we count and print out the total nr of pages in the retrieved PDF\n",
        "print(f\"{Fore.RED + Back.LIGHTYELLOW_EX + Style.BRIGHT}Nr of pages in pdf document:{Style.RESET_ALL} {len(pdf_text.keys())} \\n\")\n",
        "\n",
        "\n",
        "# Here we count and print out the total nr of symbols in the retrieved PDF file\n",
        "concat_text = pdf_dict_to_str(text_from_pdf(DATAPATH + pdf_file + \".pdf\"))\n",
        "print(f\"The document contains {Fore.RED + Back.LIGHTYELLOW_EX + Style.BRIGHT}{len(concat_text)}{Style.RESET_ALL} symbols/characters\")\n",
        "\n",
        "\n",
        "# We then print an example page from the PDF\n",
        "print(f\"{Fore.RED + Back.LIGHTYELLOW_EX + Style.BRIGHT}\\n\\nEx text from first page:{Style.RESET_ALL}\\n\")\n",
        "print(f\"{pdf_text['page_3']}\")"
      ]
    },
    {
      "cell_type": "markdown",
      "metadata": {
        "id": "9Ung3ivApnLJ"
      },
      "source": [
        "### OPTIONAL: The following section performs chunking of text and creates indexed embeddings for the chunks"
      ]
    },
    {
      "cell_type": "markdown",
      "metadata": {
        "id": "IeM01TyzpnLJ"
      },
      "source": [
        "The chat models have a limit in the number of tokens/characters they can receive as input. This means we cannot feed them the full PDF as context. Rather we need to find the most relevant pieces of text within the PDF and use that when asking the LLM to respond to a query about the PDF.\n",
        "\n",
        "Here we split up the four PDF documents into piecewise chunks of text for embedding purposes."
      ]
    },
    {
      "cell_type": "code",
      "source": [
        "def TextLoader(\n",
        "    file_path: str,\n",
        "    loader: Type[PyPDFLoader | JSONLoader | None]=None,\n",
        "    jq_schema: str='.', # '.content', '.messages[].content'\n",
        "    content_key='content',\n",
        "    json_lines: bool=False,\n",
        "    txt_encoding: str=sys.getfilesystemencoding()\n",
        "    ) -> List[Document]:\n",
        "    \"\"\"\n",
        "    Converts a pdf, JSON or txt file into a langchain Document object,\n",
        "    containing methods page_content and metadata.\n",
        "    Specify type via loader, if not PyPDFLoader | JSONLoader then assumes txt\n",
        "    \"\"\"\n",
        "    pages = None\n",
        "    if loader==PyPDFLoader:\n",
        "      loader = PyPDFLoader(file_path=file_path)\n",
        "      pages = loader.load()   # .load_and_split()\n",
        "    elif loader==JSONLoader:\n",
        "      loader = JSONLoader(\n",
        "          file_path=file_path,\n",
        "          jq_schema=jq_schema,\n",
        "          content_key=content_key,\n",
        "          json_lines=json_lines\n",
        "          )\n",
        "      pages = loader.load()\n",
        "    else:\n",
        "      text_string = text_from_txt(file_path=file_path, encoding=txt_encoding)\n",
        "      pages = [Document(page_content=text_string, metadata={\"source\": file_path})]\n",
        "    return pages\n",
        "\n",
        "\n",
        "def chunk_documents(\n",
        "    documents: List[Document],\n",
        "    TextSplitter: Type[CharacterTextSplitter | RecursiveCharacterTextSplitter],\n",
        "    chunk_size: int=512,\n",
        "    chunk_overlap: int=20,\n",
        "    separator: str=None,\n",
        "    ) -> List[Document]:\n",
        "    \"\"\"\n",
        "    TBW ...\n",
        "    Output: A list of langchain.schema.document.Document objects.\n",
        "    These have methods\n",
        "      - Document.page_content [str] contains the text chunk\n",
        "      - Doumnent.metadata [dict] contains optional metadata\n",
        "    \"\"\"\n",
        "    docs = None\n",
        "    # CharacterTextSplitter\n",
        "    if separator!=None:\n",
        "      text_splitter = CharacterTextSplitter(\n",
        "      separator = separator,\n",
        "      chunk_size = chunk_size,\n",
        "      chunk_overlap  = chunk_overlap\n",
        "      )\n",
        "      docs = text_splitter.split_documents(documents)\n",
        "    #RecursiveCharacterTextSplitter\n",
        "    else:\n",
        "      text_splitter = RecursiveCharacterTextSplitter(\n",
        "          chunk_size = chunk_size,\n",
        "          chunk_overlap  = chunk_overlap\n",
        "      )\n",
        "      docs = text_splitter.split_documents(documents)\n",
        "\n",
        "    if docs:\n",
        "      return docs\n",
        "    else:\n",
        "      print(f\"Error: could not chunk text.\")\n",
        "      return None"
      ],
      "metadata": {
        "id": "skMvqNkzQ68N"
      },
      "execution_count": null,
      "outputs": []
    },
    {
      "cell_type": "code",
      "execution_count": null,
      "metadata": {
        "id": "OSpFUPzL_tqN"
      },
      "outputs": [],
      "source": [
        "# We loop over the 4 PDF files and  collect the chunked results into a Python dictionary\n",
        "chunked_pdf_files_dict = {}\n",
        "for pdf_file in pdf_files:\n",
        "    # Here we get the path to the current PDF file\n",
        "    pdf_location = DATAPATH + pdf_file + \".pdf\"\n",
        "    # The below function performs the cunking of the PDF\n",
        "    chunked_pdf = chunk_documents(\n",
        "        documents= TextLoader(file_path=pdf_location, loader=PyPDFLoader),\n",
        "        TextSplitter=RecursiveCharacterTextSplitter,\n",
        "        chunk_size=512, # 512 is the maximum Sequence length\n",
        "        chunk_overlap=20,\n",
        "        separator=None,\n",
        "        )\n",
        "    chunked_pdf_files_dict[pdf_file] = chunked_pdf"
      ]
    },
    {
      "cell_type": "markdown",
      "metadata": {
        "id": "eLg9w5arpnLJ"
      },
      "source": [
        "Let's print out a sample chunk so that we can see what kind of information is available within a single chunk of text."
      ]
    },
    {
      "cell_type": "code",
      "execution_count": null,
      "metadata": {
        "id": "v3jNhQ6WpnLJ"
      },
      "outputs": [],
      "source": [
        "print(chunked_pdf_files_dict[Patricia_permobil_manual][79].page_content)"
      ]
    },
    {
      "cell_type": "markdown",
      "metadata": {
        "id": "yfKOwgNNpnLJ"
      },
      "source": [
        "We can also inspect a chunk which contains a table, to see what it looks like. Observe the format of the table and note that this is the kind of inromation that will be provided as input to the LLM when we query it."
      ]
    },
    {
      "cell_type": "code",
      "execution_count": null,
      "metadata": {
        "id": "O4PlS1CFpnLJ"
      },
      "outputs": [],
      "source": [
        "# The below chunk contains a table from the caterpillar_10k PDF.\n",
        "print(chunked_pdf_files_dict[caterpillar_10k][104].page_content)"
      ]
    },
    {
      "cell_type": "markdown",
      "metadata": {
        "id": "eAls1duKpnLK"
      },
      "source": [
        "#### Performing the embedding of the chunked PDF documents"
      ]
    },
    {
      "cell_type": "code",
      "execution_count": null,
      "metadata": {
        "id": "ixzJbGHipnLK"
      },
      "outputs": [],
      "source": [
        "embed_pdfs = False\n",
        "save_embeddings = False\n",
        "\n",
        "# For embeddings we use the best open source model on the MTEB leaderboard at https://huggingface.co/spaces/mteb/leaderboard\n",
        "embedding_model = \"BAAI/bge-large-en-v1.5\""
      ]
    },
    {
      "cell_type": "markdown",
      "metadata": {
        "id": "8cImvWyNpnLK"
      },
      "source": [
        "> **NB: The below code block takes around 100 minutes to complete for the four PDF's (100-150 pages each), so this has been prepared before the lecture. We have kept the code here for those interested, but during the course**\n",
        ">\n",
        "> **`DO NOT RUN THE BELOW TWO CELLS!` or `DO NOT MODIFY THE embed_pdfs = False and save_embeddings = False!`**"
      ]
    },
    {
      "cell_type": "code",
      "source": [
        "def make_index_FAISS(\n",
        "    chunked_documents: List[Document],\n",
        "    embedding: HuggingFaceEmbeddings,\n",
        "    ) -> List:\n",
        "  \"\"\"Use FAISS to perform similarity search ...\"\"\"\n",
        "  faiss_index = FAISS.from_documents(\n",
        "      documents=chunked_documents,\n",
        "      embedding=embedding\n",
        "      )\n",
        "  return faiss_index\n",
        "\n",
        "\n",
        "def similarity_search_FAISS(\n",
        "    search_query: str,\n",
        "    index_store: FAISS,\n",
        "    nr_hits: int=5,\n",
        "    ) -> List:\n",
        "  \"\"\"Use FAISS to perform similarity search ...\"\"\"\n",
        "  most_similar = index_store.similarity_search(search_query, k=nr_hits)\n",
        "  return most_similar"
      ],
      "metadata": {
        "id": "gVn3zxpE4nOZ"
      },
      "execution_count": null,
      "outputs": []
    },
    {
      "cell_type": "code",
      "execution_count": null,
      "metadata": {
        "id": "Eh6n7_MrpnLK"
      },
      "outputs": [],
      "source": [
        "if embed_pdfs:\n",
        "    embedding_dict = {}\n",
        "    for pdf_file in pdf_files:\n",
        "        print(f\"Creating FAISS embedding for document {pdf_file} using - {embedding_model}\")\n",
        "        start = timer()\n",
        "        embedding = doc_embedding(embedding_model=embedding_model)\n",
        "        faiss_index = make_index_FAISS(chunked_documents=chunked_pdf_files_dict[pdf_file], embedding=embedding)\n",
        "        end = timer()\n",
        "        time_taken=end-start\n",
        "        print(f\"Done! Embedded vector index created after {time_taken/60:.2f} minutes\")\n",
        "        print(\"*\"*25)\n",
        "        embedding_dict[pdf_file] = faiss_index"
      ]
    },
    {
      "cell_type": "markdown",
      "metadata": {
        "id": "3ZR0NtCbpnLK"
      },
      "source": [
        "Here we save the embeddings so that we don't have to rerun the above every time."
      ]
    },
    {
      "cell_type": "code",
      "execution_count": null,
      "metadata": {
        "id": "jXgHYu7MpnLK"
      },
      "outputs": [],
      "source": [
        "if save_embeddings:\n",
        "    for pdf_embedding in embedding_dict.keys():\n",
        "        FAISS_folder_name = DATAPATH + f\"FAISS_{pdf_embedding}.faiss\"\n",
        "        embedding_dict[pdf_embedding].save_local(FAISS_folder_name)"
      ]
    },
    {
      "cell_type": "markdown",
      "metadata": {
        "id": "uaplPKsbpnLK"
      },
      "source": [
        "Note that the above two code blocks have been run in advance in order to save the embeddings. This allows us to avoid doing this during the live session."
      ]
    },
    {
      "cell_type": "markdown",
      "metadata": {
        "id": "o7XzwMK-pnLK"
      },
      "source": [
        "### Loading the saved embeddings"
      ]
    },
    {
      "cell_type": "markdown",
      "metadata": {
        "id": "Dk-DHn1XpnLK"
      },
      "source": [
        "In order to match our query to relevant context within the PDF files we must embed the text of the PDF files into an *embedding space*. This is done by chunking the text of the PDF files and then store the chunks as indexed *embedding vectors*. This is what has been done in advance by performing the steps in the above optional section.\n",
        "\n",
        "We can then create an *embedding vector* from our query and perform a similarity operation against all of the embedded chunks, which allow us to find the most semantically similar chunks by performing a very quick operation. In this way we can quickly retrieve relevant context for our query."
      ]
    },
    {
      "cell_type": "markdown",
      "metadata": {
        "id": "GN1BAEEapnLK"
      },
      "source": [
        "If embeddings are already saved we can simply load them from storage. The output from running the embedding models have been saved in the four FAISS folders which you can see in the downloaded course content. This avoids repeating the embedding process which can be quite time consuming. In a production environment you typically do this kind of indexing once, or on a running schedule if you expect the documents you embed will change over time."
      ]
    },
    {
      "cell_type": "markdown",
      "metadata": {
        "id": "j_l4Ak4apnLK"
      },
      "source": [
        "> **`Note that the first time you run the below code cell block you will load the embedding model into memory and you may see progress bars running while this happens. Once the model is loaded into memory this will no longer happen.`**"
      ]
    },
    {
      "cell_type": "code",
      "execution_count": null,
      "metadata": {
        "id": "zi3wTxW2pnLK"
      },
      "outputs": [],
      "source": [
        "# For embeddings we use the best open source model on the MTEB leaderboard at https://huggingface.co/spaces/mteb/leaderboard\n",
        "embedding_model = \"BAAI/bge-large-en-v1.5\"\n",
        "\n",
        "# We load and collect the saved embeddings in a python dictionary. This only takes ~15 seconds to load\n",
        "faiss_embeddings_dict = {}\n",
        "if not save_embeddings:\n",
        "    for pdf_file in pdf_files:\n",
        "        FAISS_folder_name = DATAPATH + f\"FAISS_{pdf_file}.faiss\"\n",
        "        embedding = doc_embedding(embedding_model=embedding_model)\n",
        "        faiss_embeddings_dict[pdf_file] = FAISS.load_local(FAISS_folder_name, embedding)"
      ]
    },
    {
      "cell_type": "markdown",
      "metadata": {
        "id": "6gH3dIOapnLK"
      },
      "source": [
        "Let's try out making a simple query against the saved embeddings by doing a similarity search. The similarity search is a quick operation which retrieves the most semantically similar embeddings to your query."
      ]
    },
    {
      "cell_type": "code",
      "execution_count": null,
      "metadata": {
        "id": "1IrI6te5pnLL"
      },
      "outputs": [],
      "source": [
        "# We choose one of the PDF files and a relevant search query\n",
        "pdf_file = Patricia_permobil_manual\n",
        "similarity_query = \"What is the procedure for setting up my TiLite rigid wheelchair?\"\n",
        "\n",
        "\n",
        "# We retrieve the most semantically similar chunks by doing a similarity search over the saved embeddings in our faiss_embeddings_dict\n",
        "# The argument k sets how many such chunks we wish to retrieve\n",
        "test = faiss_embeddings_dict[pdf_file].similarity_search(similarity_query, k=10)\n",
        "\n",
        "\n",
        "# We can now print out the most similar chunk. We print out both the chunk and the PDF page on which it is located.\n",
        "# The retrieved chunks are collected in order of similarity from 0 to k-1,\n",
        "# so chunk_nr = 0 correspond to the most similar chunk\n",
        "chunk_nr = 0\n",
        "print(f\"Found on page: {test[chunk_nr].metadata['page']}\\n\")\n",
        "print(test[chunk_nr].page_content)"
      ]
    },
    {
      "cell_type": "markdown",
      "metadata": {
        "id": "R1qkcFGJpnLL"
      },
      "source": [
        "### Querying the Permobil Manual PDF"
      ]
    },
    {
      "cell_type": "markdown",
      "metadata": {
        "id": "U9IbWl4TpnLL"
      },
      "source": [
        "We are now ready to start asking questions of our PDF files."
      ]
    },
    {
      "cell_type": "code",
      "execution_count": null,
      "metadata": {
        "id": "zdn6GzoApnLL"
      },
      "outputs": [],
      "source": [
        "# Step 1:\n",
        "# Setting up the Model\n",
        "# We're preparing to use a specific AI model by setting some initial parameters.\n",
        "# One of these parameters is 'temperature', which affects how creative or strict the model's responses will be.\n",
        "# A lower temperature like 0.0 makes the model more focused and less random in its responses.\n",
        "temperature = 0.0\n",
        "\n",
        "\n",
        "# Now we create an instance of the ChatOpenAI model, which we'll use to generate responses.\n",
        "# We're specifying which model to use ('gpt-3.5-turbo') and providing our OpenAI API key to authorize access.\n",
        "chat_model = ChatOpenAI(\n",
        "    openai_api_key=os.environ['OPENAI_API_KEY'],\n",
        "    model=\"gpt-3.5-turbo\",\n",
        "    temperature=temperature\n",
        ")\n",
        "\n",
        "\n",
        "# Step 2:\n",
        "# Defining a Prompt Function to Use the Model\n",
        "# We define a function for more easily calling the LLM using the same prompt template but with a different query and context\n",
        "def LLM_with_pdf_context(context: str, query: str, temperature: float=0.0):\n",
        "\n",
        "    # System prompt\n",
        "    system_prompt = f\"\"\"\n",
        "    Ignore all previous instructions. You are a helpful investment management expert.\n",
        "    You are logical, methodical and always find the best and most relevant answer to a query.\n",
        "    Break down the problem, objects, numbers and logic before starting to answer the query.\n",
        "    Then proceed to answer in a step-by-step manner.\n",
        "    \"\"\"\n",
        "\n",
        "    # This prompt template inputs the merged context and query for the LLM\n",
        "    user_prompt = f\"\"\"\n",
        "    I need help from an investement management expert.\n",
        "    One of our portfolio companies have handed us these brief instruction snippets as\n",
        "    context: {context}\n",
        "\n",
        "    Use only the above context and nothing else to answer the following\n",
        "    question: {query}\n",
        "    If the answer is provided in the form of a bulleted list within the context,\n",
        "    then return those instructions verbatim and do not try to rephrase them.\n",
        "    If you cannot answer based on the information in context, then do not try to answer, but instead must answer verbatim with:\n",
        "    {{There is no available information related to your query in the context!'}}\n",
        "    \"\"\"\n",
        "\n",
        "    messages = [\n",
        "        SystemMessage(content=system_prompt),\n",
        "        HumanMessage(content=user_prompt),\n",
        "    ]\n",
        "\n",
        "    response = chat_model(messages, temperature=temperature)\n",
        "    print(response.content)"
      ]
    },
    {
      "cell_type": "code",
      "execution_count": null,
      "metadata": {
        "id": "IL3UqqyspnLL"
      },
      "outputs": [],
      "source": [
        "# We choose one of the PDF files and a relevant search query. This query is the same as we asked during session 1 using the AskYourPDF plugin\n",
        "pdf_file = Patricia_permobil_manual\n",
        "query = \"What tools are needed for adjusting the Front Seat Height on Slipstream Single-Sided Forks. Also provide the steps for performing the adjustment.\"\n",
        "\n",
        "\n",
        "# We retrieve the most similar chunks related to above search query and collect these into a context string\n",
        "faiss_index = faiss_embeddings_dict[pdf_file]\n",
        "top_hits = similarity_search_FAISS(search_query=query, nr_hits=5, index_store=faiss_index)\n",
        "context = \"\".join([document.page_content for document in top_hits])"
      ]
    },
    {
      "cell_type": "markdown",
      "metadata": {
        "id": "FaNW0MHQpnLL"
      },
      "source": [
        "First, let's use all of the retrieved top hits as context when querying the model."
      ]
    },
    {
      "cell_type": "code",
      "execution_count": null,
      "metadata": {
        "id": "RHnd-fAPpnLL"
      },
      "outputs": [],
      "source": [
        "# Use our pre-defined function to get the model response\n",
        "LLM_with_pdf_context(context, query)"
      ]
    },
    {
      "cell_type": "markdown",
      "metadata": {
        "id": "RZW_w3OGpnLL"
      },
      "source": [
        "We see that the instructions are incomplete (these contain 7 steps in the PDF). This is due to the fact that the most relevant chunk happened to only contain the first part of the full instructions. Since the chunks are small this is something that can happen quite often. In order to get a more complete response we can try to feed not the retrieved and merged chunks as context, but instead feed the whole PDF page of the most relevant chunk, assuming it contains more fuller context. We can also do some combination of this and using other chunks if we find that top hit doesn't always work."
      ]
    },
    {
      "cell_type": "code",
      "execution_count": null,
      "metadata": {
        "id": "nO6g6UmppnLL"
      },
      "outputs": [],
      "source": [
        "# Here we get the page of the top hit and use that whole PDF page as context\n",
        "context_page = f\"\"\"{pdf_text[f'page_{top_hits[0].metadata[\"page\"]}']}\"\"\"\n",
        "\n",
        "# Use the pre-defined function but with the whole context page as context\n",
        "LLM_with_pdf_context(context_page, query)"
      ]
    },
    {
      "cell_type": "markdown",
      "metadata": {
        "id": "nhNvch_opnLL"
      },
      "source": [
        "In this case this worked much better, since the retrieved page actually contained the full instructions. In real production applications you may not always be so lucky, the instructions could for example be spread over multiple pages, so some work is often required to ensure consistency over a large corpus of texts."
      ]
    },
    {
      "cell_type": "markdown",
      "metadata": {
        "id": "7LdcOA6vpnLL"
      },
      "source": [
        "### Querying the Electrolux Annual Report PDF"
      ]
    },
    {
      "cell_type": "markdown",
      "metadata": {
        "id": "Mq6PlK9FpnLL"
      },
      "source": [
        "Let's try asking some questions based on the content in the Electrolux's annual report for 2022."
      ]
    },
    {
      "cell_type": "code",
      "source": [
        "def get_contexts(pdf: str, query: str, faiss_embeddings_dict: dict, nr_hits: int=5):\n",
        "    contexts = []\n",
        "    faiss_index = faiss_embeddings_dict[pdf]\n",
        "    top_hits = similarity_search_FAISS(search_query=query, nr_hits=nr_hits, index_store=faiss_index)\n",
        "    context = \"\".join([document.page_content for document in top_hits])\n",
        "    contexts.append(context)\n",
        "\n",
        "    return contexts"
      ],
      "metadata": {
        "id": "rR8uh34246JW"
      },
      "execution_count": null,
      "outputs": []
    },
    {
      "cell_type": "code",
      "execution_count": null,
      "metadata": {
        "id": "xpq0VpmdpnLL"
      },
      "outputs": [],
      "source": [
        "# Set our pdf variable to the Electrolux annual report\n",
        "pdf_file = electrolux_ann_rep"
      ]
    },
    {
      "cell_type": "code",
      "execution_count": null,
      "metadata": {
        "id": "7tEKHH6WpnLL"
      },
      "outputs": [],
      "source": [
        "query = \"Which major events happened for Electrolux during 2022?\"\n",
        "\n",
        "\n",
        "# Use our function to retrieve the most similar chunks related to the search query for the given PDF\n",
        "context = get_contexts(pdf=pdf_file, query=query, faiss_embeddings_dict=faiss_embeddings_dict)\n",
        "\n",
        "\n",
        "# Use our pre-defined function to get the model response\n",
        "LLM_with_pdf_context(context, query)"
      ]
    },
    {
      "cell_type": "markdown",
      "metadata": {
        "id": "dmZGBymkpnLM"
      },
      "source": [
        "**Try it out yourself:**\n",
        "\n",
        "Try it out by searching with your own query for information from the Electrolux Annual Report. You could, for example, ask questions about risks and challenges mentioned in the report or ask the model to explain Electrolux's business in Latin America."
      ]
    },
    {
      "cell_type": "code",
      "execution_count": null,
      "metadata": {
        "id": "fcP1wzPqpnLM"
      },
      "outputs": [],
      "source": [
        "# Write your own query and retrieve search results from that as context for the LLM\n",
        "query = \"...\"\n",
        "\n",
        "\n",
        "# Use our function to retrieve the most similar chunks related to the search query for the given PDF\n",
        "context = get_contexts(pdf=pdf_file, query=query, faiss_embeddings_dict=faiss_embeddings_dict)\n",
        "\n",
        "\n",
        "# Use our pre-defined function to get the model response\n",
        "LLM_with_pdf_context(context, query)"
      ]
    },
    {
      "cell_type": "markdown",
      "metadata": {
        "id": "l-I7T4fOpnLM"
      },
      "source": [
        "### Querying the Caterpillar 10-K PDF"
      ]
    },
    {
      "cell_type": "markdown",
      "metadata": {
        "id": "K-8JNa9epnLM"
      },
      "source": [
        "Let's try asking some questions based on the content in the Caterpillar 10-K annual report for 2022."
      ]
    },
    {
      "cell_type": "code",
      "execution_count": null,
      "metadata": {
        "id": "KF25Fej1pnLM"
      },
      "outputs": [],
      "source": [
        "# Set our pdf variable to the Caterpillar 10-K report\n",
        "pdf_file = caterpillar_10k"
      ]
    },
    {
      "cell_type": "code",
      "execution_count": null,
      "metadata": {
        "id": "sPOdlELbpnLM"
      },
      "outputs": [],
      "source": [
        "# Ask a relevant query\n",
        "query = \"Which identified risks and challenges are mentioned in the report?\"\n",
        "\n",
        "\n",
        "# Use our function to retrieve the most similar chunks related to the search query for the given PDF\n",
        "context = get_contexts(pdf=pdf_file, query=query, faiss_embeddings_dict=faiss_embeddings_dict)\n",
        "\n",
        "\n",
        "# Use our pre-defined function to get the model response\n",
        "LLM_with_pdf_context(context, query)"
      ]
    },
    {
      "cell_type": "markdown",
      "metadata": {
        "id": "qSFO1rHApnLM"
      },
      "source": [
        "**Tables in PDF-reports:**\n",
        "\n",
        "The Caterpillar 10-K report contains multiple tables which may cause a problem when using the text chunks for similarity retrieval. Here we can try and ask questions about information found in tables in the report. However, depending on the chunks, the model may confuse numbers found in the tables."
      ]
    },
    {
      "cell_type": "code",
      "execution_count": null,
      "metadata": {
        "id": "8k6DoF4MpnLM"
      },
      "outputs": [],
      "source": [
        "# Let's ask a question which requires analyzing table information inside the PDF\n",
        "query = \"How many full-time employees did they have at the end of the year 2022 in Latin America?\"\n",
        "\n",
        "\n",
        "# Use our function to retrieve the most similar chunks related to the search query for the given PDF\n",
        "context = get_contexts(pdf=pdf_file, query=query, faiss_embeddings_dict=faiss_embeddings_dict)\n",
        "\n",
        "\n",
        "# Use our pre-defined function to get the model response\n",
        "LLM_with_pdf_context(context, query)"
      ]
    },
    {
      "cell_type": "markdown",
      "metadata": {
        "id": "K1s3gGGUpnLM"
      },
      "source": [
        "**Try it out yourself:**\n",
        "\n",
        "Try it out by searching with your own query for information from the Caterpillar 10-K report."
      ]
    },
    {
      "cell_type": "code",
      "execution_count": null,
      "metadata": {
        "id": "YPdSQmz1pnLM"
      },
      "outputs": [],
      "source": [
        "# Write your own query and retrieve search results from that as context for the LLM\n",
        "query = \"...\"\n",
        "\n",
        "\n",
        "# Use our function to retrieve the most similar chunks related to the search query for the given PDF\n",
        "context = get_contexts(pdf=pdf_file, query=query, faiss_embeddings_dict=faiss_embeddings_dict)\n",
        "\n",
        "\n",
        "# Use our pre-defined function to get the model response\n",
        "LLM_with_pdf_context(context, query)"
      ]
    },
    {
      "cell_type": "markdown",
      "metadata": {
        "id": "VB4hLDpbpnLM"
      },
      "source": [
        "### Comparison between two PDF: Electrolux Annual Report and Whirlpool 10-K Report"
      ]
    },
    {
      "cell_type": "markdown",
      "metadata": {
        "id": "1faZmz7ipnLM"
      },
      "source": [
        "Let's go a bit deeper and try to compare information between two different PDF files. We can try to ask a question for which we expect there are answers in both the Electrolux annual report and the Whirlpool 10-K report. By using a query to retrieve relevant information from both of these reports we can use that as context to the LLM and ask about comparisons etc."
      ]
    },
    {
      "cell_type": "code",
      "execution_count": null,
      "metadata": {
        "id": "yvJgdE4jpnLM"
      },
      "outputs": [],
      "source": [
        "# We define a function for more easily call the LLM using the same prompt template but with a different query and contexts\n",
        "def LLM_with_pdf_context_comparison(company1: str, company2: str, context1: str, context2: str, query: str, temperature: float=0.0):\n",
        "\n",
        "    # System prompt\n",
        "    system_prompt = f\"\"\"\n",
        "    Ignore all previous instructions. You are a helpful investment management expert.\n",
        "    You are logical, methodical and always find the best and most relevant answer to a query.\n",
        "    Break down the problem, objects, numbers and logic before starting to answer the query.\n",
        "    Then proceed to answer in a step-by-step manner.\n",
        "    \"\"\"\n",
        "\n",
        "    # This prompt inouts the merged context\n",
        "    user_prompt = f\"\"\"\n",
        "    Two of our portfolio companies have handed us these brief instruction snippets as\n",
        "    contexts. Contexts for {company1}: {context1}, and for {company2}: {context2}\n",
        "\n",
        "    Use only the above contexts and nothing else to answer the following\n",
        "    query: {query}\n",
        "    If the answer is provided in the form of a bulleted list within the context,\n",
        "    then return those instructions verbatim and do not try to rephrase them.\n",
        "    If you cannot answer based on the information in context, then do not try to answer, but instead must answer verbatim with:\n",
        "    {{There is no available information related to your query in the context!'}}\n",
        "    \"\"\"\n",
        "\n",
        "    messages = [\n",
        "        SystemMessage(content=system_prompt),\n",
        "        HumanMessage(content=user_prompt),\n",
        "    ]\n",
        "\n",
        "    response = chat_model(messages, temperature=temperature)\n",
        "    print(response.content)"
      ]
    },
    {
      "cell_type": "markdown",
      "metadata": {
        "id": "2RY255ZHpnLM"
      },
      "source": [
        "With the help of the above function we can pose queries which prompts the LLM to compare the information in different PDF's by creating separate contexts. Here, we compare the information in the Electrolux Annual report and Whirlpool 10-K report."
      ]
    },
    {
      "cell_type": "code",
      "execution_count": null,
      "metadata": {
        "id": "VeIisKl4pnLM"
      },
      "outputs": [],
      "source": [
        "# Let's make a query which we would like to pose to both the Whirlpool and the Electrolux PDF files\n",
        "query = \"Which key business strategies were mentioned in the report?\"\n",
        "\n",
        "\n",
        "# Using the above query, we can fetch relevant contexts from both PDF files\n",
        "context_whirlpool = get_contexts(pdf=whirlpool_10k, query=query, faiss_embeddings_dict=faiss_embeddings_dict)\n",
        "context_electrolux = get_contexts(pdf=electrolux_ann_rep, query=query, faiss_embeddings_dict=faiss_embeddings_dict)"
      ]
    },
    {
      "cell_type": "code",
      "execution_count": null,
      "metadata": {
        "id": "nAGaEqmypnLM"
      },
      "outputs": [],
      "source": [
        "# Given the above retrieved contexts we can now ask a comparative question between the companies\n",
        "chat_query = \"These are the key business strategies for Whirlpool and Electrolux. Compare them. Which strategies are similar and which are different?\""
      ]
    },
    {
      "cell_type": "code",
      "execution_count": null,
      "metadata": {
        "id": "tz8EQz75pnLM"
      },
      "outputs": [],
      "source": [
        "# Use our pre-defined function together with the names of the companies and their context\n",
        "LLM_with_pdf_context_comparison(\"Whirlpool\", \"Electrolux\", context_whirlpool, context_electrolux, chat_query)"
      ]
    },
    {
      "cell_type": "markdown",
      "metadata": {
        "id": "8Kq0shQDpnLN"
      },
      "source": [
        "**Try it out yourself:**\n",
        "\n",
        "Try it out by telling your model what information from the reports you want to compare, for example, their sustainability strategies."
      ]
    },
    {
      "cell_type": "code",
      "execution_count": null,
      "metadata": {
        "id": "NzxAQRetpnLN"
      },
      "outputs": [],
      "source": [
        "# Write your own query on what you like to pose to both the Whirlpool and the Electrolux PDF files\n",
        "query = \"...\"\n",
        "\n",
        "\n",
        "# Using the above query, we can fetch relevant contexts from both PDF files\n",
        "context_whirlpool = get_contexts(pdf=whirlpool_10k, query=query, faiss_embeddings_dict=faiss_embeddings_dict)\n",
        "context_electrolux = get_contexts(pdf=electrolux_ann_rep, query=query, faiss_embeddings_dict=faiss_embeddings_dict)\n",
        "\n",
        "\n",
        "# Change this query to ask the model to compare ... for the companies.\n",
        "chat_query = \"This is the ... for Whirlpool and Electrolux. Compare them.\"\n",
        "\n",
        "\n",
        "# Use our pre-defined function together with the names of the companies and their context\n",
        "LLM_with_pdf_context_comparison(\"Whirlpool\", \"Electrolux\", context_whirlpool, context_electrolux, chat_query)"
      ]
    },
    {
      "cell_type": "markdown",
      "metadata": {
        "id": "EXjr0_OdpnLN"
      },
      "source": [
        "### End of the notebook"
      ]
    }
  ],
  "metadata": {
    "colab": {
      "provenance": []
    },
    "interpreter": {
      "hash": "cb01f1dbab416340528beb9003d373e701839649ec4e19c51caaaa46d79e9db4"
    },
    "kernelspec": {
      "display_name": "Python 3.11.5 ('pe_short_course')",
      "language": "python",
      "name": "python3"
    },
    "language_info": {
      "codemirror_mode": {
        "name": "ipython",
        "version": 3
      },
      "file_extension": ".py",
      "mimetype": "text/x-python",
      "name": "python",
      "nbconvert_exporter": "python",
      "pygments_lexer": "ipython3",
      "version": "3.11.5"
    },
    "widgets": {
      "application/vnd.jupyter.widget-state+json": {
        "3a1a6f444dfe434abb5c5fe9e1a73560": {
          "model_module": "@jupyter-widgets/controls",
          "model_name": "HBoxModel",
          "model_module_version": "1.5.0",
          "state": {
            "_dom_classes": [],
            "_model_module": "@jupyter-widgets/controls",
            "_model_module_version": "1.5.0",
            "_model_name": "HBoxModel",
            "_view_count": null,
            "_view_module": "@jupyter-widgets/controls",
            "_view_module_version": "1.5.0",
            "_view_name": "HBoxView",
            "box_style": "",
            "children": [
              "IPY_MODEL_aff1ec396c40470d967c4d68b860dc42",
              "IPY_MODEL_68093632b35042718ab42115fab66488",
              "IPY_MODEL_a8647c72b9a542babc1e9cbf9eac6277"
            ],
            "layout": "IPY_MODEL_c4d8eb383e534642afa44af3584dc9e0"
          }
        },
        "aff1ec396c40470d967c4d68b860dc42": {
          "model_module": "@jupyter-widgets/controls",
          "model_name": "HTMLModel",
          "model_module_version": "1.5.0",
          "state": {
            "_dom_classes": [],
            "_model_module": "@jupyter-widgets/controls",
            "_model_module_version": "1.5.0",
            "_model_name": "HTMLModel",
            "_view_count": null,
            "_view_module": "@jupyter-widgets/controls",
            "_view_module_version": "1.5.0",
            "_view_name": "HTMLView",
            "description": "",
            "description_tooltip": null,
            "layout": "IPY_MODEL_5a60e11de2c347ab8171ed5e3c9bc64b",
            "placeholder": "​",
            "style": "IPY_MODEL_8131440944764234bb1d6a39a8eaeb8f",
            "value": ".gitattributes: 100%"
          }
        },
        "68093632b35042718ab42115fab66488": {
          "model_module": "@jupyter-widgets/controls",
          "model_name": "FloatProgressModel",
          "model_module_version": "1.5.0",
          "state": {
            "_dom_classes": [],
            "_model_module": "@jupyter-widgets/controls",
            "_model_module_version": "1.5.0",
            "_model_name": "FloatProgressModel",
            "_view_count": null,
            "_view_module": "@jupyter-widgets/controls",
            "_view_module_version": "1.5.0",
            "_view_name": "ProgressView",
            "bar_style": "success",
            "description": "",
            "description_tooltip": null,
            "layout": "IPY_MODEL_e68edec0bdf1409d977dcb45be8275d2",
            "max": 1519,
            "min": 0,
            "orientation": "horizontal",
            "style": "IPY_MODEL_8de0c6d1a6014175a727a0695f2a5840",
            "value": 1519
          }
        },
        "a8647c72b9a542babc1e9cbf9eac6277": {
          "model_module": "@jupyter-widgets/controls",
          "model_name": "HTMLModel",
          "model_module_version": "1.5.0",
          "state": {
            "_dom_classes": [],
            "_model_module": "@jupyter-widgets/controls",
            "_model_module_version": "1.5.0",
            "_model_name": "HTMLModel",
            "_view_count": null,
            "_view_module": "@jupyter-widgets/controls",
            "_view_module_version": "1.5.0",
            "_view_name": "HTMLView",
            "description": "",
            "description_tooltip": null,
            "layout": "IPY_MODEL_36153fbe3edb483b8b039c99b599632b",
            "placeholder": "​",
            "style": "IPY_MODEL_58949a8052eb467baad14c671a68a3e3",
            "value": " 1.52k/1.52k [00:00&lt;00:00, 40.0kB/s]"
          }
        },
        "c4d8eb383e534642afa44af3584dc9e0": {
          "model_module": "@jupyter-widgets/base",
          "model_name": "LayoutModel",
          "model_module_version": "1.2.0",
          "state": {
            "_model_module": "@jupyter-widgets/base",
            "_model_module_version": "1.2.0",
            "_model_name": "LayoutModel",
            "_view_count": null,
            "_view_module": "@jupyter-widgets/base",
            "_view_module_version": "1.2.0",
            "_view_name": "LayoutView",
            "align_content": null,
            "align_items": null,
            "align_self": null,
            "border": null,
            "bottom": null,
            "display": null,
            "flex": null,
            "flex_flow": null,
            "grid_area": null,
            "grid_auto_columns": null,
            "grid_auto_flow": null,
            "grid_auto_rows": null,
            "grid_column": null,
            "grid_gap": null,
            "grid_row": null,
            "grid_template_areas": null,
            "grid_template_columns": null,
            "grid_template_rows": null,
            "height": null,
            "justify_content": null,
            "justify_items": null,
            "left": null,
            "margin": null,
            "max_height": null,
            "max_width": null,
            "min_height": null,
            "min_width": null,
            "object_fit": null,
            "object_position": null,
            "order": null,
            "overflow": null,
            "overflow_x": null,
            "overflow_y": null,
            "padding": null,
            "right": null,
            "top": null,
            "visibility": null,
            "width": null
          }
        },
        "5a60e11de2c347ab8171ed5e3c9bc64b": {
          "model_module": "@jupyter-widgets/base",
          "model_name": "LayoutModel",
          "model_module_version": "1.2.0",
          "state": {
            "_model_module": "@jupyter-widgets/base",
            "_model_module_version": "1.2.0",
            "_model_name": "LayoutModel",
            "_view_count": null,
            "_view_module": "@jupyter-widgets/base",
            "_view_module_version": "1.2.0",
            "_view_name": "LayoutView",
            "align_content": null,
            "align_items": null,
            "align_self": null,
            "border": null,
            "bottom": null,
            "display": null,
            "flex": null,
            "flex_flow": null,
            "grid_area": null,
            "grid_auto_columns": null,
            "grid_auto_flow": null,
            "grid_auto_rows": null,
            "grid_column": null,
            "grid_gap": null,
            "grid_row": null,
            "grid_template_areas": null,
            "grid_template_columns": null,
            "grid_template_rows": null,
            "height": null,
            "justify_content": null,
            "justify_items": null,
            "left": null,
            "margin": null,
            "max_height": null,
            "max_width": null,
            "min_height": null,
            "min_width": null,
            "object_fit": null,
            "object_position": null,
            "order": null,
            "overflow": null,
            "overflow_x": null,
            "overflow_y": null,
            "padding": null,
            "right": null,
            "top": null,
            "visibility": null,
            "width": null
          }
        },
        "8131440944764234bb1d6a39a8eaeb8f": {
          "model_module": "@jupyter-widgets/controls",
          "model_name": "DescriptionStyleModel",
          "model_module_version": "1.5.0",
          "state": {
            "_model_module": "@jupyter-widgets/controls",
            "_model_module_version": "1.5.0",
            "_model_name": "DescriptionStyleModel",
            "_view_count": null,
            "_view_module": "@jupyter-widgets/base",
            "_view_module_version": "1.2.0",
            "_view_name": "StyleView",
            "description_width": ""
          }
        },
        "e68edec0bdf1409d977dcb45be8275d2": {
          "model_module": "@jupyter-widgets/base",
          "model_name": "LayoutModel",
          "model_module_version": "1.2.0",
          "state": {
            "_model_module": "@jupyter-widgets/base",
            "_model_module_version": "1.2.0",
            "_model_name": "LayoutModel",
            "_view_count": null,
            "_view_module": "@jupyter-widgets/base",
            "_view_module_version": "1.2.0",
            "_view_name": "LayoutView",
            "align_content": null,
            "align_items": null,
            "align_self": null,
            "border": null,
            "bottom": null,
            "display": null,
            "flex": null,
            "flex_flow": null,
            "grid_area": null,
            "grid_auto_columns": null,
            "grid_auto_flow": null,
            "grid_auto_rows": null,
            "grid_column": null,
            "grid_gap": null,
            "grid_row": null,
            "grid_template_areas": null,
            "grid_template_columns": null,
            "grid_template_rows": null,
            "height": null,
            "justify_content": null,
            "justify_items": null,
            "left": null,
            "margin": null,
            "max_height": null,
            "max_width": null,
            "min_height": null,
            "min_width": null,
            "object_fit": null,
            "object_position": null,
            "order": null,
            "overflow": null,
            "overflow_x": null,
            "overflow_y": null,
            "padding": null,
            "right": null,
            "top": null,
            "visibility": null,
            "width": null
          }
        },
        "8de0c6d1a6014175a727a0695f2a5840": {
          "model_module": "@jupyter-widgets/controls",
          "model_name": "ProgressStyleModel",
          "model_module_version": "1.5.0",
          "state": {
            "_model_module": "@jupyter-widgets/controls",
            "_model_module_version": "1.5.0",
            "_model_name": "ProgressStyleModel",
            "_view_count": null,
            "_view_module": "@jupyter-widgets/base",
            "_view_module_version": "1.2.0",
            "_view_name": "StyleView",
            "bar_color": null,
            "description_width": ""
          }
        },
        "36153fbe3edb483b8b039c99b599632b": {
          "model_module": "@jupyter-widgets/base",
          "model_name": "LayoutModel",
          "model_module_version": "1.2.0",
          "state": {
            "_model_module": "@jupyter-widgets/base",
            "_model_module_version": "1.2.0",
            "_model_name": "LayoutModel",
            "_view_count": null,
            "_view_module": "@jupyter-widgets/base",
            "_view_module_version": "1.2.0",
            "_view_name": "LayoutView",
            "align_content": null,
            "align_items": null,
            "align_self": null,
            "border": null,
            "bottom": null,
            "display": null,
            "flex": null,
            "flex_flow": null,
            "grid_area": null,
            "grid_auto_columns": null,
            "grid_auto_flow": null,
            "grid_auto_rows": null,
            "grid_column": null,
            "grid_gap": null,
            "grid_row": null,
            "grid_template_areas": null,
            "grid_template_columns": null,
            "grid_template_rows": null,
            "height": null,
            "justify_content": null,
            "justify_items": null,
            "left": null,
            "margin": null,
            "max_height": null,
            "max_width": null,
            "min_height": null,
            "min_width": null,
            "object_fit": null,
            "object_position": null,
            "order": null,
            "overflow": null,
            "overflow_x": null,
            "overflow_y": null,
            "padding": null,
            "right": null,
            "top": null,
            "visibility": null,
            "width": null
          }
        },
        "58949a8052eb467baad14c671a68a3e3": {
          "model_module": "@jupyter-widgets/controls",
          "model_name": "DescriptionStyleModel",
          "model_module_version": "1.5.0",
          "state": {
            "_model_module": "@jupyter-widgets/controls",
            "_model_module_version": "1.5.0",
            "_model_name": "DescriptionStyleModel",
            "_view_count": null,
            "_view_module": "@jupyter-widgets/base",
            "_view_module_version": "1.2.0",
            "_view_name": "StyleView",
            "description_width": ""
          }
        },
        "1e02ba4da759437d917e13c3fb48cd62": {
          "model_module": "@jupyter-widgets/controls",
          "model_name": "HBoxModel",
          "model_module_version": "1.5.0",
          "state": {
            "_dom_classes": [],
            "_model_module": "@jupyter-widgets/controls",
            "_model_module_version": "1.5.0",
            "_model_name": "HBoxModel",
            "_view_count": null,
            "_view_module": "@jupyter-widgets/controls",
            "_view_module_version": "1.5.0",
            "_view_name": "HBoxView",
            "box_style": "",
            "children": [
              "IPY_MODEL_abfdd663d0564db8a079c4a0938210ac",
              "IPY_MODEL_f06966d945a141cdb0729dd787cc01f7",
              "IPY_MODEL_23032dca9826434a943aea436486ecdf"
            ],
            "layout": "IPY_MODEL_f0a58398030749cab4ee1c5b45b7ba12"
          }
        },
        "abfdd663d0564db8a079c4a0938210ac": {
          "model_module": "@jupyter-widgets/controls",
          "model_name": "HTMLModel",
          "model_module_version": "1.5.0",
          "state": {
            "_dom_classes": [],
            "_model_module": "@jupyter-widgets/controls",
            "_model_module_version": "1.5.0",
            "_model_name": "HTMLModel",
            "_view_count": null,
            "_view_module": "@jupyter-widgets/controls",
            "_view_module_version": "1.5.0",
            "_view_name": "HTMLView",
            "description": "",
            "description_tooltip": null,
            "layout": "IPY_MODEL_e27bbf471ac242839f1af2aef4215113",
            "placeholder": "​",
            "style": "IPY_MODEL_ec07848225194bc0876d1abf5fe4fc49",
            "value": "1_Pooling/config.json: 100%"
          }
        },
        "f06966d945a141cdb0729dd787cc01f7": {
          "model_module": "@jupyter-widgets/controls",
          "model_name": "FloatProgressModel",
          "model_module_version": "1.5.0",
          "state": {
            "_dom_classes": [],
            "_model_module": "@jupyter-widgets/controls",
            "_model_module_version": "1.5.0",
            "_model_name": "FloatProgressModel",
            "_view_count": null,
            "_view_module": "@jupyter-widgets/controls",
            "_view_module_version": "1.5.0",
            "_view_name": "ProgressView",
            "bar_style": "success",
            "description": "",
            "description_tooltip": null,
            "layout": "IPY_MODEL_0f1861e66ebf4b278c88ddf7397a23cf",
            "max": 191,
            "min": 0,
            "orientation": "horizontal",
            "style": "IPY_MODEL_ab91c0e63e9942ef9cfa20c7ab272eb9",
            "value": 191
          }
        },
        "23032dca9826434a943aea436486ecdf": {
          "model_module": "@jupyter-widgets/controls",
          "model_name": "HTMLModel",
          "model_module_version": "1.5.0",
          "state": {
            "_dom_classes": [],
            "_model_module": "@jupyter-widgets/controls",
            "_model_module_version": "1.5.0",
            "_model_name": "HTMLModel",
            "_view_count": null,
            "_view_module": "@jupyter-widgets/controls",
            "_view_module_version": "1.5.0",
            "_view_name": "HTMLView",
            "description": "",
            "description_tooltip": null,
            "layout": "IPY_MODEL_b97105810511401cba8e272c15595bbf",
            "placeholder": "​",
            "style": "IPY_MODEL_d4a9d778f1d746b3bb60aa80b05a4c5b",
            "value": " 191/191 [00:00&lt;00:00, 10.3kB/s]"
          }
        },
        "f0a58398030749cab4ee1c5b45b7ba12": {
          "model_module": "@jupyter-widgets/base",
          "model_name": "LayoutModel",
          "model_module_version": "1.2.0",
          "state": {
            "_model_module": "@jupyter-widgets/base",
            "_model_module_version": "1.2.0",
            "_model_name": "LayoutModel",
            "_view_count": null,
            "_view_module": "@jupyter-widgets/base",
            "_view_module_version": "1.2.0",
            "_view_name": "LayoutView",
            "align_content": null,
            "align_items": null,
            "align_self": null,
            "border": null,
            "bottom": null,
            "display": null,
            "flex": null,
            "flex_flow": null,
            "grid_area": null,
            "grid_auto_columns": null,
            "grid_auto_flow": null,
            "grid_auto_rows": null,
            "grid_column": null,
            "grid_gap": null,
            "grid_row": null,
            "grid_template_areas": null,
            "grid_template_columns": null,
            "grid_template_rows": null,
            "height": null,
            "justify_content": null,
            "justify_items": null,
            "left": null,
            "margin": null,
            "max_height": null,
            "max_width": null,
            "min_height": null,
            "min_width": null,
            "object_fit": null,
            "object_position": null,
            "order": null,
            "overflow": null,
            "overflow_x": null,
            "overflow_y": null,
            "padding": null,
            "right": null,
            "top": null,
            "visibility": null,
            "width": null
          }
        },
        "e27bbf471ac242839f1af2aef4215113": {
          "model_module": "@jupyter-widgets/base",
          "model_name": "LayoutModel",
          "model_module_version": "1.2.0",
          "state": {
            "_model_module": "@jupyter-widgets/base",
            "_model_module_version": "1.2.0",
            "_model_name": "LayoutModel",
            "_view_count": null,
            "_view_module": "@jupyter-widgets/base",
            "_view_module_version": "1.2.0",
            "_view_name": "LayoutView",
            "align_content": null,
            "align_items": null,
            "align_self": null,
            "border": null,
            "bottom": null,
            "display": null,
            "flex": null,
            "flex_flow": null,
            "grid_area": null,
            "grid_auto_columns": null,
            "grid_auto_flow": null,
            "grid_auto_rows": null,
            "grid_column": null,
            "grid_gap": null,
            "grid_row": null,
            "grid_template_areas": null,
            "grid_template_columns": null,
            "grid_template_rows": null,
            "height": null,
            "justify_content": null,
            "justify_items": null,
            "left": null,
            "margin": null,
            "max_height": null,
            "max_width": null,
            "min_height": null,
            "min_width": null,
            "object_fit": null,
            "object_position": null,
            "order": null,
            "overflow": null,
            "overflow_x": null,
            "overflow_y": null,
            "padding": null,
            "right": null,
            "top": null,
            "visibility": null,
            "width": null
          }
        },
        "ec07848225194bc0876d1abf5fe4fc49": {
          "model_module": "@jupyter-widgets/controls",
          "model_name": "DescriptionStyleModel",
          "model_module_version": "1.5.0",
          "state": {
            "_model_module": "@jupyter-widgets/controls",
            "_model_module_version": "1.5.0",
            "_model_name": "DescriptionStyleModel",
            "_view_count": null,
            "_view_module": "@jupyter-widgets/base",
            "_view_module_version": "1.2.0",
            "_view_name": "StyleView",
            "description_width": ""
          }
        },
        "0f1861e66ebf4b278c88ddf7397a23cf": {
          "model_module": "@jupyter-widgets/base",
          "model_name": "LayoutModel",
          "model_module_version": "1.2.0",
          "state": {
            "_model_module": "@jupyter-widgets/base",
            "_model_module_version": "1.2.0",
            "_model_name": "LayoutModel",
            "_view_count": null,
            "_view_module": "@jupyter-widgets/base",
            "_view_module_version": "1.2.0",
            "_view_name": "LayoutView",
            "align_content": null,
            "align_items": null,
            "align_self": null,
            "border": null,
            "bottom": null,
            "display": null,
            "flex": null,
            "flex_flow": null,
            "grid_area": null,
            "grid_auto_columns": null,
            "grid_auto_flow": null,
            "grid_auto_rows": null,
            "grid_column": null,
            "grid_gap": null,
            "grid_row": null,
            "grid_template_areas": null,
            "grid_template_columns": null,
            "grid_template_rows": null,
            "height": null,
            "justify_content": null,
            "justify_items": null,
            "left": null,
            "margin": null,
            "max_height": null,
            "max_width": null,
            "min_height": null,
            "min_width": null,
            "object_fit": null,
            "object_position": null,
            "order": null,
            "overflow": null,
            "overflow_x": null,
            "overflow_y": null,
            "padding": null,
            "right": null,
            "top": null,
            "visibility": null,
            "width": null
          }
        },
        "ab91c0e63e9942ef9cfa20c7ab272eb9": {
          "model_module": "@jupyter-widgets/controls",
          "model_name": "ProgressStyleModel",
          "model_module_version": "1.5.0",
          "state": {
            "_model_module": "@jupyter-widgets/controls",
            "_model_module_version": "1.5.0",
            "_model_name": "ProgressStyleModel",
            "_view_count": null,
            "_view_module": "@jupyter-widgets/base",
            "_view_module_version": "1.2.0",
            "_view_name": "StyleView",
            "bar_color": null,
            "description_width": ""
          }
        },
        "b97105810511401cba8e272c15595bbf": {
          "model_module": "@jupyter-widgets/base",
          "model_name": "LayoutModel",
          "model_module_version": "1.2.0",
          "state": {
            "_model_module": "@jupyter-widgets/base",
            "_model_module_version": "1.2.0",
            "_model_name": "LayoutModel",
            "_view_count": null,
            "_view_module": "@jupyter-widgets/base",
            "_view_module_version": "1.2.0",
            "_view_name": "LayoutView",
            "align_content": null,
            "align_items": null,
            "align_self": null,
            "border": null,
            "bottom": null,
            "display": null,
            "flex": null,
            "flex_flow": null,
            "grid_area": null,
            "grid_auto_columns": null,
            "grid_auto_flow": null,
            "grid_auto_rows": null,
            "grid_column": null,
            "grid_gap": null,
            "grid_row": null,
            "grid_template_areas": null,
            "grid_template_columns": null,
            "grid_template_rows": null,
            "height": null,
            "justify_content": null,
            "justify_items": null,
            "left": null,
            "margin": null,
            "max_height": null,
            "max_width": null,
            "min_height": null,
            "min_width": null,
            "object_fit": null,
            "object_position": null,
            "order": null,
            "overflow": null,
            "overflow_x": null,
            "overflow_y": null,
            "padding": null,
            "right": null,
            "top": null,
            "visibility": null,
            "width": null
          }
        },
        "d4a9d778f1d746b3bb60aa80b05a4c5b": {
          "model_module": "@jupyter-widgets/controls",
          "model_name": "DescriptionStyleModel",
          "model_module_version": "1.5.0",
          "state": {
            "_model_module": "@jupyter-widgets/controls",
            "_model_module_version": "1.5.0",
            "_model_name": "DescriptionStyleModel",
            "_view_count": null,
            "_view_module": "@jupyter-widgets/base",
            "_view_module_version": "1.2.0",
            "_view_name": "StyleView",
            "description_width": ""
          }
        },
        "9a8f5da187b141959b73f4b9f708f0c0": {
          "model_module": "@jupyter-widgets/controls",
          "model_name": "HBoxModel",
          "model_module_version": "1.5.0",
          "state": {
            "_dom_classes": [],
            "_model_module": "@jupyter-widgets/controls",
            "_model_module_version": "1.5.0",
            "_model_name": "HBoxModel",
            "_view_count": null,
            "_view_module": "@jupyter-widgets/controls",
            "_view_module_version": "1.5.0",
            "_view_name": "HBoxView",
            "box_style": "",
            "children": [
              "IPY_MODEL_cf57ce5e2e674fc8be19aa439b760515",
              "IPY_MODEL_7ddc0d2657c748fd9c17872db1f8566c",
              "IPY_MODEL_595743fad697441d886b98ee836e5901"
            ],
            "layout": "IPY_MODEL_0bb78efec575465c8c421e3670249fb3"
          }
        },
        "cf57ce5e2e674fc8be19aa439b760515": {
          "model_module": "@jupyter-widgets/controls",
          "model_name": "HTMLModel",
          "model_module_version": "1.5.0",
          "state": {
            "_dom_classes": [],
            "_model_module": "@jupyter-widgets/controls",
            "_model_module_version": "1.5.0",
            "_model_name": "HTMLModel",
            "_view_count": null,
            "_view_module": "@jupyter-widgets/controls",
            "_view_module_version": "1.5.0",
            "_view_name": "HTMLView",
            "description": "",
            "description_tooltip": null,
            "layout": "IPY_MODEL_2f06bd9a612b446a88cc6f6f403a1d59",
            "placeholder": "​",
            "style": "IPY_MODEL_4e5f03a78f464061b08a2b9f6a0f32c4",
            "value": "README.md: 100%"
          }
        },
        "7ddc0d2657c748fd9c17872db1f8566c": {
          "model_module": "@jupyter-widgets/controls",
          "model_name": "FloatProgressModel",
          "model_module_version": "1.5.0",
          "state": {
            "_dom_classes": [],
            "_model_module": "@jupyter-widgets/controls",
            "_model_module_version": "1.5.0",
            "_model_name": "FloatProgressModel",
            "_view_count": null,
            "_view_module": "@jupyter-widgets/controls",
            "_view_module_version": "1.5.0",
            "_view_name": "ProgressView",
            "bar_style": "success",
            "description": "",
            "description_tooltip": null,
            "layout": "IPY_MODEL_5c890ad447244eb39531177fd99666ad",
            "max": 90321,
            "min": 0,
            "orientation": "horizontal",
            "style": "IPY_MODEL_a0561ceaa2d04c5594d9ae05c1aec55e",
            "value": 90321
          }
        },
        "595743fad697441d886b98ee836e5901": {
          "model_module": "@jupyter-widgets/controls",
          "model_name": "HTMLModel",
          "model_module_version": "1.5.0",
          "state": {
            "_dom_classes": [],
            "_model_module": "@jupyter-widgets/controls",
            "_model_module_version": "1.5.0",
            "_model_name": "HTMLModel",
            "_view_count": null,
            "_view_module": "@jupyter-widgets/controls",
            "_view_module_version": "1.5.0",
            "_view_name": "HTMLView",
            "description": "",
            "description_tooltip": null,
            "layout": "IPY_MODEL_4b4db8641bba4d1693eec31a339162fd",
            "placeholder": "​",
            "style": "IPY_MODEL_fb49237121424b72a45d3a72e5cd18f6",
            "value": " 90.3k/90.3k [00:00&lt;00:00, 1.37MB/s]"
          }
        },
        "0bb78efec575465c8c421e3670249fb3": {
          "model_module": "@jupyter-widgets/base",
          "model_name": "LayoutModel",
          "model_module_version": "1.2.0",
          "state": {
            "_model_module": "@jupyter-widgets/base",
            "_model_module_version": "1.2.0",
            "_model_name": "LayoutModel",
            "_view_count": null,
            "_view_module": "@jupyter-widgets/base",
            "_view_module_version": "1.2.0",
            "_view_name": "LayoutView",
            "align_content": null,
            "align_items": null,
            "align_self": null,
            "border": null,
            "bottom": null,
            "display": null,
            "flex": null,
            "flex_flow": null,
            "grid_area": null,
            "grid_auto_columns": null,
            "grid_auto_flow": null,
            "grid_auto_rows": null,
            "grid_column": null,
            "grid_gap": null,
            "grid_row": null,
            "grid_template_areas": null,
            "grid_template_columns": null,
            "grid_template_rows": null,
            "height": null,
            "justify_content": null,
            "justify_items": null,
            "left": null,
            "margin": null,
            "max_height": null,
            "max_width": null,
            "min_height": null,
            "min_width": null,
            "object_fit": null,
            "object_position": null,
            "order": null,
            "overflow": null,
            "overflow_x": null,
            "overflow_y": null,
            "padding": null,
            "right": null,
            "top": null,
            "visibility": null,
            "width": null
          }
        },
        "2f06bd9a612b446a88cc6f6f403a1d59": {
          "model_module": "@jupyter-widgets/base",
          "model_name": "LayoutModel",
          "model_module_version": "1.2.0",
          "state": {
            "_model_module": "@jupyter-widgets/base",
            "_model_module_version": "1.2.0",
            "_model_name": "LayoutModel",
            "_view_count": null,
            "_view_module": "@jupyter-widgets/base",
            "_view_module_version": "1.2.0",
            "_view_name": "LayoutView",
            "align_content": null,
            "align_items": null,
            "align_self": null,
            "border": null,
            "bottom": null,
            "display": null,
            "flex": null,
            "flex_flow": null,
            "grid_area": null,
            "grid_auto_columns": null,
            "grid_auto_flow": null,
            "grid_auto_rows": null,
            "grid_column": null,
            "grid_gap": null,
            "grid_row": null,
            "grid_template_areas": null,
            "grid_template_columns": null,
            "grid_template_rows": null,
            "height": null,
            "justify_content": null,
            "justify_items": null,
            "left": null,
            "margin": null,
            "max_height": null,
            "max_width": null,
            "min_height": null,
            "min_width": null,
            "object_fit": null,
            "object_position": null,
            "order": null,
            "overflow": null,
            "overflow_x": null,
            "overflow_y": null,
            "padding": null,
            "right": null,
            "top": null,
            "visibility": null,
            "width": null
          }
        },
        "4e5f03a78f464061b08a2b9f6a0f32c4": {
          "model_module": "@jupyter-widgets/controls",
          "model_name": "DescriptionStyleModel",
          "model_module_version": "1.5.0",
          "state": {
            "_model_module": "@jupyter-widgets/controls",
            "_model_module_version": "1.5.0",
            "_model_name": "DescriptionStyleModel",
            "_view_count": null,
            "_view_module": "@jupyter-widgets/base",
            "_view_module_version": "1.2.0",
            "_view_name": "StyleView",
            "description_width": ""
          }
        },
        "5c890ad447244eb39531177fd99666ad": {
          "model_module": "@jupyter-widgets/base",
          "model_name": "LayoutModel",
          "model_module_version": "1.2.0",
          "state": {
            "_model_module": "@jupyter-widgets/base",
            "_model_module_version": "1.2.0",
            "_model_name": "LayoutModel",
            "_view_count": null,
            "_view_module": "@jupyter-widgets/base",
            "_view_module_version": "1.2.0",
            "_view_name": "LayoutView",
            "align_content": null,
            "align_items": null,
            "align_self": null,
            "border": null,
            "bottom": null,
            "display": null,
            "flex": null,
            "flex_flow": null,
            "grid_area": null,
            "grid_auto_columns": null,
            "grid_auto_flow": null,
            "grid_auto_rows": null,
            "grid_column": null,
            "grid_gap": null,
            "grid_row": null,
            "grid_template_areas": null,
            "grid_template_columns": null,
            "grid_template_rows": null,
            "height": null,
            "justify_content": null,
            "justify_items": null,
            "left": null,
            "margin": null,
            "max_height": null,
            "max_width": null,
            "min_height": null,
            "min_width": null,
            "object_fit": null,
            "object_position": null,
            "order": null,
            "overflow": null,
            "overflow_x": null,
            "overflow_y": null,
            "padding": null,
            "right": null,
            "top": null,
            "visibility": null,
            "width": null
          }
        },
        "a0561ceaa2d04c5594d9ae05c1aec55e": {
          "model_module": "@jupyter-widgets/controls",
          "model_name": "ProgressStyleModel",
          "model_module_version": "1.5.0",
          "state": {
            "_model_module": "@jupyter-widgets/controls",
            "_model_module_version": "1.5.0",
            "_model_name": "ProgressStyleModel",
            "_view_count": null,
            "_view_module": "@jupyter-widgets/base",
            "_view_module_version": "1.2.0",
            "_view_name": "StyleView",
            "bar_color": null,
            "description_width": ""
          }
        },
        "4b4db8641bba4d1693eec31a339162fd": {
          "model_module": "@jupyter-widgets/base",
          "model_name": "LayoutModel",
          "model_module_version": "1.2.0",
          "state": {
            "_model_module": "@jupyter-widgets/base",
            "_model_module_version": "1.2.0",
            "_model_name": "LayoutModel",
            "_view_count": null,
            "_view_module": "@jupyter-widgets/base",
            "_view_module_version": "1.2.0",
            "_view_name": "LayoutView",
            "align_content": null,
            "align_items": null,
            "align_self": null,
            "border": null,
            "bottom": null,
            "display": null,
            "flex": null,
            "flex_flow": null,
            "grid_area": null,
            "grid_auto_columns": null,
            "grid_auto_flow": null,
            "grid_auto_rows": null,
            "grid_column": null,
            "grid_gap": null,
            "grid_row": null,
            "grid_template_areas": null,
            "grid_template_columns": null,
            "grid_template_rows": null,
            "height": null,
            "justify_content": null,
            "justify_items": null,
            "left": null,
            "margin": null,
            "max_height": null,
            "max_width": null,
            "min_height": null,
            "min_width": null,
            "object_fit": null,
            "object_position": null,
            "order": null,
            "overflow": null,
            "overflow_x": null,
            "overflow_y": null,
            "padding": null,
            "right": null,
            "top": null,
            "visibility": null,
            "width": null
          }
        },
        "fb49237121424b72a45d3a72e5cd18f6": {
          "model_module": "@jupyter-widgets/controls",
          "model_name": "DescriptionStyleModel",
          "model_module_version": "1.5.0",
          "state": {
            "_model_module": "@jupyter-widgets/controls",
            "_model_module_version": "1.5.0",
            "_model_name": "DescriptionStyleModel",
            "_view_count": null,
            "_view_module": "@jupyter-widgets/base",
            "_view_module_version": "1.2.0",
            "_view_name": "StyleView",
            "description_width": ""
          }
        },
        "ea88690874de4b07a45940bd96f6df8e": {
          "model_module": "@jupyter-widgets/controls",
          "model_name": "HBoxModel",
          "model_module_version": "1.5.0",
          "state": {
            "_dom_classes": [],
            "_model_module": "@jupyter-widgets/controls",
            "_model_module_version": "1.5.0",
            "_model_name": "HBoxModel",
            "_view_count": null,
            "_view_module": "@jupyter-widgets/controls",
            "_view_module_version": "1.5.0",
            "_view_name": "HBoxView",
            "box_style": "",
            "children": [
              "IPY_MODEL_d968d5d512b84f7eaa5ec195f4fe5f86",
              "IPY_MODEL_501336d495af422bb35aed7fbb114ffa",
              "IPY_MODEL_887e014996464c599d8e920e5a93e63e"
            ],
            "layout": "IPY_MODEL_bfdf820fe79247bf84762420f56ceed0"
          }
        },
        "d968d5d512b84f7eaa5ec195f4fe5f86": {
          "model_module": "@jupyter-widgets/controls",
          "model_name": "HTMLModel",
          "model_module_version": "1.5.0",
          "state": {
            "_dom_classes": [],
            "_model_module": "@jupyter-widgets/controls",
            "_model_module_version": "1.5.0",
            "_model_name": "HTMLModel",
            "_view_count": null,
            "_view_module": "@jupyter-widgets/controls",
            "_view_module_version": "1.5.0",
            "_view_name": "HTMLView",
            "description": "",
            "description_tooltip": null,
            "layout": "IPY_MODEL_3656b6b016f0424fb5624c8d507c968f",
            "placeholder": "​",
            "style": "IPY_MODEL_dfe6a85c40c04f539b10d66ef79fc358",
            "value": "config.json: 100%"
          }
        },
        "501336d495af422bb35aed7fbb114ffa": {
          "model_module": "@jupyter-widgets/controls",
          "model_name": "FloatProgressModel",
          "model_module_version": "1.5.0",
          "state": {
            "_dom_classes": [],
            "_model_module": "@jupyter-widgets/controls",
            "_model_module_version": "1.5.0",
            "_model_name": "FloatProgressModel",
            "_view_count": null,
            "_view_module": "@jupyter-widgets/controls",
            "_view_module_version": "1.5.0",
            "_view_name": "ProgressView",
            "bar_style": "success",
            "description": "",
            "description_tooltip": null,
            "layout": "IPY_MODEL_326b3a4f2cd24f589fe9130b059a5961",
            "max": 779,
            "min": 0,
            "orientation": "horizontal",
            "style": "IPY_MODEL_c47549970b9147b1ae58eabcff944883",
            "value": 779
          }
        },
        "887e014996464c599d8e920e5a93e63e": {
          "model_module": "@jupyter-widgets/controls",
          "model_name": "HTMLModel",
          "model_module_version": "1.5.0",
          "state": {
            "_dom_classes": [],
            "_model_module": "@jupyter-widgets/controls",
            "_model_module_version": "1.5.0",
            "_model_name": "HTMLModel",
            "_view_count": null,
            "_view_module": "@jupyter-widgets/controls",
            "_view_module_version": "1.5.0",
            "_view_name": "HTMLView",
            "description": "",
            "description_tooltip": null,
            "layout": "IPY_MODEL_9357aab9e51c4010a971f4f9961927e2",
            "placeholder": "​",
            "style": "IPY_MODEL_b9259678432d4d4ea74077db9cc42598",
            "value": " 779/779 [00:00&lt;00:00, 40.7kB/s]"
          }
        },
        "bfdf820fe79247bf84762420f56ceed0": {
          "model_module": "@jupyter-widgets/base",
          "model_name": "LayoutModel",
          "model_module_version": "1.2.0",
          "state": {
            "_model_module": "@jupyter-widgets/base",
            "_model_module_version": "1.2.0",
            "_model_name": "LayoutModel",
            "_view_count": null,
            "_view_module": "@jupyter-widgets/base",
            "_view_module_version": "1.2.0",
            "_view_name": "LayoutView",
            "align_content": null,
            "align_items": null,
            "align_self": null,
            "border": null,
            "bottom": null,
            "display": null,
            "flex": null,
            "flex_flow": null,
            "grid_area": null,
            "grid_auto_columns": null,
            "grid_auto_flow": null,
            "grid_auto_rows": null,
            "grid_column": null,
            "grid_gap": null,
            "grid_row": null,
            "grid_template_areas": null,
            "grid_template_columns": null,
            "grid_template_rows": null,
            "height": null,
            "justify_content": null,
            "justify_items": null,
            "left": null,
            "margin": null,
            "max_height": null,
            "max_width": null,
            "min_height": null,
            "min_width": null,
            "object_fit": null,
            "object_position": null,
            "order": null,
            "overflow": null,
            "overflow_x": null,
            "overflow_y": null,
            "padding": null,
            "right": null,
            "top": null,
            "visibility": null,
            "width": null
          }
        },
        "3656b6b016f0424fb5624c8d507c968f": {
          "model_module": "@jupyter-widgets/base",
          "model_name": "LayoutModel",
          "model_module_version": "1.2.0",
          "state": {
            "_model_module": "@jupyter-widgets/base",
            "_model_module_version": "1.2.0",
            "_model_name": "LayoutModel",
            "_view_count": null,
            "_view_module": "@jupyter-widgets/base",
            "_view_module_version": "1.2.0",
            "_view_name": "LayoutView",
            "align_content": null,
            "align_items": null,
            "align_self": null,
            "border": null,
            "bottom": null,
            "display": null,
            "flex": null,
            "flex_flow": null,
            "grid_area": null,
            "grid_auto_columns": null,
            "grid_auto_flow": null,
            "grid_auto_rows": null,
            "grid_column": null,
            "grid_gap": null,
            "grid_row": null,
            "grid_template_areas": null,
            "grid_template_columns": null,
            "grid_template_rows": null,
            "height": null,
            "justify_content": null,
            "justify_items": null,
            "left": null,
            "margin": null,
            "max_height": null,
            "max_width": null,
            "min_height": null,
            "min_width": null,
            "object_fit": null,
            "object_position": null,
            "order": null,
            "overflow": null,
            "overflow_x": null,
            "overflow_y": null,
            "padding": null,
            "right": null,
            "top": null,
            "visibility": null,
            "width": null
          }
        },
        "dfe6a85c40c04f539b10d66ef79fc358": {
          "model_module": "@jupyter-widgets/controls",
          "model_name": "DescriptionStyleModel",
          "model_module_version": "1.5.0",
          "state": {
            "_model_module": "@jupyter-widgets/controls",
            "_model_module_version": "1.5.0",
            "_model_name": "DescriptionStyleModel",
            "_view_count": null,
            "_view_module": "@jupyter-widgets/base",
            "_view_module_version": "1.2.0",
            "_view_name": "StyleView",
            "description_width": ""
          }
        },
        "326b3a4f2cd24f589fe9130b059a5961": {
          "model_module": "@jupyter-widgets/base",
          "model_name": "LayoutModel",
          "model_module_version": "1.2.0",
          "state": {
            "_model_module": "@jupyter-widgets/base",
            "_model_module_version": "1.2.0",
            "_model_name": "LayoutModel",
            "_view_count": null,
            "_view_module": "@jupyter-widgets/base",
            "_view_module_version": "1.2.0",
            "_view_name": "LayoutView",
            "align_content": null,
            "align_items": null,
            "align_self": null,
            "border": null,
            "bottom": null,
            "display": null,
            "flex": null,
            "flex_flow": null,
            "grid_area": null,
            "grid_auto_columns": null,
            "grid_auto_flow": null,
            "grid_auto_rows": null,
            "grid_column": null,
            "grid_gap": null,
            "grid_row": null,
            "grid_template_areas": null,
            "grid_template_columns": null,
            "grid_template_rows": null,
            "height": null,
            "justify_content": null,
            "justify_items": null,
            "left": null,
            "margin": null,
            "max_height": null,
            "max_width": null,
            "min_height": null,
            "min_width": null,
            "object_fit": null,
            "object_position": null,
            "order": null,
            "overflow": null,
            "overflow_x": null,
            "overflow_y": null,
            "padding": null,
            "right": null,
            "top": null,
            "visibility": null,
            "width": null
          }
        },
        "c47549970b9147b1ae58eabcff944883": {
          "model_module": "@jupyter-widgets/controls",
          "model_name": "ProgressStyleModel",
          "model_module_version": "1.5.0",
          "state": {
            "_model_module": "@jupyter-widgets/controls",
            "_model_module_version": "1.5.0",
            "_model_name": "ProgressStyleModel",
            "_view_count": null,
            "_view_module": "@jupyter-widgets/base",
            "_view_module_version": "1.2.0",
            "_view_name": "StyleView",
            "bar_color": null,
            "description_width": ""
          }
        },
        "9357aab9e51c4010a971f4f9961927e2": {
          "model_module": "@jupyter-widgets/base",
          "model_name": "LayoutModel",
          "model_module_version": "1.2.0",
          "state": {
            "_model_module": "@jupyter-widgets/base",
            "_model_module_version": "1.2.0",
            "_model_name": "LayoutModel",
            "_view_count": null,
            "_view_module": "@jupyter-widgets/base",
            "_view_module_version": "1.2.0",
            "_view_name": "LayoutView",
            "align_content": null,
            "align_items": null,
            "align_self": null,
            "border": null,
            "bottom": null,
            "display": null,
            "flex": null,
            "flex_flow": null,
            "grid_area": null,
            "grid_auto_columns": null,
            "grid_auto_flow": null,
            "grid_auto_rows": null,
            "grid_column": null,
            "grid_gap": null,
            "grid_row": null,
            "grid_template_areas": null,
            "grid_template_columns": null,
            "grid_template_rows": null,
            "height": null,
            "justify_content": null,
            "justify_items": null,
            "left": null,
            "margin": null,
            "max_height": null,
            "max_width": null,
            "min_height": null,
            "min_width": null,
            "object_fit": null,
            "object_position": null,
            "order": null,
            "overflow": null,
            "overflow_x": null,
            "overflow_y": null,
            "padding": null,
            "right": null,
            "top": null,
            "visibility": null,
            "width": null
          }
        },
        "b9259678432d4d4ea74077db9cc42598": {
          "model_module": "@jupyter-widgets/controls",
          "model_name": "DescriptionStyleModel",
          "model_module_version": "1.5.0",
          "state": {
            "_model_module": "@jupyter-widgets/controls",
            "_model_module_version": "1.5.0",
            "_model_name": "DescriptionStyleModel",
            "_view_count": null,
            "_view_module": "@jupyter-widgets/base",
            "_view_module_version": "1.2.0",
            "_view_name": "StyleView",
            "description_width": ""
          }
        },
        "95621f8a4d3c4084abf2679f2227e9a8": {
          "model_module": "@jupyter-widgets/controls",
          "model_name": "HBoxModel",
          "model_module_version": "1.5.0",
          "state": {
            "_dom_classes": [],
            "_model_module": "@jupyter-widgets/controls",
            "_model_module_version": "1.5.0",
            "_model_name": "HBoxModel",
            "_view_count": null,
            "_view_module": "@jupyter-widgets/controls",
            "_view_module_version": "1.5.0",
            "_view_name": "HBoxView",
            "box_style": "",
            "children": [
              "IPY_MODEL_d40e36ff4fac4d5b989c44d8e0a93f70",
              "IPY_MODEL_2f770a5f90524abd80f4eaa13cbf8468",
              "IPY_MODEL_c1f40ca681e54a05aba620fc92e07584"
            ],
            "layout": "IPY_MODEL_5d6aac4c269242c69e9a3af457fc292c"
          }
        },
        "d40e36ff4fac4d5b989c44d8e0a93f70": {
          "model_module": "@jupyter-widgets/controls",
          "model_name": "HTMLModel",
          "model_module_version": "1.5.0",
          "state": {
            "_dom_classes": [],
            "_model_module": "@jupyter-widgets/controls",
            "_model_module_version": "1.5.0",
            "_model_name": "HTMLModel",
            "_view_count": null,
            "_view_module": "@jupyter-widgets/controls",
            "_view_module_version": "1.5.0",
            "_view_name": "HTMLView",
            "description": "",
            "description_tooltip": null,
            "layout": "IPY_MODEL_f70f4be75a644d5dbf46ec0144c96c3b",
            "placeholder": "​",
            "style": "IPY_MODEL_d57526683a2f4363ba825f86d5ff1ebb",
            "value": "config_sentence_transformers.json: 100%"
          }
        },
        "2f770a5f90524abd80f4eaa13cbf8468": {
          "model_module": "@jupyter-widgets/controls",
          "model_name": "FloatProgressModel",
          "model_module_version": "1.5.0",
          "state": {
            "_dom_classes": [],
            "_model_module": "@jupyter-widgets/controls",
            "_model_module_version": "1.5.0",
            "_model_name": "FloatProgressModel",
            "_view_count": null,
            "_view_module": "@jupyter-widgets/controls",
            "_view_module_version": "1.5.0",
            "_view_name": "ProgressView",
            "bar_style": "success",
            "description": "",
            "description_tooltip": null,
            "layout": "IPY_MODEL_5e739b0ba9564a46a75856135e84893d",
            "max": 124,
            "min": 0,
            "orientation": "horizontal",
            "style": "IPY_MODEL_4c31eb0fe65c41b7842948d17136159d",
            "value": 124
          }
        },
        "c1f40ca681e54a05aba620fc92e07584": {
          "model_module": "@jupyter-widgets/controls",
          "model_name": "HTMLModel",
          "model_module_version": "1.5.0",
          "state": {
            "_dom_classes": [],
            "_model_module": "@jupyter-widgets/controls",
            "_model_module_version": "1.5.0",
            "_model_name": "HTMLModel",
            "_view_count": null,
            "_view_module": "@jupyter-widgets/controls",
            "_view_module_version": "1.5.0",
            "_view_name": "HTMLView",
            "description": "",
            "description_tooltip": null,
            "layout": "IPY_MODEL_cb1ed45ef0be4f49971cb08ac754ee74",
            "placeholder": "​",
            "style": "IPY_MODEL_1d855ea3f541476f918760950cddb685",
            "value": " 124/124 [00:00&lt;00:00, 4.97kB/s]"
          }
        },
        "5d6aac4c269242c69e9a3af457fc292c": {
          "model_module": "@jupyter-widgets/base",
          "model_name": "LayoutModel",
          "model_module_version": "1.2.0",
          "state": {
            "_model_module": "@jupyter-widgets/base",
            "_model_module_version": "1.2.0",
            "_model_name": "LayoutModel",
            "_view_count": null,
            "_view_module": "@jupyter-widgets/base",
            "_view_module_version": "1.2.0",
            "_view_name": "LayoutView",
            "align_content": null,
            "align_items": null,
            "align_self": null,
            "border": null,
            "bottom": null,
            "display": null,
            "flex": null,
            "flex_flow": null,
            "grid_area": null,
            "grid_auto_columns": null,
            "grid_auto_flow": null,
            "grid_auto_rows": null,
            "grid_column": null,
            "grid_gap": null,
            "grid_row": null,
            "grid_template_areas": null,
            "grid_template_columns": null,
            "grid_template_rows": null,
            "height": null,
            "justify_content": null,
            "justify_items": null,
            "left": null,
            "margin": null,
            "max_height": null,
            "max_width": null,
            "min_height": null,
            "min_width": null,
            "object_fit": null,
            "object_position": null,
            "order": null,
            "overflow": null,
            "overflow_x": null,
            "overflow_y": null,
            "padding": null,
            "right": null,
            "top": null,
            "visibility": null,
            "width": null
          }
        },
        "f70f4be75a644d5dbf46ec0144c96c3b": {
          "model_module": "@jupyter-widgets/base",
          "model_name": "LayoutModel",
          "model_module_version": "1.2.0",
          "state": {
            "_model_module": "@jupyter-widgets/base",
            "_model_module_version": "1.2.0",
            "_model_name": "LayoutModel",
            "_view_count": null,
            "_view_module": "@jupyter-widgets/base",
            "_view_module_version": "1.2.0",
            "_view_name": "LayoutView",
            "align_content": null,
            "align_items": null,
            "align_self": null,
            "border": null,
            "bottom": null,
            "display": null,
            "flex": null,
            "flex_flow": null,
            "grid_area": null,
            "grid_auto_columns": null,
            "grid_auto_flow": null,
            "grid_auto_rows": null,
            "grid_column": null,
            "grid_gap": null,
            "grid_row": null,
            "grid_template_areas": null,
            "grid_template_columns": null,
            "grid_template_rows": null,
            "height": null,
            "justify_content": null,
            "justify_items": null,
            "left": null,
            "margin": null,
            "max_height": null,
            "max_width": null,
            "min_height": null,
            "min_width": null,
            "object_fit": null,
            "object_position": null,
            "order": null,
            "overflow": null,
            "overflow_x": null,
            "overflow_y": null,
            "padding": null,
            "right": null,
            "top": null,
            "visibility": null,
            "width": null
          }
        },
        "d57526683a2f4363ba825f86d5ff1ebb": {
          "model_module": "@jupyter-widgets/controls",
          "model_name": "DescriptionStyleModel",
          "model_module_version": "1.5.0",
          "state": {
            "_model_module": "@jupyter-widgets/controls",
            "_model_module_version": "1.5.0",
            "_model_name": "DescriptionStyleModel",
            "_view_count": null,
            "_view_module": "@jupyter-widgets/base",
            "_view_module_version": "1.2.0",
            "_view_name": "StyleView",
            "description_width": ""
          }
        },
        "5e739b0ba9564a46a75856135e84893d": {
          "model_module": "@jupyter-widgets/base",
          "model_name": "LayoutModel",
          "model_module_version": "1.2.0",
          "state": {
            "_model_module": "@jupyter-widgets/base",
            "_model_module_version": "1.2.0",
            "_model_name": "LayoutModel",
            "_view_count": null,
            "_view_module": "@jupyter-widgets/base",
            "_view_module_version": "1.2.0",
            "_view_name": "LayoutView",
            "align_content": null,
            "align_items": null,
            "align_self": null,
            "border": null,
            "bottom": null,
            "display": null,
            "flex": null,
            "flex_flow": null,
            "grid_area": null,
            "grid_auto_columns": null,
            "grid_auto_flow": null,
            "grid_auto_rows": null,
            "grid_column": null,
            "grid_gap": null,
            "grid_row": null,
            "grid_template_areas": null,
            "grid_template_columns": null,
            "grid_template_rows": null,
            "height": null,
            "justify_content": null,
            "justify_items": null,
            "left": null,
            "margin": null,
            "max_height": null,
            "max_width": null,
            "min_height": null,
            "min_width": null,
            "object_fit": null,
            "object_position": null,
            "order": null,
            "overflow": null,
            "overflow_x": null,
            "overflow_y": null,
            "padding": null,
            "right": null,
            "top": null,
            "visibility": null,
            "width": null
          }
        },
        "4c31eb0fe65c41b7842948d17136159d": {
          "model_module": "@jupyter-widgets/controls",
          "model_name": "ProgressStyleModel",
          "model_module_version": "1.5.0",
          "state": {
            "_model_module": "@jupyter-widgets/controls",
            "_model_module_version": "1.5.0",
            "_model_name": "ProgressStyleModel",
            "_view_count": null,
            "_view_module": "@jupyter-widgets/base",
            "_view_module_version": "1.2.0",
            "_view_name": "StyleView",
            "bar_color": null,
            "description_width": ""
          }
        },
        "cb1ed45ef0be4f49971cb08ac754ee74": {
          "model_module": "@jupyter-widgets/base",
          "model_name": "LayoutModel",
          "model_module_version": "1.2.0",
          "state": {
            "_model_module": "@jupyter-widgets/base",
            "_model_module_version": "1.2.0",
            "_model_name": "LayoutModel",
            "_view_count": null,
            "_view_module": "@jupyter-widgets/base",
            "_view_module_version": "1.2.0",
            "_view_name": "LayoutView",
            "align_content": null,
            "align_items": null,
            "align_self": null,
            "border": null,
            "bottom": null,
            "display": null,
            "flex": null,
            "flex_flow": null,
            "grid_area": null,
            "grid_auto_columns": null,
            "grid_auto_flow": null,
            "grid_auto_rows": null,
            "grid_column": null,
            "grid_gap": null,
            "grid_row": null,
            "grid_template_areas": null,
            "grid_template_columns": null,
            "grid_template_rows": null,
            "height": null,
            "justify_content": null,
            "justify_items": null,
            "left": null,
            "margin": null,
            "max_height": null,
            "max_width": null,
            "min_height": null,
            "min_width": null,
            "object_fit": null,
            "object_position": null,
            "order": null,
            "overflow": null,
            "overflow_x": null,
            "overflow_y": null,
            "padding": null,
            "right": null,
            "top": null,
            "visibility": null,
            "width": null
          }
        },
        "1d855ea3f541476f918760950cddb685": {
          "model_module": "@jupyter-widgets/controls",
          "model_name": "DescriptionStyleModel",
          "model_module_version": "1.5.0",
          "state": {
            "_model_module": "@jupyter-widgets/controls",
            "_model_module_version": "1.5.0",
            "_model_name": "DescriptionStyleModel",
            "_view_count": null,
            "_view_module": "@jupyter-widgets/base",
            "_view_module_version": "1.2.0",
            "_view_name": "StyleView",
            "description_width": ""
          }
        },
        "d8da2ca9c94542debe5ad770eb38a524": {
          "model_module": "@jupyter-widgets/controls",
          "model_name": "HBoxModel",
          "model_module_version": "1.5.0",
          "state": {
            "_dom_classes": [],
            "_model_module": "@jupyter-widgets/controls",
            "_model_module_version": "1.5.0",
            "_model_name": "HBoxModel",
            "_view_count": null,
            "_view_module": "@jupyter-widgets/controls",
            "_view_module_version": "1.5.0",
            "_view_name": "HBoxView",
            "box_style": "",
            "children": [
              "IPY_MODEL_5b338b169e5f4c4fb0154514b77c9455",
              "IPY_MODEL_6461c58007474632b8dc1f07230d8b4b",
              "IPY_MODEL_eab171c3cd124bcbae45772c41949acf"
            ],
            "layout": "IPY_MODEL_6e143725b48a4890811659df0d84cd49"
          }
        },
        "5b338b169e5f4c4fb0154514b77c9455": {
          "model_module": "@jupyter-widgets/controls",
          "model_name": "HTMLModel",
          "model_module_version": "1.5.0",
          "state": {
            "_dom_classes": [],
            "_model_module": "@jupyter-widgets/controls",
            "_model_module_version": "1.5.0",
            "_model_name": "HTMLModel",
            "_view_count": null,
            "_view_module": "@jupyter-widgets/controls",
            "_view_module_version": "1.5.0",
            "_view_name": "HTMLView",
            "description": "",
            "description_tooltip": null,
            "layout": "IPY_MODEL_36e88e6e18e44f8dbcc4cd3593debe8a",
            "placeholder": "​",
            "style": "IPY_MODEL_8ee0ec0bec20442d868e4859b6c86155",
            "value": "pytorch_model.bin: 100%"
          }
        },
        "6461c58007474632b8dc1f07230d8b4b": {
          "model_module": "@jupyter-widgets/controls",
          "model_name": "FloatProgressModel",
          "model_module_version": "1.5.0",
          "state": {
            "_dom_classes": [],
            "_model_module": "@jupyter-widgets/controls",
            "_model_module_version": "1.5.0",
            "_model_name": "FloatProgressModel",
            "_view_count": null,
            "_view_module": "@jupyter-widgets/controls",
            "_view_module_version": "1.5.0",
            "_view_name": "ProgressView",
            "bar_style": "success",
            "description": "",
            "description_tooltip": null,
            "layout": "IPY_MODEL_b7fb977b5f5049f7884fe6750cb54f25",
            "max": 1340698349,
            "min": 0,
            "orientation": "horizontal",
            "style": "IPY_MODEL_4ffe855f2cc244e79163613087fe7307",
            "value": 1340698349
          }
        },
        "eab171c3cd124bcbae45772c41949acf": {
          "model_module": "@jupyter-widgets/controls",
          "model_name": "HTMLModel",
          "model_module_version": "1.5.0",
          "state": {
            "_dom_classes": [],
            "_model_module": "@jupyter-widgets/controls",
            "_model_module_version": "1.5.0",
            "_model_name": "HTMLModel",
            "_view_count": null,
            "_view_module": "@jupyter-widgets/controls",
            "_view_module_version": "1.5.0",
            "_view_name": "HTMLView",
            "description": "",
            "description_tooltip": null,
            "layout": "IPY_MODEL_d5e6ba912823412f93df09db280c098e",
            "placeholder": "​",
            "style": "IPY_MODEL_6ef57dbb3e934c949c96e325668f5ac7",
            "value": " 1.34G/1.34G [00:10&lt;00:00, 195MB/s]"
          }
        },
        "6e143725b48a4890811659df0d84cd49": {
          "model_module": "@jupyter-widgets/base",
          "model_name": "LayoutModel",
          "model_module_version": "1.2.0",
          "state": {
            "_model_module": "@jupyter-widgets/base",
            "_model_module_version": "1.2.0",
            "_model_name": "LayoutModel",
            "_view_count": null,
            "_view_module": "@jupyter-widgets/base",
            "_view_module_version": "1.2.0",
            "_view_name": "LayoutView",
            "align_content": null,
            "align_items": null,
            "align_self": null,
            "border": null,
            "bottom": null,
            "display": null,
            "flex": null,
            "flex_flow": null,
            "grid_area": null,
            "grid_auto_columns": null,
            "grid_auto_flow": null,
            "grid_auto_rows": null,
            "grid_column": null,
            "grid_gap": null,
            "grid_row": null,
            "grid_template_areas": null,
            "grid_template_columns": null,
            "grid_template_rows": null,
            "height": null,
            "justify_content": null,
            "justify_items": null,
            "left": null,
            "margin": null,
            "max_height": null,
            "max_width": null,
            "min_height": null,
            "min_width": null,
            "object_fit": null,
            "object_position": null,
            "order": null,
            "overflow": null,
            "overflow_x": null,
            "overflow_y": null,
            "padding": null,
            "right": null,
            "top": null,
            "visibility": null,
            "width": null
          }
        },
        "36e88e6e18e44f8dbcc4cd3593debe8a": {
          "model_module": "@jupyter-widgets/base",
          "model_name": "LayoutModel",
          "model_module_version": "1.2.0",
          "state": {
            "_model_module": "@jupyter-widgets/base",
            "_model_module_version": "1.2.0",
            "_model_name": "LayoutModel",
            "_view_count": null,
            "_view_module": "@jupyter-widgets/base",
            "_view_module_version": "1.2.0",
            "_view_name": "LayoutView",
            "align_content": null,
            "align_items": null,
            "align_self": null,
            "border": null,
            "bottom": null,
            "display": null,
            "flex": null,
            "flex_flow": null,
            "grid_area": null,
            "grid_auto_columns": null,
            "grid_auto_flow": null,
            "grid_auto_rows": null,
            "grid_column": null,
            "grid_gap": null,
            "grid_row": null,
            "grid_template_areas": null,
            "grid_template_columns": null,
            "grid_template_rows": null,
            "height": null,
            "justify_content": null,
            "justify_items": null,
            "left": null,
            "margin": null,
            "max_height": null,
            "max_width": null,
            "min_height": null,
            "min_width": null,
            "object_fit": null,
            "object_position": null,
            "order": null,
            "overflow": null,
            "overflow_x": null,
            "overflow_y": null,
            "padding": null,
            "right": null,
            "top": null,
            "visibility": null,
            "width": null
          }
        },
        "8ee0ec0bec20442d868e4859b6c86155": {
          "model_module": "@jupyter-widgets/controls",
          "model_name": "DescriptionStyleModel",
          "model_module_version": "1.5.0",
          "state": {
            "_model_module": "@jupyter-widgets/controls",
            "_model_module_version": "1.5.0",
            "_model_name": "DescriptionStyleModel",
            "_view_count": null,
            "_view_module": "@jupyter-widgets/base",
            "_view_module_version": "1.2.0",
            "_view_name": "StyleView",
            "description_width": ""
          }
        },
        "b7fb977b5f5049f7884fe6750cb54f25": {
          "model_module": "@jupyter-widgets/base",
          "model_name": "LayoutModel",
          "model_module_version": "1.2.0",
          "state": {
            "_model_module": "@jupyter-widgets/base",
            "_model_module_version": "1.2.0",
            "_model_name": "LayoutModel",
            "_view_count": null,
            "_view_module": "@jupyter-widgets/base",
            "_view_module_version": "1.2.0",
            "_view_name": "LayoutView",
            "align_content": null,
            "align_items": null,
            "align_self": null,
            "border": null,
            "bottom": null,
            "display": null,
            "flex": null,
            "flex_flow": null,
            "grid_area": null,
            "grid_auto_columns": null,
            "grid_auto_flow": null,
            "grid_auto_rows": null,
            "grid_column": null,
            "grid_gap": null,
            "grid_row": null,
            "grid_template_areas": null,
            "grid_template_columns": null,
            "grid_template_rows": null,
            "height": null,
            "justify_content": null,
            "justify_items": null,
            "left": null,
            "margin": null,
            "max_height": null,
            "max_width": null,
            "min_height": null,
            "min_width": null,
            "object_fit": null,
            "object_position": null,
            "order": null,
            "overflow": null,
            "overflow_x": null,
            "overflow_y": null,
            "padding": null,
            "right": null,
            "top": null,
            "visibility": null,
            "width": null
          }
        },
        "4ffe855f2cc244e79163613087fe7307": {
          "model_module": "@jupyter-widgets/controls",
          "model_name": "ProgressStyleModel",
          "model_module_version": "1.5.0",
          "state": {
            "_model_module": "@jupyter-widgets/controls",
            "_model_module_version": "1.5.0",
            "_model_name": "ProgressStyleModel",
            "_view_count": null,
            "_view_module": "@jupyter-widgets/base",
            "_view_module_version": "1.2.0",
            "_view_name": "StyleView",
            "bar_color": null,
            "description_width": ""
          }
        },
        "d5e6ba912823412f93df09db280c098e": {
          "model_module": "@jupyter-widgets/base",
          "model_name": "LayoutModel",
          "model_module_version": "1.2.0",
          "state": {
            "_model_module": "@jupyter-widgets/base",
            "_model_module_version": "1.2.0",
            "_model_name": "LayoutModel",
            "_view_count": null,
            "_view_module": "@jupyter-widgets/base",
            "_view_module_version": "1.2.0",
            "_view_name": "LayoutView",
            "align_content": null,
            "align_items": null,
            "align_self": null,
            "border": null,
            "bottom": null,
            "display": null,
            "flex": null,
            "flex_flow": null,
            "grid_area": null,
            "grid_auto_columns": null,
            "grid_auto_flow": null,
            "grid_auto_rows": null,
            "grid_column": null,
            "grid_gap": null,
            "grid_row": null,
            "grid_template_areas": null,
            "grid_template_columns": null,
            "grid_template_rows": null,
            "height": null,
            "justify_content": null,
            "justify_items": null,
            "left": null,
            "margin": null,
            "max_height": null,
            "max_width": null,
            "min_height": null,
            "min_width": null,
            "object_fit": null,
            "object_position": null,
            "order": null,
            "overflow": null,
            "overflow_x": null,
            "overflow_y": null,
            "padding": null,
            "right": null,
            "top": null,
            "visibility": null,
            "width": null
          }
        },
        "6ef57dbb3e934c949c96e325668f5ac7": {
          "model_module": "@jupyter-widgets/controls",
          "model_name": "DescriptionStyleModel",
          "model_module_version": "1.5.0",
          "state": {
            "_model_module": "@jupyter-widgets/controls",
            "_model_module_version": "1.5.0",
            "_model_name": "DescriptionStyleModel",
            "_view_count": null,
            "_view_module": "@jupyter-widgets/base",
            "_view_module_version": "1.2.0",
            "_view_name": "StyleView",
            "description_width": ""
          }
        },
        "97b350763e3f4e7da6757dc6e65ff4e4": {
          "model_module": "@jupyter-widgets/controls",
          "model_name": "HBoxModel",
          "model_module_version": "1.5.0",
          "state": {
            "_dom_classes": [],
            "_model_module": "@jupyter-widgets/controls",
            "_model_module_version": "1.5.0",
            "_model_name": "HBoxModel",
            "_view_count": null,
            "_view_module": "@jupyter-widgets/controls",
            "_view_module_version": "1.5.0",
            "_view_name": "HBoxView",
            "box_style": "",
            "children": [
              "IPY_MODEL_587070291b224ff6a96c38e9b1e2ca49",
              "IPY_MODEL_f9b6e273842f455fb445454ead5d149a",
              "IPY_MODEL_faa89c3595e545ae9b24cb31af9cf3fc"
            ],
            "layout": "IPY_MODEL_7152d71139214d75918ecb30dd92128d"
          }
        },
        "587070291b224ff6a96c38e9b1e2ca49": {
          "model_module": "@jupyter-widgets/controls",
          "model_name": "HTMLModel",
          "model_module_version": "1.5.0",
          "state": {
            "_dom_classes": [],
            "_model_module": "@jupyter-widgets/controls",
            "_model_module_version": "1.5.0",
            "_model_name": "HTMLModel",
            "_view_count": null,
            "_view_module": "@jupyter-widgets/controls",
            "_view_module_version": "1.5.0",
            "_view_name": "HTMLView",
            "description": "",
            "description_tooltip": null,
            "layout": "IPY_MODEL_20fe40786d83422d81aed9d621c9fee3",
            "placeholder": "​",
            "style": "IPY_MODEL_6c3afcd2f8324ef6a3f557290094be79",
            "value": "sentence_bert_config.json: 100%"
          }
        },
        "f9b6e273842f455fb445454ead5d149a": {
          "model_module": "@jupyter-widgets/controls",
          "model_name": "FloatProgressModel",
          "model_module_version": "1.5.0",
          "state": {
            "_dom_classes": [],
            "_model_module": "@jupyter-widgets/controls",
            "_model_module_version": "1.5.0",
            "_model_name": "FloatProgressModel",
            "_view_count": null,
            "_view_module": "@jupyter-widgets/controls",
            "_view_module_version": "1.5.0",
            "_view_name": "ProgressView",
            "bar_style": "success",
            "description": "",
            "description_tooltip": null,
            "layout": "IPY_MODEL_710553997b8243cea4a73d374c0286fe",
            "max": 52,
            "min": 0,
            "orientation": "horizontal",
            "style": "IPY_MODEL_ccc9ed3ab2c143ba98ec98d274c00eb2",
            "value": 52
          }
        },
        "faa89c3595e545ae9b24cb31af9cf3fc": {
          "model_module": "@jupyter-widgets/controls",
          "model_name": "HTMLModel",
          "model_module_version": "1.5.0",
          "state": {
            "_dom_classes": [],
            "_model_module": "@jupyter-widgets/controls",
            "_model_module_version": "1.5.0",
            "_model_name": "HTMLModel",
            "_view_count": null,
            "_view_module": "@jupyter-widgets/controls",
            "_view_module_version": "1.5.0",
            "_view_name": "HTMLView",
            "description": "",
            "description_tooltip": null,
            "layout": "IPY_MODEL_7ab120158c464376b01f3874b41659a8",
            "placeholder": "​",
            "style": "IPY_MODEL_3fb94b4f30a94a66884dc91d4a4272d0",
            "value": " 52.0/52.0 [00:00&lt;00:00, 2.16kB/s]"
          }
        },
        "7152d71139214d75918ecb30dd92128d": {
          "model_module": "@jupyter-widgets/base",
          "model_name": "LayoutModel",
          "model_module_version": "1.2.0",
          "state": {
            "_model_module": "@jupyter-widgets/base",
            "_model_module_version": "1.2.0",
            "_model_name": "LayoutModel",
            "_view_count": null,
            "_view_module": "@jupyter-widgets/base",
            "_view_module_version": "1.2.0",
            "_view_name": "LayoutView",
            "align_content": null,
            "align_items": null,
            "align_self": null,
            "border": null,
            "bottom": null,
            "display": null,
            "flex": null,
            "flex_flow": null,
            "grid_area": null,
            "grid_auto_columns": null,
            "grid_auto_flow": null,
            "grid_auto_rows": null,
            "grid_column": null,
            "grid_gap": null,
            "grid_row": null,
            "grid_template_areas": null,
            "grid_template_columns": null,
            "grid_template_rows": null,
            "height": null,
            "justify_content": null,
            "justify_items": null,
            "left": null,
            "margin": null,
            "max_height": null,
            "max_width": null,
            "min_height": null,
            "min_width": null,
            "object_fit": null,
            "object_position": null,
            "order": null,
            "overflow": null,
            "overflow_x": null,
            "overflow_y": null,
            "padding": null,
            "right": null,
            "top": null,
            "visibility": null,
            "width": null
          }
        },
        "20fe40786d83422d81aed9d621c9fee3": {
          "model_module": "@jupyter-widgets/base",
          "model_name": "LayoutModel",
          "model_module_version": "1.2.0",
          "state": {
            "_model_module": "@jupyter-widgets/base",
            "_model_module_version": "1.2.0",
            "_model_name": "LayoutModel",
            "_view_count": null,
            "_view_module": "@jupyter-widgets/base",
            "_view_module_version": "1.2.0",
            "_view_name": "LayoutView",
            "align_content": null,
            "align_items": null,
            "align_self": null,
            "border": null,
            "bottom": null,
            "display": null,
            "flex": null,
            "flex_flow": null,
            "grid_area": null,
            "grid_auto_columns": null,
            "grid_auto_flow": null,
            "grid_auto_rows": null,
            "grid_column": null,
            "grid_gap": null,
            "grid_row": null,
            "grid_template_areas": null,
            "grid_template_columns": null,
            "grid_template_rows": null,
            "height": null,
            "justify_content": null,
            "justify_items": null,
            "left": null,
            "margin": null,
            "max_height": null,
            "max_width": null,
            "min_height": null,
            "min_width": null,
            "object_fit": null,
            "object_position": null,
            "order": null,
            "overflow": null,
            "overflow_x": null,
            "overflow_y": null,
            "padding": null,
            "right": null,
            "top": null,
            "visibility": null,
            "width": null
          }
        },
        "6c3afcd2f8324ef6a3f557290094be79": {
          "model_module": "@jupyter-widgets/controls",
          "model_name": "DescriptionStyleModel",
          "model_module_version": "1.5.0",
          "state": {
            "_model_module": "@jupyter-widgets/controls",
            "_model_module_version": "1.5.0",
            "_model_name": "DescriptionStyleModel",
            "_view_count": null,
            "_view_module": "@jupyter-widgets/base",
            "_view_module_version": "1.2.0",
            "_view_name": "StyleView",
            "description_width": ""
          }
        },
        "710553997b8243cea4a73d374c0286fe": {
          "model_module": "@jupyter-widgets/base",
          "model_name": "LayoutModel",
          "model_module_version": "1.2.0",
          "state": {
            "_model_module": "@jupyter-widgets/base",
            "_model_module_version": "1.2.0",
            "_model_name": "LayoutModel",
            "_view_count": null,
            "_view_module": "@jupyter-widgets/base",
            "_view_module_version": "1.2.0",
            "_view_name": "LayoutView",
            "align_content": null,
            "align_items": null,
            "align_self": null,
            "border": null,
            "bottom": null,
            "display": null,
            "flex": null,
            "flex_flow": null,
            "grid_area": null,
            "grid_auto_columns": null,
            "grid_auto_flow": null,
            "grid_auto_rows": null,
            "grid_column": null,
            "grid_gap": null,
            "grid_row": null,
            "grid_template_areas": null,
            "grid_template_columns": null,
            "grid_template_rows": null,
            "height": null,
            "justify_content": null,
            "justify_items": null,
            "left": null,
            "margin": null,
            "max_height": null,
            "max_width": null,
            "min_height": null,
            "min_width": null,
            "object_fit": null,
            "object_position": null,
            "order": null,
            "overflow": null,
            "overflow_x": null,
            "overflow_y": null,
            "padding": null,
            "right": null,
            "top": null,
            "visibility": null,
            "width": null
          }
        },
        "ccc9ed3ab2c143ba98ec98d274c00eb2": {
          "model_module": "@jupyter-widgets/controls",
          "model_name": "ProgressStyleModel",
          "model_module_version": "1.5.0",
          "state": {
            "_model_module": "@jupyter-widgets/controls",
            "_model_module_version": "1.5.0",
            "_model_name": "ProgressStyleModel",
            "_view_count": null,
            "_view_module": "@jupyter-widgets/base",
            "_view_module_version": "1.2.0",
            "_view_name": "StyleView",
            "bar_color": null,
            "description_width": ""
          }
        },
        "7ab120158c464376b01f3874b41659a8": {
          "model_module": "@jupyter-widgets/base",
          "model_name": "LayoutModel",
          "model_module_version": "1.2.0",
          "state": {
            "_model_module": "@jupyter-widgets/base",
            "_model_module_version": "1.2.0",
            "_model_name": "LayoutModel",
            "_view_count": null,
            "_view_module": "@jupyter-widgets/base",
            "_view_module_version": "1.2.0",
            "_view_name": "LayoutView",
            "align_content": null,
            "align_items": null,
            "align_self": null,
            "border": null,
            "bottom": null,
            "display": null,
            "flex": null,
            "flex_flow": null,
            "grid_area": null,
            "grid_auto_columns": null,
            "grid_auto_flow": null,
            "grid_auto_rows": null,
            "grid_column": null,
            "grid_gap": null,
            "grid_row": null,
            "grid_template_areas": null,
            "grid_template_columns": null,
            "grid_template_rows": null,
            "height": null,
            "justify_content": null,
            "justify_items": null,
            "left": null,
            "margin": null,
            "max_height": null,
            "max_width": null,
            "min_height": null,
            "min_width": null,
            "object_fit": null,
            "object_position": null,
            "order": null,
            "overflow": null,
            "overflow_x": null,
            "overflow_y": null,
            "padding": null,
            "right": null,
            "top": null,
            "visibility": null,
            "width": null
          }
        },
        "3fb94b4f30a94a66884dc91d4a4272d0": {
          "model_module": "@jupyter-widgets/controls",
          "model_name": "DescriptionStyleModel",
          "model_module_version": "1.5.0",
          "state": {
            "_model_module": "@jupyter-widgets/controls",
            "_model_module_version": "1.5.0",
            "_model_name": "DescriptionStyleModel",
            "_view_count": null,
            "_view_module": "@jupyter-widgets/base",
            "_view_module_version": "1.2.0",
            "_view_name": "StyleView",
            "description_width": ""
          }
        },
        "6d089890bb7e4ac4bda9ef225f7736d7": {
          "model_module": "@jupyter-widgets/controls",
          "model_name": "HBoxModel",
          "model_module_version": "1.5.0",
          "state": {
            "_dom_classes": [],
            "_model_module": "@jupyter-widgets/controls",
            "_model_module_version": "1.5.0",
            "_model_name": "HBoxModel",
            "_view_count": null,
            "_view_module": "@jupyter-widgets/controls",
            "_view_module_version": "1.5.0",
            "_view_name": "HBoxView",
            "box_style": "",
            "children": [
              "IPY_MODEL_0c1fbf3787b54c2e95cced75397a06cd",
              "IPY_MODEL_246318f7d5a74a2db31042ea4e987f4b",
              "IPY_MODEL_21aa5922282c43deb2cdb900a1254868"
            ],
            "layout": "IPY_MODEL_181b0ab7fe4a4f0589037544c68ea5a5"
          }
        },
        "0c1fbf3787b54c2e95cced75397a06cd": {
          "model_module": "@jupyter-widgets/controls",
          "model_name": "HTMLModel",
          "model_module_version": "1.5.0",
          "state": {
            "_dom_classes": [],
            "_model_module": "@jupyter-widgets/controls",
            "_model_module_version": "1.5.0",
            "_model_name": "HTMLModel",
            "_view_count": null,
            "_view_module": "@jupyter-widgets/controls",
            "_view_module_version": "1.5.0",
            "_view_name": "HTMLView",
            "description": "",
            "description_tooltip": null,
            "layout": "IPY_MODEL_221d64f75f7443669c29076c307e1711",
            "placeholder": "​",
            "style": "IPY_MODEL_f2a64ad75b88420bb51719559f6edf67",
            "value": "special_tokens_map.json: 100%"
          }
        },
        "246318f7d5a74a2db31042ea4e987f4b": {
          "model_module": "@jupyter-widgets/controls",
          "model_name": "FloatProgressModel",
          "model_module_version": "1.5.0",
          "state": {
            "_dom_classes": [],
            "_model_module": "@jupyter-widgets/controls",
            "_model_module_version": "1.5.0",
            "_model_name": "FloatProgressModel",
            "_view_count": null,
            "_view_module": "@jupyter-widgets/controls",
            "_view_module_version": "1.5.0",
            "_view_name": "ProgressView",
            "bar_style": "success",
            "description": "",
            "description_tooltip": null,
            "layout": "IPY_MODEL_dd5b6b5d0b7740c391010362437f2a24",
            "max": 125,
            "min": 0,
            "orientation": "horizontal",
            "style": "IPY_MODEL_aeda6326790143a0a6eb880eaac1d085",
            "value": 125
          }
        },
        "21aa5922282c43deb2cdb900a1254868": {
          "model_module": "@jupyter-widgets/controls",
          "model_name": "HTMLModel",
          "model_module_version": "1.5.0",
          "state": {
            "_dom_classes": [],
            "_model_module": "@jupyter-widgets/controls",
            "_model_module_version": "1.5.0",
            "_model_name": "HTMLModel",
            "_view_count": null,
            "_view_module": "@jupyter-widgets/controls",
            "_view_module_version": "1.5.0",
            "_view_name": "HTMLView",
            "description": "",
            "description_tooltip": null,
            "layout": "IPY_MODEL_b9ee115141f44a44b1af5458bbe76240",
            "placeholder": "​",
            "style": "IPY_MODEL_386e8a7f9abc48b099150337f62f2e8b",
            "value": " 125/125 [00:00&lt;00:00, 5.06kB/s]"
          }
        },
        "181b0ab7fe4a4f0589037544c68ea5a5": {
          "model_module": "@jupyter-widgets/base",
          "model_name": "LayoutModel",
          "model_module_version": "1.2.0",
          "state": {
            "_model_module": "@jupyter-widgets/base",
            "_model_module_version": "1.2.0",
            "_model_name": "LayoutModel",
            "_view_count": null,
            "_view_module": "@jupyter-widgets/base",
            "_view_module_version": "1.2.0",
            "_view_name": "LayoutView",
            "align_content": null,
            "align_items": null,
            "align_self": null,
            "border": null,
            "bottom": null,
            "display": null,
            "flex": null,
            "flex_flow": null,
            "grid_area": null,
            "grid_auto_columns": null,
            "grid_auto_flow": null,
            "grid_auto_rows": null,
            "grid_column": null,
            "grid_gap": null,
            "grid_row": null,
            "grid_template_areas": null,
            "grid_template_columns": null,
            "grid_template_rows": null,
            "height": null,
            "justify_content": null,
            "justify_items": null,
            "left": null,
            "margin": null,
            "max_height": null,
            "max_width": null,
            "min_height": null,
            "min_width": null,
            "object_fit": null,
            "object_position": null,
            "order": null,
            "overflow": null,
            "overflow_x": null,
            "overflow_y": null,
            "padding": null,
            "right": null,
            "top": null,
            "visibility": null,
            "width": null
          }
        },
        "221d64f75f7443669c29076c307e1711": {
          "model_module": "@jupyter-widgets/base",
          "model_name": "LayoutModel",
          "model_module_version": "1.2.0",
          "state": {
            "_model_module": "@jupyter-widgets/base",
            "_model_module_version": "1.2.0",
            "_model_name": "LayoutModel",
            "_view_count": null,
            "_view_module": "@jupyter-widgets/base",
            "_view_module_version": "1.2.0",
            "_view_name": "LayoutView",
            "align_content": null,
            "align_items": null,
            "align_self": null,
            "border": null,
            "bottom": null,
            "display": null,
            "flex": null,
            "flex_flow": null,
            "grid_area": null,
            "grid_auto_columns": null,
            "grid_auto_flow": null,
            "grid_auto_rows": null,
            "grid_column": null,
            "grid_gap": null,
            "grid_row": null,
            "grid_template_areas": null,
            "grid_template_columns": null,
            "grid_template_rows": null,
            "height": null,
            "justify_content": null,
            "justify_items": null,
            "left": null,
            "margin": null,
            "max_height": null,
            "max_width": null,
            "min_height": null,
            "min_width": null,
            "object_fit": null,
            "object_position": null,
            "order": null,
            "overflow": null,
            "overflow_x": null,
            "overflow_y": null,
            "padding": null,
            "right": null,
            "top": null,
            "visibility": null,
            "width": null
          }
        },
        "f2a64ad75b88420bb51719559f6edf67": {
          "model_module": "@jupyter-widgets/controls",
          "model_name": "DescriptionStyleModel",
          "model_module_version": "1.5.0",
          "state": {
            "_model_module": "@jupyter-widgets/controls",
            "_model_module_version": "1.5.0",
            "_model_name": "DescriptionStyleModel",
            "_view_count": null,
            "_view_module": "@jupyter-widgets/base",
            "_view_module_version": "1.2.0",
            "_view_name": "StyleView",
            "description_width": ""
          }
        },
        "dd5b6b5d0b7740c391010362437f2a24": {
          "model_module": "@jupyter-widgets/base",
          "model_name": "LayoutModel",
          "model_module_version": "1.2.0",
          "state": {
            "_model_module": "@jupyter-widgets/base",
            "_model_module_version": "1.2.0",
            "_model_name": "LayoutModel",
            "_view_count": null,
            "_view_module": "@jupyter-widgets/base",
            "_view_module_version": "1.2.0",
            "_view_name": "LayoutView",
            "align_content": null,
            "align_items": null,
            "align_self": null,
            "border": null,
            "bottom": null,
            "display": null,
            "flex": null,
            "flex_flow": null,
            "grid_area": null,
            "grid_auto_columns": null,
            "grid_auto_flow": null,
            "grid_auto_rows": null,
            "grid_column": null,
            "grid_gap": null,
            "grid_row": null,
            "grid_template_areas": null,
            "grid_template_columns": null,
            "grid_template_rows": null,
            "height": null,
            "justify_content": null,
            "justify_items": null,
            "left": null,
            "margin": null,
            "max_height": null,
            "max_width": null,
            "min_height": null,
            "min_width": null,
            "object_fit": null,
            "object_position": null,
            "order": null,
            "overflow": null,
            "overflow_x": null,
            "overflow_y": null,
            "padding": null,
            "right": null,
            "top": null,
            "visibility": null,
            "width": null
          }
        },
        "aeda6326790143a0a6eb880eaac1d085": {
          "model_module": "@jupyter-widgets/controls",
          "model_name": "ProgressStyleModel",
          "model_module_version": "1.5.0",
          "state": {
            "_model_module": "@jupyter-widgets/controls",
            "_model_module_version": "1.5.0",
            "_model_name": "ProgressStyleModel",
            "_view_count": null,
            "_view_module": "@jupyter-widgets/base",
            "_view_module_version": "1.2.0",
            "_view_name": "StyleView",
            "bar_color": null,
            "description_width": ""
          }
        },
        "b9ee115141f44a44b1af5458bbe76240": {
          "model_module": "@jupyter-widgets/base",
          "model_name": "LayoutModel",
          "model_module_version": "1.2.0",
          "state": {
            "_model_module": "@jupyter-widgets/base",
            "_model_module_version": "1.2.0",
            "_model_name": "LayoutModel",
            "_view_count": null,
            "_view_module": "@jupyter-widgets/base",
            "_view_module_version": "1.2.0",
            "_view_name": "LayoutView",
            "align_content": null,
            "align_items": null,
            "align_self": null,
            "border": null,
            "bottom": null,
            "display": null,
            "flex": null,
            "flex_flow": null,
            "grid_area": null,
            "grid_auto_columns": null,
            "grid_auto_flow": null,
            "grid_auto_rows": null,
            "grid_column": null,
            "grid_gap": null,
            "grid_row": null,
            "grid_template_areas": null,
            "grid_template_columns": null,
            "grid_template_rows": null,
            "height": null,
            "justify_content": null,
            "justify_items": null,
            "left": null,
            "margin": null,
            "max_height": null,
            "max_width": null,
            "min_height": null,
            "min_width": null,
            "object_fit": null,
            "object_position": null,
            "order": null,
            "overflow": null,
            "overflow_x": null,
            "overflow_y": null,
            "padding": null,
            "right": null,
            "top": null,
            "visibility": null,
            "width": null
          }
        },
        "386e8a7f9abc48b099150337f62f2e8b": {
          "model_module": "@jupyter-widgets/controls",
          "model_name": "DescriptionStyleModel",
          "model_module_version": "1.5.0",
          "state": {
            "_model_module": "@jupyter-widgets/controls",
            "_model_module_version": "1.5.0",
            "_model_name": "DescriptionStyleModel",
            "_view_count": null,
            "_view_module": "@jupyter-widgets/base",
            "_view_module_version": "1.2.0",
            "_view_name": "StyleView",
            "description_width": ""
          }
        },
        "be63656afa184438a7565180629113df": {
          "model_module": "@jupyter-widgets/controls",
          "model_name": "HBoxModel",
          "model_module_version": "1.5.0",
          "state": {
            "_dom_classes": [],
            "_model_module": "@jupyter-widgets/controls",
            "_model_module_version": "1.5.0",
            "_model_name": "HBoxModel",
            "_view_count": null,
            "_view_module": "@jupyter-widgets/controls",
            "_view_module_version": "1.5.0",
            "_view_name": "HBoxView",
            "box_style": "",
            "children": [
              "IPY_MODEL_993ee43393c24a5eb0fdcfa9f5071a01",
              "IPY_MODEL_3698af06d81d4400ad40c25631cf0239",
              "IPY_MODEL_39eb38071266462caa9a36cfdd01d2fc"
            ],
            "layout": "IPY_MODEL_ce69284ca34c4aa990dbba99ac7cf1ba"
          }
        },
        "993ee43393c24a5eb0fdcfa9f5071a01": {
          "model_module": "@jupyter-widgets/controls",
          "model_name": "HTMLModel",
          "model_module_version": "1.5.0",
          "state": {
            "_dom_classes": [],
            "_model_module": "@jupyter-widgets/controls",
            "_model_module_version": "1.5.0",
            "_model_name": "HTMLModel",
            "_view_count": null,
            "_view_module": "@jupyter-widgets/controls",
            "_view_module_version": "1.5.0",
            "_view_name": "HTMLView",
            "description": "",
            "description_tooltip": null,
            "layout": "IPY_MODEL_a12a1017a4624a049d02e07df6d989d3",
            "placeholder": "​",
            "style": "IPY_MODEL_64ec0f176670451da8fa00375814b154",
            "value": "tokenizer.json: 100%"
          }
        },
        "3698af06d81d4400ad40c25631cf0239": {
          "model_module": "@jupyter-widgets/controls",
          "model_name": "FloatProgressModel",
          "model_module_version": "1.5.0",
          "state": {
            "_dom_classes": [],
            "_model_module": "@jupyter-widgets/controls",
            "_model_module_version": "1.5.0",
            "_model_name": "FloatProgressModel",
            "_view_count": null,
            "_view_module": "@jupyter-widgets/controls",
            "_view_module_version": "1.5.0",
            "_view_name": "ProgressView",
            "bar_style": "success",
            "description": "",
            "description_tooltip": null,
            "layout": "IPY_MODEL_3d5bdbdd76eb4581925df3e47496d9a5",
            "max": 711396,
            "min": 0,
            "orientation": "horizontal",
            "style": "IPY_MODEL_5bb696ce02bc4c38a5710a4068b6b0ec",
            "value": 711396
          }
        },
        "39eb38071266462caa9a36cfdd01d2fc": {
          "model_module": "@jupyter-widgets/controls",
          "model_name": "HTMLModel",
          "model_module_version": "1.5.0",
          "state": {
            "_dom_classes": [],
            "_model_module": "@jupyter-widgets/controls",
            "_model_module_version": "1.5.0",
            "_model_name": "HTMLModel",
            "_view_count": null,
            "_view_module": "@jupyter-widgets/controls",
            "_view_module_version": "1.5.0",
            "_view_name": "HTMLView",
            "description": "",
            "description_tooltip": null,
            "layout": "IPY_MODEL_f2b22ced96a841c68ea0195f48ceb1eb",
            "placeholder": "​",
            "style": "IPY_MODEL_961b98c99ec74caea7de84b420210566",
            "value": " 711k/711k [00:00&lt;00:00, 5.50MB/s]"
          }
        },
        "ce69284ca34c4aa990dbba99ac7cf1ba": {
          "model_module": "@jupyter-widgets/base",
          "model_name": "LayoutModel",
          "model_module_version": "1.2.0",
          "state": {
            "_model_module": "@jupyter-widgets/base",
            "_model_module_version": "1.2.0",
            "_model_name": "LayoutModel",
            "_view_count": null,
            "_view_module": "@jupyter-widgets/base",
            "_view_module_version": "1.2.0",
            "_view_name": "LayoutView",
            "align_content": null,
            "align_items": null,
            "align_self": null,
            "border": null,
            "bottom": null,
            "display": null,
            "flex": null,
            "flex_flow": null,
            "grid_area": null,
            "grid_auto_columns": null,
            "grid_auto_flow": null,
            "grid_auto_rows": null,
            "grid_column": null,
            "grid_gap": null,
            "grid_row": null,
            "grid_template_areas": null,
            "grid_template_columns": null,
            "grid_template_rows": null,
            "height": null,
            "justify_content": null,
            "justify_items": null,
            "left": null,
            "margin": null,
            "max_height": null,
            "max_width": null,
            "min_height": null,
            "min_width": null,
            "object_fit": null,
            "object_position": null,
            "order": null,
            "overflow": null,
            "overflow_x": null,
            "overflow_y": null,
            "padding": null,
            "right": null,
            "top": null,
            "visibility": null,
            "width": null
          }
        },
        "a12a1017a4624a049d02e07df6d989d3": {
          "model_module": "@jupyter-widgets/base",
          "model_name": "LayoutModel",
          "model_module_version": "1.2.0",
          "state": {
            "_model_module": "@jupyter-widgets/base",
            "_model_module_version": "1.2.0",
            "_model_name": "LayoutModel",
            "_view_count": null,
            "_view_module": "@jupyter-widgets/base",
            "_view_module_version": "1.2.0",
            "_view_name": "LayoutView",
            "align_content": null,
            "align_items": null,
            "align_self": null,
            "border": null,
            "bottom": null,
            "display": null,
            "flex": null,
            "flex_flow": null,
            "grid_area": null,
            "grid_auto_columns": null,
            "grid_auto_flow": null,
            "grid_auto_rows": null,
            "grid_column": null,
            "grid_gap": null,
            "grid_row": null,
            "grid_template_areas": null,
            "grid_template_columns": null,
            "grid_template_rows": null,
            "height": null,
            "justify_content": null,
            "justify_items": null,
            "left": null,
            "margin": null,
            "max_height": null,
            "max_width": null,
            "min_height": null,
            "min_width": null,
            "object_fit": null,
            "object_position": null,
            "order": null,
            "overflow": null,
            "overflow_x": null,
            "overflow_y": null,
            "padding": null,
            "right": null,
            "top": null,
            "visibility": null,
            "width": null
          }
        },
        "64ec0f176670451da8fa00375814b154": {
          "model_module": "@jupyter-widgets/controls",
          "model_name": "DescriptionStyleModel",
          "model_module_version": "1.5.0",
          "state": {
            "_model_module": "@jupyter-widgets/controls",
            "_model_module_version": "1.5.0",
            "_model_name": "DescriptionStyleModel",
            "_view_count": null,
            "_view_module": "@jupyter-widgets/base",
            "_view_module_version": "1.2.0",
            "_view_name": "StyleView",
            "description_width": ""
          }
        },
        "3d5bdbdd76eb4581925df3e47496d9a5": {
          "model_module": "@jupyter-widgets/base",
          "model_name": "LayoutModel",
          "model_module_version": "1.2.0",
          "state": {
            "_model_module": "@jupyter-widgets/base",
            "_model_module_version": "1.2.0",
            "_model_name": "LayoutModel",
            "_view_count": null,
            "_view_module": "@jupyter-widgets/base",
            "_view_module_version": "1.2.0",
            "_view_name": "LayoutView",
            "align_content": null,
            "align_items": null,
            "align_self": null,
            "border": null,
            "bottom": null,
            "display": null,
            "flex": null,
            "flex_flow": null,
            "grid_area": null,
            "grid_auto_columns": null,
            "grid_auto_flow": null,
            "grid_auto_rows": null,
            "grid_column": null,
            "grid_gap": null,
            "grid_row": null,
            "grid_template_areas": null,
            "grid_template_columns": null,
            "grid_template_rows": null,
            "height": null,
            "justify_content": null,
            "justify_items": null,
            "left": null,
            "margin": null,
            "max_height": null,
            "max_width": null,
            "min_height": null,
            "min_width": null,
            "object_fit": null,
            "object_position": null,
            "order": null,
            "overflow": null,
            "overflow_x": null,
            "overflow_y": null,
            "padding": null,
            "right": null,
            "top": null,
            "visibility": null,
            "width": null
          }
        },
        "5bb696ce02bc4c38a5710a4068b6b0ec": {
          "model_module": "@jupyter-widgets/controls",
          "model_name": "ProgressStyleModel",
          "model_module_version": "1.5.0",
          "state": {
            "_model_module": "@jupyter-widgets/controls",
            "_model_module_version": "1.5.0",
            "_model_name": "ProgressStyleModel",
            "_view_count": null,
            "_view_module": "@jupyter-widgets/base",
            "_view_module_version": "1.2.0",
            "_view_name": "StyleView",
            "bar_color": null,
            "description_width": ""
          }
        },
        "f2b22ced96a841c68ea0195f48ceb1eb": {
          "model_module": "@jupyter-widgets/base",
          "model_name": "LayoutModel",
          "model_module_version": "1.2.0",
          "state": {
            "_model_module": "@jupyter-widgets/base",
            "_model_module_version": "1.2.0",
            "_model_name": "LayoutModel",
            "_view_count": null,
            "_view_module": "@jupyter-widgets/base",
            "_view_module_version": "1.2.0",
            "_view_name": "LayoutView",
            "align_content": null,
            "align_items": null,
            "align_self": null,
            "border": null,
            "bottom": null,
            "display": null,
            "flex": null,
            "flex_flow": null,
            "grid_area": null,
            "grid_auto_columns": null,
            "grid_auto_flow": null,
            "grid_auto_rows": null,
            "grid_column": null,
            "grid_gap": null,
            "grid_row": null,
            "grid_template_areas": null,
            "grid_template_columns": null,
            "grid_template_rows": null,
            "height": null,
            "justify_content": null,
            "justify_items": null,
            "left": null,
            "margin": null,
            "max_height": null,
            "max_width": null,
            "min_height": null,
            "min_width": null,
            "object_fit": null,
            "object_position": null,
            "order": null,
            "overflow": null,
            "overflow_x": null,
            "overflow_y": null,
            "padding": null,
            "right": null,
            "top": null,
            "visibility": null,
            "width": null
          }
        },
        "961b98c99ec74caea7de84b420210566": {
          "model_module": "@jupyter-widgets/controls",
          "model_name": "DescriptionStyleModel",
          "model_module_version": "1.5.0",
          "state": {
            "_model_module": "@jupyter-widgets/controls",
            "_model_module_version": "1.5.0",
            "_model_name": "DescriptionStyleModel",
            "_view_count": null,
            "_view_module": "@jupyter-widgets/base",
            "_view_module_version": "1.2.0",
            "_view_name": "StyleView",
            "description_width": ""
          }
        },
        "d285fb55b3a74752b68cfc1b0f891509": {
          "model_module": "@jupyter-widgets/controls",
          "model_name": "HBoxModel",
          "model_module_version": "1.5.0",
          "state": {
            "_dom_classes": [],
            "_model_module": "@jupyter-widgets/controls",
            "_model_module_version": "1.5.0",
            "_model_name": "HBoxModel",
            "_view_count": null,
            "_view_module": "@jupyter-widgets/controls",
            "_view_module_version": "1.5.0",
            "_view_name": "HBoxView",
            "box_style": "",
            "children": [
              "IPY_MODEL_5c2c9006b2af4f1cad871f754e436799",
              "IPY_MODEL_973cf8ba3d944cbeb9d2862fdff71e9a",
              "IPY_MODEL_fad9d3a87a6c44309c1526cfdad01b1a"
            ],
            "layout": "IPY_MODEL_1f5b26e6b52a48c9a8efb963a4e0443e"
          }
        },
        "5c2c9006b2af4f1cad871f754e436799": {
          "model_module": "@jupyter-widgets/controls",
          "model_name": "HTMLModel",
          "model_module_version": "1.5.0",
          "state": {
            "_dom_classes": [],
            "_model_module": "@jupyter-widgets/controls",
            "_model_module_version": "1.5.0",
            "_model_name": "HTMLModel",
            "_view_count": null,
            "_view_module": "@jupyter-widgets/controls",
            "_view_module_version": "1.5.0",
            "_view_name": "HTMLView",
            "description": "",
            "description_tooltip": null,
            "layout": "IPY_MODEL_d8016f2804dc4521882db0405013e650",
            "placeholder": "​",
            "style": "IPY_MODEL_d8d758ffdb454f0ca4c7d850f52837d3",
            "value": "tokenizer_config.json: 100%"
          }
        },
        "973cf8ba3d944cbeb9d2862fdff71e9a": {
          "model_module": "@jupyter-widgets/controls",
          "model_name": "FloatProgressModel",
          "model_module_version": "1.5.0",
          "state": {
            "_dom_classes": [],
            "_model_module": "@jupyter-widgets/controls",
            "_model_module_version": "1.5.0",
            "_model_name": "FloatProgressModel",
            "_view_count": null,
            "_view_module": "@jupyter-widgets/controls",
            "_view_module_version": "1.5.0",
            "_view_name": "ProgressView",
            "bar_style": "success",
            "description": "",
            "description_tooltip": null,
            "layout": "IPY_MODEL_c8fad70ebd014e62a1924fbdc8fd2108",
            "max": 366,
            "min": 0,
            "orientation": "horizontal",
            "style": "IPY_MODEL_9e518d81559449cfad7d59f625a4e6bf",
            "value": 366
          }
        },
        "fad9d3a87a6c44309c1526cfdad01b1a": {
          "model_module": "@jupyter-widgets/controls",
          "model_name": "HTMLModel",
          "model_module_version": "1.5.0",
          "state": {
            "_dom_classes": [],
            "_model_module": "@jupyter-widgets/controls",
            "_model_module_version": "1.5.0",
            "_model_name": "HTMLModel",
            "_view_count": null,
            "_view_module": "@jupyter-widgets/controls",
            "_view_module_version": "1.5.0",
            "_view_name": "HTMLView",
            "description": "",
            "description_tooltip": null,
            "layout": "IPY_MODEL_06d53dc5dd5046c39ce2ddcec693c7a8",
            "placeholder": "​",
            "style": "IPY_MODEL_7ca113705f954feab868391890e55d01",
            "value": " 366/366 [00:00&lt;00:00, 12.2kB/s]"
          }
        },
        "1f5b26e6b52a48c9a8efb963a4e0443e": {
          "model_module": "@jupyter-widgets/base",
          "model_name": "LayoutModel",
          "model_module_version": "1.2.0",
          "state": {
            "_model_module": "@jupyter-widgets/base",
            "_model_module_version": "1.2.0",
            "_model_name": "LayoutModel",
            "_view_count": null,
            "_view_module": "@jupyter-widgets/base",
            "_view_module_version": "1.2.0",
            "_view_name": "LayoutView",
            "align_content": null,
            "align_items": null,
            "align_self": null,
            "border": null,
            "bottom": null,
            "display": null,
            "flex": null,
            "flex_flow": null,
            "grid_area": null,
            "grid_auto_columns": null,
            "grid_auto_flow": null,
            "grid_auto_rows": null,
            "grid_column": null,
            "grid_gap": null,
            "grid_row": null,
            "grid_template_areas": null,
            "grid_template_columns": null,
            "grid_template_rows": null,
            "height": null,
            "justify_content": null,
            "justify_items": null,
            "left": null,
            "margin": null,
            "max_height": null,
            "max_width": null,
            "min_height": null,
            "min_width": null,
            "object_fit": null,
            "object_position": null,
            "order": null,
            "overflow": null,
            "overflow_x": null,
            "overflow_y": null,
            "padding": null,
            "right": null,
            "top": null,
            "visibility": null,
            "width": null
          }
        },
        "d8016f2804dc4521882db0405013e650": {
          "model_module": "@jupyter-widgets/base",
          "model_name": "LayoutModel",
          "model_module_version": "1.2.0",
          "state": {
            "_model_module": "@jupyter-widgets/base",
            "_model_module_version": "1.2.0",
            "_model_name": "LayoutModel",
            "_view_count": null,
            "_view_module": "@jupyter-widgets/base",
            "_view_module_version": "1.2.0",
            "_view_name": "LayoutView",
            "align_content": null,
            "align_items": null,
            "align_self": null,
            "border": null,
            "bottom": null,
            "display": null,
            "flex": null,
            "flex_flow": null,
            "grid_area": null,
            "grid_auto_columns": null,
            "grid_auto_flow": null,
            "grid_auto_rows": null,
            "grid_column": null,
            "grid_gap": null,
            "grid_row": null,
            "grid_template_areas": null,
            "grid_template_columns": null,
            "grid_template_rows": null,
            "height": null,
            "justify_content": null,
            "justify_items": null,
            "left": null,
            "margin": null,
            "max_height": null,
            "max_width": null,
            "min_height": null,
            "min_width": null,
            "object_fit": null,
            "object_position": null,
            "order": null,
            "overflow": null,
            "overflow_x": null,
            "overflow_y": null,
            "padding": null,
            "right": null,
            "top": null,
            "visibility": null,
            "width": null
          }
        },
        "d8d758ffdb454f0ca4c7d850f52837d3": {
          "model_module": "@jupyter-widgets/controls",
          "model_name": "DescriptionStyleModel",
          "model_module_version": "1.5.0",
          "state": {
            "_model_module": "@jupyter-widgets/controls",
            "_model_module_version": "1.5.0",
            "_model_name": "DescriptionStyleModel",
            "_view_count": null,
            "_view_module": "@jupyter-widgets/base",
            "_view_module_version": "1.2.0",
            "_view_name": "StyleView",
            "description_width": ""
          }
        },
        "c8fad70ebd014e62a1924fbdc8fd2108": {
          "model_module": "@jupyter-widgets/base",
          "model_name": "LayoutModel",
          "model_module_version": "1.2.0",
          "state": {
            "_model_module": "@jupyter-widgets/base",
            "_model_module_version": "1.2.0",
            "_model_name": "LayoutModel",
            "_view_count": null,
            "_view_module": "@jupyter-widgets/base",
            "_view_module_version": "1.2.0",
            "_view_name": "LayoutView",
            "align_content": null,
            "align_items": null,
            "align_self": null,
            "border": null,
            "bottom": null,
            "display": null,
            "flex": null,
            "flex_flow": null,
            "grid_area": null,
            "grid_auto_columns": null,
            "grid_auto_flow": null,
            "grid_auto_rows": null,
            "grid_column": null,
            "grid_gap": null,
            "grid_row": null,
            "grid_template_areas": null,
            "grid_template_columns": null,
            "grid_template_rows": null,
            "height": null,
            "justify_content": null,
            "justify_items": null,
            "left": null,
            "margin": null,
            "max_height": null,
            "max_width": null,
            "min_height": null,
            "min_width": null,
            "object_fit": null,
            "object_position": null,
            "order": null,
            "overflow": null,
            "overflow_x": null,
            "overflow_y": null,
            "padding": null,
            "right": null,
            "top": null,
            "visibility": null,
            "width": null
          }
        },
        "9e518d81559449cfad7d59f625a4e6bf": {
          "model_module": "@jupyter-widgets/controls",
          "model_name": "ProgressStyleModel",
          "model_module_version": "1.5.0",
          "state": {
            "_model_module": "@jupyter-widgets/controls",
            "_model_module_version": "1.5.0",
            "_model_name": "ProgressStyleModel",
            "_view_count": null,
            "_view_module": "@jupyter-widgets/base",
            "_view_module_version": "1.2.0",
            "_view_name": "StyleView",
            "bar_color": null,
            "description_width": ""
          }
        },
        "06d53dc5dd5046c39ce2ddcec693c7a8": {
          "model_module": "@jupyter-widgets/base",
          "model_name": "LayoutModel",
          "model_module_version": "1.2.0",
          "state": {
            "_model_module": "@jupyter-widgets/base",
            "_model_module_version": "1.2.0",
            "_model_name": "LayoutModel",
            "_view_count": null,
            "_view_module": "@jupyter-widgets/base",
            "_view_module_version": "1.2.0",
            "_view_name": "LayoutView",
            "align_content": null,
            "align_items": null,
            "align_self": null,
            "border": null,
            "bottom": null,
            "display": null,
            "flex": null,
            "flex_flow": null,
            "grid_area": null,
            "grid_auto_columns": null,
            "grid_auto_flow": null,
            "grid_auto_rows": null,
            "grid_column": null,
            "grid_gap": null,
            "grid_row": null,
            "grid_template_areas": null,
            "grid_template_columns": null,
            "grid_template_rows": null,
            "height": null,
            "justify_content": null,
            "justify_items": null,
            "left": null,
            "margin": null,
            "max_height": null,
            "max_width": null,
            "min_height": null,
            "min_width": null,
            "object_fit": null,
            "object_position": null,
            "order": null,
            "overflow": null,
            "overflow_x": null,
            "overflow_y": null,
            "padding": null,
            "right": null,
            "top": null,
            "visibility": null,
            "width": null
          }
        },
        "7ca113705f954feab868391890e55d01": {
          "model_module": "@jupyter-widgets/controls",
          "model_name": "DescriptionStyleModel",
          "model_module_version": "1.5.0",
          "state": {
            "_model_module": "@jupyter-widgets/controls",
            "_model_module_version": "1.5.0",
            "_model_name": "DescriptionStyleModel",
            "_view_count": null,
            "_view_module": "@jupyter-widgets/base",
            "_view_module_version": "1.2.0",
            "_view_name": "StyleView",
            "description_width": ""
          }
        },
        "f3689923c205409fb80b497d4c807ae8": {
          "model_module": "@jupyter-widgets/controls",
          "model_name": "HBoxModel",
          "model_module_version": "1.5.0",
          "state": {
            "_dom_classes": [],
            "_model_module": "@jupyter-widgets/controls",
            "_model_module_version": "1.5.0",
            "_model_name": "HBoxModel",
            "_view_count": null,
            "_view_module": "@jupyter-widgets/controls",
            "_view_module_version": "1.5.0",
            "_view_name": "HBoxView",
            "box_style": "",
            "children": [
              "IPY_MODEL_1a75a6e8019d4f1c9d258b94532a0797",
              "IPY_MODEL_161eeefc341f42e8b5b8a0104641db10",
              "IPY_MODEL_248e8b9625e04c8482e90f53fd54727c"
            ],
            "layout": "IPY_MODEL_263540e70b374ab7a6268b38e9437e25"
          }
        },
        "1a75a6e8019d4f1c9d258b94532a0797": {
          "model_module": "@jupyter-widgets/controls",
          "model_name": "HTMLModel",
          "model_module_version": "1.5.0",
          "state": {
            "_dom_classes": [],
            "_model_module": "@jupyter-widgets/controls",
            "_model_module_version": "1.5.0",
            "_model_name": "HTMLModel",
            "_view_count": null,
            "_view_module": "@jupyter-widgets/controls",
            "_view_module_version": "1.5.0",
            "_view_name": "HTMLView",
            "description": "",
            "description_tooltip": null,
            "layout": "IPY_MODEL_17e817969ddf43639ec75e53cf504415",
            "placeholder": "​",
            "style": "IPY_MODEL_be26c18217984b409e0b6ee788c0e128",
            "value": "vocab.txt: 100%"
          }
        },
        "161eeefc341f42e8b5b8a0104641db10": {
          "model_module": "@jupyter-widgets/controls",
          "model_name": "FloatProgressModel",
          "model_module_version": "1.5.0",
          "state": {
            "_dom_classes": [],
            "_model_module": "@jupyter-widgets/controls",
            "_model_module_version": "1.5.0",
            "_model_name": "FloatProgressModel",
            "_view_count": null,
            "_view_module": "@jupyter-widgets/controls",
            "_view_module_version": "1.5.0",
            "_view_name": "ProgressView",
            "bar_style": "success",
            "description": "",
            "description_tooltip": null,
            "layout": "IPY_MODEL_0bcda4b4380244bfaf42f4e86495b43d",
            "max": 231508,
            "min": 0,
            "orientation": "horizontal",
            "style": "IPY_MODEL_fc391192d40e4d05b561014488da5ebd",
            "value": 231508
          }
        },
        "248e8b9625e04c8482e90f53fd54727c": {
          "model_module": "@jupyter-widgets/controls",
          "model_name": "HTMLModel",
          "model_module_version": "1.5.0",
          "state": {
            "_dom_classes": [],
            "_model_module": "@jupyter-widgets/controls",
            "_model_module_version": "1.5.0",
            "_model_name": "HTMLModel",
            "_view_count": null,
            "_view_module": "@jupyter-widgets/controls",
            "_view_module_version": "1.5.0",
            "_view_name": "HTMLView",
            "description": "",
            "description_tooltip": null,
            "layout": "IPY_MODEL_d41d2572dba74acc99fc922cc55a4cd5",
            "placeholder": "​",
            "style": "IPY_MODEL_621e74a096684ad191b6b445fab9266b",
            "value": " 232k/232k [00:00&lt;00:00, 3.40MB/s]"
          }
        },
        "263540e70b374ab7a6268b38e9437e25": {
          "model_module": "@jupyter-widgets/base",
          "model_name": "LayoutModel",
          "model_module_version": "1.2.0",
          "state": {
            "_model_module": "@jupyter-widgets/base",
            "_model_module_version": "1.2.0",
            "_model_name": "LayoutModel",
            "_view_count": null,
            "_view_module": "@jupyter-widgets/base",
            "_view_module_version": "1.2.0",
            "_view_name": "LayoutView",
            "align_content": null,
            "align_items": null,
            "align_self": null,
            "border": null,
            "bottom": null,
            "display": null,
            "flex": null,
            "flex_flow": null,
            "grid_area": null,
            "grid_auto_columns": null,
            "grid_auto_flow": null,
            "grid_auto_rows": null,
            "grid_column": null,
            "grid_gap": null,
            "grid_row": null,
            "grid_template_areas": null,
            "grid_template_columns": null,
            "grid_template_rows": null,
            "height": null,
            "justify_content": null,
            "justify_items": null,
            "left": null,
            "margin": null,
            "max_height": null,
            "max_width": null,
            "min_height": null,
            "min_width": null,
            "object_fit": null,
            "object_position": null,
            "order": null,
            "overflow": null,
            "overflow_x": null,
            "overflow_y": null,
            "padding": null,
            "right": null,
            "top": null,
            "visibility": null,
            "width": null
          }
        },
        "17e817969ddf43639ec75e53cf504415": {
          "model_module": "@jupyter-widgets/base",
          "model_name": "LayoutModel",
          "model_module_version": "1.2.0",
          "state": {
            "_model_module": "@jupyter-widgets/base",
            "_model_module_version": "1.2.0",
            "_model_name": "LayoutModel",
            "_view_count": null,
            "_view_module": "@jupyter-widgets/base",
            "_view_module_version": "1.2.0",
            "_view_name": "LayoutView",
            "align_content": null,
            "align_items": null,
            "align_self": null,
            "border": null,
            "bottom": null,
            "display": null,
            "flex": null,
            "flex_flow": null,
            "grid_area": null,
            "grid_auto_columns": null,
            "grid_auto_flow": null,
            "grid_auto_rows": null,
            "grid_column": null,
            "grid_gap": null,
            "grid_row": null,
            "grid_template_areas": null,
            "grid_template_columns": null,
            "grid_template_rows": null,
            "height": null,
            "justify_content": null,
            "justify_items": null,
            "left": null,
            "margin": null,
            "max_height": null,
            "max_width": null,
            "min_height": null,
            "min_width": null,
            "object_fit": null,
            "object_position": null,
            "order": null,
            "overflow": null,
            "overflow_x": null,
            "overflow_y": null,
            "padding": null,
            "right": null,
            "top": null,
            "visibility": null,
            "width": null
          }
        },
        "be26c18217984b409e0b6ee788c0e128": {
          "model_module": "@jupyter-widgets/controls",
          "model_name": "DescriptionStyleModel",
          "model_module_version": "1.5.0",
          "state": {
            "_model_module": "@jupyter-widgets/controls",
            "_model_module_version": "1.5.0",
            "_model_name": "DescriptionStyleModel",
            "_view_count": null,
            "_view_module": "@jupyter-widgets/base",
            "_view_module_version": "1.2.0",
            "_view_name": "StyleView",
            "description_width": ""
          }
        },
        "0bcda4b4380244bfaf42f4e86495b43d": {
          "model_module": "@jupyter-widgets/base",
          "model_name": "LayoutModel",
          "model_module_version": "1.2.0",
          "state": {
            "_model_module": "@jupyter-widgets/base",
            "_model_module_version": "1.2.0",
            "_model_name": "LayoutModel",
            "_view_count": null,
            "_view_module": "@jupyter-widgets/base",
            "_view_module_version": "1.2.0",
            "_view_name": "LayoutView",
            "align_content": null,
            "align_items": null,
            "align_self": null,
            "border": null,
            "bottom": null,
            "display": null,
            "flex": null,
            "flex_flow": null,
            "grid_area": null,
            "grid_auto_columns": null,
            "grid_auto_flow": null,
            "grid_auto_rows": null,
            "grid_column": null,
            "grid_gap": null,
            "grid_row": null,
            "grid_template_areas": null,
            "grid_template_columns": null,
            "grid_template_rows": null,
            "height": null,
            "justify_content": null,
            "justify_items": null,
            "left": null,
            "margin": null,
            "max_height": null,
            "max_width": null,
            "min_height": null,
            "min_width": null,
            "object_fit": null,
            "object_position": null,
            "order": null,
            "overflow": null,
            "overflow_x": null,
            "overflow_y": null,
            "padding": null,
            "right": null,
            "top": null,
            "visibility": null,
            "width": null
          }
        },
        "fc391192d40e4d05b561014488da5ebd": {
          "model_module": "@jupyter-widgets/controls",
          "model_name": "ProgressStyleModel",
          "model_module_version": "1.5.0",
          "state": {
            "_model_module": "@jupyter-widgets/controls",
            "_model_module_version": "1.5.0",
            "_model_name": "ProgressStyleModel",
            "_view_count": null,
            "_view_module": "@jupyter-widgets/base",
            "_view_module_version": "1.2.0",
            "_view_name": "StyleView",
            "bar_color": null,
            "description_width": ""
          }
        },
        "d41d2572dba74acc99fc922cc55a4cd5": {
          "model_module": "@jupyter-widgets/base",
          "model_name": "LayoutModel",
          "model_module_version": "1.2.0",
          "state": {
            "_model_module": "@jupyter-widgets/base",
            "_model_module_version": "1.2.0",
            "_model_name": "LayoutModel",
            "_view_count": null,
            "_view_module": "@jupyter-widgets/base",
            "_view_module_version": "1.2.0",
            "_view_name": "LayoutView",
            "align_content": null,
            "align_items": null,
            "align_self": null,
            "border": null,
            "bottom": null,
            "display": null,
            "flex": null,
            "flex_flow": null,
            "grid_area": null,
            "grid_auto_columns": null,
            "grid_auto_flow": null,
            "grid_auto_rows": null,
            "grid_column": null,
            "grid_gap": null,
            "grid_row": null,
            "grid_template_areas": null,
            "grid_template_columns": null,
            "grid_template_rows": null,
            "height": null,
            "justify_content": null,
            "justify_items": null,
            "left": null,
            "margin": null,
            "max_height": null,
            "max_width": null,
            "min_height": null,
            "min_width": null,
            "object_fit": null,
            "object_position": null,
            "order": null,
            "overflow": null,
            "overflow_x": null,
            "overflow_y": null,
            "padding": null,
            "right": null,
            "top": null,
            "visibility": null,
            "width": null
          }
        },
        "621e74a096684ad191b6b445fab9266b": {
          "model_module": "@jupyter-widgets/controls",
          "model_name": "DescriptionStyleModel",
          "model_module_version": "1.5.0",
          "state": {
            "_model_module": "@jupyter-widgets/controls",
            "_model_module_version": "1.5.0",
            "_model_name": "DescriptionStyleModel",
            "_view_count": null,
            "_view_module": "@jupyter-widgets/base",
            "_view_module_version": "1.2.0",
            "_view_name": "StyleView",
            "description_width": ""
          }
        },
        "3ef2389bd4dc4ac89f265f0ee02699a2": {
          "model_module": "@jupyter-widgets/controls",
          "model_name": "HBoxModel",
          "model_module_version": "1.5.0",
          "state": {
            "_dom_classes": [],
            "_model_module": "@jupyter-widgets/controls",
            "_model_module_version": "1.5.0",
            "_model_name": "HBoxModel",
            "_view_count": null,
            "_view_module": "@jupyter-widgets/controls",
            "_view_module_version": "1.5.0",
            "_view_name": "HBoxView",
            "box_style": "",
            "children": [
              "IPY_MODEL_011861b81a404ed58ef0db7ca5be8cac",
              "IPY_MODEL_0331254ce84d4824ab5480ff46bb9ad0",
              "IPY_MODEL_286eca3bdc194947939a4a2e5bcf1925"
            ],
            "layout": "IPY_MODEL_902d2d460b15481da336e708ee387f88"
          }
        },
        "011861b81a404ed58ef0db7ca5be8cac": {
          "model_module": "@jupyter-widgets/controls",
          "model_name": "HTMLModel",
          "model_module_version": "1.5.0",
          "state": {
            "_dom_classes": [],
            "_model_module": "@jupyter-widgets/controls",
            "_model_module_version": "1.5.0",
            "_model_name": "HTMLModel",
            "_view_count": null,
            "_view_module": "@jupyter-widgets/controls",
            "_view_module_version": "1.5.0",
            "_view_name": "HTMLView",
            "description": "",
            "description_tooltip": null,
            "layout": "IPY_MODEL_268da14ba9594227b3b863e02c6c3fd4",
            "placeholder": "​",
            "style": "IPY_MODEL_6ad89588613e4e999fb6a7cd1e239af3",
            "value": "modules.json: 100%"
          }
        },
        "0331254ce84d4824ab5480ff46bb9ad0": {
          "model_module": "@jupyter-widgets/controls",
          "model_name": "FloatProgressModel",
          "model_module_version": "1.5.0",
          "state": {
            "_dom_classes": [],
            "_model_module": "@jupyter-widgets/controls",
            "_model_module_version": "1.5.0",
            "_model_name": "FloatProgressModel",
            "_view_count": null,
            "_view_module": "@jupyter-widgets/controls",
            "_view_module_version": "1.5.0",
            "_view_name": "ProgressView",
            "bar_style": "success",
            "description": "",
            "description_tooltip": null,
            "layout": "IPY_MODEL_e31dcd5505f0430787907bed989c3076",
            "max": 349,
            "min": 0,
            "orientation": "horizontal",
            "style": "IPY_MODEL_43b5de4c60a54e6dad9539d88e88cbfc",
            "value": 349
          }
        },
        "286eca3bdc194947939a4a2e5bcf1925": {
          "model_module": "@jupyter-widgets/controls",
          "model_name": "HTMLModel",
          "model_module_version": "1.5.0",
          "state": {
            "_dom_classes": [],
            "_model_module": "@jupyter-widgets/controls",
            "_model_module_version": "1.5.0",
            "_model_name": "HTMLModel",
            "_view_count": null,
            "_view_module": "@jupyter-widgets/controls",
            "_view_module_version": "1.5.0",
            "_view_name": "HTMLView",
            "description": "",
            "description_tooltip": null,
            "layout": "IPY_MODEL_ced88051342f4b57b8f4275948c4dce0",
            "placeholder": "​",
            "style": "IPY_MODEL_d75afc8d23a6441992876a02fd646b39",
            "value": " 349/349 [00:00&lt;00:00, 15.4kB/s]"
          }
        },
        "902d2d460b15481da336e708ee387f88": {
          "model_module": "@jupyter-widgets/base",
          "model_name": "LayoutModel",
          "model_module_version": "1.2.0",
          "state": {
            "_model_module": "@jupyter-widgets/base",
            "_model_module_version": "1.2.0",
            "_model_name": "LayoutModel",
            "_view_count": null,
            "_view_module": "@jupyter-widgets/base",
            "_view_module_version": "1.2.0",
            "_view_name": "LayoutView",
            "align_content": null,
            "align_items": null,
            "align_self": null,
            "border": null,
            "bottom": null,
            "display": null,
            "flex": null,
            "flex_flow": null,
            "grid_area": null,
            "grid_auto_columns": null,
            "grid_auto_flow": null,
            "grid_auto_rows": null,
            "grid_column": null,
            "grid_gap": null,
            "grid_row": null,
            "grid_template_areas": null,
            "grid_template_columns": null,
            "grid_template_rows": null,
            "height": null,
            "justify_content": null,
            "justify_items": null,
            "left": null,
            "margin": null,
            "max_height": null,
            "max_width": null,
            "min_height": null,
            "min_width": null,
            "object_fit": null,
            "object_position": null,
            "order": null,
            "overflow": null,
            "overflow_x": null,
            "overflow_y": null,
            "padding": null,
            "right": null,
            "top": null,
            "visibility": null,
            "width": null
          }
        },
        "268da14ba9594227b3b863e02c6c3fd4": {
          "model_module": "@jupyter-widgets/base",
          "model_name": "LayoutModel",
          "model_module_version": "1.2.0",
          "state": {
            "_model_module": "@jupyter-widgets/base",
            "_model_module_version": "1.2.0",
            "_model_name": "LayoutModel",
            "_view_count": null,
            "_view_module": "@jupyter-widgets/base",
            "_view_module_version": "1.2.0",
            "_view_name": "LayoutView",
            "align_content": null,
            "align_items": null,
            "align_self": null,
            "border": null,
            "bottom": null,
            "display": null,
            "flex": null,
            "flex_flow": null,
            "grid_area": null,
            "grid_auto_columns": null,
            "grid_auto_flow": null,
            "grid_auto_rows": null,
            "grid_column": null,
            "grid_gap": null,
            "grid_row": null,
            "grid_template_areas": null,
            "grid_template_columns": null,
            "grid_template_rows": null,
            "height": null,
            "justify_content": null,
            "justify_items": null,
            "left": null,
            "margin": null,
            "max_height": null,
            "max_width": null,
            "min_height": null,
            "min_width": null,
            "object_fit": null,
            "object_position": null,
            "order": null,
            "overflow": null,
            "overflow_x": null,
            "overflow_y": null,
            "padding": null,
            "right": null,
            "top": null,
            "visibility": null,
            "width": null
          }
        },
        "6ad89588613e4e999fb6a7cd1e239af3": {
          "model_module": "@jupyter-widgets/controls",
          "model_name": "DescriptionStyleModel",
          "model_module_version": "1.5.0",
          "state": {
            "_model_module": "@jupyter-widgets/controls",
            "_model_module_version": "1.5.0",
            "_model_name": "DescriptionStyleModel",
            "_view_count": null,
            "_view_module": "@jupyter-widgets/base",
            "_view_module_version": "1.2.0",
            "_view_name": "StyleView",
            "description_width": ""
          }
        },
        "e31dcd5505f0430787907bed989c3076": {
          "model_module": "@jupyter-widgets/base",
          "model_name": "LayoutModel",
          "model_module_version": "1.2.0",
          "state": {
            "_model_module": "@jupyter-widgets/base",
            "_model_module_version": "1.2.0",
            "_model_name": "LayoutModel",
            "_view_count": null,
            "_view_module": "@jupyter-widgets/base",
            "_view_module_version": "1.2.0",
            "_view_name": "LayoutView",
            "align_content": null,
            "align_items": null,
            "align_self": null,
            "border": null,
            "bottom": null,
            "display": null,
            "flex": null,
            "flex_flow": null,
            "grid_area": null,
            "grid_auto_columns": null,
            "grid_auto_flow": null,
            "grid_auto_rows": null,
            "grid_column": null,
            "grid_gap": null,
            "grid_row": null,
            "grid_template_areas": null,
            "grid_template_columns": null,
            "grid_template_rows": null,
            "height": null,
            "justify_content": null,
            "justify_items": null,
            "left": null,
            "margin": null,
            "max_height": null,
            "max_width": null,
            "min_height": null,
            "min_width": null,
            "object_fit": null,
            "object_position": null,
            "order": null,
            "overflow": null,
            "overflow_x": null,
            "overflow_y": null,
            "padding": null,
            "right": null,
            "top": null,
            "visibility": null,
            "width": null
          }
        },
        "43b5de4c60a54e6dad9539d88e88cbfc": {
          "model_module": "@jupyter-widgets/controls",
          "model_name": "ProgressStyleModel",
          "model_module_version": "1.5.0",
          "state": {
            "_model_module": "@jupyter-widgets/controls",
            "_model_module_version": "1.5.0",
            "_model_name": "ProgressStyleModel",
            "_view_count": null,
            "_view_module": "@jupyter-widgets/base",
            "_view_module_version": "1.2.0",
            "_view_name": "StyleView",
            "bar_color": null,
            "description_width": ""
          }
        },
        "ced88051342f4b57b8f4275948c4dce0": {
          "model_module": "@jupyter-widgets/base",
          "model_name": "LayoutModel",
          "model_module_version": "1.2.0",
          "state": {
            "_model_module": "@jupyter-widgets/base",
            "_model_module_version": "1.2.0",
            "_model_name": "LayoutModel",
            "_view_count": null,
            "_view_module": "@jupyter-widgets/base",
            "_view_module_version": "1.2.0",
            "_view_name": "LayoutView",
            "align_content": null,
            "align_items": null,
            "align_self": null,
            "border": null,
            "bottom": null,
            "display": null,
            "flex": null,
            "flex_flow": null,
            "grid_area": null,
            "grid_auto_columns": null,
            "grid_auto_flow": null,
            "grid_auto_rows": null,
            "grid_column": null,
            "grid_gap": null,
            "grid_row": null,
            "grid_template_areas": null,
            "grid_template_columns": null,
            "grid_template_rows": null,
            "height": null,
            "justify_content": null,
            "justify_items": null,
            "left": null,
            "margin": null,
            "max_height": null,
            "max_width": null,
            "min_height": null,
            "min_width": null,
            "object_fit": null,
            "object_position": null,
            "order": null,
            "overflow": null,
            "overflow_x": null,
            "overflow_y": null,
            "padding": null,
            "right": null,
            "top": null,
            "visibility": null,
            "width": null
          }
        },
        "d75afc8d23a6441992876a02fd646b39": {
          "model_module": "@jupyter-widgets/controls",
          "model_name": "DescriptionStyleModel",
          "model_module_version": "1.5.0",
          "state": {
            "_model_module": "@jupyter-widgets/controls",
            "_model_module_version": "1.5.0",
            "_model_name": "DescriptionStyleModel",
            "_view_count": null,
            "_view_module": "@jupyter-widgets/base",
            "_view_module_version": "1.2.0",
            "_view_name": "StyleView",
            "description_width": ""
          }
        }
      }
    }
  },
  "nbformat": 4,
  "nbformat_minor": 0
}