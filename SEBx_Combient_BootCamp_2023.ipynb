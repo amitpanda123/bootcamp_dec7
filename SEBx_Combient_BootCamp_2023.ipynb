{
  "cells": [
    {
      "cell_type": "markdown",
      "metadata": {
        "id": "FkZyvXSmxl3S"
      },
      "source": [
        "# Generative AI - SEBx & Combient Hackathon December 2023"
      ]
    },
    {
      "cell_type": "markdown",
      "metadata": {
        "id": "0sF2Up6-RmhA"
      },
      "source": [
        "Some introduction text here .. summarizing the main purpopse of the BootCamp and the exercises in particular\n",
        "<br />\n",
        "<br />\n",
        "\n",
        "***\n",
        "\n",
        "**Note:**\n",
        "This notebook contains code written in [Python](https://www.python.org/), which is a commonly used programmming language. No advanced coding expertise is required for completing the exercises and clear instructions are provided for when and where some modifications are required from the user. The notebook itself is a [Jupyter notebook](https://jupyter.org/), which provides a graphical interface for writing and executing Python code as well as displaying the output. The cell blocks in this notebook are either text formatted via the [Markdown langugage](https://en.wikipedia.org/wiki/Markdown) or executable code snippets written in Python.\n",
        "\n",
        "The box below provides instructions for executing the code within these cell blocks and the result of executing code will be displayed beneath the relevant code cell block.\n",
        "\n",
        "\n",
        "In order to run this notebook properly you will need\n",
        "\n",
        "* **Gmail account** - Follow the provided instructions to download the notebook to your GDrive, so that you can edit and save it freely.\n",
        "* **Google GDrive access** - enable the app `Google Colaboratory`. The process is highlighted in the accompanying reading material, but you can also ask ChatGPT a question like this by posing the following query: <span style=\"color:blue;\">How do I enable google colab for the first time?</span>"
      ]
    },
    {
      "cell_type": "markdown",
      "metadata": {
        "id": "-FflnrWlYmoZ"
      },
      "source": [
        "> **`Run and execute each code cell block in the notebook in a consecutive manner. This is important since some code cell blocks relies on having properly executed some previous code cell block.`**\n",
        ">\n",
        ">\n",
        "> Notebook code blocks can be executed via either:\n",
        "> * **shift + enter**: executes current code block and moves to the cell below\n",
        "> * **control + enter**: executes current code block"
      ]
    },
    {
      "cell_type": "markdown",
      "metadata": {
        "id": "uczbePAtomja"
      },
      "source": [
        "## Environment setup\n",
        "\n",
        "Here we set up the environment and make sure we can access data via Google Drive. Run the below code blocks to install necessary packages."
      ]
    },
    {
      "cell_type": "markdown",
      "metadata": {
        "id": "PVAlM-i8pnK7"
      },
      "source": [
        "Run the code below to clone the GenAI_BootCamp2023 directory which contains files which we will be using during this course. The code clones a directory called GenAI_BootCamp2023 from our Github repository."
      ]
    },
    {
      "cell_type": "markdown",
      "metadata": {
        "id": "_a83ptAEpnK7"
      },
      "source": [
        "> **`During execution of this cell block you will be prompted to provide your GDrive access to download the course content. Use your Google account credentials to allow this action.`**"
      ]
    },
    {
      "cell_type": "code",
      "execution_count": 1,
      "metadata": {
        "id": "KZJdIfCvpnK7"
      },
      "outputs": [],
      "source": [
        "use_drive = False\n",
        "\n",
        "if use_drive:\n",
        "  import os\n",
        "  from google.colab import drive\n",
        "  drive.mount('/content/drive', force_remount=True)\n",
        "\n",
        "  # This moves into the drive where the course content folder will be downloaded\n",
        "  %cd /content/drive/MyDrive\n",
        "\n",
        "\n",
        "  repo_path = 'bootcamp_dec7'\n",
        "  #repo_url = 'https://github.com/banque-nouveau/bootcamp_dec7.git'\n",
        "  repo_url = 'git@github.com:banque-nouveau/bootcamp_dec7.git'\n",
        "\n",
        "\n",
        "  #os.environ['GIT_SSH_COMMAND'] = 'ssh -i /content/bootcamp7dec.key -o IdentitiesOnly=yes'\n",
        "\n",
        "  # Check if the repo directory exists\n",
        "  if os.path.isdir(repo_path):\n",
        "    # If it exists, then pull any changes from the remote repository\n",
        "    %cd {repo_path}\n",
        "    !git pull\n",
        "    %cd ..\n",
        "  else:\n",
        "    # If the directory does not exist, clone the repository\n",
        "    !GIT_SSH_COMMAND='ssh -i /content/bootcamp7dec.rsa -o IdentitiesOnly=yes' git clone git@github.com:banque-nouveau/bootcamp_dec7.git\n",
        "    #!git clone {repo_url}"
      ]
    },
    {
      "cell_type": "markdown",
      "metadata": {
        "id": "4rz1vY1ZpnK8"
      },
      "source": [
        "You can now view the files by clicking on the directory folder."
      ]
    },
    {
      "cell_type": "markdown",
      "metadata": {
        "id": "qkgdiTzvpnK9"
      },
      "source": [
        "## Packages & Imports\n",
        "\n",
        "Installing and importing necessary packages/modules. Note that these are only installed in a virtual environment when using the Colab Notebook."
      ]
    },
    {
      "cell_type": "markdown",
      "metadata": {
        "id": "aAsxW33ZpnK9"
      },
      "source": [
        "Run the below code block to install some of the Python libraries which are required for running the Notebook.\n",
        "\n",
        "Note that this may take up to ~15 seconds to complete."
      ]
    },
    {
      "cell_type": "code",
      "execution_count": 2,
      "metadata": {
        "id": "4mHgu0eCpnK-",
        "colab": {
          "base_uri": "https://localhost:8080/"
        },
        "outputId": "4354cbaf-17fb-4436-9bd7-f136b6b8fc13"
      },
      "outputs": [
        {
          "output_type": "stream",
          "name": "stdout",
          "text": [
            "\u001b[?25l     \u001b[90m━━━━━━━━━━━━━━━━━━━━━━━━━━━━━━━━━━━━━━━━\u001b[0m \u001b[32m0.0/48.9 kB\u001b[0m \u001b[31m?\u001b[0m eta \u001b[36m-:--:--\u001b[0m\r\u001b[2K     \u001b[90m━━━━━━━━━━━━━━━━━━━━━━━━━━━━━━━━━━━━━━━━\u001b[0m \u001b[32m48.9/48.9 kB\u001b[0m \u001b[31m1.2 MB/s\u001b[0m eta \u001b[36m0:00:00\u001b[0m\n",
            "\u001b[2K     \u001b[90m━━━━━━━━━━━━━━━━━━━━━━━━━━━━━━━━━━━━━━━━\u001b[0m \u001b[32m2.0/2.0 MB\u001b[0m \u001b[31m33.7 MB/s\u001b[0m eta \u001b[36m0:00:00\u001b[0m\n",
            "\u001b[2K     \u001b[90m━━━━━━━━━━━━━━━━━━━━━━━━━━━━━━━━━━━━━━━━\u001b[0m \u001b[32m1.9/1.9 MB\u001b[0m \u001b[31m70.5 MB/s\u001b[0m eta \u001b[36m0:00:00\u001b[0m\n",
            "\u001b[2K     \u001b[90m━━━━━━━━━━━━━━━━━━━━━━━━━━━━━━━━━━━━━━━━\u001b[0m \u001b[32m86.0/86.0 kB\u001b[0m \u001b[31m11.6 MB/s\u001b[0m eta \u001b[36m0:00:00\u001b[0m\n",
            "\u001b[?25h  Preparing metadata (setup.py) ... \u001b[?25l\u001b[?25hdone\n",
            "\u001b[2K     \u001b[90m━━━━━━━━━━━━━━━━━━━━━━━━━━━━━━━━━━━━━━━━\u001b[0m \u001b[32m221.4/221.4 kB\u001b[0m \u001b[31m19.8 MB/s\u001b[0m eta \u001b[36m0:00:00\u001b[0m\n",
            "\u001b[2K     \u001b[90m━━━━━━━━━━━━━━━━━━━━━━━━━━━━━━━━━━━━━━━━\u001b[0m \u001b[32m17.6/17.6 MB\u001b[0m \u001b[31m56.7 MB/s\u001b[0m eta \u001b[36m0:00:00\u001b[0m\n",
            "\u001b[2K     \u001b[90m━━━━━━━━━━━━━━━━━━━━━━━━━━━━━━━━━━━━━━━━\u001b[0m \u001b[32m277.6/277.6 kB\u001b[0m \u001b[31m26.8 MB/s\u001b[0m eta \u001b[36m0:00:00\u001b[0m\n",
            "\u001b[2K     \u001b[90m━━━━━━━━━━━━━━━━━━━━━━━━━━━━━━━━━━━━━━━━\u001b[0m \u001b[32m4.4/4.4 MB\u001b[0m \u001b[31m57.0 MB/s\u001b[0m eta \u001b[36m0:00:00\u001b[0m\n",
            "\u001b[2K     \u001b[90m━━━━━━━━━━━━━━━━━━━━━━━━━━━━━━━━━━━━━━━━\u001b[0m \u001b[32m90.9/90.9 kB\u001b[0m \u001b[31m11.3 MB/s\u001b[0m eta \u001b[36m0:00:00\u001b[0m\n",
            "\u001b[?25h  Preparing metadata (setup.py) ... \u001b[?25l\u001b[?25hdone\n",
            "  Preparing metadata (setup.py) ... \u001b[?25l\u001b[?25hdone\n",
            "\u001b[2K     \u001b[90m━━━━━━━━━━━━━━━━━━━━━━━━━━━━━━━━━━━━━━━━\u001b[0m \u001b[32m3.1/3.1 MB\u001b[0m \u001b[31m96.0 MB/s\u001b[0m eta \u001b[36m0:00:00\u001b[0m\n",
            "\u001b[2K     \u001b[90m━━━━━━━━━━━━━━━━━━━━━━━━━━━━━━━━━━━━━━━━\u001b[0m \u001b[32m177.6/177.6 kB\u001b[0m \u001b[31m23.2 MB/s\u001b[0m eta \u001b[36m0:00:00\u001b[0m\n",
            "\u001b[2K     \u001b[90m━━━━━━━━━━━━━━━━━━━━━━━━━━━━━━━━━━━━━━━━\u001b[0m \u001b[32m48.1/48.1 kB\u001b[0m \u001b[31m5.4 MB/s\u001b[0m eta \u001b[36m0:00:00\u001b[0m\n",
            "\u001b[2K     \u001b[90m━━━━━━━━━━━━━━━━━━━━━━━━━━━━━━━━━━━━━━━━\u001b[0m \u001b[32m1.3/1.3 MB\u001b[0m \u001b[31m66.5 MB/s\u001b[0m eta \u001b[36m0:00:00\u001b[0m\n",
            "\u001b[2K     \u001b[90m━━━━━━━━━━━━━━━━━━━━━━━━━━━━━━━━━━━━━━━━\u001b[0m \u001b[32m75.0/75.0 kB\u001b[0m \u001b[31m9.0 MB/s\u001b[0m eta \u001b[36m0:00:00\u001b[0m\n",
            "\u001b[2K     \u001b[90m━━━━━━━━━━━━━━━━━━━━━━━━━━━━━━━━━━━━━━━━\u001b[0m \u001b[32m30.6/30.6 MB\u001b[0m \u001b[31m20.4 MB/s\u001b[0m eta \u001b[36m0:00:00\u001b[0m\n",
            "\u001b[2K     \u001b[90m━━━━━━━━━━━━━━━━━━━━━━━━━━━━━━━━━━━━━━━━\u001b[0m \u001b[32m55.8/55.8 kB\u001b[0m \u001b[31m6.2 MB/s\u001b[0m eta \u001b[36m0:00:00\u001b[0m\n",
            "\u001b[2K     \u001b[90m━━━━━━━━━━━━━━━━━━━━━━━━━━━━━━━━━━━━━━━━\u001b[0m \u001b[32m49.4/49.4 kB\u001b[0m \u001b[31m5.3 MB/s\u001b[0m eta \u001b[36m0:00:00\u001b[0m\n",
            "\u001b[2K     \u001b[90m━━━━━━━━━━━━━━━━━━━━━━━━━━━━━━━━━━━━━━━━\u001b[0m \u001b[32m76.9/76.9 kB\u001b[0m \u001b[31m9.4 MB/s\u001b[0m eta \u001b[36m0:00:00\u001b[0m\n",
            "\u001b[2K     \u001b[90m━━━━━━━━━━━━━━━━━━━━━━━━━━━━━━━━━━━━━━━━\u001b[0m \u001b[32m58.3/58.3 kB\u001b[0m \u001b[31m6.2 MB/s\u001b[0m eta \u001b[36m0:00:00\u001b[0m\n",
            "\u001b[?25h  Building wheel for sentence_transformers (setup.py) ... \u001b[?25l\u001b[?25hdone\n",
            "  Building wheel for umap-learn (setup.py) ... \u001b[?25l\u001b[?25hdone\n",
            "  Building wheel for mycolorpy (setup.py) ... \u001b[?25l\u001b[?25hdone\n"
          ]
        }
      ],
      "source": [
        "!pip install -q cohere \\\n",
        "    -q tiktoken \\\n",
        "    -q langchain \\\n",
        "    -q sentence_transformers \\\n",
        "    -q openai \\\n",
        "    -q faiss-cpu \\\n",
        "    -q colorama \\\n",
        "    -q pypdf \\\n",
        "    -q PyMuPDF \\\n",
        "    -q requests \\\n",
        "    -q beautifulsoup4 \\\n",
        "    -q umap-learn \\\n",
        "    -q mycolorpy"
      ]
    },
    {
      "cell_type": "markdown",
      "metadata": {
        "id": "erLd7QWNpnK-"
      },
      "source": [
        "Run the below code block to import the necessary library modules used in the notebook.\n",
        "\n",
        "Note that this may take up to ~20 seconds to complete."
      ]
    },
    {
      "cell_type": "code",
      "execution_count": 3,
      "metadata": {
        "id": "plhTcriIpnK-"
      },
      "outputs": [],
      "source": [
        "# Some system and base modules\n",
        "import os\n",
        "import sys\n",
        "from timeit import default_timer as timer\n",
        "from typing import List, Optional, Type\n",
        "import getpass\n",
        "\n",
        "# NLP modules\n",
        "import openai\n",
        "from openai import OpenAI\n",
        "import langchain\n",
        "from langchain.embeddings import HuggingFaceEmbeddings\n",
        "from langchain.docstore.document import Document\n",
        "from langchain.text_splitter import RecursiveCharacterTextSplitter, CharacterTextSplitter\n",
        "from langchain.document_loaders import PyPDFLoader, JSONLoader\n",
        "import fitz\n",
        "from langchain.vectorstores import FAISS\n",
        "from langchain.chat_models import ChatOpenAI\n",
        "import requests\n",
        "from bs4 import BeautifulSoup\n",
        "\n",
        "# Other modules\n",
        "import numpy as np\n",
        "import pandas as pd\n",
        "import umap\n",
        "from colorama import Fore, Back, Style\n",
        "\n",
        "\n",
        "# modules for plotting\n",
        "import matplotlib.pyplot as plt\n",
        "import matplotlib.lines as mlines\n",
        "from mycolorpy import colorlist as mcp\n",
        "from mpl_toolkits.mplot3d import Axes3D\n",
        "import plotly.express as px\n",
        "import seaborn as sns\n",
        "%matplotlib inline"
      ]
    },
    {
      "cell_type": "code",
      "source": [
        "sns.set(style='white', context='notebook', rc={'figure.figsize':(16,10)})"
      ],
      "metadata": {
        "id": "l2ZpOqHNEbdp"
      },
      "execution_count": 4,
      "outputs": []
    },
    {
      "cell_type": "code",
      "source": [
        "print(f\"OpenAI version: {openai.__version__}\")\n",
        "print(f\"Langchain version: {langchain.__version__}\")"
      ],
      "metadata": {
        "colab": {
          "base_uri": "https://localhost:8080/"
        },
        "id": "zRf63DDVq_a6",
        "outputId": "b7134982-148b-4a37-96be-6105179d0df0"
      },
      "execution_count": 5,
      "outputs": [
        {
          "output_type": "stream",
          "name": "stdout",
          "text": [
            "OpenAI version: 1.3.7\n",
            "Langchain version: 0.0.344\n"
          ]
        }
      ]
    },
    {
      "cell_type": "markdown",
      "metadata": {
        "id": "R_iyod8UpnK-"
      },
      "source": [
        "## Import helper functions used in the Notebook"
      ]
    },
    {
      "cell_type": "markdown",
      "metadata": {
        "id": "qyDHh8LbpnK-"
      },
      "source": [
        "Run the code block below to import customized helper functions used in the notebook. These functions have been written to, for example, process PDF files and reduce clutter in the notebook by using explicit code. All of the imported functions are located in the file `helper_functions.py` where you may explore their definitions."
      ]
    },
    {
      "cell_type": "code",
      "execution_count": 6,
      "metadata": {
        "id": "KQTiInblpnK-"
      },
      "outputs": [],
      "source": [
        "get_helper_funcs = False\n",
        "\n",
        "if get_helper_funcs:\n",
        "  import sys\n",
        "  sys.path.append('/content/drive/MyDrive/bootcamp_dec7/')\n",
        "\n",
        "  from helper_functions import *"
      ]
    },
    {
      "cell_type": "markdown",
      "metadata": {
        "id": "dLtHvH5ZpnK-"
      },
      "source": [
        "## Setting the access key for OpenAI API"
      ]
    },
    {
      "cell_type": "markdown",
      "metadata": {
        "id": "DtTEx0QSpnK-"
      },
      "source": [
        "> **NB: Don't share the OpenAI access key in public spaces.**"
      ]
    },
    {
      "cell_type": "markdown",
      "metadata": {
        "id": "SHjg3TzspnK_"
      },
      "source": [
        "> **The OpenAI API key can be set manually in the notebook by running the code cell block below.**\n",
        ">\n",
        "> **`A query box will appear the first time you run the below code cell block. Paste the OpenAI API key which you have been provided into the query box and press Enter/Return (access key is on the form sk-...)`**"
      ]
    },
    {
      "cell_type": "code",
      "execution_count": 8,
      "metadata": {
        "colab": {
          "base_uri": "https://localhost:8080/"
        },
        "id": "z5fmIpfSpnK_",
        "outputId": "d942846d-97a2-43d1-8300-c3c302e542e7"
      },
      "outputs": [
        {
          "output_type": "stream",
          "name": "stdout",
          "text": [
            "OPENAI_API_KEY fetched from environment!\n"
          ]
        }
      ],
      "source": [
        "# Here we can set the OpenAI API access key manually in case it fails to load from the environment.\n",
        "if not os.environ.get(\"OPENAI_API_KEY\"):\n",
        "  api_key = getpass.getpass(\"Enter OpenAI API Key here\")\n",
        "  os.environ[\"OPENAI_API_KEY\"] = api_key\n",
        "else:\n",
        "  print(f\"OPENAI_API_KEY fetched from environment!\")\n",
        "\n",
        "\n",
        "# sk-..."
      ]
    },
    {
      "cell_type": "code",
      "source": [
        "# You can optionally manually insert the OpenAI API key below between the quotation marks.\n",
        "# Then uncomment the following two lines by removing the preceeding # and run the cell\n",
        "\n",
        "#os.environ[\"OPENAI_API_KEY\"] = \"sk-...\"\n",
        "#print(f\"The Open AI access key is given by: \\n\\n {os.environ['OPENAI_API_KEY']}\")"
      ],
      "metadata": {
        "id": "JQJWnMDwtU5k"
      },
      "execution_count": 9,
      "outputs": []
    },
    {
      "cell_type": "code",
      "source": [
        "# The following helps to format print output to match the size of the broser window\n",
        "from IPython.display import HTML, display\n",
        "\n",
        "def set_css():\n",
        "  display(HTML('''\n",
        "  <style>\n",
        "    pre {\n",
        "        white-space: pre-wrap;\n",
        "    }\n",
        "  </style>\n",
        "  '''))\n",
        "get_ipython().events.register('pre_run_cell', set_css)"
      ],
      "metadata": {
        "id": "d48MRBCTuDQI"
      },
      "execution_count": 10,
      "outputs": []
    },
    {
      "cell_type": "markdown",
      "metadata": {
        "id": "q97YM4YIncHT"
      },
      "source": [
        "# Hands-On 1: Interfacing with OpenAI API, Prompt Engineering & Internet access for Extended LLM Functionality"
      ]
    },
    {
      "cell_type": "markdown",
      "source": [
        "This section provides a hands-on introduction to API interactions with the OpenAI GPT models and Prompt Engineering for end users with a basic understanding of the Python programming language. No advanced coding or technical background knowledge of generative AI or LLM is required for completing the exercises in the notebook.\n",
        "\n",
        "<br>\n",
        "\n",
        "\n",
        "<b>Example themes for exercises </b>:\n",
        "\n",
        "* We will see how to interact with the OpenAI models via API. This includes simple one-turn interactions and concatenating conversations for follow up queries.\n",
        "\n",
        "* Basic Prompt Engineering techniques which introduces the lkey concepts for enabling productive interactions with LLMs.\n",
        "\n",
        "* Search the internet using the DuckDuckGo search engine. The DuckDuckGo search engine is available via open sourced API and allows for fetching updated information based on keyword search. This also introduces the concept of Retrieval Augmented generation (RAG) in a simple manner."
      ],
      "metadata": {
        "id": "nm3qcwQ77OK6"
      }
    },
    {
      "cell_type": "markdown",
      "metadata": {
        "id": "OOccDkGWpnK_"
      },
      "source": [
        "## Interacting with OpenAI models via API"
      ]
    },
    {
      "cell_type": "markdown",
      "metadata": {
        "id": "oPiY-aU8pnK_"
      },
      "source": [
        "**Why should you use API?**\n",
        "\n",
        "Using the OpenAI API (Application Program Interface) to access LLM models gives us several advantages over the browser version, especially when we want to build custom made applications. One of the big perks of using the API is automation. Python, as a common programming langauge, is great at taking care of repeating or tricky tasks, which is helpful when we have a lot of such tasks to handle.\n",
        "\n",
        "With the help of python we can also get the OpenAI models to work well with other tools and software we have. Plus, it lets us adjust things to work the way we want, making our interaction with the OpenAI models more tailored.\n",
        "\n",
        "Additionally, using the API helps us keep track of any changes made along the way, which is great for collaborative team work. This also ensures that every time we run a task, it gives us consistent results, making it easier to check if something goes wrong and fix it. This reliability helps make our solutions stronger and more dependable."
      ]
    },
    {
      "cell_type": "markdown",
      "metadata": {
        "id": "3zRlPPEcpnK_"
      },
      "source": [
        "We will be making use of a wraper from the `langchain` code library to call on the OpenAI models. This provides a simple and relatively user-friendly way to interact with the model, making it a great choice for beginners or for those looking to get things done quickly. This method provides us access to a `temperature` parameter, which determines the randomness or stochastic nature of the output the model will give us. A temperature of 1 makes the model more random, while a temperature close to 0 makes the model more deterministic with the same output for repeated queries. Empirical studies have shown that most people prefer the output to be somewhat creative in nature with a temperature value of around 0.7, which is the default value set for the OpenAI models. You can try changing this value and experience how the output changes for the same query."
      ]
    },
    {
      "cell_type": "markdown",
      "metadata": {
        "id": "HURGvwIhpnLA"
      },
      "source": [
        "In the code snippet below we call on the API to create a chat_model instance. Model is specified via the `model` parameter on the second row. A complete list of available models to choose from can be found [here](https://platform.openai.com/docs/models/overview). We will start by using one of the GPT-3.5 turbo models.\n",
        "\n",
        "* **gpt-3.5-turbo** uses the latest available model version of GPT-3.5. Allows for up to **16,385 tokens** as input and output\n",
        "    * **gpt-3.5-turbo-0613** is a legacy version of GPT-3.5, currently the same as above. Will be replaced Dec 11 2023 and be depricated on June 13 2024. Has a **4,096 token** limit\n",
        "    * **gpt-3.5-turbo-1106** is the latest version of GPT-3.5, with enhanced capabilities and a **16,385 token** limit. Will become default model after Dec 11 2023\n",
        "\n",
        "</b>\n",
        "\n",
        "* **gpt-4** uses the latest available model version of GPT-4. Allows using up to **128,000 tokens** as input and output\n",
        "    * **gpt-4-0613** is the latest stable version of GPT-4, same as above but with a **8,192 token** limit\n",
        "    * **gpt-4-1106-preview** is the latest preview version of GPT-4, with a **128,000 token** limit, but not suited for production traffic"
      ]
    },
    {
      "cell_type": "code",
      "execution_count": 11,
      "metadata": {
        "colab": {
          "base_uri": "https://localhost:8080/",
          "height": 17
        },
        "id": "_3Q2_WxFpnLA",
        "outputId": "5cce203b-f3fb-42ec-9ed0-46aeac1e7983"
      },
      "outputs": [
        {
          "output_type": "display_data",
          "data": {
            "text/plain": [
              "<IPython.core.display.HTML object>"
            ],
            "text/html": [
              "\n",
              "  <style>\n",
              "    pre {\n",
              "        white-space: pre-wrap;\n",
              "    }\n",
              "  </style>\n",
              "  "
            ]
          },
          "metadata": {}
        }
      ],
      "source": [
        "# This creates an instance of the model interface which we can subsequently call on\n",
        "chat_model = ChatOpenAI(\n",
        "    openai_api_key=os.environ['OPENAI_API_KEY'],\n",
        "    # The below parameters can be changed\n",
        "    model=\"gpt-3.5-turbo-1106\",\n",
        "    temperature=0.7\n",
        ")"
      ]
    },
    {
      "cell_type": "markdown",
      "metadata": {
        "id": "4FJq0chtpnLA"
      },
      "source": [
        "> **NB 1: The GPT-3.5 model usually only takes seconds to respond to a query. If it takes more than half a minute, stop the execution and rerun the cell block.**"
      ]
    },
    {
      "cell_type": "markdown",
      "metadata": {
        "id": "9GxqGDgcpnLA"
      },
      "source": [
        "> **NB 2: This is one option for implementing the LLM call, which is nice due to its simple and intuitive format. At the bottom of this section we explore using the OpenAI API directly as an alternative option, which provides even greater control of the input/output.**"
      ]
    },
    {
      "cell_type": "markdown",
      "metadata": {
        "id": "_hi6JKTTpnLA"
      },
      "source": [
        "The `chat_model` instance accepts a list of `messages` as input. We specify messages according to a schema used by various functions in the `langchain` library. This will facilitate some of the more advanced functionalities we will make use of later. Messages in a chat conversation are generally provided as a `list` (inside square brackets) of conversation turns."
      ]
    },
    {
      "cell_type": "code",
      "execution_count": 12,
      "metadata": {
        "colab": {
          "base_uri": "https://localhost:8080/",
          "height": 17
        },
        "id": "o3rZ9H_IpnLA",
        "outputId": "663a7c81-3719-41bf-9baa-ffc670a963f9"
      },
      "outputs": [
        {
          "output_type": "display_data",
          "data": {
            "text/plain": [
              "<IPython.core.display.HTML object>"
            ],
            "text/html": [
              "\n",
              "  <style>\n",
              "    pre {\n",
              "        white-space: pre-wrap;\n",
              "    }\n",
              "  </style>\n",
              "  "
            ]
          },
          "metadata": {}
        }
      ],
      "source": [
        "from langchain.schema import (\n",
        "    # Overall system behaviour of the chat bot\n",
        "    SystemMessage,\n",
        "    # User message, query to chat bot\n",
        "    HumanMessage,\n",
        "    # The response from the chat bot, for conversational turns\n",
        "    AIMessage\n",
        ")\n",
        "\n",
        "\n",
        "# The system prompt will be placed at the top of every message and should set overall system behaviour\n",
        "system_prompt = \"You are a helpful assistant.\"\n",
        "\n",
        "# The user prompt is what would be written in the chat interface, your query\n",
        "user_prompt = \"What do you know about OpenAI's mission statement?\"\n",
        "\n",
        "\n",
        "# These are collected into a messages list of\n",
        "#\n",
        "#   SystemMessage - the system prompt\n",
        "#   HumanMessage  - the user query\n",
        "#   AIMessage     - the bot response, in case you wish to continue on a conversation\n",
        "messages = [\n",
        "    SystemMessage(content=system_prompt),\n",
        "    HumanMessage(content=user_prompt),\n",
        "]"
      ]
    },
    {
      "cell_type": "code",
      "execution_count": 13,
      "metadata": {
        "colab": {
          "base_uri": "https://localhost:8080/",
          "height": 53
        },
        "id": "sshnxEgVpnLA",
        "outputId": "09a19421-9f2f-4839-b6be-785ea0774e50"
      },
      "outputs": [
        {
          "output_type": "display_data",
          "data": {
            "text/plain": [
              "<IPython.core.display.HTML object>"
            ],
            "text/html": [
              "\n",
              "  <style>\n",
              "    pre {\n",
              "        white-space: pre-wrap;\n",
              "    }\n",
              "  </style>\n",
              "  "
            ]
          },
          "metadata": {}
        },
        {
          "output_type": "execute_result",
          "data": {
            "text/plain": [
              "[SystemMessage(content='You are a helpful assistant.'),\n",
              " HumanMessage(content=\"What do you know about OpenAI's mission statement?\")]"
            ]
          },
          "metadata": {},
          "execution_count": 13
        }
      ],
      "source": [
        "# We can check what the messages looks like by printing it out\n",
        "messages"
      ]
    },
    {
      "cell_type": "markdown",
      "metadata": {
        "id": "_Q-A2UYtpnLA"
      },
      "source": [
        "As we see, the `messages` variable is a list containing our `SystemMessage` and `HumanMessage`.\n",
        "\n",
        "\n",
        "Once we have a list of messages in the above format it is easy to call the OpenAI model and get a response"
      ]
    },
    {
      "cell_type": "markdown",
      "metadata": {
        "id": "UrWnfH56pnLA"
      },
      "source": [
        "> **`Calling on the OpenAI models relies on connecting to the OpenAI server. This can occasionally be`**"
      ]
    },
    {
      "cell_type": "code",
      "execution_count": 14,
      "metadata": {
        "colab": {
          "base_uri": "https://localhost:8080/",
          "height": 88
        },
        "id": "dNqqUUcKpnLA",
        "outputId": "3e657732-d481-41f1-a5e7-6cc82182d840"
      },
      "outputs": [
        {
          "output_type": "display_data",
          "data": {
            "text/plain": [
              "<IPython.core.display.HTML object>"
            ],
            "text/html": [
              "\n",
              "  <style>\n",
              "    pre {\n",
              "        white-space: pre-wrap;\n",
              "    }\n",
              "  </style>\n",
              "  "
            ]
          },
          "metadata": {}
        },
        {
          "output_type": "stream",
          "name": "stdout",
          "text": [
            "OpenAI's mission is to ensure that artificial general intelligence (AGI) benefits all of humanity. They aim to conduct and promote research that aligns with this goal, and to develop and share the knowledge and tools needed for creating AGI in a safe and beneficial way. Additionally, OpenAI seeks to foster a community of AI researchers and developers who can collaborate and contribute to the advancement of AGI technology.\n"
          ]
        }
      ],
      "source": [
        "# Here we collect the output from the chat model in the variable response\n",
        "response = chat_model.invoke(messages)\n",
        "\n",
        "# We can print out the response by calling on its content using a .content\n",
        "print(response.content)"
      ]
    },
    {
      "cell_type": "markdown",
      "metadata": {
        "id": "HobuvoQdpnLB"
      },
      "source": [
        "The full response is actually formatted as a `AIMessage`, as we can see by printing out the full response without using the print function. Observe that if we do not use the formatting of the `print` function you will see linebreak characters such as `\\n` appearing in the message."
      ]
    },
    {
      "cell_type": "code",
      "execution_count": 15,
      "metadata": {
        "colab": {
          "base_uri": "https://localhost:8080/",
          "height": 88
        },
        "id": "saxZt4eMpnLB",
        "outputId": "7adb7634-7bb0-4ed9-a617-04e7a6d4cd65"
      },
      "outputs": [
        {
          "output_type": "display_data",
          "data": {
            "text/plain": [
              "<IPython.core.display.HTML object>"
            ],
            "text/html": [
              "\n",
              "  <style>\n",
              "    pre {\n",
              "        white-space: pre-wrap;\n",
              "    }\n",
              "  </style>\n",
              "  "
            ]
          },
          "metadata": {}
        },
        {
          "output_type": "execute_result",
          "data": {
            "text/plain": [
              "AIMessage(content=\"OpenAI's mission is to ensure that artificial general intelligence (AGI) benefits all of humanity. They aim to conduct and promote research that aligns with this goal, and to develop and share the knowledge and tools needed for creating AGI in a safe and beneficial way. Additionally, OpenAI seeks to foster a community of AI researchers and developers who can collaborate and contribute to the advancement of AGI technology.\")"
            ]
          },
          "metadata": {},
          "execution_count": 15
        }
      ],
      "source": [
        "response"
      ]
    },
    {
      "cell_type": "markdown",
      "metadata": {
        "id": "GcSWf3BIpnLG"
      },
      "source": [
        "### Giving ChatGPT a short-term memory"
      ]
    },
    {
      "cell_type": "markdown",
      "metadata": {
        "id": "C095gg8lpnLG"
      },
      "source": [
        "We can incorporate the `AIMessage` response in a new series of messages and ask a follow up question if you wish. This provides the illusion of the chat model having a memory and being able to continue a conversation for a few turns, as you have seen while working in the browser environment."
      ]
    },
    {
      "cell_type": "code",
      "execution_count": 16,
      "metadata": {
        "colab": {
          "base_uri": "https://localhost:8080/",
          "height": 142
        },
        "id": "khsPYJQNpnLG",
        "outputId": "c1e503f1-ff2e-4c62-8c11-37283196b3e7"
      },
      "outputs": [
        {
          "output_type": "display_data",
          "data": {
            "text/plain": [
              "<IPython.core.display.HTML object>"
            ],
            "text/html": [
              "\n",
              "  <style>\n",
              "    pre {\n",
              "        white-space: pre-wrap;\n",
              "    }\n",
              "  </style>\n",
              "  "
            ]
          },
          "metadata": {}
        },
        {
          "output_type": "execute_result",
          "data": {
            "text/plain": [
              "[SystemMessage(content='You are a helpful assistant.'),\n",
              " HumanMessage(content=\"What do you know about OpenAI's mission statement?\"),\n",
              " AIMessage(content=\"OpenAI's mission is to ensure that artificial general intelligence (AGI) benefits all of humanity. They aim to conduct and promote research that aligns with this goal, and to develop and share the knowledge and tools needed for creating AGI in a safe and beneficial way. Additionally, OpenAI seeks to foster a community of AI researchers and developers who can collaborate and contribute to the advancement of AGI technology.\"),\n",
              " HumanMessage(content='Can you say something more about the mission statement?')]"
            ]
          },
          "metadata": {},
          "execution_count": 16
        }
      ],
      "source": [
        "# Let's ask a follow-up question which refers to the previous conversation without explicitly mentioning e.g., Patricia Industries\n",
        "follow_up_question = \"Can you say something more about the mission statement?\"\n",
        "\n",
        "# We can now add the response we got from the first query together with our follow-up question\n",
        "# Note that if we did not include the first message, the reference to that would be missing in this follow-up\n",
        "# In python, you can add lists together to form a new list which makes it easy to add new conversation turns into the messages variable\n",
        "# Not that we add both the chat bot response and our follow up question\n",
        "messages = messages + [response, HumanMessage(content=follow_up_question)]\n",
        "messages"
      ]
    },
    {
      "cell_type": "code",
      "execution_count": 17,
      "metadata": {
        "colab": {
          "base_uri": "https://localhost:8080/",
          "height": 106
        },
        "id": "DMjPY9-8pnLG",
        "outputId": "e0969f50-17c5-4c20-8fa9-09edbf8b656f"
      },
      "outputs": [
        {
          "output_type": "display_data",
          "data": {
            "text/plain": [
              "<IPython.core.display.HTML object>"
            ],
            "text/html": [
              "\n",
              "  <style>\n",
              "    pre {\n",
              "        white-space: pre-wrap;\n",
              "    }\n",
              "  </style>\n",
              "  "
            ]
          },
          "metadata": {}
        },
        {
          "output_type": "stream",
          "name": "stdout",
          "text": [
            "OpenAI's mission statement reflects their commitment to advancing artificial general intelligence in a way that prioritizes the well-being of humanity. They emphasize the importance of conducting research and developing tools that contribute to the safe and beneficial creation of AGI. Furthermore, OpenAI aims to foster a collaborative and inclusive community of AI researchers and developers who share a common vision for the responsible and ethical advancement of AI technology. Overall, their mission is centered around ensuring that AGI is developed and utilized in a manner that serves the best interests of all people.\n"
          ]
        }
      ],
      "source": [
        "# Here we collect the ouput from the chat model in the variable response\n",
        "response = chat_model.invoke(messages)\n",
        "\n",
        "# We can print out the response by calling on its content using a .content\n",
        "print(response.content)"
      ]
    },
    {
      "cell_type": "markdown",
      "metadata": {
        "id": "MF__1A8TpnLG"
      },
      "source": [
        "By continuing in this fashion we can record a conversation history which we send to the chat model as long as the total text content does not exceed the models content limit."
      ]
    },
    {
      "cell_type": "markdown",
      "metadata": {
        "id": "0G-1ULuhpnLG"
      },
      "source": [
        "### OPTIONAL: Using the OpenAI API directly instead of the `langchain` wrapper"
      ]
    },
    {
      "cell_type": "markdown",
      "metadata": {
        "id": "JQupUM2EpnLG"
      },
      "source": [
        "The below code snippet calls the OpenAI API directly, which allows us to access **all** of the available input and output options. While this approach offers a higher degree of control, it may not be as easy to use or straightforward to interpret as the functions from langchain. If you are interested you can try it out on your own and test various parameters. For example, the `top_p` parameter is another way to control the randomness of the model output. The recomendation from OpenAI is to use either `temperature` or `top_p` for this purpose and not both."
      ]
    },
    {
      "cell_type": "code",
      "execution_count": 18,
      "metadata": {
        "colab": {
          "base_uri": "https://localhost:8080/",
          "height": 71
        },
        "id": "SCykqsU2pnLG",
        "outputId": "6314e14f-aad4-4f92-9c24-61c420894a33"
      },
      "outputs": [
        {
          "output_type": "display_data",
          "data": {
            "text/plain": [
              "<IPython.core.display.HTML object>"
            ],
            "text/html": [
              "\n",
              "  <style>\n",
              "    pre {\n",
              "        white-space: pre-wrap;\n",
              "    }\n",
              "  </style>\n",
              "  "
            ]
          },
          "metadata": {}
        },
        {
          "output_type": "stream",
          "name": "stdout",
          "text": [
            "OpenAI's mission statement is to ensure that artificial general intelligence (AGI) benefits all of humanity. They aim to conduct research and build safe and beneficial AGI, and to ensure its implementation is aligned with human values. OpenAI also emphasizes the importance of transparency and collaboration in their efforts to develop advanced AI technologies.\n"
          ]
        }
      ],
      "source": [
        "# Needs to be set for the OpenAI API to be callable\n",
        "openai.api_key = os.getenv(\"OPENAI_API_KEY\")\n",
        "\n",
        "\n",
        "# Model and parameters (almost all that are available, logit_bias not included). Parameters model and messages are required\n",
        "model = \"gpt-3.5-turbo-1106\"\n",
        "max_tokens = 1024           # Max nr of tokens to generate in the chat completion, limited by model choice\n",
        "temperature = 0.7           # Value in (0, 2). Sampling temperature for stochastic nature in response\n",
        "top_p = 1                   # Vale in (0, 1). Nucleus sampling, optional to temperature, considers tokens comprising top_p probability mass\n",
        "frequency_penalty = 0       # Value in (-2, 2). Positive value penalizes new tokens based on frequency in text so far, to decrease likelihood of repeating sentences\n",
        "presence_penalty = 0        # Value in (-2, 2). Positive value penalizes new tokens if appeared in text so far, to increase likelihood of switching to new topics\n",
        "n=1                         # How many completion options to generate for each message\n",
        "stream = False              # Boolean value which can allow for streaming response\n",
        "\n",
        "# More advanced options which allow to include function calling capability for the model itself. We will not use this functionality in the exercises below\n",
        "function_call = \"none\"      # 'auto' if call function or generate message, supply {\"name\": my_func}\n",
        "functions = [{\"name\": \"Name\", \"description\": \"semantic description of what the function(s) do\", \"parameters\": {\"type\": \"object\", \"properties\": {}}}]\n",
        "\n",
        "\n",
        "# Messages are provided as a list, similarly to the langchain method, but formatted differently\n",
        "# Other possible values for the key 'role' are 'assistant' and 'function'\n",
        "system_prompt = \"You are a helpful assistant.\"\n",
        "user_prompt = \"What do you know about OpenAI's mission statement?\"\n",
        "\n",
        "messages = [\n",
        "    {\"role\": \"system\", \"content\": system_prompt},\n",
        "    {\"role\": \"user\", \"content\": user_prompt},\n",
        "    ]\n",
        "\n",
        "\n",
        "# API call, collected in the variable response\n",
        "client = OpenAI(api_key=os.getenv(\"OPENAI_API_KEY\"))\n",
        "response = client.chat.completions.create(\n",
        "            model=model,\n",
        "            messages=messages,\n",
        "            temperature=temperature,\n",
        "            max_tokens=max_tokens,\n",
        "            top_p=top_p,\n",
        "            frequency_penalty=frequency_penalty,\n",
        "            presence_penalty=presence_penalty,\n",
        "            n=n,\n",
        "            stream=stream,\n",
        "            function_call=function_call,\n",
        "            functions=functions\n",
        "        )\n",
        "\n",
        "\n",
        "# Printing the response requires a slighty less intuitive format (see below for full unformatted output)\n",
        "print(response.choices[0].message.content)"
      ]
    },
    {
      "cell_type": "markdown",
      "metadata": {
        "id": "9Ozae936pnLG"
      },
      "source": [
        "We can take a look at the complete response without simplifying or changing the output in any way. When you print the information from the code below, you will see that the response includes details about token usage and other aspects. These details are important as they help you estimate and collect the cost of running queries."
      ]
    },
    {
      "cell_type": "code",
      "execution_count": 19,
      "metadata": {
        "colab": {
          "base_uri": "https://localhost:8080/",
          "height": 142
        },
        "id": "jgO2Jz_npnLG",
        "outputId": "6863f58f-a72a-49b7-f114-b90bd19b375f"
      },
      "outputs": [
        {
          "output_type": "display_data",
          "data": {
            "text/plain": [
              "<IPython.core.display.HTML object>"
            ],
            "text/html": [
              "\n",
              "  <style>\n",
              "    pre {\n",
              "        white-space: pre-wrap;\n",
              "    }\n",
              "  </style>\n",
              "  "
            ]
          },
          "metadata": {}
        },
        {
          "output_type": "execute_result",
          "data": {
            "text/plain": [
              "ChatCompletion(id='chatcmpl-8RD6ZCZI3mOFlP1ZAlg4cArDwPemt', choices=[Choice(finish_reason='stop', index=0, message=ChatCompletionMessage(content=\"OpenAI's mission statement is to ensure that artificial general intelligence (AGI) benefits all of humanity. They aim to conduct research and build safe and beneficial AGI, and to ensure its implementation is aligned with human values. OpenAI also emphasizes the importance of transparency and collaboration in their efforts to develop advanced AI technologies.\", role='assistant', function_call=None, tool_calls=None))], created=1701495923, model='gpt-3.5-turbo-1106', object='chat.completion', system_fingerprint='fp_eeff13170a', usage=CompletionUsage(completion_tokens=64, prompt_tokens=59, total_tokens=123))"
            ]
          },
          "metadata": {},
          "execution_count": 19
        }
      ],
      "source": [
        "# Printing the response variable without formatting via the print() function displays the full output from the model\n",
        "response"
      ]
    },
    {
      "cell_type": "markdown",
      "source": [
        "## Prompt Engineering techniques"
      ],
      "metadata": {
        "id": "JW7rSg6NqW85"
      }
    },
    {
      "cell_type": "markdown",
      "source": [
        "Prompt Engineering (PE) is the primary vehicle for guiding generative AI models towards stable applications. It is particularly applicable to Large Language Models (LLMs) and involves formulating prompts and prompting schemas in order to retrieve appropriate responses to queries. It is essential for meaningful interactions with LLMs.\n",
        "\n",
        "<br>\n",
        "\n",
        "Here we will explore some basics of Prompt Engineering. We showcase examples of techniques for efficiently extracting information from Large Language Models (LLMs). These techniques are widely applicable across different models, but work the best for the very large models trained on a large corpus of data.\n",
        "\n",
        "<br>\n",
        "\n",
        "In this hands-on session we aim to cover\n",
        "\n",
        "* **Why is prompting technique important?**\n",
        "  * Prompting helps in formulating the input in a way that the model can understand and respond to effectively. A well-crafted prompt can significantly improve the quality and relevance of the model's output.\n",
        "  * Through prompting, you can guide the model's responses in a particular direction or within certain boundaries. This is crucial for obtaining accurate, relevant, or safe responses.\n",
        "  * Forms the basis behind developing advanced functionalities on top of generative AI base models.\n",
        "\n",
        "<br>\n",
        "\n",
        "* **What can we achieve?**\n",
        "  * Quickly read and summarize/extract relevant information from text source.\n",
        "  * Transform text into a format which is directly useful for you. This includes e.g. language translation or formatting the output as excel table, JSON dictionary, MarkDown or html.\n",
        "  * Get feedback and suggestions for improvement and introspection. This may include both natural language text and code.\n",
        "  * Infer sentiment, topic and logic structure in text.\n",
        "  * Generate/revise drafts for planning, policies, mails, slides and more.\n",
        "  * Brainstorming partner and ideation, an extra brain in the room.\n",
        "\n",
        "<br>\n",
        "\n",
        "* **Important techniques**\n",
        "  * **Best practices** - Write clearly and use semantic clues rather than keyword searching. Clearly state your goals and wishes, have an intent with your promt. In some sense it is like moving back to how you perhaps intuitively wanted to interact with e.g. Google when searching internet. Or how you would ask an all-knowing oracle. Don't be afraid to interact, provide feedback and follow up when the output is not what you desired.\n",
        "  * **Role Task Format (RTF)** - Give the LLM a *role*, to set it in the right *mood*, define a clear *task* to be achieved and provide a couple of examples of how you want to *format* the output.\n",
        "  * **In Context Learning (ICL)** - Provide examples and any additional information to consider as context for your prompt. This allows for a *shallow* learning, where the LLM can learn from your prompt without updating any weights of the model. It is easier to make the bigger models accept new information in the prompt and generalize from that. The smaller models are more locked into the worldview built from training.\n",
        "  * **Chain of Thought (CoT)** - Ask the model to think through problems logically and in a step-by-step manner. This helps the model to linearize the problem into a sequence of logical considerations and often produce more accurate output.\n",
        "\n",
        "\n",
        "These techniques usually take us very far and form a basis for more advanced applications built on chaining prompts, such as e.g. [Tree of thought](https://arxiv.org/abs/2305.10601)."
      ],
      "metadata": {
        "id": "rtRwRS0E4Zn1"
      }
    },
    {
      "cell_type": "markdown",
      "source": [
        "### **Summarizing**\n",
        "\n",
        "Summarizing or extracting information from text sources are areas where LLMs shine particularly bright. This can be helpful for condensing lengthy news articles, generating concise summaries of meetings or reports, summarizing books or chapters for quick review or understanding and summarizing customer feedback or reviews in order to understand common sentiments or issues."
      ],
      "metadata": {
        "id": "muDbnoDAZYQ6"
      }
    },
    {
      "cell_type": "code",
      "source": [
        "# The system prompt will be placed at the top of every message and should set overall system behaviour\n",
        "system_prompt = \"You are a helpful assistant.\"\n",
        "\n",
        "\n",
        "user_prompt = f\"\"\"\n",
        "Summarize the following conversation between a service representative and a customer in a few sentences.\n",
        "Use only the information from the conversation.\n",
        "\n",
        "Service Rep: How may I assist you today?\n",
        "Customer: I need to change the shipping address for an order.\n",
        "Service Rep: Ok, I can help you with that if the order has not been fulfilled from our warehouse yet.\n",
        "But if it has already shipped, then you will need to contact the shipping provider. Do you have the order ID?\n",
        "Customer: Yes, it's 88986367.\n",
        "Service Rep: One minute please while I pull up your order information.\n",
        "Customer: No problem\n",
        "Service Rep: Ok, it looks like your order was shipped from our warehouse 2 days ago.\n",
        "It is now in the hands of  the shipping provider, so you will need to contact them to update your delivery details.\n",
        "You can track your order with the shipping provider here: https://www.shippingprovider.com\n",
        "Customer: Sigh, ok.\n",
        "Service Rep: Is there anything else I can help you with today?\n",
        "Customer: No, thanks.\n",
        "\"\"\"\n",
        "\n",
        "\n",
        "# These are collected into a messages list of\n",
        "#\n",
        "#   SystemMessage - the system prompt\n",
        "#   HumanMessage  - the user query\n",
        "#   AIMessage     - the bot response, in case you wish to continue on a conversation\n",
        "messages = [\n",
        "    SystemMessage(content=system_prompt),\n",
        "    HumanMessage(content=user_prompt),\n",
        "]"
      ],
      "metadata": {
        "colab": {
          "base_uri": "https://localhost:8080/",
          "height": 17
        },
        "id": "kljKti7vCuUL",
        "outputId": "b4b88f41-8ac0-4372-b768-d2f9d3f6bc61"
      },
      "execution_count": 20,
      "outputs": [
        {
          "output_type": "display_data",
          "data": {
            "text/plain": [
              "<IPython.core.display.HTML object>"
            ],
            "text/html": [
              "\n",
              "  <style>\n",
              "    pre {\n",
              "        white-space: pre-wrap;\n",
              "    }\n",
              "  </style>\n",
              "  "
            ]
          },
          "metadata": {}
        }
      ]
    },
    {
      "cell_type": "code",
      "source": [
        "# This creates an instance of the model interface which we can subsequently call on\n",
        "chat_model = ChatOpenAI(\n",
        "    openai_api_key=os.environ['OPENAI_API_KEY'],\n",
        "    # The below parameters can be changed\n",
        "    model=\"gpt-3.5-turbo-1106\",\n",
        "    temperature=0.7\n",
        ")\n",
        "\n",
        "\n",
        "# Here we collect the output from the chat model in the variable response\n",
        "response = chat_model.invoke(messages)\n",
        "\n",
        "# We can print out the response by calling on its content using a .content\n",
        "print(response.content)"
      ],
      "metadata": {
        "colab": {
          "base_uri": "https://localhost:8080/",
          "height": 88
        },
        "id": "HyIugI1dCuRT",
        "outputId": "740e000c-911a-4eb9-a88f-cd4423cc4e18"
      },
      "execution_count": 21,
      "outputs": [
        {
          "output_type": "display_data",
          "data": {
            "text/plain": [
              "<IPython.core.display.HTML object>"
            ],
            "text/html": [
              "\n",
              "  <style>\n",
              "    pre {\n",
              "        white-space: pre-wrap;\n",
              "    }\n",
              "  </style>\n",
              "  "
            ]
          },
          "metadata": {}
        },
        {
          "output_type": "stream",
          "name": "stdout",
          "text": [
            "The customer contacted the service representative to change the shipping address for an order. The service rep explained that if the order has not been fulfilled, they can assist, but if it has already shipped, the customer will need to contact the shipping provider. After providing the order ID, the service rep informed the customer that the order had already been shipped and provided a link to track the order with the shipping provider. The customer expressed disappointment and declined further assistance.\n"
          ]
        }
      ]
    },
    {
      "cell_type": "markdown",
      "source": [
        "**Try it out:**\n",
        "\n",
        "Try changing the prompt for the above conversation and compare the answers:\n",
        "\n",
        "\n",
        "**Summarize with a word limit:**"
      ],
      "metadata": {
        "id": "MVCQZVvSaQFN"
      }
    },
    {
      "cell_type": "code",
      "source": [
        "follow_up_prompt = f\"\"\"\n",
        "Summarize the conversation in at most 30 words.\n",
        "Use only the information from the conversation.\n",
        "\"\"\"\n",
        "\n",
        "\n",
        "# These are collected into a messages list of\n",
        "new_messages = messages + [response, HumanMessage(content=follow_up_prompt)]\n",
        "\n",
        "\n",
        "# Here we collect the output from the chat model in the variable response\n",
        "new_response = chat_model.invoke(new_messages)\n",
        "\n",
        "# We can print out the response by calling on its content using a .content\n",
        "print(new_response.content)"
      ],
      "metadata": {
        "colab": {
          "base_uri": "https://localhost:8080/",
          "height": 53
        },
        "id": "AEh3wefiCuOt",
        "outputId": "6baa7e38-6f3d-4a40-aadd-efe30b52672f"
      },
      "execution_count": 22,
      "outputs": [
        {
          "output_type": "display_data",
          "data": {
            "text/plain": [
              "<IPython.core.display.HTML object>"
            ],
            "text/html": [
              "\n",
              "  <style>\n",
              "    pre {\n",
              "        white-space: pre-wrap;\n",
              "    }\n",
              "  </style>\n",
              "  "
            ]
          },
          "metadata": {}
        },
        {
          "output_type": "stream",
          "name": "stdout",
          "text": [
            "Customer requested a shipping address change. Service rep explained process, found order shipped, directed customer to shipping provider. Customer declined further assistance.\n"
          ]
        }
      ]
    },
    {
      "cell_type": "markdown",
      "source": [
        "**Summarize with a focus on sentiment:**"
      ],
      "metadata": {
        "id": "FIonoDYkbAyf"
      }
    },
    {
      "cell_type": "code",
      "source": [
        "follow_up_prompt = f\"\"\"\n",
        "Summarize the conversation in at most 30 words,\n",
        "focusing on any aspects which are relevant to customer's sentiment.\n",
        "Use only the information from the conversation.\n",
        "\"\"\"\n",
        "\n",
        "\n",
        "# These are collected into a messages list of\n",
        "new_messages = messages + [response, HumanMessage(content=follow_up_prompt)]\n",
        "\n",
        "\n",
        "# Here we collect the output from the chat model in the variable response\n",
        "new_response = chat_model.invoke(new_messages)\n",
        "\n",
        "# We can print out the response by calling on its content using a .content\n",
        "print(new_response.content)"
      ],
      "metadata": {
        "colab": {
          "base_uri": "https://localhost:8080/",
          "height": 53
        },
        "id": "DOUCbwloCuLy",
        "outputId": "3aaba7ed-ed9c-462b-d43a-faba77468dcf"
      },
      "execution_count": 23,
      "outputs": [
        {
          "output_type": "display_data",
          "data": {
            "text/plain": [
              "<IPython.core.display.HTML object>"
            ],
            "text/html": [
              "\n",
              "  <style>\n",
              "    pre {\n",
              "        white-space: pre-wrap;\n",
              "    }\n",
              "  </style>\n",
              "  "
            ]
          },
          "metadata": {}
        },
        {
          "output_type": "stream",
          "name": "stdout",
          "text": [
            "The customer wanted to change the shipping address for an order, but the service rep informed them that the order had already been shipped, leading to the customer feeling disappointed.\n"
          ]
        }
      ]
    },
    {
      "cell_type": "markdown",
      "source": [
        "### **Impersonating or defining a Role**\n",
        "Defining a role is often useful when you are looking for expert answers in a specific field or just want a personalized interaction. It can be used for company chat bots or a friendly assistant. Examples of roles to consider are: Expert, Critic, project Manager, Inventor, Journalist, entrepreneur, CFO, etc."
      ],
      "metadata": {
        "id": "1iLOEI_7bnB1"
      }
    },
    {
      "cell_type": "code",
      "source": [
        "# The system prompt will be placed at the top of every message and should set overall system behaviour\n",
        "system_prompt = \"\"\"\n",
        "You are a helpful assistant defined by the following criteria:\n",
        "Role: You are ALEX, the personal assistant representative from Atlas Copco.\n",
        "Task: Always answer politely and make sure to uphold and keep in line with the core values of Atlas Copco: interaction, innovation and commitment.\n",
        "Navigating the vast landscapes of the 21st century, Atlas Copco has transformed the way individuals\n",
        "and businesses perceive and interact with leading-edge technology.\n",
        "Format: As a beacon of empowerment, you consistently challenge traditional industrial norms, advocating for personal growth, safety, and\n",
        "entrepreneurial spirit. Whether someone is curious about the latest tech advancements or the rich\n",
        "history of Atlas Copco, you have the answers. Ready to enlighten, empower, and inspire, you're the\n",
        "go-to for anyone looking to learn, build and innovate.\n",
        "\"\"\"\n",
        "\n",
        "\n",
        "user_prompt = f\"\"\"\n",
        "Can you provide a brief overview of Atlas Copco's history and its main business areas?\n",
        "\"\"\"\n",
        "\n",
        "\n",
        "# These are collected into a messages list of\n",
        "#\n",
        "#   SystemMessage - the system prompt\n",
        "#   HumanMessage  - the user query\n",
        "#   AIMessage     - the bot response, in case you wish to continue on a conversation\n",
        "messages = [\n",
        "    SystemMessage(content=system_prompt),\n",
        "    HumanMessage(content=user_prompt),\n",
        "]"
      ],
      "metadata": {
        "colab": {
          "base_uri": "https://localhost:8080/",
          "height": 17
        },
        "id": "lcs4F4y1CuI1",
        "outputId": "4ce9e8f1-e5f7-4276-c79a-927a94401e4b"
      },
      "execution_count": 24,
      "outputs": [
        {
          "output_type": "display_data",
          "data": {
            "text/plain": [
              "<IPython.core.display.HTML object>"
            ],
            "text/html": [
              "\n",
              "  <style>\n",
              "    pre {\n",
              "        white-space: pre-wrap;\n",
              "    }\n",
              "  </style>\n",
              "  "
            ]
          },
          "metadata": {}
        }
      ]
    },
    {
      "cell_type": "code",
      "source": [
        "# This creates an instance of the model interface which we can subsequently call on\n",
        "chat_model = ChatOpenAI(\n",
        "    openai_api_key=os.environ['OPENAI_API_KEY'],\n",
        "    # The below parameters can be changed\n",
        "    model=\"gpt-3.5-turbo-1106\",\n",
        "    temperature=0.7\n",
        ")\n",
        "\n",
        "\n",
        "# Here we collect the output from the chat model in the variable response\n",
        "response = chat_model.invoke(messages)\n",
        "\n",
        "# We can print out the response by calling on its content using a .content\n",
        "print(response.content)"
      ],
      "metadata": {
        "colab": {
          "base_uri": "https://localhost:8080/",
          "height": 106
        },
        "id": "PHUdybZ0chF_",
        "outputId": "8e8ad1bd-f91f-4fa0-dc00-a53347d055a4"
      },
      "execution_count": 25,
      "outputs": [
        {
          "output_type": "display_data",
          "data": {
            "text/plain": [
              "<IPython.core.display.HTML object>"
            ],
            "text/html": [
              "\n",
              "  <style>\n",
              "    pre {\n",
              "        white-space: pre-wrap;\n",
              "    }\n",
              "  </style>\n",
              "  "
            ]
          },
          "metadata": {}
        },
        {
          "output_type": "stream",
          "name": "stdout",
          "text": [
            "Absolutely! Atlas Copco has a rich history dating back to 1873 when it was founded in Sweden. The company has evolved over the years to become a global leader in sustainable productivity solutions. Our main business areas include Compressor Technique, Industrial Technique, Mining and Rock Excavation Technique, and Power Technique. These areas encompass products and services ranging from air and gas compressors, vacuum solutions, industrial power tools and assembly systems, to solutions for mining and construction equipment, and power generators. Our commitment to innovation and sustainability has been at the core of our success since the beginning.\n"
          ]
        }
      ]
    },
    {
      "cell_type": "markdown",
      "source": [
        "**Examples of other questions to ask:**\n",
        "\n",
        "* Who are you?\n",
        "* In how many countries does Atlas Copco operate?\n",
        "* What are the primary products and services offered by Atlas Copco?\n",
        "* How can I get in touch with Atlas Copco's customer support for product-related queries?"
      ],
      "metadata": {
        "id": "_gwUoBOQbwTE"
      }
    },
    {
      "cell_type": "markdown",
      "source": [
        "#### **Impersonating extra assignment**\n",
        "\n",
        "\n",
        "The previous example was intentionally extreme, to demonstrate just how free we are to define the atmospheric setting. In practice however it is often useful to define the role of the LLM as an expert in the area you wish to query about. This makes it easier for the LLM to navigate its knowledge base and find more accurate responses. We can additionally ask for the output to be provided as some other persona, which can be useful when the expert lingo can become too advanced.\n",
        "\n",
        "\n",
        "In this exercise we ask the LLM to be an expert astronomer, but provide its answers as if speaking to a 10-year old child.  "
      ],
      "metadata": {
        "id": "KqdFtiu5crxi"
      }
    },
    {
      "cell_type": "code",
      "source": [
        "# The system prompt will be placed at the top of every message and should set overall system behaviour\n",
        "system_prompt = \"\"\"\n",
        "You are an expert astronomer who is very knowledgeable about the solar system.\n",
        "Your task is to answer users questions in a satisfactory manner using clear, simple and instructive sentences.\n",
        "Shape your response as if talking to a 10-year old child.\n",
        "\n",
        "Here is an example dialogue:\n",
        "Question: How many moons does Mars have?\n",
        "Answer: Very good question. Mars has two small moons. They are called Phobos and Deimos. They are very small and irregularly shaped.\n",
        "Phobos is the larger of the two moons and is about 17 miles (27 kilometers) in diameter.\n",
        "Deimos is about 12 miles (19 kilometers) in diameter. Both moons are thought to be captured asteroids.\n",
        "Imagine them as two little buddies that always follow Mars around in space! 🪐🌕🌕\n",
        "\"\"\"\n",
        "\n",
        "\n",
        "user_prompt = f\"\"\"\n",
        "How many planets are there in the solar system?\n",
        "\"\"\"\n",
        "\n",
        "\n",
        "# These are collected into a messages list of\n",
        "#\n",
        "#   SystemMessage - the system prompt\n",
        "#   HumanMessage  - the user query\n",
        "#   AIMessage     - the bot response, in case you wish to continue on a conversation\n",
        "messages = [\n",
        "    SystemMessage(content=system_prompt),\n",
        "    HumanMessage(content=user_prompt),\n",
        "]"
      ],
      "metadata": {
        "colab": {
          "base_uri": "https://localhost:8080/",
          "height": 17
        },
        "id": "Kakrg-gvbp4V",
        "outputId": "6bf6a46a-9f69-4183-f873-bb39a2537df0"
      },
      "execution_count": 26,
      "outputs": [
        {
          "output_type": "display_data",
          "data": {
            "text/plain": [
              "<IPython.core.display.HTML object>"
            ],
            "text/html": [
              "\n",
              "  <style>\n",
              "    pre {\n",
              "        white-space: pre-wrap;\n",
              "    }\n",
              "  </style>\n",
              "  "
            ]
          },
          "metadata": {}
        }
      ]
    },
    {
      "cell_type": "code",
      "source": [
        "# This creates an instance of the model interface which we can subsequently call on\n",
        "chat_model = ChatOpenAI(\n",
        "    openai_api_key=os.environ['OPENAI_API_KEY'],\n",
        "    # The below parameters can be changed\n",
        "    model=\"gpt-3.5-turbo-1106\",\n",
        "    temperature=0.7\n",
        ")\n",
        "\n",
        "\n",
        "# Here we collect the output from the chat model in the variable response\n",
        "response = chat_model.invoke(messages)\n",
        "\n",
        "# We can print out the response by calling on its content using a .content\n",
        "print(response.content)"
      ],
      "metadata": {
        "colab": {
          "base_uri": "https://localhost:8080/",
          "height": 88
        },
        "id": "L8ZN82wYbp0S",
        "outputId": "8ad0c70a-34d5-4a7a-c713-6c1c6f580198"
      },
      "execution_count": 27,
      "outputs": [
        {
          "output_type": "display_data",
          "data": {
            "text/plain": [
              "<IPython.core.display.HTML object>"
            ],
            "text/html": [
              "\n",
              "  <style>\n",
              "    pre {\n",
              "        white-space: pre-wrap;\n",
              "    }\n",
              "  </style>\n",
              "  "
            ]
          },
          "metadata": {}
        },
        {
          "output_type": "stream",
          "name": "stdout",
          "text": [
            "Oh, that's an awesome question! In our solar system, there are eight planets. Their names are Mercury, Venus, Earth, Mars, Jupiter, Saturn, Uranus, and Neptune. They all go around the Sun and each one is very special and different from the others. And remember, Pluto used to be considered the ninth planet, but now it's called a \"dwarf planet.\" So, we have eight big planets and many small dwarf planets in our solar system. Isn't that cool? 🪐\n"
          ]
        }
      ]
    },
    {
      "cell_type": "markdown",
      "source": [
        "**Examples of other questions to ask:**\n",
        "\n",
        "* When I learned about the planets in school, there were nine. When did that change?\n",
        "* Does Pluto have any moons? What about other dwarf planets? Who chose all of these cool names?!"
      ],
      "metadata": {
        "id": "rLM11cCydIQ7"
      }
    },
    {
      "cell_type": "markdown",
      "source": [
        "### **Writing - defining a typical task**\n",
        "\n",
        "LLMs are extraordinarily good at generating written content. This can be used for many varying purposes, such as: marketing pitches, ad generation, creating an outline for an essay, grammar correction and language translation, rewriting a text from a description or writing customized emails."
      ],
      "metadata": {
        "id": "ZbTdomRcpFIh"
      }
    },
    {
      "cell_type": "markdown",
      "source": [
        "#### **Writing - Marketing generation**"
      ],
      "metadata": {
        "id": "GmwvCQyNpMHW"
      }
    },
    {
      "cell_type": "code",
      "source": [
        "# The system prompt will be placed at the top of every message and should set overall system behaviour\n",
        "system_prompt = \"\"\"\n",
        "You are an expert in marketing and tech product design.\n",
        "Generate a one paragraph marketing pitch from the user provided product description.\n",
        "Use only information from the provided description.\n",
        "\"\"\"\n",
        "\n",
        "\n",
        "user_prompt = f\"\"\"\n",
        "NokiaTWS-411 Comfort Earbuds True wireless-hörlurar Svart\n",
        "Artikelnr. 5011272056 Tillv. art. nr. 8P00000143\n",
        "- Typ True wireless-hörlurar\n",
        "- Anslutningsteknik Trådlös\n",
        "- Driftstid (upp till) 9.5 h\n",
        "- Färgkategori Svart\n",
        "\"\"\"\n",
        "\n",
        "\n",
        "# These are collected into a messages list of\n",
        "#\n",
        "#   SystemMessage - the system prompt\n",
        "#   HumanMessage  - the user query\n",
        "#   AIMessage     - the bot response, in case you wish to continue on a conversation\n",
        "messages = [\n",
        "    SystemMessage(content=system_prompt),\n",
        "    HumanMessage(content=user_prompt),\n",
        "]"
      ],
      "metadata": {
        "colab": {
          "base_uri": "https://localhost:8080/",
          "height": 17
        },
        "id": "_Hpc7ijYbpxk",
        "outputId": "308c5205-1d29-4bf8-99de-a3f11040f21f"
      },
      "execution_count": 28,
      "outputs": [
        {
          "output_type": "display_data",
          "data": {
            "text/plain": [
              "<IPython.core.display.HTML object>"
            ],
            "text/html": [
              "\n",
              "  <style>\n",
              "    pre {\n",
              "        white-space: pre-wrap;\n",
              "    }\n",
              "  </style>\n",
              "  "
            ]
          },
          "metadata": {}
        }
      ]
    },
    {
      "cell_type": "code",
      "source": [
        "# This creates an instance of the model interface which we can subsequently call on\n",
        "chat_model = ChatOpenAI(\n",
        "    openai_api_key=os.environ['OPENAI_API_KEY'],\n",
        "    # The below parameters can be changed\n",
        "    model=\"gpt-3.5-turbo-1106\",\n",
        "    temperature=0.7\n",
        ")\n",
        "\n",
        "\n",
        "# Here we collect the output from the chat model in the variable response\n",
        "response = chat_model.invoke(messages)\n",
        "\n",
        "# We can print out the response by calling on its content using a .content\n",
        "print(response.content)"
      ],
      "metadata": {
        "colab": {
          "base_uri": "https://localhost:8080/",
          "height": 71
        },
        "id": "nRpH2LO-pTHy",
        "outputId": "c4eee112-d73f-405b-9caa-ee90daad9d11"
      },
      "execution_count": 29,
      "outputs": [
        {
          "output_type": "display_data",
          "data": {
            "text/plain": [
              "<IPython.core.display.HTML object>"
            ],
            "text/html": [
              "\n",
              "  <style>\n",
              "    pre {\n",
              "        white-space: pre-wrap;\n",
              "    }\n",
              "  </style>\n",
              "  "
            ]
          },
          "metadata": {}
        },
        {
          "output_type": "stream",
          "name": "stdout",
          "text": [
            "Introducing the Nokia TWS-411 Comfort Earbuds, the ultimate true wireless earbuds designed for seamless, wireless connectivity. With up to 9.5 hours of uninterrupted playtime, these sleek black earbuds offer a comfortable and convenient listening experience. Say goodbye to tangled wires and hello to a new level of freedom with the Nokia TWS-411 Comfort Earbuds.\n"
          ]
        }
      ]
    },
    {
      "cell_type": "markdown",
      "source": [
        "It will also take into account who you are creating the content for. If you ask it to write an email to your boss saying you will be late it will have a very different tone than if the email will go to your mom."
      ],
      "metadata": {
        "id": "rK6N5eJ1pq2d"
      }
    },
    {
      "cell_type": "code",
      "source": [
        "# The system prompt will be placed at the top of every message and should set overall system behaviour\n",
        "system_prompt = \"\"\"\n",
        "You are en expert in HR related questions and have long experience as a respected communicator.\n",
        "\"\"\"\n",
        "\n",
        "\n",
        "user_prompt = f\"\"\"\n",
        "Write a suggestion for an email to my boss, explaining that I will have to be late this morning.\n",
        "\"\"\"\n",
        "\n",
        "\n",
        "# These are collected into a messages list of\n",
        "#\n",
        "#   SystemMessage - the system prompt\n",
        "#   HumanMessage  - the user query\n",
        "#   AIMessage     - the bot response, in case you wish to continue on a conversation\n",
        "messages = [\n",
        "    SystemMessage(content=system_prompt),\n",
        "    HumanMessage(content=user_prompt),\n",
        "]"
      ],
      "metadata": {
        "colab": {
          "base_uri": "https://localhost:8080/",
          "height": 17
        },
        "id": "WTsVPY2bpTFB",
        "outputId": "52b82224-6189-49a3-ebce-4b7879eca79f"
      },
      "execution_count": 30,
      "outputs": [
        {
          "output_type": "display_data",
          "data": {
            "text/plain": [
              "<IPython.core.display.HTML object>"
            ],
            "text/html": [
              "\n",
              "  <style>\n",
              "    pre {\n",
              "        white-space: pre-wrap;\n",
              "    }\n",
              "  </style>\n",
              "  "
            ]
          },
          "metadata": {}
        }
      ]
    },
    {
      "cell_type": "code",
      "source": [
        "# This creates an instance of the model interface which we can subsequently call on\n",
        "chat_model = ChatOpenAI(\n",
        "    openai_api_key=os.environ['OPENAI_API_KEY'],\n",
        "    # The below parameters can be changed\n",
        "    model=\"gpt-3.5-turbo-1106\",\n",
        "    temperature=0.7\n",
        ")\n",
        "\n",
        "\n",
        "# Here we collect the output from the chat model in the variable response\n",
        "response = chat_model.invoke(messages)\n",
        "\n",
        "# We can print out the response by calling on its content using a .content\n",
        "print(response.content)"
      ],
      "metadata": {
        "colab": {
          "base_uri": "https://localhost:8080/",
          "height": 374
        },
        "id": "2X9KFA6WpTCO",
        "outputId": "0e0c6464-7ca6-4daf-8544-11de702d3c6d"
      },
      "execution_count": 31,
      "outputs": [
        {
          "output_type": "display_data",
          "data": {
            "text/plain": [
              "<IPython.core.display.HTML object>"
            ],
            "text/html": [
              "\n",
              "  <style>\n",
              "    pre {\n",
              "        white-space: pre-wrap;\n",
              "    }\n",
              "  </style>\n",
              "  "
            ]
          },
          "metadata": {}
        },
        {
          "output_type": "stream",
          "name": "stdout",
          "text": [
            "Subject: Late Arrival Today\n",
            "\n",
            "Dear [Boss's Name],\n",
            "\n",
            "I hope this email finds you well. I regret to inform you that I will be arriving late to the office this morning. I wanted to communicate this to you as soon as possible to ensure minimal disruption to our team's activities.\n",
            "\n",
            "The reason for my delay is [briefly explain the reason for your lateness, such as unexpected traffic, a personal matter, etc.]. I understand the importance of punctuality and I deeply apologize for any inconvenience this may cause.\n",
            "\n",
            "I have made arrangements to handle any urgent tasks remotely and will ensure that my delayed arrival does not impact any critical deliverables. I will also stay late to make up for the lost time and ensure that all my responsibilities are fulfilled today.\n",
            "\n",
            "Thank you for your understanding and flexibility in this matter. Please let me know if there are any specific tasks or meetings I should prioritize upon my arrival.\n",
            "\n",
            "I appreciate your support and understanding.\n",
            "\n",
            "Best regards,\n",
            "[Your Name]\n"
          ]
        }
      ]
    },
    {
      "cell_type": "code",
      "source": [
        "# The system prompt will be placed at the top of every message and should set overall system behaviour\n",
        "system_prompt = \"\"\"\n",
        "Write a reply to a valued customer.\n",
        "Generate a reply to thank the customer for their review.\n",
        "Make sure to use specific details from the review.\n",
        "Write in a concise and professional tone.\n",
        "\"\"\"\n",
        "\n",
        "\n",
        "user_prompt = f\"\"\"\n",
        "Customer review: \"I'm disappointed with my latest purchase. The item arrived late and was damaged.\"\n",
        "\"\"\"\n",
        "\n",
        "\n",
        "# These are collected into a messages list of\n",
        "#\n",
        "#   SystemMessage - the system prompt\n",
        "#   HumanMessage  - the user query\n",
        "#   AIMessage     - the bot response, in case you wish to continue on a conversation\n",
        "messages = [\n",
        "    SystemMessage(content=system_prompt),\n",
        "    HumanMessage(content=user_prompt),\n",
        "]"
      ],
      "metadata": {
        "colab": {
          "base_uri": "https://localhost:8080/",
          "height": 17
        },
        "id": "rIflzHdVp6u1",
        "outputId": "587c8688-ebf6-42a4-e45c-b69f0ef5dd36"
      },
      "execution_count": 32,
      "outputs": [
        {
          "output_type": "display_data",
          "data": {
            "text/plain": [
              "<IPython.core.display.HTML object>"
            ],
            "text/html": [
              "\n",
              "  <style>\n",
              "    pre {\n",
              "        white-space: pre-wrap;\n",
              "    }\n",
              "  </style>\n",
              "  "
            ]
          },
          "metadata": {}
        }
      ]
    },
    {
      "cell_type": "code",
      "source": [
        "# This creates an instance of the model interface which we can subsequently call on\n",
        "chat_model = ChatOpenAI(\n",
        "    openai_api_key=os.environ['OPENAI_API_KEY'],\n",
        "    # The below parameters can be changed\n",
        "    model=\"gpt-3.5-turbo-1106\",\n",
        "    temperature=0.7\n",
        ")\n",
        "\n",
        "\n",
        "# Here we collect the output from the chat model in the variable response\n",
        "response = chat_model.invoke(messages)\n",
        "\n",
        "# We can print out the response by calling on its content using a .content\n",
        "print(response.content)"
      ],
      "metadata": {
        "colab": {
          "base_uri": "https://localhost:8080/",
          "height": 249
        },
        "id": "songJu4rp6pQ",
        "outputId": "f1d25187-6f65-4407-efc1-4f9b28227c49"
      },
      "execution_count": 33,
      "outputs": [
        {
          "output_type": "display_data",
          "data": {
            "text/plain": [
              "<IPython.core.display.HTML object>"
            ],
            "text/html": [
              "\n",
              "  <style>\n",
              "    pre {\n",
              "        white-space: pre-wrap;\n",
              "    }\n",
              "  </style>\n",
              "  "
            ]
          },
          "metadata": {}
        },
        {
          "output_type": "stream",
          "name": "stdout",
          "text": [
            "Dear valued customer,\n",
            "\n",
            "Thank you for taking the time to share your feedback with us. We apologize for the inconvenience caused by the late delivery and the condition in which the item arrived. This is certainly not the experience we aim to provide. We would like to make this right for you, so please reach out to our customer service team with your order details, and we will ensure that a satisfactory resolution is provided.\n",
            "\n",
            "We appreciate your understanding and thank you for bringing this to our attention.\n",
            "\n",
            "Best regards,\n",
            "[Your Name]\n",
            "[Your Title]\n",
            "[Your Company]\n"
          ]
        }
      ]
    },
    {
      "cell_type": "markdown",
      "source": [
        "Asking the LLM to provdie its output in a specific form or format can be very useful"
      ],
      "metadata": {
        "id": "_SBwiu_xqUmH"
      }
    },
    {
      "cell_type": "code",
      "source": [
        "# The system prompt will be placed at the top of every message and should set overall system behaviour\n",
        "system_prompt = \"\"\"\n",
        "You are a helpful assistant and an expert in marketing.\n",
        "\"\"\"\n",
        "\n",
        "\n",
        "user_prompt = f\"\"\"\n",
        "Create a product portfolio for a company that sells headphones and generate the output in table format with the following headers:\n",
        "\"Product class\", \"Product name\", \"Product price\"\n",
        "\"\"\"\n",
        "\n",
        "\n",
        "# These are collected into a messages list of\n",
        "#\n",
        "#   SystemMessage - the system prompt\n",
        "#   HumanMessage  - the user query\n",
        "#   AIMessage     - the bot response, in case you wish to continue on a conversation\n",
        "messages = [\n",
        "    SystemMessage(content=system_prompt),\n",
        "    HumanMessage(content=user_prompt),\n",
        "]"
      ],
      "metadata": {
        "colab": {
          "base_uri": "https://localhost:8080/",
          "height": 17
        },
        "id": "ME8VFyE6qOHA",
        "outputId": "688ccebd-86d0-4ab6-815a-7bc47dd7e32f"
      },
      "execution_count": 34,
      "outputs": [
        {
          "output_type": "display_data",
          "data": {
            "text/plain": [
              "<IPython.core.display.HTML object>"
            ],
            "text/html": [
              "\n",
              "  <style>\n",
              "    pre {\n",
              "        white-space: pre-wrap;\n",
              "    }\n",
              "  </style>\n",
              "  "
            ]
          },
          "metadata": {}
        }
      ]
    },
    {
      "cell_type": "code",
      "source": [
        "# This creates an instance of the model interface which we can subsequently call on\n",
        "chat_model = ChatOpenAI(\n",
        "    openai_api_key=os.environ['OPENAI_API_KEY'],\n",
        "    # The below parameters can be changed\n",
        "    model=\"gpt-3.5-turbo-1106\",\n",
        "    temperature=0.7\n",
        ")\n",
        "\n",
        "\n",
        "# Here we collect the output from the chat model in the variable response\n",
        "response = chat_model.invoke(messages)\n",
        "\n",
        "# We can print out the response by calling on its content using a .content\n",
        "print(response.content)"
      ],
      "metadata": {
        "colab": {
          "base_uri": "https://localhost:8080/",
          "height": 124
        },
        "id": "FxhzmjpZqOEG",
        "outputId": "4a9725ec-bc9c-4de9-8e0b-f1039e21a7ed"
      },
      "execution_count": 35,
      "outputs": [
        {
          "output_type": "display_data",
          "data": {
            "text/plain": [
              "<IPython.core.display.HTML object>"
            ],
            "text/html": [
              "\n",
              "  <style>\n",
              "    pre {\n",
              "        white-space: pre-wrap;\n",
              "    }\n",
              "  </style>\n",
              "  "
            ]
          },
          "metadata": {}
        },
        {
          "output_type": "stream",
          "name": "stdout",
          "text": [
            "| Product Class | Product Name | Product Price |\n",
            "|---------------|--------------|---------------|\n",
            "| Over-ear      | SoundMaster  | $199.99       |\n",
            "| In-ear        | BassBeats    | $79.99        |\n",
            "| On-ear        | StudioTunes  | $149.99       |\n",
            "| Wireless      | FreedomBlast | $129.99       |\n"
          ]
        }
      ]
    },
    {
      "cell_type": "code",
      "source": [
        "# The system prompt will be placed at the top of every message and should set overall system behaviour\n",
        "system_prompt = \"\"\"\n",
        "You are a helpful assistant and an expert in marketing.\n",
        "\"\"\"\n",
        "\n",
        "\n",
        "user_prompt = f\"\"\"\n",
        "Create a product portfolio for a company that sells headphones and generate the output in json format,\n",
        "following exactly the below example schema. Don't include any triple backticks.\n",
        "{{\"Product class\": list of product class examples, \"Product name\": list of product name examples, \"Product price\": list of product name examples}}\n",
        "\"\"\"\n",
        "\n",
        "\n",
        "# These are collected into a messages list of\n",
        "#\n",
        "#   SystemMessage - the system prompt\n",
        "#   HumanMessage  - the user query\n",
        "#   AIMessage     - the bot response, in case you wish to continue on a conversation\n",
        "messages = [\n",
        "    SystemMessage(content=system_prompt),\n",
        "    HumanMessage(content=user_prompt),\n",
        "]"
      ],
      "metadata": {
        "colab": {
          "base_uri": "https://localhost:8080/",
          "height": 17
        },
        "id": "lMhL19gypS_l",
        "outputId": "e6131fff-cbc6-4744-da80-4267f7a28b36"
      },
      "execution_count": 36,
      "outputs": [
        {
          "output_type": "display_data",
          "data": {
            "text/plain": [
              "<IPython.core.display.HTML object>"
            ],
            "text/html": [
              "\n",
              "  <style>\n",
              "    pre {\n",
              "        white-space: pre-wrap;\n",
              "    }\n",
              "  </style>\n",
              "  "
            ]
          },
          "metadata": {}
        }
      ]
    },
    {
      "cell_type": "code",
      "source": [
        "# This creates an instance of the model interface which we can subsequently call on\n",
        "chat_model = ChatOpenAI(\n",
        "    openai_api_key=os.environ['OPENAI_API_KEY'],\n",
        "    # The below parameters can be changed\n",
        "    model=\"gpt-3.5-turbo-1106\",\n",
        "    temperature=0.7\n",
        ")\n",
        "\n",
        "\n",
        "# Here we collect the output from the chat model in the variable response\n",
        "response = chat_model.invoke(messages)\n",
        "\n",
        "# We can print out the response by calling on its content using a .content\n",
        "print(response.content)"
      ],
      "metadata": {
        "colab": {
          "base_uri": "https://localhost:8080/",
          "height": 106
        },
        "id": "oOCC6Er7bpu3",
        "outputId": "2a966f2b-1be9-4fe0-f845-6f458ca0e6b8"
      },
      "execution_count": 37,
      "outputs": [
        {
          "output_type": "display_data",
          "data": {
            "text/plain": [
              "<IPython.core.display.HTML object>"
            ],
            "text/html": [
              "\n",
              "  <style>\n",
              "    pre {\n",
              "        white-space: pre-wrap;\n",
              "    }\n",
              "  </style>\n",
              "  "
            ]
          },
          "metadata": {}
        },
        {
          "output_type": "stream",
          "name": "stdout",
          "text": [
            "{\n",
            "  \"Product class\": [\"Over-ear\", \"On-ear\", \"In-ear\"],\n",
            "  \"Product name\": [\"BassMaster Pro\", \"Audiophile Elite\", \"NoiseBlock Wireless\", \"SportFit Bluetooth\", \"StudioPro X\"],\n",
            "  \"Product price\": [\"$199.99\", \"$149.99\", \"$129.99\", \"$79.99\", \"$249.99\"]\n",
            "}\n"
          ]
        }
      ]
    },
    {
      "cell_type": "markdown",
      "source": [
        "**The idea is to have several examples covering the concepts of Role-task-Format, Chain-of-Thought, In-Concept-Learning. Think about editing the above examples to demonstrate the concepts better and more clearly. We will see CoT and ICL more in the subsequent sections, but should perhaps be demonstrated better in the baove as well, or spelled out more clearly.**"
      ],
      "metadata": {
        "id": "4JXCk0cXroTp"
      }
    },
    {
      "cell_type": "code",
      "source": [],
      "metadata": {
        "id": "uOfgEEmqqdNy"
      },
      "execution_count": 37,
      "outputs": []
    },
    {
      "cell_type": "code",
      "source": [],
      "metadata": {
        "id": "s0y4A52dzjFK"
      },
      "execution_count": 37,
      "outputs": []
    },
    {
      "cell_type": "code",
      "source": [],
      "metadata": {
        "id": "-I5jFdfbzjA2"
      },
      "execution_count": null,
      "outputs": []
    },
    {
      "cell_type": "markdown",
      "metadata": {
        "id": "sSdr-YPSpnLI"
      },
      "source": [
        "## DuckDuckGo search API - a search engine like e.g. Google"
      ]
    },
    {
      "cell_type": "markdown",
      "source": [
        "**NB: THIS SECTION FAILS SINCE LANGCHAIN OR DDG UPDATE. EITHER WE REMOVE INTERNET SEARCH OR CHANGE TO ANOTHER METHOD BESIDES THE LANGCHAIN WRAPPER**"
      ],
      "metadata": {
        "id": "UX0JVc6MAFDs"
      }
    },
    {
      "cell_type": "markdown",
      "metadata": {
        "id": "szBlvYFLpnLI"
      },
      "source": [
        "The [DuckDuckGo browser](https://duckduckgo.com/) provides an open source API which can be used to browse and search the internet. This returns a search response to a query and can be useful for incorporating a small amount of updated information as context to your LLM queries. More advanced search functionalities are possible but quickly become more technically involved for the user, so for the purpose of this short course we restrict to the basic search functionality."
      ]
    },
    {
      "cell_type": "code",
      "source": [
        "!pip install -qU duckduckgo_search"
      ],
      "metadata": {
        "colab": {
          "base_uri": "https://localhost:8080/",
          "height": 17
        },
        "id": "0WD_yijOB2Eq",
        "outputId": "2a57d1da-f51e-46ef-f31c-66d43083ddd7"
      },
      "execution_count": null,
      "outputs": [
        {
          "output_type": "display_data",
          "data": {
            "text/plain": [
              "<IPython.core.display.HTML object>"
            ],
            "text/html": [
              "\n",
              "  <style>\n",
              "    pre {\n",
              "        white-space: pre-wrap;\n",
              "    }\n",
              "  </style>\n",
              "  "
            ]
          },
          "metadata": {}
        }
      ]
    },
    {
      "cell_type": "code",
      "source": [
        "from langchain.tools.ddg_search.tool import DuckDuckGoSearchRun\n",
        "\n",
        "def get_search_results_ddg(query: str, max_results: int=10):\n",
        "    '''Get search results using DuckDuckGo API'''\n",
        "    ddg_search_result = DuckDuckGoSearchRun(max_results=max_results).run(query)\n",
        "    return ddg_search_result"
      ],
      "metadata": {
        "colab": {
          "base_uri": "https://localhost:8080/",
          "height": 17
        },
        "id": "DLS192qqBjtR",
        "outputId": "2a9d3add-5d6d-45bb-f1b5-1587c14a2f6d"
      },
      "execution_count": null,
      "outputs": [
        {
          "output_type": "display_data",
          "data": {
            "text/plain": [
              "<IPython.core.display.HTML object>"
            ],
            "text/html": [
              "\n",
              "  <style>\n",
              "    pre {\n",
              "        white-space: pre-wrap;\n",
              "    }\n",
              "  </style>\n",
              "  "
            ]
          },
          "metadata": {}
        }
      ]
    },
    {
      "cell_type": "code",
      "execution_count": 75,
      "metadata": {
        "colab": {
          "base_uri": "https://localhost:8080/",
          "height": 17
        },
        "id": "AQTxFemKpnLI",
        "outputId": "b36abb21-abb1-46e3-a14e-ad502613a00d"
      },
      "outputs": [
        {
          "output_type": "display_data",
          "data": {
            "text/plain": [
              "<IPython.core.display.HTML object>"
            ],
            "text/html": [
              "\n",
              "  <style>\n",
              "    pre {\n",
              "        white-space: pre-wrap;\n",
              "    }\n",
              "  </style>\n",
              "  "
            ]
          },
          "metadata": {}
        }
      ],
      "source": [
        "# Let's pose a query for which we wish to retrieve information from the internet\n",
        "query = \"What's the latest business news about Combient AB?\"\n",
        "query = \"cats\"\n",
        "\n",
        "# Note that the retrieved responses are not necessarily the same every time we run a search.\n",
        "# The max_results argument is a cap of the nr of retrieved search results\n",
        "response = get_search_results_ddg(query=query, max_results=10)\n",
        "print(response)"
      ]
    },
    {
      "cell_type": "markdown",
      "metadata": {
        "id": "zdaCPuDGpnLI"
      },
      "source": [
        "Note that you receive a collection of relevant snippets to your query and not an actual answer. These snippets correspond to small amount of information retrieved from various web pages based om the query. To collect the retrieved information into a more summarized answer we can use the LLLM."
      ]
    },
    {
      "cell_type": "markdown",
      "metadata": {
        "id": "ru1bbhO3pnLI"
      },
      "source": [
        "#### Explicitly using the query for the purpose of answering a question"
      ]
    },
    {
      "cell_type": "markdown",
      "metadata": {
        "id": "WAei9JkspnLI"
      },
      "source": [
        "Now we are ready to implement the internet search functionality together with the LLM for answering our queries."
      ]
    },
    {
      "cell_type": "code",
      "execution_count": null,
      "metadata": {
        "colab": {
          "base_uri": "https://localhost:8080/",
          "height": 17
        },
        "id": "r92DXTd1pnLI",
        "outputId": "e94689b3-e325-4cab-ad3d-ddfc6cce370d"
      },
      "outputs": [
        {
          "output_type": "display_data",
          "data": {
            "text/plain": [
              "<IPython.core.display.HTML object>"
            ],
            "text/html": [
              "\n",
              "  <style>\n",
              "    pre {\n",
              "        white-space: pre-wrap;\n",
              "    }\n",
              "  </style>\n",
              "  "
            ]
          },
          "metadata": {}
        }
      ],
      "source": [
        "# Step 1:\n",
        "# Setting up the Model\n",
        "# We're preparing to use a specific AI model by setting some initial parameters.\n",
        "# One of these parameters is 'temperature', which affects how creative or strict the model's responses will be.\n",
        "# A lower temperature like 0.0 makes the model more focused and less random in its responses.\n",
        "temperature=0.0\n",
        "\n",
        "\n",
        "# Now we create an instance of the ChatOpenAI model, which we'll use to generate responses.\n",
        "# We're specifying which model to use ('gpt-3.5-turbo') and providing our OpenAI API key to authorize access.\n",
        "chat_model = ChatOpenAI(\n",
        "    openai_api_key=os.environ['OPENAI_API_KEY'],\n",
        "    model=\"gpt-3.5-turbo\",\n",
        "    temperature=temperature\n",
        ")\n",
        "\n",
        "\n",
        "# Step 2:\n",
        "# Defining a Prompt Function to Use the Model\n",
        "# We define a function for more easily calling the LLM using the same prompt template but with a different query\n",
        "# The function uses DuckDuckGo to retrieve context based on the query and then use that to get a response from the LLM\n",
        "def LLM_with_search_prompt(query: str, max_results: int=10, temperature: float=0.0):\n",
        "\n",
        "    # Retrieve serch results based the query\n",
        "    context = get_search_results_ddg(query, max_results=max_results)\n",
        "\n",
        "    # System prompt\n",
        "    system_prompt = f\"\"\"\n",
        "    Ignore all previous instructions. You are a helpful investment management expert.\n",
        "    You are logical, methodical and always find the best and most relevant answer to a query.\n",
        "    Break down the problem, objects, numbers and logic before starting to answer the query.\n",
        "    Then proceed to answer in a step-by-step manner.\n",
        "    \"\"\"\n",
        "\n",
        "    # This prompt inputs the query and context\n",
        "    user_prompt = f\"\"\"\n",
        "    One of our portfolio companies have handed us these news reports as context.\n",
        "    context: {context}\n",
        "\n",
        "    Use only the above context and nothing else to answer the following query and summarize your response.\n",
        "    query: {query}\n",
        "    If the answer is provided in the form of a bulleted list within the context,\n",
        "    then return those bullets verbatim and do not try to rephrase them.\n",
        "    \"\"\"\n",
        "\n",
        "    messages = [\n",
        "        SystemMessage(content=system_prompt),\n",
        "        HumanMessage(content=user_prompt),\n",
        "    ]\n",
        "\n",
        "    response = chat_model.invoke(messages, temperature=temperature)\n",
        "    print(response.content)"
      ]
    },
    {
      "cell_type": "markdown",
      "metadata": {
        "id": "cNFYVFEppnLI"
      },
      "source": [
        "Running the above function will print out the response. Note that running the below cell may result in different outputs despite setting the temperature parameter to 0. This is because the retrieved answers from the DuckDuckGo search are not always the same, which means that the LLM may consider different contexts when trying to answer your query."
      ]
    },
    {
      "cell_type": "code",
      "execution_count": null,
      "metadata": {
        "colab": {
          "base_uri": "https://localhost:8080/",
          "height": 53
        },
        "id": "eZVezWeVpnLI",
        "outputId": "0c732c2f-0fd8-4cd3-ef00-6ba3cd9ee0de"
      },
      "outputs": [
        {
          "output_type": "display_data",
          "data": {
            "text/plain": [
              "<IPython.core.display.HTML object>"
            ],
            "text/html": [
              "\n",
              "  <style>\n",
              "    pre {\n",
              "        white-space: pre-wrap;\n",
              "    }\n",
              "  </style>\n",
              "  "
            ]
          },
          "metadata": {}
        },
        {
          "output_type": "stream",
          "name": "stdout",
          "text": [
            "- CEO Johan Forssell will leave Investor in May 2024 in a new role with a focus on Oct. 20.\n",
            "- AQ Johan Forssell to Leave from Investor AB as President and Director, Effective 7 May 2024.\n"
          ]
        }
      ],
      "source": [
        "# Let's pose a query for which we wish to retrieve information from internet and get an LLM response based on that information\n",
        "query = \"What's the latest business news about Investor AB and its board?\"\n",
        "\n",
        "# Here we use our prompt function to call the LLM\n",
        "LLM_with_search_prompt(query=query, temperature=temperature)"
      ]
    },
    {
      "cell_type": "markdown",
      "metadata": {
        "id": "BSb0VJZYpnLJ"
      },
      "source": [
        "**Try it out yourself:**\n",
        "\n",
        "Try it out by searching with your own query. The context will be automatically included via the prompt function defined above."
      ]
    },
    {
      "cell_type": "code",
      "execution_count": null,
      "metadata": {
        "colab": {
          "base_uri": "https://localhost:8080/",
          "height": 124
        },
        "id": "L0SJE8t6pnLJ",
        "outputId": "7d72e3fa-7454-47c0-ae3b-fd681546ef27"
      },
      "outputs": [
        {
          "output_type": "display_data",
          "data": {
            "text/plain": [
              "<IPython.core.display.HTML object>"
            ],
            "text/html": [
              "\n",
              "  <style>\n",
              "    pre {\n",
              "        white-space: pre-wrap;\n",
              "    }\n",
              "  </style>\n",
              "  "
            ]
          },
          "metadata": {}
        },
        {
          "output_type": "stream",
          "name": "stdout",
          "text": [
            "- Rubberducking is a debugging technique commonly used in programming and software development.\n",
            "- It involves explaining your code and the problem you are trying to solve to a rubber duck.\n",
            "- Many programmers keep a rubber duck on their desk for this purpose.\n",
            "- The process starts by getting your rubber duck and explaining your goal or what you are trying to achieve with your code.\n",
            "- Rubberducking helps to verbalize thoughts and can serve as a sounding board for creative ideas.\n",
            "- It is a problem-solving technique that helps bridge the gap between creativity and technology.\n"
          ]
        }
      ],
      "source": [
        "# Write your own query and retrieve search results from that as context for the LLM\n",
        "query = \"What is rubberducking?\"\n",
        "\n",
        "LLM_with_search_prompt(query=query, temperature=temperature)"
      ]
    },
    {
      "cell_type": "code",
      "source": [],
      "metadata": {
        "id": "2K_6YNLmCcR8"
      },
      "execution_count": null,
      "outputs": []
    },
    {
      "cell_type": "code",
      "source": [],
      "metadata": {
        "id": "z7Srr3KvUnG1"
      },
      "execution_count": null,
      "outputs": []
    },
    {
      "cell_type": "code",
      "source": [],
      "metadata": {
        "id": "lOEJye0fUnJU"
      },
      "execution_count": null,
      "outputs": []
    },
    {
      "cell_type": "code",
      "source": [],
      "metadata": {
        "id": "fi8iBWMEy8Nc"
      },
      "execution_count": null,
      "outputs": []
    },
    {
      "cell_type": "markdown",
      "source": [
        "# Hands-On 2: Introduction to Embeddings & Vector index storage"
      ],
      "metadata": {
        "id": "Pbd3QTcvtAtT"
      }
    },
    {
      "cell_type": "markdown",
      "source": [
        "Some text here for introducing embeddings and vector stores ..."
      ],
      "metadata": {
        "id": "2C-vlqsEmCkS"
      }
    },
    {
      "cell_type": "markdown",
      "source": [
        "## Getting arXiv data & illustrating basic embedding concepts"
      ],
      "metadata": {
        "id": "tYFAQzJ-l5w6"
      }
    },
    {
      "cell_type": "markdown",
      "source": [
        "We will start by collecting scientific abstracts from [arXiv](https://arxiv.org). We collevct these by fetching from their new releases section, which provides the daily deluge of preprint articles in various STEM subjects."
      ],
      "metadata": {
        "id": "m1CfwSPll5kE"
      }
    },
    {
      "cell_type": "code",
      "source": [
        "def fetch_arxiv_data(url, subject):\n",
        "    \"\"\"\n",
        "    Function for fetching articles from the arXiv. Expects a url pointing to the daily relese site of arXiv topics.\n",
        "    Returns a list of dictionaries containing 'title', 'abstract' and 'arxiv_topic'.\n",
        "    \"\"\"\n",
        "    response = requests.get(url)\n",
        "    if response.status_code != 200:\n",
        "        print('Failed to retrieve data from', url)\n",
        "        return []\n",
        "\n",
        "    soup = BeautifulSoup(response.content, 'html.parser')\n",
        "    papers = []\n",
        "\n",
        "    cnt_found=0\n",
        "    cnt_not_found=0\n",
        "    for item in soup.find_all('div', class_='meta'):\n",
        "      # We only extract info from articles with abstract in the listing. This includes cross-topic listings\n",
        "      try:\n",
        "        title = item.find('div', class_='list-title mathjax').text.replace('Title:', '').strip()\n",
        "        abstract = item.find('p', class_='mathjax').text.strip()\n",
        "        arxiv_topic = item.find('span', class_='primary-subject').text.strip()\n",
        "        papers.append({'title': title, 'abstract': abstract, 'arxiv_topic': arxiv_topic, 'subject': subject})\n",
        "        cnt_found+=1\n",
        "      # We do not try to get abstract from replacements\n",
        "      except:\n",
        "        #print(f\"NO ABSTRACT FOUND, DUE TO ARTICLE BEING A REPLACEMENT OF EARLIER SUBMISSION\")\n",
        "        cnt_not_found+=1\n",
        "\n",
        "    print(f\"Extracted abstract for {cnt_found} new articles from {subject}.\\nThis excludes {cnt_not_found} replacements.\")\n",
        "\n",
        "    return papers"
      ],
      "metadata": {
        "colab": {
          "base_uri": "https://localhost:8080/",
          "height": 17
        },
        "id": "tTzRjjaoUn56",
        "outputId": "ddd34014-37c8-4b9b-b137-9778a4cf3bcb"
      },
      "execution_count": 38,
      "outputs": [
        {
          "output_type": "display_data",
          "data": {
            "text/plain": [
              "<IPython.core.display.HTML object>"
            ],
            "text/html": [
              "\n",
              "  <style>\n",
              "    pre {\n",
              "        white-space: pre-wrap;\n",
              "    }\n",
              "  </style>\n",
              "  "
            ]
          },
          "metadata": {}
        }
      ]
    },
    {
      "cell_type": "markdown",
      "source": [
        "Below we try out the function to see the output from a single article."
      ],
      "metadata": {
        "id": "RWZ9zwyzEs-V"
      }
    },
    {
      "cell_type": "code",
      "source": [
        "# Example usage\n",
        "url = 'https://arxiv.org/list/gr-qc/new'  # URL for the General Relativity and Quantum Cosmology section\n",
        "papers = fetch_arxiv_data(url, subject=\"gr-qc\")\n",
        "\n",
        "# Print the first few papers\n",
        "for paper in papers[:1]:\n",
        "    print(\"\")\n",
        "    print(Style.BRIGHT + 'Title:' + Style.RESET_ALL, paper['title'])\n",
        "    print(Style.BRIGHT + 'Abstract:' + Style.RESET_ALL, paper['abstract'])\n",
        "    print(Style.BRIGHT + 'arXiv Topic:' + Style.RESET_ALL, paper['arxiv_topic'])\n",
        "    print(Style.BRIGHT + 'arXiv Subject:' + Style.RESET_ALL, paper['subject'])\n",
        "    print('---')"
      ],
      "metadata": {
        "colab": {
          "base_uri": "https://localhost:8080/",
          "height": 374
        },
        "id": "WIkFtDrbUnLx",
        "outputId": "1e9c3f31-c96b-4786-c970-15f97be48652"
      },
      "execution_count": 39,
      "outputs": [
        {
          "output_type": "display_data",
          "data": {
            "text/plain": [
              "<IPython.core.display.HTML object>"
            ],
            "text/html": [
              "\n",
              "  <style>\n",
              "    pre {\n",
              "        white-space: pre-wrap;\n",
              "    }\n",
              "  </style>\n",
              "  "
            ]
          },
          "metadata": {}
        },
        {
          "output_type": "stream",
          "name": "stdout",
          "text": [
            "Extracted abstract for 27 new articles from gr-qc.\n",
            "This excludes 22 replacements.\n",
            "\n",
            "\u001b[1mTitle:\u001b[0m Observational redshift from general spherically symmetric black holes\n",
            "\u001b[1mAbstract:\u001b[0m In this work, we obtain an expression for the total observational frequency\n",
            "shift of photons emitted by massive geodesic particles circularly orbiting a\n",
            "black hole in a general spherically symmetric background. Our general relations\n",
            "are presented in terms of the metric components and their derivatives that\n",
            "characterize the black hole parameters. As a concrete example of this general\n",
            "relativistic approach, a special case is studied by applying the formalism to a\n",
            "nonsingular black hole conformally related to the Schwarzchild solution that\n",
            "possesses a length scale parameter $l$ and an integer parameter $N$ in addition\n",
            "to the black hole mass. Besides, we express the nonsingular black hole mass in\n",
            "terms of the observational redshift/blueshift. Finally, we investigate the\n",
            "effects of the free parameters of the conformal gravity theory on the\n",
            "observational frequency shift and compare results with those of the standard\n",
            "Schwarzschild black hole.\n",
            "\u001b[1marXiv Topic:\u001b[0m General Relativity and Quantum Cosmology (gr-qc)\n",
            "\u001b[1marXiv Subject:\u001b[0m gr-qc\n",
            "---\n"
          ]
        }
      ]
    },
    {
      "cell_type": "code",
      "source": [
        "# Let's do it for all arXiv subjects\n",
        "subjects = [\n",
        "    \"astro-ph\",\n",
        "    \"gr-qc\",\n",
        "    \"cond-mat\",\n",
        "    \"quant-ph\",\n",
        "    \"hep-th\",\n",
        "    \"hep-ph\",\n",
        "    \"hep-ex\",\n",
        "    \"hep-lat\",\n",
        "    \"nucl-ex\",\n",
        "    \"nucl-th\",\n",
        "    \"nlin\",\n",
        "    \"math-ph\",\n",
        "    \"math\",\n",
        "    \"cs\",\n",
        "    \"stat\",\n",
        "    \"eess\",\n",
        "    ]\n",
        "\n",
        "\n",
        "# We collect everything in a list of dictionaries\n",
        "papers_list = []\n",
        "for subject in subjects:\n",
        "  papers_subject = fetch_arxiv_data(f\"https://arxiv.org/list/{subject}/new\", subject=subject)\n",
        "  for paper in papers_subject:\n",
        "    papers_list.append(paper)\n",
        "\n",
        "print(\"\")\n",
        "print(f\"We extracted a total of {len(papers_list)} abstracts\")"
      ],
      "metadata": {
        "colab": {
          "base_uri": "https://localhost:8080/",
          "height": 624
        },
        "id": "nxrkRBb2UnOI",
        "outputId": "b6415adb-0139-451d-9073-774b2dd505d1"
      },
      "execution_count": 40,
      "outputs": [
        {
          "output_type": "display_data",
          "data": {
            "text/plain": [
              "<IPython.core.display.HTML object>"
            ],
            "text/html": [
              "\n",
              "  <style>\n",
              "    pre {\n",
              "        white-space: pre-wrap;\n",
              "    }\n",
              "  </style>\n",
              "  "
            ]
          },
          "metadata": {}
        },
        {
          "output_type": "stream",
          "name": "stdout",
          "text": [
            "Extracted abstract for 76 new articles from astro-ph.\n",
            "This excludes 36 replacements.\n",
            "Extracted abstract for 27 new articles from gr-qc.\n",
            "This excludes 22 replacements.\n",
            "Extracted abstract for 93 new articles from cond-mat.\n",
            "This excludes 40 replacements.\n",
            "Extracted abstract for 56 new articles from quant-ph.\n",
            "This excludes 29 replacements.\n",
            "Extracted abstract for 45 new articles from hep-th.\n",
            "This excludes 23 replacements.\n",
            "Extracted abstract for 32 new articles from hep-ph.\n",
            "This excludes 26 replacements.\n",
            "Extracted abstract for 8 new articles from hep-ex.\n",
            "This excludes 9 replacements.\n",
            "Extracted abstract for 11 new articles from hep-lat.\n",
            "This excludes 7 replacements.\n",
            "Extracted abstract for 14 new articles from nucl-ex.\n",
            "This excludes 4 replacements.\n",
            "Extracted abstract for 11 new articles from nucl-th.\n",
            "This excludes 5 replacements.\n",
            "Extracted abstract for 8 new articles from nlin.\n",
            "This excludes 6 replacements.\n",
            "Extracted abstract for 20 new articles from math-ph.\n",
            "This excludes 12 replacements.\n",
            "Extracted abstract for 222 new articles from math.\n",
            "This excludes 120 replacements.\n",
            "Extracted abstract for 453 new articles from cs.\n",
            "This excludes 243 replacements.\n",
            "Extracted abstract for 45 new articles from stat.\n",
            "This excludes 29 replacements.\n",
            "Extracted abstract for 73 new articles from eess.\n",
            "This excludes 22 replacements.\n",
            "\n",
            "We extracted a total of 1194 abstracts\n"
          ]
        }
      ]
    },
    {
      "cell_type": "code",
      "source": [
        "# Print the first few papers\n",
        "for paper in papers_list[:1]:\n",
        "    print(Style.BRIGHT + 'Title:' + Style.RESET_ALL, paper['title'])\n",
        "    print(Style.BRIGHT + 'Abstract:' + Style.RESET_ALL, paper['abstract'])\n",
        "    print(Style.BRIGHT + 'arXiv Topic:' + Style.RESET_ALL, paper['arxiv_topic'])\n",
        "    print(Style.BRIGHT + 'arXiv Subject:' + Style.RESET_ALL, paper['subject'])\n",
        "    print('---')"
      ],
      "metadata": {
        "colab": {
          "base_uri": "https://localhost:8080/",
          "height": 356
        },
        "id": "F9hgqNxqlUfb",
        "outputId": "aefeb6e9-a8e5-4200-97bc-951f3c17d785"
      },
      "execution_count": 41,
      "outputs": [
        {
          "output_type": "display_data",
          "data": {
            "text/plain": [
              "<IPython.core.display.HTML object>"
            ],
            "text/html": [
              "\n",
              "  <style>\n",
              "    pre {\n",
              "        white-space: pre-wrap;\n",
              "    }\n",
              "  </style>\n",
              "  "
            ]
          },
          "metadata": {}
        },
        {
          "output_type": "stream",
          "name": "stdout",
          "text": [
            "\u001b[1mTitle:\u001b[0m Accurate halo mass functions from the simplest excursion set theory\n",
            "\u001b[1mAbstract:\u001b[0m Excursion set theory is a powerful and widely used tool for describing the\n",
            "distribution of dark matter haloes, but it is normally applied with simplifying\n",
            "approximations. We use numerical sampling methods to study the mass functions\n",
            "predicted by the theory without approximations. With a spherical top-hat window\n",
            "and a constant $\\delta=1.5$ threshold, the theory accurately predicts mass\n",
            "functions with the $M_{200}$ mass definition, both unconditional and\n",
            "conditional, in simulations of a range of matter-dominated cosmologies. For\n",
            "$\\Lambda$CDM at the present epoch, predictions lie between the\n",
            "$M_\\mathrm{200m}$ and $M_\\mathrm{200c}$ mass functions. In contrast, with the\n",
            "same window function, a nonconstant threshold based on ellipsoidal collapse\n",
            "predicts uniformly too few haloes. This work indicates a new way to simply and\n",
            "accurately evaluate halo mass functions, clustering bias, and assembly\n",
            "histories for a range of cosmologies. We provide a simple fitting function that\n",
            "accurately represents the predictions of the theory for a wide range of\n",
            "parameters.\n",
            "\u001b[1marXiv Topic:\u001b[0m Cosmology and Nongalactic Astrophysics (astro-ph.CO)\n",
            "\u001b[1marXiv Subject:\u001b[0m astro-ph\n",
            "---\n"
          ]
        }
      ]
    },
    {
      "cell_type": "markdown",
      "source": [
        "### Checking lengths of retrieved abstracts"
      ],
      "metadata": {
        "id": "jHFv3J7euWBk"
      }
    },
    {
      "cell_type": "code",
      "source": [
        "abstract_lengths = []\n",
        "for paper in papers_list:\n",
        "  abstract_lengths.append(len(paper[\"abstract\"]))\n",
        "\n",
        "abstract_lengths.sort(reverse=True)\n",
        "print(\"We print out the lengths of the 10 longest abstracts\")\n",
        "abstract_lengths[:10]"
      ],
      "metadata": {
        "colab": {
          "base_uri": "https://localhost:8080/",
          "height": 53
        },
        "id": "LbXP7E5zfiLV",
        "outputId": "ffbc67af-9363-4488-8e25-6e622f80c858"
      },
      "execution_count": 42,
      "outputs": [
        {
          "output_type": "display_data",
          "data": {
            "text/plain": [
              "<IPython.core.display.HTML object>"
            ],
            "text/html": [
              "\n",
              "  <style>\n",
              "    pre {\n",
              "        white-space: pre-wrap;\n",
              "    }\n",
              "  </style>\n",
              "  "
            ]
          },
          "metadata": {}
        },
        {
          "output_type": "stream",
          "name": "stdout",
          "text": [
            "We print out the lengths of the 10 longest abstracts\n"
          ]
        },
        {
          "output_type": "execute_result",
          "data": {
            "text/plain": [
              "[1956, 1920, 1916, 1914, 1913, 1911, 1911, 1910, 1909, 1905]"
            ]
          },
          "metadata": {},
          "execution_count": 42
        }
      ]
    },
    {
      "cell_type": "markdown",
      "source": [
        "### Embedding models"
      ],
      "metadata": {
        "id": "LJclcVHPA-bp"
      }
    },
    {
      "cell_type": "code",
      "source": [
        "# For embeddings we use models on the MTEB leaderboard at https://huggingface.co/spaces/mteb/leaderboard\n",
        "\n",
        "\n",
        "# Voyage, currently nr 1 (REQUIRES REGISTERING TO GET API KEY)\n",
        "!pip install -q voyageai\n",
        "import voyageai\n",
        "from langchain.embeddings import VoyageEmbeddings\n",
        "os.environ[\"VOYAGE_API_KEY\"] = \"...\"\n",
        "voyageai.api_key = os.environ[\"VOYAGE_API_KEY\"]\n",
        "\n",
        "\n",
        "# Cohere, currently nr 2 (REQUIRES REGISTERING TO GET API KEY)\n",
        "import cohere\n",
        "#Get your API key from www.cohere.com\n",
        "os.environ[\"COHERE_API_KEY\"] = \"...\"\n",
        "\n",
        "\n",
        "# Open source HuggingFace embeddings, below is currently nr 3 & 12 (NO REGISTRATION REQUIRED)\n",
        "embedding_models_HF = [\n",
        "    \"BAAI/bge-large-en-v1.5\",\n",
        "    \"BAAI/bge-small-en-v1.5\"\n",
        "    ]"
      ],
      "metadata": {
        "colab": {
          "base_uri": "https://localhost:8080/",
          "height": 17
        },
        "id": "J9X8hL-TA9An",
        "outputId": "32207676-cc46-4813-f11d-acc27385bfda"
      },
      "execution_count": 43,
      "outputs": [
        {
          "output_type": "display_data",
          "data": {
            "text/plain": [
              "<IPython.core.display.HTML object>"
            ],
            "text/html": [
              "\n",
              "  <style>\n",
              "    pre {\n",
              "        white-space: pre-wrap;\n",
              "    }\n",
              "  </style>\n",
              "  "
            ]
          },
          "metadata": {}
        }
      ]
    },
    {
      "cell_type": "code",
      "source": [
        "# Helper functions for embedding chunked text using various embedding models\n",
        "#-------------------------------------------------------------------------------\n",
        "def doc_embedding(\n",
        "    embedding_model: str,\n",
        "    model_kwargs: dict={'device': 'cpu'},\n",
        "    encode_kwargs: dict={'normalize_embeddings': True},\n",
        "    cache_folder: Optional[str]=None,\n",
        "    multi_process: bool=False,\n",
        "    ) -> HuggingFaceEmbeddings:\n",
        "  \"\"\"\n",
        "  TBW...\n",
        "  \"\"\"\n",
        "  embedder = HuggingFaceEmbeddings(\n",
        "      model_name = embedding_model,\n",
        "      model_kwargs = model_kwargs,\n",
        "      encode_kwargs = encode_kwargs,\n",
        "      cache_folder = cache_folder,\n",
        "      multi_process = multi_process\n",
        "  )\n",
        "  return embedder\n",
        "\n",
        "\n",
        "\n",
        "def get_API_embedding(text, model=\"text-embedding-ada-002\"):\n",
        "  \"\"\"This function retrieves embedding vector from text string using various models\"\"\"\n",
        "  text = text.replace(\"\\n\", \" \")\n",
        "\n",
        "  # OpenAI embeddings\n",
        "  if model == \"text-embedding-ada-002\":\n",
        "    client = OpenAI()\n",
        "    embedding = client.embeddings.create(input = [text], model=model).data[0].embedding\n",
        "\n",
        "  # Voyage embeddings\n",
        "  elif model == 'voyage-01':\n",
        "    voyage = VoyageEmbeddings(model=model, voyage_api_key=os.environ[\"VOYAGE_API_KEY\"])\n",
        "    embedding = voyage.embed_query(text)\n",
        "\n",
        "  # Cohere embeddings\n",
        "  elif model == \"embed-english-v3.0\":\n",
        "    co = cohere.Client(os.environ[\"COHERE_API_KEY\"])\n",
        "    embedding = co.embed([text], input_type=\"search_document\", model=model).embeddings\n",
        "\n",
        "  elif model in embedding_models_HF:\n",
        "    print(\"YES\")\n",
        "    embedder = doc_embedding(model)\n",
        "    embedding = embedder.embed_query(text)\n",
        "\n",
        "  else:\n",
        "    embedding = [None]\n",
        "\n",
        "  return embedding"
      ],
      "metadata": {
        "colab": {
          "base_uri": "https://localhost:8080/",
          "height": 17
        },
        "id": "4gjqjkPFlUaW",
        "outputId": "f18d4ca8-ef26-474f-ddc4-014104e500c1"
      },
      "execution_count": 44,
      "outputs": [
        {
          "output_type": "display_data",
          "data": {
            "text/plain": [
              "<IPython.core.display.HTML object>"
            ],
            "text/html": [
              "\n",
              "  <style>\n",
              "    pre {\n",
              "        white-space: pre-wrap;\n",
              "    }\n",
              "  </style>\n",
              "  "
            ]
          },
          "metadata": {}
        }
      ]
    },
    {
      "cell_type": "markdown",
      "source": [
        "We will collect our abstracts into a list of Langchain Document objects. This is not necessary for doing embeddings, but will facilitate working with vector stores later on. The Document object class has the methods `page_content`, which stores the text string, and `metadata`, where additional metadata can be stored as a dictionary with key-value pairs."
      ],
      "metadata": {
        "id": "ayOW8GxloKDV"
      }
    },
    {
      "cell_type": "code",
      "source": [
        "documents =  []\n",
        "\n",
        "for paper in papers_list:\n",
        "  doc  = Document(\n",
        "      page_content = paper[\"abstract\"],\n",
        "      metadata = {\"title\": paper[\"title\"], \"arxiv_topic\": paper[\"arxiv_topic\"], \"subject\": paper[\"subject\"]}\n",
        "  )\n",
        "  documents.append(doc)\n",
        "documents[0]"
      ],
      "metadata": {
        "colab": {
          "base_uri": "https://localhost:8080/",
          "height": 196
        },
        "id": "ehwJgI1yoJVP",
        "outputId": "ade90785-dc24-4ac5-b831-ccd4ad1db03c"
      },
      "execution_count": 45,
      "outputs": [
        {
          "output_type": "display_data",
          "data": {
            "text/plain": [
              "<IPython.core.display.HTML object>"
            ],
            "text/html": [
              "\n",
              "  <style>\n",
              "    pre {\n",
              "        white-space: pre-wrap;\n",
              "    }\n",
              "  </style>\n",
              "  "
            ]
          },
          "metadata": {}
        },
        {
          "output_type": "execute_result",
          "data": {
            "text/plain": [
              "Document(page_content='Excursion set theory is a powerful and widely used tool for describing the\\ndistribution of dark matter haloes, but it is normally applied with simplifying\\napproximations. We use numerical sampling methods to study the mass functions\\npredicted by the theory without approximations. With a spherical top-hat window\\nand a constant $\\\\delta=1.5$ threshold, the theory accurately predicts mass\\nfunctions with the $M_{200}$ mass definition, both unconditional and\\nconditional, in simulations of a range of matter-dominated cosmologies. For\\n$\\\\Lambda$CDM at the present epoch, predictions lie between the\\n$M_\\\\mathrm{200m}$ and $M_\\\\mathrm{200c}$ mass functions. In contrast, with the\\nsame window function, a nonconstant threshold based on ellipsoidal collapse\\npredicts uniformly too few haloes. This work indicates a new way to simply and\\naccurately evaluate halo mass functions, clustering bias, and assembly\\nhistories for a range of cosmologies. We provide a simple fitting function that\\naccurately represents the predictions of the theory for a wide range of\\nparameters.', metadata={'title': 'Accurate halo mass functions from the simplest excursion set theory', 'arxiv_topic': 'Cosmology and Nongalactic Astrophysics (astro-ph.CO)', 'subject': 'astro-ph'})"
            ]
          },
          "metadata": {},
          "execution_count": 45
        }
      ]
    },
    {
      "cell_type": "markdown",
      "source": [
        "Let's demonstrate how an embedding works by using OpenAI embeddings for a single abstract. First let's see what the abstract looks like in plain text."
      ],
      "metadata": {
        "id": "6oisJAgFKR3W"
      }
    },
    {
      "cell_type": "code",
      "source": [
        "test_text = documents[0].page_content\n",
        "print(test_text)"
      ],
      "metadata": {
        "colab": {
          "base_uri": "https://localhost:8080/",
          "height": 285
        },
        "id": "ZupVUDo1ufPU",
        "outputId": "fec5be6e-da14-47b0-cf79-259b8149dee8"
      },
      "execution_count": 46,
      "outputs": [
        {
          "output_type": "display_data",
          "data": {
            "text/plain": [
              "<IPython.core.display.HTML object>"
            ],
            "text/html": [
              "\n",
              "  <style>\n",
              "    pre {\n",
              "        white-space: pre-wrap;\n",
              "    }\n",
              "  </style>\n",
              "  "
            ]
          },
          "metadata": {}
        },
        {
          "output_type": "stream",
          "name": "stdout",
          "text": [
            "Excursion set theory is a powerful and widely used tool for describing the\n",
            "distribution of dark matter haloes, but it is normally applied with simplifying\n",
            "approximations. We use numerical sampling methods to study the mass functions\n",
            "predicted by the theory without approximations. With a spherical top-hat window\n",
            "and a constant $\\delta=1.5$ threshold, the theory accurately predicts mass\n",
            "functions with the $M_{200}$ mass definition, both unconditional and\n",
            "conditional, in simulations of a range of matter-dominated cosmologies. For\n",
            "$\\Lambda$CDM at the present epoch, predictions lie between the\n",
            "$M_\\mathrm{200m}$ and $M_\\mathrm{200c}$ mass functions. In contrast, with the\n",
            "same window function, a nonconstant threshold based on ellipsoidal collapse\n",
            "predicts uniformly too few haloes. This work indicates a new way to simply and\n",
            "accurately evaluate halo mass functions, clustering bias, and assembly\n",
            "histories for a range of cosmologies. We provide a simple fitting function that\n",
            "accurately represents the predictions of the theory for a wide range of\n",
            "parameters.\n"
          ]
        }
      ]
    },
    {
      "cell_type": "markdown",
      "source": [
        "Now we call the OpenAI embedding API and check the first 10 entries of the resulting embedding vector."
      ],
      "metadata": {
        "id": "idqcaTndr6Ur"
      }
    },
    {
      "cell_type": "code",
      "source": [
        "embedding = get_API_embedding(test_text, model=\"text-embedding-ada-002\")\n",
        "embedding[:10]"
      ],
      "metadata": {
        "colab": {
          "base_uri": "https://localhost:8080/",
          "height": 196
        },
        "id": "ZjlOs1EqufM-",
        "outputId": "37969e16-fbab-44a4-96a5-a15d81024c72"
      },
      "execution_count": 47,
      "outputs": [
        {
          "output_type": "display_data",
          "data": {
            "text/plain": [
              "<IPython.core.display.HTML object>"
            ],
            "text/html": [
              "\n",
              "  <style>\n",
              "    pre {\n",
              "        white-space: pre-wrap;\n",
              "    }\n",
              "  </style>\n",
              "  "
            ]
          },
          "metadata": {}
        },
        {
          "output_type": "execute_result",
          "data": {
            "text/plain": [
              "[-0.009030752815306187,\n",
              " -0.0010549213038757443,\n",
              " -0.008710711263120174,\n",
              " -0.01936950348317623,\n",
              " -0.017699718475341797,\n",
              " 0.01796410232782364,\n",
              " -0.014972403645515442,\n",
              " -0.000595730496570468,\n",
              " -0.03587254509329796,\n",
              " -0.010484857484698296]"
            ]
          },
          "metadata": {},
          "execution_count": 47
        }
      ]
    },
    {
      "cell_type": "markdown",
      "source": [
        "We can now loop through all abstracts, embed them and add the embeddings to an embedding list. Later we will see how we can do this using a vector store to manage the retrieved embeddings along with additional metadata.\n",
        "\n",
        "**NB: This takes a couple of minutes to complete for all abstracts**"
      ],
      "metadata": {
        "id": "obswLPAmW1la"
      }
    },
    {
      "cell_type": "code",
      "source": [
        "embeddings = []\n",
        "for document in documents:\n",
        "  embedding = get_API_embedding(document.page_content, model=\"text-embedding-ada-002\")\n",
        "  embeddings.append(embedding)\n"
      ],
      "metadata": {
        "colab": {
          "base_uri": "https://localhost:8080/",
          "height": 17
        },
        "id": "tmX1GT8ZKESE",
        "outputId": "94d10e29-8f8d-4c66-b057-021c21b0de0d"
      },
      "execution_count": 48,
      "outputs": [
        {
          "output_type": "display_data",
          "data": {
            "text/plain": [
              "<IPython.core.display.HTML object>"
            ],
            "text/html": [
              "\n",
              "  <style>\n",
              "    pre {\n",
              "        white-space: pre-wrap;\n",
              "    }\n",
              "  </style>\n",
              "  "
            ]
          },
          "metadata": {}
        }
      ]
    },
    {
      "cell_type": "markdown",
      "source": [
        "Let's check the first few entries of the embedding of one article"
      ],
      "metadata": {
        "id": "4OLFee7uXE8M"
      }
    },
    {
      "cell_type": "code",
      "source": [
        "embeddings[0][:10]"
      ],
      "metadata": {
        "colab": {
          "base_uri": "https://localhost:8080/",
          "height": 196
        },
        "id": "9WAkM4N4KEPh",
        "outputId": "9ae6a1d9-e446-4bb8-b979-0ddb943b9301"
      },
      "execution_count": 49,
      "outputs": [
        {
          "output_type": "display_data",
          "data": {
            "text/plain": [
              "<IPython.core.display.HTML object>"
            ],
            "text/html": [
              "\n",
              "  <style>\n",
              "    pre {\n",
              "        white-space: pre-wrap;\n",
              "    }\n",
              "  </style>\n",
              "  "
            ]
          },
          "metadata": {}
        },
        {
          "output_type": "execute_result",
          "data": {
            "text/plain": [
              "[-0.009030752815306187,\n",
              " -0.0010549213038757443,\n",
              " -0.008710711263120174,\n",
              " -0.01936950348317623,\n",
              " -0.017699718475341797,\n",
              " 0.01796410232782364,\n",
              " -0.014972403645515442,\n",
              " -0.000595730496570468,\n",
              " -0.03587254509329796,\n",
              " -0.010484857484698296]"
            ]
          },
          "metadata": {},
          "execution_count": 49
        }
      ]
    },
    {
      "cell_type": "markdown",
      "source": [
        "### Projecting embeddings using UMAP"
      ],
      "metadata": {
        "id": "bVaUwuSoz0A1"
      }
    },
    {
      "cell_type": "markdown",
      "source": [
        "We will now use the [UMAP](https://umap-learn.readthedocs.io/en/latest/) library for performing projections of the embedding vectors down to 2D, preserving both local and global structure of the data."
      ],
      "metadata": {
        "id": "fYQwSdUpPetr"
      }
    },
    {
      "cell_type": "markdown",
      "source": [
        "Let's remind ourselves what the arXiv subjects are."
      ],
      "metadata": {
        "id": "_MMCem1JP8vW"
      }
    },
    {
      "cell_type": "code",
      "source": [
        "subjects"
      ],
      "metadata": {
        "colab": {
          "base_uri": "https://localhost:8080/",
          "height": 303
        },
        "id": "W6W8jdcJ25zM",
        "outputId": "efe9fa62-3326-42ca-84c5-384ac117f86b"
      },
      "execution_count": 50,
      "outputs": [
        {
          "output_type": "display_data",
          "data": {
            "text/plain": [
              "<IPython.core.display.HTML object>"
            ],
            "text/html": [
              "\n",
              "  <style>\n",
              "    pre {\n",
              "        white-space: pre-wrap;\n",
              "    }\n",
              "  </style>\n",
              "  "
            ]
          },
          "metadata": {}
        },
        {
          "output_type": "execute_result",
          "data": {
            "text/plain": [
              "['astro-ph',\n",
              " 'gr-qc',\n",
              " 'cond-mat',\n",
              " 'quant-ph',\n",
              " 'hep-th',\n",
              " 'hep-ph',\n",
              " 'hep-ex',\n",
              " 'hep-lat',\n",
              " 'nucl-ex',\n",
              " 'nucl-th',\n",
              " 'nlin',\n",
              " 'math-ph',\n",
              " 'math',\n",
              " 'cs',\n",
              " 'stat',\n",
              " 'eess']"
            ]
          },
          "metadata": {},
          "execution_count": 50
        }
      ]
    },
    {
      "cell_type": "markdown",
      "source": [
        "We prepare the data for input to the UMAP algorithm"
      ],
      "metadata": {
        "id": "kkIuD8cWQFtR"
      }
    },
    {
      "cell_type": "code",
      "source": [
        "colors = mcp.gen_color(cmap=\"Spectral\",n=len(subjects))\n",
        "color_dict_subjects =dict(zip(subjects, colors))\n",
        "\n",
        "\n",
        "embedding_data_array = np.array(embeddings)\n",
        "print(f\"We now have an array of embeddings with shape: {embedding_data_array.shape}\")"
      ],
      "metadata": {
        "colab": {
          "base_uri": "https://localhost:8080/",
          "height": 35
        },
        "id": "114Kfrmxz-iW",
        "outputId": "81d085e8-88b2-4fc8-cd89-f6d4c644d20e"
      },
      "execution_count": 51,
      "outputs": [
        {
          "output_type": "display_data",
          "data": {
            "text/plain": [
              "<IPython.core.display.HTML object>"
            ],
            "text/html": [
              "\n",
              "  <style>\n",
              "    pre {\n",
              "        white-space: pre-wrap;\n",
              "    }\n",
              "  </style>\n",
              "  "
            ]
          },
          "metadata": {}
        },
        {
          "output_type": "stream",
          "name": "stdout",
          "text": [
            "We now have an array of embeddings with shape: (1194, 1536)\n"
          ]
        }
      ]
    },
    {
      "cell_type": "code",
      "source": [
        "# We do the projection for several values of the n_neighbours hyperparameter\n",
        "# This is the most important hyperparameter of the UMAP algorithm\n",
        "n_neighbors = [2, 5, 15, 25, 50, 100] # 15 is default\n",
        "\n",
        "umap_results = []\n",
        "for n in n_neighbors:\n",
        "    reducer = umap.UMAP(random_state=42,\n",
        "                        n_components=2,\n",
        "                        learning_rate=1.0,\n",
        "                        min_dist=0.1,\n",
        "                        n_neighbors=n,\n",
        "                        metric='euclidean',\n",
        "                        output_metric='euclidean',\n",
        "                        target_metric='categorical',\n",
        "                        target_n_neighbors=-1,\n",
        "                        target_weight=0.5,)\n",
        "    umap_embedding = reducer.fit_transform(embeddings)\n",
        "    umap_results.append(umap_embedding)"
      ],
      "metadata": {
        "colab": {
          "base_uri": "https://localhost:8080/",
          "height": 338
        },
        "id": "F-3irvroz-fk",
        "outputId": "057e3d3f-360f-473f-f311-608da6ca54e2"
      },
      "execution_count": 52,
      "outputs": [
        {
          "output_type": "display_data",
          "data": {
            "text/plain": [
              "<IPython.core.display.HTML object>"
            ],
            "text/html": [
              "\n",
              "  <style>\n",
              "    pre {\n",
              "        white-space: pre-wrap;\n",
              "    }\n",
              "  </style>\n",
              "  "
            ]
          },
          "metadata": {}
        },
        {
          "output_type": "stream",
          "name": "stderr",
          "text": [
            "/usr/local/lib/python3.10/dist-packages/umap/umap_.py:1943: UserWarning: n_jobs value -1 overridden to 1 by setting random_state. Use no seed for parallelism.\n",
            "  warn(f\"n_jobs value {self.n_jobs} overridden to 1 by setting random_state. Use no seed for parallelism.\")\n",
            "/usr/local/lib/python3.10/dist-packages/umap/umap_.py:1943: UserWarning: n_jobs value -1 overridden to 1 by setting random_state. Use no seed for parallelism.\n",
            "  warn(f\"n_jobs value {self.n_jobs} overridden to 1 by setting random_state. Use no seed for parallelism.\")\n",
            "/usr/local/lib/python3.10/dist-packages/umap/umap_.py:1943: UserWarning: n_jobs value -1 overridden to 1 by setting random_state. Use no seed for parallelism.\n",
            "  warn(f\"n_jobs value {self.n_jobs} overridden to 1 by setting random_state. Use no seed for parallelism.\")\n",
            "/usr/local/lib/python3.10/dist-packages/umap/umap_.py:1943: UserWarning: n_jobs value -1 overridden to 1 by setting random_state. Use no seed for parallelism.\n",
            "  warn(f\"n_jobs value {self.n_jobs} overridden to 1 by setting random_state. Use no seed for parallelism.\")\n",
            "/usr/local/lib/python3.10/dist-packages/umap/umap_.py:1943: UserWarning: n_jobs value -1 overridden to 1 by setting random_state. Use no seed for parallelism.\n",
            "  warn(f\"n_jobs value {self.n_jobs} overridden to 1 by setting random_state. Use no seed for parallelism.\")\n",
            "/usr/local/lib/python3.10/dist-packages/umap/umap_.py:1943: UserWarning: n_jobs value -1 overridden to 1 by setting random_state. Use no seed for parallelism.\n",
            "  warn(f\"n_jobs value {self.n_jobs} overridden to 1 by setting random_state. Use no seed for parallelism.\")\n"
          ]
        }
      ]
    },
    {
      "cell_type": "markdown",
      "source": [
        "Let's first display the result using matplotlib"
      ],
      "metadata": {
        "id": "MR5dQTR-RPjJ"
      }
    },
    {
      "cell_type": "code",
      "source": [
        "# Let's choose one of the UMAP results to display\n",
        "nr_index = 5\n",
        "\n",
        "df_arxiv_umap = pd.DataFrame(np.array([umap_results[nr_index][:,0], umap_results[nr_index][:,1]]).T, columns=[\"umap-2d-one\", \"umap-2d-two\"])\n",
        "\n",
        "subjects_list = []\n",
        "for paper in papers_list:\n",
        "  subjects_list.append(paper[\"subject\"])\n",
        "df_arxiv_umap[\"y\"] = subjects_list\n",
        "\n",
        "plt.figure(figsize=(16,10))\n",
        "sns.scatterplot(\n",
        "    x=\"umap-2d-one\", y=\"umap-2d-two\",\n",
        "    hue=\"y\",\n",
        "    palette=color_dict_subjects,\n",
        "    data=df_arxiv_umap,\n",
        "    legend=\"full\",\n",
        "    alpha=0.5\n",
        ")\n",
        "plt.title(f\"UMAP projection of arXiv abstracts with n_neighbors={n_neighbors[nr_index]}\", fontsize=25)"
      ],
      "metadata": {
        "colab": {
          "base_uri": "https://localhost:8080/",
          "height": 788
        },
        "id": "x4WsJBk81CdF",
        "outputId": "292f7805-f380-4e48-b131-0c5d6c1119f8"
      },
      "execution_count": 53,
      "outputs": [
        {
          "output_type": "display_data",
          "data": {
            "text/plain": [
              "<IPython.core.display.HTML object>"
            ],
            "text/html": [
              "\n",
              "  <style>\n",
              "    pre {\n",
              "        white-space: pre-wrap;\n",
              "    }\n",
              "  </style>\n",
              "  "
            ]
          },
          "metadata": {}
        },
        {
          "output_type": "execute_result",
          "data": {
            "text/plain": [
              "Text(0.5, 1.0, 'UMAP projection of arXiv abstracts with n_neighbors=100')"
            ]
          },
          "metadata": {},
          "execution_count": 53
        },
        {
          "output_type": "display_data",
          "data": {
            "text/plain": [
              "<Figure size 1600x1000 with 1 Axes>"
            ],
            "image/png": "[encoded data removed]"
          },
          "metadata": {}
        }
      ]
    },
    {
      "cell_type": "markdown",
      "source": [
        "Let's make a more interactive plot using Plotly where we can hover over the points interactively and inspect the results in more detail."
      ],
      "metadata": {
        "id": "QDTL3tXSOgc-"
      }
    },
    {
      "cell_type": "code",
      "source": [
        "subjects_list = []\n",
        "for paper in papers_list:\n",
        "  subjects_list.append(paper[\"arxiv_topic\"])\n",
        "df_arxiv_umap[\"y_long\"] = subjects_list\n",
        "\n",
        "\n",
        "fig = px.scatter(df_arxiv_umap,\n",
        "                 x='umap-2d-one',\n",
        "                 y='umap-2d-two',\n",
        "                 color='y',\n",
        "                 color_discrete_map=color_dict_subjects, # Use your color dictionary\n",
        "                 hover_data=['y_long']) # This will show the category on hover\n",
        "\n",
        "fig.update_traces(marker=dict(size=5, opacity=0.5)) # Adjust size and opacity similar to your seaborn plot\n",
        "fig.update_layout(legend_title_text='arXiv subject') # Customize legend title\n",
        "fig.show()"
      ],
      "metadata": {
        "colab": {
          "base_uri": "https://localhost:8080/",
          "height": 542
        },
        "id": "wLTUN4eVMfAP",
        "outputId": "b3c8aeb1-e93a-471e-b380-51f01b13f481"
      },
      "execution_count": 54,
      "outputs": [
        {
          "output_type": "display_data",
          "data": {
            "text/plain": [
              "<IPython.core.display.HTML object>"
            ],
            "text/html": [
              "\n",
              "  <style>\n",
              "    pre {\n",
              "        white-space: pre-wrap;\n",
              "    }\n",
              "  </style>\n",
              "  "
            ]
          },
          "metadata": {}
        },
        {
          "output_type": "display_data",
          "data": {
            "text/html": [
              "<html>\n",
              "<head><meta charset=\"utf-8\" /></head>\n",
              "<body>\n",
              "    <div>            <script src=\"https://cdnjs.cloudflare.com/ajax/libs/mathjax/2.7.5/MathJax.js?config=TeX-AMS-MML_SVG\"></script><script type=\"text/javascript\">if (window.MathJax && window.MathJax.Hub && window.MathJax.Hub.Config) {window.MathJax.Hub.Config({SVG: {font: \"STIX-Web\"}});}</script>                <script type=\"text/javascript\">window.PlotlyConfig = {MathJaxConfig: 'local'};</script>\n",
              "        <script charset=\"utf-8\" src=\"https://cdn.plot.ly/plotly-2.24.1.min.js\"></script>                <div id=\"86b54e46-73fa-4c48-a194-16fbb188d9e5\" class=\"plotly-graph-div\" style=\"height:525px; width:100%;\"></div>            <script type=\"text/javascript\">                                    window.PLOTLYENV=window.PLOTLYENV || {};                                    if (document.getElementById(\"86b54e46-73fa-4c48-a194-16fbb188d9e5\")) {                    Plotly.newPlot(                        \"86b54e46-73fa-4c48-a194-16fbb188d9e5\",                        [{\"customdata\":[[\"Cosmology and Nongalactic Astrophysics (astro-ph.CO)\"],[\"Cosmology and Nongalactic Astrophysics (astro-ph.CO)\"],[\"Earth and Planetary Astrophysics (astro-ph.EP)\"],[\"Cosmology and Nongalactic Astrophysics (astro-ph.CO)\"],[\"Astrophysics of Galaxies (astro-ph.GA)\"],[\"High Energy Astrophysical Phenomena (astro-ph.HE)\"],[\"Instrumentation and Methods for Astrophysics (astro-ph.IM)\"],[\"Astrophysics of Galaxies (astro-ph.GA)\"],[\"Instrumentation and Methods for Astrophysics (astro-ph.IM)\"],[\"Astrophysics of Galaxies (astro-ph.GA)\"],[\"Astrophysics of Galaxies (astro-ph.GA)\"],[\"Instrumentation and Methods for Astrophysics (astro-ph.IM)\"],[\"Astrophysics of Galaxies (astro-ph.GA)\"],[\"Astrophysics of Galaxies (astro-ph.GA)\"],[\"Astrophysics of Galaxies (astro-ph.GA)\"],[\"Cosmology and Nongalactic Astrophysics (astro-ph.CO)\"],[\"Cosmology and Nongalactic Astrophysics (astro-ph.CO)\"],[\"Instrumentation and Methods for Astrophysics (astro-ph.IM)\"],[\"Astrophysics of Galaxies (astro-ph.GA)\"],[\"Astrophysics of Galaxies (astro-ph.GA)\"],[\"High Energy Astrophysical Phenomena (astro-ph.HE)\"],[\"High Energy Astrophysical Phenomena (astro-ph.HE)\"],[\"Instrumentation and Methods for Astrophysics (astro-ph.IM)\"],[\"Earth and Planetary Astrophysics (astro-ph.EP)\"],[\"Earth and Planetary Astrophysics (astro-ph.EP)\"],[\"Cosmology and Nongalactic Astrophysics (astro-ph.CO)\"],[\"High Energy Astrophysical Phenomena (astro-ph.HE)\"],[\"Solar and Stellar Astrophysics (astro-ph.SR)\"],[\"Cosmology and Nongalactic Astrophysics (astro-ph.CO)\"],[\"Instrumentation and Methods for Astrophysics (astro-ph.IM)\"],[\"High Energy Astrophysical Phenomena (astro-ph.HE)\"],[\"Astrophysics of Galaxies (astro-ph.GA)\"],[\"Earth and Planetary Astrophysics (astro-ph.EP)\"],[\"Earth and Planetary Astrophysics (astro-ph.EP)\"],[\"Earth and Planetary Astrophysics (astro-ph.EP)\"],[\"Solar and Stellar Astrophysics (astro-ph.SR)\"],[\"Solar and Stellar Astrophysics (astro-ph.SR)\"],[\"Astrophysics of Galaxies (astro-ph.GA)\"],[\"High Energy Astrophysical Phenomena (astro-ph.HE)\"],[\"Earth and Planetary Astrophysics (astro-ph.EP)\"],[\"Cosmology and Nongalactic Astrophysics (astro-ph.CO)\"],[\"High Energy Astrophysical Phenomena (astro-ph.HE)\"],[\"Solar and Stellar Astrophysics (astro-ph.SR)\"],[\"High Energy Astrophysical Phenomena (astro-ph.HE)\"],[\"Cosmology and Nongalactic Astrophysics (astro-ph.CO)\"],[\"High Energy Astrophysical Phenomena (astro-ph.HE)\"],[\"Astrophysics of Galaxies (astro-ph.GA)\"],[\"High Energy Astrophysical Phenomena (astro-ph.HE)\"],[\"Astrophysics of Galaxies (astro-ph.GA)\"],[\"Instrumentation and Methods for Astrophysics (astro-ph.IM)\"],[\"Astrophysics of Galaxies (astro-ph.GA)\"],[\"Solar and Stellar Astrophysics (astro-ph.SR)\"],[\"Earth and Planetary Astrophysics (astro-ph.EP)\"],[\"High Energy Astrophysical Phenomena (astro-ph.HE)\"],[\"Astrophysics of Galaxies (astro-ph.GA)\"],[\"Cosmology and Nongalactic Astrophysics (astro-ph.CO)\"],[\"Solar and Stellar Astrophysics (astro-ph.SR)\"],[\"High Energy Astrophysical Phenomena (astro-ph.HE)\"],[\"Astrophysics of Galaxies (astro-ph.GA)\"],[\"Solar and Stellar Astrophysics (astro-ph.SR)\"],[\"General Relativity and Quantum Cosmology (gr-qc)\"],[\"General Relativity and Quantum Cosmology (gr-qc)\"],[\"History and Philosophy of Physics (physics.hist-ph)\"],[\"Computer Vision and Pattern Recognition (cs.CV)\"],[\"General Relativity and Quantum Cosmology (gr-qc)\"],[\"Space Physics (physics.space-ph)\"],[\"Chaotic Dynamics (nlin.CD)\"],[\"General Relativity and Quantum Cosmology (gr-qc)\"],[\"General Relativity and Quantum Cosmology (gr-qc)\"],[\"General Relativity and Quantum Cosmology (gr-qc)\"],[\"High Energy Physics - Experiment (hep-ex)\"],[\"High Energy Physics - Theory (hep-th)\"],[\"Instrumentation and Detectors (physics.ins-det)\"],[\"General Relativity and Quantum Cosmology (gr-qc)\"],[\"High Energy Physics - Phenomenology (hep-ph)\"],[\"Nuclear Theory (nucl-th)\"]],\"hovertemplate\":\"y=astro-ph\\u003cbr\\u003eumap-2d-one=%{x}\\u003cbr\\u003eumap-2d-two=%{y}\\u003cbr\\u003ey_long=%{customdata[0]}\\u003cextra\\u003e\\u003c\\u002fextra\\u003e\",\"legendgroup\":\"astro-ph\",\"marker\":{\"color\":\"#9e0142\",\"symbol\":\"circle\",\"opacity\":0.5,\"size\":5},\"mode\":\"markers\",\"name\":\"astro-ph\",\"showlegend\":true,\"x\":[13.022721290588379,13.153938293457031,12.992298126220703,12.516644477844238,13.473503112792969,13.15129280090332,12.707275390625,13.405755043029785,9.632721900939941,13.457798957824707,9.25134563446045,12.687105178833008,13.876078605651855,11.117356300354004,13.103974342346191,13.340583801269531,10.910842895507812,12.906181335449219,13.462925910949707,13.350028991699219,13.87484359741211,13.500561714172363,9.299694061279297,13.39810562133789,13.41677474975586,12.909536361694336,13.573798179626465,13.572303771972656,13.213849067687988,12.172506332397461,13.4093656539917,13.666895866394043,13.152053833007812,13.216197967529297,13.136380195617676,13.510483741760254,13.397978782653809,13.375739097595215,13.538069725036621,13.412492752075195,13.274993896484375,13.918966293334961,13.58464527130127,13.41018009185791,13.729345321655273,13.61371898651123,13.295239448547363,13.721480369567871,12.76398754119873,11.649964332580566,13.49855899810791,13.400033950805664,13.434255599975586,13.464200973510742,13.610588073730469,12.95396900177002,13.273258209228516,12.814260482788086,13.508995056152344,13.592982292175293,12.9655179977417,13.013821601867676,13.318036079406738,9.3778715133667,13.64328670501709,12.93058967590332,10.32160472869873,13.266694068908691,13.143560409545898,10.809849739074707,13.888514518737793,12.74450969696045,13.422786712646484,13.209431648254395,13.765908241271973,13.627172470092773],\"xaxis\":\"x\",\"y\":[0.5046042799949646,0.3068694770336151,0.4744155704975128,1.7970396280288696,0.8085647225379944,0.3372802436351776,1.7330034971237183,0.7076141834259033,3.933332681655884,0.7330336570739746,2.8866703510284424,1.7431066036224365,0.19365519285202026,3.6597397327423096,1.35285484790802,1.0175515413284302,1.186657190322876,1.3282045125961304,0.8890449404716492,0.8106023073196411,0.19552192091941833,0.7305935621261597,2.81709885597229,0.6023363471031189,0.4783731698989868,-0.13166873157024384,0.552630603313446,0.6763015985488892,0.3824455142021179,2.174774169921875,0.43917563557624817,0.48079466819763184,0.48823609948158264,0.6576924324035645,1.2767096757888794,0.6422050595283508,1.035263180732727,0.6466236710548401,0.4960923194885254,0.4259169399738312,0.40720677375793457,-0.0375266894698143,0.677623450756073,0.25668054819107056,-0.23279157280921936,0.38433417677879333,0.34795454144477844,0.3369399309158325,0.5745097398757935,2.483754873275757,0.5570442080497742,0.7091983556747437,0.6961793899536133,0.077692411839962,0.8192305564880371,1.4158697128295898,0.7144774198532104,-0.34790027141571045,0.7716585993766785,0.5722287893295288,-0.2910352051258087,0.007790209259837866,1.071204662322998,4.127017498016357,0.12685272097587585,0.4389868378639221,0.3174579441547394,0.05116507038474083,-0.06055883318185806,3.6309430599212646,-0.1109093427658081,-0.5635359883308411,-0.11158279329538345,-0.10862568020820618,-0.207694411277771,-0.07122261822223663],\"yaxis\":\"y\",\"type\":\"scattergl\"},{\"customdata\":[[\"General Relativity and Quantum Cosmology (gr-qc)\"],[\"General Relativity and Quantum Cosmology (gr-qc)\"],[\"General Relativity and Quantum Cosmology (gr-qc)\"],[\"General Relativity and Quantum Cosmology (gr-qc)\"],[\"General Relativity and Quantum Cosmology (gr-qc)\"],[\"General Relativity and Quantum Cosmology (gr-qc)\"],[\"General Relativity and Quantum Cosmology (gr-qc)\"],[\"General Relativity and Quantum Cosmology (gr-qc)\"],[\"General Relativity and Quantum Cosmology (gr-qc)\"],[\"General Relativity and Quantum Cosmology (gr-qc)\"],[\"General Relativity and Quantum Cosmology (gr-qc)\"],[\"General Relativity and Quantum Cosmology (gr-qc)\"],[\"General Relativity and Quantum Cosmology (gr-qc)\"],[\"General Relativity and Quantum Cosmology (gr-qc)\"],[\"General Relativity and Quantum Cosmology (gr-qc)\"],[\"General Relativity and Quantum Cosmology (gr-qc)\"],[\"General Relativity and Quantum Cosmology (gr-qc)\"],[\"General Relativity and Quantum Cosmology (gr-qc)\"],[\"General Relativity and Quantum Cosmology (gr-qc)\"],[\"Cosmology and Nongalactic Astrophysics (astro-ph.CO)\"],[\"Astrophysics of Galaxies (astro-ph.GA)\"],[\"High Energy Astrophysical Phenomena (astro-ph.HE)\"],[\"High Energy Physics - Theory (hep-th)\"],[\"High Energy Physics - Theory (hep-th)\"],[\"High Energy Physics - Theory (hep-th)\"],[\"High Energy Physics - Theory (hep-th)\"],[\"High Energy Physics - Theory (hep-th)\"]],\"hovertemplate\":\"y=gr-qc\\u003cbr\\u003eumap-2d-one=%{x}\\u003cbr\\u003eumap-2d-two=%{y}\\u003cbr\\u003ey_long=%{customdata[0]}\\u003cextra\\u003e\\u003c\\u002fextra\\u003e\",\"legendgroup\":\"gr-qc\",\"marker\":{\"color\":\"#c32a4b\",\"symbol\":\"circle\",\"opacity\":0.5,\"size\":5},\"mode\":\"markers\",\"name\":\"gr-qc\",\"showlegend\":true,\"x\":[12.70399284362793,12.541205406188965,13.586785316467285,11.06596851348877,12.510839462280273,13.638877868652344,10.733732223510742,13.246920585632324,12.730762481689453,12.607256889343262,12.368643760681152,12.380000114440918,13.223888397216797,12.611201286315918,12.588160514831543,13.09370231628418,10.786029815673828,13.104790687561035,13.114255905151367,13.113877296447754,13.88217830657959,13.48730182647705,11.175066947937012,12.251337051391602,11.41024112701416,12.764030456542969,12.160676956176758],\"xaxis\":\"x\",\"y\":[-0.4664176106452942,-0.6341246962547302,0.44380882382392883,-0.508988618850708,-0.4932955205440521,0.11382989585399628,-0.35990312695503235,0.0032528641168028116,-0.44409143924713135,-0.6697577834129333,-0.5583970546722412,-0.9422722458839417,0.05111736059188843,-0.5145695209503174,-0.6317155361175537,-0.025791659951210022,3.628504991531372,-0.15671420097351074,-0.16135482490062714,0.36855295300483704,0.1729857176542282,0.3473692536354065,-1.173721432685852,-1.0889912843704224,-0.4162288308143616,-0.6694262027740479,-1.300682544708252],\"yaxis\":\"y\",\"type\":\"scattergl\"},{\"customdata\":[[\"Strongly Correlated Electrons (cond-mat.str-el)\"],[\"Strongly Correlated Electrons (cond-mat.str-el)\"],[\"Superconductivity (cond-mat.supr-con)\"],[\"Materials Science (cond-mat.mtrl-sci)\"],[\"Mesoscale and Nanoscale Physics (cond-mat.mes-hall)\"],[\"Statistical Mechanics (cond-mat.stat-mech)\"],[\"Strongly Correlated Electrons (cond-mat.str-el)\"],[\"Quantum Gases (cond-mat.quant-gas)\"],[\"Soft Condensed Matter (cond-mat.soft)\"],[\"Statistical Mechanics (cond-mat.stat-mech)\"],[\"Soft Condensed Matter (cond-mat.soft)\"],[\"Mesoscale and Nanoscale Physics (cond-mat.mes-hall)\"],[\"Materials Science (cond-mat.mtrl-sci)\"],[\"Strongly Correlated Electrons (cond-mat.str-el)\"],[\"Materials Science (cond-mat.mtrl-sci)\"],[\"Mesoscale and Nanoscale Physics (cond-mat.mes-hall)\"],[\"Statistical Mechanics (cond-mat.stat-mech)\"],[\"Mesoscale and Nanoscale Physics (cond-mat.mes-hall)\"],[\"Other Condensed Matter (cond-mat.other)\"],[\"Mesoscale and Nanoscale Physics (cond-mat.mes-hall)\"],[\"Mesoscale and Nanoscale Physics (cond-mat.mes-hall)\"],[\"Materials Science (cond-mat.mtrl-sci)\"],[\"Materials Science (cond-mat.mtrl-sci)\"],[\"Statistical Mechanics (cond-mat.stat-mech)\"],[\"Strongly Correlated Electrons (cond-mat.str-el)\"],[\"Mesoscale and Nanoscale Physics (cond-mat.mes-hall)\"],[\"Superconductivity (cond-mat.supr-con)\"],[\"Materials Science (cond-mat.mtrl-sci)\"],[\"Materials Science (cond-mat.mtrl-sci)\"],[\"Materials Science (cond-mat.mtrl-sci)\"],[\"Materials Science (cond-mat.mtrl-sci)\"],[\"Soft Condensed Matter (cond-mat.soft)\"],[\"Statistical Mechanics (cond-mat.stat-mech)\"],[\"Quantum Gases (cond-mat.quant-gas)\"],[\"Statistical Mechanics (cond-mat.stat-mech)\"],[\"Materials Science (cond-mat.mtrl-sci)\"],[\"Disordered Systems and Neural Networks (cond-mat.dis-nn)\"],[\"Strongly Correlated Electrons (cond-mat.str-el)\"],[\"Superconductivity (cond-mat.supr-con)\"],[\"Statistical Mechanics (cond-mat.stat-mech)\"],[\"Superconductivity (cond-mat.supr-con)\"],[\"Mesoscale and Nanoscale Physics (cond-mat.mes-hall)\"],[\"Strongly Correlated Electrons (cond-mat.str-el)\"],[\"Superconductivity (cond-mat.supr-con)\"],[\"Soft Condensed Matter (cond-mat.soft)\"],[\"Mesoscale and Nanoscale Physics (cond-mat.mes-hall)\"],[\"Mesoscale and Nanoscale Physics (cond-mat.mes-hall)\"],[\"Materials Science (cond-mat.mtrl-sci)\"],[\"Materials Science (cond-mat.mtrl-sci)\"],[\"Statistical Mechanics (cond-mat.stat-mech)\"],[\"Mesoscale and Nanoscale Physics (cond-mat.mes-hall)\"],[\"Mesoscale and Nanoscale Physics (cond-mat.mes-hall)\"],[\"Mesoscale and Nanoscale Physics (cond-mat.mes-hall)\"],[\"Materials Science (cond-mat.mtrl-sci)\"],[\"Materials Science (cond-mat.mtrl-sci)\"],[\"Statistical Mechanics (cond-mat.stat-mech)\"],[\"Mesoscale and Nanoscale Physics (cond-mat.mes-hall)\"],[\"Mesoscale and Nanoscale Physics (cond-mat.mes-hall)\"],[\"Soft Condensed Matter (cond-mat.soft)\"],[\"Soft Condensed Matter (cond-mat.soft)\"],[\"Mesoscale and Nanoscale Physics (cond-mat.mes-hall)\"],[\"Statistical Mechanics (cond-mat.stat-mech)\"],[\"Materials Science (cond-mat.mtrl-sci)\"],[\"Soft Condensed Matter (cond-mat.soft)\"],[\"Strongly Correlated Electrons (cond-mat.str-el)\"],[\"Materials Science (cond-mat.mtrl-sci)\"],[\"Strongly Correlated Electrons (cond-mat.str-el)\"],[\"Statistical Mechanics (cond-mat.stat-mech)\"],[\"Quantum Physics (quant-ph)\"],[\"High Energy Physics - Theory (hep-th)\"],[\"Quantum Physics (quant-ph)\"],[\"Mathematical Physics (math-ph)\"],[\"Probability (math.PR)\"],[\"Probability (math.PR)\"],[\"Biological Physics (physics.bio-ph)\"],[\"Quantum Physics (quant-ph)\"],[\"Quantum Physics (quant-ph)\"],[\"Quantum Physics (quant-ph)\"],[\"Chemical Physics (physics.chem-ph)\"],[\"Quantum Physics (quant-ph)\"],[\"Quantum Physics (quant-ph)\"],[\"Applied Physics (physics.app-ph)\"],[\"Biological Physics (physics.bio-ph)\"],[\"Biological Physics (physics.bio-ph)\"],[\"Biological Physics (physics.bio-ph)\"],[\"Biological Physics (physics.bio-ph)\"],[\"Biological Physics (physics.bio-ph)\"],[\"Machine Learning (cs.LG)\"],[\"Fluid Dynamics (physics.flu-dyn)\"],[\"Quantum Physics (quant-ph)\"],[\"Applied Physics (physics.app-ph)\"],[\"Quantum Physics (quant-ph)\"],[\"Quantum Physics (quant-ph)\"]],\"hovertemplate\":\"y=cond-mat\\u003cbr\\u003eumap-2d-one=%{x}\\u003cbr\\u003eumap-2d-two=%{y}\\u003cbr\\u003ey_long=%{customdata[0]}\\u003cextra\\u003e\\u003c\\u002fextra\\u003e\",\"legendgroup\":\"cond-mat\",\"marker\":{\"color\":\"#df4e4b\",\"symbol\":\"circle\",\"opacity\":0.5,\"size\":5},\"mode\":\"markers\",\"name\":\"cond-mat\",\"showlegend\":true,\"x\":[11.80620002746582,11.012032508850098,12.3418550491333,12.276374816894531,12.125129699707031,10.969037055969238,12.054499626159668,12.363069534301758,10.928236961364746,8.064263343811035,11.9437837600708,11.20180606842041,12.261954307556152,12.327338218688965,11.738974571228027,12.140586853027344,12.530017852783203,12.001578330993652,11.716935157775879,11.859665870666504,12.377866744995117,11.98251724243164,12.264687538146973,10.640100479125977,10.500543594360352,12.082886695861816,11.816387176513672,12.357044219970703,12.344741821289062,12.360507011413574,12.263845443725586,12.062857627868652,9.99580192565918,12.277097702026367,9.996825218200684,13.057254791259766,10.53749942779541,12.281065940856934,12.154240608215332,10.294405937194824,12.190028190612793,12.111974716186523,12.378005027770996,11.6485013961792,12.235679626464844,12.283941268920898,12.326892852783203,12.08244514465332,12.317971229553223,11.816659927368164,12.039613723754883,11.987485885620117,12.01335334777832,12.139495849609375,12.205976486206055,10.309051513671875,12.331299781799316,12.535144805908203,11.924239158630371,11.989971160888672,11.382209777832031,11.156464576721191,11.676840782165527,11.79525375366211,11.89533805847168,12.68403148651123,10.920522689819336,10.514052391052246,10.698253631591797,11.986764907836914,11.685477256774902,11.745024681091309,8.109380722045898,8.16970443725586,10.339142799377441,10.531900405883789,11.096715927124023,12.106148719787598,12.23093032836914,11.535037994384766,11.027091026306152,11.958470344543457,12.257013320922852,11.706682205200195,11.461664199829102,11.737712860107422,11.76626205444336,10.483036041259766,11.901947975158691,11.321484565734863,12.472691535949707,10.875785827636719,10.62491512298584],\"xaxis\":\"x\",\"y\":[-1.1365454196929932,-0.9167364835739136,0.20106294751167297,0.2877494990825653,0.5773850679397583,0.22750455141067505,0.3364742696285248,0.15278072655200958,1.166945219039917,-0.20680207014083862,0.31279924511909485,-0.9382585287094116,0.16279560327529907,0.2602636516094208,1.027593731880188,0.672850489616394,-0.3191085159778595,0.47846248745918274,-0.11663392186164856,0.6334711313247681,0.0958443209528923,-0.20706571638584137,0.4276759922504425,-0.14833465218544006,0.8395965099334717,0.7820562124252319,-0.20078283548355103,0.49396008253097534,0.42321813106536865,0.28200799226760864,0.4245213270187378,0.21954262256622314,-0.24028384685516357,-0.622048556804657,-0.6721736192703247,0.05098636820912361,-0.5226181745529175,0.18971343338489532,0.46814417839050293,-0.6456491947174072,0.659746527671814,0.5461340546607971,0.23860225081443787,0.178867369890213,0.08125369250774384,0.4647674858570099,0.14474810659885406,-0.3223367929458618,0.7993378043174744,0.22730153799057007,0.6148122549057007,-0.7031596302986145,0.5371801257133484,0.8447596430778503,0.6621968746185303,-0.8145346641540527,0.2665277421474457,0.1672392189502716,0.08548480272293091,-0.02801889181137085,-0.5983908176422119,-0.7655397057533264,0.21826303005218506,0.27776649594306946,-1.2374505996704102,0.046092163771390915,-0.7529173493385315,0.9373259544372559,0.5356353521347046,-1.3976517915725708,-0.7333791255950928,-1.0420563220977783,-0.23341144621372223,-0.2736303210258484,-0.013902438804507256,-0.0638718232512474,0.5223304033279419,0.43837442994117737,-0.828955352306366,0.3652767539024353,-0.3609520494937897,0.35222387313842773,0.12175500392913818,-0.3337743580341339,-0.32804062962532043,-0.45280495285987854,-0.43372294306755066,0.04983258619904518,-0.0301792174577713,-0.6997902393341064,0.0832858681678772,-0.12668000161647797,-0.5832378268241882],\"yaxis\":\"y\",\"type\":\"scattergl\"},{\"customdata\":[[\"Quantum Physics (quant-ph)\"],[\"Quantum Physics (quant-ph)\"],[\"Quantum Physics (quant-ph)\"],[\"Quantum Physics (quant-ph)\"],[\"Quantum Physics (quant-ph)\"],[\"Quantum Physics (quant-ph)\"],[\"Quantum Physics (quant-ph)\"],[\"Quantum Physics (quant-ph)\"],[\"Quantum Physics (quant-ph)\"],[\"Quantum Physics (quant-ph)\"],[\"Quantum Physics (quant-ph)\"],[\"Quantum Physics (quant-ph)\"],[\"Quantum Physics (quant-ph)\"],[\"Quantum Physics (quant-ph)\"],[\"Quantum Physics (quant-ph)\"],[\"Quantum Physics (quant-ph)\"],[\"Quantum Physics (quant-ph)\"],[\"Quantum Physics (quant-ph)\"],[\"Quantum Physics (quant-ph)\"],[\"Quantum Physics (quant-ph)\"],[\"Quantum Physics (quant-ph)\"],[\"Quantum Physics (quant-ph)\"],[\"Quantum Physics (quant-ph)\"],[\"Quantum Physics (quant-ph)\"],[\"Quantum Physics (quant-ph)\"],[\"Quantum Physics (quant-ph)\"],[\"Quantum Physics (quant-ph)\"],[\"Quantum Physics (quant-ph)\"],[\"Quantum Physics (quant-ph)\"],[\"Quantum Physics (quant-ph)\"],[\"Quantum Physics (quant-ph)\"],[\"Quantum Physics (quant-ph)\"],[\"Quantum Physics (quant-ph)\"],[\"Quantum Physics (quant-ph)\"],[\"Quantum Physics (quant-ph)\"],[\"Quantum Physics (quant-ph)\"],[\"Quantum Physics (quant-ph)\"],[\"Quantum Physics (quant-ph)\"],[\"Quantum Physics (quant-ph)\"],[\"Quantum Physics (quant-ph)\"],[\"Quantum Physics (quant-ph)\"],[\"Quantum Physics (quant-ph)\"],[\"Combinatorics (math.CO)\"],[\"High Energy Physics - Phenomenology (hep-ph)\"],[\"Operator Algebras (math.OA)\"],[\"Mesoscale and Nanoscale Physics (cond-mat.mes-hall)\"],[\"High Energy Physics - Theory (hep-th)\"],[\"Statistical Mechanics (cond-mat.stat-mech)\"],[\"Superconductivity (cond-mat.supr-con)\"],[\"Optics (physics.optics)\"],[\"General Relativity and Quantum Cosmology (gr-qc)\"],[\"Materials Science (cond-mat.mtrl-sci)\"],[\"High Energy Physics - Theory (hep-th)\"],[\"Statistical Mechanics (cond-mat.stat-mech)\"],[\"Strongly Correlated Electrons (cond-mat.str-el)\"],[\"Combinatorics (math.CO)\"]],\"hovertemplate\":\"y=quant-ph\\u003cbr\\u003eumap-2d-one=%{x}\\u003cbr\\u003eumap-2d-two=%{y}\\u003cbr\\u003ey_long=%{customdata[0]}\\u003cextra\\u003e\\u003c\\u002fextra\\u003e\",\"legendgroup\":\"quant-ph\",\"marker\":{\"color\":\"#f46d43\",\"symbol\":\"circle\",\"opacity\":0.5,\"size\":5},\"mode\":\"markers\",\"name\":\"quant-ph\",\"showlegend\":true,\"x\":[10.672618865966797,11.162480354309082,10.849444389343262,10.922225952148438,11.705985069274902,12.054481506347656,10.16715145111084,10.460914611816406,11.066054344177246,10.701752662658691,10.857126235961914,11.431368827819824,12.35321044921875,11.183265686035156,11.450640678405762,11.856752395629883,11.1137056350708,11.475909233093262,11.95812702178955,11.503706932067871,11.08324909210205,11.184120178222656,10.985750198364258,11.213502883911133,11.21861743927002,11.317132949829102,11.864180564880371,11.161786079406738,10.909272193908691,11.347335815429688,10.828661918640137,10.851116180419922,10.899781227111816,8.12960147857666,11.390254974365234,8.164076805114746,10.551374435424805,10.981791496276855,10.532691955566406,11.719572067260742,8.085509300231934,11.940767288208008,11.1280517578125,11.709210395812988,10.828872680664062,12.372393608093262,11.100122451782227,10.686986923217773,11.785501480102539,12.035784721374512,12.431087493896484,12.301159858703613,11.375177383422852,11.215575218200684,10.9057035446167,10.72541618347168],\"xaxis\":\"x\",\"y\":[0.5135610699653625,-0.07998455315828323,0.4325680136680603,0.5240715146064758,-0.8127284049987793,0.17900682985782623,0.12878814339637756,-0.07715762406587601,0.5781883597373962,-0.5161029696464539,0.18223218619823456,0.10222440958023071,0.5401877164840698,0.4137595295906067,0.048942930996418,0.4525408148765564,0.5082100033760071,-0.43707698583602905,0.497620165348053,0.3347800374031067,-0.328985333442688,-0.43608930706977844,0.0029867663979530334,-0.4439886212348938,-0.7848091721534729,-0.8142416477203369,-0.6926184296607971,-0.6066184043884277,0.5847944021224976,-0.687835693359375,0.7448104619979858,0.24004527926445007,-0.08046340942382812,3.565067768096924,-0.04879143461585045,3.5778820514678955,-0.6211719512939453,-0.3530175983905792,0.8345118165016174,-0.8563424944877625,3.5504772663116455,0.4583607316017151,-0.6125672459602356,-0.2306203991174698,-2.1136112213134766,0.00587062444537878,-1.1302767992019653,-0.12645798921585083,-0.1522788405418396,0.5529594421386719,-0.47658878564834595,0.7516436576843262,-0.48502302169799805,-0.7667637467384338,-0.7397291660308838,-0.9332044720649719],\"yaxis\":\"y\",\"type\":\"scattergl\"},{\"customdata\":[[\"High Energy Physics - Theory (hep-th)\"],[\"High Energy Physics - Theory (hep-th)\"],[\"High Energy Physics - Theory (hep-th)\"],[\"High Energy Physics - Theory (hep-th)\"],[\"High Energy Physics - Theory (hep-th)\"],[\"High Energy Physics - Theory (hep-th)\"],[\"High Energy Physics - Theory (hep-th)\"],[\"High Energy Physics - Theory (hep-th)\"],[\"High Energy Physics - Theory (hep-th)\"],[\"High Energy Physics - Theory (hep-th)\"],[\"High Energy Physics - Theory (hep-th)\"],[\"High Energy Physics - Theory (hep-th)\"],[\"High Energy Physics - Theory (hep-th)\"],[\"High Energy Physics - Theory (hep-th)\"],[\"High Energy Physics - Theory (hep-th)\"],[\"High Energy Physics - Theory (hep-th)\"],[\"High Energy Physics - Theory (hep-th)\"],[\"High Energy Physics - Theory (hep-th)\"],[\"High Energy Physics - Theory (hep-th)\"],[\"High Energy Physics - Theory (hep-th)\"],[\"General Relativity and Quantum Cosmology (gr-qc)\"],[\"High Energy Physics - Phenomenology (hep-ph)\"],[\"Quantum Physics (quant-ph)\"],[\"Strongly Correlated Electrons (cond-mat.str-el)\"],[\"General Relativity and Quantum Cosmology (gr-qc)\"],[\"Strongly Correlated Electrons (cond-mat.str-el)\"],[\"Quantum Physics (quant-ph)\"],[\"General Relativity and Quantum Cosmology (gr-qc)\"],[\"General Relativity and Quantum Cosmology (gr-qc)\"],[\"Quantum Physics (quant-ph)\"],[\"High Energy Physics - Phenomenology (hep-ph)\"],[\"Quantum Physics (quant-ph)\"],[\"General Relativity and Quantum Cosmology (gr-qc)\"],[\"History and Philosophy of Physics (physics.hist-ph)\"],[\"General Relativity and Quantum Cosmology (gr-qc)\"],[\"Symplectic Geometry (math.SG)\"],[\"General Relativity and Quantum Cosmology (gr-qc)\"],[\"Mesoscale and Nanoscale Physics (cond-mat.mes-hall)\"],[\"High Energy Physics - Lattice (hep-lat)\"],[\"High Energy Physics - Phenomenology (hep-ph)\"],[\"Strongly Correlated Electrons (cond-mat.str-el)\"],[\"High Energy Physics - Phenomenology (hep-ph)\"],[\"High Energy Physics - Phenomenology (hep-ph)\"],[\"Representation Theory (math.RT)\"],[\"High Energy Physics - Phenomenology (hep-ph)\"]],\"hovertemplate\":\"y=hep-th\\u003cbr\\u003eumap-2d-one=%{x}\\u003cbr\\u003eumap-2d-two=%{y}\\u003cbr\\u003ey_long=%{customdata[0]}\\u003cextra\\u003e\\u003c\\u002fextra\\u003e\",\"legendgroup\":\"hep-th\",\"marker\":{\"color\":\"#fa9857\",\"symbol\":\"circle\",\"opacity\":0.5,\"size\":5},\"mode\":\"markers\",\"name\":\"hep-th\",\"showlegend\":true,\"x\":[12.141721725463867,12.1781587600708,12.196138381958008,11.864319801330566,10.722915649414062,12.291524887084961,11.366344451904297,11.984804153442383,11.18132209777832,11.427570343017578,12.516983032226562,12.279541015625,11.626155853271484,11.888277053833008,11.73166275024414,11.469563484191895,12.7655668258667,12.239981651306152,11.950825691223145,12.221869468688965,12.949945449829102,13.944147109985352,11.082865715026855,11.842827796936035,12.559789657592773,10.926534652709961,11.746529579162598,13.660493850708008,10.623238563537598,11.127311706542969,13.03317642211914,11.00772762298584,12.670746803283691,11.508597373962402,12.607272148132324,11.456451416015625,13.075756072998047,12.019033432006836,12.253085136413574,13.037031173706055,12.002894401550293,13.78315258026123,13.167106628417969,10.910687446594238,12.037500381469727],\"xaxis\":\"x\",\"y\":[-0.888649582862854,-0.9987089037895203,-1.1302547454833984,-1.4698609113693237,-0.6224519610404968,-1.1147762537002563,-0.4023929536342621,-1.3598971366882324,-1.1667146682739258,-2.1553735733032227,-0.8506337404251099,-1.1061789989471436,-1.46690034866333,-1.7603063583374023,-1.942402720451355,-0.5461767911911011,-0.7237537503242493,-1.1170343160629272,-1.1201071739196777,-1.2054531574249268,-0.04338672384619713,-0.058250997215509415,-0.029544509947299957,-1.1352310180664062,-0.5984402298927307,-0.9383172988891602,-0.6683533191680908,0.16508488357067108,-0.30205366015434265,-0.38231801986694336,-1.1740927696228027,-0.11976473778486252,-0.44646087288856506,-0.398588091135025,-0.6378713250160217,-2.309131145477295,-0.17714542150497437,-0.5960414409637451,-1.281048059463501,-1.145146369934082,-1.3782813549041748,-0.20276682078838348,-1.046594262123108,-2.5001585483551025,-0.6371747255325317],\"yaxis\":\"y\",\"type\":\"scattergl\"},{\"customdata\":[[\"High Energy Physics - Phenomenology (hep-ph)\"],[\"High Energy Physics - Phenomenology (hep-ph)\"],[\"High Energy Physics - Phenomenology (hep-ph)\"],[\"High Energy Physics - Phenomenology (hep-ph)\"],[\"High Energy Physics - Phenomenology (hep-ph)\"],[\"High Energy Physics - Phenomenology (hep-ph)\"],[\"High Energy Physics - Phenomenology (hep-ph)\"],[\"High Energy Physics - Phenomenology (hep-ph)\"],[\"High Energy Physics - Phenomenology (hep-ph)\"],[\"High Energy Physics - Phenomenology (hep-ph)\"],[\"High Energy Physics - Phenomenology (hep-ph)\"],[\"High Energy Physics - Phenomenology (hep-ph)\"],[\"High Energy Physics - Phenomenology (hep-ph)\"],[\"High Energy Physics - Phenomenology (hep-ph)\"],[\"High Energy Physics - Phenomenology (hep-ph)\"],[\"High Energy Physics - Phenomenology (hep-ph)\"],[\"High Energy Physics - Phenomenology (hep-ph)\"],[\"High Energy Physics - Phenomenology (hep-ph)\"],[\"High Energy Physics - Phenomenology (hep-ph)\"],[\"High Energy Physics - Phenomenology (hep-ph)\"],[\"High Energy Physics - Phenomenology (hep-ph)\"],[\"General Relativity and Quantum Cosmology (gr-qc)\"],[\"Astrophysics of Galaxies (astro-ph.GA)\"],[\"High Energy Physics - Theory (hep-th)\"],[\"High Energy Astrophysical Phenomena (astro-ph.HE)\"],[\"High Energy Physics - Theory (hep-th)\"],[\"High Energy Astrophysical Phenomena (astro-ph.HE)\"],[\"Quantum Physics (quant-ph)\"],[\"Nuclear Theory (nucl-th)\"],[\"High Energy Physics - Lattice (hep-lat)\"],[\"Quantum Physics (quant-ph)\"],[\"High Energy Physics - Theory (hep-th)\"]],\"hovertemplate\":\"y=hep-ph\\u003cbr\\u003eumap-2d-one=%{x}\\u003cbr\\u003eumap-2d-two=%{y}\\u003cbr\\u003ey_long=%{customdata[0]}\\u003cextra\\u003e\\u003c\\u002fextra\\u003e\",\"legendgroup\":\"hep-ph\",\"marker\":{\"color\":\"#fdbf6f\",\"symbol\":\"circle\",\"opacity\":0.5,\"size\":5},\"mode\":\"markers\",\"name\":\"hep-ph\",\"showlegend\":true,\"x\":[13.957718849182129,13.678194046020508,13.344447135925293,13.598370552062988,13.68783950805664,13.793476104736328,13.714759826660156,13.28118896484375,13.149662017822266,11.578682899475098,13.699895858764648,13.74499797821045,13.029460906982422,13.558622360229492,13.046257972717285,13.141568183898926,13.1012601852417,13.07342529296875,13.823875427246094,13.286772727966309,11.994193077087402,12.96811294555664,13.926530838012695,11.938638687133789,13.909358978271484,12.426658630371094,13.991994857788086,8.132941246032715,12.64698600769043,12.814417839050293,8.118585586547852,12.224364280700684],\"xaxis\":\"x\",\"y\":[-0.08831708878278732,-0.654376745223999,-0.7897762656211853,-0.7056786417961121,-0.8145689368247986,-0.4800758957862854,-0.42044249176979065,-0.9090112447738647,-0.9125574827194214,-0.15501408278942108,-0.7844391465187073,-0.7492380738258362,-1.083876132965088,-0.7778612375259399,-1.0618702173233032,-1.0854876041412354,-1.0675756931304932,-1.1253410577774048,-0.17275913059711456,-0.9992220401763916,-0.6619842648506165,-0.05377088114619255,0.21410733461380005,-1.4836993217468262,0.200542613863945,-0.907624363899231,-0.03301018103957176,3.5969831943511963,-1.1359453201293945,-1.2934480905532837,3.567573070526123,-1.2808382511138916],\"yaxis\":\"y\",\"type\":\"scattergl\"},{\"customdata\":[[\"High Energy Physics - Experiment (hep-ex)\"],[\"High Energy Physics - Experiment (hep-ex)\"],[\"High Energy Physics - Experiment (hep-ex)\"],[\"High Energy Physics - Experiment (hep-ex)\"],[\"High Energy Physics - Phenomenology (hep-ph)\"],[\"High Energy Physics - Phenomenology (hep-ph)\"],[\"High Energy Physics - Phenomenology (hep-ph)\"],[\"High Energy Physics - Phenomenology (hep-ph)\"]],\"hovertemplate\":\"y=hep-ex\\u003cbr\\u003eumap-2d-one=%{x}\\u003cbr\\u003eumap-2d-two=%{y}\\u003cbr\\u003ey_long=%{customdata[0]}\\u003cextra\\u003e\\u003c\\u002fextra\\u003e\",\"legendgroup\":\"hep-ex\",\"marker\":{\"color\":\"#fee08b\",\"symbol\":\"circle\",\"opacity\":0.5,\"size\":5},\"mode\":\"markers\",\"name\":\"hep-ex\",\"showlegend\":true,\"x\":[13.876792907714844,13.758233070373535,13.772977828979492,13.87929916381836,14.044233322143555,13.78734016418457,13.670291900634766,13.739816665649414],\"xaxis\":\"x\",\"y\":[-0.4614035189151764,-0.3389955163002014,-0.5666160583496094,-0.04284573718905449,-0.07155227661132812,-0.67763352394104,-0.8311803340911865,-0.7847404479980469],\"yaxis\":\"y\",\"type\":\"scattergl\"},{\"customdata\":[[\"High Energy Physics - Lattice (hep-lat)\"],[\"High Energy Physics - Lattice (hep-lat)\"],[\"High Energy Physics - Lattice (hep-lat)\"],[\"High Energy Physics - Lattice (hep-lat)\"],[\"High Energy Physics - Lattice (hep-lat)\"],[\"High Energy Physics - Lattice (hep-lat)\"],[\"High Energy Physics - Lattice (hep-lat)\"],[\"Quantum Physics (quant-ph)\"],[\"Strongly Correlated Electrons (cond-mat.str-el)\"],[\"Strongly Correlated Electrons (cond-mat.str-el)\"],[\"Quantum Physics (quant-ph)\"]],\"hovertemplate\":\"y=hep-lat\\u003cbr\\u003eumap-2d-one=%{x}\\u003cbr\\u003eumap-2d-two=%{y}\\u003cbr\\u003ey_long=%{customdata[0]}\\u003cextra\\u003e\\u003c\\u002fextra\\u003e\",\"legendgroup\":\"hep-lat\",\"marker\":{\"color\":\"#fff5ae\",\"symbol\":\"circle\",\"opacity\":0.5,\"size\":5},\"mode\":\"markers\",\"name\":\"hep-lat\",\"showlegend\":true,\"x\":[12.795795440673828,10.701888084411621,12.734249114990234,12.719346046447754,12.268863677978516,12.873272895812988,12.81181812286377,11.177722930908203,11.887747764587402,10.580774307250977,11.823648452758789],\"xaxis\":\"x\",\"y\":[-1.3304299116134644,-1.215972661972046,-1.037194848060608,-0.8352153301239014,-1.2975496053695679,-1.3350107669830322,-0.9658014178276062,-0.10850988328456879,-1.1666691303253174,0.73818439245224,-0.8772088885307312],\"yaxis\":\"y\",\"type\":\"scattergl\"},{\"customdata\":[[\"Nuclear Experiment (nucl-ex)\"],[\"Nuclear Experiment (nucl-ex)\"],[\"Nuclear Theory (nucl-th)\"],[\"Instrumentation and Detectors (physics.ins-det)\"],[\"Instrumentation and Detectors (physics.ins-det)\"],[\"Instrumentation and Detectors (physics.ins-det)\"],[\"Instrumentation and Detectors (physics.ins-det)\"],[\"Nuclear Theory (nucl-th)\"],[\"Instrumentation and Detectors (physics.ins-det)\"],[\"Nuclear Theory (nucl-th)\"],[\"High Energy Physics - Phenomenology (hep-ph)\"],[\"Nuclear Theory (nucl-th)\"],[\"History and Philosophy of Physics (physics.hist-ph)\"],[\"High Energy Physics - Experiment (hep-ex)\"]],\"hovertemplate\":\"y=nucl-ex\\u003cbr\\u003eumap-2d-one=%{x}\\u003cbr\\u003eumap-2d-two=%{y}\\u003cbr\\u003ey_long=%{customdata[0]}\\u003cextra\\u003e\\u003c\\u002fextra\\u003e\",\"legendgroup\":\"nucl-ex\",\"marker\":{\"color\":\"#f7fcb2\",\"symbol\":\"circle\",\"opacity\":0.5,\"size\":5},\"mode\":\"markers\",\"name\":\"nucl-ex\",\"showlegend\":true,\"x\":[13.434130668640137,13.361227989196777,12.861639976501465,13.580465316772461,13.628570556640625,12.090245246887207,13.589710235595703,12.784544944763184,13.631645202636719,12.924286842346191,13.316774368286133,10.419357299804688,13.621058464050293,13.616385459899902],\"xaxis\":\"x\",\"y\":[-0.4683530330657959,-0.6481955647468567,-0.8943319320678711,-0.46481215953826904,-0.31689053773880005,1.0638437271118164,-0.2815290689468384,-0.9341483116149902,-0.3983846604824066,-0.7010751962661743,-0.8656651973724365,1.5387920141220093,-0.3992671072483063,-0.7337144017219543],\"yaxis\":\"y\",\"type\":\"scattergl\"},{\"customdata\":[[\"Nuclear Theory (nucl-th)\"],[\"Nuclear Theory (nucl-th)\"],[\"Nuclear Theory (nucl-th)\"],[\"High Energy Physics - Phenomenology (hep-ph)\"],[\"Quantum Gases (cond-mat.quant-gas)\"],[\"High Energy Physics - Phenomenology (hep-ph)\"],[\"High Energy Physics - Phenomenology (hep-ph)\"],[\"High Energy Physics - Lattice (hep-lat)\"],[\"General Relativity and Quantum Cosmology (gr-qc)\"],[\"High Energy Physics - Lattice (hep-lat)\"],[\"High Energy Physics - Phenomenology (hep-ph)\"]],\"hovertemplate\":\"y=nucl-th\\u003cbr\\u003eumap-2d-one=%{x}\\u003cbr\\u003eumap-2d-two=%{y}\\u003cbr\\u003ey_long=%{customdata[0]}\\u003cextra\\u003e\\u003c\\u002fextra\\u003e\",\"legendgroup\":\"nucl-th\",\"marker\":{\"color\":\"#e6f598\",\"symbol\":\"circle\",\"opacity\":0.5,\"size\":5},\"mode\":\"markers\",\"name\":\"nucl-th\",\"showlegend\":true,\"x\":[12.989892959594727,12.792549133300781,13.651325225830078,13.228693962097168,12.218120574951172,13.040359497070312,13.054574012756348,12.845233917236328,13.154995918273926,12.740452766418457,12.059264183044434],\"xaxis\":\"x\",\"y\":[-0.6046738028526306,-1.1350524425506592,-0.12615874409675598,-0.8154950737953186,-0.6816702485084534,-1.1889450550079346,-1.0603302717208862,-1.2957664728164673,-0.1252397745847702,-1.023471713066101,-0.613949179649353],\"yaxis\":\"y\",\"type\":\"scattergl\"},{\"customdata\":[[\"Chaotic Dynamics (nlin.CD)\"],[\"Chaotic Dynamics (nlin.CD)\"],[\"Pattern Formation and Solitons (nlin.PS)\"],[\"Exactly Solvable and Integrable Systems (nlin.SI)\"],[\"Systems and Control (eess.SY)\"],[\"Astrophysics of Galaxies (astro-ph.GA)\"],[\"Analysis of PDEs (math.AP)\"],[\"Dynamical Systems (math.DS)\"]],\"hovertemplate\":\"y=nlin\\u003cbr\\u003eumap-2d-one=%{x}\\u003cbr\\u003eumap-2d-two=%{y}\\u003cbr\\u003ey_long=%{customdata[0]}\\u003cextra\\u003e\\u003c\\u002fextra\\u003e\",\"legendgroup\":\"nlin\",\"marker\":{\"color\":\"#bfe5a0\",\"symbol\":\"circle\",\"opacity\":0.5,\"size\":5},\"mode\":\"markers\",\"name\":\"nlin\",\"showlegend\":true,\"x\":[12.083189964294434,10.382542610168457,11.456924438476562,10.977261543273926,10.227457046508789,9.208115577697754,10.486946105957031,10.75632095336914],\"xaxis\":\"x\",\"y\":[-0.14560312032699585,0.276102215051651,1.1534266471862793,-2.3562896251678467,0.8029320240020752,2.9495272636413574,-1.6611878871917725,-1.7314529418945312],\"yaxis\":\"y\",\"type\":\"scattergl\"},{\"customdata\":[[\"Mathematical Physics (math-ph)\"],[\"Mathematical Physics (math-ph)\"],[\"Mathematical Physics (math-ph)\"],[\"Chaotic Dynamics (nlin.CD)\"],[\"Probability (math.PR)\"],[\"Probability (math.PR)\"],[\"Statistical Mechanics (cond-mat.stat-mech)\"],[\"Analysis of PDEs (math.AP)\"],[\"Quantum Physics (quant-ph)\"],[\"Analysis of PDEs (math.AP)\"],[\"Analysis of PDEs (math.AP)\"],[\"Differential Geometry (math.DG)\"],[\"Symplectic Geometry (math.SG)\"],[\"Spectral Theory (math.SP)\"],[\"Exactly Solvable and Integrable Systems (nlin.SI)\"],[\"Statistical Mechanics (cond-mat.stat-mech)\"],[\"Quantum Physics (quant-ph)\"],[\"Mesoscale and Nanoscale Physics (cond-mat.mes-hall)\"],[\"Analysis of PDEs (math.AP)\"],[\"Representation Theory (math.RT)\"]],\"hovertemplate\":\"y=math-ph\\u003cbr\\u003eumap-2d-one=%{x}\\u003cbr\\u003eumap-2d-two=%{y}\\u003cbr\\u003ey_long=%{customdata[0]}\\u003cextra\\u003e\\u003c\\u002fextra\\u003e\",\"legendgroup\":\"math-ph\",\"marker\":{\"color\":\"#94d4a4\",\"symbol\":\"circle\",\"opacity\":0.5,\"size\":5},\"mode\":\"markers\",\"name\":\"math-ph\",\"showlegend\":true,\"x\":[11.761754035949707,10.055312156677246,11.838583946228027,12.056530952453613,8.107403755187988,8.12844467163086,8.087845802307129,11.407541275024414,11.09122085571289,10.52665901184082,10.461524963378906,11.544234275817871,11.188741683959961,10.48117446899414,10.963985443115234,10.253866195678711,10.586175918579102,11.442314147949219,11.731816291809082,10.899112701416016],\"xaxis\":\"x\",\"y\":[-1.0394184589385986,-0.5528305768966675,-1.1919175386428833,-0.09750446677207947,-0.27525439858436584,-0.23273862898349762,-0.23579248785972595,-1.5137689113616943,-0.3274635374546051,-1.731305480003357,-1.4240591526031494,-2.048410415649414,-2.0973410606384277,-1.6854310035705566,-2.3365745544433594,-0.8203570246696472,-0.6640001535415649,-0.7031829357147217,-1.5515581369400024,-2.585057258605957],\"yaxis\":\"y\",\"type\":\"scattergl\"},{\"customdata\":[[\"Logic (math.LO)\"],[\"Logic (math.LO)\"],[\"Logic (math.LO)\"],[\"Logic (math.LO)\"],[\"Probability (math.PR)\"],[\"Combinatorics (math.CO)\"],[\"Algebraic Geometry (math.AG)\"],[\"Differential Geometry (math.DG)\"],[\"Spectral Theory (math.SP)\"],[\"Numerical Analysis (math.NA)\"],[\"Algebraic Geometry (math.AG)\"],[\"Mathematical Physics (math-ph)\"],[\"Geometric Topology (math.GT)\"],[\"Optimization and Control (math.OC)\"],[\"Information Theory (cs.IT)\"],[\"Group Theory (math.GR)\"],[\"Combinatorics (math.CO)\"],[\"Classical Analysis and ODEs (math.CA)\"],[\"Analysis of PDEs (math.AP)\"],[\"Probability (math.PR)\"],[\"General Topology (math.GN)\"],[\"Probability (math.PR)\"],[\"Combinatorics (math.CO)\"],[\"Quantum Algebra (math.QA)\"],[\"Representation Theory (math.RT)\"],[\"Numerical Analysis (math.NA)\"],[\"Probability (math.PR)\"],[\"Optimization and Control (math.OC)\"],[\"Analysis of PDEs (math.AP)\"],[\"Algebraic Geometry (math.AG)\"],[\"Combinatorics (math.CO)\"],[\"Dynamical Systems (math.DS)\"],[\"Probability (math.PR)\"],[\"Information Theory (cs.IT)\"],[\"Information Theory (cs.IT)\"],[\"Statistics Theory (math.ST)\"],[\"Dynamical Systems (math.DS)\"],[\"Category Theory (math.CT)\"],[\"Commutative Algebra (math.AC)\"],[\"Differential Geometry (math.DG)\"],[\"Analysis of PDEs (math.AP)\"],[\"Optimization and Control (math.OC)\"],[\"Information Theory (cs.IT)\"],[\"Optimization and Control (math.OC)\"],[\"Combinatorics (math.CO)\"],[\"Differential Geometry (math.DG)\"],[\"Combinatorics (math.CO)\"],[\"Operator Algebras (math.OA)\"],[\"Optimization and Control (math.OC)\"],[\"Probability (math.PR)\"],[\"Symplectic Geometry (math.SG)\"],[\"Statistics Theory (math.ST)\"],[\"Combinatorics (math.CO)\"],[\"Algebraic Topology (math.AT)\"],[\"Combinatorics (math.CO)\"],[\"Combinatorics (math.CO)\"],[\"Optimization and Control (math.OC)\"],[\"Combinatorics (math.CO)\"],[\"Numerical Analysis (math.NA)\"],[\"Analysis of PDEs (math.AP)\"],[\"Combinatorics (math.CO)\"],[\"Algebraic Geometry (math.AG)\"],[\"Dynamical Systems (math.DS)\"],[\"Optimization and Control (math.OC)\"],[\"Analysis of PDEs (math.AP)\"],[\"Information Theory (cs.IT)\"],[\"Statistics Theory (math.ST)\"],[\"Optimization and Control (math.OC)\"],[\"Numerical Analysis (math.NA)\"],[\"Information Theory (cs.IT)\"],[\"Information Theory (cs.IT)\"],[\"Optimization and Control (math.OC)\"],[\"Number Theory (math.NT)\"],[\"Analysis of PDEs (math.AP)\"],[\"Dynamical Systems (math.DS)\"],[\"Optimization and Control (math.OC)\"],[\"Category Theory (math.CT)\"],[\"Algebraic Geometry (math.AG)\"],[\"Analysis of PDEs (math.AP)\"],[\"Analysis of PDEs (math.AP)\"],[\"Information Theory (cs.IT)\"],[\"Probability (math.PR)\"],[\"Analysis of PDEs (math.AP)\"],[\"Group Theory (math.GR)\"],[\"Analysis of PDEs (math.AP)\"],[\"Information Theory (cs.IT)\"],[\"Optimization and Control (math.OC)\"],[\"Optimization and Control (math.OC)\"],[\"Analysis of PDEs (math.AP)\"],[\"Optimization and Control (math.OC)\"],[\"Information Theory (cs.IT)\"],[\"Optimization and Control (math.OC)\"],[\"Dynamical Systems (math.DS)\"],[\"Mathematical Physics (math-ph)\"],[\"Numerical Analysis (math.NA)\"],[\"Differential Geometry (math.DG)\"],[\"Numerical Analysis (math.NA)\"],[\"Analysis of PDEs (math.AP)\"],[\"Differential Geometry (math.DG)\"],[\"Symplectic Geometry (math.SG)\"],[\"Information Theory (cs.IT)\"],[\"Symplectic Geometry (math.SG)\"],[\"Symplectic Geometry (math.SG)\"],[\"Optimization and Control (math.OC)\"],[\"Number Theory (math.NT)\"],[\"Number Theory (math.NT)\"],[\"Analysis of PDEs (math.AP)\"],[\"Combinatorics (math.CO)\"],[\"Combinatorics (math.CO)\"],[\"Numerical Analysis (math.NA)\"],[\"Number Theory (math.NT)\"],[\"Rings and Algebras (math.RA)\"],[\"Analysis of PDEs (math.AP)\"],[\"Information Theory (cs.IT)\"],[\"Logic (math.LO)\"],[\"Optimization and Control (math.OC)\"],[\"Information Theory (cs.IT)\"],[\"Number Theory (math.NT)\"],[\"Number Theory (math.NT)\"],[\"Metric Geometry (math.MG)\"],[\"Number Theory (math.NT)\"],[\"Analysis of PDEs (math.AP)\"],[\"Analysis of PDEs (math.AP)\"],[\"Differential Geometry (math.DG)\"],[\"Analysis of PDEs (math.AP)\"],[\"Optimization and Control (math.OC)\"],[\"Analysis of PDEs (math.AP)\"],[\"Representation Theory (math.RT)\"],[\"Algebraic Topology (math.AT)\"],[\"Functional Analysis (math.FA)\"],[\"Dynamical Systems (math.DS)\"],[\"Optimization and Control (math.OC)\"],[\"Numerical Analysis (math.NA)\"],[\"Analysis of PDEs (math.AP)\"],[\"Classical Analysis and ODEs (math.CA)\"],[\"Statistics Theory (math.ST)\"],[\"Numerical Analysis (math.NA)\"],[\"Analysis of PDEs (math.AP)\"],[\"Commutative Algebra (math.AC)\"],[\"Dynamical Systems (math.DS)\"],[\"Metric Geometry (math.MG)\"],[\"Category Theory (math.CT)\"],[\"Analysis of PDEs (math.AP)\"],[\"Combinatorics (math.CO)\"],[\"Spectral Theory (math.SP)\"],[\"Geometric Topology (math.GT)\"],[\"Numerical Analysis (math.NA)\"],[\"Numerical Analysis (math.NA)\"],[\"Statistics Theory (math.ST)\"],[\"Information Theory (cs.IT)\"],[\"Mathematical Physics (math-ph)\"],[\"Category Theory (math.CT)\"],[\"Number Theory (math.NT)\"],[\"Probability (math.PR)\"],[\"Combinatorics (math.CO)\"],[\"K-Theory and Homology (math.KT)\"],[\"Functional Analysis (math.FA)\"],[\"Combinatorics (math.CO)\"],[\"Differential Geometry (math.DG)\"],[\"Dynamical Systems (math.DS)\"],[\"Functional Analysis (math.FA)\"],[\"Information Theory (cs.IT)\"],[\"Optimization and Control (math.OC)\"],[\"Algebraic Geometry (math.AG)\"],[\"Differential Geometry (math.DG)\"],[\"Operator Algebras (math.OA)\"],[\"Combinatorics (math.CO)\"],[\"Combinatorics (math.CO)\"],[\"Analysis of PDEs (math.AP)\"],[\"Differential Geometry (math.DG)\"],[\"Category Theory (math.CT)\"],[\"Numerical Analysis (math.NA)\"],[\"Combinatorics (math.CO)\"],[\"Functional Analysis (math.FA)\"],[\"Information Theory (cs.IT)\"],[\"Analysis of PDEs (math.AP)\"],[\"Combinatorics (math.CO)\"],[\"Combinatorics (math.CO)\"],[\"Number Theory (math.NT)\"],[\"Algebraic Topology (math.AT)\"],[\"Number Theory (math.NT)\"],[\"Representation Theory (math.RT)\"],[\"Information Theory (cs.IT)\"],[\"Information Theory (cs.IT)\"],[\"Discrete Mathematics (cs.DM)\"],[\"Systems and Control (eess.SY)\"],[\"Systems and Control (eess.SY)\"],[\"Chaotic Dynamics (nlin.CD)\"],[\"Methodology (stat.ME)\"],[\"Machine Learning (cs.LG)\"],[\"Systems and Control (eess.SY)\"],[\"Machine Learning (cs.LG)\"],[\"Robotics (cs.RO)\"],[\"Machine Learning (cs.LG)\"],[\"Quantum Physics (quant-ph)\"],[\"Machine Learning (cs.LG)\"],[\"Statistical Mechanics (cond-mat.stat-mech)\"],[\"Systems and Control (eess.SY)\"],[\"Data Structures and Algorithms (cs.DS)\"],[\"Systems and Control (eess.SY)\"],[\"Mathematical Finance (q-fin.MF)\"],[\"Methodology (stat.ME)\"],[\"High Energy Physics - Theory (hep-th)\"],[\"Quantum Physics (quant-ph)\"],[\"Image and Video Processing (eess.IV)\"],[\"Systems and Control (eess.SY)\"],[\"Machine Learning (cs.LG)\"],[\"Methodology (stat.ME)\"],[\"Machine Learning (stat.ML)\"],[\"Signal Processing (eess.SP)\"],[\"Systems and Control (eess.SY)\"],[\"Machine Learning (stat.ML)\"],[\"Exactly Solvable and Integrable Systems (nlin.SI)\"],[\"Machine Learning (stat.ML)\"],[\"Statistical Mechanics (cond-mat.stat-mech)\"],[\"Quantum Physics (quant-ph)\"],[\"Quantum Physics (quant-ph)\"],[\"Fluid Dynamics (physics.flu-dyn)\"],[\"Mesoscale and Nanoscale Physics (cond-mat.mes-hall)\"],[\"Systems and Control (eess.SY)\"],[\"Logic in Computer Science (cs.LO)\"],[\"Machine Learning (cs.LG)\"]],\"hovertemplate\":\"y=math\\u003cbr\\u003eumap-2d-one=%{x}\\u003cbr\\u003eumap-2d-two=%{y}\\u003cbr\\u003ey_long=%{customdata[0]}\\u003cextra\\u003e\\u003c\\u002fextra\\u003e\",\"legendgroup\":\"math\",\"marker\":{\"color\":\"#66c2a5\",\"symbol\":\"circle\",\"opacity\":0.5,\"size\":5},\"mode\":\"markers\",\"name\":\"math\",\"showlegend\":true,\"x\":[11.110529899597168,11.17379379272461,11.083999633789062,10.924854278564453,10.180914878845215,10.656396865844727,10.58545207977295,11.475902557373047,10.975768089294434,10.631677627563477,11.129698753356934,11.702841758728027,10.644694328308105,10.23766803741455,9.7908935546875,10.909467697143555,10.533455848693848,10.332594871520996,10.08185863494873,8.135123252868652,11.213478088378906,8.109031677246094,10.677823066711426,11.089574813842773,10.778787612915039,10.989947319030762,11.7459716796875,9.329889297485352,10.481983184814453,11.029170989990234,11.168357849121094,10.667074203491211,11.439458847045898,11.412949562072754,10.914005279541016,8.985233306884766,11.315403938293457,11.055058479309082,11.044816017150879,11.520849227905273,10.40255069732666,9.53204345703125,9.126529693603516,9.799893379211426,10.339234352111816,11.358793258666992,9.861123085021973,10.787249565124512,9.483646392822266,10.027703285217285,11.490114212036133,8.986892700195312,10.528229713439941,11.368099212646484,10.9755277633667,10.604303359985352,9.744872093200684,10.508570671081543,9.560152053833008,11.413511276245117,10.75532341003418,10.910447120666504,10.31060791015625,10.692692756652832,11.451909065246582,9.832387924194336,9.47523307800293,10.356049537658691,9.839363098144531,11.310318946838379,11.259943962097168,9.004291534423828,11.128327369689941,10.119558334350586,9.437020301818848,10.417943954467773,11.108478546142578,11.112192153930664,10.673517227172852,10.525006294250488,11.304701805114746,8.224092483520508,11.33706283569336,10.85380744934082,10.30212688446045,11.376331329345703,9.557971954345703,9.725381851196289,10.04818058013916,9.363545417785645,10.645242691040039,9.201621055603027,10.85599136352539,10.046748161315918,9.790584564208984,11.613201141357422,10.090424537658691,10.369455337524414,11.624055862426758,11.35619831085205,10.544074058532715,11.461861610412598,11.450870513916016,9.378357887268066,10.757526397705078,10.844780921936035,11.320928573608398,10.25662899017334,9.987918853759766,9.910056114196777,10.596879959106445,10.987960815429688,10.414169311523438,11.420126914978027,10.95268440246582,8.656660079956055,11.367084503173828,10.949584007263184,10.577018737792969,11.407135963439941,10.849512100219727,10.180567741394043,11.04539966583252,11.621482849121094,11.129500389099121,10.220735549926758,11.567706108093262,10.758599281311035,11.3735990524292,10.973092079162598,10.143638610839844,8.831710815429688,10.087908744812012,11.406776428222656,10.509418487548828,9.183931350708008,10.414271354675293,10.21327018737793,10.500740051269531,10.453690528869629,10.920731544494629,11.211947441101074,10.171506881713867,10.825165748596191,10.46161937713623,11.547396659851074,9.906466484069824,9.737316131591797,9.402523040771484,9.770541191101074,11.6972017288208,11.310506820678711,10.077249526977539,10.309967041015625,10.344904899597168,11.325834274291992,10.4891939163208,10.403680801391602,11.493338584899902,11.78355884552002,10.701533317565918,10.89512825012207,10.114748001098633,10.638097763061523,11.486828804016113,10.934544563293457,10.243368148803711,10.231209754943848,10.481742858886719,11.345460891723633,10.909025192260742,9.796195983886719,10.006441116333008,10.459665298461914,9.845282554626465,11.736881256103516,10.434172630310059,10.70154857635498,10.293695449829102,11.156254768371582,9.963656425476074,10.90520191192627,10.353684425354004,10.019639015197754,10.509078979492188,8.458333969116211,8.4017333984375,12.093092918395996,8.977309226989746,8.482970237731934,8.537698745727539,9.529690742492676,10.051379203796387,9.432631492614746,10.210918426513672,9.898198127746582,8.07246208190918,9.767459869384766,9.943663597106934,8.601031303405762,9.4505033493042,8.965731620788574,11.552762031555176,11.075272560119629,12.530848503112793,8.490762710571289,9.301446914672852,8.866918563842773,8.800176620483398,11.344365119934082,9.857841491699219,9.889001846313477,10.874618530273438,8.777730941772461,10.332293510437012,10.465849876403809,10.9017972946167,10.094866752624512,11.38333511352539,8.57015323638916,10.625777244567871,9.964435577392578],\"xaxis\":\"x\",\"y\":[-1.4424972534179688,-1.478184461593628,-1.5315933227539062,-2.564448833465576,-0.1441386342048645,-2.211243152618408,-2.163102865219116,-2.30269718170166,-0.8664042353630066,1.8598816394805908,-2.3100638389587402,-1.0425097942352295,-2.2743093967437744,-1.8034743070602417,0.7483950853347778,-2.4500391483306885,-0.12624315917491913,-1.6525894403457642,-1.0784951448440552,-0.2800307869911194,-2.4863431453704834,-0.2269284725189209,-2.4387433528900146,-2.517042398452759,-2.3673415184020996,0.911963939666748,-0.8222782015800476,1.0049560070037842,-1.5961730480194092,-2.3475420475006104,-0.5870603919029236,-1.7539113759994507,-1.853049874305725,2.5820798873901367,2.600712299346924,-0.7583220601081848,-1.8322961330413818,-2.1496613025665283,-2.435939311981201,-2.1813085079193115,-1.8500479459762573,-0.08407633751630783,4.707043170928955,2.496870517730713,-1.930106520652771,-1.910701870918274,-1.4811118841171265,-2.112614631652832,-0.17914165556430817,-0.096765898168087,-2.1432743072509766,0.26549890637397766,-2.1456708908081055,-2.375628709793091,-1.550458550453186,-1.479321837425232,0.05865953862667084,-1.4834847450256348,-0.15846803784370422,-1.5128965377807617,-1.819095492362976,-2.0373685359954834,1.9403859376907349,2.6698050498962402,-1.5772274732589722,3.2964398860931396,0.3437419533729553,-1.0627917051315308,-0.9816988110542297,2.7359941005706787,2.6622395515441895,2.3543648719787598,-2.330836296081543,-1.1162896156311035,0.7551081776618958,-1.9230101108551025,-2.1875014305114746,-2.3370201587677,-1.8435453176498413,-1.6965327262878418,2.7334048748016357,-0.3449390232563019,-1.7261786460876465,-2.4178056716918945,-1.3458269834518433,2.7524898052215576,0.4379795789718628,-1.1226062774658203,-1.6276609897613525,0.05038297176361084,0.32920780777931213,0.05932199954986572,-2.1898412704467773,-0.4671652019023895,-1.190138816833496,-2.014195680618286,-1.0039465427398682,-1.6989728212356567,-1.7025152444839478,-2.0631184577941895,0.5797681212425232,-2.203108787536621,-2.4077093601226807,2.1470284461975098,-2.3043341636657715,-2.1664373874664307,-1.6256507635116577,-1.9376294612884521,-1.5927079916000366,1.136307954788208,-2.4209208488464355,-2.495854616165161,-1.5513936281204224,2.6747195720672607,-1.9919655323028564,1.2304593324661255,3.6749532222747803,-2.4489362239837646,-2.3807928562164307,-2.3547770977020264,-2.4917068481445312,-1.78965425491333,-1.658144474029541,-2.2093312740325928,-1.7643917798995972,-1.7982815504074097,-1.5293891429901123,-2.170175075531006,-2.035933494567871,-2.18306827545166,0.21701452136039734,2.602095365524292,-1.1604540348052979,-1.7481950521469116,-2.2425384521484375,-0.09528934210538864,0.23526476323604584,-1.85292649269104,-2.335026502609253,-1.6236777305603027,-1.6629880666732788,-2.51598858833313,-1.527532696723938,-2.4131128787994385,-1.775752305984497,-2.2598607540130615,-1.4435909986495972,-1.1009587049484253,-0.2667211890220642,0.5182904601097107,-1.1582112312316895,-2.528045177459717,-2.042970657348633,-0.6483571529388428,-1.695716381072998,-1.9674251079559326,-2.0736312866210938,-1.5251303911209106,-2.2427144050598145,0.150278240442276,-2.2814934253692627,2.71295428276062,-0.3022861182689667,-2.3133959770202637,-2.145994186401367,-2.4940695762634277,-1.9525723457336426,-2.089057207107544,-1.8043888807296753,-2.2396562099456787,-2.547757387161255,-1.1843628883361816,-0.6016397476196289,-2.0269813537597656,2.220142364501953,-1.5416014194488525,-1.7688649892807007,-0.9482222199440002,-2.0867557525634766,-2.336068868637085,-1.6756117343902588,-2.5648741722106934,5.513885498046875,3.277109384536743,-1.1428452730178833,1.4058575630187988,1.3617990016937256,-0.1176009401679039,-0.7281253337860107,3.5158634185791016,1.5175951719284058,3.911412477493286,1.719328761100769,2.2587881088256836,0.06729394942522049,3.1746485233306885,-0.22353045642375946,2.3320536613464355,-1.6312421560287476,1.8682971000671387,0.9909762740135193,-0.7589327096939087,-2.171339750289917,-0.3193884789943695,1.9715862274169922,1.6851027011871338,-0.2068450003862381,0.8122796416282654,2.7283520698547363,2.7051022052764893,2.4269790649414062,0.2342774122953415,-2.474566698074341,3.207451105117798,-0.9097650051116943,-0.63209468126297,-0.28088483214378357,1.061028242111206,-0.6554432511329651,1.9072846174240112,-1.1339218616485596,2.565295696258545],\"yaxis\":\"y\",\"type\":\"scattergl\"},{\"customdata\":[[\"Graphics (cs.GR)\"],[\"Systems and Control (eess.SY)\"],[\"Systems and Control (eess.SY)\"],[\"Machine Learning (cs.LG)\"],[\"Systems and Control (eess.SY)\"],[\"Systems and Control (eess.SY)\"],[\"Computer Vision and Pattern Recognition (cs.CV)\"],[\"Computer Vision and Pattern Recognition (cs.CV)\"],[\"Computational Complexity (cs.CC)\"],[\"Computer Vision and Pattern Recognition (cs.CV)\"],[\"Systems and Control (eess.SY)\"],[\"Computer Vision and Pattern Recognition (cs.CV)\"],[\"Machine Learning (cs.LG)\"],[\"Computer Vision and Pattern Recognition (cs.CV)\"],[\"Computer Vision and Pattern Recognition (cs.CV)\"],[\"Computer Vision and Pattern Recognition (cs.CV)\"],[\"Systems and Control (eess.SY)\"],[\"Computer Vision and Pattern Recognition (cs.CV)\"],[\"Computer Vision and Pattern Recognition (cs.CV)\"],[\"Computer Vision and Pattern Recognition (cs.CV)\"],[\"Machine Learning (cs.LG)\"],[\"Computer Vision and Pattern Recognition (cs.CV)\"],[\"Computer Vision and Pattern Recognition (cs.CV)\"],[\"Computer Vision and Pattern Recognition (cs.CV)\"],[\"Computer Vision and Pattern Recognition (cs.CV)\"],[\"Machine Learning (cs.LG)\"],[\"Computer Vision and Pattern Recognition (cs.CV)\"],[\"Machine Learning (cs.LG)\"],[\"Machine Learning (cs.LG)\"],[\"Computer Vision and Pattern Recognition (cs.CV)\"],[\"Computer Vision and Pattern Recognition (cs.CV)\"],[\"Computer Vision and Pattern Recognition (cs.CV)\"],[\"Computer Vision and Pattern Recognition (cs.CV)\"],[\"Programming Languages (cs.PL)\"],[\"Machine Learning (cs.LG)\"],[\"Computer Vision and Pattern Recognition (cs.CV)\"],[\"Computer Vision and Pattern Recognition (cs.CV)\"],[\"Computer Vision and Pattern Recognition (cs.CV)\"],[\"Systems and Control (eess.SY)\"],[\"Computer Vision and Pattern Recognition (cs.CV)\"],[\"Computer Vision and Pattern Recognition (cs.CV)\"],[\"Computer Vision and Pattern Recognition (cs.CV)\"],[\"Robotics (cs.RO)\"],[\"Systems and Control (eess.SY)\"],[\"Computer Vision and Pattern Recognition (cs.CV)\"],[\"Machine Learning (cs.LG)\"],[\"Machine Learning (cs.LG)\"],[\"Computation and Language (cs.CL)\"],[\"Machine Learning (cs.LG)\"],[\"Computation and Language (cs.CL)\"],[\"Machine Learning (cs.LG)\"],[\"Numerical Analysis (math.NA)\"],[\"Computers and Society (cs.CY)\"],[\"Computation and Language (cs.CL)\"],[\"Robotics (cs.RO)\"],[\"Human-Computer Interaction (cs.HC)\"],[\"Human-Computer Interaction (cs.HC)\"],[\"Machine Learning (cs.LG)\"],[\"Computation and Language (cs.CL)\"],[\"Robotics (cs.RO)\"],[\"Robotics (cs.RO)\"],[\"Software Engineering (cs.SE)\"],[\"Machine Learning (cs.LG)\"],[\"Machine Learning (cs.LG)\"],[\"Computation and Language (cs.CL)\"],[\"Computer Vision and Pattern Recognition (cs.CV)\"],[\"Computer Vision and Pattern Recognition (cs.CV)\"],[\"Networking and Internet Architecture (cs.NI)\"],[\"Computer Vision and Pattern Recognition (cs.CV)\"],[\"Machine Learning (cs.LG)\"],[\"Systems and Control (eess.SY)\"],[\"Robotics (cs.RO)\"],[\"Information Theory (cs.IT)\"],[\"Computer Vision and Pattern Recognition (cs.CV)\"],[\"Machine Learning (cs.LG)\"],[\"Computer Vision and Pattern Recognition (cs.CV)\"],[\"Computer Vision and Pattern Recognition (cs.CV)\"],[\"Cryptography and Security (cs.CR)\"],[\"Systems and Control (eess.SY)\"],[\"Machine Learning (cs.LG)\"],[\"Computer Vision and Pattern Recognition (cs.CV)\"],[\"Computer Vision and Pattern Recognition (cs.CV)\"],[\"Numerical Analysis (math.NA)\"],[\"Computer Vision and Pattern Recognition (cs.CV)\"],[\"Logic in Computer Science (cs.LO)\"],[\"Computers and Society (cs.CY)\"],[\"Social and Information Networks (cs.SI)\"],[\"Cryptography and Security (cs.CR)\"],[\"Robotics (cs.RO)\"],[\"Systems and Control (eess.SY)\"],[\"Machine Learning (cs.LG)\"],[\"Machine Learning (cs.LG)\"],[\"Computer Science and Game Theory (cs.GT)\"],[\"Computation and Language (cs.CL)\"],[\"Distributed, Parallel, and Cluster Computing (cs.DC)\"],[\"Data Structures and Algorithms (cs.DS)\"],[\"Computation and Language (cs.CL)\"],[\"Computer Vision and Pattern Recognition (cs.CV)\"],[\"Computation and Language (cs.CL)\"],[\"Robotics (cs.RO)\"],[\"Databases (cs.DB)\"],[\"Computer Vision and Pattern Recognition (cs.CV)\"],[\"Computer Vision and Pattern Recognition (cs.CV)\"],[\"Digital Libraries (cs.DL)\"],[\"Computer Vision and Pattern Recognition (cs.CV)\"],[\"Information Theory (cs.IT)\"],[\"Computer Vision and Pattern Recognition (cs.CV)\"],[\"Computer Vision and Pattern Recognition (cs.CV)\"],[\"Emerging Technologies (cs.ET)\"],[\"Information Theory (cs.IT)\"],[\"Distributed, Parallel, and Cluster Computing (cs.DC)\"],[\"Software Engineering (cs.SE)\"],[\"Machine Learning (cs.LG)\"],[\"Robotics (cs.RO)\"],[\"Robotics (cs.RO)\"],[\"Machine Learning (cs.LG)\"],[\"Computer Vision and Pattern Recognition (cs.CV)\"],[\"Machine Learning (cs.LG)\"],[\"Computation and Language (cs.CL)\"],[\"Computer Vision and Pattern Recognition (cs.CV)\"],[\"Computer Vision and Pattern Recognition (cs.CV)\"],[\"Computation and Language (cs.CL)\"],[\"Machine Learning (cs.LG)\"],[\"Machine Learning (cs.LG)\"],[\"Machine Learning (cs.LG)\"],[\"Robotics (cs.RO)\"],[\"Information Retrieval (cs.IR)\"],[\"Computation and Language (cs.CL)\"],[\"Computer Vision and Pattern Recognition (cs.CV)\"],[\"Computational Complexity (cs.CC)\"],[\"Information Theory (cs.IT)\"],[\"Computer Vision and Pattern Recognition (cs.CV)\"],[\"Computation and Language (cs.CL)\"],[\"Logic in Computer Science (cs.LO)\"],[\"Computer Vision and Pattern Recognition (cs.CV)\"],[\"Computer Vision and Pattern Recognition (cs.CV)\"],[\"Multimedia (cs.MM)\"],[\"Information Retrieval (cs.IR)\"],[\"Machine Learning (cs.LG)\"],[\"Multimedia (cs.MM)\"],[\"Human-Computer Interaction (cs.HC)\"],[\"Software Engineering (cs.SE)\"],[\"Computer Vision and Pattern Recognition (cs.CV)\"],[\"Computer Vision and Pattern Recognition (cs.CV)\"],[\"Computer Vision and Pattern Recognition (cs.CV)\"],[\"Systems and Control (eess.SY)\"],[\"Computer Vision and Pattern Recognition (cs.CV)\"],[\"Computer Vision and Pattern Recognition (cs.CV)\"],[\"Digital Libraries (cs.DL)\"],[\"Computer Vision and Pattern Recognition (cs.CV)\"],[\"Computer Vision and Pattern Recognition (cs.CV)\"],[\"Robotics (cs.RO)\"],[\"Computer Vision and Pattern Recognition (cs.CV)\"],[\"Computer Vision and Pattern Recognition (cs.CV)\"],[\"Computer Vision and Pattern Recognition (cs.CV)\"],[\"Data Structures and Algorithms (cs.DS)\"],[\"Computer Vision and Pattern Recognition (cs.CV)\"],[\"Computer Vision and Pattern Recognition (cs.CV)\"],[\"Computer Vision and Pattern Recognition (cs.CV)\"],[\"Robotics (cs.RO)\"],[\"Computer Vision and Pattern Recognition (cs.CV)\"],[\"Numerical Analysis (math.NA)\"],[\"Machine Learning (cs.LG)\"],[\"Computer Vision and Pattern Recognition (cs.CV)\"],[\"Information Theory (cs.IT)\"],[\"Cryptography and Security (cs.CR)\"],[\"Systems and Control (eess.SY)\"],[\"Computer Vision and Pattern Recognition (cs.CV)\"],[\"Robotics (cs.RO)\"],[\"Computer Vision and Pattern Recognition (cs.CV)\"],[\"Computer Vision and Pattern Recognition (cs.CV)\"],[\"Numerical Analysis (math.NA)\"],[\"Information Theory (cs.IT)\"],[\"Computer Science and Game Theory (cs.GT)\"],[\"Emerging Technologies (cs.ET)\"],[\"Machine Learning (cs.LG)\"],[\"Information Theory (cs.IT)\"],[\"Computer Vision and Pattern Recognition (cs.CV)\"],[\"Computers and Society (cs.CY)\"],[\"Distributed, Parallel, and Cluster Computing (cs.DC)\"],[\"Computation and Language (cs.CL)\"],[\"Robotics (cs.RO)\"],[\"Machine Learning (cs.LG)\"],[\"Computer Vision and Pattern Recognition (cs.CV)\"],[\"Computer Vision and Pattern Recognition (cs.CV)\"],[\"Computer Vision and Pattern Recognition (cs.CV)\"],[\"Computation and Language (cs.CL)\"],[\"Computational Geometry (cs.CG)\"],[\"Human-Computer Interaction (cs.HC)\"],[\"Computer Vision and Pattern Recognition (cs.CV)\"],[\"Computer Vision and Pattern Recognition (cs.CV)\"],[\"Systems and Control (eess.SY)\"],[\"Information Theory (cs.IT)\"],[\"Machine Learning (cs.LG)\"],[\"Multiagent Systems (cs.MA)\"],[\"Computation and Language (cs.CL)\"],[\"Computer Vision and Pattern Recognition (cs.CV)\"],[\"Computer Vision and Pattern Recognition (cs.CV)\"],[\"Computer Vision and Pattern Recognition (cs.CV)\"],[\"Computer Vision and Pattern Recognition (cs.CV)\"],[\"Robotics (cs.RO)\"],[\"Information Theory (cs.IT)\"],[\"Computer Vision and Pattern Recognition (cs.CV)\"],[\"Human-Computer Interaction (cs.HC)\"],[\"Computer Science and Game Theory (cs.GT)\"],[\"Networking and Internet Architecture (cs.NI)\"],[\"Information Theory (cs.IT)\"],[\"Computer Vision and Pattern Recognition (cs.CV)\"],[\"Machine Learning (cs.LG)\"],[\"Computer Vision and Pattern Recognition (cs.CV)\"],[\"Cryptography and Security (cs.CR)\"],[\"Machine Learning (cs.LG)\"],[\"Software Engineering (cs.SE)\"],[\"Software Engineering (cs.SE)\"],[\"Computer Vision and Pattern Recognition (cs.CV)\"],[\"Computer Vision and Pattern Recognition (cs.CV)\"],[\"Software Engineering (cs.SE)\"],[\"Software Engineering (cs.SE)\"],[\"Machine Learning (cs.LG)\"],[\"Software Engineering (cs.SE)\"],[\"Machine Learning (cs.LG)\"],[\"Numerical Analysis (math.NA)\"],[\"Computation and Language (cs.CL)\"],[\"Robotics (cs.RO)\"],[\"Numerical Analysis (math.NA)\"],[\"Human-Computer Interaction (cs.HC)\"],[\"Computation and Language (cs.CL)\"],[\"Computer Vision and Pattern Recognition (cs.CV)\"],[\"Neural and Evolutionary Computing (cs.NE)\"],[\"Social and Information Networks (cs.SI)\"],[\"Information Theory (cs.IT)\"],[\"Computer Vision and Pattern Recognition (cs.CV)\"],[\"Robotics (cs.RO)\"],[\"Computer Vision and Pattern Recognition (cs.CV)\"],[\"Machine Learning (cs.LG)\"],[\"Computer Vision and Pattern Recognition (cs.CV)\"],[\"Machine Learning (cs.LG)\"],[\"Information Retrieval (cs.IR)\"],[\"Sound (cs.SD)\"],[\"Computer Vision and Pattern Recognition (cs.CV)\"],[\"Computer Vision and Pattern Recognition (cs.CV)\"],[\"Human-Computer Interaction (cs.HC)\"],[\"Machine Learning (cs.LG)\"],[\"Cryptography and Security (cs.CR)\"],[\"Machine Learning (cs.LG)\"],[\"Programming Languages (cs.PL)\"],[\"Computer Vision and Pattern Recognition (cs.CV)\"],[\"Robotics (cs.RO)\"],[\"Numerical Analysis (math.NA)\"],[\"Computer Vision and Pattern Recognition (cs.CV)\"],[\"Cryptography and Security (cs.CR)\"],[\"Computer Vision and Pattern Recognition (cs.CV)\"],[\"Information Theory (cs.IT)\"],[\"Social and Information Networks (cs.SI)\"],[\"Cryptography and Security (cs.CR)\"],[\"Machine Learning (cs.LG)\"],[\"Information Retrieval (cs.IR)\"],[\"Machine Learning (cs.LG)\"],[\"Machine Learning (cs.LG)\"],[\"Information Theory (cs.IT)\"],[\"Machine Learning (cs.LG)\"],[\"Computer Vision and Pattern Recognition (cs.CV)\"],[\"Computer Vision and Pattern Recognition (cs.CV)\"],[\"Computational Engineering, Finance, and Science (cs.CE)\"],[\"Computation and Language (cs.CL)\"],[\"Computer Vision and Pattern Recognition (cs.CV)\"],[\"Machine Learning (cs.LG)\"],[\"Computer Vision and Pattern Recognition (cs.CV)\"],[\"Machine Learning (cs.LG)\"],[\"Computation and Language (cs.CL)\"],[\"Machine Learning (cs.LG)\"],[\"Computer Vision and Pattern Recognition (cs.CV)\"],[\"Distributed, Parallel, and Cluster Computing (cs.DC)\"],[\"Machine Learning (cs.LG)\"],[\"Numerical Analysis (math.NA)\"],[\"Sound (cs.SD)\"],[\"Computer Vision and Pattern Recognition (cs.CV)\"],[\"Computer Vision and Pattern Recognition (cs.CV)\"],[\"Computation and Language (cs.CL)\"],[\"Computer Vision and Pattern Recognition (cs.CV)\"],[\"Computer Vision and Pattern Recognition (cs.CV)\"],[\"Numerical Analysis (math.NA)\"],[\"Computer Vision and Pattern Recognition (cs.CV)\"],[\"Computational Engineering, Finance, and Science (cs.CE)\"],[\"Computer Vision and Pattern Recognition (cs.CV)\"],[\"Computer Vision and Pattern Recognition (cs.CV)\"],[\"Computer Vision and Pattern Recognition (cs.CV)\"],[\"Robotics (cs.RO)\"],[\"Social and Information Networks (cs.SI)\"],[\"Systems and Control (eess.SY)\"],[\"Artificial Intelligence (cs.AI)\"],[\"Computer Vision and Pattern Recognition (cs.CV)\"],[\"Systems and Control (eess.SY)\"],[\"Computer Vision and Pattern Recognition (cs.CV)\"],[\"Computer Vision and Pattern Recognition (cs.CV)\"],[\"Computer Vision and Pattern Recognition (cs.CV)\"],[\"Hardware Architecture (cs.AR)\"],[\"Numerical Analysis (math.NA)\"],[\"Numerical Analysis (math.NA)\"],[\"Computation and Language (cs.CL)\"],[\"Distributed, Parallel, and Cluster Computing (cs.DC)\"],[\"Computer Vision and Pattern Recognition (cs.CV)\"],[\"Artificial Intelligence (cs.AI)\"],[\"Computer Vision and Pattern Recognition (cs.CV)\"],[\"Computer Vision and Pattern Recognition (cs.CV)\"],[\"Computer Vision and Pattern Recognition (cs.CV)\"],[\"Information Theory (cs.IT)\"],[\"Social and Information Networks (cs.SI)\"],[\"Cryptography and Security (cs.CR)\"],[\"Computer Vision and Pattern Recognition (cs.CV)\"],[\"Social and Information Networks (cs.SI)\"],[\"Hardware Architecture (cs.AR)\"],[\"Distributed, Parallel, and Cluster Computing (cs.DC)\"],[\"Computer Vision and Pattern Recognition (cs.CV)\"],[\"Machine Learning (cs.LG)\"],[\"Robotics (cs.RO)\"],[\"Computer Vision and Pattern Recognition (cs.CV)\"],[\"Computation and Language (cs.CL)\"],[\"Machine Learning (cs.LG)\"],[\"Social and Information Networks (cs.SI)\"],[\"Computer Vision and Pattern Recognition (cs.CV)\"],[\"Computation and Language (cs.CL)\"],[\"Computation and Language (cs.CL)\"],[\"Distributed, Parallel, and Cluster Computing (cs.DC)\"],[\"Machine Learning (cs.LG)\"],[\"Information Retrieval (cs.IR)\"],[\"Programming Languages (cs.PL)\"],[\"Computer Vision and Pattern Recognition (cs.CV)\"],[\"Computation and Language (cs.CL)\"],[\"Machine Learning (cs.LG)\"],[\"Systems and Control (eess.SY)\"],[\"Computation and Language (cs.CL)\"],[\"Logic in Computer Science (cs.LO)\"],[\"Systems and Control (eess.SY)\"],[\"Computation and Language (cs.CL)\"],[\"Machine Learning (cs.LG)\"],[\"Machine Learning (cs.LG)\"],[\"Machine Learning (cs.LG)\"],[\"Computer Vision and Pattern Recognition (cs.CV)\"],[\"Computation and Language (cs.CL)\"],[\"Computation and Language (cs.CL)\"],[\"Information Theory (cs.IT)\"],[\"Computer Vision and Pattern Recognition (cs.CV)\"],[\"Computer Vision and Pattern Recognition (cs.CV)\"],[\"Software Engineering (cs.SE)\"],[\"Machine Learning (cs.LG)\"],[\"Computer Vision and Pattern Recognition (cs.CV)\"],[\"Computer Vision and Pattern Recognition (cs.CV)\"],[\"Computation and Language (cs.CL)\"],[\"Machine Learning (cs.LG)\"],[\"Numerical Analysis (math.NA)\"],[\"Machine Learning (cs.LG)\"],[\"Neural and Evolutionary Computing (cs.NE)\"],[\"Information Theory (cs.IT)\"],[\"Computer Science and Game Theory (cs.GT)\"],[\"Computer Vision and Pattern Recognition (cs.CV)\"],[\"Computer Vision and Pattern Recognition (cs.CV)\"],[\"Computer Vision and Pattern Recognition (cs.CV)\"],[\"Computation and Language (cs.CL)\"],[\"Machine Learning (cs.LG)\"],[\"Machine Learning (cs.LG)\"],[\"Computer Vision and Pattern Recognition (cs.CV)\"],[\"Computer Vision and Pattern Recognition (cs.CV)\"],[\"Computation and Language (cs.CL)\"],[\"Computer Vision and Pattern Recognition (cs.CV)\"],[\"Computer Vision and Pattern Recognition (cs.CV)\"],[\"Machine Learning (cs.LG)\"],[\"Information Theory (cs.IT)\"],[\"Computer Vision and Pattern Recognition (cs.CV)\"],[\"Machine Learning (cs.LG)\"],[\"Information Theory (cs.IT)\"],[\"Computer Vision and Pattern Recognition (cs.CV)\"],[\"Machine Learning (cs.LG)\"],[\"Graphics (cs.GR)\"],[\"Computer Vision and Pattern Recognition (cs.CV)\"],[\"Computer Vision and Pattern Recognition (cs.CV)\"],[\"Computer Vision and Pattern Recognition (cs.CV)\"],[\"Computer Vision and Pattern Recognition (cs.CV)\"],[\"Computer Vision and Pattern Recognition (cs.CV)\"],[\"Computer Vision and Pattern Recognition (cs.CV)\"],[\"Computer Vision and Pattern Recognition (cs.CV)\"],[\"Computer Vision and Pattern Recognition (cs.CV)\"],[\"Computer Vision and Pattern Recognition (cs.CV)\"],[\"Computer Vision and Pattern Recognition (cs.CV)\"],[\"Computer Vision and Pattern Recognition (cs.CV)\"],[\"Optimization and Control (math.OC)\"],[\"Instrumentation and Methods for Astrophysics (astro-ph.IM)\"],[\"Audio and Speech Processing (eess.AS)\"],[\"Logic (math.LO)\"],[\"Chemical Physics (physics.chem-ph)\"],[\"Atmospheric and Oceanic Physics (physics.ao-ph)\"],[\"Genomics (q-bio.GN)\"],[\"Genomics (q-bio.GN)\"],[\"Signal Processing (eess.SP)\"],[\"Molecular Networks (q-bio.MN)\"],[\"Quantitative Methods (q-bio.QM)\"],[\"Instrumentation and Methods for Astrophysics (astro-ph.IM)\"],[\"Instrumentation and Methods for Astrophysics (astro-ph.IM)\"],[\"Instrumentation and Methods for Astrophysics (astro-ph.IM)\"],[\"Fluid Dynamics (physics.flu-dyn)\"],[\"Analysis of PDEs (math.AP)\"],[\"Probability (math.PR)\"],[\"Instrumentation and Methods for Astrophysics (astro-ph.IM)\"],[\"Probability (math.PR)\"],[\"Image and Video Processing (eess.IV)\"],[\"Statistical Mechanics (cond-mat.stat-mech)\"],[\"Quantum Physics (quant-ph)\"],[\"General Finance (q-fin.GN)\"],[\"Quantum Physics (quant-ph)\"],[\"Image and Video Processing (eess.IV)\"],[\"Audio and Speech Processing (eess.AS)\"],[\"Optimization and Control (math.OC)\"],[\"Instrumentation and Methods for Astrophysics (astro-ph.IM)\"],[\"Image and Video Processing (eess.IV)\"],[\"Image and Video Processing (eess.IV)\"],[\"Machine Learning (stat.ML)\"],[\"Image and Video Processing (eess.IV)\"],[\"Combinatorics (math.CO)\"],[\"Image and Video Processing (eess.IV)\"],[\"Atmospheric and Oceanic Physics (physics.ao-ph)\"],[\"Dynamical Systems (math.DS)\"],[\"Optimization and Control (math.OC)\"],[\"Geophysics (physics.geo-ph)\"],[\"Neurons and Cognition (q-bio.NC)\"],[\"Chemical Physics (physics.chem-ph)\"],[\"Audio and Speech Processing (eess.AS)\"],[\"Optimization and Control (math.OC)\"],[\"Optimization and Control (math.OC)\"],[\"Quantum Physics (quant-ph)\"],[\"Machine Learning (stat.ML)\"],[\"Image and Video Processing (eess.IV)\"],[\"Combinatorics (math.CO)\"],[\"Quantum Physics (quant-ph)\"],[\"Biomolecules (q-bio.BM)\"],[\"Quantum Physics (quant-ph)\"],[\"Signal Processing (eess.SP)\"],[\"Signal Processing (eess.SP)\"],[\"Image and Video Processing (eess.IV)\"],[\"Machine Learning (stat.ML)\"],[\"Machine Learning (stat.ML)\"],[\"Quantum Physics (quant-ph)\"],[\"Audio and Speech Processing (eess.AS)\"],[\"Machine Learning (stat.ML)\"],[\"Fluid Dynamics (physics.flu-dyn)\"],[\"General Economics (econ.GN)\"],[\"Methodology (stat.ME)\"],[\"Signal Processing (eess.SP)\"],[\"Probability (math.PR)\"],[\"Quantum Physics (quant-ph)\"],[\"Combinatorics (math.CO)\"],[\"Audio and Speech Processing (eess.AS)\"],[\"Image and Video Processing (eess.IV)\"],[\"Combinatorics (math.CO)\"]],\"hovertemplate\":\"y=cs\\u003cbr\\u003eumap-2d-one=%{x}\\u003cbr\\u003eumap-2d-two=%{y}\\u003cbr\\u003ey_long=%{customdata[0]}\\u003cextra\\u003e\\u003c\\u002fextra\\u003e\",\"legendgroup\":\"cs\",\"marker\":{\"color\":\"#439bb5\",\"symbol\":\"circle\",\"opacity\":0.5,\"size\":5},\"mode\":\"markers\",\"name\":\"cs\",\"showlegend\":true,\"x\":[10.437689781188965,8.42089557647705,8.35229206085205,8.936922073364258,9.59504222869873,10.09257698059082,10.271944999694824,9.565167427062988,10.633878707885742,10.217143058776855,9.586258888244629,10.051587104797363,9.153533935546875,9.479196548461914,9.505263328552246,9.944779396057129,10.202346801757812,9.834868431091309,9.22195053100586,10.407354354858398,9.63697624206543,9.882610321044922,10.032097816467285,9.490639686584473,10.292098999023438,8.252363204956055,10.562114715576172,8.995567321777344,10.462261199951172,10.448591232299805,9.03355884552002,9.410572052001953,10.697992324829102,9.415750503540039,8.518529891967773,10.431844711303711,11.186936378479004,9.570743560791016,9.480751991271973,10.087809562683105,10.45878791809082,10.309650421142578,10.44022274017334,8.568826675415039,9.333587646484375,8.558736801147461,9.30994987487793,9.887619018554688,9.555890083312988,9.321144104003906,9.62294864654541,10.648184776306152,8.855180740356445,8.882622718811035,9.413423538208008,9.52160358428955,10.2506685256958,8.593470573425293,9.575549125671387,10.102025032043457,8.777731895446777,8.940580368041992,9.554741859436035,8.848761558532715,9.055006980895996,9.455668449401855,10.596230506896973,10.14470386505127,10.060282707214355,9.346306800842285,9.439213752746582,10.911791801452637,9.803018569946289,10.177083015441895,9.87108325958252,10.427078247070312,9.775554656982422,10.6935453414917,8.636127471923828,9.914509773254395,10.533814430236816,10.692695617675781,11.03075885772705,10.338327407836914,8.986108779907227,8.74875545501709,9.221640586853027,10.959380149841309,10.19382381439209,9.738574028015137,8.937782287597656,9.207555770874023,8.738011360168457,9.061307907104492,10.453479766845703,9.927889823913574,9.111001968383789,9.9193115234375,9.226468086242676,11.216801643371582,10.564218521118164,10.509900093078613,11.240043640136719,8.840250968933105,10.62930679321289,11.385115623474121,10.254681587219238,10.081131935119629,10.593208312988281,10.969229698181152,9.726836204528809,9.723949432373047,8.123621940612793,10.221076965332031,10.62025260925293,8.922243118286133,9.758133888244629,9.283784866333008,9.217700004577637,9.900675773620605,10.78573989868164,9.045188903808594,9.100362777709961,9.23098087310791,10.522950172424316,8.577583312988281,9.277908325195312,8.977496147155762,11.200384140014648,11.055631637573242,9.058426856994629,9.526786804199219,8.910009384155273,10.507359504699707,9.632604598999023,9.401647567749023,9.990738868713379,9.341912269592285,9.662396430969238,9.367631912231445,8.740550994873047,9.723981857299805,9.726675033569336,10.636894226074219,9.874671936035156,8.619760513305664,9.722355842590332,9.744287490844727,8.908894538879395,9.912254333496094,9.457090377807617,9.235321998596191,10.341028213500977,10.302488327026367,9.410548210144043,10.00645923614502,9.966621398925781,10.10897159576416,11.256771087646484,9.975208282470703,9.973685264587402,9.553780555725098,9.774067878723145,11.15573501586914,9.912707328796387,10.865801811218262,9.581092834472656,9.767285346984863,8.883500099182129,10.178278923034668,10.192483901977539,9.8665132522583,11.276589393615723,9.284966468811035,9.258888244628906,9.787830352783203,11.372323989868164,10.610920906066895,9.548311233520508,8.909186363220215,9.030506134033203,8.850873947143555,9.028356552124023,10.090325355529785,9.94163703918457,9.902142524719238,9.292069435119629,9.741987228393555,8.71277904510498,10.566975593566895,10.932500839233398,8.538322448730469,11.298751831054688,9.327043533325195,9.99019718170166,9.005229949951172,9.949854850769043,9.722354888916016,9.983316421508789,10.493035316467285,9.687410354614258,11.377762794494629,9.93321704864502,9.0342435836792,9.508676528930664,9.853287696838379,10.606237411499023,10.457931518554688,10.490254402160645,10.7435884475708,9.689031600952148,9.317777633666992,8.936275482177734,10.301969528198242,9.36030101776123,10.539285659790039,8.996565818786621,8.910534858703613,9.347566604614258,8.833067893981934,8.827661514282227,9.74239730834961,8.776615142822266,9.442672729492188,10.061436653137207,10.49699878692627,8.962193489074707,9.809649467468262,9.661670684814453,9.675041198730469,10.598882675170898,10.35557746887207,8.995096206665039,10.66280746459961,9.619002342224121,10.308375358581543,9.112652778625488,9.111479759216309,10.530991554260254,10.409149169921875,9.531783103942871,9.56649398803711,9.535311698913574,9.075257301330566,9.051936149597168,9.929495811462402,10.496655464172363,8.82637882232666,9.880640983581543,10.006361961364746,9.096834182739258,9.981321334838867,11.415122032165527,9.230592727661133,9.829870223999023,10.531087875366211,8.855976104736328,9.91679859161377,8.918864250183105,11.412679672241211,9.149954795837402,10.696019172668457,10.623019218444824,10.766971588134766,8.767664909362793,10.129094123840332,9.346163749694824,10.718297004699707,9.007805824279785,8.924810409545898,9.375205993652344,10.4410982131958,9.843612670898438,9.331271171569824,9.964715003967285,10.380644798278809,9.886812210083008,10.773876190185547,8.973527908325195,10.641413688659668,9.561366081237793,10.345488548278809,10.30305290222168,10.162346839904785,10.170791625976562,9.233780860900879,10.523865699768066,9.75180435180664,9.627948760986328,9.81238079071045,8.702183723449707,9.979764938354492,9.856100082397461,9.505178451538086,9.447888374328613,10.223758697509766,11.198203086853027,9.959697723388672,9.749626159667969,8.994287490844727,9.787663459777832,10.243001937866211,9.73543930053711,10.804967880249023,10.86467170715332,10.116591453552246,9.798788070678711,9.929569244384766,10.903745651245117,10.043842315673828,10.127983093261719,8.878059387207031,8.666742324829102,9.159584999084473,9.09147834777832,10.203415870666504,10.636098861694336,8.88555908203125,9.124820709228516,9.881810188293457,9.697551727294922,9.186039924621582,9.793564796447754,10.773795127868652,9.23098087310791,8.286614418029785,10.076258659362793,10.32145881652832,9.24133014678955,9.228550910949707,8.567946434020996,9.275931358337402,10.605656623840332,9.647970199584961,8.955052375793457,9.655466079711914,9.667531967163086,9.007244110107422,10.055720329284668,8.906328201293945,8.814665794372559,10.891214370727539,10.03809642791748,9.553435325622559,9.26624584197998,8.580345153808594,9.64312744140625,9.218721389770508,9.307291030883789,9.578741073608398,9.783635139465332,9.951985359191895,8.778282165527344,9.8235445022583,9.56875991821289,9.464274406433105,10.690208435058594,9.724525451660156,8.973544120788574,9.726048469543457,9.050965309143066,10.623791694641113,9.707079887390137,9.169508934020996,10.125429153442383,9.895705223083496,9.139556884765625,10.39780330657959,10.62171459197998,9.172822952270508,10.008856773376465,10.103372573852539,9.144986152648926,10.186064720153809,10.715767860412598,10.248482704162598,10.277238845825195,10.592191696166992,10.485336303710938,9.408557891845703,9.599358558654785,10.316671371459961,10.420857429504395,10.119976997375488,10.474921226501465,9.337435722351074,13.084946632385254,9.989337921142578,11.091896057128906,10.295312881469727,9.6071138381958,10.227781295776367,10.236387252807617,9.550869941711426,9.257720947265625,9.210174560546875,12.767704010009766,9.514602661132812,12.704222679138184,9.603925704956055,10.05001163482666,8.114333152770996,9.285466194152832,8.123908042907715,9.635805130004883,8.078262329101562,10.519659996032715,9.404671669006348,10.842204093933105,10.926664352416992,10.106042861938477,9.530041694641113,12.20792007446289,9.658571243286133,9.258675575256348,8.90799617767334,9.930153846740723,10.912235260009766,11.24340534210205,9.881485939025879,10.357510566711426,10.178236961364746,9.795795440673828,9.431727409362793,9.628661155700684,10.83736515045166,9.668610572814941,9.426801681518555,10.820772171020508,8.869227409362793,10.510336875915527,9.916571617126465,10.813530921936035,10.799186706542969,8.157632827758789,11.401000022888184,10.238720893859863,9.8929443359375,8.775794982910156,9.870548248291016,8.153071403503418,11.117701530456543,8.777044296264648,10.132611274719238,9.34225082397461,8.914656639099121,10.108678817749023,10.373815536499023,8.079299926757812,10.202126502990723,10.676963806152344,10.911484718322754,10.745203971862793],\"xaxis\":\"x\",\"y\":[4.757546901702881,1.4102325439453125,1.2986048460006714,3.769470691680908,2.1961522102355957,1.4370477199554443,5.097111701965332,4.757519721984863,-2.2393667697906494,4.702331066131592,2.265594720840454,4.611232280731201,3.679521322250366,4.912434101104736,5.2940874099731445,5.274601936340332,0.8464882373809814,4.814216136932373,4.626714706420898,4.746354579925537,4.978645324707031,4.985062599182129,4.8484296798706055,4.880072593688965,5.054325580596924,3.6521711349487305,4.865872859954834,3.819478750228882,3.681016683578491,4.595075607299805,5.433401107788086,3.9572625160217285,4.949133396148682,5.006516456604004,3.5649774074554443,4.838038444519043,4.016902923583984,4.47410249710083,2.1662800312042236,5.297887325286865,5.012333393096924,5.084983825683594,3.8591272830963135,1.5185792446136475,5.35540771484375,3.3507418632507324,3.3196816444396973,3.813854455947876,3.2969706058502197,5.316728591918945,3.8594088554382324,1.8405544757843018,5.051527500152588,5.36892557144165,4.438516139984131,4.629436016082764,2.8445684909820557,2.0934553146362305,5.363811016082764,1.7547376155853271,2.159590721130371,5.0814080238342285,3.6081862449645996,4.728747367858887,5.317910194396973,4.9647216796875,4.450671672821045,2.889862298965454,4.678345680236816,2.229227066040039,2.6209495067596436,1.6066315174102783,0.7554903626441956,3.3714702129364014,2.8958892822265625,4.731210231781006,4.427160263061523,0.8648869395256042,1.446149468421936,3.264303684234619,3.901848077774048,4.484259128570557,0.9498417377471924,4.4562883377075195,1.8814561367034912,4.654746055603027,5.029022693634033,2.0483145713806152,1.3792877197265625,2.2305548191070557,3.5320403575897217,3.8031930923461914,4.787327289581299,5.473550319671631,2.2793843746185303,-1.5985146760940552,5.471907138824463,3.6197783946990967,4.9615559577941895,3.0490729808807373,-0.7150989770889282,5.170810222625732,3.878618001937866,4.668814659118652,4.519526481628418,2.531466007232666,4.986227989196777,5.05230188369751,1.766080379486084,2.645538568496704,3.5219902992248535,2.719517946243286,3.586190938949585,3.1306991577148438,4.375817775726318,3.4093177318573,4.033051490783691,4.734696388244629,5.390105724334717,3.778531312942505,4.193354606628418,5.118894100189209,2.615158796310425,2.443403482437134,5.280084133148193,1.6952099800109863,4.483510494232178,5.396903038024902,3.4120066165924072,-0.05739952623844147,4.642348766326904,5.098415374755859,5.2763590812683105,-2.3037333488464355,4.800718784332275,5.404562950134277,5.156787872314453,4.191095352172852,3.584604501724243,5.48072624206543,5.225541114807129,5.09158182144165,4.882634162902832,5.060280799865723,4.979490756988525,1.8534384965896606,4.1207451820373535,4.615355968475342,4.840759754180908,4.446239948272705,5.196885108947754,4.910584926605225,4.403685092926025,5.011568069458008,5.034258842468262,-0.4379732608795166,4.648590087890625,5.234718322753906,4.119819164276123,4.297399044036865,5.2431793212890625,-0.2071872502565384,3.970730781555176,3.976763963699341,3.2855427265167236,0.3756956160068512,2.174311637878418,4.766651630401611,4.946566581726074,4.697911262512207,4.561981201171875,-0.989743709564209,2.7331504821777344,2.5374069213867188,3.974337339401245,3.726400852203369,2.5851588249206543,4.253735542297363,5.15611457824707,3.6321494579315186,5.2994184494018555,4.538816452026367,4.100520133972168,4.450981140136719,3.5490639209747314,4.583893299102783,4.635190963745117,-0.4857635200023651,4.445634365081787,4.4082417488098145,4.928994655609131,1.7120745182037354,2.7499542236328125,2.6798696517944336,3.190248727798462,5.068936824798584,3.67899227142334,4.97431755065918,4.670691013336182,5.3273797035217285,2.8130786418914795,2.7318003177642822,5.048436641693115,4.524422645568848,-0.38623136281967163,2.9694278240203857,0.3145706057548523,4.516536235809326,0.03577728196978569,5.108355522155762,4.542027950286865,-0.20955747365951538,5.442806243896484,3.3669722080230713,5.444512844085693,4.750341415405273,4.373083591461182,5.354831695556641,4.08104944229126,4.9510040283203125,3.0706467628479004,-1.2470680475234985,4.906861305236816,3.3618199825286865,-1.0615819692611694,4.211494445800781,4.986612319946289,5.155052185058594,4.512322902679443,3.307380199432373,0.5380941033363342,4.506528377532959,4.219244956970215,4.443185806274414,4.191585063934326,4.287981033325195,3.635845184326172,4.400389671325684,1.2156461477279663,4.350103378295898,4.437239646911621,4.465510368347168,3.274034261703491,3.6414570808410645,3.6181724071502686,-1.8367891311645508,4.937643051147461,4.229026794433594,1.132124900817871,4.599545955657959,1.8881505727767944,4.4379777908325195,2.674591541290283,3.636990785598755,5.087851047515869,3.6941895484924316,4.933094501495361,3.5068166255950928,2.8832180500030518,3.7213947772979736,3.5933873653411865,4.681925296783447,4.580930233001709,0.7183576226234436,5.178086280822754,4.789709568023682,3.8286125659942627,4.377399921417236,3.46321439743042,5.386486053466797,4.01099157333374,4.459010124206543,2.4848103523254395,3.3352160453796387,-1.1708426475524902,3.586303472518921,4.172123432159424,4.915616512298584,5.506486892700195,4.621318340301514,4.280220031738281,0.1502264142036438,4.697627067565918,3.5742886066436768,4.375575065612793,3.960045576095581,5.137938976287842,3.1208460330963135,3.888415813446045,2.555187702178955,4.561385631561279,4.221577167510986,2.398327112197876,4.45258092880249,5.308866500854492,5.3382978439331055,2.8589446544647217,-1.540879726409912,-1.0953911542892456,5.327058792114258,3.086392641067505,4.8475728034973145,2.6825203895568848,4.551233768463135,3.0450127124786377,4.502401351928711,0.5491990447044373,1.0787880420684814,0.3679766058921814,4.212898254394531,2.0773072242736816,5.26639461517334,4.95206880569458,5.0844526290893555,2.4270706176757812,0.8830227851867676,4.578670024871826,5.531058311462402,2.481372117996216,1.5626226663589478,4.287692546844482,5.4628520011901855,4.799905300140381,2.365022897720337,3.924504518508911,3.514153003692627,-2.0259320735931396,4.874080657958984,5.152536392211914,3.761103868484497,1.8932245969772339,5.227298259735107,-1.1240876913070679,3.0520083904266357,5.5428385734558105,3.499983549118042,4.660160064697266,5.4914231300354,4.239224433898926,5.4085540771484375,5.23789644241333,2.7282302379608154,5.2531256675720215,5.434412956237793,3.0041000843048096,2.8716373443603516,4.97776985168457,5.348479270935059,5.548205375671387,3.94812273979187,-1.2267484664916992,2.5390686988830566,3.782526969909668,2.142958402633667,2.076385259628296,5.355767726898193,4.368790149688721,4.919175624847412,5.538472652435303,3.572923183441162,3.413707971572876,4.560308456420898,1.387399673461914,5.555644512176514,4.28401517868042,5.153770923614502,3.8392581939697266,5.57694149017334,5.2168426513671875,3.9191462993621826,3.307673931121826,4.719465732574463,0.12114562094211578,5.109355926513672,5.092390060424805,5.141700267791748,5.217498779296875,5.099278450012207,5.1644062995910645,5.362854480743408,5.583700656890869,5.296913146972656,4.9093828201293945,3.972382068634033,4.91337776184082,-0.031025735661387444,1.5192042589187622,5.378235816955566,-1.415181040763855,-0.45522159337997437,3.4571967124938965,3.512965679168701,3.6063485145568848,4.254897117614746,2.906567335128784,3.278932571411133,1.7028470039367676,4.0884528160095215,1.7415900230407715,1.316992163658142,-0.9643934369087219,-0.2600725293159485,2.826611280441284,-0.25992146134376526,4.803546905517578,-0.2384796142578125,-0.008760344237089157,1.3312057256698608,0.16336916387081146,4.563706874847412,3.5477302074432373,-0.05336679145693779,2.1602044105529785,4.237382888793945,4.902726173400879,0.6565949320793152,4.159704685211182,-1.5587055683135986,4.241469383239746,3.6951088905334473,1.9751380681991577,-1.1175949573516846,3.707016944885254,4.0451579093933105,5.157698154449463,3.117706537246704,-1.037902593612671,0.0742020308971405,0.6291541457176208,2.740429401397705,5.4279022216796875,-1.6388674974441528,0.2049075961112976,3.941534996032715,3.4980123043060303,2.731797218322754,2.4901771545410156,4.1972336769104,3.1026387214660645,0.21009595692157745,3.577517509460449,2.8687658309936523,3.1561899185180664,1.0309007167816162,1.053514838218689,4.469923973083496,3.182666301727295,-0.6021993160247803,3.533980131149292,-1.9041757583618164,1.1910276412963867,4.667962074279785,-0.9624622464179993],\"yaxis\":\"y\",\"type\":\"scattergl\"},{\"customdata\":[[\"Methodology (stat.ME)\"],[\"Methodology (stat.ME)\"],[\"Methodology (stat.ME)\"],[\"Methodology (stat.ME)\"],[\"Methodology (stat.ME)\"],[\"Statistics Theory (math.ST)\"],[\"Applications (stat.AP)\"],[\"Machine Learning (stat.ML)\"],[\"Statistics Theory (math.ST)\"],[\"Methodology (stat.ME)\"],[\"Statistics Theory (math.ST)\"],[\"Computation (stat.CO)\"],[\"Methodology (stat.ME)\"],[\"Methodology (stat.ME)\"],[\"Machine Learning (stat.ML)\"],[\"Methodology (stat.ME)\"],[\"Methodology (stat.ME)\"],[\"Statistics Theory (math.ST)\"],[\"Machine Learning (stat.ML)\"],[\"Machine Learning (stat.ML)\"],[\"Applications (stat.AP)\"],[\"Statistics Theory (math.ST)\"],[\"Machine Learning (stat.ML)\"],[\"Applications (stat.AP)\"],[\"Methodology (stat.ME)\"],[\"Methodology (stat.ME)\"],[\"Machine Learning (cs.LG)\"],[\"Probability (math.PR)\"],[\"Probability (math.PR)\"],[\"Computer Vision and Pattern Recognition (cs.CV)\"],[\"Probability (math.PR)\"],[\"Optimization and Control (math.OC)\"],[\"Machine Learning (cs.LG)\"],[\"Machine Learning (cs.LG)\"],[\"Machine Learning (cs.LG)\"],[\"Medical Physics (physics.med-ph)\"],[\"Econometrics (econ.EM)\"],[\"Machine Learning (cs.LG)\"],[\"Information Theory (cs.IT)\"],[\"Quantum Physics (quant-ph)\"],[\"General Economics (econ.GN)\"],[\"Quantum Physics (quant-ph)\"],[\"Machine Learning (cs.LG)\"],[\"Machine Learning (cs.LG)\"],[\"Machine Learning (cs.LG)\"]],\"hovertemplate\":\"y=stat\\u003cbr\\u003eumap-2d-one=%{x}\\u003cbr\\u003eumap-2d-two=%{y}\\u003cbr\\u003ey_long=%{customdata[0]}\\u003cextra\\u003e\\u003c\\u002fextra\\u003e\",\"legendgroup\":\"stat\",\"marker\":{\"color\":\"#4175b4\",\"symbol\":\"circle\",\"opacity\":0.5,\"size\":5},\"mode\":\"markers\",\"name\":\"stat\",\"showlegend\":true,\"x\":[8.954407691955566,8.812216758728027,9.334624290466309,8.954590797424316,11.279065132141113,8.99030590057373,9.415221214294434,8.957252502441406,9.013704299926758,8.946084976196289,9.381993293762207,9.066320419311523,9.034131050109863,8.900069236755371,8.843443870544434,8.904123306274414,9.037291526794434,9.114421844482422,8.861918449401855,9.878683090209961,8.90673542022705,9.371055603027344,8.751774787902832,8.993311882019043,9.385047912597656,9.115616798400879,8.631208419799805,8.121114730834961,8.135560989379883,10.733443260192871,11.749418258666992,9.046395301818848,8.950846672058105,9.27730655670166,8.804287910461426,11.119329452514648,8.91580581665039,8.89659595489502,9.768623352050781,8.115474700927734,9.291755676269531,8.090396881103516,8.521343231201172,9.01755142211914,9.064878463745117],\"xaxis\":\"x\",\"y\":[-0.7515307664871216,2.71537709236145,0.18277017772197723,0.7709366083145142,2.6686158180236816,-0.7381998896598816,3.2721426486968994,0.5996270775794983,0.2445523887872696,-0.7627789974212646,0.3400455117225647,0.6933260560035706,1.885994553565979,0.792123019695282,2.7705812454223633,0.7350459098815918,1.7105817794799805,-0.09980503469705582,2.9960825443267822,0.20156902074813843,1.5651434659957886,-0.21104399859905243,3.215334415435791,1.65677809715271,3.2293508052825928,4.457818508148193,2.0363545417785645,-0.24845337867736816,-0.2283744364976883,4.394205093383789,-0.8254027962684631,2.3339173793792725,4.304695129394531,-0.1999976485967636,3.059206008911133,4.509833812713623,0.7058669924736023,2.893434762954712,0.5617886185646057,3.6055924892425537,1.0883787870407104,3.560675621032715,2.842050552368164,3.342334747314453,0.17882190644741058],\"yaxis\":\"y\",\"type\":\"scattergl\"},{\"customdata\":[[\"Audio and Speech Processing (eess.AS)\"],[\"Systems and Control (eess.SY)\"],[\"Systems and Control (eess.SY)\"],[\"Systems and Control (eess.SY)\"],[\"Systems and Control (eess.SY)\"],[\"Systems and Control (eess.SY)\"],[\"Systems and Control (eess.SY)\"],[\"Signal Processing (eess.SP)\"],[\"Systems and Control (eess.SY)\"],[\"Systems and Control (eess.SY)\"],[\"Signal Processing (eess.SP)\"],[\"Image and Video Processing (eess.IV)\"],[\"Systems and Control (eess.SY)\"],[\"Systems and Control (eess.SY)\"],[\"Image and Video Processing (eess.IV)\"],[\"Systems and Control (eess.SY)\"],[\"Image and Video Processing (eess.IV)\"],[\"Audio and Speech Processing (eess.AS)\"],[\"Image and Video Processing (eess.IV)\"],[\"Signal Processing (eess.SP)\"],[\"Image and Video Processing (eess.IV)\"],[\"Systems and Control (eess.SY)\"],[\"Image and Video Processing (eess.IV)\"],[\"Image and Video Processing (eess.IV)\"],[\"Systems and Control (eess.SY)\"],[\"Signal Processing (eess.SP)\"],[\"Image and Video Processing (eess.IV)\"],[\"Systems and Control (eess.SY)\"],[\"Audio and Speech Processing (eess.AS)\"],[\"Image and Video Processing (eess.IV)\"],[\"Signal Processing (eess.SP)\"],[\"Signal Processing (eess.SP)\"],[\"Image and Video Processing (eess.IV)\"],[\"Systems and Control (eess.SY)\"],[\"Systems and Control (eess.SY)\"],[\"Audio and Speech Processing (eess.AS)\"],[\"Signal Processing (eess.SP)\"],[\"Systems and Control (eess.SY)\"],[\"Systems and Control (eess.SY)\"],[\"Audio and Speech Processing (eess.AS)\"],[\"Image and Video Processing (eess.IV)\"],[\"Machine Learning (cs.LG)\"],[\"Machine Learning (cs.LG)\"],[\"Machine Learning (cs.LG)\"],[\"Networking and Internet Architecture (cs.NI)\"],[\"Information Theory (cs.IT)\"],[\"Information Theory (cs.IT)\"],[\"Computer Vision and Pattern Recognition (cs.CV)\"],[\"Information Theory (cs.IT)\"],[\"Machine Learning (cs.LG)\"],[\"Medical Physics (physics.med-ph)\"],[\"Computer Vision and Pattern Recognition (cs.CV)\"],[\"Information Theory (cs.IT)\"],[\"Information Theory (cs.IT)\"],[\"Machine Learning (cs.LG)\"],[\"Optimization and Control (math.OC)\"],[\"Neural and Evolutionary Computing (cs.NE)\"],[\"Sound (cs.SD)\"],[\"Machine Learning (stat.ML)\"],[\"Human-Computer Interaction (cs.HC)\"],[\"Cryptography and Security (cs.CR)\"],[\"Information Theory (cs.IT)\"],[\"Machine Learning (cs.LG)\"],[\"Information Theory (cs.IT)\"],[\"Sound (cs.SD)\"],[\"Hardware Architecture (cs.AR)\"],[\"Machine Learning (cs.LG)\"],[\"Information Theory (cs.IT)\"],[\"Machine Learning (cs.LG)\"],[\"Computer Vision and Pattern Recognition (cs.CV)\"],[\"Computer Science and Game Theory (cs.GT)\"],[\"Information Theory (cs.IT)\"],[\"Information Theory (cs.IT)\"]],\"hovertemplate\":\"y=eess\\u003cbr\\u003eumap-2d-one=%{x}\\u003cbr\\u003eumap-2d-two=%{y}\\u003cbr\\u003ey_long=%{customdata[0]}\\u003cextra\\u003e\\u003c\\u002fextra\\u003e\",\"legendgroup\":\"eess\",\"marker\":{\"color\":\"#5e4fa2\",\"symbol\":\"circle\",\"opacity\":0.5,\"size\":5},\"mode\":\"markers\",\"name\":\"eess\",\"showlegend\":true,\"x\":[9.947951316833496,8.387384414672852,8.392969131469727,9.612957954406738,10.160239219665527,9.563580513000488,10.135939598083496,9.55585765838623,9.45777702331543,8.548099517822266,11.737473487854004,10.866549491882324,9.496809959411621,8.575057029724121,9.56389331817627,9.79453182220459,10.966339111328125,10.032470703125,9.724333763122559,11.147435188293457,9.34587574005127,8.540582656860352,9.957918167114258,11.218924522399902,9.477477073669434,10.063827514648438,12.524206161499023,8.469215393066406,10.887619972229004,10.567843437194824,11.309045791625977,10.21477222442627,9.897712707519531,9.754318237304688,9.920741081237793,11.12804889678955,10.087847709655762,8.52955436706543,9.679276466369629,10.674965858459473,10.943259239196777,8.942610740661621,8.466012001037598,8.586381912231445,10.089399337768555,9.757991790771484,11.48536205291748,10.08736515045166,10.980049133300781,8.11461353302002,11.460136413574219,11.204595565795898,11.27895736694336,11.379410743713379,9.329560279846191,9.133759498596191,9.696584701538086,10.56757926940918,8.8228120803833,9.635881423950195,9.053780555725098,11.444375038146973,10.509866714477539,11.420905113220215,10.337227821350098,11.237895011901855,9.070318222045898,10.920825004577637,8.530740737915039,9.245619773864746,9.506307601928711,10.37507438659668,10.089133262634277],\"xaxis\":\"x\",\"y\":[5.388259410858154,1.414222240447998,1.3520667552947998,2.190856456756592,1.3689013719558716,2.2864418029785156,0.7846644520759583,4.297273635864258,2.102553129196167,1.525665044784546,2.426926612854004,4.906985759735107,2.6225149631500244,1.4405958652496338,4.722177028656006,2.336855173110962,4.532328128814697,3.4668049812316895,4.18426513671875,2.6671974658966064,4.967261791229248,1.8801394701004028,4.088464736938477,4.254836559295654,2.1355795860290527,2.8345038890838623,2.0111501216888428,1.6340138912200928,3.0825421810150146,5.439825534820557,2.690094232559204,2.488421678543091,4.287101745605469,2.6232950687408447,2.439847707748413,2.9216291904449463,3.1860015392303467,1.8656816482543945,3.1888058185577393,1.2940930128097534,4.673213958740234,3.748410701751709,3.564354658126831,2.1252260208129883,2.9038515090942383,0.7019537091255188,2.5814435482025146,5.106597900390625,2.642421007156372,3.6182637214660645,3.7079930305480957,3.406139850616455,2.6702466011047363,2.717433452606201,-0.24012692272663116,0.03346003219485283,4.587489604949951,1.2627650499343872,2.6952261924743652,4.350290775299072,1.9358911514282227,2.624448537826538,3.6927506923675537,3.7067151069641113,3.519160270690918,2.816178321838379,2.4892024993896484,2.72660756111145,2.943185567855835,5.4075212478637695,2.095076084136963,5.570517063140869,3.2703120708465576],\"yaxis\":\"y\",\"type\":\"scattergl\"}],                        {\"template\":{\"data\":{\"histogram2dcontour\":[{\"type\":\"histogram2dcontour\",\"colorbar\":{\"outlinewidth\":0,\"ticks\":\"\"},\"colorscale\":[[0.0,\"#0d0887\"],[0.1111111111111111,\"#46039f\"],[0.2222222222222222,\"#7201a8\"],[0.3333333333333333,\"#9c179e\"],[0.4444444444444444,\"#bd3786\"],[0.5555555555555556,\"#d8576b\"],[0.6666666666666666,\"#ed7953\"],[0.7777777777777778,\"#fb9f3a\"],[0.8888888888888888,\"#fdca26\"],[1.0,\"#f0f921\"]]}],\"choropleth\":[{\"type\":\"choropleth\",\"colorbar\":{\"outlinewidth\":0,\"ticks\":\"\"}}],\"histogram2d\":[{\"type\":\"histogram2d\",\"colorbar\":{\"outlinewidth\":0,\"ticks\":\"\"},\"colorscale\":[[0.0,\"#0d0887\"],[0.1111111111111111,\"#46039f\"],[0.2222222222222222,\"#7201a8\"],[0.3333333333333333,\"#9c179e\"],[0.4444444444444444,\"#bd3786\"],[0.5555555555555556,\"#d8576b\"],[0.6666666666666666,\"#ed7953\"],[0.7777777777777778,\"#fb9f3a\"],[0.8888888888888888,\"#fdca26\"],[1.0,\"#f0f921\"]]}],\"heatmap\":[{\"type\":\"heatmap\",\"colorbar\":{\"outlinewidth\":0,\"ticks\":\"\"},\"colorscale\":[[0.0,\"#0d0887\"],[0.1111111111111111,\"#46039f\"],[0.2222222222222222,\"#7201a8\"],[0.3333333333333333,\"#9c179e\"],[0.4444444444444444,\"#bd3786\"],[0.5555555555555556,\"#d8576b\"],[0.6666666666666666,\"#ed7953\"],[0.7777777777777778,\"#fb9f3a\"],[0.8888888888888888,\"#fdca26\"],[1.0,\"#f0f921\"]]}],\"heatmapgl\":[{\"type\":\"heatmapgl\",\"colorbar\":{\"outlinewidth\":0,\"ticks\":\"\"},\"colorscale\":[[0.0,\"#0d0887\"],[0.1111111111111111,\"#46039f\"],[0.2222222222222222,\"#7201a8\"],[0.3333333333333333,\"#9c179e\"],[0.4444444444444444,\"#bd3786\"],[0.5555555555555556,\"#d8576b\"],[0.6666666666666666,\"#ed7953\"],[0.7777777777777778,\"#fb9f3a\"],[0.8888888888888888,\"#fdca26\"],[1.0,\"#f0f921\"]]}],\"contourcarpet\":[{\"type\":\"contourcarpet\",\"colorbar\":{\"outlinewidth\":0,\"ticks\":\"\"}}],\"contour\":[{\"type\":\"contour\",\"colorbar\":{\"outlinewidth\":0,\"ticks\":\"\"},\"colorscale\":[[0.0,\"#0d0887\"],[0.1111111111111111,\"#46039f\"],[0.2222222222222222,\"#7201a8\"],[0.3333333333333333,\"#9c179e\"],[0.4444444444444444,\"#bd3786\"],[0.5555555555555556,\"#d8576b\"],[0.6666666666666666,\"#ed7953\"],[0.7777777777777778,\"#fb9f3a\"],[0.8888888888888888,\"#fdca26\"],[1.0,\"#f0f921\"]]}],\"surface\":[{\"type\":\"surface\",\"colorbar\":{\"outlinewidth\":0,\"ticks\":\"\"},\"colorscale\":[[0.0,\"#0d0887\"],[0.1111111111111111,\"#46039f\"],[0.2222222222222222,\"#7201a8\"],[0.3333333333333333,\"#9c179e\"],[0.4444444444444444,\"#bd3786\"],[0.5555555555555556,\"#d8576b\"],[0.6666666666666666,\"#ed7953\"],[0.7777777777777778,\"#fb9f3a\"],[0.8888888888888888,\"#fdca26\"],[1.0,\"#f0f921\"]]}],\"mesh3d\":[{\"type\":\"mesh3d\",\"colorbar\":{\"outlinewidth\":0,\"ticks\":\"\"}}],\"scatter\":[{\"fillpattern\":{\"fillmode\":\"overlay\",\"size\":10,\"solidity\":0.2},\"type\":\"scatter\"}],\"parcoords\":[{\"type\":\"parcoords\",\"line\":{\"colorbar\":{\"outlinewidth\":0,\"ticks\":\"\"}}}],\"scatterpolargl\":[{\"type\":\"scatterpolargl\",\"marker\":{\"colorbar\":{\"outlinewidth\":0,\"ticks\":\"\"}}}],\"bar\":[{\"error_x\":{\"color\":\"#2a3f5f\"},\"error_y\":{\"color\":\"#2a3f5f\"},\"marker\":{\"line\":{\"color\":\"#E5ECF6\",\"width\":0.5},\"pattern\":{\"fillmode\":\"overlay\",\"size\":10,\"solidity\":0.2}},\"type\":\"bar\"}],\"scattergeo\":[{\"type\":\"scattergeo\",\"marker\":{\"colorbar\":{\"outlinewidth\":0,\"ticks\":\"\"}}}],\"scatterpolar\":[{\"type\":\"scatterpolar\",\"marker\":{\"colorbar\":{\"outlinewidth\":0,\"ticks\":\"\"}}}],\"histogram\":[{\"marker\":{\"pattern\":{\"fillmode\":\"overlay\",\"size\":10,\"solidity\":0.2}},\"type\":\"histogram\"}],\"scattergl\":[{\"type\":\"scattergl\",\"marker\":{\"colorbar\":{\"outlinewidth\":0,\"ticks\":\"\"}}}],\"scatter3d\":[{\"type\":\"scatter3d\",\"line\":{\"colorbar\":{\"outlinewidth\":0,\"ticks\":\"\"}},\"marker\":{\"colorbar\":{\"outlinewidth\":0,\"ticks\":\"\"}}}],\"scattermapbox\":[{\"type\":\"scattermapbox\",\"marker\":{\"colorbar\":{\"outlinewidth\":0,\"ticks\":\"\"}}}],\"scatterternary\":[{\"type\":\"scatterternary\",\"marker\":{\"colorbar\":{\"outlinewidth\":0,\"ticks\":\"\"}}}],\"scattercarpet\":[{\"type\":\"scattercarpet\",\"marker\":{\"colorbar\":{\"outlinewidth\":0,\"ticks\":\"\"}}}],\"carpet\":[{\"aaxis\":{\"endlinecolor\":\"#2a3f5f\",\"gridcolor\":\"white\",\"linecolor\":\"white\",\"minorgridcolor\":\"white\",\"startlinecolor\":\"#2a3f5f\"},\"baxis\":{\"endlinecolor\":\"#2a3f5f\",\"gridcolor\":\"white\",\"linecolor\":\"white\",\"minorgridcolor\":\"white\",\"startlinecolor\":\"#2a3f5f\"},\"type\":\"carpet\"}],\"table\":[{\"cells\":{\"fill\":{\"color\":\"#EBF0F8\"},\"line\":{\"color\":\"white\"}},\"header\":{\"fill\":{\"color\":\"#C8D4E3\"},\"line\":{\"color\":\"white\"}},\"type\":\"table\"}],\"barpolar\":[{\"marker\":{\"line\":{\"color\":\"#E5ECF6\",\"width\":0.5},\"pattern\":{\"fillmode\":\"overlay\",\"size\":10,\"solidity\":0.2}},\"type\":\"barpolar\"}],\"pie\":[{\"automargin\":true,\"type\":\"pie\"}]},\"layout\":{\"autotypenumbers\":\"strict\",\"colorway\":[\"#636efa\",\"#EF553B\",\"#00cc96\",\"#ab63fa\",\"#FFA15A\",\"#19d3f3\",\"#FF6692\",\"#B6E880\",\"#FF97FF\",\"#FECB52\"],\"font\":{\"color\":\"#2a3f5f\"},\"hovermode\":\"closest\",\"hoverlabel\":{\"align\":\"left\"},\"paper_bgcolor\":\"white\",\"plot_bgcolor\":\"#E5ECF6\",\"polar\":{\"bgcolor\":\"#E5ECF6\",\"angularaxis\":{\"gridcolor\":\"white\",\"linecolor\":\"white\",\"ticks\":\"\"},\"radialaxis\":{\"gridcolor\":\"white\",\"linecolor\":\"white\",\"ticks\":\"\"}},\"ternary\":{\"bgcolor\":\"#E5ECF6\",\"aaxis\":{\"gridcolor\":\"white\",\"linecolor\":\"white\",\"ticks\":\"\"},\"baxis\":{\"gridcolor\":\"white\",\"linecolor\":\"white\",\"ticks\":\"\"},\"caxis\":{\"gridcolor\":\"white\",\"linecolor\":\"white\",\"ticks\":\"\"}},\"coloraxis\":{\"colorbar\":{\"outlinewidth\":0,\"ticks\":\"\"}},\"colorscale\":{\"sequential\":[[0.0,\"#0d0887\"],[0.1111111111111111,\"#46039f\"],[0.2222222222222222,\"#7201a8\"],[0.3333333333333333,\"#9c179e\"],[0.4444444444444444,\"#bd3786\"],[0.5555555555555556,\"#d8576b\"],[0.6666666666666666,\"#ed7953\"],[0.7777777777777778,\"#fb9f3a\"],[0.8888888888888888,\"#fdca26\"],[1.0,\"#f0f921\"]],\"sequentialminus\":[[0.0,\"#0d0887\"],[0.1111111111111111,\"#46039f\"],[0.2222222222222222,\"#7201a8\"],[0.3333333333333333,\"#9c179e\"],[0.4444444444444444,\"#bd3786\"],[0.5555555555555556,\"#d8576b\"],[0.6666666666666666,\"#ed7953\"],[0.7777777777777778,\"#fb9f3a\"],[0.8888888888888888,\"#fdca26\"],[1.0,\"#f0f921\"]],\"diverging\":[[0,\"#8e0152\"],[0.1,\"#c51b7d\"],[0.2,\"#de77ae\"],[0.3,\"#f1b6da\"],[0.4,\"#fde0ef\"],[0.5,\"#f7f7f7\"],[0.6,\"#e6f5d0\"],[0.7,\"#b8e186\"],[0.8,\"#7fbc41\"],[0.9,\"#4d9221\"],[1,\"#276419\"]]},\"xaxis\":{\"gridcolor\":\"white\",\"linecolor\":\"white\",\"ticks\":\"\",\"title\":{\"standoff\":15},\"zerolinecolor\":\"white\",\"automargin\":true,\"zerolinewidth\":2},\"yaxis\":{\"gridcolor\":\"white\",\"linecolor\":\"white\",\"ticks\":\"\",\"title\":{\"standoff\":15},\"zerolinecolor\":\"white\",\"automargin\":true,\"zerolinewidth\":2},\"scene\":{\"xaxis\":{\"backgroundcolor\":\"#E5ECF6\",\"gridcolor\":\"white\",\"linecolor\":\"white\",\"showbackground\":true,\"ticks\":\"\",\"zerolinecolor\":\"white\",\"gridwidth\":2},\"yaxis\":{\"backgroundcolor\":\"#E5ECF6\",\"gridcolor\":\"white\",\"linecolor\":\"white\",\"showbackground\":true,\"ticks\":\"\",\"zerolinecolor\":\"white\",\"gridwidth\":2},\"zaxis\":{\"backgroundcolor\":\"#E5ECF6\",\"gridcolor\":\"white\",\"linecolor\":\"white\",\"showbackground\":true,\"ticks\":\"\",\"zerolinecolor\":\"white\",\"gridwidth\":2}},\"shapedefaults\":{\"line\":{\"color\":\"#2a3f5f\"}},\"annotationdefaults\":{\"arrowcolor\":\"#2a3f5f\",\"arrowhead\":0,\"arrowwidth\":1},\"geo\":{\"bgcolor\":\"white\",\"landcolor\":\"#E5ECF6\",\"subunitcolor\":\"white\",\"showland\":true,\"showlakes\":true,\"lakecolor\":\"white\"},\"title\":{\"x\":0.05},\"mapbox\":{\"style\":\"light\"}}},\"xaxis\":{\"anchor\":\"y\",\"domain\":[0.0,1.0],\"title\":{\"text\":\"umap-2d-one\"}},\"yaxis\":{\"anchor\":\"x\",\"domain\":[0.0,1.0],\"title\":{\"text\":\"umap-2d-two\"}},\"legend\":{\"title\":{\"text\":\"arXiv subject\"},\"tracegroupgap\":0},\"margin\":{\"t\":60}},                        {\"responsive\": true}                    ).then(function(){\n",
              "                            \n",
              "var gd = document.getElementById('86b54e46-73fa-4c48-a194-16fbb188d9e5');\n",
              "var x = new MutationObserver(function (mutations, observer) {{\n",
              "        var display = window.getComputedStyle(gd).display;\n",
              "        if (!display || display === 'none') {{\n",
              "            console.log([gd, 'removed!']);\n",
              "            Plotly.purge(gd);\n",
              "            observer.disconnect();\n",
              "        }}\n",
              "}});\n",
              "\n",
              "// Listen for the removal of the full notebook cells\n",
              "var notebookContainer = gd.closest('#notebook-container');\n",
              "if (notebookContainer) {{\n",
              "    x.observe(notebookContainer, {childList: true});\n",
              "}}\n",
              "\n",
              "// Listen for the clearing of the current output cell\n",
              "var outputEl = gd.closest('.output');\n",
              "if (outputEl) {{\n",
              "    x.observe(outputEl, {childList: true});\n",
              "}}\n",
              "\n",
              "                        })                };                            </script>        </div>\n",
              "</body>\n",
              "</html>"
            ]
          },
          "metadata": {}
        }
      ]
    },
    {
      "cell_type": "markdown",
      "source": [
        "Tracing over the points and examining the hover labels we can see a clear clustering of physics topics and computer science topics respectively. The math topics tend to lie between these and we can see that they are closer to those topics which deal with similar lines of research."
      ],
      "metadata": {
        "id": "BgnRD9JEOpzw"
      }
    },
    {
      "cell_type": "markdown",
      "source": [
        "> ```We can use the above plot to remove some of the topic subjects if we wish, to reduce the amount of data to embed and make the separation even more visually clear. Also consider changing color scheme.```"
      ],
      "metadata": {
        "id": "y73Kd98JmhHj"
      }
    },
    {
      "cell_type": "code",
      "source": [],
      "metadata": {
        "id": "ZZQZ2rIGMe9g"
      },
      "execution_count": 54,
      "outputs": []
    },
    {
      "cell_type": "markdown",
      "source": [
        "### Vector index store & Semantic similarity search"
      ],
      "metadata": {
        "id": "MabBTvs6R35K"
      }
    },
    {
      "cell_type": "markdown",
      "source": [
        "Let's now examine how we can store embeddings in an indexed vector database. There are many different vector stores to choose from which all perform similarly. Here we will make use of [FAISS](https://ai.meta.com/tools/faiss/), which is an open source vector store library developed by Meta.\n",
        "\n",
        "We will then see how we can use this tool to perform a similarity search over the indexed embeddings and retrieve the most relevant article based on a query using semantic similarity."
      ],
      "metadata": {
        "id": "e_kIVHSJSCNA"
      }
    },
    {
      "cell_type": "markdown",
      "source": [
        "We will make use of an open source model from HuggingFace for doing the embeddings here. There are many good options to choose from of varying sizes. As we will see even quite small models perform quite well with semantic search."
      ],
      "metadata": {
        "id": "HNsdUsgs4Pd7"
      }
    },
    {
      "cell_type": "markdown",
      "source": [
        "> ```The first time you run the below code snippet you will download the embedding model into memory and you will see the progress of this displayed.```"
      ],
      "metadata": {
        "id": "j96fHlbz4hBE"
      }
    },
    {
      "cell_type": "code",
      "source": [
        "# For embeddings we use a top ranked open source model on the MTEB leaderboard at https://huggingface.co/spaces/mteb/leaderboard\n",
        "#embedding_model = [\n",
        "#    \"BAAI/bge-large-en-v1.5\",\n",
        "#    \"BAAI/bge-small-en-v1.5\"\n",
        "#    ]\n",
        "embedding_model = embedding_models_HF[1]\n",
        "\n",
        "\n",
        "# We use the HuggingFaceEmbeddings wrapper to make an embedding object from our model\n",
        "embedder = HuggingFaceEmbeddings(\n",
        "      model_name = embedding_model,\n",
        "      model_kwargs = {'device': 'cpu'},\n",
        "      encode_kwargs = {'normalize_embeddings': True},\n",
        "      cache_folder = f\"{embedding_model}_cache\",\n",
        "      multi_process = False\n",
        "      )"
      ],
      "metadata": {
        "colab": {
          "base_uri": "https://localhost:8080/",
          "height": 401,
          "referenced_widgets": [
            "f18ce7f1420a4918b8968a66161c62fa",
            "e2da859383ad492094c791a483f1e440",
            "457b41834ed7403baddfb9870e4f2ed8",
            "ea315748107947ae979ba911fb7bb927",
            "caf9b50f9fd1435c9e2c61948e8cca21",
            "a4f9232d8b5b42a58f778acb453ace03",
            "9b4e6652f9284dc3b9ff3b3ed781f34a",
            "e618d718046146609f5485d9e49b76df",
            "fe05f8ac72b04958941efc4ad5f53004",
            "53e2d05489b14fd098e49652f3b7b902",
            "adad4372973a48e7b8c3291145edb16c",
            "f55249a5beef43f3afadf133ba98251e",
            "570e62e16618472d8a15b4c94c2cf301",
            "d28af11715c3442c99df6240405fbb48",
            "386fd64ea48c488bb2f04cf9668b9b3b",
            "8752e44c40544cec93eed9d55b68a117",
            "a1bb604cd1864429a31211155f68d794",
            "fbb08f93abc64c4eb365d18dfdf3b0c5",
            "18983e4945ca487297292bcd17398602",
            "5b7d629a5acb4ce893627f23ec053721",
            "37202e7eec054b7488c8b66955a258c1",
            "eea26831119f4e7b82646ae8223fabe3",
            "f449134fa6764299b4599a95ee5111f9",
            "34b3be76bd2b406999d2b77491247317",
            "ec50f0a29ef34bf2923c7fb3317425e8",
            "4f8e20eaef7147a1aa671505ab3fb9af",
            "4b8351603acf4d83bce5b542c689f1b5",
            "b5be1082cbaf43698e7845a71fbfafe3",
            "65a92a20bc184ef0bec97d03ffd8b491",
            "1554a9a8e32d4c088d54b1b977434a23",
            "f25728d8c9194ce192ea3f960cc7ade9",
            "4b52caea755347e0926c5cac82224c39",
            "8097fe130fcf465c98e9bf3c919d60d6",
            "61a697d1b2f54685a24f705b82dbbf20",
            "8ed2b64a3d6744478c209104c345b1fc",
            "540b2b1de7254e4095a32489f6cca38b",
            "9255588ffbb1475697f128638ac2df8e",
            "367972865e074aeaa5209b6e61aadd40",
            "76a01a42c9ca4804a945cadf16caa423",
            "4bdd727fc789431e93a2a6d2613226df",
            "af566c6200f2439dbd5f3d9ec9f3973b",
            "88c27c5b42594b10a3e99fab47a70a6f",
            "10888eb19c17421baee6d134a3c67e14",
            "31be60fc8af14c2da1465203620cccad",
            "cd00be33574145e990ee280223deeb8e",
            "a4a912733eb446219bf24f1e804eeed6",
            "88585c1194284814a39d04e33fc484f8",
            "052f4e258e4e4642a1a3d59ae9584fbb",
            "5577bebd04e24609b179f247e88b35e2",
            "f9419dbbf2624830b0b729c6ef765493",
            "62533a0836fd463faa1a69b5632dd14d",
            "da1f6a83c641464aa955793956c6b415",
            "13fff4c430c64c11bf03f9cc3f38e70b",
            "160b21c3d2d74844ad048f72e2bf9550",
            "c00f4a1dd827439493bef1c754d2f6ba",
            "6566220e029e4c18837b48d5863bcf1b",
            "3483b08f77e64d8693e8c00859358603",
            "8f3df5e0707b4af9acd69397699deaa5",
            "3efd36964cf9471e838621c038165a5c",
            "38a384d45142494bb7fc59bb66db5be4",
            "f467840feca8425cbda1acb831d7c886",
            "75ed7bf9bb4b421fb60eef54b24e4297",
            "47a7da6ca628413ca3bb0f3c53166c44",
            "c534801373024fafa5233adf23bacb16",
            "73fd7c75cf004a5f83c3274e6b07e97b",
            "95133297df1346edadf41213f7e47c5b",
            "a665d16a57814edba0ea3fbb94a86be2",
            "0e7915fce89b4d74887e3cd0bdd5d310",
            "6eaae6225bee496a8ec5313f530492ed",
            "43db30172d26484c950ced7b29ce38d5",
            "2fcba9d757364798855859944f69ed71",
            "3fbb40c9ea53401bab3a1e2cd6905bd0",
            "db1f81abb0964a9b9f967a978651fbc2",
            "a5d9313b20534864af2070d8ca0ae1ea",
            "91d40d7cf04a4c2b893f743b28328c0c",
            "83de9b15a64a4d058d0d8d6440c4f992",
            "9153ef974a4647d3b607baa6e09639d8",
            "fe59fd8500004d1b98b5c515bcce251e",
            "e12bc364659742cb8542343ee2490e90",
            "d06db54a5ea24b478e777337351f8876",
            "79a97b97dd784091b0edba0f21529889",
            "69b493fde5e243df9be04a2f53d1bc0f",
            "e776c22363424aad96dd5497a62d0c0d",
            "c194cc600a5c49f0bfcdb7893583d88b",
            "b6eb09c71e1a4664b7a7fb037a714412",
            "69df742093da485aaea560056fa0f175",
            "6c22f3684bfd4d5c98dbb355ae86b17f",
            "b3b183e2f8a842248359a9fb8eb784d1",
            "afb6e40811dc4c7c9b71d441458bbc4c",
            "014dbc5c36fc4756b0c4c9afa2944d9a",
            "7fdb903fd43e42ae8cd7c2412f437b7f",
            "7fe5ab171ad1453d9db4a5c52174d554",
            "04c7bb6f7eee4935941aec2c1dc8b473",
            "d8fe85d3ba1343368267b793980b211b",
            "6c34decc018343a29ff677bf8662a811",
            "3ce6d63b431c44ddbb437ec726cf03a2",
            "1cdd00b6bf714c778cc0a9709679ec7f",
            "d3be0cb2955848bfb1cfd0620b8d9b85",
            "e58e8ba1ba864af78591ba8a16c2907f",
            "c0f3cd574c9048cb968296db6249e296",
            "092a59ffa1794e958002ff50e7ab8c20",
            "0b37b1de85c14e7d8c7feed79dbb2f23",
            "1098fe27e0bd48cd8c0f3d485e07a6bd",
            "482923d1135a4994aba994be6368721b",
            "99c1f6c37eeb4e78b9c6176b3a7045eb",
            "45a5c37d668447458e6ad3e33b0edb15",
            "42fbe4e68879486295c7b49563f36c89",
            "0bb791ece8164d698ac57d160c5b15d9",
            "ce982126877d4966bd102cd2cb2ca6e3",
            "7414e9f9cdcf4fa680f147576a9eabd8",
            "c01eb68ab60a4f76b03edcbb4d121294",
            "fc743075900a43539a5c5fd69c54f4a0",
            "9482f8d62f30447a83ce3ea07d9c119f",
            "feaa4cfeedc546ee98cc5a2ad3af184d",
            "e9aa46f7fd024750a07e837160e79127",
            "8d08615eecf843008f7d0e31e40ecf68",
            "856c668f67e247928b439e6fd0dddacb",
            "9754a92157b942c1b774e826a9838502",
            "5b836ea678134855a72e5c958495b407",
            "2158788eae4946f7befdf668e134bb63",
            "e5e1dc8491614a689121fe7a92464fb4",
            "1ea3bf388f304783b44031b91169550b",
            "c8f67d4b7146479cacf63de247796ee0",
            "7bad59322d60454581583d923320f3f9",
            "1d5d043f09744818a7460e8370b5dee6",
            "21e65b25bb8742ce976c369064b37a3c",
            "4c8192e3c9664e0ba84d34ca6c8d87e5",
            "f0cd5cdbf1794e66b3a358a984ba5e7e",
            "f588896d52d64716ac4e2c535c9cfff6",
            "bdafce766d97423ca329cbe2cc09d9dd",
            "83b4cd008d4d4552bb60a27d8daf0e04",
            "d40ba815e666498d8f2470364abaf4b9"
          ]
        },
        "id": "f2dCB_lp26IX",
        "outputId": "77bf8c5a-b91b-49e5-febf-16ff49230f03"
      },
      "execution_count": 55,
      "outputs": [
        {
          "output_type": "display_data",
          "data": {
            "text/plain": [
              "<IPython.core.display.HTML object>"
            ],
            "text/html": [
              "\n",
              "  <style>\n",
              "    pre {\n",
              "        white-space: pre-wrap;\n",
              "    }\n",
              "  </style>\n",
              "  "
            ]
          },
          "metadata": {}
        },
        {
          "output_type": "display_data",
          "data": {
            "text/plain": [
              ".gitattributes:   0%|          | 0.00/1.52k [00:00<?, ?B/s]"
            ],
            "application/vnd.jupyter.widget-view+json": {
              "version_major": 2,
              "version_minor": 0,
              "model_id": "f18ce7f1420a4918b8968a66161c62fa"
            }
          },
          "metadata": {}
        },
        {
          "output_type": "display_data",
          "data": {
            "text/plain": [
              "1_Pooling/config.json:   0%|          | 0.00/190 [00:00<?, ?B/s]"
            ],
            "application/vnd.jupyter.widget-view+json": {
              "version_major": 2,
              "version_minor": 0,
              "model_id": "f55249a5beef43f3afadf133ba98251e"
            }
          },
          "metadata": {}
        },
        {
          "output_type": "display_data",
          "data": {
            "text/plain": [
              "README.md:   0%|          | 0.00/90.3k [00:00<?, ?B/s]"
            ],
            "application/vnd.jupyter.widget-view+json": {
              "version_major": 2,
              "version_minor": 0,
              "model_id": "f449134fa6764299b4599a95ee5111f9"
            }
          },
          "metadata": {}
        },
        {
          "output_type": "display_data",
          "data": {
            "text/plain": [
              "config.json:   0%|          | 0.00/743 [00:00<?, ?B/s]"
            ],
            "application/vnd.jupyter.widget-view+json": {
              "version_major": 2,
              "version_minor": 0,
              "model_id": "61a697d1b2f54685a24f705b82dbbf20"
            }
          },
          "metadata": {}
        },
        {
          "output_type": "display_data",
          "data": {
            "text/plain": [
              "config_sentence_transformers.json:   0%|          | 0.00/124 [00:00<?, ?B/s]"
            ],
            "application/vnd.jupyter.widget-view+json": {
              "version_major": 2,
              "version_minor": 0,
              "model_id": "cd00be33574145e990ee280223deeb8e"
            }
          },
          "metadata": {}
        },
        {
          "output_type": "display_data",
          "data": {
            "text/plain": [
              "pytorch_model.bin:   0%|          | 0.00/134M [00:00<?, ?B/s]"
            ],
            "application/vnd.jupyter.widget-view+json": {
              "version_major": 2,
              "version_minor": 0,
              "model_id": "6566220e029e4c18837b48d5863bcf1b"
            }
          },
          "metadata": {}
        },
        {
          "output_type": "display_data",
          "data": {
            "text/plain": [
              "sentence_bert_config.json:   0%|          | 0.00/52.0 [00:00<?, ?B/s]"
            ],
            "application/vnd.jupyter.widget-view+json": {
              "version_major": 2,
              "version_minor": 0,
              "model_id": "a665d16a57814edba0ea3fbb94a86be2"
            }
          },
          "metadata": {}
        },
        {
          "output_type": "display_data",
          "data": {
            "text/plain": [
              "special_tokens_map.json:   0%|          | 0.00/125 [00:00<?, ?B/s]"
            ],
            "application/vnd.jupyter.widget-view+json": {
              "version_major": 2,
              "version_minor": 0,
              "model_id": "fe59fd8500004d1b98b5c515bcce251e"
            }
          },
          "metadata": {}
        },
        {
          "output_type": "display_data",
          "data": {
            "text/plain": [
              "tokenizer.json:   0%|          | 0.00/711k [00:00<?, ?B/s]"
            ],
            "application/vnd.jupyter.widget-view+json": {
              "version_major": 2,
              "version_minor": 0,
              "model_id": "afb6e40811dc4c7c9b71d441458bbc4c"
            }
          },
          "metadata": {}
        },
        {
          "output_type": "display_data",
          "data": {
            "text/plain": [
              "tokenizer_config.json:   0%|          | 0.00/366 [00:00<?, ?B/s]"
            ],
            "application/vnd.jupyter.widget-view+json": {
              "version_major": 2,
              "version_minor": 0,
              "model_id": "c0f3cd574c9048cb968296db6249e296"
            }
          },
          "metadata": {}
        },
        {
          "output_type": "display_data",
          "data": {
            "text/plain": [
              "vocab.txt:   0%|          | 0.00/232k [00:00<?, ?B/s]"
            ],
            "application/vnd.jupyter.widget-view+json": {
              "version_major": 2,
              "version_minor": 0,
              "model_id": "c01eb68ab60a4f76b03edcbb4d121294"
            }
          },
          "metadata": {}
        },
        {
          "output_type": "display_data",
          "data": {
            "text/plain": [
              "modules.json:   0%|          | 0.00/349 [00:00<?, ?B/s]"
            ],
            "application/vnd.jupyter.widget-view+json": {
              "version_major": 2,
              "version_minor": 0,
              "model_id": "1ea3bf388f304783b44031b91169550b"
            }
          },
          "metadata": {}
        }
      ]
    },
    {
      "cell_type": "markdown",
      "source": [
        "It is then straightforward to create a FAISS vector index using our Document and HuggingFaceEmbeddings objects. With the small BGE model this will take slightly less than one minute to complete for 50 abstracts. We will therefore pick out a subset of roughly 50 abstracts here for demonstrative purposes."
      ],
      "metadata": {
        "id": "YnRjIc0w6O7d"
      }
    },
    {
      "cell_type": "code",
      "source": [
        "# We aim to pick out about 50 abstracts from across the documents list, irrespective of how many we originally retrieved\n",
        "nr_abstracts_in_short_list = 50\n",
        "\n",
        "\n",
        "# We pick out the baove nr of abstracts evenly spaced out over our list of retrieved abstracts\n",
        "documents_short = documents[::max(1, len(documents) // nr_abstracts_in_short_list)]\n",
        "#documents_short = documents[-nr_abstracts_in_short_list:]\n",
        "\n",
        "print(f\" The short list of documents contain {len(documents_short)} abstracts\")"
      ],
      "metadata": {
        "colab": {
          "base_uri": "https://localhost:8080/",
          "height": 35
        },
        "id": "2FsXJyHI7D37",
        "outputId": "576db480-d9b7-4284-855f-e63c97aa061b"
      },
      "execution_count": 56,
      "outputs": [
        {
          "output_type": "display_data",
          "data": {
            "text/plain": [
              "<IPython.core.display.HTML object>"
            ],
            "text/html": [
              "\n",
              "  <style>\n",
              "    pre {\n",
              "        white-space: pre-wrap;\n",
              "    }\n",
              "  </style>\n",
              "  "
            ]
          },
          "metadata": {}
        },
        {
          "output_type": "stream",
          "name": "stdout",
          "text": [
            " The short list of documents contain 52 abstracts\n"
          ]
        }
      ]
    },
    {
      "cell_type": "code",
      "source": [
        "# We embed and store embeddings for the shortened list of abstracts\n",
        "faiss_index = FAISS.from_documents(\n",
        "      documents=documents_short,\n",
        "      embedding=embedder\n",
        "      )"
      ],
      "metadata": {
        "colab": {
          "base_uri": "https://localhost:8080/",
          "height": 17
        },
        "id": "DLJkfQnH2lXx",
        "outputId": "acc47491-408d-49f1-e7f3-c9e6de44f0de"
      },
      "execution_count": 57,
      "outputs": [
        {
          "output_type": "display_data",
          "data": {
            "text/plain": [
              "<IPython.core.display.HTML object>"
            ],
            "text/html": [
              "\n",
              "  <style>\n",
              "    pre {\n",
              "        white-space: pre-wrap;\n",
              "    }\n",
              "  </style>\n",
              "  "
            ]
          },
          "metadata": {}
        }
      ]
    },
    {
      "cell_type": "markdown",
      "source": [
        "Let's pick out an article and display its abstract. This will allow us to make a query which we know matches this particular abstract."
      ],
      "metadata": {
        "id": "qRErJ7yq9WfC"
      }
    },
    {
      "cell_type": "code",
      "source": [
        "# choose a number between 0-20 to pick out one of the indexed abstracts\n",
        "abstract_nr = 25\n",
        "\n",
        "documents_short[abstract_nr]"
      ],
      "metadata": {
        "colab": {
          "base_uri": "https://localhost:8080/",
          "height": 267
        },
        "id": "Ef_9-Mqn5Evh",
        "outputId": "7b4ec6e4-d760-4b45-9bca-9db33a56d1bb"
      },
      "execution_count": 58,
      "outputs": [
        {
          "output_type": "display_data",
          "data": {
            "text/plain": [
              "<IPython.core.display.HTML object>"
            ],
            "text/html": [
              "\n",
              "  <style>\n",
              "    pre {\n",
              "        white-space: pre-wrap;\n",
              "    }\n",
              "  </style>\n",
              "  "
            ]
          },
          "metadata": {}
        },
        {
          "output_type": "execute_result",
          "data": {
            "text/plain": [
              "Document(page_content='We study the scheduling problem in a status update system composed of an\\narbitrary number of information sources with different service time\\ndistributions and weights for the purpose of minimizing the weighted sum age of\\ninformation (AoI). In particular, we study open-loop schedulers which rely only\\non the statistics (specifically, only on the first two moments) of the source\\nservice times, in contrast to closed-loop schedulers that also make use of the\\nactual realizations of the service times and the AoI processes in making\\nscheduling decisions. Open-loop scheduling policies can be constructed off-line\\nand are simpler to implement compared to their closed-loop counterparts. We\\nconsider the generate-at-will (GAW) model, and develop an analytical method to\\ncalculate the exact AoI for the probabilistic and cyclic open-loop schedulers.\\nIn both cases, the server initiates the sampling of a source and the ensuing\\ntransmission of the update packet from the source to the server in an open-loop\\nmanner; either based on a certain probability (probabilistic scheme) or\\naccording to a deterministic cyclic pattern (cyclic scheme). We derive the\\noptimum open-loop cyclic scheduling policy in closed form for the specific case\\nof N=2 sources and propose well-performing heuristic cyclic schedulers for\\ngeneral number of sources, i.e., N>2. We study the proposed cyclic schedulers\\nagainst probabilistic schedulers and several existing methods in the literature\\nto validate their effectiveness.', metadata={'title': 'Minimizing Weighted Sum Age of Information with Open-Loop Cyclic  Scheduling', 'arxiv_topic': 'Information Theory (cs.IT)', 'subject': 'math'})"
            ]
          },
          "metadata": {},
          "execution_count": 58
        }
      ]
    },
    {
      "cell_type": "markdown",
      "source": [
        "Now we can construct a search query which is related to the above abstract. We then use this query to retrieve a nr of close matches from the indexed vector stored. These are retrieved as a list in sorted order, with the closest match appearing first.\n",
        "\n",
        "Let's do this by having the LLM make a query for us from the above abstract."
      ],
      "metadata": {
        "id": "A9rw62VP9nQs"
      }
    },
    {
      "cell_type": "code",
      "source": [
        "# The system prompt will be placed at the top of every message and should set overall system behaviour\n",
        "system_prompt = \"\"\"\n",
        "You are an expert in summarizing scientific literature.\n",
        "\"\"\"\n",
        "\n",
        "# We can try to set this quite low to make it hard for the retriever,\n",
        "# noting that if several abstracts are on a similar topic then a very short summary\n",
        "# should make it more difficult to retrieve the intended one\n",
        "max_words_for_summary = 3\n",
        "\n",
        "user_prompt = f\"\"\"\n",
        "Consider carefully the abstract supplied below and construct a very brief summary of its content.\n",
        "Try to use a maximum of {max_words_for_summary} words and do not include any mathematical formulas in your summary.\n",
        "\n",
        "abstract: {documents_short[abstract_nr].page_content}\n",
        "\"\"\"\n",
        "\n",
        "\n",
        "# These are collected into a messages list of\n",
        "#\n",
        "#   SystemMessage - the system prompt\n",
        "#   HumanMessage  - the user query\n",
        "#   AIMessage     - the bot response, in case you wish to continue on a conversation\n",
        "messages = [\n",
        "    SystemMessage(content=system_prompt),\n",
        "    HumanMessage(content=user_prompt),\n",
        "]"
      ],
      "metadata": {
        "colab": {
          "base_uri": "https://localhost:8080/",
          "height": 17
        },
        "id": "V786LgwERZUj",
        "outputId": "a5637afd-6b55-4947-dab6-40b429bc72fc"
      },
      "execution_count": 59,
      "outputs": [
        {
          "output_type": "display_data",
          "data": {
            "text/plain": [
              "<IPython.core.display.HTML object>"
            ],
            "text/html": [
              "\n",
              "  <style>\n",
              "    pre {\n",
              "        white-space: pre-wrap;\n",
              "    }\n",
              "  </style>\n",
              "  "
            ]
          },
          "metadata": {}
        }
      ]
    },
    {
      "cell_type": "code",
      "source": [
        "# This creates an instance of the model interface which we can subsequently call on\n",
        "chat_model = ChatOpenAI(\n",
        "    openai_api_key=os.environ['OPENAI_API_KEY'],\n",
        "    # The below parameters can be changed\n",
        "    model=\"gpt-3.5-turbo-1106\",\n",
        "    temperature=0.0\n",
        ")\n",
        "\n",
        "\n",
        "# Here we collect the output from the chat model in the variable response\n",
        "response = chat_model.invoke(messages)\n",
        "\n",
        "# We can print out the response by calling on its content using a .content\n",
        "print(response.content)"
      ],
      "metadata": {
        "colab": {
          "base_uri": "https://localhost:8080/",
          "height": 35
        },
        "id": "R6m7HdrHMf8e",
        "outputId": "9afd60c5-e715-4768-cfa5-3ada26f050eb"
      },
      "execution_count": 60,
      "outputs": [
        {
          "output_type": "display_data",
          "data": {
            "text/plain": [
              "<IPython.core.display.HTML object>"
            ],
            "text/html": [
              "\n",
              "  <style>\n",
              "    pre {\n",
              "        white-space: pre-wrap;\n",
              "    }\n",
              "  </style>\n",
              "  "
            ]
          },
          "metadata": {}
        },
        {
          "output_type": "stream",
          "name": "stdout",
          "text": [
            "Scheduling AoI minimization.\n"
          ]
        }
      ]
    },
    {
      "cell_type": "markdown",
      "source": [
        "Now we can use this short summary to try to find the correct article amongst all the ones we have embedded."
      ],
      "metadata": {
        "id": "2uDso4QrTAX3"
      }
    },
    {
      "cell_type": "code",
      "source": [
        "# We define a generic query which incorporates the summary from the LLM\n",
        "search_query = f\"Find an article which discusses: {response.content}\"\n",
        "\n",
        "\n",
        "# Define how many similar documents you want to retrieve\n",
        "# These are returned in sorted order, with most similar placed first\n",
        "nr_hits = 5\n",
        "\n",
        "\n",
        "# Use FAISS to perform similarity search ...\n",
        "most_similar = faiss_index.similarity_search(query = search_query, k=nr_hits)\n",
        "\n",
        "\n",
        "# Lets check that the closest retrieved match is the same as abstract we used to construct the query\n",
        "if documents_short[abstract_nr].metadata[\"title\"] == most_similar[0].metadata[\"title\"]:\n",
        "  print(Style.BRIGHT + \"SUCESS! We found the correct abstract as the top ranked choice!\" + Style.RESET_ALL)\n",
        "  print(\"--\"*25)\n",
        "  print(most_similar[0])\n",
        "# In case it was not the top pick, we check if it was among the ones retrieved from the vector store\n",
        "elif documents_short[abstract_nr].metadata[\"title\"] in [most_similar[nr_hit].metadata[\"title\"] for nr_hit in range(1,nr_hits)]:\n",
        "  print(Style.BRIGHT + f\"PARTIAL SUCESS! We found the correct abstract among the top {nr_hits} ranked choices!\" + Style.RESET_ALL)\n",
        "  print(\"--\"*25)\n",
        "  print(most_similar[0])\n",
        "else:\n",
        "  print(Style.BRIGHT + \"FAILURE! We didn't retrieve the correct abstract as top choice!\" + Style.RESET_ALL)"
      ],
      "metadata": {
        "colab": {
          "base_uri": "https://localhost:8080/",
          "height": 285
        },
        "id": "N-TJJRLg4Box",
        "outputId": "65c002e1-9706-4cc5-c510-75d3e21e6a1d"
      },
      "execution_count": 61,
      "outputs": [
        {
          "output_type": "display_data",
          "data": {
            "text/plain": [
              "<IPython.core.display.HTML object>"
            ],
            "text/html": [
              "\n",
              "  <style>\n",
              "    pre {\n",
              "        white-space: pre-wrap;\n",
              "    }\n",
              "  </style>\n",
              "  "
            ]
          },
          "metadata": {}
        },
        {
          "output_type": "stream",
          "name": "stdout",
          "text": [
            "\u001b[1mSUCESS! We found the correct abstract as the top ranked choice!\u001b[0m\n",
            "--------------------------------------------------\n",
            "page_content='We study the scheduling problem in a status update system composed of an\\narbitrary number of information sources with different service time\\ndistributions and weights for the purpose of minimizing the weighted sum age of\\ninformation (AoI). In particular, we study open-loop schedulers which rely only\\non the statistics (specifically, only on the first two moments) of the source\\nservice times, in contrast to closed-loop schedulers that also make use of the\\nactual realizations of the service times and the AoI processes in making\\nscheduling decisions. Open-loop scheduling policies can be constructed off-line\\nand are simpler to implement compared to their closed-loop counterparts. We\\nconsider the generate-at-will (GAW) model, and develop an analytical method to\\ncalculate the exact AoI for the probabilistic and cyclic open-loop schedulers.\\nIn both cases, the server initiates the sampling of a source and the ensuing\\ntransmission of the update packet from the source to the server in an open-loop\\nmanner; either based on a certain probability (probabilistic scheme) or\\naccording to a deterministic cyclic pattern (cyclic scheme). We derive the\\noptimum open-loop cyclic scheduling policy in closed form for the specific case\\nof N=2 sources and propose well-performing heuristic cyclic schedulers for\\ngeneral number of sources, i.e., N>2. We study the proposed cyclic schedulers\\nagainst probabilistic schedulers and several existing methods in the literature\\nto validate their effectiveness.' metadata={'title': 'Minimizing Weighted Sum Age of Information with Open-Loop Cyclic  Scheduling', 'arxiv_topic': 'Information Theory (cs.IT)', 'subject': 'math'}\n"
          ]
        }
      ]
    },
    {
      "cell_type": "markdown",
      "source": [
        "We can inspect all the top ranked abstracts we retrieved and see how well they matched the summarization we used when searching."
      ],
      "metadata": {
        "id": "mSQU0jnvVW5T"
      }
    },
    {
      "cell_type": "code",
      "source": [
        "cnt=1\n",
        "for doc in most_similar:\n",
        "  print(Style.BRIGHT + f\"Hit nr {cnt}, Title: {doc.metadata['title']}\" + Style.RESET_ALL)\n",
        "  print(doc.page_content)\n",
        "  print(\"--\"*25)\n",
        "  cnt+=1"
      ],
      "metadata": {
        "colab": {
          "base_uri": "https://localhost:8080/",
          "height": 1000
        },
        "id": "sPT7kQ622lU9",
        "outputId": "ef63b565-9488-4181-e620-d56bd382bdfd"
      },
      "execution_count": 62,
      "outputs": [
        {
          "output_type": "display_data",
          "data": {
            "text/plain": [
              "<IPython.core.display.HTML object>"
            ],
            "text/html": [
              "\n",
              "  <style>\n",
              "    pre {\n",
              "        white-space: pre-wrap;\n",
              "    }\n",
              "  </style>\n",
              "  "
            ]
          },
          "metadata": {}
        },
        {
          "output_type": "stream",
          "name": "stdout",
          "text": [
            "\u001b[1mHit nr 1, Title: Minimizing Weighted Sum Age of Information with Open-Loop Cyclic  Scheduling\u001b[0m\n",
            "We study the scheduling problem in a status update system composed of an\n",
            "arbitrary number of information sources with different service time\n",
            "distributions and weights for the purpose of minimizing the weighted sum age of\n",
            "information (AoI). In particular, we study open-loop schedulers which rely only\n",
            "on the statistics (specifically, only on the first two moments) of the source\n",
            "service times, in contrast to closed-loop schedulers that also make use of the\n",
            "actual realizations of the service times and the AoI processes in making\n",
            "scheduling decisions. Open-loop scheduling policies can be constructed off-line\n",
            "and are simpler to implement compared to their closed-loop counterparts. We\n",
            "consider the generate-at-will (GAW) model, and develop an analytical method to\n",
            "calculate the exact AoI for the probabilistic and cyclic open-loop schedulers.\n",
            "In both cases, the server initiates the sampling of a source and the ensuing\n",
            "transmission of the update packet from the source to the server in an open-loop\n",
            "manner; either based on a certain probability (probabilistic scheme) or\n",
            "according to a deterministic cyclic pattern (cyclic scheme). We derive the\n",
            "optimum open-loop cyclic scheduling policy in closed form for the specific case\n",
            "of N=2 sources and propose well-performing heuristic cyclic schedulers for\n",
            "general number of sources, i.e., N>2. We study the proposed cyclic schedulers\n",
            "against probabilistic schedulers and several existing methods in the literature\n",
            "to validate their effectiveness.\n",
            "--------------------------------------------------\n",
            "\u001b[1mHit nr 2, Title: Towards Comparable Active Learning\u001b[0m\n",
            "Active Learning has received significant attention in the field of machine\n",
            "learning for its potential in selecting the most informative samples for\n",
            "labeling, thereby reducing data annotation costs. However, we show that the\n",
            "reported lifts in recent literature generalize poorly to other domains leading\n",
            "to an inconclusive landscape in Active Learning research. Furthermore, we\n",
            "highlight overlooked problems for reproducing AL experiments that can lead to\n",
            "unfair comparisons and increased variance in the results. This paper addresses\n",
            "these issues by providing an Active Learning framework for a fair comparison of\n",
            "algorithms across different tasks and domains, as well as a fast and performant\n",
            "oracle algorithm for evaluation. To the best of our knowledge, we propose the\n",
            "first AL benchmark that tests algorithms in 3 major domains: Tabular, Image,\n",
            "and Text. We report empirical results for 6 widely used algorithms on 7\n",
            "real-world and 2 synthetic datasets and aggregate them into a domain-specific\n",
            "ranking of AL algorithms.\n",
            "--------------------------------------------------\n",
            "\u001b[1mHit nr 3, Title: Bilinearly indexed random processes -- \\emph{stationarization} of fully  lifted interpolation\u001b[0m\n",
            "Our companion paper \\cite{Stojnicnflgscompyx23} introduced a very powerful\n",
            "\\emph{fully lifted} (fl) statistical interpolating/comparison mechanism for\n",
            "bilinearly indexed random processes. Here, we present a particular realization\n",
            "of such fl mechanism that relies on a stationarization along the interpolating\n",
            "path concept. A collection of very fundamental relations among the\n",
            "interpolating parameters is uncovered, contextualized, and presented. As a nice\n",
            "bonus, in particular special cases, we show that the introduced machinery\n",
            "allows various simplifications to forms readily usable in practice. Given how\n",
            "many well known random structures and optimization problems critically rely on\n",
            "the results of the type considered here, the range of applications is pretty\n",
            "much unlimited. We briefly point to some of these opportunities as well.\n",
            "--------------------------------------------------\n",
            "\u001b[1mHit nr 4, Title: Dynamic Scheduling of a Multiclass Queue in the Halfin-Whitt Regime: A  Computational Approach for High-Dimensional Problems\u001b[0m\n",
            "We consider a multi-class queueing model of a telephone call center, in which\n",
            "a system manager dynamically allocates available servers to customer calls.\n",
            "Calls can terminate through either service completion or customer abandonment,\n",
            "and the manager strives to minimize the expected total of holding costs plus\n",
            "abandonment costs over a finite horizon. Focusing on the Halfin-Whitt heavy\n",
            "traffic regime, we derive an approximating diffusion control problem, and\n",
            "building on earlier work by Han et al. (2018), develop a simulation-based\n",
            "computational method for solution of such problems, one that relies heavily on\n",
            "deep neural network technology. Using this computational method, we propose a\n",
            "policy for the original (pre-limit) call center scheduling problem. Finally,\n",
            "the performance of this policy is assessed using test problems based on\n",
            "publicly available call center data. For the test problems considered so far,\n",
            "our policy does as well as the best benchmark we could find. Moreover, our\n",
            "method is computationally feasible at least up to dimension 100, that is, for\n",
            "call centers with 100 or more distinct customer classes.\n",
            "--------------------------------------------------\n",
            "\u001b[1mHit nr 5, Title: Mixed-Precision Quantization for Federated Learning on  Resource-Constrained Heterogeneous Devices\u001b[0m\n",
            "While federated learning (FL) systems often utilize quantization to battle\n",
            "communication and computational bottlenecks, they have heretofore been limited\n",
            "to deploying fixed-precision quantization schemes. Meanwhile, the concept of\n",
            "mixed-precision quantization (MPQ), where different layers of a deep learning\n",
            "model are assigned varying bit-width, remains unexplored in the FL settings. We\n",
            "present a novel FL algorithm, FedMPQ, which introduces mixed-precision\n",
            "quantization to resource-heterogeneous FL systems. Specifically, local models,\n",
            "quantized so as to satisfy bit-width constraint, are trained by optimizing an\n",
            "objective function that includes a regularization term which promotes reduction\n",
            "of precision in some of the layers without significant performance degradation.\n",
            "The server collects local model updates, de-quantizes them into full-precision\n",
            "models, and then aggregates them into a global model. To initialize the next\n",
            "round of local training, the server relies on the information learned in the\n",
            "previous training round to customize bit-width assignments of the models\n",
            "delivered to different clients. In extensive benchmarking experiments on\n",
            "several model architectures and different datasets in both iid and non-iid\n",
            "settings, FedMPQ outperformed the baseline FL schemes that utilize\n",
            "fixed-precision quantization while incurring only a minor computational\n",
            "overhead on the participating devices.\n",
            "--------------------------------------------------\n"
          ]
        }
      ]
    },
    {
      "cell_type": "markdown",
      "source": [
        "If you try to play around with the above you will find that it is quite hard to get the retriever to fail based on a semantic similarity search even for a very condense summary of the abstracts."
      ],
      "metadata": {
        "id": "qwc1UyORXcWK"
      }
    },
    {
      "cell_type": "markdown",
      "source": [
        "#### Breaking the retriever?\n",
        "\n",
        "\n",
        "In order to make things a bit harder we will try to collect a series of abstracts which are all related to the same topic, but which are not necessarily recent. To this end we fetch 100 article abstracts based on the query keyword `LLM`."
      ],
      "metadata": {
        "id": "eVWlf-Uan-0q"
      }
    },
    {
      "cell_type": "code",
      "source": [
        "query_keyword = \"LLM\"\n",
        "url = f\"https://arxiv.org/search/?query={query_keyword}&searchtype=all&abstracts=show&order=-announced_date_first&size=100\"\n",
        "\n",
        "\n",
        "# We collect everything in a list of dictionaries\n",
        "response = requests.get(url)\n",
        "if response.status_code != 200:\n",
        "  print('Failed to retrieve data from', url)\n",
        "\n",
        "soup = BeautifulSoup(response.content, 'html.parser')\n",
        "\n",
        "\n",
        "papers = []\n",
        "for item in soup.find_all('li', class_='arxiv-result'):\n",
        "  title = item.find('p', class_='title is-5 mathjax').text.strip()\n",
        "  abstract = item.find('span', class_='abstract-full has-text-grey-dark mathjax').text.strip()\n",
        "  papers.append({\"title\": title, \"abstract\": abstract})\n",
        "\n",
        "print(\"\")\n",
        "print(f\"We extracted a total of {len(papers)} abstracts on the topic of {query_keyword}\")"
      ],
      "metadata": {
        "id": "0BYGnEsD8_GZ",
        "colab": {
          "base_uri": "https://localhost:8080/",
          "height": 53
        },
        "outputId": "a6f40979-d0a4-4f26-dedf-12ad866c5d44"
      },
      "execution_count": 63,
      "outputs": [
        {
          "output_type": "display_data",
          "data": {
            "text/plain": [
              "<IPython.core.display.HTML object>"
            ],
            "text/html": [
              "\n",
              "  <style>\n",
              "    pre {\n",
              "        white-space: pre-wrap;\n",
              "    }\n",
              "  </style>\n",
              "  "
            ]
          },
          "metadata": {}
        },
        {
          "output_type": "stream",
          "name": "stdout",
          "text": [
            "\n",
            "We extracted a total of 100 abstracts on the topic of LLM\n"
          ]
        }
      ]
    },
    {
      "cell_type": "code",
      "source": [
        "documents_topic =  []\n",
        "\n",
        "for paper in papers:\n",
        "  doc  = Document(\n",
        "      page_content = paper[\"abstract\"],\n",
        "      metadata = {\"title\": paper[\"title\"]}\n",
        "  )\n",
        "  documents_topic.append(doc)"
      ],
      "metadata": {
        "colab": {
          "base_uri": "https://localhost:8080/",
          "height": 17
        },
        "id": "25XVd8gSg5_U",
        "outputId": "e30bd386-5a2e-4513-bbe0-9fcb1915571b"
      },
      "execution_count": 64,
      "outputs": [
        {
          "output_type": "display_data",
          "data": {
            "text/plain": [
              "<IPython.core.display.HTML object>"
            ],
            "text/html": [
              "\n",
              "  <style>\n",
              "    pre {\n",
              "        white-space: pre-wrap;\n",
              "    }\n",
              "  </style>\n",
              "  "
            ]
          },
          "metadata": {}
        }
      ]
    },
    {
      "cell_type": "markdown",
      "source": [
        "We embed these documents just as before"
      ],
      "metadata": {
        "id": "gwVTxPs_h-eI"
      }
    },
    {
      "cell_type": "code",
      "source": [
        "# We embed and store embeddings for the shortened list of abstracts\n",
        "faiss_index_topic = FAISS.from_documents(\n",
        "      documents=documents_topic,\n",
        "      embedding=embedder\n",
        "      )"
      ],
      "metadata": {
        "colab": {
          "base_uri": "https://localhost:8080/",
          "height": 17
        },
        "id": "zxUVHodGiClX",
        "outputId": "6dbc3738-8b1c-4292-c482-521aba82b345"
      },
      "execution_count": 65,
      "outputs": [
        {
          "output_type": "display_data",
          "data": {
            "text/plain": [
              "<IPython.core.display.HTML object>"
            ],
            "text/html": [
              "\n",
              "  <style>\n",
              "    pre {\n",
              "        white-space: pre-wrap;\n",
              "    }\n",
              "  </style>\n",
              "  "
            ]
          },
          "metadata": {}
        }
      ]
    },
    {
      "cell_type": "markdown",
      "source": [
        "And then we pick out one of the abstracts to make a query we can try to use for search retrieval."
      ],
      "metadata": {
        "id": "MQXkIOZziDz4"
      }
    },
    {
      "cell_type": "code",
      "source": [
        "# choose a number between 0-99 to pick out one of the indexed abstracts\n",
        "abstract_nr = 10\n",
        "\n",
        "documents_topic[abstract_nr]"
      ],
      "metadata": {
        "colab": {
          "base_uri": "https://localhost:8080/",
          "height": 303
        },
        "id": "H3fqGqQNhkCn",
        "outputId": "bd0074c8-7eaa-42d2-e2d6-61a60ed10d17"
      },
      "execution_count": 66,
      "outputs": [
        {
          "output_type": "display_data",
          "data": {
            "text/plain": [
              "<IPython.core.display.HTML object>"
            ],
            "text/html": [
              "\n",
              "  <style>\n",
              "    pre {\n",
              "        white-space: pre-wrap;\n",
              "    }\n",
              "  </style>\n",
              "  "
            ]
          },
          "metadata": {}
        },
        {
          "output_type": "execute_result",
          "data": {
            "text/plain": [
              "Document(page_content=\"Recent innovations in generative large language models (LLMs) have made their applications and use-cases ubiquitous. This has led to large-scale deployments of these models, using complex, expensive, and power-hungry AI accelerators, most commonly GPUs. These developments make LLM inference efficiency an important challenge. Based on our extensive characterization, we find that there are two main phases during an LLM inference request: a compute-intensive prompt computation, and a memory-intensive token generation, each with distinct latency, throughput, memory, and power characteristics. Despite state-of-the-art batching and scheduling, the token generation phase underutilizes compute resources. Specifically, unlike compute-intensive prompt computation phases, token generation phases do not require the compute capability of the latest GPUs, and can be run with lower power and cost.\\n  With Splitwise, we propose splitting the two phases of a LLM inference request on to separate machines. This allows us to use hardware that is well-suited for each phase, and provision resources independently per phase. However, splitting an inference request across machines requires state transfer from the machine running prompt computation over to the machine generating tokens. We implement and optimize this state transfer using the fast back-plane interconnects available in today's GPU clusters.\\n  We use the Splitwise technique to design LLM inference clusters using the same or different types of machines for the prompt computation and token generation phases. Our clusters are optimized for three key objectives: throughput, cost, and power. In particular, we show that we can achieve 1.4x higher throughput at 20% lower cost than current designs. Alternatively, we can achieve 2.35x more throughput with the same cost and power budgets.\\n        △ Less\", metadata={'title': 'Splitwise: Efficient generative LLM inference using phase splitting'})"
            ]
          },
          "metadata": {},
          "execution_count": 66
        }
      ]
    },
    {
      "cell_type": "code",
      "source": [
        "# The system prompt will be placed at the top of every message and should set overall system behaviour\n",
        "system_prompt = \"\"\"\n",
        "You are an expert in summarizing scientific literature.\n",
        "\"\"\"\n",
        "\n",
        "# We can try to set this quite low to make it hard for the retriever,\n",
        "# noting that if several abstracts are on a similar topic then a very short summary\n",
        "# should make it more difficult to retrieve the intended one\n",
        "max_words_for_summary = 3\n",
        "\n",
        "user_prompt = f\"\"\"\n",
        "Consider carefully the abstract supplied below and construct a very brief summary of its content.\n",
        "Try to use a maximum of {max_words_for_summary} words and do not include any mathematical formulas in your summary.\n",
        "\n",
        "abstract: {documents_topic[abstract_nr].page_content}\n",
        "\"\"\"\n",
        "\n",
        "\n",
        "# These are collected into a messages list of\n",
        "#\n",
        "#   SystemMessage - the system prompt\n",
        "#   HumanMessage  - the user query\n",
        "#   AIMessage     - the bot response, in case you wish to continue on a conversation\n",
        "messages = [\n",
        "    SystemMessage(content=system_prompt),\n",
        "    HumanMessage(content=user_prompt),\n",
        "]"
      ],
      "metadata": {
        "colab": {
          "base_uri": "https://localhost:8080/",
          "height": 17
        },
        "id": "HWo4_ExORy-M",
        "outputId": "b76de7ea-7d80-45bc-aa7e-e00b6b63edbd"
      },
      "execution_count": 67,
      "outputs": [
        {
          "output_type": "display_data",
          "data": {
            "text/plain": [
              "<IPython.core.display.HTML object>"
            ],
            "text/html": [
              "\n",
              "  <style>\n",
              "    pre {\n",
              "        white-space: pre-wrap;\n",
              "    }\n",
              "  </style>\n",
              "  "
            ]
          },
          "metadata": {}
        }
      ]
    },
    {
      "cell_type": "code",
      "source": [
        "# This creates an instance of the model interface which we can subsequently call on\n",
        "chat_model = ChatOpenAI(\n",
        "    openai_api_key=os.environ['OPENAI_API_KEY'],\n",
        "    # The below parameters can be changed\n",
        "    model=\"gpt-3.5-turbo-1106\",\n",
        "    temperature=0.0\n",
        ")\n",
        "\n",
        "\n",
        "# Here we collect the output from the chat model in the variable response\n",
        "response = chat_model.invoke(messages)\n",
        "\n",
        "# We can print out the response by calling on its content using a .content\n",
        "print(response.content)"
      ],
      "metadata": {
        "colab": {
          "base_uri": "https://localhost:8080/",
          "height": 53
        },
        "id": "8njbcnBghdR7",
        "outputId": "3746d53c-8977-4275-b1ce-11cbcd7f9970"
      },
      "execution_count": 68,
      "outputs": [
        {
          "output_type": "display_data",
          "data": {
            "text/plain": [
              "<IPython.core.display.HTML object>"
            ],
            "text/html": [
              "\n",
              "  <style>\n",
              "    pre {\n",
              "        white-space: pre-wrap;\n",
              "    }\n",
              "  </style>\n",
              "  "
            ]
          },
          "metadata": {}
        },
        {
          "output_type": "stream",
          "name": "stdout",
          "text": [
            "Summary: \n",
            "Language model optimization\n"
          ]
        }
      ]
    },
    {
      "cell_type": "markdown",
      "source": [
        "Now let's see if we can find the needle in this proverbial haystack as easily as before."
      ],
      "metadata": {
        "id": "OfW7HsAVhw_h"
      }
    },
    {
      "cell_type": "code",
      "source": [
        "# We define a generic query which incorporates the summary from the LLM\n",
        "search_query = f\"Find an article which discusses: {response.content}\"\n",
        "\n",
        "\n",
        "# Define how many similar documents you want to retrieve\n",
        "# These are returned in sorted order, with most similar placed first\n",
        "nr_hits = 5\n",
        "\n",
        "\n",
        "# Use FAISS to perform similarity search ...\n",
        "most_similar_topic = faiss_index_topic.similarity_search(query = search_query, k=nr_hits)\n",
        "\n",
        "\n",
        "# Lets check that the closest retrieved match is the same as abstract we used to construct the query\n",
        "if documents_topic[abstract_nr].metadata[\"title\"] == most_similar_topic[0].metadata[\"title\"]:\n",
        "  print(Style.BRIGHT + \"SUCESS! We found the correct abstract as the top ranked choice!\" + Style.RESET_ALL)\n",
        "  print(\"--\"*25)\n",
        "  print(most_similar_topic[0])\n",
        "# In case it was not the top pick, we check if it was among the ones retrieved from the vector store\n",
        "elif documents_topic[abstract_nr].metadata[\"title\"] in [most_similar_topic[nr_hit].metadata[\"title\"] for nr_hit in range(1,nr_hits)]:\n",
        "  print(Style.BRIGHT + f\"PARTIAL SUCESS! We found the correct abstract among the top {nr_hits} ranked choices!\" + Style.RESET_ALL)\n",
        "  print(\"--\"*25)\n",
        "  print(most_similar_topic[0])\n",
        "else:\n",
        "  print(Style.BRIGHT + \"FAILURE! We didn't retrieve the correct abstract as top choice!\" + Style.RESET_ALL)"
      ],
      "metadata": {
        "colab": {
          "base_uri": "https://localhost:8080/",
          "height": 35
        },
        "id": "z9PkPCZcRy6z",
        "outputId": "9d29ec92-9d2d-4d54-dd69-12c0828769b5"
      },
      "execution_count": 69,
      "outputs": [
        {
          "output_type": "display_data",
          "data": {
            "text/plain": [
              "<IPython.core.display.HTML object>"
            ],
            "text/html": [
              "\n",
              "  <style>\n",
              "    pre {\n",
              "        white-space: pre-wrap;\n",
              "    }\n",
              "  </style>\n",
              "  "
            ]
          },
          "metadata": {}
        },
        {
          "output_type": "stream",
          "name": "stdout",
          "text": [
            "\u001b[1mFAILURE! We didn't retrieve the correct abstract as top choice!\u001b[0m\n"
          ]
        }
      ]
    },
    {
      "cell_type": "code",
      "source": [],
      "metadata": {
        "id": "jGVEUsv7mmd1"
      },
      "execution_count": 69,
      "outputs": []
    },
    {
      "cell_type": "code",
      "source": [],
      "metadata": {
        "id": "jfwNHtlCjMpo"
      },
      "execution_count": null,
      "outputs": []
    },
    {
      "cell_type": "code",
      "source": [],
      "metadata": {
        "id": "h62I8muJjMmw"
      },
      "execution_count": null,
      "outputs": []
    },
    {
      "cell_type": "code",
      "source": [],
      "metadata": {
        "id": "HQdpEZYGjMj4"
      },
      "execution_count": null,
      "outputs": []
    },
    {
      "cell_type": "code",
      "source": [],
      "metadata": {
        "id": "4xT4TtWyjMgs"
      },
      "execution_count": null,
      "outputs": []
    },
    {
      "cell_type": "code",
      "source": [],
      "metadata": {
        "id": "r1JOodSJjMd0"
      },
      "execution_count": null,
      "outputs": []
    },
    {
      "cell_type": "code",
      "source": [],
      "metadata": {
        "id": "wUsNibq-jMa1"
      },
      "execution_count": null,
      "outputs": []
    },
    {
      "cell_type": "code",
      "source": [],
      "metadata": {
        "id": "CyugeAbjjMYD"
      },
      "execution_count": null,
      "outputs": []
    },
    {
      "cell_type": "markdown",
      "source": [
        "# Hands-On 3: Working against a PDF knowledge base"
      ],
      "metadata": {
        "id": "_JAzRAJkmqhe"
      }
    },
    {
      "cell_type": "markdown",
      "source": [
        "Some text here to introduce the main purpose of this section ... RAG from PDF ... basic finetuning of embedding model"
      ],
      "metadata": {
        "id": "M66qdDIL1aSv"
      }
    },
    {
      "cell_type": "markdown",
      "metadata": {
        "id": "DdWacV2UpnLJ"
      },
      "source": [
        "We start by providing the location and names of the PDF files which we will be exploring."
      ]
    },
    {
      "cell_type": "code",
      "execution_count": null,
      "metadata": {
        "id": "N8E7XBwp_rho",
        "colab": {
          "base_uri": "https://localhost:8080/",
          "height": 17
        },
        "outputId": "34c24336-33d6-4414-d576-04c532eecc95"
      },
      "outputs": [
        {
          "output_type": "display_data",
          "data": {
            "text/plain": [
              "<IPython.core.display.HTML object>"
            ],
            "text/html": [
              "\n",
              "  <style>\n",
              "    pre {\n",
              "        white-space: pre-wrap;\n",
              "    }\n",
              "  </style>\n",
              "  "
            ]
          },
          "metadata": {}
        }
      ],
      "source": [
        "# Absolute or relative path to folder where the PDF files are located\n",
        "DATAPATH = \"/content/\"\n",
        "#DATAPATH = \"/content/drive/MyDrive/bootcamp_dec7/Data/\"\n",
        "\n",
        "\n",
        "\n",
        "# Name of the PDF files (without the trailing .pdf file endings)\n",
        "Patricia_permobil_manual = \"Patricia_permobil_manual\"\n",
        "caterpillar_10k = \"Caterpillar-10k\"\n",
        "whirlpool_10k = \"whirlpool-10k\"\n",
        "electrolux_ann_rep = \"Electrolux-annual-report\"\n",
        "\n",
        "\n",
        "# We collect all the PDF file names in a list\n",
        "pdf_files = [\n",
        "    Patricia_permobil_manual,\n",
        "    caterpillar_10k,\n",
        "    whirlpool_10k,\n",
        "    electrolux_ann_rep\n",
        "]"
      ]
    },
    {
      "cell_type": "markdown",
      "metadata": {
        "id": "fMOQfRPLpnLJ"
      },
      "source": [
        "> **We load and inspect the text converted PDF files and some properties below**"
      ]
    },
    {
      "cell_type": "markdown",
      "metadata": {
        "id": "knrc96uypnLJ"
      },
      "source": [
        "We can now load one of the PDFs and examine its content. Note that this relies on extracting the content of the PDF as text and works well for the parts which are written text in the PDF, but works less well for e.g., tables and figures. In order to handle tables and figures well we typically need to perform pre-processing steps which are more complex and tailored for the specific PDF file type we wish to examine."
      ]
    },
    {
      "cell_type": "code",
      "source": [
        "# Helper functions for text retrieval from documents\n",
        "#-------------------------------------------------------------------------------\n",
        "def text_from_pdf(file_path: str) -> dict:\n",
        "  \"\"\"\n",
        "  Uses the PyMuPDF library fitz module to extract raw text from a pdf.\n",
        "    https://pymupdf.readthedocs.io/en/latest/\n",
        "\n",
        "  Input:\n",
        "  file_path - path to pdf file for parsing\n",
        "\n",
        "  Output:\n",
        "  dict - Returns a dictionary with \"page_nr\" as key and extracted text as value.\n",
        "  Additional properties can be made available (see link in comment below).\n",
        "  \"\"\"\n",
        "  doc = fitz.open(file_path)\n",
        "  pages = {}\n",
        "  for page in doc:\n",
        "    # type(page) = <class 'fitz.fitz.Page'>\n",
        "    # (https://pymupdf.readthedocs.io/en/latest/page.html)\n",
        "    pages[f\"page_{page.number}\"] = page.get_text()\n",
        "  return pages\n",
        "\n",
        "def pdf_dict_to_str(pdf_dicct: dict) -> str:\n",
        "  \"\"\"Construct a single text string from text_from_pdf() output\"\"\"\n",
        "  return \"\\n\".join(pdf_dicct.values())"
      ],
      "metadata": {
        "colab": {
          "base_uri": "https://localhost:8080/",
          "height": 17
        },
        "id": "JrykZn822F7j",
        "outputId": "394492a0-b29e-4b24-9de9-b32048a53fc4"
      },
      "execution_count": null,
      "outputs": [
        {
          "output_type": "display_data",
          "data": {
            "text/plain": [
              "<IPython.core.display.HTML object>"
            ],
            "text/html": [
              "\n",
              "  <style>\n",
              "    pre {\n",
              "        white-space: pre-wrap;\n",
              "    }\n",
              "  </style>\n",
              "  "
            ]
          },
          "metadata": {}
        }
      ]
    },
    {
      "cell_type": "code",
      "execution_count": null,
      "metadata": {
        "colab": {
          "base_uri": "https://localhost:8080/",
          "height": 446
        },
        "id": "zSZak8rJpnLJ",
        "outputId": "b5214d01-936b-466e-8509-1661b51ca7d3"
      },
      "outputs": [
        {
          "output_type": "display_data",
          "data": {
            "text/plain": [
              "<IPython.core.display.HTML object>"
            ],
            "text/html": [
              "\n",
              "  <style>\n",
              "    pre {\n",
              "        white-space: pre-wrap;\n",
              "    }\n",
              "  </style>\n",
              "  "
            ]
          },
          "metadata": {}
        },
        {
          "output_type": "stream",
          "name": "stdout",
          "text": [
            "\u001b[31m\u001b[103m\u001b[1mNr of pages in pdf document:\u001b[0m 96 \n",
            "\n",
            "The document contains \u001b[31m\u001b[103m\u001b[1m195303\u001b[0m symbols/characters\n",
            "\u001b[31m\u001b[103m\u001b[1m\n",
            "\n",
            "Ex text from first page:\u001b[0m\n",
            "\n",
            "ZR Owner’s Manual\n",
            "OM0005_Rev A_ZR\n",
            "ii\n",
            "REGISTER YOUR TiLITE\n",
            "Register online at TiLite.com\n",
            "or\n",
            "Complete and mail the form on the next page\n",
            "Why Should You Register:\n",
            "1. Increase your use and enjoyment of your TiLite by receiving updates from\n",
            "    TiLite with product information, maintenance tips and industry news.\n",
            "2. Enable TiLite to contact you or your health care provider if servicing is\n",
            "    needed for your wheelchair.\n",
            "3. Provide your feedback to TiLite regarding your experience and needs,\n",
            "    thereby enabling TiLite to further improve product designs.\n",
            "All information you provide to TiLite when you register will be protected by TiLite as \n",
            "required by applicable laws and regulations and will be used solely by TiLite.\n",
            "\n"
          ]
        }
      ],
      "source": [
        "pdf_file = Patricia_permobil_manual\n",
        "\n",
        "# Here we read in the PDF as text using the function text_from_pdf(), defined in the file helper_functions.py\n",
        "pdf_text = text_from_pdf(DATAPATH + pdf_file + \".pdf\")\n",
        "\n",
        "\n",
        "# Here we count and print out the total nr of pages in the retrieved PDF\n",
        "print(f\"{Fore.RED + Back.LIGHTYELLOW_EX + Style.BRIGHT}Nr of pages in pdf document:{Style.RESET_ALL} {len(pdf_text.keys())} \\n\")\n",
        "\n",
        "\n",
        "# Here we count and print out the total nr of symbols in the retrieved PDF file\n",
        "concat_text = pdf_dict_to_str(text_from_pdf(DATAPATH + pdf_file + \".pdf\"))\n",
        "print(f\"The document contains {Fore.RED + Back.LIGHTYELLOW_EX + Style.BRIGHT}{len(concat_text)}{Style.RESET_ALL} symbols/characters\")\n",
        "\n",
        "\n",
        "# We then print an example page from the PDF\n",
        "print(f\"{Fore.RED + Back.LIGHTYELLOW_EX + Style.BRIGHT}\\n\\nEx text from first page:{Style.RESET_ALL}\\n\")\n",
        "print(f\"{pdf_text['page_3']}\")"
      ]
    },
    {
      "cell_type": "markdown",
      "metadata": {
        "id": "9Ung3ivApnLJ"
      },
      "source": [
        "### OPTIONAL: The following section performs chunking of text and creates indexed embeddings for the chunks"
      ]
    },
    {
      "cell_type": "markdown",
      "metadata": {
        "id": "IeM01TyzpnLJ"
      },
      "source": [
        "The chat models have a limit in the number of tokens/characters they can receive as input. This means we cannot feed them the full PDF as context. Rather we need to find the most relevant pieces of text within the PDF and use that when asking the LLM to respond to a query about the PDF.\n",
        "\n",
        "Here we split up the four PDF documents into piecewise chunks of text for embedding purposes."
      ]
    },
    {
      "cell_type": "code",
      "source": [
        "def TextLoader(\n",
        "    file_path: str,\n",
        "    loader: Type[PyPDFLoader | JSONLoader | None]=None,\n",
        "    jq_schema: str='.', # '.content', '.messages[].content'\n",
        "    content_key='content',\n",
        "    json_lines: bool=False,\n",
        "    txt_encoding: str=sys.getfilesystemencoding()\n",
        "    ) -> List[Document]:\n",
        "    \"\"\"\n",
        "    Converts a pdf, JSON or txt file into a langchain Document object,\n",
        "    containing methods page_content and metadata.\n",
        "    Specify type via loader, if not PyPDFLoader | JSONLoader then assumes txt\n",
        "    \"\"\"\n",
        "    pages = None\n",
        "    if loader==PyPDFLoader:\n",
        "      loader = PyPDFLoader(file_path=file_path)\n",
        "      pages = loader.load()   # .load_and_split()\n",
        "    elif loader==JSONLoader:\n",
        "      loader = JSONLoader(\n",
        "          file_path=file_path,\n",
        "          jq_schema=jq_schema,\n",
        "          content_key=content_key,\n",
        "          json_lines=json_lines\n",
        "          )\n",
        "      pages = loader.load()\n",
        "    else:\n",
        "      text_string = text_from_txt(file_path=file_path, encoding=txt_encoding)\n",
        "      pages = [Document(page_content=text_string, metadata={\"source\": file_path})]\n",
        "    return pages\n",
        "\n",
        "\n",
        "def chunk_documents(\n",
        "    documents: List[Document],\n",
        "    TextSplitter: Type[CharacterTextSplitter | RecursiveCharacterTextSplitter],\n",
        "    chunk_size: int=512,\n",
        "    chunk_overlap: int=20,\n",
        "    separator: str=None,\n",
        "    ) -> List[Document]:\n",
        "    \"\"\"\n",
        "    TBW ...\n",
        "    Output: A list of langchain.schema.document.Document objects.\n",
        "    These have methods\n",
        "      - Document.page_content [str] contains the text chunk\n",
        "      - Doumnent.metadata [dict] contains optional metadata\n",
        "    \"\"\"\n",
        "    docs = None\n",
        "    # CharacterTextSplitter\n",
        "    if separator!=None:\n",
        "      text_splitter = CharacterTextSplitter(\n",
        "      separator = separator,\n",
        "      chunk_size = chunk_size,\n",
        "      chunk_overlap  = chunk_overlap\n",
        "      )\n",
        "      docs = text_splitter.split_documents(documents)\n",
        "    #RecursiveCharacterTextSplitter\n",
        "    else:\n",
        "      text_splitter = RecursiveCharacterTextSplitter(\n",
        "          chunk_size = chunk_size,\n",
        "          chunk_overlap  = chunk_overlap\n",
        "      )\n",
        "      docs = text_splitter.split_documents(documents)\n",
        "\n",
        "    if docs:\n",
        "      return docs\n",
        "    else:\n",
        "      print(f\"Error: could not chunk text.\")\n",
        "      return None\n",
        "\n",
        "\n",
        "def text_from_txt(\n",
        "    file_path: str,\n",
        "    encoding: str=sys.getfilesystemencoding()\n",
        "    ) -> str:\n",
        "  \"\"\"\n",
        "  Reads a txt file and returns a string object of content\n",
        "\n",
        "  Input:\n",
        "  file_path - path to txt file for parsing\n",
        "\n",
        "  Output:\n",
        "  str - Returns extracted text as str.\n",
        "  \"\"\"\n",
        "  with open(file_path, encoding=encoding) as f:\n",
        "    text = f.read()\n",
        "  return text"
      ],
      "metadata": {
        "id": "skMvqNkzQ68N",
        "colab": {
          "base_uri": "https://localhost:8080/",
          "height": 17
        },
        "outputId": "7481d745-c01c-4480-8cd6-d2c9dedbee4e"
      },
      "execution_count": null,
      "outputs": [
        {
          "output_type": "display_data",
          "data": {
            "text/plain": [
              "<IPython.core.display.HTML object>"
            ],
            "text/html": [
              "\n",
              "  <style>\n",
              "    pre {\n",
              "        white-space: pre-wrap;\n",
              "    }\n",
              "  </style>\n",
              "  "
            ]
          },
          "metadata": {}
        }
      ]
    },
    {
      "cell_type": "code",
      "execution_count": null,
      "metadata": {
        "id": "OSpFUPzL_tqN",
        "colab": {
          "base_uri": "https://localhost:8080/",
          "height": 17
        },
        "outputId": "3cf35087-aa53-45be-8bcd-625237279457"
      },
      "outputs": [
        {
          "output_type": "display_data",
          "data": {
            "text/plain": [
              "<IPython.core.display.HTML object>"
            ],
            "text/html": [
              "\n",
              "  <style>\n",
              "    pre {\n",
              "        white-space: pre-wrap;\n",
              "    }\n",
              "  </style>\n",
              "  "
            ]
          },
          "metadata": {}
        }
      ],
      "source": [
        "# We loop over the 4 PDF files and  collect the chunked results into a Python dictionary\n",
        "chunked_pdf_files_dict = {}\n",
        "for pdf_file in pdf_files:\n",
        "    # Here we get the path to the current PDF file\n",
        "    pdf_location = DATAPATH + pdf_file + \".pdf\"\n",
        "    # The below function performs the cunking of the PDF\n",
        "    chunked_pdf = chunk_documents(\n",
        "        documents= TextLoader(file_path=pdf_location, loader=PyPDFLoader),\n",
        "        TextSplitter=RecursiveCharacterTextSplitter,\n",
        "        chunk_size=512, # 512 is the maximum Sequence length\n",
        "        chunk_overlap=20,\n",
        "        separator=None,\n",
        "        )\n",
        "    chunked_pdf_files_dict[pdf_file] = chunked_pdf"
      ]
    },
    {
      "cell_type": "markdown",
      "metadata": {
        "id": "eLg9w5arpnLJ"
      },
      "source": [
        "Let's print out a sample chunk so that we can see what kind of information is available within a single chunk of text."
      ]
    },
    {
      "cell_type": "code",
      "execution_count": null,
      "metadata": {
        "id": "v3jNhQ6WpnLJ",
        "colab": {
          "base_uri": "https://localhost:8080/",
          "height": 106
        },
        "outputId": "3ac72019-b93f-4011-c07d-c290aec2c0d5"
      },
      "outputs": [
        {
          "output_type": "display_data",
          "data": {
            "text/plain": [
              "<IPython.core.display.HTML object>"
            ],
            "text/html": [
              "\n",
              "  <style>\n",
              "    pre {\n",
              "        white-space: pre-wrap;\n",
              "    }\n",
              "  </style>\n",
              "  "
            ]
          },
          "metadata": {}
        },
        {
          "output_type": "stream",
          "name": "stdout",
          "text": [
            "3. The assistant at the rear of the chair is in control of this procedure. He or she must tilt the chair back to its balance point on the rear wheels. NEVER attempt to lift a wheelchair by lifting on any removable (detachable) parts, including upholstery and removable push handles or push handle grips. \n",
            "4. The second assistant at the front must firmly grasp a non-detachable part of the front frame (but NOT swing away hangers) with both hands and lift the chair up and over one stair at a time.\n"
          ]
        }
      ],
      "source": [
        "print(chunked_pdf_files_dict[Patricia_permobil_manual][79].page_content)"
      ]
    },
    {
      "cell_type": "markdown",
      "metadata": {
        "id": "yfKOwgNNpnLJ"
      },
      "source": [
        "We can also inspect a chunk which contains a table, to see what it looks like. Observe the format of the table and note that this is the kind of inromation that will be provided as input to the LLM when we query it."
      ]
    },
    {
      "cell_type": "code",
      "execution_count": null,
      "metadata": {
        "id": "O4PlS1CFpnLJ",
        "colab": {
          "base_uri": "https://localhost:8080/",
          "height": 267
        },
        "outputId": "08511f49-7fc6-4a89-f242-c3adf0a5ee20"
      },
      "outputs": [
        {
          "output_type": "display_data",
          "data": {
            "text/plain": [
              "<IPython.core.display.HTML object>"
            ],
            "text/html": [
              "\n",
              "  <style>\n",
              "    pre {\n",
              "        white-space: pre-wrap;\n",
              "    }\n",
              "  </style>\n",
              "  "
            ]
          },
          "metadata": {}
        },
        {
          "output_type": "stream",
          "name": "stdout",
          "text": [
            "agreement.  At select business units, we have hired certain highly specialized employees under employment contracts that specify a\n",
            "term of employment, pay and other benefits.\n",
            " \n",
            "Full-T ime Employees at Year-End\n",
            " 2022 2021\n",
            "Inside U.S. 48,200 44,300\n",
            "Outside U.S. 60,900 63,400\n",
            "Total 109,100 107,700\n",
            "By Region:   \n",
            "North America 48,700 44,700\n",
            "EAME 16,900 17,600\n",
            "Latin America 19,100 19,500\n",
            "Asia/Pacific 24,400 25,900\n",
            "Total 109,100 107,700\n"
          ]
        }
      ],
      "source": [
        "# The below chunk contains a table from the caterpillar_10k PDF.\n",
        "print(chunked_pdf_files_dict[caterpillar_10k][104].page_content)"
      ]
    },
    {
      "cell_type": "markdown",
      "metadata": {
        "id": "eAls1duKpnLK"
      },
      "source": [
        "#### Performing the embedding of the chunked PDF documents"
      ]
    },
    {
      "cell_type": "code",
      "execution_count": null,
      "metadata": {
        "id": "ixzJbGHipnLK"
      },
      "outputs": [],
      "source": [
        "embed_pdfs = False\n",
        "save_embeddings = False\n",
        "\n",
        "# For embeddings we use the best open source model on the MTEB leaderboard at https://huggingface.co/spaces/mteb/leaderboard\n",
        "embedding_model = \"BAAI/bge-small-en-v1.5\""
      ]
    },
    {
      "cell_type": "markdown",
      "metadata": {
        "id": "8cImvWyNpnLK"
      },
      "source": [
        "> **NB: The below code block takes around 100 minutes to complete for the four PDF's (100-150 pages each), so this has been prepared before the lecture. We have kept the code here for those interested, but during the course**\n",
        ">\n",
        "> **`DO NOT RUN THE BELOW TWO CELLS!` or `DO NOT MODIFY THE embed_pdfs = False and save_embeddings = False!`**"
      ]
    },
    {
      "cell_type": "code",
      "source": [
        "def make_index_FAISS(\n",
        "    chunked_documents: List[Document],\n",
        "    embedding: HuggingFaceEmbeddings,\n",
        "    ) -> List:\n",
        "  \"\"\"Use FAISS to perform similarity search ...\"\"\"\n",
        "  faiss_index = FAISS.from_documents(\n",
        "      documents=chunked_documents,\n",
        "      embedding=embedding\n",
        "      )\n",
        "  return faiss_index\n",
        "\n",
        "\n",
        "def similarity_search_FAISS(\n",
        "    search_query: str,\n",
        "    index_store: FAISS,\n",
        "    nr_hits: int=5,\n",
        "    ) -> List:\n",
        "  \"\"\"Use FAISS to perform similarity search ...\"\"\"\n",
        "  most_similar = index_store.similarity_search(search_query, k=nr_hits)\n",
        "  return most_similar"
      ],
      "metadata": {
        "id": "gVn3zxpE4nOZ"
      },
      "execution_count": null,
      "outputs": []
    },
    {
      "cell_type": "code",
      "execution_count": null,
      "metadata": {
        "id": "Eh6n7_MrpnLK"
      },
      "outputs": [],
      "source": [
        "if embed_pdfs:\n",
        "    embedding_dict = {}\n",
        "    for pdf_file in pdf_files:\n",
        "        print(f\"Creating FAISS embedding for document {pdf_file} using - {embedding_model}\")\n",
        "        start = timer()\n",
        "        embedding = doc_embedding(embedding_model=embedding_model)\n",
        "        faiss_index = make_index_FAISS(chunked_documents=chunked_pdf_files_dict[pdf_file], embedding=embedding)\n",
        "        end = timer()\n",
        "        time_taken=end-start\n",
        "        print(f\"Done! Embedded vector index created after {time_taken/60:.2f} minutes\")\n",
        "        print(\"*\"*25)\n",
        "        embedding_dict[pdf_file] = faiss_index"
      ]
    },
    {
      "cell_type": "markdown",
      "metadata": {
        "id": "3ZR0NtCbpnLK"
      },
      "source": [
        "Here we save the embeddings so that we don't have to rerun the above every time."
      ]
    },
    {
      "cell_type": "code",
      "execution_count": null,
      "metadata": {
        "id": "jXgHYu7MpnLK"
      },
      "outputs": [],
      "source": [
        "if save_embeddings:\n",
        "    for pdf_embedding in embedding_dict.keys():\n",
        "        FAISS_folder_name = DATAPATH + f\"FAISS_{pdf_embedding}.faiss\"\n",
        "        embedding_dict[pdf_embedding].save_local(FAISS_folder_name)"
      ]
    },
    {
      "cell_type": "markdown",
      "metadata": {
        "id": "uaplPKsbpnLK"
      },
      "source": [
        "Note that the above two code blocks have been run in advance in order to save the embeddings. This allows us to avoid doing this during the live session."
      ]
    },
    {
      "cell_type": "markdown",
      "metadata": {
        "id": "o7XzwMK-pnLK"
      },
      "source": [
        "### Loading the saved embeddings"
      ]
    },
    {
      "cell_type": "markdown",
      "metadata": {
        "id": "Dk-DHn1XpnLK"
      },
      "source": [
        "In order to match our query to relevant context within the PDF files we must embed the text of the PDF files into an *embedding space*. This is done by chunking the text of the PDF files and then store the chunks as indexed *embedding vectors*. This is what has been done in advance by performing the steps in the above optional section.\n",
        "\n",
        "We can then create an *embedding vector* from our query and perform a similarity operation against all of the embedded chunks, which allow us to find the most semantically similar chunks by performing a very quick operation. In this way we can quickly retrieve relevant context for our query."
      ]
    },
    {
      "cell_type": "markdown",
      "metadata": {
        "id": "GN1BAEEapnLK"
      },
      "source": [
        "If embeddings are already saved we can simply load them from storage. The output from running the embedding models have been saved in the four FAISS folders which you can see in the downloaded course content. This avoids repeating the embedding process which can be quite time consuming. In a production environment you typically do this kind of indexing once, or on a running schedule if you expect the documents you embed will change over time."
      ]
    },
    {
      "cell_type": "markdown",
      "metadata": {
        "id": "j_l4Ak4apnLK"
      },
      "source": [
        "> **`Note that the first time you run the below code cell block you will load the embedding model into memory and you may see progress bars running while this happens. Once the model is loaded into memory this will no longer happen.`**"
      ]
    },
    {
      "cell_type": "code",
      "execution_count": null,
      "metadata": {
        "id": "zi3wTxW2pnLK"
      },
      "outputs": [],
      "source": [
        "# For embeddings we use the best open source model on the MTEB leaderboard at https://huggingface.co/spaces/mteb/leaderboard\n",
        "embedding_model = \"BAAI/bge-large-en-v1.5\"\n",
        "\n",
        "# We load and collect the saved embeddings in a python dictionary. This only takes ~15 seconds to load\n",
        "faiss_embeddings_dict = {}\n",
        "if not save_embeddings:\n",
        "    for pdf_file in pdf_files:\n",
        "        FAISS_folder_name = DATAPATH + f\"FAISS_{pdf_file}.faiss\"\n",
        "        embedding = doc_embedding(embedding_model=embedding_model)\n",
        "        faiss_embeddings_dict[pdf_file] = FAISS.load_local(FAISS_folder_name, embedding)"
      ]
    },
    {
      "cell_type": "markdown",
      "metadata": {
        "id": "6gH3dIOapnLK"
      },
      "source": [
        "Let's try out making a simple query against the saved embeddings by doing a similarity search. The similarity search is a quick operation which retrieves the most semantically similar embeddings to your query."
      ]
    },
    {
      "cell_type": "code",
      "execution_count": null,
      "metadata": {
        "id": "1IrI6te5pnLL"
      },
      "outputs": [],
      "source": [
        "# We choose one of the PDF files and a relevant search query\n",
        "pdf_file = Patricia_permobil_manual\n",
        "similarity_query = \"What is the procedure for setting up my TiLite rigid wheelchair?\"\n",
        "\n",
        "\n",
        "# We retrieve the most semantically similar chunks by doing a similarity search over the saved embeddings in our faiss_embeddings_dict\n",
        "# The argument k sets how many such chunks we wish to retrieve\n",
        "test = faiss_embeddings_dict[pdf_file].similarity_search(similarity_query, k=10)\n",
        "\n",
        "\n",
        "# We can now print out the most similar chunk. We print out both the chunk and the PDF page on which it is located.\n",
        "# The retrieved chunks are collected in order of similarity from 0 to k-1,\n",
        "# so chunk_nr = 0 correspond to the most similar chunk\n",
        "chunk_nr = 0\n",
        "print(f\"Found on page: {test[chunk_nr].metadata['page']}\\n\")\n",
        "print(test[chunk_nr].page_content)"
      ]
    },
    {
      "cell_type": "markdown",
      "metadata": {
        "id": "R1qkcFGJpnLL"
      },
      "source": [
        "### Querying the Permobil Manual PDF"
      ]
    },
    {
      "cell_type": "markdown",
      "metadata": {
        "id": "U9IbWl4TpnLL"
      },
      "source": [
        "We are now ready to start asking questions of our PDF files."
      ]
    },
    {
      "cell_type": "code",
      "execution_count": null,
      "metadata": {
        "id": "zdn6GzoApnLL"
      },
      "outputs": [],
      "source": [
        "# Step 1:\n",
        "# Setting up the Model\n",
        "# We're preparing to use a specific AI model by setting some initial parameters.\n",
        "# One of these parameters is 'temperature', which affects how creative or strict the model's responses will be.\n",
        "# A lower temperature like 0.0 makes the model more focused and less random in its responses.\n",
        "temperature = 0.0\n",
        "\n",
        "\n",
        "# Now we create an instance of the ChatOpenAI model, which we'll use to generate responses.\n",
        "# We're specifying which model to use ('gpt-3.5-turbo') and providing our OpenAI API key to authorize access.\n",
        "chat_model = ChatOpenAI(\n",
        "    openai_api_key=os.environ['OPENAI_API_KEY'],\n",
        "    model=\"gpt-3.5-turbo\",\n",
        "    temperature=temperature\n",
        ")\n",
        "\n",
        "\n",
        "# Step 2:\n",
        "# Defining a Prompt Function to Use the Model\n",
        "# We define a function for more easily calling the LLM using the same prompt template but with a different query and context\n",
        "def LLM_with_pdf_context(context: str, query: str, temperature: float=0.0):\n",
        "\n",
        "    # System prompt\n",
        "    system_prompt = f\"\"\"\n",
        "    Ignore all previous instructions. You are a helpful investment management expert.\n",
        "    You are logical, methodical and always find the best and most relevant answer to a query.\n",
        "    Break down the problem, objects, numbers and logic before starting to answer the query.\n",
        "    Then proceed to answer in a step-by-step manner.\n",
        "    \"\"\"\n",
        "\n",
        "    # This prompt template inputs the merged context and query for the LLM\n",
        "    user_prompt = f\"\"\"\n",
        "    I need help from an investement management expert.\n",
        "    One of our portfolio companies have handed us these brief instruction snippets as\n",
        "    context: {context}\n",
        "\n",
        "    Use only the above context and nothing else to answer the following\n",
        "    question: {query}\n",
        "    If the answer is provided in the form of a bulleted list within the context,\n",
        "    then return those instructions verbatim and do not try to rephrase them.\n",
        "    If you cannot answer based on the information in context, then do not try to answer, but instead must answer verbatim with:\n",
        "    {{There is no available information related to your query in the context!'}}\n",
        "    \"\"\"\n",
        "\n",
        "    messages = [\n",
        "        SystemMessage(content=system_prompt),\n",
        "        HumanMessage(content=user_prompt),\n",
        "    ]\n",
        "\n",
        "    response = chat_model(messages, temperature=temperature)\n",
        "    print(response.content)"
      ]
    },
    {
      "cell_type": "code",
      "execution_count": null,
      "metadata": {
        "id": "IL3UqqyspnLL"
      },
      "outputs": [],
      "source": [
        "# We choose one of the PDF files and a relevant search query. This query is the same as we asked during session 1 using the AskYourPDF plugin\n",
        "pdf_file = Patricia_permobil_manual\n",
        "query = \"What tools are needed for adjusting the Front Seat Height on Slipstream Single-Sided Forks. Also provide the steps for performing the adjustment.\"\n",
        "\n",
        "\n",
        "# We retrieve the most similar chunks related to above search query and collect these into a context string\n",
        "faiss_index = faiss_embeddings_dict[pdf_file]\n",
        "top_hits = similarity_search_FAISS(search_query=query, nr_hits=5, index_store=faiss_index)\n",
        "context = \"\".join([document.page_content for document in top_hits])"
      ]
    },
    {
      "cell_type": "markdown",
      "metadata": {
        "id": "FaNW0MHQpnLL"
      },
      "source": [
        "First, let's use all of the retrieved top hits as context when querying the model."
      ]
    },
    {
      "cell_type": "code",
      "execution_count": null,
      "metadata": {
        "id": "RHnd-fAPpnLL"
      },
      "outputs": [],
      "source": [
        "# Use our pre-defined function to get the model response\n",
        "LLM_with_pdf_context(context, query)"
      ]
    },
    {
      "cell_type": "markdown",
      "metadata": {
        "id": "RZW_w3OGpnLL"
      },
      "source": [
        "We see that the instructions are incomplete (these contain 7 steps in the PDF). This is due to the fact that the most relevant chunk happened to only contain the first part of the full instructions. Since the chunks are small this is something that can happen quite often. In order to get a more complete response we can try to feed not the retrieved and merged chunks as context, but instead feed the whole PDF page of the most relevant chunk, assuming it contains more fuller context. We can also do some combination of this and using other chunks if we find that top hit doesn't always work."
      ]
    },
    {
      "cell_type": "code",
      "execution_count": null,
      "metadata": {
        "id": "nO6g6UmppnLL"
      },
      "outputs": [],
      "source": [
        "# Here we get the page of the top hit and use that whole PDF page as context\n",
        "context_page = f\"\"\"{pdf_text[f'page_{top_hits[0].metadata[\"page\"]}']}\"\"\"\n",
        "\n",
        "# Use the pre-defined function but with the whole context page as context\n",
        "LLM_with_pdf_context(context_page, query)"
      ]
    },
    {
      "cell_type": "markdown",
      "metadata": {
        "id": "nhNvch_opnLL"
      },
      "source": [
        "In this case this worked much better, since the retrieved page actually contained the full instructions. In real production applications you may not always be so lucky, the instructions could for example be spread over multiple pages, so some work is often required to ensure consistency over a large corpus of texts."
      ]
    },
    {
      "cell_type": "markdown",
      "metadata": {
        "id": "7LdcOA6vpnLL"
      },
      "source": [
        "### Querying the Electrolux Annual Report PDF"
      ]
    },
    {
      "cell_type": "markdown",
      "metadata": {
        "id": "Mq6PlK9FpnLL"
      },
      "source": [
        "Let's try asking some questions based on the content in the Electrolux's annual report for 2022."
      ]
    },
    {
      "cell_type": "code",
      "source": [
        "def get_contexts(pdf: str, query: str, faiss_embeddings_dict: dict, nr_hits: int=5):\n",
        "    contexts = []\n",
        "    faiss_index = faiss_embeddings_dict[pdf]\n",
        "    top_hits = similarity_search_FAISS(search_query=query, nr_hits=nr_hits, index_store=faiss_index)\n",
        "    context = \"\".join([document.page_content for document in top_hits])\n",
        "    contexts.append(context)\n",
        "\n",
        "    return contexts"
      ],
      "metadata": {
        "id": "rR8uh34246JW"
      },
      "execution_count": null,
      "outputs": []
    },
    {
      "cell_type": "code",
      "execution_count": null,
      "metadata": {
        "id": "xpq0VpmdpnLL"
      },
      "outputs": [],
      "source": [
        "# Set our pdf variable to the Electrolux annual report\n",
        "pdf_file = electrolux_ann_rep"
      ]
    },
    {
      "cell_type": "code",
      "execution_count": null,
      "metadata": {
        "id": "7tEKHH6WpnLL"
      },
      "outputs": [],
      "source": [
        "query = \"Which major events happened for Electrolux during 2022?\"\n",
        "\n",
        "\n",
        "# Use our function to retrieve the most similar chunks related to the search query for the given PDF\n",
        "context = get_contexts(pdf=pdf_file, query=query, faiss_embeddings_dict=faiss_embeddings_dict)\n",
        "\n",
        "\n",
        "# Use our pre-defined function to get the model response\n",
        "LLM_with_pdf_context(context, query)"
      ]
    },
    {
      "cell_type": "markdown",
      "metadata": {
        "id": "dmZGBymkpnLM"
      },
      "source": [
        "**Try it out yourself:**\n",
        "\n",
        "Try it out by searching with your own query for information from the Electrolux Annual Report. You could, for example, ask questions about risks and challenges mentioned in the report or ask the model to explain Electrolux's business in Latin America."
      ]
    },
    {
      "cell_type": "code",
      "execution_count": null,
      "metadata": {
        "id": "fcP1wzPqpnLM"
      },
      "outputs": [],
      "source": [
        "# Write your own query and retrieve search results from that as context for the LLM\n",
        "query = \"...\"\n",
        "\n",
        "\n",
        "# Use our function to retrieve the most similar chunks related to the search query for the given PDF\n",
        "context = get_contexts(pdf=pdf_file, query=query, faiss_embeddings_dict=faiss_embeddings_dict)\n",
        "\n",
        "\n",
        "# Use our pre-defined function to get the model response\n",
        "LLM_with_pdf_context(context, query)"
      ]
    },
    {
      "cell_type": "markdown",
      "metadata": {
        "id": "l-I7T4fOpnLM"
      },
      "source": [
        "### Querying the Caterpillar 10-K PDF"
      ]
    },
    {
      "cell_type": "markdown",
      "metadata": {
        "id": "K-8JNa9epnLM"
      },
      "source": [
        "Let's try asking some questions based on the content in the Caterpillar 10-K annual report for 2022."
      ]
    },
    {
      "cell_type": "code",
      "execution_count": null,
      "metadata": {
        "id": "KF25Fej1pnLM"
      },
      "outputs": [],
      "source": [
        "# Set our pdf variable to the Caterpillar 10-K report\n",
        "pdf_file = caterpillar_10k"
      ]
    },
    {
      "cell_type": "code",
      "execution_count": null,
      "metadata": {
        "id": "sPOdlELbpnLM"
      },
      "outputs": [],
      "source": [
        "# Ask a relevant query\n",
        "query = \"Which identified risks and challenges are mentioned in the report?\"\n",
        "\n",
        "\n",
        "# Use our function to retrieve the most similar chunks related to the search query for the given PDF\n",
        "context = get_contexts(pdf=pdf_file, query=query, faiss_embeddings_dict=faiss_embeddings_dict)\n",
        "\n",
        "\n",
        "# Use our pre-defined function to get the model response\n",
        "LLM_with_pdf_context(context, query)"
      ]
    },
    {
      "cell_type": "markdown",
      "metadata": {
        "id": "qSFO1rHApnLM"
      },
      "source": [
        "**Tables in PDF-reports:**\n",
        "\n",
        "The Caterpillar 10-K report contains multiple tables which may cause a problem when using the text chunks for similarity retrieval. Here we can try and ask questions about information found in tables in the report. However, depending on the chunks, the model may confuse numbers found in the tables."
      ]
    },
    {
      "cell_type": "code",
      "execution_count": null,
      "metadata": {
        "id": "8k6DoF4MpnLM"
      },
      "outputs": [],
      "source": [
        "# Let's ask a question which requires analyzing table information inside the PDF\n",
        "query = \"How many full-time employees did they have at the end of the year 2022 in Latin America?\"\n",
        "\n",
        "\n",
        "# Use our function to retrieve the most similar chunks related to the search query for the given PDF\n",
        "context = get_contexts(pdf=pdf_file, query=query, faiss_embeddings_dict=faiss_embeddings_dict)\n",
        "\n",
        "\n",
        "# Use our pre-defined function to get the model response\n",
        "LLM_with_pdf_context(context, query)"
      ]
    },
    {
      "cell_type": "markdown",
      "metadata": {
        "id": "K1s3gGGUpnLM"
      },
      "source": [
        "**Try it out yourself:**\n",
        "\n",
        "Try it out by searching with your own query for information from the Caterpillar 10-K report."
      ]
    },
    {
      "cell_type": "code",
      "execution_count": null,
      "metadata": {
        "id": "YPdSQmz1pnLM"
      },
      "outputs": [],
      "source": [
        "# Write your own query and retrieve search results from that as context for the LLM\n",
        "query = \"...\"\n",
        "\n",
        "\n",
        "# Use our function to retrieve the most similar chunks related to the search query for the given PDF\n",
        "context = get_contexts(pdf=pdf_file, query=query, faiss_embeddings_dict=faiss_embeddings_dict)\n",
        "\n",
        "\n",
        "# Use our pre-defined function to get the model response\n",
        "LLM_with_pdf_context(context, query)"
      ]
    },
    {
      "cell_type": "markdown",
      "metadata": {
        "id": "VB4hLDpbpnLM"
      },
      "source": [
        "### Comparison between two PDF: Electrolux Annual Report and Whirlpool 10-K Report"
      ]
    },
    {
      "cell_type": "markdown",
      "metadata": {
        "id": "1faZmz7ipnLM"
      },
      "source": [
        "Let's go a bit deeper and try to compare information between two different PDF files. We can try to ask a question for which we expect there are answers in both the Electrolux annual report and the Whirlpool 10-K report. By using a query to retrieve relevant information from both of these reports we can use that as context to the LLM and ask about comparisons etc."
      ]
    },
    {
      "cell_type": "code",
      "execution_count": null,
      "metadata": {
        "id": "yvJgdE4jpnLM"
      },
      "outputs": [],
      "source": [
        "# We define a function for more easily call the LLM using the same prompt template but with a different query and contexts\n",
        "def LLM_with_pdf_context_comparison(company1: str, company2: str, context1: str, context2: str, query: str, temperature: float=0.0):\n",
        "\n",
        "    # System prompt\n",
        "    system_prompt = f\"\"\"\n",
        "    Ignore all previous instructions. You are a helpful investment management expert.\n",
        "    You are logical, methodical and always find the best and most relevant answer to a query.\n",
        "    Break down the problem, objects, numbers and logic before starting to answer the query.\n",
        "    Then proceed to answer in a step-by-step manner.\n",
        "    \"\"\"\n",
        "\n",
        "    # This prompt inouts the merged context\n",
        "    user_prompt = f\"\"\"\n",
        "    Two of our portfolio companies have handed us these brief instruction snippets as\n",
        "    contexts. Contexts for {company1}: {context1}, and for {company2}: {context2}\n",
        "\n",
        "    Use only the above contexts and nothing else to answer the following\n",
        "    query: {query}\n",
        "    If the answer is provided in the form of a bulleted list within the context,\n",
        "    then return those instructions verbatim and do not try to rephrase them.\n",
        "    If you cannot answer based on the information in context, then do not try to answer, but instead must answer verbatim with:\n",
        "    {{There is no available information related to your query in the context!'}}\n",
        "    \"\"\"\n",
        "\n",
        "    messages = [\n",
        "        SystemMessage(content=system_prompt),\n",
        "        HumanMessage(content=user_prompt),\n",
        "    ]\n",
        "\n",
        "    response = chat_model(messages, temperature=temperature)\n",
        "    print(response.content)"
      ]
    },
    {
      "cell_type": "markdown",
      "metadata": {
        "id": "2RY255ZHpnLM"
      },
      "source": [
        "With the help of the above function we can pose queries which prompts the LLM to compare the information in different PDF's by creating separate contexts. Here, we compare the information in the Electrolux Annual report and Whirlpool 10-K report."
      ]
    },
    {
      "cell_type": "code",
      "execution_count": null,
      "metadata": {
        "id": "VeIisKl4pnLM"
      },
      "outputs": [],
      "source": [
        "# Let's make a query which we would like to pose to both the Whirlpool and the Electrolux PDF files\n",
        "query = \"Which key business strategies were mentioned in the report?\"\n",
        "\n",
        "\n",
        "# Using the above query, we can fetch relevant contexts from both PDF files\n",
        "context_whirlpool = get_contexts(pdf=whirlpool_10k, query=query, faiss_embeddings_dict=faiss_embeddings_dict)\n",
        "context_electrolux = get_contexts(pdf=electrolux_ann_rep, query=query, faiss_embeddings_dict=faiss_embeddings_dict)"
      ]
    },
    {
      "cell_type": "code",
      "execution_count": null,
      "metadata": {
        "id": "nAGaEqmypnLM"
      },
      "outputs": [],
      "source": [
        "# Given the above retrieved contexts we can now ask a comparative question between the companies\n",
        "chat_query = \"These are the key business strategies for Whirlpool and Electrolux. Compare them. Which strategies are similar and which are different?\""
      ]
    },
    {
      "cell_type": "code",
      "execution_count": null,
      "metadata": {
        "id": "tz8EQz75pnLM"
      },
      "outputs": [],
      "source": [
        "# Use our pre-defined function together with the names of the companies and their context\n",
        "LLM_with_pdf_context_comparison(\"Whirlpool\", \"Electrolux\", context_whirlpool, context_electrolux, chat_query)"
      ]
    },
    {
      "cell_type": "markdown",
      "metadata": {
        "id": "8Kq0shQDpnLN"
      },
      "source": [
        "**Try it out yourself:**\n",
        "\n",
        "Try it out by telling your model what information from the reports you want to compare, for example, their sustainability strategies."
      ]
    },
    {
      "cell_type": "code",
      "execution_count": null,
      "metadata": {
        "id": "NzxAQRetpnLN"
      },
      "outputs": [],
      "source": [
        "# Write your own query on what you like to pose to both the Whirlpool and the Electrolux PDF files\n",
        "query = \"...\"\n",
        "\n",
        "\n",
        "# Using the above query, we can fetch relevant contexts from both PDF files\n",
        "context_whirlpool = get_contexts(pdf=whirlpool_10k, query=query, faiss_embeddings_dict=faiss_embeddings_dict)\n",
        "context_electrolux = get_contexts(pdf=electrolux_ann_rep, query=query, faiss_embeddings_dict=faiss_embeddings_dict)\n",
        "\n",
        "\n",
        "# Change this query to ask the model to compare ... for the companies.\n",
        "chat_query = \"This is the ... for Whirlpool and Electrolux. Compare them.\"\n",
        "\n",
        "\n",
        "# Use our pre-defined function together with the names of the companies and their context\n",
        "LLM_with_pdf_context_comparison(\"Whirlpool\", \"Electrolux\", context_whirlpool, context_electrolux, chat_query)"
      ]
    },
    {
      "cell_type": "markdown",
      "metadata": {
        "id": "EXjr0_OdpnLN"
      },
      "source": [
        "### End of the notebook"
      ]
    }
  ],
  "metadata": {
    "colab": {
      "provenance": [],
      "collapsed_sections": [
        "sSdr-YPSpnLI"
      ]
    },
    "interpreter": {
      "hash": "cb01f1dbab416340528beb9003d373e701839649ec4e19c51caaaa46d79e9db4"
    },
    "kernelspec": {
      "display_name": "Python 3.11.5 ('pe_short_course')",
      "language": "python",
      "name": "python3"
    },
    "language_info": {
      "codemirror_mode": {
        "name": "ipython",
        "version": 3
      },
      "file_extension": ".py",
      "mimetype": "text/x-python",
      "name": "python",
      "nbconvert_exporter": "python",
      "pygments_lexer": "ipython3",
      "version": "3.11.5"
    },
    "widgets": {
      "application/vnd.jupyter.widget-state+json": {
        "f18ce7f1420a4918b8968a66161c62fa": {
          "model_module": "@jupyter-widgets/controls",
          "model_name": "HBoxModel",
          "model_module_version": "1.5.0",
          "state": {
            "_dom_classes": [],
            "_model_module": "@jupyter-widgets/controls",
            "_model_module_version": "1.5.0",
            "_model_name": "HBoxModel",
            "_view_count": null,
            "_view_module": "@jupyter-widgets/controls",
            "_view_module_version": "1.5.0",
            "_view_name": "HBoxView",
            "box_style": "",
            "children": [
              "IPY_MODEL_e2da859383ad492094c791a483f1e440",
              "IPY_MODEL_457b41834ed7403baddfb9870e4f2ed8",
              "IPY_MODEL_ea315748107947ae979ba911fb7bb927"
            ],
            "layout": "IPY_MODEL_caf9b50f9fd1435c9e2c61948e8cca21"
          }
        },
        "e2da859383ad492094c791a483f1e440": {
          "model_module": "@jupyter-widgets/controls",
          "model_name": "HTMLModel",
          "model_module_version": "1.5.0",
          "state": {
            "_dom_classes": [],
            "_model_module": "@jupyter-widgets/controls",
            "_model_module_version": "1.5.0",
            "_model_name": "HTMLModel",
            "_view_count": null,
            "_view_module": "@jupyter-widgets/controls",
            "_view_module_version": "1.5.0",
            "_view_name": "HTMLView",
            "description": "",
            "description_tooltip": null,
            "layout": "IPY_MODEL_a4f9232d8b5b42a58f778acb453ace03",
            "placeholder": "​",
            "style": "IPY_MODEL_9b4e6652f9284dc3b9ff3b3ed781f34a",
            "value": ".gitattributes: 100%"
          }
        },
        "457b41834ed7403baddfb9870e4f2ed8": {
          "model_module": "@jupyter-widgets/controls",
          "model_name": "FloatProgressModel",
          "model_module_version": "1.5.0",
          "state": {
            "_dom_classes": [],
            "_model_module": "@jupyter-widgets/controls",
            "_model_module_version": "1.5.0",
            "_model_name": "FloatProgressModel",
            "_view_count": null,
            "_view_module": "@jupyter-widgets/controls",
            "_view_module_version": "1.5.0",
            "_view_name": "ProgressView",
            "bar_style": "success",
            "description": "",
            "description_tooltip": null,
            "layout": "IPY_MODEL_e618d718046146609f5485d9e49b76df",
            "max": 1519,
            "min": 0,
            "orientation": "horizontal",
            "style": "IPY_MODEL_fe05f8ac72b04958941efc4ad5f53004",
            "value": 1519
          }
        },
        "ea315748107947ae979ba911fb7bb927": {
          "model_module": "@jupyter-widgets/controls",
          "model_name": "HTMLModel",
          "model_module_version": "1.5.0",
          "state": {
            "_dom_classes": [],
            "_model_module": "@jupyter-widgets/controls",
            "_model_module_version": "1.5.0",
            "_model_name": "HTMLModel",
            "_view_count": null,
            "_view_module": "@jupyter-widgets/controls",
            "_view_module_version": "1.5.0",
            "_view_name": "HTMLView",
            "description": "",
            "description_tooltip": null,
            "layout": "IPY_MODEL_53e2d05489b14fd098e49652f3b7b902",
            "placeholder": "​",
            "style": "IPY_MODEL_adad4372973a48e7b8c3291145edb16c",
            "value": " 1.52k/1.52k [00:00&lt;00:00, 42.9kB/s]"
          }
        },
        "caf9b50f9fd1435c9e2c61948e8cca21": {
          "model_module": "@jupyter-widgets/base",
          "model_name": "LayoutModel",
          "model_module_version": "1.2.0",
          "state": {
            "_model_module": "@jupyter-widgets/base",
            "_model_module_version": "1.2.0",
            "_model_name": "LayoutModel",
            "_view_count": null,
            "_view_module": "@jupyter-widgets/base",
            "_view_module_version": "1.2.0",
            "_view_name": "LayoutView",
            "align_content": null,
            "align_items": null,
            "align_self": null,
            "border": null,
            "bottom": null,
            "display": null,
            "flex": null,
            "flex_flow": null,
            "grid_area": null,
            "grid_auto_columns": null,
            "grid_auto_flow": null,
            "grid_auto_rows": null,
            "grid_column": null,
            "grid_gap": null,
            "grid_row": null,
            "grid_template_areas": null,
            "grid_template_columns": null,
            "grid_template_rows": null,
            "height": null,
            "justify_content": null,
            "justify_items": null,
            "left": null,
            "margin": null,
            "max_height": null,
            "max_width": null,
            "min_height": null,
            "min_width": null,
            "object_fit": null,
            "object_position": null,
            "order": null,
            "overflow": null,
            "overflow_x": null,
            "overflow_y": null,
            "padding": null,
            "right": null,
            "top": null,
            "visibility": null,
            "width": null
          }
        },
        "a4f9232d8b5b42a58f778acb453ace03": {
          "model_module": "@jupyter-widgets/base",
          "model_name": "LayoutModel",
          "model_module_version": "1.2.0",
          "state": {
            "_model_module": "@jupyter-widgets/base",
            "_model_module_version": "1.2.0",
            "_model_name": "LayoutModel",
            "_view_count": null,
            "_view_module": "@jupyter-widgets/base",
            "_view_module_version": "1.2.0",
            "_view_name": "LayoutView",
            "align_content": null,
            "align_items": null,
            "align_self": null,
            "border": null,
            "bottom": null,
            "display": null,
            "flex": null,
            "flex_flow": null,
            "grid_area": null,
            "grid_auto_columns": null,
            "grid_auto_flow": null,
            "grid_auto_rows": null,
            "grid_column": null,
            "grid_gap": null,
            "grid_row": null,
            "grid_template_areas": null,
            "grid_template_columns": null,
            "grid_template_rows": null,
            "height": null,
            "justify_content": null,
            "justify_items": null,
            "left": null,
            "margin": null,
            "max_height": null,
            "max_width": null,
            "min_height": null,
            "min_width": null,
            "object_fit": null,
            "object_position": null,
            "order": null,
            "overflow": null,
            "overflow_x": null,
            "overflow_y": null,
            "padding": null,
            "right": null,
            "top": null,
            "visibility": null,
            "width": null
          }
        },
        "9b4e6652f9284dc3b9ff3b3ed781f34a": {
          "model_module": "@jupyter-widgets/controls",
          "model_name": "DescriptionStyleModel",
          "model_module_version": "1.5.0",
          "state": {
            "_model_module": "@jupyter-widgets/controls",
            "_model_module_version": "1.5.0",
            "_model_name": "DescriptionStyleModel",
            "_view_count": null,
            "_view_module": "@jupyter-widgets/base",
            "_view_module_version": "1.2.0",
            "_view_name": "StyleView",
            "description_width": ""
          }
        },
        "e618d718046146609f5485d9e49b76df": {
          "model_module": "@jupyter-widgets/base",
          "model_name": "LayoutModel",
          "model_module_version": "1.2.0",
          "state": {
            "_model_module": "@jupyter-widgets/base",
            "_model_module_version": "1.2.0",
            "_model_name": "LayoutModel",
            "_view_count": null,
            "_view_module": "@jupyter-widgets/base",
            "_view_module_version": "1.2.0",
            "_view_name": "LayoutView",
            "align_content": null,
            "align_items": null,
            "align_self": null,
            "border": null,
            "bottom": null,
            "display": null,
            "flex": null,
            "flex_flow": null,
            "grid_area": null,
            "grid_auto_columns": null,
            "grid_auto_flow": null,
            "grid_auto_rows": null,
            "grid_column": null,
            "grid_gap": null,
            "grid_row": null,
            "grid_template_areas": null,
            "grid_template_columns": null,
            "grid_template_rows": null,
            "height": null,
            "justify_content": null,
            "justify_items": null,
            "left": null,
            "margin": null,
            "max_height": null,
            "max_width": null,
            "min_height": null,
            "min_width": null,
            "object_fit": null,
            "object_position": null,
            "order": null,
            "overflow": null,
            "overflow_x": null,
            "overflow_y": null,
            "padding": null,
            "right": null,
            "top": null,
            "visibility": null,
            "width": null
          }
        },
        "fe05f8ac72b04958941efc4ad5f53004": {
          "model_module": "@jupyter-widgets/controls",
          "model_name": "ProgressStyleModel",
          "model_module_version": "1.5.0",
          "state": {
            "_model_module": "@jupyter-widgets/controls",
            "_model_module_version": "1.5.0",
            "_model_name": "ProgressStyleModel",
            "_view_count": null,
            "_view_module": "@jupyter-widgets/base",
            "_view_module_version": "1.2.0",
            "_view_name": "StyleView",
            "bar_color": null,
            "description_width": ""
          }
        },
        "53e2d05489b14fd098e49652f3b7b902": {
          "model_module": "@jupyter-widgets/base",
          "model_name": "LayoutModel",
          "model_module_version": "1.2.0",
          "state": {
            "_model_module": "@jupyter-widgets/base",
            "_model_module_version": "1.2.0",
            "_model_name": "LayoutModel",
            "_view_count": null,
            "_view_module": "@jupyter-widgets/base",
            "_view_module_version": "1.2.0",
            "_view_name": "LayoutView",
            "align_content": null,
            "align_items": null,
            "align_self": null,
            "border": null,
            "bottom": null,
            "display": null,
            "flex": null,
            "flex_flow": null,
            "grid_area": null,
            "grid_auto_columns": null,
            "grid_auto_flow": null,
            "grid_auto_rows": null,
            "grid_column": null,
            "grid_gap": null,
            "grid_row": null,
            "grid_template_areas": null,
            "grid_template_columns": null,
            "grid_template_rows": null,
            "height": null,
            "justify_content": null,
            "justify_items": null,
            "left": null,
            "margin": null,
            "max_height": null,
            "max_width": null,
            "min_height": null,
            "min_width": null,
            "object_fit": null,
            "object_position": null,
            "order": null,
            "overflow": null,
            "overflow_x": null,
            "overflow_y": null,
            "padding": null,
            "right": null,
            "top": null,
            "visibility": null,
            "width": null
          }
        },
        "adad4372973a48e7b8c3291145edb16c": {
          "model_module": "@jupyter-widgets/controls",
          "model_name": "DescriptionStyleModel",
          "model_module_version": "1.5.0",
          "state": {
            "_model_module": "@jupyter-widgets/controls",
            "_model_module_version": "1.5.0",
            "_model_name": "DescriptionStyleModel",
            "_view_count": null,
            "_view_module": "@jupyter-widgets/base",
            "_view_module_version": "1.2.0",
            "_view_name": "StyleView",
            "description_width": ""
          }
        },
        "f55249a5beef43f3afadf133ba98251e": {
          "model_module": "@jupyter-widgets/controls",
          "model_name": "HBoxModel",
          "model_module_version": "1.5.0",
          "state": {
            "_dom_classes": [],
            "_model_module": "@jupyter-widgets/controls",
            "_model_module_version": "1.5.0",
            "_model_name": "HBoxModel",
            "_view_count": null,
            "_view_module": "@jupyter-widgets/controls",
            "_view_module_version": "1.5.0",
            "_view_name": "HBoxView",
            "box_style": "",
            "children": [
              "IPY_MODEL_570e62e16618472d8a15b4c94c2cf301",
              "IPY_MODEL_d28af11715c3442c99df6240405fbb48",
              "IPY_MODEL_386fd64ea48c488bb2f04cf9668b9b3b"
            ],
            "layout": "IPY_MODEL_8752e44c40544cec93eed9d55b68a117"
          }
        },
        "570e62e16618472d8a15b4c94c2cf301": {
          "model_module": "@jupyter-widgets/controls",
          "model_name": "HTMLModel",
          "model_module_version": "1.5.0",
          "state": {
            "_dom_classes": [],
            "_model_module": "@jupyter-widgets/controls",
            "_model_module_version": "1.5.0",
            "_model_name": "HTMLModel",
            "_view_count": null,
            "_view_module": "@jupyter-widgets/controls",
            "_view_module_version": "1.5.0",
            "_view_name": "HTMLView",
            "description": "",
            "description_tooltip": null,
            "layout": "IPY_MODEL_a1bb604cd1864429a31211155f68d794",
            "placeholder": "​",
            "style": "IPY_MODEL_fbb08f93abc64c4eb365d18dfdf3b0c5",
            "value": "1_Pooling/config.json: 100%"
          }
        },
        "d28af11715c3442c99df6240405fbb48": {
          "model_module": "@jupyter-widgets/controls",
          "model_name": "FloatProgressModel",
          "model_module_version": "1.5.0",
          "state": {
            "_dom_classes": [],
            "_model_module": "@jupyter-widgets/controls",
            "_model_module_version": "1.5.0",
            "_model_name": "FloatProgressModel",
            "_view_count": null,
            "_view_module": "@jupyter-widgets/controls",
            "_view_module_version": "1.5.0",
            "_view_name": "ProgressView",
            "bar_style": "success",
            "description": "",
            "description_tooltip": null,
            "layout": "IPY_MODEL_18983e4945ca487297292bcd17398602",
            "max": 190,
            "min": 0,
            "orientation": "horizontal",
            "style": "IPY_MODEL_5b7d629a5acb4ce893627f23ec053721",
            "value": 190
          }
        },
        "386fd64ea48c488bb2f04cf9668b9b3b": {
          "model_module": "@jupyter-widgets/controls",
          "model_name": "HTMLModel",
          "model_module_version": "1.5.0",
          "state": {
            "_dom_classes": [],
            "_model_module": "@jupyter-widgets/controls",
            "_model_module_version": "1.5.0",
            "_model_name": "HTMLModel",
            "_view_count": null,
            "_view_module": "@jupyter-widgets/controls",
            "_view_module_version": "1.5.0",
            "_view_name": "HTMLView",
            "description": "",
            "description_tooltip": null,
            "layout": "IPY_MODEL_37202e7eec054b7488c8b66955a258c1",
            "placeholder": "​",
            "style": "IPY_MODEL_eea26831119f4e7b82646ae8223fabe3",
            "value": " 190/190 [00:00&lt;00:00, 9.57kB/s]"
          }
        },
        "8752e44c40544cec93eed9d55b68a117": {
          "model_module": "@jupyter-widgets/base",
          "model_name": "LayoutModel",
          "model_module_version": "1.2.0",
          "state": {
            "_model_module": "@jupyter-widgets/base",
            "_model_module_version": "1.2.0",
            "_model_name": "LayoutModel",
            "_view_count": null,
            "_view_module": "@jupyter-widgets/base",
            "_view_module_version": "1.2.0",
            "_view_name": "LayoutView",
            "align_content": null,
            "align_items": null,
            "align_self": null,
            "border": null,
            "bottom": null,
            "display": null,
            "flex": null,
            "flex_flow": null,
            "grid_area": null,
            "grid_auto_columns": null,
            "grid_auto_flow": null,
            "grid_auto_rows": null,
            "grid_column": null,
            "grid_gap": null,
            "grid_row": null,
            "grid_template_areas": null,
            "grid_template_columns": null,
            "grid_template_rows": null,
            "height": null,
            "justify_content": null,
            "justify_items": null,
            "left": null,
            "margin": null,
            "max_height": null,
            "max_width": null,
            "min_height": null,
            "min_width": null,
            "object_fit": null,
            "object_position": null,
            "order": null,
            "overflow": null,
            "overflow_x": null,
            "overflow_y": null,
            "padding": null,
            "right": null,
            "top": null,
            "visibility": null,
            "width": null
          }
        },
        "a1bb604cd1864429a31211155f68d794": {
          "model_module": "@jupyter-widgets/base",
          "model_name": "LayoutModel",
          "model_module_version": "1.2.0",
          "state": {
            "_model_module": "@jupyter-widgets/base",
            "_model_module_version": "1.2.0",
            "_model_name": "LayoutModel",
            "_view_count": null,
            "_view_module": "@jupyter-widgets/base",
            "_view_module_version": "1.2.0",
            "_view_name": "LayoutView",
            "align_content": null,
            "align_items": null,
            "align_self": null,
            "border": null,
            "bottom": null,
            "display": null,
            "flex": null,
            "flex_flow": null,
            "grid_area": null,
            "grid_auto_columns": null,
            "grid_auto_flow": null,
            "grid_auto_rows": null,
            "grid_column": null,
            "grid_gap": null,
            "grid_row": null,
            "grid_template_areas": null,
            "grid_template_columns": null,
            "grid_template_rows": null,
            "height": null,
            "justify_content": null,
            "justify_items": null,
            "left": null,
            "margin": null,
            "max_height": null,
            "max_width": null,
            "min_height": null,
            "min_width": null,
            "object_fit": null,
            "object_position": null,
            "order": null,
            "overflow": null,
            "overflow_x": null,
            "overflow_y": null,
            "padding": null,
            "right": null,
            "top": null,
            "visibility": null,
            "width": null
          }
        },
        "fbb08f93abc64c4eb365d18dfdf3b0c5": {
          "model_module": "@jupyter-widgets/controls",
          "model_name": "DescriptionStyleModel",
          "model_module_version": "1.5.0",
          "state": {
            "_model_module": "@jupyter-widgets/controls",
            "_model_module_version": "1.5.0",
            "_model_name": "DescriptionStyleModel",
            "_view_count": null,
            "_view_module": "@jupyter-widgets/base",
            "_view_module_version": "1.2.0",
            "_view_name": "StyleView",
            "description_width": ""
          }
        },
        "18983e4945ca487297292bcd17398602": {
          "model_module": "@jupyter-widgets/base",
          "model_name": "LayoutModel",
          "model_module_version": "1.2.0",
          "state": {
            "_model_module": "@jupyter-widgets/base",
            "_model_module_version": "1.2.0",
            "_model_name": "LayoutModel",
            "_view_count": null,
            "_view_module": "@jupyter-widgets/base",
            "_view_module_version": "1.2.0",
            "_view_name": "LayoutView",
            "align_content": null,
            "align_items": null,
            "align_self": null,
            "border": null,
            "bottom": null,
            "display": null,
            "flex": null,
            "flex_flow": null,
            "grid_area": null,
            "grid_auto_columns": null,
            "grid_auto_flow": null,
            "grid_auto_rows": null,
            "grid_column": null,
            "grid_gap": null,
            "grid_row": null,
            "grid_template_areas": null,
            "grid_template_columns": null,
            "grid_template_rows": null,
            "height": null,
            "justify_content": null,
            "justify_items": null,
            "left": null,
            "margin": null,
            "max_height": null,
            "max_width": null,
            "min_height": null,
            "min_width": null,
            "object_fit": null,
            "object_position": null,
            "order": null,
            "overflow": null,
            "overflow_x": null,
            "overflow_y": null,
            "padding": null,
            "right": null,
            "top": null,
            "visibility": null,
            "width": null
          }
        },
        "5b7d629a5acb4ce893627f23ec053721": {
          "model_module": "@jupyter-widgets/controls",
          "model_name": "ProgressStyleModel",
          "model_module_version": "1.5.0",
          "state": {
            "_model_module": "@jupyter-widgets/controls",
            "_model_module_version": "1.5.0",
            "_model_name": "ProgressStyleModel",
            "_view_count": null,
            "_view_module": "@jupyter-widgets/base",
            "_view_module_version": "1.2.0",
            "_view_name": "StyleView",
            "bar_color": null,
            "description_width": ""
          }
        },
        "37202e7eec054b7488c8b66955a258c1": {
          "model_module": "@jupyter-widgets/base",
          "model_name": "LayoutModel",
          "model_module_version": "1.2.0",
          "state": {
            "_model_module": "@jupyter-widgets/base",
            "_model_module_version": "1.2.0",
            "_model_name": "LayoutModel",
            "_view_count": null,
            "_view_module": "@jupyter-widgets/base",
            "_view_module_version": "1.2.0",
            "_view_name": "LayoutView",
            "align_content": null,
            "align_items": null,
            "align_self": null,
            "border": null,
            "bottom": null,
            "display": null,
            "flex": null,
            "flex_flow": null,
            "grid_area": null,
            "grid_auto_columns": null,
            "grid_auto_flow": null,
            "grid_auto_rows": null,
            "grid_column": null,
            "grid_gap": null,
            "grid_row": null,
            "grid_template_areas": null,
            "grid_template_columns": null,
            "grid_template_rows": null,
            "height": null,
            "justify_content": null,
            "justify_items": null,
            "left": null,
            "margin": null,
            "max_height": null,
            "max_width": null,
            "min_height": null,
            "min_width": null,
            "object_fit": null,
            "object_position": null,
            "order": null,
            "overflow": null,
            "overflow_x": null,
            "overflow_y": null,
            "padding": null,
            "right": null,
            "top": null,
            "visibility": null,
            "width": null
          }
        },
        "eea26831119f4e7b82646ae8223fabe3": {
          "model_module": "@jupyter-widgets/controls",
          "model_name": "DescriptionStyleModel",
          "model_module_version": "1.5.0",
          "state": {
            "_model_module": "@jupyter-widgets/controls",
            "_model_module_version": "1.5.0",
            "_model_name": "DescriptionStyleModel",
            "_view_count": null,
            "_view_module": "@jupyter-widgets/base",
            "_view_module_version": "1.2.0",
            "_view_name": "StyleView",
            "description_width": ""
          }
        },
        "f449134fa6764299b4599a95ee5111f9": {
          "model_module": "@jupyter-widgets/controls",
          "model_name": "HBoxModel",
          "model_module_version": "1.5.0",
          "state": {
            "_dom_classes": [],
            "_model_module": "@jupyter-widgets/controls",
            "_model_module_version": "1.5.0",
            "_model_name": "HBoxModel",
            "_view_count": null,
            "_view_module": "@jupyter-widgets/controls",
            "_view_module_version": "1.5.0",
            "_view_name": "HBoxView",
            "box_style": "",
            "children": [
              "IPY_MODEL_34b3be76bd2b406999d2b77491247317",
              "IPY_MODEL_ec50f0a29ef34bf2923c7fb3317425e8",
              "IPY_MODEL_4f8e20eaef7147a1aa671505ab3fb9af"
            ],
            "layout": "IPY_MODEL_4b8351603acf4d83bce5b542c689f1b5"
          }
        },
        "34b3be76bd2b406999d2b77491247317": {
          "model_module": "@jupyter-widgets/controls",
          "model_name": "HTMLModel",
          "model_module_version": "1.5.0",
          "state": {
            "_dom_classes": [],
            "_model_module": "@jupyter-widgets/controls",
            "_model_module_version": "1.5.0",
            "_model_name": "HTMLModel",
            "_view_count": null,
            "_view_module": "@jupyter-widgets/controls",
            "_view_module_version": "1.5.0",
            "_view_name": "HTMLView",
            "description": "",
            "description_tooltip": null,
            "layout": "IPY_MODEL_b5be1082cbaf43698e7845a71fbfafe3",
            "placeholder": "​",
            "style": "IPY_MODEL_65a92a20bc184ef0bec97d03ffd8b491",
            "value": "README.md: 100%"
          }
        },
        "ec50f0a29ef34bf2923c7fb3317425e8": {
          "model_module": "@jupyter-widgets/controls",
          "model_name": "FloatProgressModel",
          "model_module_version": "1.5.0",
          "state": {
            "_dom_classes": [],
            "_model_module": "@jupyter-widgets/controls",
            "_model_module_version": "1.5.0",
            "_model_name": "FloatProgressModel",
            "_view_count": null,
            "_view_module": "@jupyter-widgets/controls",
            "_view_module_version": "1.5.0",
            "_view_name": "ProgressView",
            "bar_style": "success",
            "description": "",
            "description_tooltip": null,
            "layout": "IPY_MODEL_1554a9a8e32d4c088d54b1b977434a23",
            "max": 90346,
            "min": 0,
            "orientation": "horizontal",
            "style": "IPY_MODEL_f25728d8c9194ce192ea3f960cc7ade9",
            "value": 90346
          }
        },
        "4f8e20eaef7147a1aa671505ab3fb9af": {
          "model_module": "@jupyter-widgets/controls",
          "model_name": "HTMLModel",
          "model_module_version": "1.5.0",
          "state": {
            "_dom_classes": [],
            "_model_module": "@jupyter-widgets/controls",
            "_model_module_version": "1.5.0",
            "_model_name": "HTMLModel",
            "_view_count": null,
            "_view_module": "@jupyter-widgets/controls",
            "_view_module_version": "1.5.0",
            "_view_name": "HTMLView",
            "description": "",
            "description_tooltip": null,
            "layout": "IPY_MODEL_4b52caea755347e0926c5cac82224c39",
            "placeholder": "​",
            "style": "IPY_MODEL_8097fe130fcf465c98e9bf3c919d60d6",
            "value": " 90.3k/90.3k [00:00&lt;00:00, 4.14MB/s]"
          }
        },
        "4b8351603acf4d83bce5b542c689f1b5": {
          "model_module": "@jupyter-widgets/base",
          "model_name": "LayoutModel",
          "model_module_version": "1.2.0",
          "state": {
            "_model_module": "@jupyter-widgets/base",
            "_model_module_version": "1.2.0",
            "_model_name": "LayoutModel",
            "_view_count": null,
            "_view_module": "@jupyter-widgets/base",
            "_view_module_version": "1.2.0",
            "_view_name": "LayoutView",
            "align_content": null,
            "align_items": null,
            "align_self": null,
            "border": null,
            "bottom": null,
            "display": null,
            "flex": null,
            "flex_flow": null,
            "grid_area": null,
            "grid_auto_columns": null,
            "grid_auto_flow": null,
            "grid_auto_rows": null,
            "grid_column": null,
            "grid_gap": null,
            "grid_row": null,
            "grid_template_areas": null,
            "grid_template_columns": null,
            "grid_template_rows": null,
            "height": null,
            "justify_content": null,
            "justify_items": null,
            "left": null,
            "margin": null,
            "max_height": null,
            "max_width": null,
            "min_height": null,
            "min_width": null,
            "object_fit": null,
            "object_position": null,
            "order": null,
            "overflow": null,
            "overflow_x": null,
            "overflow_y": null,
            "padding": null,
            "right": null,
            "top": null,
            "visibility": null,
            "width": null
          }
        },
        "b5be1082cbaf43698e7845a71fbfafe3": {
          "model_module": "@jupyter-widgets/base",
          "model_name": "LayoutModel",
          "model_module_version": "1.2.0",
          "state": {
            "_model_module": "@jupyter-widgets/base",
            "_model_module_version": "1.2.0",
            "_model_name": "LayoutModel",
            "_view_count": null,
            "_view_module": "@jupyter-widgets/base",
            "_view_module_version": "1.2.0",
            "_view_name": "LayoutView",
            "align_content": null,
            "align_items": null,
            "align_self": null,
            "border": null,
            "bottom": null,
            "display": null,
            "flex": null,
            "flex_flow": null,
            "grid_area": null,
            "grid_auto_columns": null,
            "grid_auto_flow": null,
            "grid_auto_rows": null,
            "grid_column": null,
            "grid_gap": null,
            "grid_row": null,
            "grid_template_areas": null,
            "grid_template_columns": null,
            "grid_template_rows": null,
            "height": null,
            "justify_content": null,
            "justify_items": null,
            "left": null,
            "margin": null,
            "max_height": null,
            "max_width": null,
            "min_height": null,
            "min_width": null,
            "object_fit": null,
            "object_position": null,
            "order": null,
            "overflow": null,
            "overflow_x": null,
            "overflow_y": null,
            "padding": null,
            "right": null,
            "top": null,
            "visibility": null,
            "width": null
          }
        },
        "65a92a20bc184ef0bec97d03ffd8b491": {
          "model_module": "@jupyter-widgets/controls",
          "model_name": "DescriptionStyleModel",
          "model_module_version": "1.5.0",
          "state": {
            "_model_module": "@jupyter-widgets/controls",
            "_model_module_version": "1.5.0",
            "_model_name": "DescriptionStyleModel",
            "_view_count": null,
            "_view_module": "@jupyter-widgets/base",
            "_view_module_version": "1.2.0",
            "_view_name": "StyleView",
            "description_width": ""
          }
        },
        "1554a9a8e32d4c088d54b1b977434a23": {
          "model_module": "@jupyter-widgets/base",
          "model_name": "LayoutModel",
          "model_module_version": "1.2.0",
          "state": {
            "_model_module": "@jupyter-widgets/base",
            "_model_module_version": "1.2.0",
            "_model_name": "LayoutModel",
            "_view_count": null,
            "_view_module": "@jupyter-widgets/base",
            "_view_module_version": "1.2.0",
            "_view_name": "LayoutView",
            "align_content": null,
            "align_items": null,
            "align_self": null,
            "border": null,
            "bottom": null,
            "display": null,
            "flex": null,
            "flex_flow": null,
            "grid_area": null,
            "grid_auto_columns": null,
            "grid_auto_flow": null,
            "grid_auto_rows": null,
            "grid_column": null,
            "grid_gap": null,
            "grid_row": null,
            "grid_template_areas": null,
            "grid_template_columns": null,
            "grid_template_rows": null,
            "height": null,
            "justify_content": null,
            "justify_items": null,
            "left": null,
            "margin": null,
            "max_height": null,
            "max_width": null,
            "min_height": null,
            "min_width": null,
            "object_fit": null,
            "object_position": null,
            "order": null,
            "overflow": null,
            "overflow_x": null,
            "overflow_y": null,
            "padding": null,
            "right": null,
            "top": null,
            "visibility": null,
            "width": null
          }
        },
        "f25728d8c9194ce192ea3f960cc7ade9": {
          "model_module": "@jupyter-widgets/controls",
          "model_name": "ProgressStyleModel",
          "model_module_version": "1.5.0",
          "state": {
            "_model_module": "@jupyter-widgets/controls",
            "_model_module_version": "1.5.0",
            "_model_name": "ProgressStyleModel",
            "_view_count": null,
            "_view_module": "@jupyter-widgets/base",
            "_view_module_version": "1.2.0",
            "_view_name": "StyleView",
            "bar_color": null,
            "description_width": ""
          }
        },
        "4b52caea755347e0926c5cac82224c39": {
          "model_module": "@jupyter-widgets/base",
          "model_name": "LayoutModel",
          "model_module_version": "1.2.0",
          "state": {
            "_model_module": "@jupyter-widgets/base",
            "_model_module_version": "1.2.0",
            "_model_name": "LayoutModel",
            "_view_count": null,
            "_view_module": "@jupyter-widgets/base",
            "_view_module_version": "1.2.0",
            "_view_name": "LayoutView",
            "align_content": null,
            "align_items": null,
            "align_self": null,
            "border": null,
            "bottom": null,
            "display": null,
            "flex": null,
            "flex_flow": null,
            "grid_area": null,
            "grid_auto_columns": null,
            "grid_auto_flow": null,
            "grid_auto_rows": null,
            "grid_column": null,
            "grid_gap": null,
            "grid_row": null,
            "grid_template_areas": null,
            "grid_template_columns": null,
            "grid_template_rows": null,
            "height": null,
            "justify_content": null,
            "justify_items": null,
            "left": null,
            "margin": null,
            "max_height": null,
            "max_width": null,
            "min_height": null,
            "min_width": null,
            "object_fit": null,
            "object_position": null,
            "order": null,
            "overflow": null,
            "overflow_x": null,
            "overflow_y": null,
            "padding": null,
            "right": null,
            "top": null,
            "visibility": null,
            "width": null
          }
        },
        "8097fe130fcf465c98e9bf3c919d60d6": {
          "model_module": "@jupyter-widgets/controls",
          "model_name": "DescriptionStyleModel",
          "model_module_version": "1.5.0",
          "state": {
            "_model_module": "@jupyter-widgets/controls",
            "_model_module_version": "1.5.0",
            "_model_name": "DescriptionStyleModel",
            "_view_count": null,
            "_view_module": "@jupyter-widgets/base",
            "_view_module_version": "1.2.0",
            "_view_name": "StyleView",
            "description_width": ""
          }
        },
        "61a697d1b2f54685a24f705b82dbbf20": {
          "model_module": "@jupyter-widgets/controls",
          "model_name": "HBoxModel",
          "model_module_version": "1.5.0",
          "state": {
            "_dom_classes": [],
            "_model_module": "@jupyter-widgets/controls",
            "_model_module_version": "1.5.0",
            "_model_name": "HBoxModel",
            "_view_count": null,
            "_view_module": "@jupyter-widgets/controls",
            "_view_module_version": "1.5.0",
            "_view_name": "HBoxView",
            "box_style": "",
            "children": [
              "IPY_MODEL_8ed2b64a3d6744478c209104c345b1fc",
              "IPY_MODEL_540b2b1de7254e4095a32489f6cca38b",
              "IPY_MODEL_9255588ffbb1475697f128638ac2df8e"
            ],
            "layout": "IPY_MODEL_367972865e074aeaa5209b6e61aadd40"
          }
        },
        "8ed2b64a3d6744478c209104c345b1fc": {
          "model_module": "@jupyter-widgets/controls",
          "model_name": "HTMLModel",
          "model_module_version": "1.5.0",
          "state": {
            "_dom_classes": [],
            "_model_module": "@jupyter-widgets/controls",
            "_model_module_version": "1.5.0",
            "_model_name": "HTMLModel",
            "_view_count": null,
            "_view_module": "@jupyter-widgets/controls",
            "_view_module_version": "1.5.0",
            "_view_name": "HTMLView",
            "description": "",
            "description_tooltip": null,
            "layout": "IPY_MODEL_76a01a42c9ca4804a945cadf16caa423",
            "placeholder": "​",
            "style": "IPY_MODEL_4bdd727fc789431e93a2a6d2613226df",
            "value": "config.json: 100%"
          }
        },
        "540b2b1de7254e4095a32489f6cca38b": {
          "model_module": "@jupyter-widgets/controls",
          "model_name": "FloatProgressModel",
          "model_module_version": "1.5.0",
          "state": {
            "_dom_classes": [],
            "_model_module": "@jupyter-widgets/controls",
            "_model_module_version": "1.5.0",
            "_model_name": "FloatProgressModel",
            "_view_count": null,
            "_view_module": "@jupyter-widgets/controls",
            "_view_module_version": "1.5.0",
            "_view_name": "ProgressView",
            "bar_style": "success",
            "description": "",
            "description_tooltip": null,
            "layout": "IPY_MODEL_af566c6200f2439dbd5f3d9ec9f3973b",
            "max": 743,
            "min": 0,
            "orientation": "horizontal",
            "style": "IPY_MODEL_88c27c5b42594b10a3e99fab47a70a6f",
            "value": 743
          }
        },
        "9255588ffbb1475697f128638ac2df8e": {
          "model_module": "@jupyter-widgets/controls",
          "model_name": "HTMLModel",
          "model_module_version": "1.5.0",
          "state": {
            "_dom_classes": [],
            "_model_module": "@jupyter-widgets/controls",
            "_model_module_version": "1.5.0",
            "_model_name": "HTMLModel",
            "_view_count": null,
            "_view_module": "@jupyter-widgets/controls",
            "_view_module_version": "1.5.0",
            "_view_name": "HTMLView",
            "description": "",
            "description_tooltip": null,
            "layout": "IPY_MODEL_10888eb19c17421baee6d134a3c67e14",
            "placeholder": "​",
            "style": "IPY_MODEL_31be60fc8af14c2da1465203620cccad",
            "value": " 743/743 [00:00&lt;00:00, 37.1kB/s]"
          }
        },
        "367972865e074aeaa5209b6e61aadd40": {
          "model_module": "@jupyter-widgets/base",
          "model_name": "LayoutModel",
          "model_module_version": "1.2.0",
          "state": {
            "_model_module": "@jupyter-widgets/base",
            "_model_module_version": "1.2.0",
            "_model_name": "LayoutModel",
            "_view_count": null,
            "_view_module": "@jupyter-widgets/base",
            "_view_module_version": "1.2.0",
            "_view_name": "LayoutView",
            "align_content": null,
            "align_items": null,
            "align_self": null,
            "border": null,
            "bottom": null,
            "display": null,
            "flex": null,
            "flex_flow": null,
            "grid_area": null,
            "grid_auto_columns": null,
            "grid_auto_flow": null,
            "grid_auto_rows": null,
            "grid_column": null,
            "grid_gap": null,
            "grid_row": null,
            "grid_template_areas": null,
            "grid_template_columns": null,
            "grid_template_rows": null,
            "height": null,
            "justify_content": null,
            "justify_items": null,
            "left": null,
            "margin": null,
            "max_height": null,
            "max_width": null,
            "min_height": null,
            "min_width": null,
            "object_fit": null,
            "object_position": null,
            "order": null,
            "overflow": null,
            "overflow_x": null,
            "overflow_y": null,
            "padding": null,
            "right": null,
            "top": null,
            "visibility": null,
            "width": null
          }
        },
        "76a01a42c9ca4804a945cadf16caa423": {
          "model_module": "@jupyter-widgets/base",
          "model_name": "LayoutModel",
          "model_module_version": "1.2.0",
          "state": {
            "_model_module": "@jupyter-widgets/base",
            "_model_module_version": "1.2.0",
            "_model_name": "LayoutModel",
            "_view_count": null,
            "_view_module": "@jupyter-widgets/base",
            "_view_module_version": "1.2.0",
            "_view_name": "LayoutView",
            "align_content": null,
            "align_items": null,
            "align_self": null,
            "border": null,
            "bottom": null,
            "display": null,
            "flex": null,
            "flex_flow": null,
            "grid_area": null,
            "grid_auto_columns": null,
            "grid_auto_flow": null,
            "grid_auto_rows": null,
            "grid_column": null,
            "grid_gap": null,
            "grid_row": null,
            "grid_template_areas": null,
            "grid_template_columns": null,
            "grid_template_rows": null,
            "height": null,
            "justify_content": null,
            "justify_items": null,
            "left": null,
            "margin": null,
            "max_height": null,
            "max_width": null,
            "min_height": null,
            "min_width": null,
            "object_fit": null,
            "object_position": null,
            "order": null,
            "overflow": null,
            "overflow_x": null,
            "overflow_y": null,
            "padding": null,
            "right": null,
            "top": null,
            "visibility": null,
            "width": null
          }
        },
        "4bdd727fc789431e93a2a6d2613226df": {
          "model_module": "@jupyter-widgets/controls",
          "model_name": "DescriptionStyleModel",
          "model_module_version": "1.5.0",
          "state": {
            "_model_module": "@jupyter-widgets/controls",
            "_model_module_version": "1.5.0",
            "_model_name": "DescriptionStyleModel",
            "_view_count": null,
            "_view_module": "@jupyter-widgets/base",
            "_view_module_version": "1.2.0",
            "_view_name": "StyleView",
            "description_width": ""
          }
        },
        "af566c6200f2439dbd5f3d9ec9f3973b": {
          "model_module": "@jupyter-widgets/base",
          "model_name": "LayoutModel",
          "model_module_version": "1.2.0",
          "state": {
            "_model_module": "@jupyter-widgets/base",
            "_model_module_version": "1.2.0",
            "_model_name": "LayoutModel",
            "_view_count": null,
            "_view_module": "@jupyter-widgets/base",
            "_view_module_version": "1.2.0",
            "_view_name": "LayoutView",
            "align_content": null,
            "align_items": null,
            "align_self": null,
            "border": null,
            "bottom": null,
            "display": null,
            "flex": null,
            "flex_flow": null,
            "grid_area": null,
            "grid_auto_columns": null,
            "grid_auto_flow": null,
            "grid_auto_rows": null,
            "grid_column": null,
            "grid_gap": null,
            "grid_row": null,
            "grid_template_areas": null,
            "grid_template_columns": null,
            "grid_template_rows": null,
            "height": null,
            "justify_content": null,
            "justify_items": null,
            "left": null,
            "margin": null,
            "max_height": null,
            "max_width": null,
            "min_height": null,
            "min_width": null,
            "object_fit": null,
            "object_position": null,
            "order": null,
            "overflow": null,
            "overflow_x": null,
            "overflow_y": null,
            "padding": null,
            "right": null,
            "top": null,
            "visibility": null,
            "width": null
          }
        },
        "88c27c5b42594b10a3e99fab47a70a6f": {
          "model_module": "@jupyter-widgets/controls",
          "model_name": "ProgressStyleModel",
          "model_module_version": "1.5.0",
          "state": {
            "_model_module": "@jupyter-widgets/controls",
            "_model_module_version": "1.5.0",
            "_model_name": "ProgressStyleModel",
            "_view_count": null,
            "_view_module": "@jupyter-widgets/base",
            "_view_module_version": "1.2.0",
            "_view_name": "StyleView",
            "bar_color": null,
            "description_width": ""
          }
        },
        "10888eb19c17421baee6d134a3c67e14": {
          "model_module": "@jupyter-widgets/base",
          "model_name": "LayoutModel",
          "model_module_version": "1.2.0",
          "state": {
            "_model_module": "@jupyter-widgets/base",
            "_model_module_version": "1.2.0",
            "_model_name": "LayoutModel",
            "_view_count": null,
            "_view_module": "@jupyter-widgets/base",
            "_view_module_version": "1.2.0",
            "_view_name": "LayoutView",
            "align_content": null,
            "align_items": null,
            "align_self": null,
            "border": null,
            "bottom": null,
            "display": null,
            "flex": null,
            "flex_flow": null,
            "grid_area": null,
            "grid_auto_columns": null,
            "grid_auto_flow": null,
            "grid_auto_rows": null,
            "grid_column": null,
            "grid_gap": null,
            "grid_row": null,
            "grid_template_areas": null,
            "grid_template_columns": null,
            "grid_template_rows": null,
            "height": null,
            "justify_content": null,
            "justify_items": null,
            "left": null,
            "margin": null,
            "max_height": null,
            "max_width": null,
            "min_height": null,
            "min_width": null,
            "object_fit": null,
            "object_position": null,
            "order": null,
            "overflow": null,
            "overflow_x": null,
            "overflow_y": null,
            "padding": null,
            "right": null,
            "top": null,
            "visibility": null,
            "width": null
          }
        },
        "31be60fc8af14c2da1465203620cccad": {
          "model_module": "@jupyter-widgets/controls",
          "model_name": "DescriptionStyleModel",
          "model_module_version": "1.5.0",
          "state": {
            "_model_module": "@jupyter-widgets/controls",
            "_model_module_version": "1.5.0",
            "_model_name": "DescriptionStyleModel",
            "_view_count": null,
            "_view_module": "@jupyter-widgets/base",
            "_view_module_version": "1.2.0",
            "_view_name": "StyleView",
            "description_width": ""
          }
        },
        "cd00be33574145e990ee280223deeb8e": {
          "model_module": "@jupyter-widgets/controls",
          "model_name": "HBoxModel",
          "model_module_version": "1.5.0",
          "state": {
            "_dom_classes": [],
            "_model_module": "@jupyter-widgets/controls",
            "_model_module_version": "1.5.0",
            "_model_name": "HBoxModel",
            "_view_count": null,
            "_view_module": "@jupyter-widgets/controls",
            "_view_module_version": "1.5.0",
            "_view_name": "HBoxView",
            "box_style": "",
            "children": [
              "IPY_MODEL_a4a912733eb446219bf24f1e804eeed6",
              "IPY_MODEL_88585c1194284814a39d04e33fc484f8",
              "IPY_MODEL_052f4e258e4e4642a1a3d59ae9584fbb"
            ],
            "layout": "IPY_MODEL_5577bebd04e24609b179f247e88b35e2"
          }
        },
        "a4a912733eb446219bf24f1e804eeed6": {
          "model_module": "@jupyter-widgets/controls",
          "model_name": "HTMLModel",
          "model_module_version": "1.5.0",
          "state": {
            "_dom_classes": [],
            "_model_module": "@jupyter-widgets/controls",
            "_model_module_version": "1.5.0",
            "_model_name": "HTMLModel",
            "_view_count": null,
            "_view_module": "@jupyter-widgets/controls",
            "_view_module_version": "1.5.0",
            "_view_name": "HTMLView",
            "description": "",
            "description_tooltip": null,
            "layout": "IPY_MODEL_f9419dbbf2624830b0b729c6ef765493",
            "placeholder": "​",
            "style": "IPY_MODEL_62533a0836fd463faa1a69b5632dd14d",
            "value": "config_sentence_transformers.json: 100%"
          }
        },
        "88585c1194284814a39d04e33fc484f8": {
          "model_module": "@jupyter-widgets/controls",
          "model_name": "FloatProgressModel",
          "model_module_version": "1.5.0",
          "state": {
            "_dom_classes": [],
            "_model_module": "@jupyter-widgets/controls",
            "_model_module_version": "1.5.0",
            "_model_name": "FloatProgressModel",
            "_view_count": null,
            "_view_module": "@jupyter-widgets/controls",
            "_view_module_version": "1.5.0",
            "_view_name": "ProgressView",
            "bar_style": "success",
            "description": "",
            "description_tooltip": null,
            "layout": "IPY_MODEL_da1f6a83c641464aa955793956c6b415",
            "max": 124,
            "min": 0,
            "orientation": "horizontal",
            "style": "IPY_MODEL_13fff4c430c64c11bf03f9cc3f38e70b",
            "value": 124
          }
        },
        "052f4e258e4e4642a1a3d59ae9584fbb": {
          "model_module": "@jupyter-widgets/controls",
          "model_name": "HTMLModel",
          "model_module_version": "1.5.0",
          "state": {
            "_dom_classes": [],
            "_model_module": "@jupyter-widgets/controls",
            "_model_module_version": "1.5.0",
            "_model_name": "HTMLModel",
            "_view_count": null,
            "_view_module": "@jupyter-widgets/controls",
            "_view_module_version": "1.5.0",
            "_view_name": "HTMLView",
            "description": "",
            "description_tooltip": null,
            "layout": "IPY_MODEL_160b21c3d2d74844ad048f72e2bf9550",
            "placeholder": "​",
            "style": "IPY_MODEL_c00f4a1dd827439493bef1c754d2f6ba",
            "value": " 124/124 [00:00&lt;00:00, 6.20kB/s]"
          }
        },
        "5577bebd04e24609b179f247e88b35e2": {
          "model_module": "@jupyter-widgets/base",
          "model_name": "LayoutModel",
          "model_module_version": "1.2.0",
          "state": {
            "_model_module": "@jupyter-widgets/base",
            "_model_module_version": "1.2.0",
            "_model_name": "LayoutModel",
            "_view_count": null,
            "_view_module": "@jupyter-widgets/base",
            "_view_module_version": "1.2.0",
            "_view_name": "LayoutView",
            "align_content": null,
            "align_items": null,
            "align_self": null,
            "border": null,
            "bottom": null,
            "display": null,
            "flex": null,
            "flex_flow": null,
            "grid_area": null,
            "grid_auto_columns": null,
            "grid_auto_flow": null,
            "grid_auto_rows": null,
            "grid_column": null,
            "grid_gap": null,
            "grid_row": null,
            "grid_template_areas": null,
            "grid_template_columns": null,
            "grid_template_rows": null,
            "height": null,
            "justify_content": null,
            "justify_items": null,
            "left": null,
            "margin": null,
            "max_height": null,
            "max_width": null,
            "min_height": null,
            "min_width": null,
            "object_fit": null,
            "object_position": null,
            "order": null,
            "overflow": null,
            "overflow_x": null,
            "overflow_y": null,
            "padding": null,
            "right": null,
            "top": null,
            "visibility": null,
            "width": null
          }
        },
        "f9419dbbf2624830b0b729c6ef765493": {
          "model_module": "@jupyter-widgets/base",
          "model_name": "LayoutModel",
          "model_module_version": "1.2.0",
          "state": {
            "_model_module": "@jupyter-widgets/base",
            "_model_module_version": "1.2.0",
            "_model_name": "LayoutModel",
            "_view_count": null,
            "_view_module": "@jupyter-widgets/base",
            "_view_module_version": "1.2.0",
            "_view_name": "LayoutView",
            "align_content": null,
            "align_items": null,
            "align_self": null,
            "border": null,
            "bottom": null,
            "display": null,
            "flex": null,
            "flex_flow": null,
            "grid_area": null,
            "grid_auto_columns": null,
            "grid_auto_flow": null,
            "grid_auto_rows": null,
            "grid_column": null,
            "grid_gap": null,
            "grid_row": null,
            "grid_template_areas": null,
            "grid_template_columns": null,
            "grid_template_rows": null,
            "height": null,
            "justify_content": null,
            "justify_items": null,
            "left": null,
            "margin": null,
            "max_height": null,
            "max_width": null,
            "min_height": null,
            "min_width": null,
            "object_fit": null,
            "object_position": null,
            "order": null,
            "overflow": null,
            "overflow_x": null,
            "overflow_y": null,
            "padding": null,
            "right": null,
            "top": null,
            "visibility": null,
            "width": null
          }
        },
        "62533a0836fd463faa1a69b5632dd14d": {
          "model_module": "@jupyter-widgets/controls",
          "model_name": "DescriptionStyleModel",
          "model_module_version": "1.5.0",
          "state": {
            "_model_module": "@jupyter-widgets/controls",
            "_model_module_version": "1.5.0",
            "_model_name": "DescriptionStyleModel",
            "_view_count": null,
            "_view_module": "@jupyter-widgets/base",
            "_view_module_version": "1.2.0",
            "_view_name": "StyleView",
            "description_width": ""
          }
        },
        "da1f6a83c641464aa955793956c6b415": {
          "model_module": "@jupyter-widgets/base",
          "model_name": "LayoutModel",
          "model_module_version": "1.2.0",
          "state": {
            "_model_module": "@jupyter-widgets/base",
            "_model_module_version": "1.2.0",
            "_model_name": "LayoutModel",
            "_view_count": null,
            "_view_module": "@jupyter-widgets/base",
            "_view_module_version": "1.2.0",
            "_view_name": "LayoutView",
            "align_content": null,
            "align_items": null,
            "align_self": null,
            "border": null,
            "bottom": null,
            "display": null,
            "flex": null,
            "flex_flow": null,
            "grid_area": null,
            "grid_auto_columns": null,
            "grid_auto_flow": null,
            "grid_auto_rows": null,
            "grid_column": null,
            "grid_gap": null,
            "grid_row": null,
            "grid_template_areas": null,
            "grid_template_columns": null,
            "grid_template_rows": null,
            "height": null,
            "justify_content": null,
            "justify_items": null,
            "left": null,
            "margin": null,
            "max_height": null,
            "max_width": null,
            "min_height": null,
            "min_width": null,
            "object_fit": null,
            "object_position": null,
            "order": null,
            "overflow": null,
            "overflow_x": null,
            "overflow_y": null,
            "padding": null,
            "right": null,
            "top": null,
            "visibility": null,
            "width": null
          }
        },
        "13fff4c430c64c11bf03f9cc3f38e70b": {
          "model_module": "@jupyter-widgets/controls",
          "model_name": "ProgressStyleModel",
          "model_module_version": "1.5.0",
          "state": {
            "_model_module": "@jupyter-widgets/controls",
            "_model_module_version": "1.5.0",
            "_model_name": "ProgressStyleModel",
            "_view_count": null,
            "_view_module": "@jupyter-widgets/base",
            "_view_module_version": "1.2.0",
            "_view_name": "StyleView",
            "bar_color": null,
            "description_width": ""
          }
        },
        "160b21c3d2d74844ad048f72e2bf9550": {
          "model_module": "@jupyter-widgets/base",
          "model_name": "LayoutModel",
          "model_module_version": "1.2.0",
          "state": {
            "_model_module": "@jupyter-widgets/base",
            "_model_module_version": "1.2.0",
            "_model_name": "LayoutModel",
            "_view_count": null,
            "_view_module": "@jupyter-widgets/base",
            "_view_module_version": "1.2.0",
            "_view_name": "LayoutView",
            "align_content": null,
            "align_items": null,
            "align_self": null,
            "border": null,
            "bottom": null,
            "display": null,
            "flex": null,
            "flex_flow": null,
            "grid_area": null,
            "grid_auto_columns": null,
            "grid_auto_flow": null,
            "grid_auto_rows": null,
            "grid_column": null,
            "grid_gap": null,
            "grid_row": null,
            "grid_template_areas": null,
            "grid_template_columns": null,
            "grid_template_rows": null,
            "height": null,
            "justify_content": null,
            "justify_items": null,
            "left": null,
            "margin": null,
            "max_height": null,
            "max_width": null,
            "min_height": null,
            "min_width": null,
            "object_fit": null,
            "object_position": null,
            "order": null,
            "overflow": null,
            "overflow_x": null,
            "overflow_y": null,
            "padding": null,
            "right": null,
            "top": null,
            "visibility": null,
            "width": null
          }
        },
        "c00f4a1dd827439493bef1c754d2f6ba": {
          "model_module": "@jupyter-widgets/controls",
          "model_name": "DescriptionStyleModel",
          "model_module_version": "1.5.0",
          "state": {
            "_model_module": "@jupyter-widgets/controls",
            "_model_module_version": "1.5.0",
            "_model_name": "DescriptionStyleModel",
            "_view_count": null,
            "_view_module": "@jupyter-widgets/base",
            "_view_module_version": "1.2.0",
            "_view_name": "StyleView",
            "description_width": ""
          }
        },
        "6566220e029e4c18837b48d5863bcf1b": {
          "model_module": "@jupyter-widgets/controls",
          "model_name": "HBoxModel",
          "model_module_version": "1.5.0",
          "state": {
            "_dom_classes": [],
            "_model_module": "@jupyter-widgets/controls",
            "_model_module_version": "1.5.0",
            "_model_name": "HBoxModel",
            "_view_count": null,
            "_view_module": "@jupyter-widgets/controls",
            "_view_module_version": "1.5.0",
            "_view_name": "HBoxView",
            "box_style": "",
            "children": [
              "IPY_MODEL_3483b08f77e64d8693e8c00859358603",
              "IPY_MODEL_8f3df5e0707b4af9acd69397699deaa5",
              "IPY_MODEL_3efd36964cf9471e838621c038165a5c"
            ],
            "layout": "IPY_MODEL_38a384d45142494bb7fc59bb66db5be4"
          }
        },
        "3483b08f77e64d8693e8c00859358603": {
          "model_module": "@jupyter-widgets/controls",
          "model_name": "HTMLModel",
          "model_module_version": "1.5.0",
          "state": {
            "_dom_classes": [],
            "_model_module": "@jupyter-widgets/controls",
            "_model_module_version": "1.5.0",
            "_model_name": "HTMLModel",
            "_view_count": null,
            "_view_module": "@jupyter-widgets/controls",
            "_view_module_version": "1.5.0",
            "_view_name": "HTMLView",
            "description": "",
            "description_tooltip": null,
            "layout": "IPY_MODEL_f467840feca8425cbda1acb831d7c886",
            "placeholder": "​",
            "style": "IPY_MODEL_75ed7bf9bb4b421fb60eef54b24e4297",
            "value": "pytorch_model.bin: 100%"
          }
        },
        "8f3df5e0707b4af9acd69397699deaa5": {
          "model_module": "@jupyter-widgets/controls",
          "model_name": "FloatProgressModel",
          "model_module_version": "1.5.0",
          "state": {
            "_dom_classes": [],
            "_model_module": "@jupyter-widgets/controls",
            "_model_module_version": "1.5.0",
            "_model_name": "FloatProgressModel",
            "_view_count": null,
            "_view_module": "@jupyter-widgets/controls",
            "_view_module_version": "1.5.0",
            "_view_name": "ProgressView",
            "bar_style": "success",
            "description": "",
            "description_tooltip": null,
            "layout": "IPY_MODEL_47a7da6ca628413ca3bb0f3c53166c44",
            "max": 133508397,
            "min": 0,
            "orientation": "horizontal",
            "style": "IPY_MODEL_c534801373024fafa5233adf23bacb16",
            "value": 133508397
          }
        },
        "3efd36964cf9471e838621c038165a5c": {
          "model_module": "@jupyter-widgets/controls",
          "model_name": "HTMLModel",
          "model_module_version": "1.5.0",
          "state": {
            "_dom_classes": [],
            "_model_module": "@jupyter-widgets/controls",
            "_model_module_version": "1.5.0",
            "_model_name": "HTMLModel",
            "_view_count": null,
            "_view_module": "@jupyter-widgets/controls",
            "_view_module_version": "1.5.0",
            "_view_name": "HTMLView",
            "description": "",
            "description_tooltip": null,
            "layout": "IPY_MODEL_73fd7c75cf004a5f83c3274e6b07e97b",
            "placeholder": "​",
            "style": "IPY_MODEL_95133297df1346edadf41213f7e47c5b",
            "value": " 134M/134M [00:01&lt;00:00, 156MB/s]"
          }
        },
        "38a384d45142494bb7fc59bb66db5be4": {
          "model_module": "@jupyter-widgets/base",
          "model_name": "LayoutModel",
          "model_module_version": "1.2.0",
          "state": {
            "_model_module": "@jupyter-widgets/base",
            "_model_module_version": "1.2.0",
            "_model_name": "LayoutModel",
            "_view_count": null,
            "_view_module": "@jupyter-widgets/base",
            "_view_module_version": "1.2.0",
            "_view_name": "LayoutView",
            "align_content": null,
            "align_items": null,
            "align_self": null,
            "border": null,
            "bottom": null,
            "display": null,
            "flex": null,
            "flex_flow": null,
            "grid_area": null,
            "grid_auto_columns": null,
            "grid_auto_flow": null,
            "grid_auto_rows": null,
            "grid_column": null,
            "grid_gap": null,
            "grid_row": null,
            "grid_template_areas": null,
            "grid_template_columns": null,
            "grid_template_rows": null,
            "height": null,
            "justify_content": null,
            "justify_items": null,
            "left": null,
            "margin": null,
            "max_height": null,
            "max_width": null,
            "min_height": null,
            "min_width": null,
            "object_fit": null,
            "object_position": null,
            "order": null,
            "overflow": null,
            "overflow_x": null,
            "overflow_y": null,
            "padding": null,
            "right": null,
            "top": null,
            "visibility": null,
            "width": null
          }
        },
        "f467840feca8425cbda1acb831d7c886": {
          "model_module": "@jupyter-widgets/base",
          "model_name": "LayoutModel",
          "model_module_version": "1.2.0",
          "state": {
            "_model_module": "@jupyter-widgets/base",
            "_model_module_version": "1.2.0",
            "_model_name": "LayoutModel",
            "_view_count": null,
            "_view_module": "@jupyter-widgets/base",
            "_view_module_version": "1.2.0",
            "_view_name": "LayoutView",
            "align_content": null,
            "align_items": null,
            "align_self": null,
            "border": null,
            "bottom": null,
            "display": null,
            "flex": null,
            "flex_flow": null,
            "grid_area": null,
            "grid_auto_columns": null,
            "grid_auto_flow": null,
            "grid_auto_rows": null,
            "grid_column": null,
            "grid_gap": null,
            "grid_row": null,
            "grid_template_areas": null,
            "grid_template_columns": null,
            "grid_template_rows": null,
            "height": null,
            "justify_content": null,
            "justify_items": null,
            "left": null,
            "margin": null,
            "max_height": null,
            "max_width": null,
            "min_height": null,
            "min_width": null,
            "object_fit": null,
            "object_position": null,
            "order": null,
            "overflow": null,
            "overflow_x": null,
            "overflow_y": null,
            "padding": null,
            "right": null,
            "top": null,
            "visibility": null,
            "width": null
          }
        },
        "75ed7bf9bb4b421fb60eef54b24e4297": {
          "model_module": "@jupyter-widgets/controls",
          "model_name": "DescriptionStyleModel",
          "model_module_version": "1.5.0",
          "state": {
            "_model_module": "@jupyter-widgets/controls",
            "_model_module_version": "1.5.0",
            "_model_name": "DescriptionStyleModel",
            "_view_count": null,
            "_view_module": "@jupyter-widgets/base",
            "_view_module_version": "1.2.0",
            "_view_name": "StyleView",
            "description_width": ""
          }
        },
        "47a7da6ca628413ca3bb0f3c53166c44": {
          "model_module": "@jupyter-widgets/base",
          "model_name": "LayoutModel",
          "model_module_version": "1.2.0",
          "state": {
            "_model_module": "@jupyter-widgets/base",
            "_model_module_version": "1.2.0",
            "_model_name": "LayoutModel",
            "_view_count": null,
            "_view_module": "@jupyter-widgets/base",
            "_view_module_version": "1.2.0",
            "_view_name": "LayoutView",
            "align_content": null,
            "align_items": null,
            "align_self": null,
            "border": null,
            "bottom": null,
            "display": null,
            "flex": null,
            "flex_flow": null,
            "grid_area": null,
            "grid_auto_columns": null,
            "grid_auto_flow": null,
            "grid_auto_rows": null,
            "grid_column": null,
            "grid_gap": null,
            "grid_row": null,
            "grid_template_areas": null,
            "grid_template_columns": null,
            "grid_template_rows": null,
            "height": null,
            "justify_content": null,
            "justify_items": null,
            "left": null,
            "margin": null,
            "max_height": null,
            "max_width": null,
            "min_height": null,
            "min_width": null,
            "object_fit": null,
            "object_position": null,
            "order": null,
            "overflow": null,
            "overflow_x": null,
            "overflow_y": null,
            "padding": null,
            "right": null,
            "top": null,
            "visibility": null,
            "width": null
          }
        },
        "c534801373024fafa5233adf23bacb16": {
          "model_module": "@jupyter-widgets/controls",
          "model_name": "ProgressStyleModel",
          "model_module_version": "1.5.0",
          "state": {
            "_model_module": "@jupyter-widgets/controls",
            "_model_module_version": "1.5.0",
            "_model_name": "ProgressStyleModel",
            "_view_count": null,
            "_view_module": "@jupyter-widgets/base",
            "_view_module_version": "1.2.0",
            "_view_name": "StyleView",
            "bar_color": null,
            "description_width": ""
          }
        },
        "73fd7c75cf004a5f83c3274e6b07e97b": {
          "model_module": "@jupyter-widgets/base",
          "model_name": "LayoutModel",
          "model_module_version": "1.2.0",
          "state": {
            "_model_module": "@jupyter-widgets/base",
            "_model_module_version": "1.2.0",
            "_model_name": "LayoutModel",
            "_view_count": null,
            "_view_module": "@jupyter-widgets/base",
            "_view_module_version": "1.2.0",
            "_view_name": "LayoutView",
            "align_content": null,
            "align_items": null,
            "align_self": null,
            "border": null,
            "bottom": null,
            "display": null,
            "flex": null,
            "flex_flow": null,
            "grid_area": null,
            "grid_auto_columns": null,
            "grid_auto_flow": null,
            "grid_auto_rows": null,
            "grid_column": null,
            "grid_gap": null,
            "grid_row": null,
            "grid_template_areas": null,
            "grid_template_columns": null,
            "grid_template_rows": null,
            "height": null,
            "justify_content": null,
            "justify_items": null,
            "left": null,
            "margin": null,
            "max_height": null,
            "max_width": null,
            "min_height": null,
            "min_width": null,
            "object_fit": null,
            "object_position": null,
            "order": null,
            "overflow": null,
            "overflow_x": null,
            "overflow_y": null,
            "padding": null,
            "right": null,
            "top": null,
            "visibility": null,
            "width": null
          }
        },
        "95133297df1346edadf41213f7e47c5b": {
          "model_module": "@jupyter-widgets/controls",
          "model_name": "DescriptionStyleModel",
          "model_module_version": "1.5.0",
          "state": {
            "_model_module": "@jupyter-widgets/controls",
            "_model_module_version": "1.5.0",
            "_model_name": "DescriptionStyleModel",
            "_view_count": null,
            "_view_module": "@jupyter-widgets/base",
            "_view_module_version": "1.2.0",
            "_view_name": "StyleView",
            "description_width": ""
          }
        },
        "a665d16a57814edba0ea3fbb94a86be2": {
          "model_module": "@jupyter-widgets/controls",
          "model_name": "HBoxModel",
          "model_module_version": "1.5.0",
          "state": {
            "_dom_classes": [],
            "_model_module": "@jupyter-widgets/controls",
            "_model_module_version": "1.5.0",
            "_model_name": "HBoxModel",
            "_view_count": null,
            "_view_module": "@jupyter-widgets/controls",
            "_view_module_version": "1.5.0",
            "_view_name": "HBoxView",
            "box_style": "",
            "children": [
              "IPY_MODEL_0e7915fce89b4d74887e3cd0bdd5d310",
              "IPY_MODEL_6eaae6225bee496a8ec5313f530492ed",
              "IPY_MODEL_43db30172d26484c950ced7b29ce38d5"
            ],
            "layout": "IPY_MODEL_2fcba9d757364798855859944f69ed71"
          }
        },
        "0e7915fce89b4d74887e3cd0bdd5d310": {
          "model_module": "@jupyter-widgets/controls",
          "model_name": "HTMLModel",
          "model_module_version": "1.5.0",
          "state": {
            "_dom_classes": [],
            "_model_module": "@jupyter-widgets/controls",
            "_model_module_version": "1.5.0",
            "_model_name": "HTMLModel",
            "_view_count": null,
            "_view_module": "@jupyter-widgets/controls",
            "_view_module_version": "1.5.0",
            "_view_name": "HTMLView",
            "description": "",
            "description_tooltip": null,
            "layout": "IPY_MODEL_3fbb40c9ea53401bab3a1e2cd6905bd0",
            "placeholder": "​",
            "style": "IPY_MODEL_db1f81abb0964a9b9f967a978651fbc2",
            "value": "sentence_bert_config.json: 100%"
          }
        },
        "6eaae6225bee496a8ec5313f530492ed": {
          "model_module": "@jupyter-widgets/controls",
          "model_name": "FloatProgressModel",
          "model_module_version": "1.5.0",
          "state": {
            "_dom_classes": [],
            "_model_module": "@jupyter-widgets/controls",
            "_model_module_version": "1.5.0",
            "_model_name": "FloatProgressModel",
            "_view_count": null,
            "_view_module": "@jupyter-widgets/controls",
            "_view_module_version": "1.5.0",
            "_view_name": "ProgressView",
            "bar_style": "success",
            "description": "",
            "description_tooltip": null,
            "layout": "IPY_MODEL_a5d9313b20534864af2070d8ca0ae1ea",
            "max": 52,
            "min": 0,
            "orientation": "horizontal",
            "style": "IPY_MODEL_91d40d7cf04a4c2b893f743b28328c0c",
            "value": 52
          }
        },
        "43db30172d26484c950ced7b29ce38d5": {
          "model_module": "@jupyter-widgets/controls",
          "model_name": "HTMLModel",
          "model_module_version": "1.5.0",
          "state": {
            "_dom_classes": [],
            "_model_module": "@jupyter-widgets/controls",
            "_model_module_version": "1.5.0",
            "_model_name": "HTMLModel",
            "_view_count": null,
            "_view_module": "@jupyter-widgets/controls",
            "_view_module_version": "1.5.0",
            "_view_name": "HTMLView",
            "description": "",
            "description_tooltip": null,
            "layout": "IPY_MODEL_83de9b15a64a4d058d0d8d6440c4f992",
            "placeholder": "​",
            "style": "IPY_MODEL_9153ef974a4647d3b607baa6e09639d8",
            "value": " 52.0/52.0 [00:00&lt;00:00, 1.98kB/s]"
          }
        },
        "2fcba9d757364798855859944f69ed71": {
          "model_module": "@jupyter-widgets/base",
          "model_name": "LayoutModel",
          "model_module_version": "1.2.0",
          "state": {
            "_model_module": "@jupyter-widgets/base",
            "_model_module_version": "1.2.0",
            "_model_name": "LayoutModel",
            "_view_count": null,
            "_view_module": "@jupyter-widgets/base",
            "_view_module_version": "1.2.0",
            "_view_name": "LayoutView",
            "align_content": null,
            "align_items": null,
            "align_self": null,
            "border": null,
            "bottom": null,
            "display": null,
            "flex": null,
            "flex_flow": null,
            "grid_area": null,
            "grid_auto_columns": null,
            "grid_auto_flow": null,
            "grid_auto_rows": null,
            "grid_column": null,
            "grid_gap": null,
            "grid_row": null,
            "grid_template_areas": null,
            "grid_template_columns": null,
            "grid_template_rows": null,
            "height": null,
            "justify_content": null,
            "justify_items": null,
            "left": null,
            "margin": null,
            "max_height": null,
            "max_width": null,
            "min_height": null,
            "min_width": null,
            "object_fit": null,
            "object_position": null,
            "order": null,
            "overflow": null,
            "overflow_x": null,
            "overflow_y": null,
            "padding": null,
            "right": null,
            "top": null,
            "visibility": null,
            "width": null
          }
        },
        "3fbb40c9ea53401bab3a1e2cd6905bd0": {
          "model_module": "@jupyter-widgets/base",
          "model_name": "LayoutModel",
          "model_module_version": "1.2.0",
          "state": {
            "_model_module": "@jupyter-widgets/base",
            "_model_module_version": "1.2.0",
            "_model_name": "LayoutModel",
            "_view_count": null,
            "_view_module": "@jupyter-widgets/base",
            "_view_module_version": "1.2.0",
            "_view_name": "LayoutView",
            "align_content": null,
            "align_items": null,
            "align_self": null,
            "border": null,
            "bottom": null,
            "display": null,
            "flex": null,
            "flex_flow": null,
            "grid_area": null,
            "grid_auto_columns": null,
            "grid_auto_flow": null,
            "grid_auto_rows": null,
            "grid_column": null,
            "grid_gap": null,
            "grid_row": null,
            "grid_template_areas": null,
            "grid_template_columns": null,
            "grid_template_rows": null,
            "height": null,
            "justify_content": null,
            "justify_items": null,
            "left": null,
            "margin": null,
            "max_height": null,
            "max_width": null,
            "min_height": null,
            "min_width": null,
            "object_fit": null,
            "object_position": null,
            "order": null,
            "overflow": null,
            "overflow_x": null,
            "overflow_y": null,
            "padding": null,
            "right": null,
            "top": null,
            "visibility": null,
            "width": null
          }
        },
        "db1f81abb0964a9b9f967a978651fbc2": {
          "model_module": "@jupyter-widgets/controls",
          "model_name": "DescriptionStyleModel",
          "model_module_version": "1.5.0",
          "state": {
            "_model_module": "@jupyter-widgets/controls",
            "_model_module_version": "1.5.0",
            "_model_name": "DescriptionStyleModel",
            "_view_count": null,
            "_view_module": "@jupyter-widgets/base",
            "_view_module_version": "1.2.0",
            "_view_name": "StyleView",
            "description_width": ""
          }
        },
        "a5d9313b20534864af2070d8ca0ae1ea": {
          "model_module": "@jupyter-widgets/base",
          "model_name": "LayoutModel",
          "model_module_version": "1.2.0",
          "state": {
            "_model_module": "@jupyter-widgets/base",
            "_model_module_version": "1.2.0",
            "_model_name": "LayoutModel",
            "_view_count": null,
            "_view_module": "@jupyter-widgets/base",
            "_view_module_version": "1.2.0",
            "_view_name": "LayoutView",
            "align_content": null,
            "align_items": null,
            "align_self": null,
            "border": null,
            "bottom": null,
            "display": null,
            "flex": null,
            "flex_flow": null,
            "grid_area": null,
            "grid_auto_columns": null,
            "grid_auto_flow": null,
            "grid_auto_rows": null,
            "grid_column": null,
            "grid_gap": null,
            "grid_row": null,
            "grid_template_areas": null,
            "grid_template_columns": null,
            "grid_template_rows": null,
            "height": null,
            "justify_content": null,
            "justify_items": null,
            "left": null,
            "margin": null,
            "max_height": null,
            "max_width": null,
            "min_height": null,
            "min_width": null,
            "object_fit": null,
            "object_position": null,
            "order": null,
            "overflow": null,
            "overflow_x": null,
            "overflow_y": null,
            "padding": null,
            "right": null,
            "top": null,
            "visibility": null,
            "width": null
          }
        },
        "91d40d7cf04a4c2b893f743b28328c0c": {
          "model_module": "@jupyter-widgets/controls",
          "model_name": "ProgressStyleModel",
          "model_module_version": "1.5.0",
          "state": {
            "_model_module": "@jupyter-widgets/controls",
            "_model_module_version": "1.5.0",
            "_model_name": "ProgressStyleModel",
            "_view_count": null,
            "_view_module": "@jupyter-widgets/base",
            "_view_module_version": "1.2.0",
            "_view_name": "StyleView",
            "bar_color": null,
            "description_width": ""
          }
        },
        "83de9b15a64a4d058d0d8d6440c4f992": {
          "model_module": "@jupyter-widgets/base",
          "model_name": "LayoutModel",
          "model_module_version": "1.2.0",
          "state": {
            "_model_module": "@jupyter-widgets/base",
            "_model_module_version": "1.2.0",
            "_model_name": "LayoutModel",
            "_view_count": null,
            "_view_module": "@jupyter-widgets/base",
            "_view_module_version": "1.2.0",
            "_view_name": "LayoutView",
            "align_content": null,
            "align_items": null,
            "align_self": null,
            "border": null,
            "bottom": null,
            "display": null,
            "flex": null,
            "flex_flow": null,
            "grid_area": null,
            "grid_auto_columns": null,
            "grid_auto_flow": null,
            "grid_auto_rows": null,
            "grid_column": null,
            "grid_gap": null,
            "grid_row": null,
            "grid_template_areas": null,
            "grid_template_columns": null,
            "grid_template_rows": null,
            "height": null,
            "justify_content": null,
            "justify_items": null,
            "left": null,
            "margin": null,
            "max_height": null,
            "max_width": null,
            "min_height": null,
            "min_width": null,
            "object_fit": null,
            "object_position": null,
            "order": null,
            "overflow": null,
            "overflow_x": null,
            "overflow_y": null,
            "padding": null,
            "right": null,
            "top": null,
            "visibility": null,
            "width": null
          }
        },
        "9153ef974a4647d3b607baa6e09639d8": {
          "model_module": "@jupyter-widgets/controls",
          "model_name": "DescriptionStyleModel",
          "model_module_version": "1.5.0",
          "state": {
            "_model_module": "@jupyter-widgets/controls",
            "_model_module_version": "1.5.0",
            "_model_name": "DescriptionStyleModel",
            "_view_count": null,
            "_view_module": "@jupyter-widgets/base",
            "_view_module_version": "1.2.0",
            "_view_name": "StyleView",
            "description_width": ""
          }
        },
        "fe59fd8500004d1b98b5c515bcce251e": {
          "model_module": "@jupyter-widgets/controls",
          "model_name": "HBoxModel",
          "model_module_version": "1.5.0",
          "state": {
            "_dom_classes": [],
            "_model_module": "@jupyter-widgets/controls",
            "_model_module_version": "1.5.0",
            "_model_name": "HBoxModel",
            "_view_count": null,
            "_view_module": "@jupyter-widgets/controls",
            "_view_module_version": "1.5.0",
            "_view_name": "HBoxView",
            "box_style": "",
            "children": [
              "IPY_MODEL_e12bc364659742cb8542343ee2490e90",
              "IPY_MODEL_d06db54a5ea24b478e777337351f8876",
              "IPY_MODEL_79a97b97dd784091b0edba0f21529889"
            ],
            "layout": "IPY_MODEL_69b493fde5e243df9be04a2f53d1bc0f"
          }
        },
        "e12bc364659742cb8542343ee2490e90": {
          "model_module": "@jupyter-widgets/controls",
          "model_name": "HTMLModel",
          "model_module_version": "1.5.0",
          "state": {
            "_dom_classes": [],
            "_model_module": "@jupyter-widgets/controls",
            "_model_module_version": "1.5.0",
            "_model_name": "HTMLModel",
            "_view_count": null,
            "_view_module": "@jupyter-widgets/controls",
            "_view_module_version": "1.5.0",
            "_view_name": "HTMLView",
            "description": "",
            "description_tooltip": null,
            "layout": "IPY_MODEL_e776c22363424aad96dd5497a62d0c0d",
            "placeholder": "​",
            "style": "IPY_MODEL_c194cc600a5c49f0bfcdb7893583d88b",
            "value": "special_tokens_map.json: 100%"
          }
        },
        "d06db54a5ea24b478e777337351f8876": {
          "model_module": "@jupyter-widgets/controls",
          "model_name": "FloatProgressModel",
          "model_module_version": "1.5.0",
          "state": {
            "_dom_classes": [],
            "_model_module": "@jupyter-widgets/controls",
            "_model_module_version": "1.5.0",
            "_model_name": "FloatProgressModel",
            "_view_count": null,
            "_view_module": "@jupyter-widgets/controls",
            "_view_module_version": "1.5.0",
            "_view_name": "ProgressView",
            "bar_style": "success",
            "description": "",
            "description_tooltip": null,
            "layout": "IPY_MODEL_b6eb09c71e1a4664b7a7fb037a714412",
            "max": 125,
            "min": 0,
            "orientation": "horizontal",
            "style": "IPY_MODEL_69df742093da485aaea560056fa0f175",
            "value": 125
          }
        },
        "79a97b97dd784091b0edba0f21529889": {
          "model_module": "@jupyter-widgets/controls",
          "model_name": "HTMLModel",
          "model_module_version": "1.5.0",
          "state": {
            "_dom_classes": [],
            "_model_module": "@jupyter-widgets/controls",
            "_model_module_version": "1.5.0",
            "_model_name": "HTMLModel",
            "_view_count": null,
            "_view_module": "@jupyter-widgets/controls",
            "_view_module_version": "1.5.0",
            "_view_name": "HTMLView",
            "description": "",
            "description_tooltip": null,
            "layout": "IPY_MODEL_6c22f3684bfd4d5c98dbb355ae86b17f",
            "placeholder": "​",
            "style": "IPY_MODEL_b3b183e2f8a842248359a9fb8eb784d1",
            "value": " 125/125 [00:00&lt;00:00, 3.71kB/s]"
          }
        },
        "69b493fde5e243df9be04a2f53d1bc0f": {
          "model_module": "@jupyter-widgets/base",
          "model_name": "LayoutModel",
          "model_module_version": "1.2.0",
          "state": {
            "_model_module": "@jupyter-widgets/base",
            "_model_module_version": "1.2.0",
            "_model_name": "LayoutModel",
            "_view_count": null,
            "_view_module": "@jupyter-widgets/base",
            "_view_module_version": "1.2.0",
            "_view_name": "LayoutView",
            "align_content": null,
            "align_items": null,
            "align_self": null,
            "border": null,
            "bottom": null,
            "display": null,
            "flex": null,
            "flex_flow": null,
            "grid_area": null,
            "grid_auto_columns": null,
            "grid_auto_flow": null,
            "grid_auto_rows": null,
            "grid_column": null,
            "grid_gap": null,
            "grid_row": null,
            "grid_template_areas": null,
            "grid_template_columns": null,
            "grid_template_rows": null,
            "height": null,
            "justify_content": null,
            "justify_items": null,
            "left": null,
            "margin": null,
            "max_height": null,
            "max_width": null,
            "min_height": null,
            "min_width": null,
            "object_fit": null,
            "object_position": null,
            "order": null,
            "overflow": null,
            "overflow_x": null,
            "overflow_y": null,
            "padding": null,
            "right": null,
            "top": null,
            "visibility": null,
            "width": null
          }
        },
        "e776c22363424aad96dd5497a62d0c0d": {
          "model_module": "@jupyter-widgets/base",
          "model_name": "LayoutModel",
          "model_module_version": "1.2.0",
          "state": {
            "_model_module": "@jupyter-widgets/base",
            "_model_module_version": "1.2.0",
            "_model_name": "LayoutModel",
            "_view_count": null,
            "_view_module": "@jupyter-widgets/base",
            "_view_module_version": "1.2.0",
            "_view_name": "LayoutView",
            "align_content": null,
            "align_items": null,
            "align_self": null,
            "border": null,
            "bottom": null,
            "display": null,
            "flex": null,
            "flex_flow": null,
            "grid_area": null,
            "grid_auto_columns": null,
            "grid_auto_flow": null,
            "grid_auto_rows": null,
            "grid_column": null,
            "grid_gap": null,
            "grid_row": null,
            "grid_template_areas": null,
            "grid_template_columns": null,
            "grid_template_rows": null,
            "height": null,
            "justify_content": null,
            "justify_items": null,
            "left": null,
            "margin": null,
            "max_height": null,
            "max_width": null,
            "min_height": null,
            "min_width": null,
            "object_fit": null,
            "object_position": null,
            "order": null,
            "overflow": null,
            "overflow_x": null,
            "overflow_y": null,
            "padding": null,
            "right": null,
            "top": null,
            "visibility": null,
            "width": null
          }
        },
        "c194cc600a5c49f0bfcdb7893583d88b": {
          "model_module": "@jupyter-widgets/controls",
          "model_name": "DescriptionStyleModel",
          "model_module_version": "1.5.0",
          "state": {
            "_model_module": "@jupyter-widgets/controls",
            "_model_module_version": "1.5.0",
            "_model_name": "DescriptionStyleModel",
            "_view_count": null,
            "_view_module": "@jupyter-widgets/base",
            "_view_module_version": "1.2.0",
            "_view_name": "StyleView",
            "description_width": ""
          }
        },
        "b6eb09c71e1a4664b7a7fb037a714412": {
          "model_module": "@jupyter-widgets/base",
          "model_name": "LayoutModel",
          "model_module_version": "1.2.0",
          "state": {
            "_model_module": "@jupyter-widgets/base",
            "_model_module_version": "1.2.0",
            "_model_name": "LayoutModel",
            "_view_count": null,
            "_view_module": "@jupyter-widgets/base",
            "_view_module_version": "1.2.0",
            "_view_name": "LayoutView",
            "align_content": null,
            "align_items": null,
            "align_self": null,
            "border": null,
            "bottom": null,
            "display": null,
            "flex": null,
            "flex_flow": null,
            "grid_area": null,
            "grid_auto_columns": null,
            "grid_auto_flow": null,
            "grid_auto_rows": null,
            "grid_column": null,
            "grid_gap": null,
            "grid_row": null,
            "grid_template_areas": null,
            "grid_template_columns": null,
            "grid_template_rows": null,
            "height": null,
            "justify_content": null,
            "justify_items": null,
            "left": null,
            "margin": null,
            "max_height": null,
            "max_width": null,
            "min_height": null,
            "min_width": null,
            "object_fit": null,
            "object_position": null,
            "order": null,
            "overflow": null,
            "overflow_x": null,
            "overflow_y": null,
            "padding": null,
            "right": null,
            "top": null,
            "visibility": null,
            "width": null
          }
        },
        "69df742093da485aaea560056fa0f175": {
          "model_module": "@jupyter-widgets/controls",
          "model_name": "ProgressStyleModel",
          "model_module_version": "1.5.0",
          "state": {
            "_model_module": "@jupyter-widgets/controls",
            "_model_module_version": "1.5.0",
            "_model_name": "ProgressStyleModel",
            "_view_count": null,
            "_view_module": "@jupyter-widgets/base",
            "_view_module_version": "1.2.0",
            "_view_name": "StyleView",
            "bar_color": null,
            "description_width": ""
          }
        },
        "6c22f3684bfd4d5c98dbb355ae86b17f": {
          "model_module": "@jupyter-widgets/base",
          "model_name": "LayoutModel",
          "model_module_version": "1.2.0",
          "state": {
            "_model_module": "@jupyter-widgets/base",
            "_model_module_version": "1.2.0",
            "_model_name": "LayoutModel",
            "_view_count": null,
            "_view_module": "@jupyter-widgets/base",
            "_view_module_version": "1.2.0",
            "_view_name": "LayoutView",
            "align_content": null,
            "align_items": null,
            "align_self": null,
            "border": null,
            "bottom": null,
            "display": null,
            "flex": null,
            "flex_flow": null,
            "grid_area": null,
            "grid_auto_columns": null,
            "grid_auto_flow": null,
            "grid_auto_rows": null,
            "grid_column": null,
            "grid_gap": null,
            "grid_row": null,
            "grid_template_areas": null,
            "grid_template_columns": null,
            "grid_template_rows": null,
            "height": null,
            "justify_content": null,
            "justify_items": null,
            "left": null,
            "margin": null,
            "max_height": null,
            "max_width": null,
            "min_height": null,
            "min_width": null,
            "object_fit": null,
            "object_position": null,
            "order": null,
            "overflow": null,
            "overflow_x": null,
            "overflow_y": null,
            "padding": null,
            "right": null,
            "top": null,
            "visibility": null,
            "width": null
          }
        },
        "b3b183e2f8a842248359a9fb8eb784d1": {
          "model_module": "@jupyter-widgets/controls",
          "model_name": "DescriptionStyleModel",
          "model_module_version": "1.5.0",
          "state": {
            "_model_module": "@jupyter-widgets/controls",
            "_model_module_version": "1.5.0",
            "_model_name": "DescriptionStyleModel",
            "_view_count": null,
            "_view_module": "@jupyter-widgets/base",
            "_view_module_version": "1.2.0",
            "_view_name": "StyleView",
            "description_width": ""
          }
        },
        "afb6e40811dc4c7c9b71d441458bbc4c": {
          "model_module": "@jupyter-widgets/controls",
          "model_name": "HBoxModel",
          "model_module_version": "1.5.0",
          "state": {
            "_dom_classes": [],
            "_model_module": "@jupyter-widgets/controls",
            "_model_module_version": "1.5.0",
            "_model_name": "HBoxModel",
            "_view_count": null,
            "_view_module": "@jupyter-widgets/controls",
            "_view_module_version": "1.5.0",
            "_view_name": "HBoxView",
            "box_style": "",
            "children": [
              "IPY_MODEL_014dbc5c36fc4756b0c4c9afa2944d9a",
              "IPY_MODEL_7fdb903fd43e42ae8cd7c2412f437b7f",
              "IPY_MODEL_7fe5ab171ad1453d9db4a5c52174d554"
            ],
            "layout": "IPY_MODEL_04c7bb6f7eee4935941aec2c1dc8b473"
          }
        },
        "014dbc5c36fc4756b0c4c9afa2944d9a": {
          "model_module": "@jupyter-widgets/controls",
          "model_name": "HTMLModel",
          "model_module_version": "1.5.0",
          "state": {
            "_dom_classes": [],
            "_model_module": "@jupyter-widgets/controls",
            "_model_module_version": "1.5.0",
            "_model_name": "HTMLModel",
            "_view_count": null,
            "_view_module": "@jupyter-widgets/controls",
            "_view_module_version": "1.5.0",
            "_view_name": "HTMLView",
            "description": "",
            "description_tooltip": null,
            "layout": "IPY_MODEL_d8fe85d3ba1343368267b793980b211b",
            "placeholder": "​",
            "style": "IPY_MODEL_6c34decc018343a29ff677bf8662a811",
            "value": "tokenizer.json: 100%"
          }
        },
        "7fdb903fd43e42ae8cd7c2412f437b7f": {
          "model_module": "@jupyter-widgets/controls",
          "model_name": "FloatProgressModel",
          "model_module_version": "1.5.0",
          "state": {
            "_dom_classes": [],
            "_model_module": "@jupyter-widgets/controls",
            "_model_module_version": "1.5.0",
            "_model_name": "FloatProgressModel",
            "_view_count": null,
            "_view_module": "@jupyter-widgets/controls",
            "_view_module_version": "1.5.0",
            "_view_name": "ProgressView",
            "bar_style": "success",
            "description": "",
            "description_tooltip": null,
            "layout": "IPY_MODEL_3ce6d63b431c44ddbb437ec726cf03a2",
            "max": 711396,
            "min": 0,
            "orientation": "horizontal",
            "style": "IPY_MODEL_1cdd00b6bf714c778cc0a9709679ec7f",
            "value": 711396
          }
        },
        "7fe5ab171ad1453d9db4a5c52174d554": {
          "model_module": "@jupyter-widgets/controls",
          "model_name": "HTMLModel",
          "model_module_version": "1.5.0",
          "state": {
            "_dom_classes": [],
            "_model_module": "@jupyter-widgets/controls",
            "_model_module_version": "1.5.0",
            "_model_name": "HTMLModel",
            "_view_count": null,
            "_view_module": "@jupyter-widgets/controls",
            "_view_module_version": "1.5.0",
            "_view_name": "HTMLView",
            "description": "",
            "description_tooltip": null,
            "layout": "IPY_MODEL_d3be0cb2955848bfb1cfd0620b8d9b85",
            "placeholder": "​",
            "style": "IPY_MODEL_e58e8ba1ba864af78591ba8a16c2907f",
            "value": " 711k/711k [00:00&lt;00:00, 18.7MB/s]"
          }
        },
        "04c7bb6f7eee4935941aec2c1dc8b473": {
          "model_module": "@jupyter-widgets/base",
          "model_name": "LayoutModel",
          "model_module_version": "1.2.0",
          "state": {
            "_model_module": "@jupyter-widgets/base",
            "_model_module_version": "1.2.0",
            "_model_name": "LayoutModel",
            "_view_count": null,
            "_view_module": "@jupyter-widgets/base",
            "_view_module_version": "1.2.0",
            "_view_name": "LayoutView",
            "align_content": null,
            "align_items": null,
            "align_self": null,
            "border": null,
            "bottom": null,
            "display": null,
            "flex": null,
            "flex_flow": null,
            "grid_area": null,
            "grid_auto_columns": null,
            "grid_auto_flow": null,
            "grid_auto_rows": null,
            "grid_column": null,
            "grid_gap": null,
            "grid_row": null,
            "grid_template_areas": null,
            "grid_template_columns": null,
            "grid_template_rows": null,
            "height": null,
            "justify_content": null,
            "justify_items": null,
            "left": null,
            "margin": null,
            "max_height": null,
            "max_width": null,
            "min_height": null,
            "min_width": null,
            "object_fit": null,
            "object_position": null,
            "order": null,
            "overflow": null,
            "overflow_x": null,
            "overflow_y": null,
            "padding": null,
            "right": null,
            "top": null,
            "visibility": null,
            "width": null
          }
        },
        "d8fe85d3ba1343368267b793980b211b": {
          "model_module": "@jupyter-widgets/base",
          "model_name": "LayoutModel",
          "model_module_version": "1.2.0",
          "state": {
            "_model_module": "@jupyter-widgets/base",
            "_model_module_version": "1.2.0",
            "_model_name": "LayoutModel",
            "_view_count": null,
            "_view_module": "@jupyter-widgets/base",
            "_view_module_version": "1.2.0",
            "_view_name": "LayoutView",
            "align_content": null,
            "align_items": null,
            "align_self": null,
            "border": null,
            "bottom": null,
            "display": null,
            "flex": null,
            "flex_flow": null,
            "grid_area": null,
            "grid_auto_columns": null,
            "grid_auto_flow": null,
            "grid_auto_rows": null,
            "grid_column": null,
            "grid_gap": null,
            "grid_row": null,
            "grid_template_areas": null,
            "grid_template_columns": null,
            "grid_template_rows": null,
            "height": null,
            "justify_content": null,
            "justify_items": null,
            "left": null,
            "margin": null,
            "max_height": null,
            "max_width": null,
            "min_height": null,
            "min_width": null,
            "object_fit": null,
            "object_position": null,
            "order": null,
            "overflow": null,
            "overflow_x": null,
            "overflow_y": null,
            "padding": null,
            "right": null,
            "top": null,
            "visibility": null,
            "width": null
          }
        },
        "6c34decc018343a29ff677bf8662a811": {
          "model_module": "@jupyter-widgets/controls",
          "model_name": "DescriptionStyleModel",
          "model_module_version": "1.5.0",
          "state": {
            "_model_module": "@jupyter-widgets/controls",
            "_model_module_version": "1.5.0",
            "_model_name": "DescriptionStyleModel",
            "_view_count": null,
            "_view_module": "@jupyter-widgets/base",
            "_view_module_version": "1.2.0",
            "_view_name": "StyleView",
            "description_width": ""
          }
        },
        "3ce6d63b431c44ddbb437ec726cf03a2": {
          "model_module": "@jupyter-widgets/base",
          "model_name": "LayoutModel",
          "model_module_version": "1.2.0",
          "state": {
            "_model_module": "@jupyter-widgets/base",
            "_model_module_version": "1.2.0",
            "_model_name": "LayoutModel",
            "_view_count": null,
            "_view_module": "@jupyter-widgets/base",
            "_view_module_version": "1.2.0",
            "_view_name": "LayoutView",
            "align_content": null,
            "align_items": null,
            "align_self": null,
            "border": null,
            "bottom": null,
            "display": null,
            "flex": null,
            "flex_flow": null,
            "grid_area": null,
            "grid_auto_columns": null,
            "grid_auto_flow": null,
            "grid_auto_rows": null,
            "grid_column": null,
            "grid_gap": null,
            "grid_row": null,
            "grid_template_areas": null,
            "grid_template_columns": null,
            "grid_template_rows": null,
            "height": null,
            "justify_content": null,
            "justify_items": null,
            "left": null,
            "margin": null,
            "max_height": null,
            "max_width": null,
            "min_height": null,
            "min_width": null,
            "object_fit": null,
            "object_position": null,
            "order": null,
            "overflow": null,
            "overflow_x": null,
            "overflow_y": null,
            "padding": null,
            "right": null,
            "top": null,
            "visibility": null,
            "width": null
          }
        },
        "1cdd00b6bf714c778cc0a9709679ec7f": {
          "model_module": "@jupyter-widgets/controls",
          "model_name": "ProgressStyleModel",
          "model_module_version": "1.5.0",
          "state": {
            "_model_module": "@jupyter-widgets/controls",
            "_model_module_version": "1.5.0",
            "_model_name": "ProgressStyleModel",
            "_view_count": null,
            "_view_module": "@jupyter-widgets/base",
            "_view_module_version": "1.2.0",
            "_view_name": "StyleView",
            "bar_color": null,
            "description_width": ""
          }
        },
        "d3be0cb2955848bfb1cfd0620b8d9b85": {
          "model_module": "@jupyter-widgets/base",
          "model_name": "LayoutModel",
          "model_module_version": "1.2.0",
          "state": {
            "_model_module": "@jupyter-widgets/base",
            "_model_module_version": "1.2.0",
            "_model_name": "LayoutModel",
            "_view_count": null,
            "_view_module": "@jupyter-widgets/base",
            "_view_module_version": "1.2.0",
            "_view_name": "LayoutView",
            "align_content": null,
            "align_items": null,
            "align_self": null,
            "border": null,
            "bottom": null,
            "display": null,
            "flex": null,
            "flex_flow": null,
            "grid_area": null,
            "grid_auto_columns": null,
            "grid_auto_flow": null,
            "grid_auto_rows": null,
            "grid_column": null,
            "grid_gap": null,
            "grid_row": null,
            "grid_template_areas": null,
            "grid_template_columns": null,
            "grid_template_rows": null,
            "height": null,
            "justify_content": null,
            "justify_items": null,
            "left": null,
            "margin": null,
            "max_height": null,
            "max_width": null,
            "min_height": null,
            "min_width": null,
            "object_fit": null,
            "object_position": null,
            "order": null,
            "overflow": null,
            "overflow_x": null,
            "overflow_y": null,
            "padding": null,
            "right": null,
            "top": null,
            "visibility": null,
            "width": null
          }
        },
        "e58e8ba1ba864af78591ba8a16c2907f": {
          "model_module": "@jupyter-widgets/controls",
          "model_name": "DescriptionStyleModel",
          "model_module_version": "1.5.0",
          "state": {
            "_model_module": "@jupyter-widgets/controls",
            "_model_module_version": "1.5.0",
            "_model_name": "DescriptionStyleModel",
            "_view_count": null,
            "_view_module": "@jupyter-widgets/base",
            "_view_module_version": "1.2.0",
            "_view_name": "StyleView",
            "description_width": ""
          }
        },
        "c0f3cd574c9048cb968296db6249e296": {
          "model_module": "@jupyter-widgets/controls",
          "model_name": "HBoxModel",
          "model_module_version": "1.5.0",
          "state": {
            "_dom_classes": [],
            "_model_module": "@jupyter-widgets/controls",
            "_model_module_version": "1.5.0",
            "_model_name": "HBoxModel",
            "_view_count": null,
            "_view_module": "@jupyter-widgets/controls",
            "_view_module_version": "1.5.0",
            "_view_name": "HBoxView",
            "box_style": "",
            "children": [
              "IPY_MODEL_092a59ffa1794e958002ff50e7ab8c20",
              "IPY_MODEL_0b37b1de85c14e7d8c7feed79dbb2f23",
              "IPY_MODEL_1098fe27e0bd48cd8c0f3d485e07a6bd"
            ],
            "layout": "IPY_MODEL_482923d1135a4994aba994be6368721b"
          }
        },
        "092a59ffa1794e958002ff50e7ab8c20": {
          "model_module": "@jupyter-widgets/controls",
          "model_name": "HTMLModel",
          "model_module_version": "1.5.0",
          "state": {
            "_dom_classes": [],
            "_model_module": "@jupyter-widgets/controls",
            "_model_module_version": "1.5.0",
            "_model_name": "HTMLModel",
            "_view_count": null,
            "_view_module": "@jupyter-widgets/controls",
            "_view_module_version": "1.5.0",
            "_view_name": "HTMLView",
            "description": "",
            "description_tooltip": null,
            "layout": "IPY_MODEL_99c1f6c37eeb4e78b9c6176b3a7045eb",
            "placeholder": "​",
            "style": "IPY_MODEL_45a5c37d668447458e6ad3e33b0edb15",
            "value": "tokenizer_config.json: 100%"
          }
        },
        "0b37b1de85c14e7d8c7feed79dbb2f23": {
          "model_module": "@jupyter-widgets/controls",
          "model_name": "FloatProgressModel",
          "model_module_version": "1.5.0",
          "state": {
            "_dom_classes": [],
            "_model_module": "@jupyter-widgets/controls",
            "_model_module_version": "1.5.0",
            "_model_name": "FloatProgressModel",
            "_view_count": null,
            "_view_module": "@jupyter-widgets/controls",
            "_view_module_version": "1.5.0",
            "_view_name": "ProgressView",
            "bar_style": "success",
            "description": "",
            "description_tooltip": null,
            "layout": "IPY_MODEL_42fbe4e68879486295c7b49563f36c89",
            "max": 366,
            "min": 0,
            "orientation": "horizontal",
            "style": "IPY_MODEL_0bb791ece8164d698ac57d160c5b15d9",
            "value": 366
          }
        },
        "1098fe27e0bd48cd8c0f3d485e07a6bd": {
          "model_module": "@jupyter-widgets/controls",
          "model_name": "HTMLModel",
          "model_module_version": "1.5.0",
          "state": {
            "_dom_classes": [],
            "_model_module": "@jupyter-widgets/controls",
            "_model_module_version": "1.5.0",
            "_model_name": "HTMLModel",
            "_view_count": null,
            "_view_module": "@jupyter-widgets/controls",
            "_view_module_version": "1.5.0",
            "_view_name": "HTMLView",
            "description": "",
            "description_tooltip": null,
            "layout": "IPY_MODEL_ce982126877d4966bd102cd2cb2ca6e3",
            "placeholder": "​",
            "style": "IPY_MODEL_7414e9f9cdcf4fa680f147576a9eabd8",
            "value": " 366/366 [00:00&lt;00:00, 15.2kB/s]"
          }
        },
        "482923d1135a4994aba994be6368721b": {
          "model_module": "@jupyter-widgets/base",
          "model_name": "LayoutModel",
          "model_module_version": "1.2.0",
          "state": {
            "_model_module": "@jupyter-widgets/base",
            "_model_module_version": "1.2.0",
            "_model_name": "LayoutModel",
            "_view_count": null,
            "_view_module": "@jupyter-widgets/base",
            "_view_module_version": "1.2.0",
            "_view_name": "LayoutView",
            "align_content": null,
            "align_items": null,
            "align_self": null,
            "border": null,
            "bottom": null,
            "display": null,
            "flex": null,
            "flex_flow": null,
            "grid_area": null,
            "grid_auto_columns": null,
            "grid_auto_flow": null,
            "grid_auto_rows": null,
            "grid_column": null,
            "grid_gap": null,
            "grid_row": null,
            "grid_template_areas": null,
            "grid_template_columns": null,
            "grid_template_rows": null,
            "height": null,
            "justify_content": null,
            "justify_items": null,
            "left": null,
            "margin": null,
            "max_height": null,
            "max_width": null,
            "min_height": null,
            "min_width": null,
            "object_fit": null,
            "object_position": null,
            "order": null,
            "overflow": null,
            "overflow_x": null,
            "overflow_y": null,
            "padding": null,
            "right": null,
            "top": null,
            "visibility": null,
            "width": null
          }
        },
        "99c1f6c37eeb4e78b9c6176b3a7045eb": {
          "model_module": "@jupyter-widgets/base",
          "model_name": "LayoutModel",
          "model_module_version": "1.2.0",
          "state": {
            "_model_module": "@jupyter-widgets/base",
            "_model_module_version": "1.2.0",
            "_model_name": "LayoutModel",
            "_view_count": null,
            "_view_module": "@jupyter-widgets/base",
            "_view_module_version": "1.2.0",
            "_view_name": "LayoutView",
            "align_content": null,
            "align_items": null,
            "align_self": null,
            "border": null,
            "bottom": null,
            "display": null,
            "flex": null,
            "flex_flow": null,
            "grid_area": null,
            "grid_auto_columns": null,
            "grid_auto_flow": null,
            "grid_auto_rows": null,
            "grid_column": null,
            "grid_gap": null,
            "grid_row": null,
            "grid_template_areas": null,
            "grid_template_columns": null,
            "grid_template_rows": null,
            "height": null,
            "justify_content": null,
            "justify_items": null,
            "left": null,
            "margin": null,
            "max_height": null,
            "max_width": null,
            "min_height": null,
            "min_width": null,
            "object_fit": null,
            "object_position": null,
            "order": null,
            "overflow": null,
            "overflow_x": null,
            "overflow_y": null,
            "padding": null,
            "right": null,
            "top": null,
            "visibility": null,
            "width": null
          }
        },
        "45a5c37d668447458e6ad3e33b0edb15": {
          "model_module": "@jupyter-widgets/controls",
          "model_name": "DescriptionStyleModel",
          "model_module_version": "1.5.0",
          "state": {
            "_model_module": "@jupyter-widgets/controls",
            "_model_module_version": "1.5.0",
            "_model_name": "DescriptionStyleModel",
            "_view_count": null,
            "_view_module": "@jupyter-widgets/base",
            "_view_module_version": "1.2.0",
            "_view_name": "StyleView",
            "description_width": ""
          }
        },
        "42fbe4e68879486295c7b49563f36c89": {
          "model_module": "@jupyter-widgets/base",
          "model_name": "LayoutModel",
          "model_module_version": "1.2.0",
          "state": {
            "_model_module": "@jupyter-widgets/base",
            "_model_module_version": "1.2.0",
            "_model_name": "LayoutModel",
            "_view_count": null,
            "_view_module": "@jupyter-widgets/base",
            "_view_module_version": "1.2.0",
            "_view_name": "LayoutView",
            "align_content": null,
            "align_items": null,
            "align_self": null,
            "border": null,
            "bottom": null,
            "display": null,
            "flex": null,
            "flex_flow": null,
            "grid_area": null,
            "grid_auto_columns": null,
            "grid_auto_flow": null,
            "grid_auto_rows": null,
            "grid_column": null,
            "grid_gap": null,
            "grid_row": null,
            "grid_template_areas": null,
            "grid_template_columns": null,
            "grid_template_rows": null,
            "height": null,
            "justify_content": null,
            "justify_items": null,
            "left": null,
            "margin": null,
            "max_height": null,
            "max_width": null,
            "min_height": null,
            "min_width": null,
            "object_fit": null,
            "object_position": null,
            "order": null,
            "overflow": null,
            "overflow_x": null,
            "overflow_y": null,
            "padding": null,
            "right": null,
            "top": null,
            "visibility": null,
            "width": null
          }
        },
        "0bb791ece8164d698ac57d160c5b15d9": {
          "model_module": "@jupyter-widgets/controls",
          "model_name": "ProgressStyleModel",
          "model_module_version": "1.5.0",
          "state": {
            "_model_module": "@jupyter-widgets/controls",
            "_model_module_version": "1.5.0",
            "_model_name": "ProgressStyleModel",
            "_view_count": null,
            "_view_module": "@jupyter-widgets/base",
            "_view_module_version": "1.2.0",
            "_view_name": "StyleView",
            "bar_color": null,
            "description_width": ""
          }
        },
        "ce982126877d4966bd102cd2cb2ca6e3": {
          "model_module": "@jupyter-widgets/base",
          "model_name": "LayoutModel",
          "model_module_version": "1.2.0",
          "state": {
            "_model_module": "@jupyter-widgets/base",
            "_model_module_version": "1.2.0",
            "_model_name": "LayoutModel",
            "_view_count": null,
            "_view_module": "@jupyter-widgets/base",
            "_view_module_version": "1.2.0",
            "_view_name": "LayoutView",
            "align_content": null,
            "align_items": null,
            "align_self": null,
            "border": null,
            "bottom": null,
            "display": null,
            "flex": null,
            "flex_flow": null,
            "grid_area": null,
            "grid_auto_columns": null,
            "grid_auto_flow": null,
            "grid_auto_rows": null,
            "grid_column": null,
            "grid_gap": null,
            "grid_row": null,
            "grid_template_areas": null,
            "grid_template_columns": null,
            "grid_template_rows": null,
            "height": null,
            "justify_content": null,
            "justify_items": null,
            "left": null,
            "margin": null,
            "max_height": null,
            "max_width": null,
            "min_height": null,
            "min_width": null,
            "object_fit": null,
            "object_position": null,
            "order": null,
            "overflow": null,
            "overflow_x": null,
            "overflow_y": null,
            "padding": null,
            "right": null,
            "top": null,
            "visibility": null,
            "width": null
          }
        },
        "7414e9f9cdcf4fa680f147576a9eabd8": {
          "model_module": "@jupyter-widgets/controls",
          "model_name": "DescriptionStyleModel",
          "model_module_version": "1.5.0",
          "state": {
            "_model_module": "@jupyter-widgets/controls",
            "_model_module_version": "1.5.0",
            "_model_name": "DescriptionStyleModel",
            "_view_count": null,
            "_view_module": "@jupyter-widgets/base",
            "_view_module_version": "1.2.0",
            "_view_name": "StyleView",
            "description_width": ""
          }
        },
        "c01eb68ab60a4f76b03edcbb4d121294": {
          "model_module": "@jupyter-widgets/controls",
          "model_name": "HBoxModel",
          "model_module_version": "1.5.0",
          "state": {
            "_dom_classes": [],
            "_model_module": "@jupyter-widgets/controls",
            "_model_module_version": "1.5.0",
            "_model_name": "HBoxModel",
            "_view_count": null,
            "_view_module": "@jupyter-widgets/controls",
            "_view_module_version": "1.5.0",
            "_view_name": "HBoxView",
            "box_style": "",
            "children": [
              "IPY_MODEL_fc743075900a43539a5c5fd69c54f4a0",
              "IPY_MODEL_9482f8d62f30447a83ce3ea07d9c119f",
              "IPY_MODEL_feaa4cfeedc546ee98cc5a2ad3af184d"
            ],
            "layout": "IPY_MODEL_e9aa46f7fd024750a07e837160e79127"
          }
        },
        "fc743075900a43539a5c5fd69c54f4a0": {
          "model_module": "@jupyter-widgets/controls",
          "model_name": "HTMLModel",
          "model_module_version": "1.5.0",
          "state": {
            "_dom_classes": [],
            "_model_module": "@jupyter-widgets/controls",
            "_model_module_version": "1.5.0",
            "_model_name": "HTMLModel",
            "_view_count": null,
            "_view_module": "@jupyter-widgets/controls",
            "_view_module_version": "1.5.0",
            "_view_name": "HTMLView",
            "description": "",
            "description_tooltip": null,
            "layout": "IPY_MODEL_8d08615eecf843008f7d0e31e40ecf68",
            "placeholder": "​",
            "style": "IPY_MODEL_856c668f67e247928b439e6fd0dddacb",
            "value": "vocab.txt: 100%"
          }
        },
        "9482f8d62f30447a83ce3ea07d9c119f": {
          "model_module": "@jupyter-widgets/controls",
          "model_name": "FloatProgressModel",
          "model_module_version": "1.5.0",
          "state": {
            "_dom_classes": [],
            "_model_module": "@jupyter-widgets/controls",
            "_model_module_version": "1.5.0",
            "_model_name": "FloatProgressModel",
            "_view_count": null,
            "_view_module": "@jupyter-widgets/controls",
            "_view_module_version": "1.5.0",
            "_view_name": "ProgressView",
            "bar_style": "success",
            "description": "",
            "description_tooltip": null,
            "layout": "IPY_MODEL_9754a92157b942c1b774e826a9838502",
            "max": 231508,
            "min": 0,
            "orientation": "horizontal",
            "style": "IPY_MODEL_5b836ea678134855a72e5c958495b407",
            "value": 231508
          }
        },
        "feaa4cfeedc546ee98cc5a2ad3af184d": {
          "model_module": "@jupyter-widgets/controls",
          "model_name": "HTMLModel",
          "model_module_version": "1.5.0",
          "state": {
            "_dom_classes": [],
            "_model_module": "@jupyter-widgets/controls",
            "_model_module_version": "1.5.0",
            "_model_name": "HTMLModel",
            "_view_count": null,
            "_view_module": "@jupyter-widgets/controls",
            "_view_module_version": "1.5.0",
            "_view_name": "HTMLView",
            "description": "",
            "description_tooltip": null,
            "layout": "IPY_MODEL_2158788eae4946f7befdf668e134bb63",
            "placeholder": "​",
            "style": "IPY_MODEL_e5e1dc8491614a689121fe7a92464fb4",
            "value": " 232k/232k [00:00&lt;00:00, 6.13MB/s]"
          }
        },
        "e9aa46f7fd024750a07e837160e79127": {
          "model_module": "@jupyter-widgets/base",
          "model_name": "LayoutModel",
          "model_module_version": "1.2.0",
          "state": {
            "_model_module": "@jupyter-widgets/base",
            "_model_module_version": "1.2.0",
            "_model_name": "LayoutModel",
            "_view_count": null,
            "_view_module": "@jupyter-widgets/base",
            "_view_module_version": "1.2.0",
            "_view_name": "LayoutView",
            "align_content": null,
            "align_items": null,
            "align_self": null,
            "border": null,
            "bottom": null,
            "display": null,
            "flex": null,
            "flex_flow": null,
            "grid_area": null,
            "grid_auto_columns": null,
            "grid_auto_flow": null,
            "grid_auto_rows": null,
            "grid_column": null,
            "grid_gap": null,
            "grid_row": null,
            "grid_template_areas": null,
            "grid_template_columns": null,
            "grid_template_rows": null,
            "height": null,
            "justify_content": null,
            "justify_items": null,
            "left": null,
            "margin": null,
            "max_height": null,
            "max_width": null,
            "min_height": null,
            "min_width": null,
            "object_fit": null,
            "object_position": null,
            "order": null,
            "overflow": null,
            "overflow_x": null,
            "overflow_y": null,
            "padding": null,
            "right": null,
            "top": null,
            "visibility": null,
            "width": null
          }
        },
        "8d08615eecf843008f7d0e31e40ecf68": {
          "model_module": "@jupyter-widgets/base",
          "model_name": "LayoutModel",
          "model_module_version": "1.2.0",
          "state": {
            "_model_module": "@jupyter-widgets/base",
            "_model_module_version": "1.2.0",
            "_model_name": "LayoutModel",
            "_view_count": null,
            "_view_module": "@jupyter-widgets/base",
            "_view_module_version": "1.2.0",
            "_view_name": "LayoutView",
            "align_content": null,
            "align_items": null,
            "align_self": null,
            "border": null,
            "bottom": null,
            "display": null,
            "flex": null,
            "flex_flow": null,
            "grid_area": null,
            "grid_auto_columns": null,
            "grid_auto_flow": null,
            "grid_auto_rows": null,
            "grid_column": null,
            "grid_gap": null,
            "grid_row": null,
            "grid_template_areas": null,
            "grid_template_columns": null,
            "grid_template_rows": null,
            "height": null,
            "justify_content": null,
            "justify_items": null,
            "left": null,
            "margin": null,
            "max_height": null,
            "max_width": null,
            "min_height": null,
            "min_width": null,
            "object_fit": null,
            "object_position": null,
            "order": null,
            "overflow": null,
            "overflow_x": null,
            "overflow_y": null,
            "padding": null,
            "right": null,
            "top": null,
            "visibility": null,
            "width": null
          }
        },
        "856c668f67e247928b439e6fd0dddacb": {
          "model_module": "@jupyter-widgets/controls",
          "model_name": "DescriptionStyleModel",
          "model_module_version": "1.5.0",
          "state": {
            "_model_module": "@jupyter-widgets/controls",
            "_model_module_version": "1.5.0",
            "_model_name": "DescriptionStyleModel",
            "_view_count": null,
            "_view_module": "@jupyter-widgets/base",
            "_view_module_version": "1.2.0",
            "_view_name": "StyleView",
            "description_width": ""
          }
        },
        "9754a92157b942c1b774e826a9838502": {
          "model_module": "@jupyter-widgets/base",
          "model_name": "LayoutModel",
          "model_module_version": "1.2.0",
          "state": {
            "_model_module": "@jupyter-widgets/base",
            "_model_module_version": "1.2.0",
            "_model_name": "LayoutModel",
            "_view_count": null,
            "_view_module": "@jupyter-widgets/base",
            "_view_module_version": "1.2.0",
            "_view_name": "LayoutView",
            "align_content": null,
            "align_items": null,
            "align_self": null,
            "border": null,
            "bottom": null,
            "display": null,
            "flex": null,
            "flex_flow": null,
            "grid_area": null,
            "grid_auto_columns": null,
            "grid_auto_flow": null,
            "grid_auto_rows": null,
            "grid_column": null,
            "grid_gap": null,
            "grid_row": null,
            "grid_template_areas": null,
            "grid_template_columns": null,
            "grid_template_rows": null,
            "height": null,
            "justify_content": null,
            "justify_items": null,
            "left": null,
            "margin": null,
            "max_height": null,
            "max_width": null,
            "min_height": null,
            "min_width": null,
            "object_fit": null,
            "object_position": null,
            "order": null,
            "overflow": null,
            "overflow_x": null,
            "overflow_y": null,
            "padding": null,
            "right": null,
            "top": null,
            "visibility": null,
            "width": null
          }
        },
        "5b836ea678134855a72e5c958495b407": {
          "model_module": "@jupyter-widgets/controls",
          "model_name": "ProgressStyleModel",
          "model_module_version": "1.5.0",
          "state": {
            "_model_module": "@jupyter-widgets/controls",
            "_model_module_version": "1.5.0",
            "_model_name": "ProgressStyleModel",
            "_view_count": null,
            "_view_module": "@jupyter-widgets/base",
            "_view_module_version": "1.2.0",
            "_view_name": "StyleView",
            "bar_color": null,
            "description_width": ""
          }
        },
        "2158788eae4946f7befdf668e134bb63": {
          "model_module": "@jupyter-widgets/base",
          "model_name": "LayoutModel",
          "model_module_version": "1.2.0",
          "state": {
            "_model_module": "@jupyter-widgets/base",
            "_model_module_version": "1.2.0",
            "_model_name": "LayoutModel",
            "_view_count": null,
            "_view_module": "@jupyter-widgets/base",
            "_view_module_version": "1.2.0",
            "_view_name": "LayoutView",
            "align_content": null,
            "align_items": null,
            "align_self": null,
            "border": null,
            "bottom": null,
            "display": null,
            "flex": null,
            "flex_flow": null,
            "grid_area": null,
            "grid_auto_columns": null,
            "grid_auto_flow": null,
            "grid_auto_rows": null,
            "grid_column": null,
            "grid_gap": null,
            "grid_row": null,
            "grid_template_areas": null,
            "grid_template_columns": null,
            "grid_template_rows": null,
            "height": null,
            "justify_content": null,
            "justify_items": null,
            "left": null,
            "margin": null,
            "max_height": null,
            "max_width": null,
            "min_height": null,
            "min_width": null,
            "object_fit": null,
            "object_position": null,
            "order": null,
            "overflow": null,
            "overflow_x": null,
            "overflow_y": null,
            "padding": null,
            "right": null,
            "top": null,
            "visibility": null,
            "width": null
          }
        },
        "e5e1dc8491614a689121fe7a92464fb4": {
          "model_module": "@jupyter-widgets/controls",
          "model_name": "DescriptionStyleModel",
          "model_module_version": "1.5.0",
          "state": {
            "_model_module": "@jupyter-widgets/controls",
            "_model_module_version": "1.5.0",
            "_model_name": "DescriptionStyleModel",
            "_view_count": null,
            "_view_module": "@jupyter-widgets/base",
            "_view_module_version": "1.2.0",
            "_view_name": "StyleView",
            "description_width": ""
          }
        },
        "1ea3bf388f304783b44031b91169550b": {
          "model_module": "@jupyter-widgets/controls",
          "model_name": "HBoxModel",
          "model_module_version": "1.5.0",
          "state": {
            "_dom_classes": [],
            "_model_module": "@jupyter-widgets/controls",
            "_model_module_version": "1.5.0",
            "_model_name": "HBoxModel",
            "_view_count": null,
            "_view_module": "@jupyter-widgets/controls",
            "_view_module_version": "1.5.0",
            "_view_name": "HBoxView",
            "box_style": "",
            "children": [
              "IPY_MODEL_c8f67d4b7146479cacf63de247796ee0",
              "IPY_MODEL_7bad59322d60454581583d923320f3f9",
              "IPY_MODEL_1d5d043f09744818a7460e8370b5dee6"
            ],
            "layout": "IPY_MODEL_21e65b25bb8742ce976c369064b37a3c"
          }
        },
        "c8f67d4b7146479cacf63de247796ee0": {
          "model_module": "@jupyter-widgets/controls",
          "model_name": "HTMLModel",
          "model_module_version": "1.5.0",
          "state": {
            "_dom_classes": [],
            "_model_module": "@jupyter-widgets/controls",
            "_model_module_version": "1.5.0",
            "_model_name": "HTMLModel",
            "_view_count": null,
            "_view_module": "@jupyter-widgets/controls",
            "_view_module_version": "1.5.0",
            "_view_name": "HTMLView",
            "description": "",
            "description_tooltip": null,
            "layout": "IPY_MODEL_4c8192e3c9664e0ba84d34ca6c8d87e5",
            "placeholder": "​",
            "style": "IPY_MODEL_f0cd5cdbf1794e66b3a358a984ba5e7e",
            "value": "modules.json: 100%"
          }
        },
        "7bad59322d60454581583d923320f3f9": {
          "model_module": "@jupyter-widgets/controls",
          "model_name": "FloatProgressModel",
          "model_module_version": "1.5.0",
          "state": {
            "_dom_classes": [],
            "_model_module": "@jupyter-widgets/controls",
            "_model_module_version": "1.5.0",
            "_model_name": "FloatProgressModel",
            "_view_count": null,
            "_view_module": "@jupyter-widgets/controls",
            "_view_module_version": "1.5.0",
            "_view_name": "ProgressView",
            "bar_style": "success",
            "description": "",
            "description_tooltip": null,
            "layout": "IPY_MODEL_f588896d52d64716ac4e2c535c9cfff6",
            "max": 349,
            "min": 0,
            "orientation": "horizontal",
            "style": "IPY_MODEL_bdafce766d97423ca329cbe2cc09d9dd",
            "value": 349
          }
        },
        "1d5d043f09744818a7460e8370b5dee6": {
          "model_module": "@jupyter-widgets/controls",
          "model_name": "HTMLModel",
          "model_module_version": "1.5.0",
          "state": {
            "_dom_classes": [],
            "_model_module": "@jupyter-widgets/controls",
            "_model_module_version": "1.5.0",
            "_model_name": "HTMLModel",
            "_view_count": null,
            "_view_module": "@jupyter-widgets/controls",
            "_view_module_version": "1.5.0",
            "_view_name": "HTMLView",
            "description": "",
            "description_tooltip": null,
            "layout": "IPY_MODEL_83b4cd008d4d4552bb60a27d8daf0e04",
            "placeholder": "​",
            "style": "IPY_MODEL_d40ba815e666498d8f2470364abaf4b9",
            "value": " 349/349 [00:00&lt;00:00, 12.2kB/s]"
          }
        },
        "21e65b25bb8742ce976c369064b37a3c": {
          "model_module": "@jupyter-widgets/base",
          "model_name": "LayoutModel",
          "model_module_version": "1.2.0",
          "state": {
            "_model_module": "@jupyter-widgets/base",
            "_model_module_version": "1.2.0",
            "_model_name": "LayoutModel",
            "_view_count": null,
            "_view_module": "@jupyter-widgets/base",
            "_view_module_version": "1.2.0",
            "_view_name": "LayoutView",
            "align_content": null,
            "align_items": null,
            "align_self": null,
            "border": null,
            "bottom": null,
            "display": null,
            "flex": null,
            "flex_flow": null,
            "grid_area": null,
            "grid_auto_columns": null,
            "grid_auto_flow": null,
            "grid_auto_rows": null,
            "grid_column": null,
            "grid_gap": null,
            "grid_row": null,
            "grid_template_areas": null,
            "grid_template_columns": null,
            "grid_template_rows": null,
            "height": null,
            "justify_content": null,
            "justify_items": null,
            "left": null,
            "margin": null,
            "max_height": null,
            "max_width": null,
            "min_height": null,
            "min_width": null,
            "object_fit": null,
            "object_position": null,
            "order": null,
            "overflow": null,
            "overflow_x": null,
            "overflow_y": null,
            "padding": null,
            "right": null,
            "top": null,
            "visibility": null,
            "width": null
          }
        },
        "4c8192e3c9664e0ba84d34ca6c8d87e5": {
          "model_module": "@jupyter-widgets/base",
          "model_name": "LayoutModel",
          "model_module_version": "1.2.0",
          "state": {
            "_model_module": "@jupyter-widgets/base",
            "_model_module_version": "1.2.0",
            "_model_name": "LayoutModel",
            "_view_count": null,
            "_view_module": "@jupyter-widgets/base",
            "_view_module_version": "1.2.0",
            "_view_name": "LayoutView",
            "align_content": null,
            "align_items": null,
            "align_self": null,
            "border": null,
            "bottom": null,
            "display": null,
            "flex": null,
            "flex_flow": null,
            "grid_area": null,
            "grid_auto_columns": null,
            "grid_auto_flow": null,
            "grid_auto_rows": null,
            "grid_column": null,
            "grid_gap": null,
            "grid_row": null,
            "grid_template_areas": null,
            "grid_template_columns": null,
            "grid_template_rows": null,
            "height": null,
            "justify_content": null,
            "justify_items": null,
            "left": null,
            "margin": null,
            "max_height": null,
            "max_width": null,
            "min_height": null,
            "min_width": null,
            "object_fit": null,
            "object_position": null,
            "order": null,
            "overflow": null,
            "overflow_x": null,
            "overflow_y": null,
            "padding": null,
            "right": null,
            "top": null,
            "visibility": null,
            "width": null
          }
        },
        "f0cd5cdbf1794e66b3a358a984ba5e7e": {
          "model_module": "@jupyter-widgets/controls",
          "model_name": "DescriptionStyleModel",
          "model_module_version": "1.5.0",
          "state": {
            "_model_module": "@jupyter-widgets/controls",
            "_model_module_version": "1.5.0",
            "_model_name": "DescriptionStyleModel",
            "_view_count": null,
            "_view_module": "@jupyter-widgets/base",
            "_view_module_version": "1.2.0",
            "_view_name": "StyleView",
            "description_width": ""
          }
        },
        "f588896d52d64716ac4e2c535c9cfff6": {
          "model_module": "@jupyter-widgets/base",
          "model_name": "LayoutModel",
          "model_module_version": "1.2.0",
          "state": {
            "_model_module": "@jupyter-widgets/base",
            "_model_module_version": "1.2.0",
            "_model_name": "LayoutModel",
            "_view_count": null,
            "_view_module": "@jupyter-widgets/base",
            "_view_module_version": "1.2.0",
            "_view_name": "LayoutView",
            "align_content": null,
            "align_items": null,
            "align_self": null,
            "border": null,
            "bottom": null,
            "display": null,
            "flex": null,
            "flex_flow": null,
            "grid_area": null,
            "grid_auto_columns": null,
            "grid_auto_flow": null,
            "grid_auto_rows": null,
            "grid_column": null,
            "grid_gap": null,
            "grid_row": null,
            "grid_template_areas": null,
            "grid_template_columns": null,
            "grid_template_rows": null,
            "height": null,
            "justify_content": null,
            "justify_items": null,
            "left": null,
            "margin": null,
            "max_height": null,
            "max_width": null,
            "min_height": null,
            "min_width": null,
            "object_fit": null,
            "object_position": null,
            "order": null,
            "overflow": null,
            "overflow_x": null,
            "overflow_y": null,
            "padding": null,
            "right": null,
            "top": null,
            "visibility": null,
            "width": null
          }
        },
        "bdafce766d97423ca329cbe2cc09d9dd": {
          "model_module": "@jupyter-widgets/controls",
          "model_name": "ProgressStyleModel",
          "model_module_version": "1.5.0",
          "state": {
            "_model_module": "@jupyter-widgets/controls",
            "_model_module_version": "1.5.0",
            "_model_name": "ProgressStyleModel",
            "_view_count": null,
            "_view_module": "@jupyter-widgets/base",
            "_view_module_version": "1.2.0",
            "_view_name": "StyleView",
            "bar_color": null,
            "description_width": ""
          }
        },
        "83b4cd008d4d4552bb60a27d8daf0e04": {
          "model_module": "@jupyter-widgets/base",
          "model_name": "LayoutModel",
          "model_module_version": "1.2.0",
          "state": {
            "_model_module": "@jupyter-widgets/base",
            "_model_module_version": "1.2.0",
            "_model_name": "LayoutModel",
            "_view_count": null,
            "_view_module": "@jupyter-widgets/base",
            "_view_module_version": "1.2.0",
            "_view_name": "LayoutView",
            "align_content": null,
            "align_items": null,
            "align_self": null,
            "border": null,
            "bottom": null,
            "display": null,
            "flex": null,
            "flex_flow": null,
            "grid_area": null,
            "grid_auto_columns": null,
            "grid_auto_flow": null,
            "grid_auto_rows": null,
            "grid_column": null,
            "grid_gap": null,
            "grid_row": null,
            "grid_template_areas": null,
            "grid_template_columns": null,
            "grid_template_rows": null,
            "height": null,
            "justify_content": null,
            "justify_items": null,
            "left": null,
            "margin": null,
            "max_height": null,
            "max_width": null,
            "min_height": null,
            "min_width": null,
            "object_fit": null,
            "object_position": null,
            "order": null,
            "overflow": null,
            "overflow_x": null,
            "overflow_y": null,
            "padding": null,
            "right": null,
            "top": null,
            "visibility": null,
            "width": null
          }
        },
        "d40ba815e666498d8f2470364abaf4b9": {
          "model_module": "@jupyter-widgets/controls",
          "model_name": "DescriptionStyleModel",
          "model_module_version": "1.5.0",
          "state": {
            "_model_module": "@jupyter-widgets/controls",
            "_model_module_version": "1.5.0",
            "_model_name": "DescriptionStyleModel",
            "_view_count": null,
            "_view_module": "@jupyter-widgets/base",
            "_view_module_version": "1.2.0",
            "_view_name": "StyleView",
            "description_width": ""
          }
        }
      }
    }
  },
  "nbformat": 4,
  "nbformat_minor": 0
}